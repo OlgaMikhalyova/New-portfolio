{
 "cells": [
  {
   "cell_type": "markdown",
   "metadata": {},
   "source": [
    "<h1>Содержание<span class=\"tocSkip\"></span></h1>\n",
    "</a></span><li><span><a  href=\"#Изучение данных из файла\" data-toc-modified-id=\"Изучение данных из файла\"><span class=\"toc-item-num\">1&nbsp;&nbsp;</span>Изучение данных из файла</a></span><li><span><a href=\"#Предобработка-данных\" data-toc-modified-id=\"Предобработка-данных-2\"><span class=\"toc-item-num\">2&nbsp;&nbsp;</span>Предобработка данных</a></span></li><li><span><a href=\"#Исследовательский анализ данных\" data-toc-modified-id=\"Исследовательский анализ данных\"><span class=\"toc-item-num\">3&nbsp;&nbsp;</span>Исследовательский анализ данных</a></span></li><li><span><a href=\"#Исследовательский анализ данных\" data-toc-modified-id=\"Составление портрета пользователя каждого региона-4\"><span class=\"toc-item-num\">4&nbsp;&nbsp;</span>Составление портрета пользователя каждого региона</a></span></li><li><span><a href=\"#Проверка гипотезы\" data-toc-modified-id=\"Проверка гипотезы-5\"><span class=\"toc-item-num\">5&nbsp;&nbsp;</span>Проверка гипотезы</a></span></li><li><span><a href=\"#Общий вывод\" data-toc-modified-id=\"Общий вывод-6\"><span class=\"toc-item-num\">6&nbsp;&nbsp;</span>Общий вывод</a></span></li></ul></div>"
   ]
  },
  {
   "cell_type": "markdown",
   "metadata": {},
   "source": [
    "Представлены данные магазина «Стримчик», который который занимается продажей компьютерных игр. Предоставленный датасет содержит информацию о продаже игр, оценки пользователей, жанры и платформы. Необходимы выяснить, какие новые продукты будут успешными. Информация необходиму менеджерам для планированяи бюджета, выделенного на рекламу."
   ]
  },
  {
   "cell_type": "markdown",
   "metadata": {},
   "source": [
    "## Изучение данных из файла"
   ]
  },
  {
   "cell_type": "code",
   "execution_count": 1,
   "metadata": {},
   "outputs": [],
   "source": [
    "# импортировала необходимые библиотеки:\n",
    " \n",
    "import pandas as pd\n",
    "import numpy as np\n",
    "import scipy.stats as st\n",
    "import matplotlib.pyplot as plt\n",
    "from datetime import datetime\n",
    "import seaborn as sns"
   ]
  },
  {
   "cell_type": "code",
   "execution_count": 2,
   "metadata": {},
   "outputs": [
    {
     "data": {
      "text/html": [
       "<div>\n",
       "<style scoped>\n",
       "    .dataframe tbody tr th:only-of-type {\n",
       "        vertical-align: middle;\n",
       "    }\n",
       "\n",
       "    .dataframe tbody tr th {\n",
       "        vertical-align: top;\n",
       "    }\n",
       "\n",
       "    .dataframe thead th {\n",
       "        text-align: right;\n",
       "    }\n",
       "</style>\n",
       "<table border=\"1\" class=\"dataframe\">\n",
       "  <thead>\n",
       "    <tr style=\"text-align: right;\">\n",
       "      <th></th>\n",
       "      <th>Name</th>\n",
       "      <th>Platform</th>\n",
       "      <th>Year_of_Release</th>\n",
       "      <th>Genre</th>\n",
       "      <th>NA_sales</th>\n",
       "      <th>EU_sales</th>\n",
       "      <th>JP_sales</th>\n",
       "      <th>Other_sales</th>\n",
       "      <th>Critic_Score</th>\n",
       "      <th>User_Score</th>\n",
       "      <th>Rating</th>\n",
       "    </tr>\n",
       "  </thead>\n",
       "  <tbody>\n",
       "    <tr>\n",
       "      <th>0</th>\n",
       "      <td>Wii Sports</td>\n",
       "      <td>Wii</td>\n",
       "      <td>2006.0</td>\n",
       "      <td>Sports</td>\n",
       "      <td>41.36</td>\n",
       "      <td>28.96</td>\n",
       "      <td>3.77</td>\n",
       "      <td>8.45</td>\n",
       "      <td>76.0</td>\n",
       "      <td>8</td>\n",
       "      <td>E</td>\n",
       "    </tr>\n",
       "    <tr>\n",
       "      <th>1</th>\n",
       "      <td>Super Mario Bros.</td>\n",
       "      <td>NES</td>\n",
       "      <td>1985.0</td>\n",
       "      <td>Platform</td>\n",
       "      <td>29.08</td>\n",
       "      <td>3.58</td>\n",
       "      <td>6.81</td>\n",
       "      <td>0.77</td>\n",
       "      <td>NaN</td>\n",
       "      <td>NaN</td>\n",
       "      <td>NaN</td>\n",
       "    </tr>\n",
       "    <tr>\n",
       "      <th>2</th>\n",
       "      <td>Mario Kart Wii</td>\n",
       "      <td>Wii</td>\n",
       "      <td>2008.0</td>\n",
       "      <td>Racing</td>\n",
       "      <td>15.68</td>\n",
       "      <td>12.76</td>\n",
       "      <td>3.79</td>\n",
       "      <td>3.29</td>\n",
       "      <td>82.0</td>\n",
       "      <td>8.3</td>\n",
       "      <td>E</td>\n",
       "    </tr>\n",
       "    <tr>\n",
       "      <th>3</th>\n",
       "      <td>Wii Sports Resort</td>\n",
       "      <td>Wii</td>\n",
       "      <td>2009.0</td>\n",
       "      <td>Sports</td>\n",
       "      <td>15.61</td>\n",
       "      <td>10.93</td>\n",
       "      <td>3.28</td>\n",
       "      <td>2.95</td>\n",
       "      <td>80.0</td>\n",
       "      <td>8</td>\n",
       "      <td>E</td>\n",
       "    </tr>\n",
       "    <tr>\n",
       "      <th>4</th>\n",
       "      <td>Pokemon Red/Pokemon Blue</td>\n",
       "      <td>GB</td>\n",
       "      <td>1996.0</td>\n",
       "      <td>Role-Playing</td>\n",
       "      <td>11.27</td>\n",
       "      <td>8.89</td>\n",
       "      <td>10.22</td>\n",
       "      <td>1.00</td>\n",
       "      <td>NaN</td>\n",
       "      <td>NaN</td>\n",
       "      <td>NaN</td>\n",
       "    </tr>\n",
       "    <tr>\n",
       "      <th>5</th>\n",
       "      <td>Tetris</td>\n",
       "      <td>GB</td>\n",
       "      <td>1989.0</td>\n",
       "      <td>Puzzle</td>\n",
       "      <td>23.20</td>\n",
       "      <td>2.26</td>\n",
       "      <td>4.22</td>\n",
       "      <td>0.58</td>\n",
       "      <td>NaN</td>\n",
       "      <td>NaN</td>\n",
       "      <td>NaN</td>\n",
       "    </tr>\n",
       "    <tr>\n",
       "      <th>6</th>\n",
       "      <td>New Super Mario Bros.</td>\n",
       "      <td>DS</td>\n",
       "      <td>2006.0</td>\n",
       "      <td>Platform</td>\n",
       "      <td>11.28</td>\n",
       "      <td>9.14</td>\n",
       "      <td>6.50</td>\n",
       "      <td>2.88</td>\n",
       "      <td>89.0</td>\n",
       "      <td>8.5</td>\n",
       "      <td>E</td>\n",
       "    </tr>\n",
       "    <tr>\n",
       "      <th>7</th>\n",
       "      <td>Wii Play</td>\n",
       "      <td>Wii</td>\n",
       "      <td>2006.0</td>\n",
       "      <td>Misc</td>\n",
       "      <td>13.96</td>\n",
       "      <td>9.18</td>\n",
       "      <td>2.93</td>\n",
       "      <td>2.84</td>\n",
       "      <td>58.0</td>\n",
       "      <td>6.6</td>\n",
       "      <td>E</td>\n",
       "    </tr>\n",
       "    <tr>\n",
       "      <th>8</th>\n",
       "      <td>New Super Mario Bros. Wii</td>\n",
       "      <td>Wii</td>\n",
       "      <td>2009.0</td>\n",
       "      <td>Platform</td>\n",
       "      <td>14.44</td>\n",
       "      <td>6.94</td>\n",
       "      <td>4.70</td>\n",
       "      <td>2.24</td>\n",
       "      <td>87.0</td>\n",
       "      <td>8.4</td>\n",
       "      <td>E</td>\n",
       "    </tr>\n",
       "    <tr>\n",
       "      <th>9</th>\n",
       "      <td>Duck Hunt</td>\n",
       "      <td>NES</td>\n",
       "      <td>1984.0</td>\n",
       "      <td>Shooter</td>\n",
       "      <td>26.93</td>\n",
       "      <td>0.63</td>\n",
       "      <td>0.28</td>\n",
       "      <td>0.47</td>\n",
       "      <td>NaN</td>\n",
       "      <td>NaN</td>\n",
       "      <td>NaN</td>\n",
       "    </tr>\n",
       "    <tr>\n",
       "      <th>10</th>\n",
       "      <td>Nintendogs</td>\n",
       "      <td>DS</td>\n",
       "      <td>2005.0</td>\n",
       "      <td>Simulation</td>\n",
       "      <td>9.05</td>\n",
       "      <td>10.95</td>\n",
       "      <td>1.93</td>\n",
       "      <td>2.74</td>\n",
       "      <td>NaN</td>\n",
       "      <td>NaN</td>\n",
       "      <td>NaN</td>\n",
       "    </tr>\n",
       "    <tr>\n",
       "      <th>11</th>\n",
       "      <td>Mario Kart DS</td>\n",
       "      <td>DS</td>\n",
       "      <td>2005.0</td>\n",
       "      <td>Racing</td>\n",
       "      <td>9.71</td>\n",
       "      <td>7.47</td>\n",
       "      <td>4.13</td>\n",
       "      <td>1.90</td>\n",
       "      <td>91.0</td>\n",
       "      <td>8.6</td>\n",
       "      <td>E</td>\n",
       "    </tr>\n",
       "    <tr>\n",
       "      <th>12</th>\n",
       "      <td>Pokemon Gold/Pokemon Silver</td>\n",
       "      <td>GB</td>\n",
       "      <td>1999.0</td>\n",
       "      <td>Role-Playing</td>\n",
       "      <td>9.00</td>\n",
       "      <td>6.18</td>\n",
       "      <td>7.20</td>\n",
       "      <td>0.71</td>\n",
       "      <td>NaN</td>\n",
       "      <td>NaN</td>\n",
       "      <td>NaN</td>\n",
       "    </tr>\n",
       "    <tr>\n",
       "      <th>13</th>\n",
       "      <td>Wii Fit</td>\n",
       "      <td>Wii</td>\n",
       "      <td>2007.0</td>\n",
       "      <td>Sports</td>\n",
       "      <td>8.92</td>\n",
       "      <td>8.03</td>\n",
       "      <td>3.60</td>\n",
       "      <td>2.15</td>\n",
       "      <td>80.0</td>\n",
       "      <td>7.7</td>\n",
       "      <td>E</td>\n",
       "    </tr>\n",
       "    <tr>\n",
       "      <th>14</th>\n",
       "      <td>Kinect Adventures!</td>\n",
       "      <td>X360</td>\n",
       "      <td>2010.0</td>\n",
       "      <td>Misc</td>\n",
       "      <td>15.00</td>\n",
       "      <td>4.89</td>\n",
       "      <td>0.24</td>\n",
       "      <td>1.69</td>\n",
       "      <td>61.0</td>\n",
       "      <td>6.3</td>\n",
       "      <td>E</td>\n",
       "    </tr>\n",
       "  </tbody>\n",
       "</table>\n",
       "</div>"
      ],
      "text/plain": [
       "                           Name Platform  Year_of_Release         Genre  \\\n",
       "0                    Wii Sports      Wii           2006.0        Sports   \n",
       "1             Super Mario Bros.      NES           1985.0      Platform   \n",
       "2                Mario Kart Wii      Wii           2008.0        Racing   \n",
       "3             Wii Sports Resort      Wii           2009.0        Sports   \n",
       "4      Pokemon Red/Pokemon Blue       GB           1996.0  Role-Playing   \n",
       "5                        Tetris       GB           1989.0        Puzzle   \n",
       "6         New Super Mario Bros.       DS           2006.0      Platform   \n",
       "7                      Wii Play      Wii           2006.0          Misc   \n",
       "8     New Super Mario Bros. Wii      Wii           2009.0      Platform   \n",
       "9                     Duck Hunt      NES           1984.0       Shooter   \n",
       "10                   Nintendogs       DS           2005.0    Simulation   \n",
       "11                Mario Kart DS       DS           2005.0        Racing   \n",
       "12  Pokemon Gold/Pokemon Silver       GB           1999.0  Role-Playing   \n",
       "13                      Wii Fit      Wii           2007.0        Sports   \n",
       "14           Kinect Adventures!     X360           2010.0          Misc   \n",
       "\n",
       "    NA_sales  EU_sales  JP_sales  Other_sales  Critic_Score User_Score Rating  \n",
       "0      41.36     28.96      3.77         8.45          76.0          8      E  \n",
       "1      29.08      3.58      6.81         0.77           NaN        NaN    NaN  \n",
       "2      15.68     12.76      3.79         3.29          82.0        8.3      E  \n",
       "3      15.61     10.93      3.28         2.95          80.0          8      E  \n",
       "4      11.27      8.89     10.22         1.00           NaN        NaN    NaN  \n",
       "5      23.20      2.26      4.22         0.58           NaN        NaN    NaN  \n",
       "6      11.28      9.14      6.50         2.88          89.0        8.5      E  \n",
       "7      13.96      9.18      2.93         2.84          58.0        6.6      E  \n",
       "8      14.44      6.94      4.70         2.24          87.0        8.4      E  \n",
       "9      26.93      0.63      0.28         0.47           NaN        NaN    NaN  \n",
       "10      9.05     10.95      1.93         2.74           NaN        NaN    NaN  \n",
       "11      9.71      7.47      4.13         1.90          91.0        8.6      E  \n",
       "12      9.00      6.18      7.20         0.71           NaN        NaN    NaN  \n",
       "13      8.92      8.03      3.60         2.15          80.0        7.7      E  \n",
       "14     15.00      4.89      0.24         1.69          61.0        6.3      E  "
      ]
     },
     "metadata": {},
     "output_type": "display_data"
    },
    {
     "name": "stdout",
     "output_type": "stream",
     "text": [
      "<class 'pandas.core.frame.DataFrame'>\n",
      "RangeIndex: 16715 entries, 0 to 16714\n",
      "Data columns (total 11 columns):\n",
      " #   Column           Non-Null Count  Dtype  \n",
      "---  ------           --------------  -----  \n",
      " 0   Name             16713 non-null  object \n",
      " 1   Platform         16715 non-null  object \n",
      " 2   Year_of_Release  16446 non-null  float64\n",
      " 3   Genre            16713 non-null  object \n",
      " 4   NA_sales         16715 non-null  float64\n",
      " 5   EU_sales         16715 non-null  float64\n",
      " 6   JP_sales         16715 non-null  float64\n",
      " 7   Other_sales      16715 non-null  float64\n",
      " 8   Critic_Score     8137 non-null   float64\n",
      " 9   User_Score       10014 non-null  object \n",
      " 10  Rating           9949 non-null   object \n",
      "dtypes: float64(6), object(5)\n",
      "memory usage: 1.4+ MB\n"
     ]
    }
   ],
   "source": [
    "table_game = pd.read_csv('/datasets/games.csv') # прочитала файл /datasets/games.csv и сохранила его в переменной table_game\n",
    "display(table_game.head(15)) # вывела на экран первые пятнадцать строк таблицы\n",
    "table_game.info() # получила общую информацию о таблице"
   ]
  },
  {
   "cell_type": "markdown",
   "metadata": {},
   "source": [
    "# Описание данных\n",
    "- Name — название игры\n",
    "- Platform — платформа\n",
    "- Year_of_Release — год выпуска\n",
    "- Genre — жанр игры\n",
    "- NA_sales — продажи в Северной Америке (миллионы проданных копий)\n",
    "- EU_sales — продажи в Европе (миллионы проданных копий)\n",
    "- JP_sales — продажи в Японии (миллионы проданных копий)\n",
    "- Other_sales — продажи в других странах (миллионы проданных копий)\n",
    "- Critic_Score — оценка критиков (максимум 100)\n",
    "- User_Score — оценка пользователей (максимум 10)\n",
    "- Rating — рейтинг от организации ESRB (англ. Entertainment Software Rating Board). Эта ассоциация определяет рейтинг компьютерных игр и присваивает им подходящую возрастную категорию."
   ]
  },
  {
   "cell_type": "markdown",
   "metadata": {},
   "source": [
    "В таблице одинадцать столбцов. Встречаются несколько типов данных в столбцах — object и float. Всего 16715 строк, во многих столбцах стречаются пропуски, для дальнейшей работы требуется предобработка даннных. \n",
    "\n",
    "1) В сольбце Name 16713 строк, встречаются пропуски, в виду малого количества пропусков и невозможности их заменить - пропуски можно удалить.\n",
    "2) В столбце Year_of_Release 16446, встречаются пропуски, их немного - 1,6 % от общего массива данных, поэтому также можно удалить, также необходимо изменить формат данных.\n",
    "3) В столбце Genre 16713 строк, встречаются пропуски, их также немного, заменить их нет возможности, поэтому удаляем.\n",
    "4) В столбцах Critic_Score, User_Score и Rating большая часть данных - это пропуски, удалить их нельзя, так как будет потеряна вся информация, заменить их на среднее или на 0 некорректо, так как это исказит данные, поэтому эти значения оставляем без изменений.\n",
    "\n",
    "Все столбцы необходимо переименовать, привести названия к нижнему регистру."
   ]
  },
  {
   "cell_type": "markdown",
   "metadata": {},
   "source": [
    "## Предобработка данных"
   ]
  },
  {
   "cell_type": "code",
   "execution_count": 3,
   "metadata": {},
   "outputs": [
    {
     "data": {
      "text/plain": [
       "0"
      ]
     },
     "execution_count": 3,
     "metadata": {},
     "output_type": "execute_result"
    }
   ],
   "source": [
    "#проверяем таблицу на наличие дубликатов\n",
    "\n",
    "table_game.duplicated().sum()"
   ]
  },
  {
   "cell_type": "code",
   "execution_count": 4,
   "metadata": {},
   "outputs": [],
   "source": [
    "# значения в столбцах таблицы table_game приведены к нижнему регистру\n",
    "\n",
    "table_game.columns = table_game.columns.str.lower()\n"
   ]
  },
  {
   "cell_type": "code",
   "execution_count": 5,
   "metadata": {},
   "outputs": [],
   "source": [
    "# удалены пропуски в столбцах name, year_of_release, genre\n",
    "\n",
    "table_game.dropna(subset=['name', 'genre', 'year_of_release'], inplace=True)"
   ]
  },
  {
   "cell_type": "markdown",
   "metadata": {},
   "source": [
    "В столбцах Critic_Score, User_Score и Rating большая часть данных - это пропуски, удалить их нельзя, так как будет потеряна вся информация, заменить их на среднее или на 0 некорректо, так как это исказит данные, поэтому эти значения оставляем без изменений.Количество пропусков в столбцах name, year_of_release, genre не превышает 1,6 %, заменить данные нет возможности, удаление этих пропусков не повлияет на дальнейшие расчеты.\n",
    "\n",
    "Причин появления пропусков может быть несколько - либо отсуствие инфомрации(оценка критиком могла быть просто не проставлена), какой-либо технический сбой ( можно сообщить о проблеме заказчику, что автосистема не всегда корректно определяет информацию) или человеческий фактов (при заполнении данные были пропущены). По аналогичным причинам пропуски могли появиться в столбцах 'name', 'genre', 'year_of_release'."
   ]
  },
  {
   "cell_type": "code",
   "execution_count": 6,
   "metadata": {},
   "outputs": [],
   "source": [
    "# изменила тип данных в столбце year_of_release\n",
    "\n",
    "table_game['year_of_release'] = table_game['year_of_release'].astype(int)"
   ]
  },
  {
   "cell_type": "markdown",
   "metadata": {},
   "source": [
    "Год выпуска - это целочисленное значение, поэтому меняю формат данных. В остальных столбцах оставляем тип данных float, так как продажи, оценки и рейтинги могут быть не целочисленными значениями."
   ]
  },
  {
   "cell_type": "code",
   "execution_count": 7,
   "metadata": {},
   "outputs": [
    {
     "data": {
      "text/plain": [
       "array([76., nan, 82., 80., 89., 58., 87., 91., 61., 97., 95., 77., 88.,\n",
       "       83., 94., 93., 85., 86., 98., 96., 90., 84., 73., 74., 78., 92.,\n",
       "       71., 72., 68., 62., 49., 67., 81., 66., 56., 79., 70., 59., 64.,\n",
       "       75., 60., 63., 69., 50., 25., 42., 44., 55., 48., 57., 29., 47.,\n",
       "       65., 54., 20., 53., 37., 38., 33., 52., 30., 32., 43., 45., 51.,\n",
       "       40., 46., 39., 34., 41., 36., 31., 27., 35., 26., 19., 28., 23.,\n",
       "       24., 21., 17., 13.])"
      ]
     },
     "execution_count": 7,
     "metadata": {},
     "output_type": "execute_result"
    }
   ],
   "source": [
    "table_game['critic_score'].unique() # проверяем уникальные значения в столбце critic_score"
   ]
  },
  {
   "cell_type": "markdown",
   "metadata": {},
   "source": [
    "Аномальных значений в столбце critic_score не выявлено."
   ]
  },
  {
   "cell_type": "code",
   "execution_count": 8,
   "metadata": {},
   "outputs": [
    {
     "data": {
      "text/plain": [
       "array(['8', nan, '8.3', '8.5', '6.6', '8.4', '8.6', '7.7', '6.3', '7.4',\n",
       "       '8.2', '9', '7.9', '8.1', '8.7', '7.1', '3.4', '5.3', '4.8', '3.2',\n",
       "       '8.9', '6.4', '7.8', '7.5', '2.6', '7.2', '9.2', '7', '7.3', '4.3',\n",
       "       '7.6', '5.7', '5', '9.1', '6.5', 'tbd', '8.8', '6.9', '9.4', '6.8',\n",
       "       '6.1', '6.7', '5.4', '4', '4.9', '4.5', '9.3', '6.2', '4.2', '6',\n",
       "       '3.7', '4.1', '5.8', '5.6', '5.5', '4.4', '4.6', '5.9', '3.9',\n",
       "       '3.1', '2.9', '5.2', '3.3', '4.7', '5.1', '3.5', '2.5', '1.9', '3',\n",
       "       '2.7', '2.2', '2', '9.5', '2.1', '3.6', '2.8', '1.8', '3.8', '0',\n",
       "       '1.6', '9.6', '2.4', '1.7', '1.1', '0.3', '1.5', '0.7', '1.2',\n",
       "       '2.3', '0.5', '1.3', '0.2', '0.6', '1.4', '0.9', '1', '9.7'],\n",
       "      dtype=object)"
      ]
     },
     "execution_count": 8,
     "metadata": {},
     "output_type": "execute_result"
    }
   ],
   "source": [
    "table_game['user_score'].unique() # проверяем уникальные значения в столбце user_score"
   ]
  },
  {
   "cell_type": "markdown",
   "metadata": {},
   "source": [
    "В столбце user_score выялано артефактное значение - 'tbd'. TBD - аббревиатура от английского To Be Determined (будет определено) или To Be Decided (будет решено). Используется, если какая-то информация еще не определена или решение по вопросу не принято. Данные из этого столбца понадобятся для дальнейшей работы, поэтому заменяем значение на 0 и изменяем тип данных на float."
   ]
  },
  {
   "cell_type": "code",
   "execution_count": 9,
   "metadata": {},
   "outputs": [],
   "source": [
    "# заменяем значение tbd на 0\n",
    "\n",
    "table_game = table_game.replace('tbd', '0')\n",
    "table_game['user_score'] = table_game['user_score'].astype('float')\n"
   ]
  },
  {
   "cell_type": "code",
   "execution_count": 10,
   "metadata": {},
   "outputs": [
    {
     "data": {
      "text/plain": [
       "array([8. , nan, 8.3, 8.5, 6.6, 8.4, 8.6, 7.7, 6.3, 7.4, 8.2, 9. , 7.9,\n",
       "       8.1, 8.7, 7.1, 3.4, 5.3, 4.8, 3.2, 8.9, 6.4, 7.8, 7.5, 2.6, 7.2,\n",
       "       9.2, 7. , 7.3, 4.3, 7.6, 5.7, 5. , 9.1, 6.5, 0. , 8.8, 6.9, 9.4,\n",
       "       6.8, 6.1, 6.7, 5.4, 4. , 4.9, 4.5, 9.3, 6.2, 4.2, 6. , 3.7, 4.1,\n",
       "       5.8, 5.6, 5.5, 4.4, 4.6, 5.9, 3.9, 3.1, 2.9, 5.2, 3.3, 4.7, 5.1,\n",
       "       3.5, 2.5, 1.9, 3. , 2.7, 2.2, 2. , 9.5, 2.1, 3.6, 2.8, 1.8, 3.8,\n",
       "       1.6, 9.6, 2.4, 1.7, 1.1, 0.3, 1.5, 0.7, 1.2, 2.3, 0.5, 1.3, 0.2,\n",
       "       0.6, 1.4, 0.9, 1. , 9.7])"
      ]
     },
     "execution_count": 10,
     "metadata": {},
     "output_type": "execute_result"
    }
   ],
   "source": [
    "# проверяем полученные данные\n",
    "table_game['user_score'].unique() # проверяем уникальные значения в столбце user_score"
   ]
  },
  {
   "cell_type": "code",
   "execution_count": 11,
   "metadata": {},
   "outputs": [
    {
     "data": {
      "text/html": [
       "<div>\n",
       "<style scoped>\n",
       "    .dataframe tbody tr th:only-of-type {\n",
       "        vertical-align: middle;\n",
       "    }\n",
       "\n",
       "    .dataframe tbody tr th {\n",
       "        vertical-align: top;\n",
       "    }\n",
       "\n",
       "    .dataframe thead th {\n",
       "        text-align: right;\n",
       "    }\n",
       "</style>\n",
       "<table border=\"1\" class=\"dataframe\">\n",
       "  <thead>\n",
       "    <tr style=\"text-align: right;\">\n",
       "      <th></th>\n",
       "      <th>name</th>\n",
       "      <th>platform</th>\n",
       "      <th>year_of_release</th>\n",
       "      <th>genre</th>\n",
       "      <th>na_sales</th>\n",
       "      <th>eu_sales</th>\n",
       "      <th>jp_sales</th>\n",
       "      <th>other_sales</th>\n",
       "      <th>critic_score</th>\n",
       "      <th>user_score</th>\n",
       "      <th>rating</th>\n",
       "      <th>general_sales</th>\n",
       "    </tr>\n",
       "  </thead>\n",
       "  <tbody>\n",
       "    <tr>\n",
       "      <th>0</th>\n",
       "      <td>Wii Sports</td>\n",
       "      <td>Wii</td>\n",
       "      <td>2006</td>\n",
       "      <td>Sports</td>\n",
       "      <td>41.36</td>\n",
       "      <td>28.96</td>\n",
       "      <td>3.77</td>\n",
       "      <td>8.45</td>\n",
       "      <td>76.0</td>\n",
       "      <td>8.0</td>\n",
       "      <td>E</td>\n",
       "      <td>82.54</td>\n",
       "    </tr>\n",
       "    <tr>\n",
       "      <th>1</th>\n",
       "      <td>Super Mario Bros.</td>\n",
       "      <td>NES</td>\n",
       "      <td>1985</td>\n",
       "      <td>Platform</td>\n",
       "      <td>29.08</td>\n",
       "      <td>3.58</td>\n",
       "      <td>6.81</td>\n",
       "      <td>0.77</td>\n",
       "      <td>NaN</td>\n",
       "      <td>NaN</td>\n",
       "      <td>NaN</td>\n",
       "      <td>40.24</td>\n",
       "    </tr>\n",
       "    <tr>\n",
       "      <th>2</th>\n",
       "      <td>Mario Kart Wii</td>\n",
       "      <td>Wii</td>\n",
       "      <td>2008</td>\n",
       "      <td>Racing</td>\n",
       "      <td>15.68</td>\n",
       "      <td>12.76</td>\n",
       "      <td>3.79</td>\n",
       "      <td>3.29</td>\n",
       "      <td>82.0</td>\n",
       "      <td>8.3</td>\n",
       "      <td>E</td>\n",
       "      <td>35.52</td>\n",
       "    </tr>\n",
       "    <tr>\n",
       "      <th>3</th>\n",
       "      <td>Wii Sports Resort</td>\n",
       "      <td>Wii</td>\n",
       "      <td>2009</td>\n",
       "      <td>Sports</td>\n",
       "      <td>15.61</td>\n",
       "      <td>10.93</td>\n",
       "      <td>3.28</td>\n",
       "      <td>2.95</td>\n",
       "      <td>80.0</td>\n",
       "      <td>8.0</td>\n",
       "      <td>E</td>\n",
       "      <td>32.77</td>\n",
       "    </tr>\n",
       "    <tr>\n",
       "      <th>4</th>\n",
       "      <td>Pokemon Red/Pokemon Blue</td>\n",
       "      <td>GB</td>\n",
       "      <td>1996</td>\n",
       "      <td>Role-Playing</td>\n",
       "      <td>11.27</td>\n",
       "      <td>8.89</td>\n",
       "      <td>10.22</td>\n",
       "      <td>1.00</td>\n",
       "      <td>NaN</td>\n",
       "      <td>NaN</td>\n",
       "      <td>NaN</td>\n",
       "      <td>31.38</td>\n",
       "    </tr>\n",
       "  </tbody>\n",
       "</table>\n",
       "</div>"
      ],
      "text/plain": [
       "                       name platform  year_of_release         genre  na_sales  \\\n",
       "0                Wii Sports      Wii             2006        Sports     41.36   \n",
       "1         Super Mario Bros.      NES             1985      Platform     29.08   \n",
       "2            Mario Kart Wii      Wii             2008        Racing     15.68   \n",
       "3         Wii Sports Resort      Wii             2009        Sports     15.61   \n",
       "4  Pokemon Red/Pokemon Blue       GB             1996  Role-Playing     11.27   \n",
       "\n",
       "   eu_sales  jp_sales  other_sales  critic_score  user_score rating  \\\n",
       "0     28.96      3.77         8.45          76.0         8.0      E   \n",
       "1      3.58      6.81         0.77           NaN         NaN    NaN   \n",
       "2     12.76      3.79         3.29          82.0         8.3      E   \n",
       "3     10.93      3.28         2.95          80.0         8.0      E   \n",
       "4      8.89     10.22         1.00           NaN         NaN    NaN   \n",
       "\n",
       "   general_sales  \n",
       "0          82.54  \n",
       "1          40.24  \n",
       "2          35.52  \n",
       "3          32.77  \n",
       "4          31.38  "
      ]
     },
     "metadata": {},
     "output_type": "display_data"
    }
   ],
   "source": [
    "# Считаем суммарные продажи во всех регионах и создаем отдельный столбец\n",
    "\n",
    "table_game['general_sales'] = table_game['na_sales'] + table_game['eu_sales'] + table_game['other_sales'] + table_game['jp_sales']\n",
    "display(table_game.head())"
   ]
  },
  {
   "cell_type": "code",
   "execution_count": 12,
   "metadata": {},
   "outputs": [
    {
     "name": "stdout",
     "output_type": "stream",
     "text": [
      "<class 'pandas.core.frame.DataFrame'>\n",
      "Int64Index: 16444 entries, 0 to 16714\n",
      "Data columns (total 12 columns):\n",
      " #   Column           Non-Null Count  Dtype  \n",
      "---  ------           --------------  -----  \n",
      " 0   name             16444 non-null  object \n",
      " 1   platform         16444 non-null  object \n",
      " 2   year_of_release  16444 non-null  int64  \n",
      " 3   genre            16444 non-null  object \n",
      " 4   na_sales         16444 non-null  float64\n",
      " 5   eu_sales         16444 non-null  float64\n",
      " 6   jp_sales         16444 non-null  float64\n",
      " 7   other_sales      16444 non-null  float64\n",
      " 8   critic_score     7983 non-null   float64\n",
      " 9   user_score       9839 non-null   float64\n",
      " 10  rating           9768 non-null   object \n",
      " 11  general_sales    16444 non-null  float64\n",
      "dtypes: float64(7), int64(1), object(4)\n",
      "memory usage: 1.6+ MB\n"
     ]
    }
   ],
   "source": [
    "table_game.info() # проверила итоговую полученную таблицу"
   ]
  },
  {
   "cell_type": "markdown",
   "metadata": {},
   "source": [
    "# Вывод\n",
    "\n",
    "Проведена предобработка данных, проверены дубликаты, удалены пропущенные значения, изменены форматы данных. Получена итоговая таблица table_game для дальнейшего анализа данных."
   ]
  },
  {
   "cell_type": "markdown",
   "metadata": {},
   "source": [
    "## Исследовательский анализ данных"
   ]
  },
  {
   "cell_type": "markdown",
   "metadata": {},
   "source": [
    "Проверяем, сколько игр выпускалось в разные годы. Важны ли данные за все периоды?"
   ]
  },
  {
   "cell_type": "code",
   "execution_count": 13,
   "metadata": {},
   "outputs": [
    {
     "data": {
      "text/html": [
       "<div>\n",
       "<style scoped>\n",
       "    .dataframe tbody tr th:only-of-type {\n",
       "        vertical-align: middle;\n",
       "    }\n",
       "\n",
       "    .dataframe tbody tr th {\n",
       "        vertical-align: top;\n",
       "    }\n",
       "\n",
       "    .dataframe thead th {\n",
       "        text-align: right;\n",
       "    }\n",
       "</style>\n",
       "<table border=\"1\" class=\"dataframe\">\n",
       "  <thead>\n",
       "    <tr style=\"text-align: right;\">\n",
       "      <th></th>\n",
       "      <th>year_of_release</th>\n",
       "      <th>name</th>\n",
       "    </tr>\n",
       "  </thead>\n",
       "  <tbody>\n",
       "    <tr>\n",
       "      <th>0</th>\n",
       "      <td>1980</td>\n",
       "      <td>9</td>\n",
       "    </tr>\n",
       "    <tr>\n",
       "      <th>1</th>\n",
       "      <td>1981</td>\n",
       "      <td>46</td>\n",
       "    </tr>\n",
       "    <tr>\n",
       "      <th>2</th>\n",
       "      <td>1982</td>\n",
       "      <td>36</td>\n",
       "    </tr>\n",
       "    <tr>\n",
       "      <th>3</th>\n",
       "      <td>1983</td>\n",
       "      <td>17</td>\n",
       "    </tr>\n",
       "    <tr>\n",
       "      <th>4</th>\n",
       "      <td>1984</td>\n",
       "      <td>14</td>\n",
       "    </tr>\n",
       "  </tbody>\n",
       "</table>\n",
       "</div>"
      ],
      "text/plain": [
       "   year_of_release  name\n",
       "0             1980     9\n",
       "1             1981    46\n",
       "2             1982    36\n",
       "3             1983    17\n",
       "4             1984    14"
      ]
     },
     "metadata": {},
     "output_type": "display_data"
    }
   ],
   "source": [
    "table_game_year = table_game.pivot_table(index='year_of_release', values='name', aggfunc='count').reset_index()\n",
    "display(table_game_year.head())"
   ]
  },
  {
   "cell_type": "code",
   "execution_count": 14,
   "metadata": {},
   "outputs": [],
   "source": [
    "#table_game_year['year_of_release'].describe()"
   ]
  },
  {
   "cell_type": "code",
   "execution_count": 15,
   "metadata": {},
   "outputs": [
    {
     "data": {
      "image/png": "[encoded data removed]",
      "text/plain": [
       "<Figure size 1440x1440 with 1 Axes>"
      ]
     },
     "metadata": {
      "needs_background": "light"
     },
     "output_type": "display_data"
    }
   ],
   "source": [
    "ax = sns.barplot(data = table_game_year, x='year_of_release', y='name')\n",
    "plt.xlabel('Год выпуска')\n",
    "plt.ylabel('Количество проданных игр')\n",
    "plt.title('Выпуск игр по годам')\n",
    "ax.figure.set_size_inches(20,20)"
   ]
  },
  {
   "cell_type": "markdown",
   "metadata": {},
   "source": [
    " Из полученного графика видно, что брать весь объем данных не нужно, пики лежат в правой части графика, левая часть не несёт актуальной информации, при этом делает весь график неинформативным. Получим срез даннных из сводной таблицы table_game_year за последние 10 лет."
   ]
  },
  {
   "cell_type": "code",
   "execution_count": 16,
   "metadata": {},
   "outputs": [],
   "source": [
    "#методом query получаем срез данных за последние 10 лет\n",
    "\n",
    "table_game_year = table_game_year.query('year_of_release > 2005')"
   ]
  },
  {
   "cell_type": "code",
   "execution_count": 17,
   "metadata": {},
   "outputs": [
    {
     "data": {
      "image/png": "[encoded data removed]",
      "text/plain": [
       "<Figure size 720x720 with 1 Axes>"
      ]
     },
     "metadata": {
      "needs_background": "light"
     },
     "output_type": "display_data"
    }
   ],
   "source": [
    "bx = sns.barplot(data = table_game_year, x='year_of_release', y='name')\n",
    "plt.xlabel('Год выпуска')\n",
    "plt.ylabel('Количество проданных игр')\n",
    "plt.title('Выпуск игр по годам')\n",
    "bx.figure.set_size_inches(10,10)"
   ]
  },
  {
   "cell_type": "markdown",
   "metadata": {},
   "source": [
    "Из полученного графика видно, что основной пик выпуска игр приходится на 2008 и 2009 года. С 2012 года наблюдается заметный спад этого показателя. Падение продаж видеоигр объясняется тем, что потребители стали чаще покупать игры для мобильных устройств, а также играть через социальные сети, например Facebook. Розничные продажи видеоигр, игровых консолей и аксессуаров в США за год упали на 25%. Интерес потребителей смещается к играм для мобильных устройств и социальных сетей."
   ]
  },
  {
   "cell_type": "code",
   "execution_count": 18,
   "metadata": {},
   "outputs": [
    {
     "data": {
      "image/png": "[encoded data removed]",
      "text/plain": [
       "<Figure size 1584x576 with 1 Axes>"
      ]
     },
     "metadata": {
      "needs_background": "light"
     },
     "output_type": "display_data"
    }
   ],
   "source": [
    "#Посмотрите, как менялись продажи по платформам. \n",
    "\n",
    "cx = sns.barplot(data = table_game, x='platform', y='general_sales')\n",
    "plt.xlabel('Платформа')\n",
    "plt.ylabel('Общие продажи')\n",
    "plt.title('Динамика продаж по платформам')\n",
    "plt.xlim(0,31)\n",
    "cx.figure.set_size_inches(22,8)"
   ]
  },
  {
   "cell_type": "code",
   "execution_count": 19,
   "metadata": {},
   "outputs": [
    {
     "data": {
      "text/html": [
       "<div>\n",
       "<style scoped>\n",
       "    .dataframe tbody tr th:only-of-type {\n",
       "        vertical-align: middle;\n",
       "    }\n",
       "\n",
       "    .dataframe tbody tr th {\n",
       "        vertical-align: top;\n",
       "    }\n",
       "\n",
       "    .dataframe thead th {\n",
       "        text-align: right;\n",
       "    }\n",
       "</style>\n",
       "<table border=\"1\" class=\"dataframe\">\n",
       "  <thead>\n",
       "    <tr style=\"text-align: right;\">\n",
       "      <th></th>\n",
       "      <th>general_sales</th>\n",
       "    </tr>\n",
       "    <tr>\n",
       "      <th>platform</th>\n",
       "      <th></th>\n",
       "    </tr>\n",
       "  </thead>\n",
       "  <tbody>\n",
       "    <tr>\n",
       "      <th>PS2</th>\n",
       "      <td>1233.56</td>\n",
       "    </tr>\n",
       "    <tr>\n",
       "      <th>X360</th>\n",
       "      <td>961.24</td>\n",
       "    </tr>\n",
       "    <tr>\n",
       "      <th>PS3</th>\n",
       "      <td>931.34</td>\n",
       "    </tr>\n",
       "    <tr>\n",
       "      <th>Wii</th>\n",
       "      <td>891.18</td>\n",
       "    </tr>\n",
       "    <tr>\n",
       "      <th>DS</th>\n",
       "      <td>802.78</td>\n",
       "    </tr>\n",
       "  </tbody>\n",
       "</table>\n",
       "</div>"
      ],
      "text/plain": [
       "          general_sales\n",
       "platform               \n",
       "PS2             1233.56\n",
       "X360             961.24\n",
       "PS3              931.34\n",
       "Wii              891.18\n",
       "DS               802.78"
      ]
     },
     "metadata": {},
     "output_type": "display_data"
    }
   ],
   "source": [
    "#Выберите платформы с наибольшими суммарными продажами и постройте распределение по годам. \n",
    "\n",
    "#получена сводная таблица со значениями суммарных продаж для каждой платформы\n",
    "table_game_platform = table_game.pivot_table(index='platform', values='general_sales', aggfunc='sum')\n",
    "\n",
    "# выведены на экран топ-5 платформ с наибольшими суммарными продажами\n",
    "display(table_game_platform .sort_values(by = 'general_sales', ascending = False).head())"
   ]
  },
  {
   "cell_type": "markdown",
   "metadata": {},
   "source": [
    "Получено топ-5 платформ с наибольшими суммарными продажами - это PS2,X360,PS3,Wii и DS.\t\t\t\t"
   ]
  },
  {
   "cell_type": "code",
   "execution_count": 20,
   "metadata": {},
   "outputs": [],
   "source": [
    "table_game_platform_new = table_game.pivot_table(index='year_of_release', columns = 'platform', values='general_sales', aggfunc='sum')"
   ]
  },
  {
   "cell_type": "code",
   "execution_count": 21,
   "metadata": {},
   "outputs": [],
   "source": [
    "#display(table_game_platform_new.head())"
   ]
  },
  {
   "cell_type": "code",
   "execution_count": 22,
   "metadata": {},
   "outputs": [
    {
     "data": {
      "text/plain": [
       "Text(0, 0.5, 'Продажи')"
      ]
     },
     "execution_count": 22,
     "metadata": {},
     "output_type": "execute_result"
    },
    {
     "data": {
      "image/png": "[encoded data removed]",
      "text/plain": [
       "<Figure size 864x648 with 1 Axes>"
      ]
     },
     "metadata": {
      "needs_background": "light"
     },
     "output_type": "display_data"
    }
   ],
   "source": [
    "table_game_platform_new.plot(title='Динамика продаж по годам', ylim = (75,240), xlim=(1995,2017), figsize = (12,9),grid=True, style='o-')\n",
    "plt.legend(bbox_to_anchor = (1,1))\n",
    "plt.xlabel('Года')\n",
    "plt.ylabel('Продажи')"
   ]
  },
  {
   "cell_type": "markdown",
   "metadata": {},
   "source": [
    "Для более информативного графика построим зависмость продаж по годам для топ-5 лидирующих по продажам платформ. Ранее выяснили, что это PS2,X360,PS3,Wii и DS."
   ]
  },
  {
   "cell_type": "code",
   "execution_count": 23,
   "metadata": {},
   "outputs": [],
   "source": [
    "#поулчим новый датафрейм для топ-5 лидирующих платформ\n",
    "\n",
    "df = pd.DataFrame({\n",
    "                   'PS2': table_game_platform_new['PS2'], \n",
    "                   'X360': table_game_platform_new['X360'], \n",
    "                   'PS3': table_game_platform_new['PS3'],\n",
    "                   'Wii': table_game_platform_new['Wii'],\n",
    "                  'DS': table_game_platform_new['DS']})"
   ]
  },
  {
   "cell_type": "code",
   "execution_count": 24,
   "metadata": {},
   "outputs": [],
   "source": [
    "#display(df.head())"
   ]
  },
  {
   "cell_type": "code",
   "execution_count": 25,
   "metadata": {},
   "outputs": [
    {
     "data": {
      "text/plain": [
       "Text(0, 0.5, 'Продажи')"
      ]
     },
     "execution_count": 25,
     "metadata": {},
     "output_type": "execute_result"
    },
    {
     "data": {
      "image/png": "[encoded data removed]",
      "text/plain": [
       "<Figure size 864x648 with 1 Axes>"
      ]
     },
     "metadata": {
      "needs_background": "light"
     },
     "output_type": "display_data"
    }
   ],
   "source": [
    "df.plot(title='Динамика продаж по годам топ-5 платформ', ylim = (75,250), xlim=(1995,2016), figsize = (12,9),grid=True, style='o-')\n",
    "plt.legend(bbox_to_anchor = (1,1))\n",
    "plt.xlabel('Год выпуска')\n",
    "plt.ylabel('Продажи')"
   ]
  },
  {
   "cell_type": "markdown",
   "metadata": {},
   "source": [
    "Из полученного графика видно, что топ-5 платформ с наибольшими продажами стали популярными после 2000-ого года. Срок жизни игры составляет в среднем от 5 до 7 лет, если посмотреть на график для некоторых игр это значение составляет 10 лет.Индустрия компьютерных игр - быстро меняющаяся, поэтому в качестве акутально периода возьмем 3 года 2014,2015 и 2016, с учетом того, что данные за 2016 год неполные."
   ]
  },
  {
   "cell_type": "code",
   "execution_count": 26,
   "metadata": {},
   "outputs": [],
   "source": [
    "#методом query получаем срез данных для актуального периода с 2006 года\n",
    "\n",
    "table_game_actual = table_game.query('year_of_release > 2010')\n",
    "#display(table_game_actual.head())"
   ]
  },
  {
   "cell_type": "code",
   "execution_count": 27,
   "metadata": {},
   "outputs": [],
   "source": [
    "# получена сводная таблица для прослеживания динамики продаж за актуальный период\n",
    "\n",
    "table_game_actual_new = table_game_actual.pivot_table(index='year_of_release', columns = 'platform', values='general_sales', aggfunc='sum')\n",
    "#display(table_game_actual_new.head())"
   ]
  },
  {
   "cell_type": "code",
   "execution_count": 28,
   "metadata": {},
   "outputs": [
    {
     "data": {
      "text/plain": [
       "Text(0, 0.5, 'Продажи')"
      ]
     },
     "execution_count": 28,
     "metadata": {},
     "output_type": "execute_result"
    },
    {
     "data": {
      "image/png": "[encoded data removed]",
      "text/plain": [
       "<Figure size 720x576 with 1 Axes>"
      ]
     },
     "metadata": {
      "needs_background": "light"
     },
     "output_type": "display_data"
    }
   ],
   "source": [
    "table_game_actual_new.plot(title='Динамика продаж за период 2011-2016', ylim = (75,180), xlim=(2010,2016), figsize = (10,8),grid=True, style='o-')\n",
    "plt.legend(bbox_to_anchor = (1,1))\n",
    "plt.xlabel('Года')\n",
    "plt.ylabel('Продажи')"
   ]
  },
  {
   "cell_type": "markdown",
   "metadata": {},
   "source": [
    "Из динамики продаж за 2010-2016 года видно, что к 2016 году продажи падают по всем платформам. Актуальным периодом считаем последние 2-3 года, то есть можно предположить, что потенциально прибыльной можно считать одну платформу - PS4 (на графике видны продажи с 2016 года только по этой платформе)."
   ]
  },
  {
   "cell_type": "code",
   "execution_count": 29,
   "metadata": {},
   "outputs": [
    {
     "data": {
      "image/png": "[encoded data removed]",
      "text/plain": [
       "<Figure size 1440x1080 with 1 Axes>"
      ]
     },
     "metadata": {
      "needs_background": "light"
     },
     "output_type": "display_data"
    },
    {
     "data": {
      "text/plain": [
       "<Figure size 1440x1080 with 0 Axes>"
      ]
     },
     "metadata": {},
     "output_type": "display_data"
    }
   ],
   "source": [
    "#построены диаграммы размаха потенциально прибыльных платформ\n",
    "fig, ax = plt.subplots(figsize = (20,15))\n",
    "bc = sns.boxplot(x='platform', y = 'general_sales', data = table_game_actual, ax=ax)\n",
    "plt.title('Диаграмма размаха по плаформам 2011-2016 года')\n",
    "plt.xlabel('Платформы')\n",
    "plt.ylabel('Продажи')\n",
    "plt.ylim(-1,10)\n",
    "bc = plt.figure(figsize=(20,15))\n",
    "plt.show()"
   ]
  },
  {
   "cell_type": "code",
   "execution_count": 30,
   "metadata": {},
   "outputs": [
    {
     "data": {
      "image/png": "[encoded data removed]",
      "text/plain": [
       "<Figure size 1440x1080 with 1 Axes>"
      ]
     },
     "metadata": {
      "needs_background": "light"
     },
     "output_type": "display_data"
    }
   ],
   "source": [
    "fig, ax = plt.subplots(figsize = (20,15))\n",
    "sns.boxplot(data = table_game_actual[table_game_actual['platform'].isin(('PS4', 'X360', 'PS3'))], x='platform', y = 'general_sales', palette = 'husl', ax=ax)\n",
    "plt.title('Лидирующие платформы')\n",
    "plt.xlabel('Платформы')\n",
    "plt.ylabel('Продажи')\n",
    "plt.ylim(-2,8)\n",
    "plt.show()"
   ]
  },
  {
   "cell_type": "code",
   "execution_count": 31,
   "metadata": {},
   "outputs": [
    {
     "data": {
      "text/plain": [
       "count      6.000000\n",
       "mean      74.261667\n",
       "std       60.695667\n",
       "min        3.600000\n",
       "25%       24.555000\n",
       "50%       77.560000\n",
       "75%      111.777500\n",
       "max      156.780000\n",
       "Name: PS3, dtype: float64"
      ]
     },
     "execution_count": 31,
     "metadata": {},
     "output_type": "execute_result"
    }
   ],
   "source": [
    "#получена информация о платформе PS3\n",
    "table_game_actual_new['PS3'].describe()"
   ]
  },
  {
   "cell_type": "code",
   "execution_count": 32,
   "metadata": {},
   "outputs": [
    {
     "data": {
      "text/plain": [
       "count      4.000000\n",
       "mean      78.535000\n",
       "std       40.567917\n",
       "min       25.990000\n",
       "25%       58.435000\n",
       "50%       84.625000\n",
       "75%      104.725000\n",
       "max      118.900000\n",
       "Name: PS4, dtype: float64"
      ]
     },
     "execution_count": 32,
     "metadata": {},
     "output_type": "execute_result"
    }
   ],
   "source": [
    "#получена информация о платформе X360\n",
    "table_game_actual_new['PS4'].describe()"
   ]
  },
  {
   "cell_type": "code",
   "execution_count": 33,
   "metadata": {},
   "outputs": [
    {
     "data": {
      "text/plain": [
       "count      6.000000\n",
       "mean      63.396667\n",
       "std       56.074638\n",
       "min        1.520000\n",
       "25%       17.655000\n",
       "50%       61.660000\n",
       "75%       96.950000\n",
       "max      143.840000\n",
       "Name: X360, dtype: float64"
      ]
     },
     "execution_count": 33,
     "metadata": {},
     "output_type": "execute_result"
    }
   ],
   "source": [
    "#получена информация о платформе Wii\n",
    "table_game_actual_new['X360'].describe()"
   ]
  },
  {
   "cell_type": "markdown",
   "metadata": {},
   "source": [
    "Построены Диагарммы размаха - для потенциально прибыльной платфорсы PS4 - и для нагладности добавлены еще 2 платформы - это PS3 и X360 (по ним наблюдались продажи за период с 2011-2014 гг).Значения лежат приблизительно в одном диапозоне, средние суммарные продажи 85, 78 и 62 соответвенно (миллионов проданных копий по всем регионам за указанный период 2011-2016 гг). Везде медианные значения продаж расположены низко – то есть на всех платформах выходит много игр с небольшими продажами, но есть бестселлеры, продажи которых могут многократно превышать обычные значения."
   ]
  },
  {
   "cell_type": "markdown",
   "metadata": {},
   "source": [
    "Посмотрим, как влияют на продажи отзывы пользователей и критиков (на примере платформы X360)"
   ]
  },
  {
   "cell_type": "code",
   "execution_count": 34,
   "metadata": {},
   "outputs": [
    {
     "data": {
      "text/html": [
       "<div>\n",
       "<style scoped>\n",
       "    .dataframe tbody tr th:only-of-type {\n",
       "        vertical-align: middle;\n",
       "    }\n",
       "\n",
       "    .dataframe tbody tr th {\n",
       "        vertical-align: top;\n",
       "    }\n",
       "\n",
       "    .dataframe thead th {\n",
       "        text-align: right;\n",
       "    }\n",
       "</style>\n",
       "<table border=\"1\" class=\"dataframe\">\n",
       "  <thead>\n",
       "    <tr style=\"text-align: right;\">\n",
       "      <th></th>\n",
       "      <th>index</th>\n",
       "      <th>name</th>\n",
       "      <th>platform</th>\n",
       "      <th>year_of_release</th>\n",
       "      <th>genre</th>\n",
       "      <th>na_sales</th>\n",
       "      <th>eu_sales</th>\n",
       "      <th>jp_sales</th>\n",
       "      <th>other_sales</th>\n",
       "      <th>critic_score</th>\n",
       "      <th>user_score</th>\n",
       "      <th>rating</th>\n",
       "      <th>general_sales</th>\n",
       "    </tr>\n",
       "  </thead>\n",
       "  <tbody>\n",
       "    <tr>\n",
       "      <th>0</th>\n",
       "      <td>14</td>\n",
       "      <td>Kinect Adventures!</td>\n",
       "      <td>X360</td>\n",
       "      <td>2010</td>\n",
       "      <td>Misc</td>\n",
       "      <td>15.00</td>\n",
       "      <td>4.89</td>\n",
       "      <td>0.24</td>\n",
       "      <td>1.69</td>\n",
       "      <td>61.0</td>\n",
       "      <td>6.3</td>\n",
       "      <td>E</td>\n",
       "      <td>21.82</td>\n",
       "    </tr>\n",
       "    <tr>\n",
       "      <th>1</th>\n",
       "      <td>23</td>\n",
       "      <td>Grand Theft Auto V</td>\n",
       "      <td>X360</td>\n",
       "      <td>2013</td>\n",
       "      <td>Action</td>\n",
       "      <td>9.66</td>\n",
       "      <td>5.14</td>\n",
       "      <td>0.06</td>\n",
       "      <td>1.41</td>\n",
       "      <td>97.0</td>\n",
       "      <td>8.1</td>\n",
       "      <td>M</td>\n",
       "      <td>16.27</td>\n",
       "    </tr>\n",
       "    <tr>\n",
       "      <th>2</th>\n",
       "      <td>29</td>\n",
       "      <td>Call of Duty: Modern Warfare 3</td>\n",
       "      <td>X360</td>\n",
       "      <td>2011</td>\n",
       "      <td>Shooter</td>\n",
       "      <td>9.04</td>\n",
       "      <td>4.24</td>\n",
       "      <td>0.13</td>\n",
       "      <td>1.32</td>\n",
       "      <td>88.0</td>\n",
       "      <td>3.4</td>\n",
       "      <td>M</td>\n",
       "      <td>14.73</td>\n",
       "    </tr>\n",
       "    <tr>\n",
       "      <th>3</th>\n",
       "      <td>32</td>\n",
       "      <td>Call of Duty: Black Ops</td>\n",
       "      <td>X360</td>\n",
       "      <td>2010</td>\n",
       "      <td>Shooter</td>\n",
       "      <td>9.70</td>\n",
       "      <td>3.68</td>\n",
       "      <td>0.11</td>\n",
       "      <td>1.13</td>\n",
       "      <td>87.0</td>\n",
       "      <td>6.3</td>\n",
       "      <td>M</td>\n",
       "      <td>14.62</td>\n",
       "    </tr>\n",
       "    <tr>\n",
       "      <th>4</th>\n",
       "      <td>35</td>\n",
       "      <td>Call of Duty: Black Ops II</td>\n",
       "      <td>X360</td>\n",
       "      <td>2012</td>\n",
       "      <td>Shooter</td>\n",
       "      <td>8.25</td>\n",
       "      <td>4.24</td>\n",
       "      <td>0.07</td>\n",
       "      <td>1.12</td>\n",
       "      <td>83.0</td>\n",
       "      <td>4.8</td>\n",
       "      <td>M</td>\n",
       "      <td>13.68</td>\n",
       "    </tr>\n",
       "  </tbody>\n",
       "</table>\n",
       "</div>"
      ],
      "text/plain": [
       "   index                            name platform  year_of_release    genre  \\\n",
       "0     14              Kinect Adventures!     X360             2010     Misc   \n",
       "1     23              Grand Theft Auto V     X360             2013   Action   \n",
       "2     29  Call of Duty: Modern Warfare 3     X360             2011  Shooter   \n",
       "3     32         Call of Duty: Black Ops     X360             2010  Shooter   \n",
       "4     35      Call of Duty: Black Ops II     X360             2012  Shooter   \n",
       "\n",
       "   na_sales  eu_sales  jp_sales  other_sales  critic_score  user_score rating  \\\n",
       "0     15.00      4.89      0.24         1.69          61.0         6.3      E   \n",
       "1      9.66      5.14      0.06         1.41          97.0         8.1      M   \n",
       "2      9.04      4.24      0.13         1.32          88.0         3.4      M   \n",
       "3      9.70      3.68      0.11         1.13          87.0         6.3      M   \n",
       "4      8.25      4.24      0.07         1.12          83.0         4.8      M   \n",
       "\n",
       "   general_sales  \n",
       "0          21.82  \n",
       "1          16.27  \n",
       "2          14.73  \n",
       "3          14.62  \n",
       "4          13.68  "
      ]
     },
     "metadata": {},
     "output_type": "display_data"
    }
   ],
   "source": [
    "# получим срез данных для платформы X360\n",
    "\n",
    "table_game_x360 = table_game.query('platform == \"X360\"').reset_index()\n",
    "display(table_game_x360.head())"
   ]
  },
  {
   "cell_type": "markdown",
   "metadata": {},
   "source": [
    "Построим диаграмму рассеянимя для просмотра зависимости продаж от отзывов критиков."
   ]
  },
  {
   "cell_type": "code",
   "execution_count": 35,
   "metadata": {},
   "outputs": [
    {
     "data": {
      "text/plain": [
       "(0.0, 18.0)"
      ]
     },
     "execution_count": 35,
     "metadata": {},
     "output_type": "execute_result"
    },
    {
     "data": {
      "image/png": "[encoded data removed]",
      "text/plain": [
       "<Figure size 432x288 with 1 Axes>"
      ]
     },
     "metadata": {
      "needs_background": "light"
     },
     "output_type": "display_data"
    }
   ],
   "source": [
    "table_game_x360.plot(x='critic_score', y='general_sales', kind='scatter',alpha=0.3, grid=True)\n",
    "plt.title('Зависимость продаж от отзывов критиков')\n",
    "plt.xlabel('Отзывы критиков')\n",
    "plt.ylabel('Суммарные продажи')\n",
    "plt.ylim(0,18)"
   ]
  },
  {
   "cell_type": "code",
   "execution_count": 36,
   "metadata": {},
   "outputs": [
    {
     "name": "stdout",
     "output_type": "stream",
     "text": [
      "0.39286589254007\n"
     ]
    }
   ],
   "source": [
    "# рассчитываем коэффициент корреляции Пирсона\n",
    "\n",
    "print(table_game_x360['general_sales'].corr(table_game_x360['critic_score']))"
   ]
  },
  {
   "cell_type": "markdown",
   "metadata": {},
   "source": [
    "Kоэффициент корреляции Пирсона составляет 0,4%, то есть прослеживается прямая зависимость этих двух показателей, чем выше отзывы критиков, тем выше продажи, эту же зависимость можно проследить на диаграмме рассеяния."
   ]
  },
  {
   "cell_type": "markdown",
   "metadata": {},
   "source": [
    "Построим диаграмму рассеяния для просмотра зависимости продаж от отзывов пользователей."
   ]
  },
  {
   "cell_type": "code",
   "execution_count": 37,
   "metadata": {},
   "outputs": [
    {
     "data": {
      "text/plain": [
       "(0.0, 20.0)"
      ]
     },
     "execution_count": 37,
     "metadata": {},
     "output_type": "execute_result"
    },
    {
     "data": {
      "image/png": "[encoded data removed]",
      "text/plain": [
       "<Figure size 432x288 with 1 Axes>"
      ]
     },
     "metadata": {
      "needs_background": "light"
     },
     "output_type": "display_data"
    }
   ],
   "source": [
    "table_game_x360.plot(x='user_score', y='general_sales', kind='scatter',alpha=0.3, grid=True)\n",
    "plt.title('Зависимость продаж от отзывов пользователей')\n",
    "plt.xlabel('Отзывы пользователей')\n",
    "plt.ylabel('Суммарные продажи')\n",
    "plt.ylim(0,20)"
   ]
  },
  {
   "cell_type": "code",
   "execution_count": 38,
   "metadata": {},
   "outputs": [
    {
     "name": "stdout",
     "output_type": "stream",
     "text": [
      "0.16726185976615246\n"
     ]
    }
   ],
   "source": [
    "# рассчитываем коэффициент корреляции Пирсона\n",
    "\n",
    "print(table_game_x360['general_sales'].corr(table_game_x360['user_score']))"
   ]
  },
  {
   "cell_type": "markdown",
   "metadata": {},
   "source": [
    "Kоэффициент корреляции Пирсона составляет 0,17%, значение близко к 0, то есть зависимость продаж от отзывов пользователей есть, но не такая ярко выраженная, как в случае с отзывами критиков."
   ]
  },
  {
   "cell_type": "code",
   "execution_count": 39,
   "metadata": {},
   "outputs": [
    {
     "data": {
      "image/png": "[encoded data removed]",
      "text/plain": [
       "<Figure size 432x288 with 1 Axes>"
      ]
     },
     "metadata": {
      "needs_background": "light"
     },
     "output_type": "display_data"
    },
    {
     "data": {
      "text/plain": [
       "<Figure size 2160x1440 with 0 Axes>"
      ]
     },
     "metadata": {},
     "output_type": "display_data"
    }
   ],
   "source": [
    "fig, ax = plt.subplots()\n",
    "table_game_actual.critic_score.hist(histtype='step', linewidth=3, ax=ax, label='Оценки критиков')\n",
    "(table_game_actual.user_score*10).hist(histtype='step', linewidth=3, ax=ax, label='Оценки пользователей')\n",
    "ax.legend(loc='upper left')\n",
    "ax.set_xlabel('Оценка')\n",
    "ax.set_ylabel('Количество игр')\n",
    "ax.set_title('Распределение оценок критиков и пользователей')\n",
    "plt.legend(bbox_to_anchor = (1,1))\n",
    "ax = plt.figure(figsize=(30,20))\n",
    "\n",
    "plt.show()"
   ]
  },
  {
   "cell_type": "markdown",
   "metadata": {},
   "source": [
    "То есть можно сделать предположение, что для всех остальных платформ дейсвтуют аналогичные зависимости, и продажи зависят от отзывов пользователей и критиков, и чем выше отзывы, тем больше продажи, но это не критчное и не определяющее значение, в случае оценки пользователей - это значение вообще близко к 0, то есть влияет, но слабо."
   ]
  },
  {
   "cell_type": "code",
   "execution_count": 40,
   "metadata": {},
   "outputs": [
    {
     "data": {
      "image/png": "[encoded data removed]",
      "text/plain": [
       "<Figure size 1584x576 with 1 Axes>"
      ]
     },
     "metadata": {
      "needs_background": "light"
     },
     "output_type": "display_data"
    }
   ],
   "source": [
    "# посмотрим зависимость суммарных продаж в зависимости от жанра\n",
    "\n",
    "bx = sns.barplot(data = table_game_actual, x='genre', y='general_sales')\n",
    "plt.title('Распределение продаж по жанрам')\n",
    "plt.xlabel('Жанр')\n",
    "plt.ylabel('Суммарные продажи')\n",
    "bx.figure.set_size_inches(22,8)"
   ]
  },
  {
   "cell_type": "code",
   "execution_count": 41,
   "metadata": {},
   "outputs": [
    {
     "data": {
      "image/png": "[encoded data removed]",
      "text/plain": [
       "<Figure size 432x288 with 1 Axes>"
      ]
     },
     "metadata": {
      "needs_background": "light"
     },
     "output_type": "display_data"
    }
   ],
   "source": [
    "table_game_actual.genre.value_counts().sort_values().plot(kind='barh')\n",
    "plt.show()"
   ]
  },
  {
   "cell_type": "code",
   "execution_count": 42,
   "metadata": {},
   "outputs": [
    {
     "data": {
      "text/html": [
       "<div>\n",
       "<style scoped>\n",
       "    .dataframe tbody tr th:only-of-type {\n",
       "        vertical-align: middle;\n",
       "    }\n",
       "\n",
       "    .dataframe tbody tr th {\n",
       "        vertical-align: top;\n",
       "    }\n",
       "\n",
       "    .dataframe thead th {\n",
       "        text-align: right;\n",
       "    }\n",
       "</style>\n",
       "<table border=\"1\" class=\"dataframe\">\n",
       "  <thead>\n",
       "    <tr style=\"text-align: right;\">\n",
       "      <th></th>\n",
       "      <th>general_sales</th>\n",
       "    </tr>\n",
       "    <tr>\n",
       "      <th>genre</th>\n",
       "      <th></th>\n",
       "    </tr>\n",
       "  </thead>\n",
       "  <tbody>\n",
       "    <tr>\n",
       "      <th>Shooter</th>\n",
       "      <td>0.410</td>\n",
       "    </tr>\n",
       "    <tr>\n",
       "      <th>Sports</th>\n",
       "      <td>0.200</td>\n",
       "    </tr>\n",
       "    <tr>\n",
       "      <th>Platform</th>\n",
       "      <td>0.185</td>\n",
       "    </tr>\n",
       "    <tr>\n",
       "      <th>Fighting</th>\n",
       "      <td>0.180</td>\n",
       "    </tr>\n",
       "    <tr>\n",
       "      <th>Racing</th>\n",
       "      <td>0.160</td>\n",
       "    </tr>\n",
       "  </tbody>\n",
       "</table>\n",
       "</div>"
      ],
      "text/plain": [
       "          general_sales\n",
       "genre                  \n",
       "Shooter           0.410\n",
       "Sports            0.200\n",
       "Platform          0.185\n",
       "Fighting          0.180\n",
       "Racing            0.160"
      ]
     },
     "metadata": {},
     "output_type": "display_data"
    }
   ],
   "source": [
    "#получена сводная таблица со значениями суммарных продаж для каждой платформы\n",
    "table_game_genre = table_game_actual.pivot_table(index='genre', values='general_sales', aggfunc='median')\n",
    "\n",
    "# выведены на экран топ-5 платформ с наибольшими суммарными продажами\n",
    "display(table_game_genre .sort_values(by = 'general_sales', ascending = False).head())"
   ]
  },
  {
   "cell_type": "markdown",
   "metadata": {},
   "source": [
    "Из полученного графика и таблицы (выведены топ-5 жанров с самыми высокими средними продажами) видно, что выделяются жанры с высокими и низкими продажами, самыми прибыльными жанрами являются Shooter и Sports.\tЭто также подтверждают различные исследования киберспорта. Самыми популярными жанрами среди ПК-игроков чаще всего оказываются шутеры, гонки и симуляторы военной техники. По количеству игр - самыми часто всречающими являются игры Action, Sports\t и Music."
   ]
  },
  {
   "cell_type": "markdown",
   "metadata": {},
   "source": [
    "## Составление портрета пользователя каждого региона"
   ]
  },
  {
   "cell_type": "code",
   "execution_count": 43,
   "metadata": {},
   "outputs": [],
   "source": [
    "table_game_actual = table_game_actual.fillna('не определён')"
   ]
  },
  {
   "cell_type": "markdown",
   "metadata": {},
   "source": [
    "# Расшифровка абревиатур рейтинга ESRB\n",
    "\n",
    "- «EC» («Early childhood») — «Для детей младшего возраста»: Игра подходит для детей от 3 лет и не содержит материалов, которые родители могли бы счесть неподходящими. \n",
    "\n",
    "- «E» («Everyone») — «Для всех»: Содержание вполне подходит для возрастной категории от 6 лет. Такие игры могут понравиться и взрослым. \n",
    "\n",
    "- «E10+» («Everyone 10 and older») — «Для всех от 10 лет и старше»\n",
    "\n",
    "- «T» («Teen») — «Подросткам»: Игра подходит для лиц от 13 лет\n",
    "\n",
    "- «M» («Mature») — «Для взрослых»: Материалы игры не подходят для подростков младше 17 лет. \n",
    "\n",
    "- «AO» («Adults Only 18+») — «Только для взрослых»: Содержание игры только для взрослых старше 18 лет. \n",
    "\n",
    "- «RP» («Rating Pending») — «Рейтинг ожидается»: Продукт был отправлен в ESRB и ожидает присвоения рейтинга. Данный логотип используется только на рекламных презентациях и в демо-версиях игр до официальной даты выпуска в продажу."
   ]
  },
  {
   "cell_type": "code",
   "execution_count": 44,
   "metadata": {},
   "outputs": [
    {
     "data": {
      "text/html": [
       "<div>\n",
       "<style scoped>\n",
       "    .dataframe tbody tr th:only-of-type {\n",
       "        vertical-align: middle;\n",
       "    }\n",
       "\n",
       "    .dataframe tbody tr th {\n",
       "        vertical-align: top;\n",
       "    }\n",
       "\n",
       "    .dataframe thead th {\n",
       "        text-align: right;\n",
       "    }\n",
       "</style>\n",
       "<table border=\"1\" class=\"dataframe\">\n",
       "  <thead>\n",
       "    <tr style=\"text-align: right;\">\n",
       "      <th></th>\n",
       "      <th>name</th>\n",
       "      <th>platform</th>\n",
       "      <th>year_of_release</th>\n",
       "      <th>genre</th>\n",
       "      <th>na_sales</th>\n",
       "      <th>eu_sales</th>\n",
       "      <th>jp_sales</th>\n",
       "      <th>other_sales</th>\n",
       "      <th>critic_score</th>\n",
       "      <th>user_score</th>\n",
       "      <th>rating</th>\n",
       "      <th>general_sales</th>\n",
       "    </tr>\n",
       "  </thead>\n",
       "  <tbody>\n",
       "    <tr>\n",
       "      <th>16</th>\n",
       "      <td>Grand Theft Auto V</td>\n",
       "      <td>PS3</td>\n",
       "      <td>2013</td>\n",
       "      <td>Action</td>\n",
       "      <td>7.02</td>\n",
       "      <td>9.09</td>\n",
       "      <td>0.98</td>\n",
       "      <td>3.96</td>\n",
       "      <td>97.0</td>\n",
       "      <td>8.2</td>\n",
       "      <td>M</td>\n",
       "      <td>21.05</td>\n",
       "    </tr>\n",
       "    <tr>\n",
       "      <th>23</th>\n",
       "      <td>Grand Theft Auto V</td>\n",
       "      <td>X360</td>\n",
       "      <td>2013</td>\n",
       "      <td>Action</td>\n",
       "      <td>9.66</td>\n",
       "      <td>5.14</td>\n",
       "      <td>0.06</td>\n",
       "      <td>1.41</td>\n",
       "      <td>97.0</td>\n",
       "      <td>8.1</td>\n",
       "      <td>M</td>\n",
       "      <td>16.27</td>\n",
       "    </tr>\n",
       "    <tr>\n",
       "      <th>29</th>\n",
       "      <td>Call of Duty: Modern Warfare 3</td>\n",
       "      <td>X360</td>\n",
       "      <td>2011</td>\n",
       "      <td>Shooter</td>\n",
       "      <td>9.04</td>\n",
       "      <td>4.24</td>\n",
       "      <td>0.13</td>\n",
       "      <td>1.32</td>\n",
       "      <td>88.0</td>\n",
       "      <td>3.4</td>\n",
       "      <td>M</td>\n",
       "      <td>14.73</td>\n",
       "    </tr>\n",
       "    <tr>\n",
       "      <th>31</th>\n",
       "      <td>Call of Duty: Black Ops 3</td>\n",
       "      <td>PS4</td>\n",
       "      <td>2015</td>\n",
       "      <td>Shooter</td>\n",
       "      <td>6.03</td>\n",
       "      <td>5.86</td>\n",
       "      <td>0.36</td>\n",
       "      <td>2.38</td>\n",
       "      <td>не определён</td>\n",
       "      <td>не определён</td>\n",
       "      <td>не определён</td>\n",
       "      <td>14.63</td>\n",
       "    </tr>\n",
       "    <tr>\n",
       "      <th>33</th>\n",
       "      <td>Pokemon X/Pokemon Y</td>\n",
       "      <td>3DS</td>\n",
       "      <td>2013</td>\n",
       "      <td>Role-Playing</td>\n",
       "      <td>5.28</td>\n",
       "      <td>4.19</td>\n",
       "      <td>4.35</td>\n",
       "      <td>0.78</td>\n",
       "      <td>не определён</td>\n",
       "      <td>не определён</td>\n",
       "      <td>не определён</td>\n",
       "      <td>14.60</td>\n",
       "    </tr>\n",
       "  </tbody>\n",
       "</table>\n",
       "</div>"
      ],
      "text/plain": [
       "                              name platform  year_of_release         genre  \\\n",
       "16              Grand Theft Auto V      PS3             2013        Action   \n",
       "23              Grand Theft Auto V     X360             2013        Action   \n",
       "29  Call of Duty: Modern Warfare 3     X360             2011       Shooter   \n",
       "31       Call of Duty: Black Ops 3      PS4             2015       Shooter   \n",
       "33             Pokemon X/Pokemon Y      3DS             2013  Role-Playing   \n",
       "\n",
       "    na_sales  eu_sales  jp_sales  other_sales  critic_score    user_score  \\\n",
       "16      7.02      9.09      0.98         3.96          97.0           8.2   \n",
       "23      9.66      5.14      0.06         1.41          97.0           8.1   \n",
       "29      9.04      4.24      0.13         1.32          88.0           3.4   \n",
       "31      6.03      5.86      0.36         2.38  не определён  не определён   \n",
       "33      5.28      4.19      4.35         0.78  не определён  не определён   \n",
       "\n",
       "          rating  general_sales  \n",
       "16             M          21.05  \n",
       "23             M          16.27  \n",
       "29             M          14.73  \n",
       "31  не определён          14.63  \n",
       "33  не определён          14.60  "
      ]
     },
     "metadata": {},
     "output_type": "display_data"
    }
   ],
   "source": [
    "display(table_game_actual.head())"
   ]
  },
  {
   "cell_type": "markdown",
   "metadata": {},
   "source": [
    "# Портрет пользвотеля региона Na (Северная Америка)"
   ]
  },
  {
   "cell_type": "code",
   "execution_count": 45,
   "metadata": {},
   "outputs": [
    {
     "data": {
      "text/html": [
       "<div>\n",
       "<style scoped>\n",
       "    .dataframe tbody tr th:only-of-type {\n",
       "        vertical-align: middle;\n",
       "    }\n",
       "\n",
       "    .dataframe tbody tr th {\n",
       "        vertical-align: top;\n",
       "    }\n",
       "\n",
       "    .dataframe thead th {\n",
       "        text-align: right;\n",
       "    }\n",
       "</style>\n",
       "<table border=\"1\" class=\"dataframe\">\n",
       "  <thead>\n",
       "    <tr style=\"text-align: right;\">\n",
       "      <th></th>\n",
       "      <th>na_sales</th>\n",
       "    </tr>\n",
       "    <tr>\n",
       "      <th>platform</th>\n",
       "      <th></th>\n",
       "    </tr>\n",
       "  </thead>\n",
       "  <tbody>\n",
       "    <tr>\n",
       "      <th>X360</th>\n",
       "      <td>226.80</td>\n",
       "    </tr>\n",
       "    <tr>\n",
       "      <th>PS3</th>\n",
       "      <td>168.26</td>\n",
       "    </tr>\n",
       "    <tr>\n",
       "      <th>PS4</th>\n",
       "      <td>108.74</td>\n",
       "    </tr>\n",
       "    <tr>\n",
       "      <th>XOne</th>\n",
       "      <td>93.12</td>\n",
       "    </tr>\n",
       "    <tr>\n",
       "      <th>3DS</th>\n",
       "      <td>82.65</td>\n",
       "    </tr>\n",
       "  </tbody>\n",
       "</table>\n",
       "</div>"
      ],
      "text/plain": [
       "          na_sales\n",
       "platform          \n",
       "X360        226.80\n",
       "PS3         168.26\n",
       "PS4         108.74\n",
       "XOne         93.12\n",
       "3DS          82.65"
      ]
     },
     "metadata": {},
     "output_type": "display_data"
    }
   ],
   "source": [
    "table_game_actual_na = table_game_actual.pivot_table(index='platform', values='na_sales', aggfunc='sum')\n",
    "\n",
    "display(table_game_actual_na.sort_values(by = 'na_sales', ascending = False).head())"
   ]
  },
  {
   "cell_type": "code",
   "execution_count": 46,
   "metadata": {},
   "outputs": [
    {
     "data": {
      "text/html": [
       "<div>\n",
       "<style scoped>\n",
       "    .dataframe tbody tr th:only-of-type {\n",
       "        vertical-align: middle;\n",
       "    }\n",
       "\n",
       "    .dataframe tbody tr th {\n",
       "        vertical-align: top;\n",
       "    }\n",
       "\n",
       "    .dataframe thead th {\n",
       "        text-align: right;\n",
       "    }\n",
       "</style>\n",
       "<table border=\"1\" class=\"dataframe\">\n",
       "  <thead>\n",
       "    <tr style=\"text-align: right;\">\n",
       "      <th></th>\n",
       "      <th>na_sales</th>\n",
       "    </tr>\n",
       "    <tr>\n",
       "      <th>genre</th>\n",
       "      <th></th>\n",
       "    </tr>\n",
       "  </thead>\n",
       "  <tbody>\n",
       "    <tr>\n",
       "      <th>Action</th>\n",
       "      <td>230.92</td>\n",
       "    </tr>\n",
       "    <tr>\n",
       "      <th>Shooter</th>\n",
       "      <td>194.43</td>\n",
       "    </tr>\n",
       "    <tr>\n",
       "      <th>Sports</th>\n",
       "      <td>108.70</td>\n",
       "    </tr>\n",
       "    <tr>\n",
       "      <th>Role-Playing</th>\n",
       "      <td>83.78</td>\n",
       "    </tr>\n",
       "    <tr>\n",
       "      <th>Misc</th>\n",
       "      <td>69.69</td>\n",
       "    </tr>\n",
       "  </tbody>\n",
       "</table>\n",
       "</div>"
      ],
      "text/plain": [
       "              na_sales\n",
       "genre                 \n",
       "Action          230.92\n",
       "Shooter         194.43\n",
       "Sports          108.70\n",
       "Role-Playing     83.78\n",
       "Misc             69.69"
      ]
     },
     "metadata": {},
     "output_type": "display_data"
    }
   ],
   "source": [
    "table_game_genre_na = table_game_actual.pivot_table(index='genre', values='na_sales', aggfunc='sum')\n",
    "\n",
    "display(table_game_genre_na.sort_values(by = 'na_sales', ascending = False).head())"
   ]
  },
  {
   "cell_type": "code",
   "execution_count": 47,
   "metadata": {},
   "outputs": [
    {
     "data": {
      "text/html": [
       "<div>\n",
       "<style scoped>\n",
       "    .dataframe tbody tr th:only-of-type {\n",
       "        vertical-align: middle;\n",
       "    }\n",
       "\n",
       "    .dataframe tbody tr th {\n",
       "        vertical-align: top;\n",
       "    }\n",
       "\n",
       "    .dataframe thead th {\n",
       "        text-align: right;\n",
       "    }\n",
       "</style>\n",
       "<table border=\"1\" class=\"dataframe\">\n",
       "  <thead>\n",
       "    <tr style=\"text-align: right;\">\n",
       "      <th></th>\n",
       "      <th>na_sales</th>\n",
       "    </tr>\n",
       "    <tr>\n",
       "      <th>rating</th>\n",
       "      <th></th>\n",
       "    </tr>\n",
       "  </thead>\n",
       "  <tbody>\n",
       "    <tr>\n",
       "      <th>M</th>\n",
       "      <td>308.45</td>\n",
       "    </tr>\n",
       "    <tr>\n",
       "      <th>E</th>\n",
       "      <td>170.17</td>\n",
       "    </tr>\n",
       "    <tr>\n",
       "      <th>не определён</th>\n",
       "      <td>123.69</td>\n",
       "    </tr>\n",
       "    <tr>\n",
       "      <th>E10+</th>\n",
       "      <td>117.72</td>\n",
       "    </tr>\n",
       "    <tr>\n",
       "      <th>T</th>\n",
       "      <td>109.31</td>\n",
       "    </tr>\n",
       "    <tr>\n",
       "      <th>EC</th>\n",
       "      <td>0.42</td>\n",
       "    </tr>\n",
       "    <tr>\n",
       "      <th>RP</th>\n",
       "      <td>0.00</td>\n",
       "    </tr>\n",
       "  </tbody>\n",
       "</table>\n",
       "</div>"
      ],
      "text/plain": [
       "              na_sales\n",
       "rating                \n",
       "M               308.45\n",
       "E               170.17\n",
       "не определён    123.69\n",
       "E10+            117.72\n",
       "T               109.31\n",
       "EC                0.42\n",
       "RP                0.00"
      ]
     },
     "metadata": {},
     "output_type": "display_data"
    }
   ],
   "source": [
    "table_game_na_rating = table_game_actual.pivot_table(index='rating', values='na_sales', aggfunc='sum')\n",
    "\n",
    "display(table_game_na_rating.sort_values(by = 'na_sales', ascending = False))"
   ]
  },
  {
   "cell_type": "markdown",
   "metadata": {},
   "source": [
    "# Вывод\n",
    "Для региона Северной Америке в топ-3 платформ с наибольшими продажами вошли X360, Wii и PS3, самые популярные жанры -Action, Sports\tи Shooter. Согласно рейтингу организации ESRB - наибольшие продажи у игр с категорией «M» («Mature») — «Для взрослых». Лидирующие платформы носят логичный характер.Xbox 360 (дата выхода 2005 год, то есть на год продажи превышают суммарное значение) — вторая по счёту игровая приставка компании Microsoft, которая последовала за Xbox. Конкурентами Xbox 360 среди игровых платформ седьмого поколения являлись PlayStation 3(дата выхода 2006 год) от Sony Computer Entertainment и Wii от Nintendo (дата выхода 2006 год)."
   ]
  },
  {
   "cell_type": "markdown",
   "metadata": {},
   "source": [
    "# Портрет пользвотеля региона EU (Европа)"
   ]
  },
  {
   "cell_type": "code",
   "execution_count": 48,
   "metadata": {},
   "outputs": [
    {
     "data": {
      "text/html": [
       "<div>\n",
       "<style scoped>\n",
       "    .dataframe tbody tr th:only-of-type {\n",
       "        vertical-align: middle;\n",
       "    }\n",
       "\n",
       "    .dataframe tbody tr th {\n",
       "        vertical-align: top;\n",
       "    }\n",
       "\n",
       "    .dataframe thead th {\n",
       "        text-align: right;\n",
       "    }\n",
       "</style>\n",
       "<table border=\"1\" class=\"dataframe\">\n",
       "  <thead>\n",
       "    <tr style=\"text-align: right;\">\n",
       "      <th></th>\n",
       "      <th>eu_sales</th>\n",
       "    </tr>\n",
       "    <tr>\n",
       "      <th>platform</th>\n",
       "      <th></th>\n",
       "    </tr>\n",
       "  </thead>\n",
       "  <tbody>\n",
       "    <tr>\n",
       "      <th>PS3</th>\n",
       "      <td>163.10</td>\n",
       "    </tr>\n",
       "    <tr>\n",
       "      <th>PS4</th>\n",
       "      <td>141.09</td>\n",
       "    </tr>\n",
       "    <tr>\n",
       "      <th>X360</th>\n",
       "      <td>117.10</td>\n",
       "    </tr>\n",
       "    <tr>\n",
       "      <th>3DS</th>\n",
       "      <td>61.27</td>\n",
       "    </tr>\n",
       "    <tr>\n",
       "      <th>PC</th>\n",
       "      <td>56.70</td>\n",
       "    </tr>\n",
       "  </tbody>\n",
       "</table>\n",
       "</div>"
      ],
      "text/plain": [
       "          eu_sales\n",
       "platform          \n",
       "PS3         163.10\n",
       "PS4         141.09\n",
       "X360        117.10\n",
       "3DS          61.27\n",
       "PC           56.70"
      ]
     },
     "metadata": {},
     "output_type": "display_data"
    }
   ],
   "source": [
    "table_game_actual_eu = table_game_actual.pivot_table(index='platform', values='eu_sales', aggfunc='sum')\n",
    "\n",
    "display(table_game_actual_eu.sort_values(by = 'eu_sales', ascending = False).head())"
   ]
  },
  {
   "cell_type": "code",
   "execution_count": 49,
   "metadata": {},
   "outputs": [
    {
     "data": {
      "text/html": [
       "<div>\n",
       "<style scoped>\n",
       "    .dataframe tbody tr th:only-of-type {\n",
       "        vertical-align: middle;\n",
       "    }\n",
       "\n",
       "    .dataframe tbody tr th {\n",
       "        vertical-align: top;\n",
       "    }\n",
       "\n",
       "    .dataframe thead th {\n",
       "        text-align: right;\n",
       "    }\n",
       "</style>\n",
       "<table border=\"1\" class=\"dataframe\">\n",
       "  <thead>\n",
       "    <tr style=\"text-align: right;\">\n",
       "      <th></th>\n",
       "      <th>eu_sales</th>\n",
       "    </tr>\n",
       "    <tr>\n",
       "      <th>genre</th>\n",
       "      <th></th>\n",
       "    </tr>\n",
       "  </thead>\n",
       "  <tbody>\n",
       "    <tr>\n",
       "      <th>Action</th>\n",
       "      <td>199.12</td>\n",
       "    </tr>\n",
       "    <tr>\n",
       "      <th>Shooter</th>\n",
       "      <td>148.02</td>\n",
       "    </tr>\n",
       "    <tr>\n",
       "      <th>Sports</th>\n",
       "      <td>88.48</td>\n",
       "    </tr>\n",
       "    <tr>\n",
       "      <th>Role-Playing</th>\n",
       "      <td>62.30</td>\n",
       "    </tr>\n",
       "    <tr>\n",
       "      <th>Racing</th>\n",
       "      <td>40.58</td>\n",
       "    </tr>\n",
       "  </tbody>\n",
       "</table>\n",
       "</div>"
      ],
      "text/plain": [
       "              eu_sales\n",
       "genre                 \n",
       "Action          199.12\n",
       "Shooter         148.02\n",
       "Sports           88.48\n",
       "Role-Playing     62.30\n",
       "Racing           40.58"
      ]
     },
     "metadata": {},
     "output_type": "display_data"
    }
   ],
   "source": [
    "table_game_genre_eu = table_game_actual.pivot_table(index='genre', values='eu_sales', aggfunc='sum')\n",
    "\n",
    "display(table_game_genre_eu.sort_values(by = 'eu_sales', ascending = False).head())"
   ]
  },
  {
   "cell_type": "code",
   "execution_count": 50,
   "metadata": {},
   "outputs": [
    {
     "data": {
      "text/html": [
       "<div>\n",
       "<style scoped>\n",
       "    .dataframe tbody tr th:only-of-type {\n",
       "        vertical-align: middle;\n",
       "    }\n",
       "\n",
       "    .dataframe tbody tr th {\n",
       "        vertical-align: top;\n",
       "    }\n",
       "\n",
       "    .dataframe thead th {\n",
       "        text-align: right;\n",
       "    }\n",
       "</style>\n",
       "<table border=\"1\" class=\"dataframe\">\n",
       "  <thead>\n",
       "    <tr style=\"text-align: right;\">\n",
       "      <th></th>\n",
       "      <th>eu_sales</th>\n",
       "    </tr>\n",
       "    <tr>\n",
       "      <th>rating</th>\n",
       "      <th></th>\n",
       "    </tr>\n",
       "  </thead>\n",
       "  <tbody>\n",
       "    <tr>\n",
       "      <th>M</th>\n",
       "      <td>250.26</td>\n",
       "    </tr>\n",
       "    <tr>\n",
       "      <th>E</th>\n",
       "      <td>141.73</td>\n",
       "    </tr>\n",
       "    <tr>\n",
       "      <th>не определён</th>\n",
       "      <td>116.61</td>\n",
       "    </tr>\n",
       "    <tr>\n",
       "      <th>T</th>\n",
       "      <td>83.16</td>\n",
       "    </tr>\n",
       "    <tr>\n",
       "      <th>E10+</th>\n",
       "      <td>78.00</td>\n",
       "    </tr>\n",
       "  </tbody>\n",
       "</table>\n",
       "</div>"
      ],
      "text/plain": [
       "              eu_sales\n",
       "rating                \n",
       "M               250.26\n",
       "E               141.73\n",
       "не определён    116.61\n",
       "T                83.16\n",
       "E10+             78.00"
      ]
     },
     "metadata": {},
     "output_type": "display_data"
    }
   ],
   "source": [
    "table_game_eu_rating = table_game_actual.pivot_table(index='rating', values='eu_sales', aggfunc='sum')\n",
    "\n",
    "display(table_game_eu_rating.sort_values(by = 'eu_sales', ascending = False).head())"
   ]
  },
  {
   "cell_type": "markdown",
   "metadata": {},
   "source": [
    "# Вывод\n",
    "Для Европы также в топ-3 лидирующих платформ входят X360, Wii и PS3, только в лидеры выбивается платформа PS3, из источников можно найти информацию, что платформа действительно имела успех среди пользователей этого региона (Европейская ассоциация видео- и аудиотехники (EISA) наградила Sony за выдающиеся мультимедийные возможности PS3). И также согласно рейтингу организации ESRB - наибольшие продажи у игр с категорией «M» («Mature») — «Для взрослых». Среди жанров - самые популярные Action, Sports и Shooter, что также подтверждается различными истониками и общемировами рейтингами."
   ]
  },
  {
   "cell_type": "markdown",
   "metadata": {},
   "source": [
    "# Портрет пользвотеля региона JP (Япония)"
   ]
  },
  {
   "cell_type": "code",
   "execution_count": 51,
   "metadata": {},
   "outputs": [
    {
     "data": {
      "text/html": [
       "<div>\n",
       "<style scoped>\n",
       "    .dataframe tbody tr th:only-of-type {\n",
       "        vertical-align: middle;\n",
       "    }\n",
       "\n",
       "    .dataframe tbody tr th {\n",
       "        vertical-align: top;\n",
       "    }\n",
       "\n",
       "    .dataframe thead th {\n",
       "        text-align: right;\n",
       "    }\n",
       "</style>\n",
       "<table border=\"1\" class=\"dataframe\">\n",
       "  <thead>\n",
       "    <tr style=\"text-align: right;\">\n",
       "      <th></th>\n",
       "      <th>jp_sales</th>\n",
       "    </tr>\n",
       "    <tr>\n",
       "      <th>platform</th>\n",
       "      <th></th>\n",
       "    </tr>\n",
       "  </thead>\n",
       "  <tbody>\n",
       "    <tr>\n",
       "      <th>3DS</th>\n",
       "      <td>100.62</td>\n",
       "    </tr>\n",
       "    <tr>\n",
       "      <th>PS3</th>\n",
       "      <td>49.39</td>\n",
       "    </tr>\n",
       "    <tr>\n",
       "      <th>PSP</th>\n",
       "      <td>24.04</td>\n",
       "    </tr>\n",
       "    <tr>\n",
       "      <th>PSV</th>\n",
       "      <td>21.84</td>\n",
       "    </tr>\n",
       "    <tr>\n",
       "      <th>PS4</th>\n",
       "      <td>15.96</td>\n",
       "    </tr>\n",
       "  </tbody>\n",
       "</table>\n",
       "</div>"
      ],
      "text/plain": [
       "          jp_sales\n",
       "platform          \n",
       "3DS         100.62\n",
       "PS3          49.39\n",
       "PSP          24.04\n",
       "PSV          21.84\n",
       "PS4          15.96"
      ]
     },
     "metadata": {},
     "output_type": "display_data"
    }
   ],
   "source": [
    "table_game_actual_jp = table_game_actual.pivot_table(index='platform', values='jp_sales', aggfunc='sum')\n",
    "\n",
    "display(table_game_actual_jp.sort_values(by = 'jp_sales', ascending = False).head())"
   ]
  },
  {
   "cell_type": "code",
   "execution_count": 52,
   "metadata": {},
   "outputs": [
    {
     "data": {
      "text/html": [
       "<div>\n",
       "<style scoped>\n",
       "    .dataframe tbody tr th:only-of-type {\n",
       "        vertical-align: middle;\n",
       "    }\n",
       "\n",
       "    .dataframe tbody tr th {\n",
       "        vertical-align: top;\n",
       "    }\n",
       "\n",
       "    .dataframe thead th {\n",
       "        text-align: right;\n",
       "    }\n",
       "</style>\n",
       "<table border=\"1\" class=\"dataframe\">\n",
       "  <thead>\n",
       "    <tr style=\"text-align: right;\">\n",
       "      <th></th>\n",
       "      <th>jp_sales</th>\n",
       "    </tr>\n",
       "    <tr>\n",
       "      <th>genre</th>\n",
       "      <th></th>\n",
       "    </tr>\n",
       "  </thead>\n",
       "  <tbody>\n",
       "    <tr>\n",
       "      <th>Role-Playing</th>\n",
       "      <td>79.87</td>\n",
       "    </tr>\n",
       "    <tr>\n",
       "      <th>Action</th>\n",
       "      <td>63.62</td>\n",
       "    </tr>\n",
       "    <tr>\n",
       "      <th>Misc</th>\n",
       "      <td>17.60</td>\n",
       "    </tr>\n",
       "    <tr>\n",
       "      <th>Fighting</th>\n",
       "      <td>12.38</td>\n",
       "    </tr>\n",
       "    <tr>\n",
       "      <th>Platform</th>\n",
       "      <td>12.13</td>\n",
       "    </tr>\n",
       "  </tbody>\n",
       "</table>\n",
       "</div>"
      ],
      "text/plain": [
       "              jp_sales\n",
       "genre                 \n",
       "Role-Playing     79.87\n",
       "Action           63.62\n",
       "Misc             17.60\n",
       "Fighting         12.38\n",
       "Platform         12.13"
      ]
     },
     "metadata": {},
     "output_type": "display_data"
    }
   ],
   "source": [
    "table_game_genre_jp = table_game_actual.pivot_table(index='genre', values='jp_sales', aggfunc='sum')\n",
    "\n",
    "display(table_game_genre_jp.sort_values(by = 'jp_sales', ascending = False).head())"
   ]
  },
  {
   "cell_type": "code",
   "execution_count": 53,
   "metadata": {},
   "outputs": [
    {
     "data": {
      "text/html": [
       "<div>\n",
       "<style scoped>\n",
       "    .dataframe tbody tr th:only-of-type {\n",
       "        vertical-align: middle;\n",
       "    }\n",
       "\n",
       "    .dataframe tbody tr th {\n",
       "        vertical-align: top;\n",
       "    }\n",
       "\n",
       "    .dataframe thead th {\n",
       "        text-align: right;\n",
       "    }\n",
       "</style>\n",
       "<table border=\"1\" class=\"dataframe\">\n",
       "  <thead>\n",
       "    <tr style=\"text-align: right;\">\n",
       "      <th></th>\n",
       "      <th>jp_sales</th>\n",
       "    </tr>\n",
       "    <tr>\n",
       "      <th>rating</th>\n",
       "      <th></th>\n",
       "    </tr>\n",
       "  </thead>\n",
       "  <tbody>\n",
       "    <tr>\n",
       "      <th>не определён</th>\n",
       "      <td>138.21</td>\n",
       "    </tr>\n",
       "    <tr>\n",
       "      <th>E</th>\n",
       "      <td>36.68</td>\n",
       "    </tr>\n",
       "    <tr>\n",
       "      <th>T</th>\n",
       "      <td>33.39</td>\n",
       "    </tr>\n",
       "    <tr>\n",
       "      <th>M</th>\n",
       "      <td>26.14</td>\n",
       "    </tr>\n",
       "    <tr>\n",
       "      <th>E10+</th>\n",
       "      <td>11.23</td>\n",
       "    </tr>\n",
       "  </tbody>\n",
       "</table>\n",
       "</div>"
      ],
      "text/plain": [
       "              jp_sales\n",
       "rating                \n",
       "не определён    138.21\n",
       "E                36.68\n",
       "T                33.39\n",
       "M                26.14\n",
       "E10+             11.23"
      ]
     },
     "metadata": {},
     "output_type": "display_data"
    }
   ],
   "source": [
    "table_game_jp_rating = table_game_actual.pivot_table(index='rating', values='jp_sales', aggfunc='sum')\n",
    "\n",
    "display(table_game_jp_rating.sort_values(by = 'jp_sales', ascending = False).head())"
   ]
  },
  {
   "cell_type": "markdown",
   "metadata": {},
   "source": [
    "# Выводы\n",
    "Для Японии в топ-3 лидирующих платформ входят DS,3DS и PS3 - все три платформы японского производства,DS возможно вырывается вперед в виду раннего выхода (2004 год), 3DS, возможно входит топ из-за цены, так как из-за изначально невысоких продаж полсе выхода, цены были снижены, что привело к значительному повышению спроса .Выводу согласно рейтингу организации ESRB нет возможности сделать, так как у болей части игр этит кретерий не определён. Среди жанров - самые популярные являются Role-Playing, Action и Misc. \n",
    "\n",
    "Японская ролевая игра (англ. Japanese Role-Playing Game или JRPG) — поджанр, выделяемый среди компьютерных ролевых игр. Большинство таких игр было разработано в Японии и в первую очередь для внутреннего японского рынка для игровых приставок, то есть этим и объясняется большая популярность этого жанра в Японии."
   ]
  },
  {
   "cell_type": "markdown",
   "metadata": {},
   "source": [
    "# Портрет пользвотеля других регионов"
   ]
  },
  {
   "cell_type": "code",
   "execution_count": 54,
   "metadata": {},
   "outputs": [
    {
     "data": {
      "text/html": [
       "<div>\n",
       "<style scoped>\n",
       "    .dataframe tbody tr th:only-of-type {\n",
       "        vertical-align: middle;\n",
       "    }\n",
       "\n",
       "    .dataframe tbody tr th {\n",
       "        vertical-align: top;\n",
       "    }\n",
       "\n",
       "    .dataframe thead th {\n",
       "        text-align: right;\n",
       "    }\n",
       "</style>\n",
       "<table border=\"1\" class=\"dataframe\">\n",
       "  <thead>\n",
       "    <tr style=\"text-align: right;\">\n",
       "      <th></th>\n",
       "      <th>other_sales</th>\n",
       "    </tr>\n",
       "    <tr>\n",
       "      <th>platform</th>\n",
       "      <th></th>\n",
       "    </tr>\n",
       "  </thead>\n",
       "  <tbody>\n",
       "    <tr>\n",
       "      <th>PS3</th>\n",
       "      <td>64.82</td>\n",
       "    </tr>\n",
       "    <tr>\n",
       "      <th>PS4</th>\n",
       "      <td>48.35</td>\n",
       "    </tr>\n",
       "    <tr>\n",
       "      <th>X360</th>\n",
       "      <td>33.13</td>\n",
       "    </tr>\n",
       "    <tr>\n",
       "      <th>XOne</th>\n",
       "      <td>14.27</td>\n",
       "    </tr>\n",
       "    <tr>\n",
       "      <th>3DS</th>\n",
       "      <td>13.27</td>\n",
       "    </tr>\n",
       "  </tbody>\n",
       "</table>\n",
       "</div>"
      ],
      "text/plain": [
       "          other_sales\n",
       "platform             \n",
       "PS3             64.82\n",
       "PS4             48.35\n",
       "X360            33.13\n",
       "XOne            14.27\n",
       "3DS             13.27"
      ]
     },
     "metadata": {},
     "output_type": "display_data"
    }
   ],
   "source": [
    "table_game_actual_other = table_game_actual.pivot_table(index='platform', values='other_sales', aggfunc='sum')\n",
    "\n",
    "display(table_game_actual_other.sort_values(by = 'other_sales', ascending = False).head())"
   ]
  },
  {
   "cell_type": "code",
   "execution_count": 55,
   "metadata": {},
   "outputs": [
    {
     "data": {
      "text/html": [
       "<div>\n",
       "<style scoped>\n",
       "    .dataframe tbody tr th:only-of-type {\n",
       "        vertical-align: middle;\n",
       "    }\n",
       "\n",
       "    .dataframe tbody tr th {\n",
       "        vertical-align: top;\n",
       "    }\n",
       "\n",
       "    .dataframe thead th {\n",
       "        text-align: right;\n",
       "    }\n",
       "</style>\n",
       "<table border=\"1\" class=\"dataframe\">\n",
       "  <thead>\n",
       "    <tr style=\"text-align: right;\">\n",
       "      <th></th>\n",
       "      <th>other_sales</th>\n",
       "    </tr>\n",
       "    <tr>\n",
       "      <th>genre</th>\n",
       "      <th></th>\n",
       "    </tr>\n",
       "  </thead>\n",
       "  <tbody>\n",
       "    <tr>\n",
       "      <th>Action</th>\n",
       "      <td>64.14</td>\n",
       "    </tr>\n",
       "    <tr>\n",
       "      <th>Shooter</th>\n",
       "      <td>48.54</td>\n",
       "    </tr>\n",
       "    <tr>\n",
       "      <th>Sports</th>\n",
       "      <td>28.88</td>\n",
       "    </tr>\n",
       "    <tr>\n",
       "      <th>Role-Playing</th>\n",
       "      <td>19.68</td>\n",
       "    </tr>\n",
       "    <tr>\n",
       "      <th>Misc</th>\n",
       "      <td>12.41</td>\n",
       "    </tr>\n",
       "  </tbody>\n",
       "</table>\n",
       "</div>"
      ],
      "text/plain": [
       "              other_sales\n",
       "genre                    \n",
       "Action              64.14\n",
       "Shooter             48.54\n",
       "Sports              28.88\n",
       "Role-Playing        19.68\n",
       "Misc                12.41"
      ]
     },
     "metadata": {},
     "output_type": "display_data"
    }
   ],
   "source": [
    "table_game_genre_other = table_game_actual.pivot_table(index='genre', values='other_sales', aggfunc='sum')\n",
    "\n",
    "display(table_game_genre_other.sort_values(by = 'other_sales', ascending = False).head())"
   ]
  },
  {
   "cell_type": "code",
   "execution_count": 56,
   "metadata": {},
   "outputs": [
    {
     "data": {
      "text/html": [
       "<div>\n",
       "<style scoped>\n",
       "    .dataframe tbody tr th:only-of-type {\n",
       "        vertical-align: middle;\n",
       "    }\n",
       "\n",
       "    .dataframe tbody tr th {\n",
       "        vertical-align: top;\n",
       "    }\n",
       "\n",
       "    .dataframe thead th {\n",
       "        text-align: right;\n",
       "    }\n",
       "</style>\n",
       "<table border=\"1\" class=\"dataframe\">\n",
       "  <thead>\n",
       "    <tr style=\"text-align: right;\">\n",
       "      <th></th>\n",
       "      <th>other_sales</th>\n",
       "    </tr>\n",
       "    <tr>\n",
       "      <th>rating</th>\n",
       "      <th></th>\n",
       "    </tr>\n",
       "  </thead>\n",
       "  <tbody>\n",
       "    <tr>\n",
       "      <th>M</th>\n",
       "      <td>81.96</td>\n",
       "    </tr>\n",
       "    <tr>\n",
       "      <th>E</th>\n",
       "      <td>40.86</td>\n",
       "    </tr>\n",
       "    <tr>\n",
       "      <th>не определён</th>\n",
       "      <td>33.97</td>\n",
       "    </tr>\n",
       "    <tr>\n",
       "      <th>T</th>\n",
       "      <td>28.17</td>\n",
       "    </tr>\n",
       "    <tr>\n",
       "      <th>E10+</th>\n",
       "      <td>23.91</td>\n",
       "    </tr>\n",
       "  </tbody>\n",
       "</table>\n",
       "</div>"
      ],
      "text/plain": [
       "              other_sales\n",
       "rating                   \n",
       "M                   81.96\n",
       "E                   40.86\n",
       "не определён        33.97\n",
       "T                   28.17\n",
       "E10+                23.91"
      ]
     },
     "metadata": {},
     "output_type": "display_data"
    }
   ],
   "source": [
    "table_game_other_rating = table_game_actual.pivot_table(index='rating', values='other_sales', aggfunc='sum')\n",
    "\n",
    "display(table_game_other_rating.sort_values(by = 'other_sales', ascending = False).head())"
   ]
  },
  {
   "cell_type": "markdown",
   "metadata": {},
   "source": [
    "# Вывод\n",
    "Для остальных регионов наблюдаются аналогичные выводы как для регинов Северной Америки и Европы."
   ]
  },
  {
   "cell_type": "markdown",
   "metadata": {},
   "source": [
    "## Проверка гипотезы"
   ]
  },
  {
   "cell_type": "code",
   "execution_count": 57,
   "metadata": {},
   "outputs": [
    {
     "data": {
      "text/html": [
       "<div>\n",
       "<style scoped>\n",
       "    .dataframe tbody tr th:only-of-type {\n",
       "        vertical-align: middle;\n",
       "    }\n",
       "\n",
       "    .dataframe tbody tr th {\n",
       "        vertical-align: top;\n",
       "    }\n",
       "\n",
       "    .dataframe thead th {\n",
       "        text-align: right;\n",
       "    }\n",
       "</style>\n",
       "<table border=\"1\" class=\"dataframe\">\n",
       "  <thead>\n",
       "    <tr style=\"text-align: right;\">\n",
       "      <th></th>\n",
       "      <th>name</th>\n",
       "      <th>platform</th>\n",
       "      <th>year_of_release</th>\n",
       "      <th>genre</th>\n",
       "      <th>na_sales</th>\n",
       "      <th>eu_sales</th>\n",
       "      <th>jp_sales</th>\n",
       "      <th>other_sales</th>\n",
       "      <th>critic_score</th>\n",
       "      <th>user_score</th>\n",
       "      <th>rating</th>\n",
       "      <th>general_sales</th>\n",
       "    </tr>\n",
       "  </thead>\n",
       "  <tbody>\n",
       "    <tr>\n",
       "      <th>16</th>\n",
       "      <td>Grand Theft Auto V</td>\n",
       "      <td>PS3</td>\n",
       "      <td>2013</td>\n",
       "      <td>Action</td>\n",
       "      <td>7.02</td>\n",
       "      <td>9.09</td>\n",
       "      <td>0.98</td>\n",
       "      <td>3.96</td>\n",
       "      <td>97.0</td>\n",
       "      <td>8.2</td>\n",
       "      <td>M</td>\n",
       "      <td>21.05</td>\n",
       "    </tr>\n",
       "    <tr>\n",
       "      <th>23</th>\n",
       "      <td>Grand Theft Auto V</td>\n",
       "      <td>X360</td>\n",
       "      <td>2013</td>\n",
       "      <td>Action</td>\n",
       "      <td>9.66</td>\n",
       "      <td>5.14</td>\n",
       "      <td>0.06</td>\n",
       "      <td>1.41</td>\n",
       "      <td>97.0</td>\n",
       "      <td>8.1</td>\n",
       "      <td>M</td>\n",
       "      <td>16.27</td>\n",
       "    </tr>\n",
       "    <tr>\n",
       "      <th>29</th>\n",
       "      <td>Call of Duty: Modern Warfare 3</td>\n",
       "      <td>X360</td>\n",
       "      <td>2011</td>\n",
       "      <td>Shooter</td>\n",
       "      <td>9.04</td>\n",
       "      <td>4.24</td>\n",
       "      <td>0.13</td>\n",
       "      <td>1.32</td>\n",
       "      <td>88.0</td>\n",
       "      <td>3.4</td>\n",
       "      <td>M</td>\n",
       "      <td>14.73</td>\n",
       "    </tr>\n",
       "    <tr>\n",
       "      <th>31</th>\n",
       "      <td>Call of Duty: Black Ops 3</td>\n",
       "      <td>PS4</td>\n",
       "      <td>2015</td>\n",
       "      <td>Shooter</td>\n",
       "      <td>6.03</td>\n",
       "      <td>5.86</td>\n",
       "      <td>0.36</td>\n",
       "      <td>2.38</td>\n",
       "      <td>не определён</td>\n",
       "      <td>не определён</td>\n",
       "      <td>не определён</td>\n",
       "      <td>14.63</td>\n",
       "    </tr>\n",
       "    <tr>\n",
       "      <th>33</th>\n",
       "      <td>Pokemon X/Pokemon Y</td>\n",
       "      <td>3DS</td>\n",
       "      <td>2013</td>\n",
       "      <td>Role-Playing</td>\n",
       "      <td>5.28</td>\n",
       "      <td>4.19</td>\n",
       "      <td>4.35</td>\n",
       "      <td>0.78</td>\n",
       "      <td>не определён</td>\n",
       "      <td>не определён</td>\n",
       "      <td>не определён</td>\n",
       "      <td>14.60</td>\n",
       "    </tr>\n",
       "  </tbody>\n",
       "</table>\n",
       "</div>"
      ],
      "text/plain": [
       "                              name platform  year_of_release         genre  \\\n",
       "16              Grand Theft Auto V      PS3             2013        Action   \n",
       "23              Grand Theft Auto V     X360             2013        Action   \n",
       "29  Call of Duty: Modern Warfare 3     X360             2011       Shooter   \n",
       "31       Call of Duty: Black Ops 3      PS4             2015       Shooter   \n",
       "33             Pokemon X/Pokemon Y      3DS             2013  Role-Playing   \n",
       "\n",
       "    na_sales  eu_sales  jp_sales  other_sales  critic_score    user_score  \\\n",
       "16      7.02      9.09      0.98         3.96          97.0           8.2   \n",
       "23      9.66      5.14      0.06         1.41          97.0           8.1   \n",
       "29      9.04      4.24      0.13         1.32          88.0           3.4   \n",
       "31      6.03      5.86      0.36         2.38  не определён  не определён   \n",
       "33      5.28      4.19      4.35         0.78  не определён  не определён   \n",
       "\n",
       "          rating  general_sales  \n",
       "16             M          21.05  \n",
       "23             M          16.27  \n",
       "29             M          14.73  \n",
       "31  не определён          14.63  \n",
       "33  не определён          14.60  "
      ]
     },
     "metadata": {},
     "output_type": "display_data"
    }
   ],
   "source": [
    "display(table_game_actual.head())"
   ]
  },
  {
   "cell_type": "markdown",
   "metadata": {},
   "source": [
    "Проверка гипотез начинается с формулировки нулевой гипотезы H₀ - средняя выручка пользователей тарифов «Ультра» и «Смарт» одинаковы. Исходя из H₀ формулируется альтернативная гипотеза H₁. Это утверждение, которое принимается верным, если отбрасывается H₀. Предположим, что средняя выручка пользователей тарифов «Ультра» и «Смарт» различаются\n",
    "\n",
    "- H₀ - Средние пользовательские рейтинги платформ Xbox One и PC одинаковые\n",
    "- H₁ - Средние пользовательские рейтинги платформ Xbox One и PC различаются\n",
    "\n",
    "Общепринятые пороговые значения — 5% и 1%, поэтому примем, что alpha = 0.05"
   ]
  },
  {
   "cell_type": "code",
   "execution_count": 58,
   "metadata": {},
   "outputs": [
    {
     "data": {
      "text/plain": [
       "array(['Wii', 'NES', 'GB', 'DS', 'X360', 'PS3', 'PS2', 'SNES', 'GBA',\n",
       "       'PS4', '3DS', 'N64', 'PS', 'XB', 'PC', '2600', 'PSP', 'XOne',\n",
       "       'WiiU', 'GC', 'GEN', 'DC', 'PSV', 'SAT', 'SCD', 'WS', 'NG', 'TG16',\n",
       "       '3DO', 'GG', 'PCFX'], dtype=object)"
      ]
     },
     "execution_count": 58,
     "metadata": {},
     "output_type": "execute_result"
    }
   ],
   "source": [
    "table_game['platform'].unique()"
   ]
  },
  {
   "cell_type": "code",
   "execution_count": 59,
   "metadata": {},
   "outputs": [],
   "source": [
    "table_game_xb = table_game.query('platform == \"XB\"').reset_index()\n",
    "table_game_xb = table_game_xb.dropna().reset_index()"
   ]
  },
  {
   "cell_type": "code",
   "execution_count": 60,
   "metadata": {},
   "outputs": [],
   "source": [
    "table_game_pc = table_game.query('platform == \"PC\"').reset_index()\n",
    "table_game_pc = table_game_pc.dropna().reset_index()"
   ]
  },
  {
   "cell_type": "code",
   "execution_count": 61,
   "metadata": {},
   "outputs": [
    {
     "name": "stdout",
     "output_type": "stream",
     "text": [
      "p-значение: 2.0014833442007507e-11\n",
      "Отвергаем нулевую гипотезу\n"
     ]
    }
   ],
   "source": [
    "# проверим гипотезы\n",
    "\n",
    "alpha = 0.05\n",
    "\n",
    "results = st.ttest_ind(table_game_xb['user_score'], table_game_pc['user_score'])\n",
    "print('p-значение:', results.pvalue)\n",
    "if results.pvalue < alpha:\n",
    "    print(\"Отвергаем нулевую гипотезу\")\n",
    "else:\n",
    "    print(\"Не получилось отвергнуть нулевую гипотезу\")"
   ]
  },
  {
   "cell_type": "markdown",
   "metadata": {},
   "source": [
    "То есть гипиотезу о том, что средние пользовательские рейтинги платформ Xbox One и PC одинаковые, отвергаем, то есть рейтинги различаются,  можно предположить так, но это только предположение, так как у нас нет достаточных данных для подтверждения."
   ]
  },
  {
   "cell_type": "markdown",
   "metadata": {},
   "source": [
    "Проверим еще одну гипотезу"
   ]
  },
  {
   "cell_type": "markdown",
   "metadata": {},
   "source": [
    "- H₀ - Средние пользовательские рейтинги жанров Action (англ. «действие», экшен-игры) и Sports (англ. «спортивные соревнования») разные.\n",
    "- H₁ - •\tСредние пользовательские рейтинги жанров Action (англ. «действие», экшен-игры) и Sports (англ. «спортивные соревнования») одинаковые"
   ]
  },
  {
   "cell_type": "code",
   "execution_count": 62,
   "metadata": {},
   "outputs": [],
   "source": [
    "table_game_action = table_game.query('genre == \"Action\"').reset_index()\n",
    "table_game_action = table_game_action.dropna().reset_index()"
   ]
  },
  {
   "cell_type": "code",
   "execution_count": 63,
   "metadata": {},
   "outputs": [],
   "source": [
    "table_game_sports = table_game.query('genre == \"Sports\"').reset_index()\n",
    "table_game_sports = table_game_sports.dropna().reset_index()"
   ]
  },
  {
   "cell_type": "code",
   "execution_count": 64,
   "metadata": {},
   "outputs": [
    {
     "name": "stdout",
     "output_type": "stream",
     "text": [
      "p-значение: 5.763420616883605e-06\n",
      "Отвергаем нулевую гипотезу\n"
     ]
    }
   ],
   "source": [
    "# проверяем гипотезы\n",
    "\n",
    "alpha = 0.05\n",
    "\n",
    "results = st.ttest_ind(table_game_action['user_score'], table_game_sports['user_score'])\n",
    "print('p-значение:', results.pvalue)\n",
    "if results.pvalue < alpha:\n",
    "    print(\"Отвергаем нулевую гипотезу\")\n",
    "else:\n",
    "    print(\"Не получилось отвергнуть нулевую гипотезу\")"
   ]
  },
  {
   "cell_type": "markdown",
   "metadata": {},
   "source": [
    "Отвергаем гипотезу о том, что средние пользовательские рейтинги жанров Action (англ. «действие», экшен-игры) и Sports (англ. «спортивные соревнования») разные, то есть можно предположить, что они для этих жанров одинаковые, но это только преположение, так как у нас нет достаточных данных для подтверждения."
   ]
  },
  {
   "cell_type": "markdown",
   "metadata": {},
   "source": [
    "## Общий вывод"
   ]
  },
  {
   "cell_type": "markdown",
   "metadata": {},
   "source": [
    "Из проведенного анализа данных можно сделать вывод, что продажи зависят от региона, территориально их можно разбить на 2 - первый - это Северная Америка, Европа и другие страны, и в отдельную категорию попадает Япония. В певрой категории можно выделить топ-3 платформы - это X360, Wii и PS3 и популярные жанры Action, Sports и Shooter. Для Японии же эту будут платформы DS,3DS и PS3 и жанры Role-Playing, Action и Misc. Оценки критиков и пользователей влияют на продажи, но это не критичные и не определяющие параметры, их влияние не велико. Но отдельно можно выделить влияние рейтинга ESRB, выявлено, что игры с рейтином М являются самыми прибыльными."
   ]
  }
 ],
 "metadata": {
  "ExecuteTimeLog": [
   {
    "duration": 2558,
    "start_time": "2022-02-20T12:42:47.826Z"
   },
   {
    "duration": 81,
    "start_time": "2022-02-20T12:42:58.730Z"
   },
   {
    "duration": 4,
    "start_time": "2022-02-20T12:43:44.203Z"
   },
   {
    "duration": 26,
    "start_time": "2022-02-20T12:43:57.895Z"
   },
   {
    "duration": 36,
    "start_time": "2022-02-20T12:44:07.640Z"
   },
   {
    "duration": 4,
    "start_time": "2022-02-20T12:44:14.758Z"
   },
   {
    "duration": 14,
    "start_time": "2022-02-20T12:44:23.723Z"
   },
   {
    "duration": 6,
    "start_time": "2022-02-20T12:45:11.405Z"
   },
   {
    "duration": 11,
    "start_time": "2022-02-20T12:47:53.435Z"
   },
   {
    "duration": 8,
    "start_time": "2022-02-20T12:48:11.467Z"
   },
   {
    "duration": 9,
    "start_time": "2022-02-20T12:48:44.268Z"
   },
   {
    "duration": 4,
    "start_time": "2022-02-20T12:48:51.870Z"
   },
   {
    "duration": 25,
    "start_time": "2022-02-20T12:50:56.034Z"
   },
   {
    "duration": 31,
    "start_time": "2022-02-20T12:51:08.307Z"
   },
   {
    "duration": 36,
    "start_time": "2022-02-20T12:51:24.969Z"
   },
   {
    "duration": 36,
    "start_time": "2022-02-20T12:51:53.747Z"
   },
   {
    "duration": 458,
    "start_time": "2022-02-20T12:52:39.591Z"
   },
   {
    "duration": 11,
    "start_time": "2022-02-20T12:52:57.760Z"
   },
   {
    "duration": 300,
    "start_time": "2022-02-20T12:54:56.514Z"
   },
   {
    "duration": 8,
    "start_time": "2022-02-20T12:55:24.774Z"
   },
   {
    "duration": 25,
    "start_time": "2022-02-20T12:56:06.941Z"
   },
   {
    "duration": 1523,
    "start_time": "2022-02-20T12:56:30.451Z"
   },
   {
    "duration": 1850,
    "start_time": "2022-02-20T12:56:59.522Z"
   },
   {
    "duration": 101,
    "start_time": "2022-02-20T12:57:01.375Z"
   },
   {
    "duration": 47,
    "start_time": "2022-02-20T12:57:01.479Z"
   },
   {
    "duration": 42,
    "start_time": "2022-02-20T12:57:01.529Z"
   },
   {
    "duration": 5,
    "start_time": "2022-02-20T12:57:01.574Z"
   },
   {
    "duration": 45,
    "start_time": "2022-02-20T12:57:01.582Z"
   },
   {
    "duration": 7,
    "start_time": "2022-02-20T12:57:01.630Z"
   },
   {
    "duration": 21,
    "start_time": "2022-02-20T12:57:01.644Z"
   },
   {
    "duration": 10,
    "start_time": "2022-02-20T12:57:01.669Z"
   },
   {
    "duration": 51,
    "start_time": "2022-02-20T12:57:01.681Z"
   },
   {
    "duration": 9,
    "start_time": "2022-02-20T12:57:01.735Z"
   },
   {
    "duration": 78,
    "start_time": "2022-02-20T12:57:01.748Z"
   },
   {
    "duration": 14,
    "start_time": "2022-02-20T12:57:01.829Z"
   },
   {
    "duration": 531,
    "start_time": "2022-02-20T12:57:01.846Z"
   },
   {
    "duration": -1347,
    "start_time": "2022-02-20T12:57:03.728Z"
   },
   {
    "duration": 325,
    "start_time": "2022-02-20T12:57:15.573Z"
   },
   {
    "duration": 1610,
    "start_time": "2022-02-20T12:57:28.520Z"
   },
   {
    "duration": 94,
    "start_time": "2022-02-20T12:57:30.132Z"
   },
   {
    "duration": 28,
    "start_time": "2022-02-20T12:57:30.230Z"
   },
   {
    "duration": 83,
    "start_time": "2022-02-20T12:57:30.262Z"
   },
   {
    "duration": 5,
    "start_time": "2022-02-20T12:57:30.348Z"
   },
   {
    "duration": 30,
    "start_time": "2022-02-20T12:57:30.357Z"
   },
   {
    "duration": 10,
    "start_time": "2022-02-20T12:57:30.390Z"
   },
   {
    "duration": 22,
    "start_time": "2022-02-20T12:57:30.404Z"
   },
   {
    "duration": 20,
    "start_time": "2022-02-20T12:57:30.429Z"
   },
   {
    "duration": 13,
    "start_time": "2022-02-20T12:57:30.452Z"
   },
   {
    "duration": 10,
    "start_time": "2022-02-20T12:57:30.468Z"
   },
   {
    "duration": 59,
    "start_time": "2022-02-20T12:57:30.481Z"
   },
   {
    "duration": 11,
    "start_time": "2022-02-20T12:57:30.543Z"
   },
   {
    "duration": 13,
    "start_time": "2022-02-20T12:57:30.557Z"
   },
   {
    "duration": 59,
    "start_time": "2022-02-20T12:57:30.573Z"
   },
   {
    "duration": 53,
    "start_time": "2022-02-20T12:57:40.543Z"
   },
   {
    "duration": 26,
    "start_time": "2022-02-20T12:58:03.011Z"
   },
   {
    "duration": 14,
    "start_time": "2022-02-20T13:00:14.506Z"
   },
   {
    "duration": 17,
    "start_time": "2022-02-20T13:00:50.099Z"
   },
   {
    "duration": 8,
    "start_time": "2022-02-20T13:03:45.773Z"
   },
   {
    "duration": 11,
    "start_time": "2022-02-20T13:04:41.912Z"
   },
   {
    "duration": 21,
    "start_time": "2022-02-20T13:04:48.387Z"
   },
   {
    "duration": 1547,
    "start_time": "2022-02-20T13:04:58.391Z"
   },
   {
    "duration": 85,
    "start_time": "2022-02-20T13:04:59.941Z"
   },
   {
    "duration": 26,
    "start_time": "2022-02-20T13:05:00.030Z"
   },
   {
    "duration": 67,
    "start_time": "2022-02-20T13:05:00.059Z"
   },
   {
    "duration": 5,
    "start_time": "2022-02-20T13:05:00.129Z"
   },
   {
    "duration": 60,
    "start_time": "2022-02-20T13:05:00.136Z"
   },
   {
    "duration": 5,
    "start_time": "2022-02-20T13:05:00.198Z"
   },
   {
    "duration": 18,
    "start_time": "2022-02-20T13:05:00.207Z"
   },
   {
    "duration": 10,
    "start_time": "2022-02-20T13:05:00.228Z"
   },
   {
    "duration": 22,
    "start_time": "2022-02-20T13:05:00.241Z"
   },
   {
    "duration": 11,
    "start_time": "2022-02-20T13:05:00.266Z"
   },
   {
    "duration": 45,
    "start_time": "2022-02-20T13:05:00.279Z"
   },
   {
    "duration": 11,
    "start_time": "2022-02-20T13:05:00.327Z"
   },
   {
    "duration": 8,
    "start_time": "2022-02-20T13:05:00.340Z"
   },
   {
    "duration": 27,
    "start_time": "2022-02-20T13:05:00.350Z"
   },
   {
    "duration": 64,
    "start_time": "2022-02-20T13:05:00.380Z"
   },
   {
    "duration": 16,
    "start_time": "2022-02-20T13:05:00.446Z"
   },
   {
    "duration": 468,
    "start_time": "2022-02-20T13:05:00.465Z"
   },
   {
    "duration": -1351,
    "start_time": "2022-02-20T13:05:02.286Z"
   },
   {
    "duration": -1353,
    "start_time": "2022-02-20T13:05:02.290Z"
   },
   {
    "duration": 362,
    "start_time": "2022-02-20T13:05:18.996Z"
   },
   {
    "duration": 1533,
    "start_time": "2022-02-20T13:05:27.175Z"
   },
   {
    "duration": 701,
    "start_time": "2022-02-20T13:05:28.713Z"
   },
   {
    "duration": 25,
    "start_time": "2022-02-20T13:05:29.417Z"
   },
   {
    "duration": 36,
    "start_time": "2022-02-20T13:05:29.445Z"
   },
   {
    "duration": 4,
    "start_time": "2022-02-20T13:05:29.484Z"
   },
   {
    "duration": 46,
    "start_time": "2022-02-20T13:05:29.490Z"
   },
   {
    "duration": 6,
    "start_time": "2022-02-20T13:05:29.538Z"
   },
   {
    "duration": 12,
    "start_time": "2022-02-20T13:05:29.547Z"
   },
   {
    "duration": 9,
    "start_time": "2022-02-20T13:05:29.562Z"
   },
   {
    "duration": 57,
    "start_time": "2022-02-20T13:05:29.575Z"
   },
   {
    "duration": 5,
    "start_time": "2022-02-20T13:05:29.636Z"
   },
   {
    "duration": 55,
    "start_time": "2022-02-20T13:05:29.644Z"
   },
   {
    "duration": 33,
    "start_time": "2022-02-20T13:05:29.702Z"
   },
   {
    "duration": 9,
    "start_time": "2022-02-20T13:05:29.737Z"
   },
   {
    "duration": 24,
    "start_time": "2022-02-20T13:05:29.749Z"
   },
   {
    "duration": 74,
    "start_time": "2022-02-20T13:05:29.775Z"
   },
   {
    "duration": 19,
    "start_time": "2022-02-20T13:05:29.851Z"
   },
   {
    "duration": 493,
    "start_time": "2022-02-20T13:05:29.874Z"
   },
   {
    "duration": -1364,
    "start_time": "2022-02-20T13:05:31.735Z"
   },
   {
    "duration": -1367,
    "start_time": "2022-02-20T13:05:31.740Z"
   },
   {
    "duration": 1864,
    "start_time": "2022-02-20T13:06:18.621Z"
   },
   {
    "duration": 120,
    "start_time": "2022-02-20T13:06:20.489Z"
   },
   {
    "duration": 33,
    "start_time": "2022-02-20T13:06:20.614Z"
   },
   {
    "duration": 35,
    "start_time": "2022-02-20T13:06:20.651Z"
   },
   {
    "duration": 4,
    "start_time": "2022-02-20T13:06:20.689Z"
   },
   {
    "duration": 15,
    "start_time": "2022-02-20T13:06:20.727Z"
   },
   {
    "duration": 6,
    "start_time": "2022-02-20T13:06:20.745Z"
   },
   {
    "duration": 8,
    "start_time": "2022-02-20T13:06:20.756Z"
   },
   {
    "duration": 10,
    "start_time": "2022-02-20T13:06:20.767Z"
   },
   {
    "duration": 53,
    "start_time": "2022-02-20T13:06:20.779Z"
   },
   {
    "duration": 13,
    "start_time": "2022-02-20T13:06:20.835Z"
   },
   {
    "duration": 45,
    "start_time": "2022-02-20T13:06:20.851Z"
   },
   {
    "duration": 28,
    "start_time": "2022-02-20T13:06:20.900Z"
   },
   {
    "duration": 8,
    "start_time": "2022-02-20T13:06:20.931Z"
   },
   {
    "duration": 29,
    "start_time": "2022-02-20T13:06:20.942Z"
   },
   {
    "duration": 69,
    "start_time": "2022-02-20T13:06:20.974Z"
   },
   {
    "duration": 18,
    "start_time": "2022-02-20T13:06:21.046Z"
   },
   {
    "duration": 456,
    "start_time": "2022-02-20T13:12:02.239Z"
   },
   {
    "duration": 66,
    "start_time": "2022-02-20T13:12:14.041Z"
   },
   {
    "duration": 16,
    "start_time": "2022-02-20T13:31:09.936Z"
   },
   {
    "duration": 27,
    "start_time": "2022-02-20T13:31:25.616Z"
   },
   {
    "duration": 379,
    "start_time": "2022-02-20T13:32:00.269Z"
   },
   {
    "duration": 1019,
    "start_time": "2022-02-20T13:32:06.197Z"
   },
   {
    "duration": 293,
    "start_time": "2022-02-20T13:51:07.923Z"
   },
   {
    "duration": 376,
    "start_time": "2022-02-20T13:51:28.390Z"
   },
   {
    "duration": 12,
    "start_time": "2022-02-20T13:53:17.182Z"
   },
   {
    "duration": 317,
    "start_time": "2022-02-20T13:53:57.281Z"
   },
   {
    "duration": 8,
    "start_time": "2022-02-20T13:54:04.442Z"
   },
   {
    "duration": 453,
    "start_time": "2022-02-20T13:54:08.532Z"
   },
   {
    "duration": 8,
    "start_time": "2022-02-20T13:54:24.143Z"
   },
   {
    "duration": 386,
    "start_time": "2022-02-20T13:54:25.956Z"
   },
   {
    "duration": 1604,
    "start_time": "2022-02-20T13:57:19.371Z"
   },
   {
    "duration": 89,
    "start_time": "2022-02-20T13:57:20.977Z"
   },
   {
    "duration": 26,
    "start_time": "2022-02-20T13:57:21.069Z"
   },
   {
    "duration": 62,
    "start_time": "2022-02-20T13:57:21.098Z"
   },
   {
    "duration": 4,
    "start_time": "2022-02-20T13:57:21.163Z"
   },
   {
    "duration": 56,
    "start_time": "2022-02-20T13:57:21.170Z"
   },
   {
    "duration": 5,
    "start_time": "2022-02-20T13:57:21.229Z"
   },
   {
    "duration": 16,
    "start_time": "2022-02-20T13:57:21.237Z"
   },
   {
    "duration": 8,
    "start_time": "2022-02-20T13:57:21.256Z"
   },
   {
    "duration": 10,
    "start_time": "2022-02-20T13:57:21.267Z"
   },
   {
    "duration": 48,
    "start_time": "2022-02-20T13:57:21.279Z"
   },
   {
    "duration": 39,
    "start_time": "2022-02-20T13:57:21.330Z"
   },
   {
    "duration": 56,
    "start_time": "2022-02-20T13:57:21.372Z"
   },
   {
    "duration": 10,
    "start_time": "2022-02-20T13:57:21.431Z"
   },
   {
    "duration": 4,
    "start_time": "2022-02-20T13:57:21.444Z"
   },
   {
    "duration": 86,
    "start_time": "2022-02-20T13:57:21.451Z"
   },
   {
    "duration": 24,
    "start_time": "2022-02-20T13:57:21.540Z"
   },
   {
    "duration": 66,
    "start_time": "2022-02-20T13:57:21.567Z"
   },
   {
    "duration": 4,
    "start_time": "2022-02-20T13:57:21.636Z"
   },
   {
    "duration": 838,
    "start_time": "2022-02-20T13:57:21.643Z"
   },
   {
    "duration": 9,
    "start_time": "2022-02-20T13:57:22.484Z"
   },
   {
    "duration": 410,
    "start_time": "2022-02-20T13:57:22.496Z"
   },
   {
    "duration": 7,
    "start_time": "2022-02-20T13:58:05.590Z"
   },
   {
    "duration": 387,
    "start_time": "2022-02-20T13:58:07.695Z"
   },
   {
    "duration": 3,
    "start_time": "2022-02-20T14:01:18.022Z"
   },
   {
    "duration": 1737,
    "start_time": "2022-02-20T14:23:30.215Z"
   },
   {
    "duration": 84,
    "start_time": "2022-02-20T14:23:31.955Z"
   },
   {
    "duration": 24,
    "start_time": "2022-02-20T14:23:32.043Z"
   },
   {
    "duration": 68,
    "start_time": "2022-02-20T14:23:32.070Z"
   },
   {
    "duration": 5,
    "start_time": "2022-02-20T14:23:32.141Z"
   },
   {
    "duration": 35,
    "start_time": "2022-02-20T14:23:32.148Z"
   },
   {
    "duration": 10,
    "start_time": "2022-02-20T14:23:32.186Z"
   },
   {
    "duration": 10,
    "start_time": "2022-02-20T14:23:32.200Z"
   },
   {
    "duration": 17,
    "start_time": "2022-02-20T14:23:32.213Z"
   },
   {
    "duration": 14,
    "start_time": "2022-02-20T14:23:32.232Z"
   },
   {
    "duration": 7,
    "start_time": "2022-02-20T14:23:32.249Z"
   },
   {
    "duration": 46,
    "start_time": "2022-02-20T14:23:32.258Z"
   },
   {
    "duration": 7,
    "start_time": "2022-02-20T14:23:32.326Z"
   },
   {
    "duration": 17,
    "start_time": "2022-02-20T14:23:32.336Z"
   },
   {
    "duration": 9,
    "start_time": "2022-02-20T14:23:32.356Z"
   },
   {
    "duration": 68,
    "start_time": "2022-02-20T14:23:32.368Z"
   },
   {
    "duration": 21,
    "start_time": "2022-02-20T14:23:32.440Z"
   },
   {
    "duration": 4,
    "start_time": "2022-02-20T14:23:32.464Z"
   },
   {
    "duration": 70,
    "start_time": "2022-02-20T14:23:32.472Z"
   },
   {
    "duration": 4,
    "start_time": "2022-02-20T14:23:32.545Z"
   },
   {
    "duration": 1093,
    "start_time": "2022-02-20T14:23:32.552Z"
   },
   {
    "duration": 8,
    "start_time": "2022-02-20T14:23:33.648Z"
   },
   {
    "duration": 387,
    "start_time": "2022-02-20T14:23:33.661Z"
   },
   {
    "duration": 25,
    "start_time": "2022-02-20T14:23:34.051Z"
   },
   {
    "duration": 24,
    "start_time": "2022-02-20T14:24:31.443Z"
   },
   {
    "duration": 408,
    "start_time": "2022-02-20T14:28:41.583Z"
   },
   {
    "duration": 364,
    "start_time": "2022-02-20T14:29:13.042Z"
   },
   {
    "duration": 23,
    "start_time": "2022-02-20T14:34:30.108Z"
   },
   {
    "duration": 14,
    "start_time": "2022-02-20T14:38:18.364Z"
   },
   {
    "duration": 16,
    "start_time": "2022-02-20T14:40:58.450Z"
   },
   {
    "duration": 24,
    "start_time": "2022-02-20T14:42:42.802Z"
   },
   {
    "duration": 483,
    "start_time": "2022-02-20T14:44:56.237Z"
   },
   {
    "duration": 24,
    "start_time": "2022-02-20T14:45:04.369Z"
   },
   {
    "duration": 1042,
    "start_time": "2022-02-20T14:45:29.063Z"
   },
   {
    "duration": 8,
    "start_time": "2022-02-20T14:45:56.712Z"
   },
   {
    "duration": 389,
    "start_time": "2022-02-20T14:46:01.077Z"
   },
   {
    "duration": 3598,
    "start_time": "2022-02-20T14:49:32.268Z"
   },
   {
    "duration": 2141,
    "start_time": "2022-02-20T14:54:25.827Z"
   },
   {
    "duration": 3271,
    "start_time": "2022-02-20T14:54:44.966Z"
   },
   {
    "duration": 2560,
    "start_time": "2022-02-20T14:57:03.358Z"
   },
   {
    "duration": 9,
    "start_time": "2022-02-20T15:01:56.796Z"
   },
   {
    "duration": 1506,
    "start_time": "2022-02-20T15:02:04.552Z"
   },
   {
    "duration": 9,
    "start_time": "2022-02-20T15:06:56.079Z"
   },
   {
    "duration": 1160,
    "start_time": "2022-02-20T15:06:57.535Z"
   },
   {
    "duration": 8,
    "start_time": "2022-02-20T15:07:11.473Z"
   },
   {
    "duration": 759,
    "start_time": "2022-02-20T15:07:14.038Z"
   },
   {
    "duration": 8,
    "start_time": "2022-02-20T15:13:07.436Z"
   },
   {
    "duration": 930,
    "start_time": "2022-02-20T15:13:08.820Z"
   },
   {
    "duration": 7,
    "start_time": "2022-02-20T15:13:21.932Z"
   },
   {
    "duration": 828,
    "start_time": "2022-02-20T15:13:25.949Z"
   },
   {
    "duration": 3,
    "start_time": "2022-02-20T15:14:09.643Z"
   },
   {
    "duration": 1584,
    "start_time": "2022-02-20T15:15:47.468Z"
   },
   {
    "duration": 84,
    "start_time": "2022-02-20T15:15:49.055Z"
   },
   {
    "duration": 23,
    "start_time": "2022-02-20T15:15:49.142Z"
   },
   {
    "duration": 69,
    "start_time": "2022-02-20T15:15:49.168Z"
   },
   {
    "duration": 4,
    "start_time": "2022-02-20T15:15:49.240Z"
   },
   {
    "duration": 15,
    "start_time": "2022-02-20T15:15:49.247Z"
   },
   {
    "duration": 5,
    "start_time": "2022-02-20T15:15:49.265Z"
   },
   {
    "duration": 13,
    "start_time": "2022-02-20T15:15:49.274Z"
   },
   {
    "duration": 7,
    "start_time": "2022-02-20T15:15:49.326Z"
   },
   {
    "duration": 18,
    "start_time": "2022-02-20T15:15:49.337Z"
   },
   {
    "duration": 6,
    "start_time": "2022-02-20T15:15:49.358Z"
   },
   {
    "duration": 77,
    "start_time": "2022-02-20T15:15:49.367Z"
   },
   {
    "duration": 11,
    "start_time": "2022-02-20T15:15:49.447Z"
   },
   {
    "duration": 8,
    "start_time": "2022-02-20T15:15:49.460Z"
   },
   {
    "duration": 5,
    "start_time": "2022-02-20T15:15:49.470Z"
   },
   {
    "duration": 75,
    "start_time": "2022-02-20T15:15:49.477Z"
   },
   {
    "duration": 16,
    "start_time": "2022-02-20T15:15:49.555Z"
   },
   {
    "duration": 8,
    "start_time": "2022-02-20T15:15:49.573Z"
   },
   {
    "duration": 55,
    "start_time": "2022-02-20T15:15:49.583Z"
   },
   {
    "duration": 18,
    "start_time": "2022-02-20T15:15:49.641Z"
   },
   {
    "duration": 721,
    "start_time": "2022-02-20T15:15:49.661Z"
   },
   {
    "duration": 7,
    "start_time": "2022-02-20T15:15:50.384Z"
   },
   {
    "duration": 368,
    "start_time": "2022-02-20T15:15:50.396Z"
   },
   {
    "duration": 2280,
    "start_time": "2022-02-20T15:15:50.767Z"
   },
   {
    "duration": 22,
    "start_time": "2022-02-20T15:15:53.050Z"
   },
   {
    "duration": 3,
    "start_time": "2022-02-20T15:15:53.075Z"
   },
   {
    "duration": 10,
    "start_time": "2022-02-20T15:15:53.080Z"
   },
   {
    "duration": 899,
    "start_time": "2022-02-20T15:15:53.125Z"
   },
   {
    "duration": 1539,
    "start_time": "2022-02-21T11:18:04.512Z"
   },
   {
    "duration": 86,
    "start_time": "2022-02-21T11:18:06.054Z"
   },
   {
    "duration": 29,
    "start_time": "2022-02-21T11:18:06.147Z"
   },
   {
    "duration": 33,
    "start_time": "2022-02-21T11:18:06.178Z"
   },
   {
    "duration": 4,
    "start_time": "2022-02-21T11:18:06.213Z"
   },
   {
    "duration": 44,
    "start_time": "2022-02-21T11:18:06.219Z"
   },
   {
    "duration": 5,
    "start_time": "2022-02-21T11:18:06.268Z"
   },
   {
    "duration": 12,
    "start_time": "2022-02-21T11:18:06.276Z"
   },
   {
    "duration": 32,
    "start_time": "2022-02-21T11:18:06.291Z"
   },
   {
    "duration": 10,
    "start_time": "2022-02-21T11:18:06.326Z"
   },
   {
    "duration": 10,
    "start_time": "2022-02-21T11:18:06.338Z"
   },
   {
    "duration": 34,
    "start_time": "2022-02-21T11:18:06.362Z"
   },
   {
    "duration": 8,
    "start_time": "2022-02-21T11:18:06.398Z"
   },
   {
    "duration": 7,
    "start_time": "2022-02-21T11:18:06.408Z"
   },
   {
    "duration": 10,
    "start_time": "2022-02-21T11:18:06.417Z"
   },
   {
    "duration": 70,
    "start_time": "2022-02-21T11:18:06.429Z"
   },
   {
    "duration": 17,
    "start_time": "2022-02-21T11:18:06.501Z"
   },
   {
    "duration": 3,
    "start_time": "2022-02-21T11:18:06.520Z"
   },
   {
    "duration": 53,
    "start_time": "2022-02-21T11:18:06.526Z"
   },
   {
    "duration": 3,
    "start_time": "2022-02-21T11:18:06.582Z"
   },
   {
    "duration": 697,
    "start_time": "2022-02-21T11:18:06.588Z"
   },
   {
    "duration": 6,
    "start_time": "2022-02-21T11:18:07.290Z"
   },
   {
    "duration": 348,
    "start_time": "2022-02-21T11:18:07.299Z"
   },
   {
    "duration": 2023,
    "start_time": "2022-02-21T11:18:07.650Z"
   },
   {
    "duration": 26,
    "start_time": "2022-02-21T11:18:09.677Z"
   },
   {
    "duration": 3,
    "start_time": "2022-02-21T11:18:09.705Z"
   },
   {
    "duration": 34,
    "start_time": "2022-02-21T11:18:09.711Z"
   },
   {
    "duration": 798,
    "start_time": "2022-02-21T11:18:09.747Z"
   },
   {
    "duration": 437,
    "start_time": "2022-02-21T11:26:46.937Z"
   },
   {
    "duration": 393,
    "start_time": "2022-02-21T11:27:19.011Z"
   },
   {
    "duration": 355,
    "start_time": "2022-02-21T11:27:38.596Z"
   },
   {
    "duration": 1500,
    "start_time": "2022-02-21T11:29:58.870Z"
   },
   {
    "duration": 315,
    "start_time": "2022-02-21T11:30:54.961Z"
   },
   {
    "duration": 1806,
    "start_time": "2022-02-21T11:31:30.470Z"
   },
   {
    "duration": 1219,
    "start_time": "2022-02-21T18:23:09.058Z"
   },
   {
    "duration": 58,
    "start_time": "2022-02-21T18:23:10.279Z"
   },
   {
    "duration": 15,
    "start_time": "2022-02-21T18:23:10.339Z"
   },
   {
    "duration": 24,
    "start_time": "2022-02-21T18:23:10.356Z"
   },
   {
    "duration": 3,
    "start_time": "2022-02-21T18:23:10.381Z"
   },
   {
    "duration": 10,
    "start_time": "2022-02-21T18:23:10.385Z"
   },
   {
    "duration": 34,
    "start_time": "2022-02-21T18:23:10.397Z"
   },
   {
    "duration": 7,
    "start_time": "2022-02-21T18:23:10.433Z"
   },
   {
    "duration": 4,
    "start_time": "2022-02-21T18:23:10.443Z"
   },
   {
    "duration": 7,
    "start_time": "2022-02-21T18:23:10.448Z"
   },
   {
    "duration": 3,
    "start_time": "2022-02-21T18:23:10.457Z"
   },
   {
    "duration": 24,
    "start_time": "2022-02-21T18:23:10.461Z"
   },
   {
    "duration": 44,
    "start_time": "2022-02-21T18:23:10.486Z"
   },
   {
    "duration": 7,
    "start_time": "2022-02-21T18:23:10.531Z"
   },
   {
    "duration": 5,
    "start_time": "2022-02-21T18:23:10.539Z"
   },
   {
    "duration": 26,
    "start_time": "2022-02-21T18:23:10.545Z"
   },
   {
    "duration": 16,
    "start_time": "2022-02-21T18:23:10.573Z"
   },
   {
    "duration": 3,
    "start_time": "2022-02-21T18:23:10.591Z"
   },
   {
    "duration": 41,
    "start_time": "2022-02-21T18:23:10.595Z"
   },
   {
    "duration": 2,
    "start_time": "2022-02-21T18:23:10.638Z"
   },
   {
    "duration": 397,
    "start_time": "2022-02-21T18:23:10.642Z"
   },
   {
    "duration": 5,
    "start_time": "2022-02-21T18:23:11.040Z"
   },
   {
    "duration": 214,
    "start_time": "2022-02-21T18:23:11.048Z"
   },
   {
    "duration": 1144,
    "start_time": "2022-02-21T18:23:11.264Z"
   },
   {
    "duration": 22,
    "start_time": "2022-02-21T18:23:12.409Z"
   },
   {
    "duration": 3,
    "start_time": "2022-02-21T18:23:12.432Z"
   },
   {
    "duration": 6,
    "start_time": "2022-02-21T18:23:12.437Z"
   },
   {
    "duration": 459,
    "start_time": "2022-02-21T18:23:12.445Z"
   },
   {
    "duration": 328,
    "start_time": "2022-02-21T18:23:12.906Z"
   },
   {
    "duration": 260,
    "start_time": "2022-02-21T18:23:27.303Z"
   },
   {
    "duration": 48,
    "start_time": "2022-02-21T18:37:33.370Z"
   },
   {
    "duration": 16,
    "start_time": "2022-02-21T18:37:42.186Z"
   },
   {
    "duration": 19,
    "start_time": "2022-02-21T18:38:14.244Z"
   },
   {
    "duration": 100,
    "start_time": "2022-02-21T18:42:23.796Z"
   },
   {
    "duration": 20,
    "start_time": "2022-02-21T18:42:25.282Z"
   },
   {
    "duration": 14,
    "start_time": "2022-02-21T18:44:40.383Z"
   },
   {
    "duration": 5,
    "start_time": "2022-02-21T18:45:48.649Z"
   },
   {
    "duration": 127,
    "start_time": "2022-02-21T18:45:57.233Z"
   },
   {
    "duration": 1120,
    "start_time": "2022-02-21T18:46:16.537Z"
   },
   {
    "duration": 52,
    "start_time": "2022-02-21T18:46:17.659Z"
   },
   {
    "duration": 24,
    "start_time": "2022-02-21T18:46:17.713Z"
   },
   {
    "duration": 24,
    "start_time": "2022-02-21T18:46:17.740Z"
   },
   {
    "duration": 3,
    "start_time": "2022-02-21T18:46:17.766Z"
   },
   {
    "duration": 11,
    "start_time": "2022-02-21T18:46:17.771Z"
   },
   {
    "duration": 4,
    "start_time": "2022-02-21T18:46:17.784Z"
   },
   {
    "duration": 39,
    "start_time": "2022-02-21T18:46:17.792Z"
   },
   {
    "duration": 6,
    "start_time": "2022-02-21T18:46:17.834Z"
   },
   {
    "duration": 8,
    "start_time": "2022-02-21T18:46:17.841Z"
   },
   {
    "duration": 6,
    "start_time": "2022-02-21T18:46:17.850Z"
   },
   {
    "duration": 31,
    "start_time": "2022-02-21T18:46:17.858Z"
   },
   {
    "duration": 6,
    "start_time": "2022-02-21T18:46:17.891Z"
   },
   {
    "duration": 36,
    "start_time": "2022-02-21T18:46:17.899Z"
   },
   {
    "duration": 2,
    "start_time": "2022-02-21T18:46:17.937Z"
   },
   {
    "duration": 32,
    "start_time": "2022-02-21T18:46:17.940Z"
   },
   {
    "duration": 13,
    "start_time": "2022-02-21T18:46:17.974Z"
   },
   {
    "duration": 3,
    "start_time": "2022-02-21T18:46:17.989Z"
   },
   {
    "duration": 48,
    "start_time": "2022-02-21T18:46:17.993Z"
   },
   {
    "duration": 2,
    "start_time": "2022-02-21T18:46:18.043Z"
   },
   {
    "duration": 399,
    "start_time": "2022-02-21T18:46:18.047Z"
   },
   {
    "duration": 5,
    "start_time": "2022-02-21T18:46:18.448Z"
   },
   {
    "duration": 208,
    "start_time": "2022-02-21T18:46:18.456Z"
   },
   {
    "duration": 1185,
    "start_time": "2022-02-21T18:46:18.666Z"
   },
   {
    "duration": 14,
    "start_time": "2022-02-21T18:46:19.853Z"
   },
   {
    "duration": 11,
    "start_time": "2022-02-21T18:46:19.869Z"
   },
   {
    "duration": 5,
    "start_time": "2022-02-21T18:46:19.882Z"
   },
   {
    "duration": 294,
    "start_time": "2022-02-21T18:46:19.889Z"
   },
   {
    "duration": 124,
    "start_time": "2022-02-21T18:46:39.047Z"
   },
   {
    "duration": 134,
    "start_time": "2022-02-21T18:47:32.637Z"
   },
   {
    "duration": 141,
    "start_time": "2022-02-21T18:48:03.243Z"
   },
   {
    "duration": 17,
    "start_time": "2022-02-21T18:53:17.427Z"
   },
   {
    "duration": 161,
    "start_time": "2022-02-21T18:55:40.552Z"
   },
   {
    "duration": 42,
    "start_time": "2022-02-21T18:56:33.459Z"
   },
   {
    "duration": 462,
    "start_time": "2022-02-21T18:57:39.899Z"
   },
   {
    "duration": 133,
    "start_time": "2022-02-21T18:59:46.083Z"
   },
   {
    "duration": 136,
    "start_time": "2022-02-21T19:00:04.709Z"
   },
   {
    "duration": 48,
    "start_time": "2022-02-21T19:02:45.404Z"
   },
   {
    "duration": 16,
    "start_time": "2022-02-21T19:02:52.761Z"
   },
   {
    "duration": 1113,
    "start_time": "2022-02-21T19:03:04.437Z"
   },
   {
    "duration": 50,
    "start_time": "2022-02-21T19:03:05.552Z"
   },
   {
    "duration": 28,
    "start_time": "2022-02-21T19:03:05.604Z"
   },
   {
    "duration": 22,
    "start_time": "2022-02-21T19:03:05.634Z"
   },
   {
    "duration": 3,
    "start_time": "2022-02-21T19:03:05.657Z"
   },
   {
    "duration": 14,
    "start_time": "2022-02-21T19:03:05.662Z"
   },
   {
    "duration": 4,
    "start_time": "2022-02-21T19:03:05.678Z"
   },
   {
    "duration": 12,
    "start_time": "2022-02-21T19:03:05.684Z"
   },
   {
    "duration": 9,
    "start_time": "2022-02-21T19:03:05.698Z"
   },
   {
    "duration": 25,
    "start_time": "2022-02-21T19:03:05.708Z"
   },
   {
    "duration": 6,
    "start_time": "2022-02-21T19:03:05.734Z"
   },
   {
    "duration": 25,
    "start_time": "2022-02-21T19:03:05.741Z"
   },
   {
    "duration": 6,
    "start_time": "2022-02-21T19:03:05.767Z"
   },
   {
    "duration": 10,
    "start_time": "2022-02-21T19:03:05.774Z"
   },
   {
    "duration": 8,
    "start_time": "2022-02-21T19:03:05.785Z"
   },
   {
    "duration": 40,
    "start_time": "2022-02-21T19:03:05.795Z"
   },
   {
    "duration": 12,
    "start_time": "2022-02-21T19:03:05.837Z"
   },
   {
    "duration": 3,
    "start_time": "2022-02-21T19:03:05.851Z"
   },
   {
    "duration": 19,
    "start_time": "2022-02-21T19:03:05.856Z"
   },
   {
    "duration": 2,
    "start_time": "2022-02-21T19:03:05.877Z"
   },
   {
    "duration": 450,
    "start_time": "2022-02-21T19:03:05.881Z"
   },
   {
    "duration": 6,
    "start_time": "2022-02-21T19:03:06.333Z"
   },
   {
    "duration": 211,
    "start_time": "2022-02-21T19:03:06.341Z"
   },
   {
    "duration": 1192,
    "start_time": "2022-02-21T19:03:06.554Z"
   },
   {
    "duration": 14,
    "start_time": "2022-02-21T19:03:07.747Z"
   },
   {
    "duration": 15,
    "start_time": "2022-02-21T19:03:07.763Z"
   },
   {
    "duration": 227,
    "start_time": "2022-02-21T19:03:07.780Z"
   },
   {
    "duration": 19,
    "start_time": "2022-02-21T19:04:08.140Z"
   },
   {
    "duration": 4,
    "start_time": "2022-02-21T19:10:49.242Z"
   },
   {
    "duration": 185,
    "start_time": "2022-02-21T19:11:10.632Z"
   },
   {
    "duration": 40,
    "start_time": "2022-02-21T19:12:26.999Z"
   },
   {
    "duration": 5,
    "start_time": "2022-02-21T19:12:30.474Z"
   },
   {
    "duration": 4,
    "start_time": "2022-02-21T19:14:43.168Z"
   },
   {
    "duration": 6,
    "start_time": "2022-02-21T19:14:45.106Z"
   },
   {
    "duration": 284,
    "start_time": "2022-02-21T19:14:59.089Z"
   },
   {
    "duration": 400,
    "start_time": "2022-02-21T19:15:32.805Z"
   },
   {
    "duration": 434,
    "start_time": "2022-02-21T19:17:05.492Z"
   },
   {
    "duration": 131,
    "start_time": "2022-02-21T19:20:30.088Z"
   },
   {
    "duration": 195,
    "start_time": "2022-02-21T19:21:02.596Z"
   },
   {
    "duration": 1076,
    "start_time": "2022-02-21T19:22:39.997Z"
   },
   {
    "duration": 58,
    "start_time": "2022-02-21T19:22:41.075Z"
   },
   {
    "duration": 16,
    "start_time": "2022-02-21T19:22:41.135Z"
   },
   {
    "duration": 21,
    "start_time": "2022-02-21T19:22:41.153Z"
   },
   {
    "duration": 2,
    "start_time": "2022-02-21T19:22:41.176Z"
   },
   {
    "duration": 16,
    "start_time": "2022-02-21T19:22:41.180Z"
   },
   {
    "duration": 5,
    "start_time": "2022-02-21T19:22:41.198Z"
   },
   {
    "duration": 28,
    "start_time": "2022-02-21T19:22:41.206Z"
   },
   {
    "duration": 6,
    "start_time": "2022-02-21T19:22:41.236Z"
   },
   {
    "duration": 8,
    "start_time": "2022-02-21T19:22:41.244Z"
   },
   {
    "duration": 4,
    "start_time": "2022-02-21T19:22:41.254Z"
   },
   {
    "duration": 25,
    "start_time": "2022-02-21T19:22:41.259Z"
   },
   {
    "duration": 6,
    "start_time": "2022-02-21T19:22:41.286Z"
   },
   {
    "duration": 37,
    "start_time": "2022-02-21T19:22:41.294Z"
   },
   {
    "duration": 4,
    "start_time": "2022-02-21T19:22:41.333Z"
   },
   {
    "duration": 24,
    "start_time": "2022-02-21T19:22:41.339Z"
   },
   {
    "duration": 10,
    "start_time": "2022-02-21T19:22:41.365Z"
   },
   {
    "duration": 2,
    "start_time": "2022-02-21T19:22:41.377Z"
   },
   {
    "duration": 15,
    "start_time": "2022-02-21T19:22:41.381Z"
   },
   {
    "duration": 32,
    "start_time": "2022-02-21T19:22:41.398Z"
   },
   {
    "duration": 379,
    "start_time": "2022-02-21T19:22:41.432Z"
   },
   {
    "duration": 5,
    "start_time": "2022-02-21T19:22:41.812Z"
   },
   {
    "duration": 207,
    "start_time": "2022-02-21T19:22:41.820Z"
   },
   {
    "duration": 1144,
    "start_time": "2022-02-21T19:22:42.031Z"
   },
   {
    "duration": 15,
    "start_time": "2022-02-21T19:22:43.177Z"
   },
   {
    "duration": 15,
    "start_time": "2022-02-21T19:22:43.193Z"
   },
   {
    "duration": 34,
    "start_time": "2022-02-21T19:22:43.210Z"
   },
   {
    "duration": 3331,
    "start_time": "2022-02-21T19:22:43.246Z"
   },
   {
    "duration": -378,
    "start_time": "2022-02-21T19:22:46.958Z"
   },
   {
    "duration": -379,
    "start_time": "2022-02-21T19:22:46.960Z"
   },
   {
    "duration": -379,
    "start_time": "2022-02-21T19:22:46.962Z"
   },
   {
    "duration": 545,
    "start_time": "2022-02-21T19:25:19.515Z"
   },
   {
    "duration": 597,
    "start_time": "2022-02-21T19:25:43.012Z"
   },
   {
    "duration": 551,
    "start_time": "2022-02-21T19:26:09.671Z"
   },
   {
    "duration": 528,
    "start_time": "2022-02-21T19:27:18.983Z"
   },
   {
    "duration": 567,
    "start_time": "2022-02-21T19:28:01.482Z"
   },
   {
    "duration": 559,
    "start_time": "2022-02-21T19:28:21.827Z"
   },
   {
    "duration": 136,
    "start_time": "2022-02-21T19:29:18.829Z"
   },
   {
    "duration": 1128,
    "start_time": "2022-02-21T19:29:27.736Z"
   },
   {
    "duration": 57,
    "start_time": "2022-02-21T19:29:28.866Z"
   },
   {
    "duration": 16,
    "start_time": "2022-02-21T19:29:28.925Z"
   },
   {
    "duration": 23,
    "start_time": "2022-02-21T19:29:28.943Z"
   },
   {
    "duration": 3,
    "start_time": "2022-02-21T19:29:28.967Z"
   },
   {
    "duration": 10,
    "start_time": "2022-02-21T19:29:28.971Z"
   },
   {
    "duration": 3,
    "start_time": "2022-02-21T19:29:28.982Z"
   },
   {
    "duration": 8,
    "start_time": "2022-02-21T19:29:28.988Z"
   },
   {
    "duration": 33,
    "start_time": "2022-02-21T19:29:28.998Z"
   },
   {
    "duration": 6,
    "start_time": "2022-02-21T19:29:29.033Z"
   },
   {
    "duration": 4,
    "start_time": "2022-02-21T19:29:29.041Z"
   },
   {
    "duration": 24,
    "start_time": "2022-02-21T19:29:29.047Z"
   },
   {
    "duration": 5,
    "start_time": "2022-02-21T19:29:29.073Z"
   },
   {
    "duration": 5,
    "start_time": "2022-02-21T19:29:29.080Z"
   },
   {
    "duration": 2,
    "start_time": "2022-02-21T19:29:29.087Z"
   },
   {
    "duration": 55,
    "start_time": "2022-02-21T19:29:29.091Z"
   },
   {
    "duration": 12,
    "start_time": "2022-02-21T19:29:29.148Z"
   },
   {
    "duration": 3,
    "start_time": "2022-02-21T19:29:29.162Z"
   },
   {
    "duration": 16,
    "start_time": "2022-02-21T19:29:29.167Z"
   },
   {
    "duration": 2,
    "start_time": "2022-02-21T19:29:29.185Z"
   },
   {
    "duration": 420,
    "start_time": "2022-02-21T19:29:29.189Z"
   },
   {
    "duration": 4,
    "start_time": "2022-02-21T19:29:29.611Z"
   },
   {
    "duration": 206,
    "start_time": "2022-02-21T19:29:29.618Z"
   },
   {
    "duration": 1149,
    "start_time": "2022-02-21T19:29:29.830Z"
   },
   {
    "duration": 13,
    "start_time": "2022-02-21T19:29:30.980Z"
   },
   {
    "duration": 16,
    "start_time": "2022-02-21T19:29:30.995Z"
   },
   {
    "duration": 28,
    "start_time": "2022-02-21T19:29:31.012Z"
   },
   {
    "duration": 643,
    "start_time": "2022-02-21T19:29:31.042Z"
   },
   {
    "duration": 3317,
    "start_time": "2022-02-21T19:29:31.687Z"
   },
   {
    "duration": -357,
    "start_time": "2022-02-21T19:29:35.363Z"
   },
   {
    "duration": -358,
    "start_time": "2022-02-21T19:29:35.366Z"
   },
   {
    "duration": 3564,
    "start_time": "2022-02-21T19:30:37.411Z"
   },
   {
    "duration": 1169,
    "start_time": "2022-02-21T19:31:43.706Z"
   },
   {
    "duration": 58,
    "start_time": "2022-02-21T19:31:44.877Z"
   },
   {
    "duration": 15,
    "start_time": "2022-02-21T19:31:44.938Z"
   },
   {
    "duration": 21,
    "start_time": "2022-02-21T19:31:44.955Z"
   },
   {
    "duration": 4,
    "start_time": "2022-02-21T19:31:44.978Z"
   },
   {
    "duration": 18,
    "start_time": "2022-02-21T19:31:44.984Z"
   },
   {
    "duration": 28,
    "start_time": "2022-02-21T19:31:45.004Z"
   },
   {
    "duration": 7,
    "start_time": "2022-02-21T19:31:45.035Z"
   },
   {
    "duration": 19,
    "start_time": "2022-02-21T19:31:45.045Z"
   },
   {
    "duration": 18,
    "start_time": "2022-02-21T19:31:45.065Z"
   },
   {
    "duration": 11,
    "start_time": "2022-02-21T19:31:45.085Z"
   },
   {
    "duration": 30,
    "start_time": "2022-02-21T19:31:45.098Z"
   },
   {
    "duration": 7,
    "start_time": "2022-02-21T19:31:45.130Z"
   },
   {
    "duration": 6,
    "start_time": "2022-02-21T19:31:45.139Z"
   },
   {
    "duration": 5,
    "start_time": "2022-02-21T19:31:45.147Z"
   },
   {
    "duration": 26,
    "start_time": "2022-02-21T19:31:45.154Z"
   },
   {
    "duration": 11,
    "start_time": "2022-02-21T19:31:45.181Z"
   },
   {
    "duration": 2,
    "start_time": "2022-02-21T19:31:45.194Z"
   },
   {
    "duration": 46,
    "start_time": "2022-02-21T19:31:45.198Z"
   },
   {
    "duration": 4,
    "start_time": "2022-02-21T19:31:45.246Z"
   },
   {
    "duration": 402,
    "start_time": "2022-02-21T19:31:45.251Z"
   },
   {
    "duration": 5,
    "start_time": "2022-02-21T19:31:45.655Z"
   },
   {
    "duration": 226,
    "start_time": "2022-02-21T19:31:45.663Z"
   },
   {
    "duration": 1190,
    "start_time": "2022-02-21T19:31:45.892Z"
   },
   {
    "duration": 16,
    "start_time": "2022-02-21T19:31:47.084Z"
   },
   {
    "duration": 31,
    "start_time": "2022-02-21T19:31:47.101Z"
   },
   {
    "duration": 19,
    "start_time": "2022-02-21T19:31:47.134Z"
   },
   {
    "duration": 643,
    "start_time": "2022-02-21T19:31:47.155Z"
   },
   {
    "duration": 5,
    "start_time": "2022-02-21T19:31:47.800Z"
   },
   {
    "duration": 343,
    "start_time": "2022-02-21T19:31:47.807Z"
   },
   {
    "duration": 224,
    "start_time": "2022-02-21T19:31:48.151Z"
   },
   {
    "duration": 1131,
    "start_time": "2022-02-21T19:32:39.134Z"
   },
   {
    "duration": 53,
    "start_time": "2022-02-21T19:32:40.267Z"
   },
   {
    "duration": 19,
    "start_time": "2022-02-21T19:32:40.322Z"
   },
   {
    "duration": 23,
    "start_time": "2022-02-21T19:32:40.343Z"
   },
   {
    "duration": 3,
    "start_time": "2022-02-21T19:32:40.367Z"
   },
   {
    "duration": 9,
    "start_time": "2022-02-21T19:32:40.371Z"
   },
   {
    "duration": 4,
    "start_time": "2022-02-21T19:32:40.382Z"
   },
   {
    "duration": 5,
    "start_time": "2022-02-21T19:32:40.388Z"
   },
   {
    "duration": 37,
    "start_time": "2022-02-21T19:32:40.395Z"
   },
   {
    "duration": 7,
    "start_time": "2022-02-21T19:32:40.435Z"
   },
   {
    "duration": 11,
    "start_time": "2022-02-21T19:32:40.444Z"
   },
   {
    "duration": 28,
    "start_time": "2022-02-21T19:32:40.456Z"
   },
   {
    "duration": 5,
    "start_time": "2022-02-21T19:32:40.486Z"
   },
   {
    "duration": 9,
    "start_time": "2022-02-21T19:32:40.493Z"
   },
   {
    "duration": 5,
    "start_time": "2022-02-21T19:32:40.503Z"
   },
   {
    "duration": 41,
    "start_time": "2022-02-21T19:32:40.510Z"
   },
   {
    "duration": 12,
    "start_time": "2022-02-21T19:32:40.553Z"
   },
   {
    "duration": 2,
    "start_time": "2022-02-21T19:32:40.567Z"
   },
   {
    "duration": 18,
    "start_time": "2022-02-21T19:32:40.571Z"
   },
   {
    "duration": 2,
    "start_time": "2022-02-21T19:32:40.591Z"
   },
   {
    "duration": 400,
    "start_time": "2022-02-21T19:32:40.595Z"
   },
   {
    "duration": 5,
    "start_time": "2022-02-21T19:32:40.997Z"
   },
   {
    "duration": 210,
    "start_time": "2022-02-21T19:32:41.006Z"
   },
   {
    "duration": 1157,
    "start_time": "2022-02-21T19:32:41.217Z"
   },
   {
    "duration": 15,
    "start_time": "2022-02-21T19:32:42.376Z"
   },
   {
    "duration": 15,
    "start_time": "2022-02-21T19:32:42.393Z"
   },
   {
    "duration": 48,
    "start_time": "2022-02-21T19:32:42.410Z"
   },
   {
    "duration": 618,
    "start_time": "2022-02-21T19:32:42.460Z"
   },
   {
    "duration": 3340,
    "start_time": "2022-02-21T19:32:43.080Z"
   },
   {
    "duration": -373,
    "start_time": "2022-02-21T19:32:46.795Z"
   },
   {
    "duration": 170,
    "start_time": "2022-02-21T19:33:39.310Z"
   },
   {
    "duration": 1079,
    "start_time": "2022-02-21T19:33:56.475Z"
   },
   {
    "duration": 52,
    "start_time": "2022-02-21T19:33:57.556Z"
   },
   {
    "duration": 24,
    "start_time": "2022-02-21T19:33:57.610Z"
   },
   {
    "duration": 22,
    "start_time": "2022-02-21T19:33:57.636Z"
   },
   {
    "duration": 3,
    "start_time": "2022-02-21T19:33:57.660Z"
   },
   {
    "duration": 13,
    "start_time": "2022-02-21T19:33:57.664Z"
   },
   {
    "duration": 3,
    "start_time": "2022-02-21T19:33:57.679Z"
   },
   {
    "duration": 5,
    "start_time": "2022-02-21T19:33:57.685Z"
   },
   {
    "duration": 6,
    "start_time": "2022-02-21T19:33:57.692Z"
   },
   {
    "duration": 33,
    "start_time": "2022-02-21T19:33:57.700Z"
   },
   {
    "duration": 2,
    "start_time": "2022-02-21T19:33:57.735Z"
   },
   {
    "duration": 24,
    "start_time": "2022-02-21T19:33:57.739Z"
   },
   {
    "duration": 5,
    "start_time": "2022-02-21T19:33:57.765Z"
   },
   {
    "duration": 5,
    "start_time": "2022-02-21T19:33:57.771Z"
   },
   {
    "duration": 3,
    "start_time": "2022-02-21T19:33:57.778Z"
   },
   {
    "duration": 57,
    "start_time": "2022-02-21T19:33:57.782Z"
   },
   {
    "duration": 10,
    "start_time": "2022-02-21T19:33:57.841Z"
   },
   {
    "duration": 2,
    "start_time": "2022-02-21T19:33:57.853Z"
   },
   {
    "duration": 16,
    "start_time": "2022-02-21T19:33:57.857Z"
   },
   {
    "duration": 2,
    "start_time": "2022-02-21T19:33:57.875Z"
   },
   {
    "duration": 404,
    "start_time": "2022-02-21T19:33:57.878Z"
   },
   {
    "duration": 5,
    "start_time": "2022-02-21T19:33:58.284Z"
   },
   {
    "duration": 206,
    "start_time": "2022-02-21T19:33:58.291Z"
   },
   {
    "duration": 1175,
    "start_time": "2022-02-21T19:33:58.499Z"
   },
   {
    "duration": 13,
    "start_time": "2022-02-21T19:33:59.676Z"
   },
   {
    "duration": 15,
    "start_time": "2022-02-21T19:33:59.691Z"
   },
   {
    "duration": 37,
    "start_time": "2022-02-21T19:33:59.708Z"
   },
   {
    "duration": 655,
    "start_time": "2022-02-21T19:33:59.747Z"
   },
   {
    "duration": 3,
    "start_time": "2022-02-21T19:34:00.403Z"
   },
   {
    "duration": 3926,
    "start_time": "2022-02-21T19:34:00.407Z"
   },
   {
    "duration": -344,
    "start_time": "2022-02-21T19:34:04.679Z"
   },
   {
    "duration": 515,
    "start_time": "2022-02-21T19:34:12.704Z"
   },
   {
    "duration": 4,
    "start_time": "2022-02-21T19:34:26.499Z"
   },
   {
    "duration": 5,
    "start_time": "2022-02-21T19:34:29.030Z"
   },
   {
    "duration": 329,
    "start_time": "2022-02-21T19:34:31.135Z"
   },
   {
    "duration": 21,
    "start_time": "2022-02-21T19:34:49.716Z"
   },
   {
    "duration": 18,
    "start_time": "2022-02-21T19:35:35.823Z"
   },
   {
    "duration": 1103,
    "start_time": "2022-02-21T19:35:44.268Z"
   },
   {
    "duration": 51,
    "start_time": "2022-02-21T19:35:45.372Z"
   },
   {
    "duration": 15,
    "start_time": "2022-02-21T19:35:45.429Z"
   },
   {
    "duration": 22,
    "start_time": "2022-02-21T19:35:45.446Z"
   },
   {
    "duration": 3,
    "start_time": "2022-02-21T19:35:45.469Z"
   },
   {
    "duration": 13,
    "start_time": "2022-02-21T19:35:45.474Z"
   },
   {
    "duration": 8,
    "start_time": "2022-02-21T19:35:45.488Z"
   },
   {
    "duration": 6,
    "start_time": "2022-02-21T19:35:45.499Z"
   },
   {
    "duration": 6,
    "start_time": "2022-02-21T19:35:45.531Z"
   },
   {
    "duration": 11,
    "start_time": "2022-02-21T19:35:45.538Z"
   },
   {
    "duration": 4,
    "start_time": "2022-02-21T19:35:45.551Z"
   },
   {
    "duration": 22,
    "start_time": "2022-02-21T19:35:45.557Z"
   },
   {
    "duration": 5,
    "start_time": "2022-02-21T19:35:45.580Z"
   },
   {
    "duration": 7,
    "start_time": "2022-02-21T19:35:45.587Z"
   },
   {
    "duration": 3,
    "start_time": "2022-02-21T19:35:45.596Z"
   },
   {
    "duration": 50,
    "start_time": "2022-02-21T19:35:45.600Z"
   },
   {
    "duration": 10,
    "start_time": "2022-02-21T19:35:45.652Z"
   },
   {
    "duration": 3,
    "start_time": "2022-02-21T19:35:45.663Z"
   },
   {
    "duration": 15,
    "start_time": "2022-02-21T19:35:45.668Z"
   },
   {
    "duration": 2,
    "start_time": "2022-02-21T19:35:45.685Z"
   },
   {
    "duration": 402,
    "start_time": "2022-02-21T19:35:45.689Z"
   },
   {
    "duration": 5,
    "start_time": "2022-02-21T19:35:46.092Z"
   },
   {
    "duration": 195,
    "start_time": "2022-02-21T19:35:46.099Z"
   },
   {
    "duration": 1141,
    "start_time": "2022-02-21T19:35:46.296Z"
   },
   {
    "duration": 14,
    "start_time": "2022-02-21T19:35:47.438Z"
   },
   {
    "duration": 15,
    "start_time": "2022-02-21T19:35:47.454Z"
   },
   {
    "duration": 17,
    "start_time": "2022-02-21T19:35:47.471Z"
   },
   {
    "duration": 601,
    "start_time": "2022-02-21T19:35:47.489Z"
   },
   {
    "duration": 18,
    "start_time": "2022-02-21T19:35:48.092Z"
   },
   {
    "duration": 3379,
    "start_time": "2022-02-21T19:35:48.112Z"
   },
   {
    "duration": -349,
    "start_time": "2022-02-21T19:35:51.843Z"
   },
   {
    "duration": 4,
    "start_time": "2022-02-21T19:37:08.980Z"
   },
   {
    "duration": 304,
    "start_time": "2022-02-21T19:37:17.063Z"
   },
   {
    "duration": 9,
    "start_time": "2022-02-21T19:37:40.173Z"
   },
   {
    "duration": 510,
    "start_time": "2022-02-21T19:38:03.179Z"
   },
   {
    "duration": 1120,
    "start_time": "2022-02-21T19:38:32.137Z"
   },
   {
    "duration": 53,
    "start_time": "2022-02-21T19:38:33.259Z"
   },
   {
    "duration": 23,
    "start_time": "2022-02-21T19:38:33.314Z"
   },
   {
    "duration": 22,
    "start_time": "2022-02-21T19:38:33.338Z"
   },
   {
    "duration": 3,
    "start_time": "2022-02-21T19:38:33.362Z"
   },
   {
    "duration": 15,
    "start_time": "2022-02-21T19:38:33.367Z"
   },
   {
    "duration": 3,
    "start_time": "2022-02-21T19:38:33.384Z"
   },
   {
    "duration": 7,
    "start_time": "2022-02-21T19:38:33.390Z"
   },
   {
    "duration": 5,
    "start_time": "2022-02-21T19:38:33.399Z"
   },
   {
    "duration": 31,
    "start_time": "2022-02-21T19:38:33.405Z"
   },
   {
    "duration": 6,
    "start_time": "2022-02-21T19:38:33.438Z"
   },
   {
    "duration": 25,
    "start_time": "2022-02-21T19:38:33.445Z"
   },
   {
    "duration": 4,
    "start_time": "2022-02-21T19:38:33.472Z"
   },
   {
    "duration": 5,
    "start_time": "2022-02-21T19:38:33.478Z"
   },
   {
    "duration": 7,
    "start_time": "2022-02-21T19:38:33.484Z"
   },
   {
    "duration": 50,
    "start_time": "2022-02-21T19:38:33.492Z"
   },
   {
    "duration": 11,
    "start_time": "2022-02-21T19:38:33.544Z"
   },
   {
    "duration": 1,
    "start_time": "2022-02-21T19:38:33.557Z"
   },
   {
    "duration": 16,
    "start_time": "2022-02-21T19:38:33.560Z"
   },
   {
    "duration": 3,
    "start_time": "2022-02-21T19:38:33.577Z"
   },
   {
    "duration": 401,
    "start_time": "2022-02-21T19:38:33.581Z"
   },
   {
    "duration": 5,
    "start_time": "2022-02-21T19:38:33.984Z"
   },
   {
    "duration": 215,
    "start_time": "2022-02-21T19:38:33.992Z"
   },
   {
    "duration": 1251,
    "start_time": "2022-02-21T19:38:34.209Z"
   },
   {
    "duration": 14,
    "start_time": "2022-02-21T19:38:35.461Z"
   },
   {
    "duration": 15,
    "start_time": "2022-02-21T19:38:35.476Z"
   },
   {
    "duration": 38,
    "start_time": "2022-02-21T19:38:35.492Z"
   },
   {
    "duration": 591,
    "start_time": "2022-02-21T19:38:35.532Z"
   },
   {
    "duration": 19,
    "start_time": "2022-02-21T19:38:36.125Z"
   },
   {
    "duration": 3,
    "start_time": "2022-02-21T19:38:36.146Z"
   },
   {
    "duration": 7,
    "start_time": "2022-02-21T19:38:36.151Z"
   },
   {
    "duration": 350,
    "start_time": "2022-02-21T19:38:36.159Z"
   },
   {
    "duration": 7,
    "start_time": "2022-02-21T19:46:22.806Z"
   },
   {
    "duration": 15,
    "start_time": "2022-02-21T19:47:45.501Z"
   },
   {
    "duration": 419,
    "start_time": "2022-02-21T19:48:58.870Z"
   },
   {
    "duration": 1115,
    "start_time": "2022-02-23T12:08:02.551Z"
   },
   {
    "duration": 60,
    "start_time": "2022-02-23T12:08:03.668Z"
   },
   {
    "duration": 16,
    "start_time": "2022-02-23T12:08:03.730Z"
   },
   {
    "duration": 24,
    "start_time": "2022-02-23T12:08:03.748Z"
   },
   {
    "duration": 2,
    "start_time": "2022-02-23T12:08:03.774Z"
   },
   {
    "duration": 12,
    "start_time": "2022-02-23T12:08:03.778Z"
   },
   {
    "duration": 4,
    "start_time": "2022-02-23T12:08:03.792Z"
   },
   {
    "duration": 7,
    "start_time": "2022-02-23T12:08:03.821Z"
   },
   {
    "duration": 9,
    "start_time": "2022-02-23T12:08:03.830Z"
   },
   {
    "duration": 8,
    "start_time": "2022-02-23T12:08:03.841Z"
   },
   {
    "duration": 4,
    "start_time": "2022-02-23T12:08:03.851Z"
   },
   {
    "duration": 25,
    "start_time": "2022-02-23T12:08:03.857Z"
   },
   {
    "duration": 38,
    "start_time": "2022-02-23T12:08:03.884Z"
   },
   {
    "duration": 5,
    "start_time": "2022-02-23T12:08:03.924Z"
   },
   {
    "duration": 2,
    "start_time": "2022-02-23T12:08:03.931Z"
   },
   {
    "duration": 27,
    "start_time": "2022-02-23T12:08:03.935Z"
   },
   {
    "duration": 10,
    "start_time": "2022-02-23T12:08:03.964Z"
   },
   {
    "duration": 3,
    "start_time": "2022-02-23T12:08:03.975Z"
   },
   {
    "duration": 49,
    "start_time": "2022-02-23T12:08:03.980Z"
   },
   {
    "duration": 2,
    "start_time": "2022-02-23T12:08:04.031Z"
   },
   {
    "duration": 443,
    "start_time": "2022-02-23T12:08:04.035Z"
   },
   {
    "duration": 5,
    "start_time": "2022-02-23T12:08:04.480Z"
   },
   {
    "duration": 241,
    "start_time": "2022-02-23T12:08:04.488Z"
   },
   {
    "duration": 1308,
    "start_time": "2022-02-23T12:08:04.730Z"
   },
   {
    "duration": 16,
    "start_time": "2022-02-23T12:08:06.040Z"
   },
   {
    "duration": 16,
    "start_time": "2022-02-23T12:08:06.058Z"
   },
   {
    "duration": 21,
    "start_time": "2022-02-23T12:08:06.075Z"
   },
   {
    "duration": 637,
    "start_time": "2022-02-23T12:08:06.119Z"
   },
   {
    "duration": 18,
    "start_time": "2022-02-23T12:08:06.758Z"
   },
   {
    "duration": 6,
    "start_time": "2022-02-23T12:08:06.777Z"
   },
   {
    "duration": 5,
    "start_time": "2022-02-23T12:08:06.785Z"
   },
   {
    "duration": 389,
    "start_time": "2022-02-23T12:08:06.791Z"
   },
   {
    "duration": 7,
    "start_time": "2022-02-23T12:08:07.182Z"
   },
   {
    "duration": 30,
    "start_time": "2022-02-23T12:08:07.191Z"
   },
   {
    "duration": 442,
    "start_time": "2022-02-23T12:08:07.223Z"
   },
   {
    "duration": 14,
    "start_time": "2022-02-23T12:22:51.324Z"
   },
   {
    "duration": 378,
    "start_time": "2022-02-23T12:27:05.631Z"
   },
   {
    "duration": 392,
    "start_time": "2022-02-23T12:27:21.259Z"
   },
   {
    "duration": 825,
    "start_time": "2022-02-23T12:27:36.075Z"
   },
   {
    "duration": 1179,
    "start_time": "2022-02-23T12:28:00.489Z"
   },
   {
    "duration": 60,
    "start_time": "2022-02-23T12:28:01.670Z"
   },
   {
    "duration": 17,
    "start_time": "2022-02-23T12:28:01.733Z"
   },
   {
    "duration": 27,
    "start_time": "2022-02-23T12:28:01.752Z"
   },
   {
    "duration": 3,
    "start_time": "2022-02-23T12:28:01.781Z"
   },
   {
    "duration": 37,
    "start_time": "2022-02-23T12:28:01.786Z"
   },
   {
    "duration": 5,
    "start_time": "2022-02-23T12:28:01.824Z"
   },
   {
    "duration": 12,
    "start_time": "2022-02-23T12:28:01.832Z"
   },
   {
    "duration": 19,
    "start_time": "2022-02-23T12:28:01.846Z"
   },
   {
    "duration": 10,
    "start_time": "2022-02-23T12:28:01.867Z"
   },
   {
    "duration": 15,
    "start_time": "2022-02-23T12:28:01.880Z"
   },
   {
    "duration": 36,
    "start_time": "2022-02-23T12:28:01.897Z"
   },
   {
    "duration": 6,
    "start_time": "2022-02-23T12:28:01.934Z"
   },
   {
    "duration": 5,
    "start_time": "2022-02-23T12:28:01.942Z"
   },
   {
    "duration": 10,
    "start_time": "2022-02-23T12:28:01.949Z"
   },
   {
    "duration": 29,
    "start_time": "2022-02-23T12:28:01.960Z"
   },
   {
    "duration": 38,
    "start_time": "2022-02-23T12:28:01.991Z"
   },
   {
    "duration": 2,
    "start_time": "2022-02-23T12:28:02.031Z"
   },
   {
    "duration": 27,
    "start_time": "2022-02-23T12:28:02.035Z"
   },
   {
    "duration": 8,
    "start_time": "2022-02-23T12:28:02.064Z"
   },
   {
    "duration": 479,
    "start_time": "2022-02-23T12:28:02.074Z"
   },
   {
    "duration": 5,
    "start_time": "2022-02-23T12:28:02.555Z"
   },
   {
    "duration": 249,
    "start_time": "2022-02-23T12:28:02.564Z"
   },
   {
    "duration": 1296,
    "start_time": "2022-02-23T12:28:02.819Z"
   },
   {
    "duration": 14,
    "start_time": "2022-02-23T12:28:04.117Z"
   },
   {
    "duration": 15,
    "start_time": "2022-02-23T12:28:04.133Z"
   },
   {
    "duration": 21,
    "start_time": "2022-02-23T12:28:04.150Z"
   },
   {
    "duration": 692,
    "start_time": "2022-02-23T12:28:04.173Z"
   },
   {
    "duration": 22,
    "start_time": "2022-02-23T12:28:04.867Z"
   },
   {
    "duration": 29,
    "start_time": "2022-02-23T12:28:04.891Z"
   },
   {
    "duration": 5,
    "start_time": "2022-02-23T12:28:04.922Z"
   },
   {
    "duration": 404,
    "start_time": "2022-02-23T12:28:04.929Z"
   },
   {
    "duration": 7,
    "start_time": "2022-02-23T12:28:05.335Z"
   },
   {
    "duration": 15,
    "start_time": "2022-02-23T12:28:05.344Z"
   },
   {
    "duration": 901,
    "start_time": "2022-02-23T12:28:05.360Z"
   },
   {
    "duration": 14,
    "start_time": "2022-02-23T12:28:06.263Z"
   },
   {
    "duration": 1168,
    "start_time": "2022-02-23T12:29:27.894Z"
   },
   {
    "duration": 62,
    "start_time": "2022-02-23T12:29:29.064Z"
   },
   {
    "duration": 17,
    "start_time": "2022-02-23T12:29:29.128Z"
   },
   {
    "duration": 24,
    "start_time": "2022-02-23T12:29:29.147Z"
   },
   {
    "duration": 3,
    "start_time": "2022-02-23T12:29:29.173Z"
   },
   {
    "duration": 40,
    "start_time": "2022-02-23T12:29:29.179Z"
   },
   {
    "duration": 5,
    "start_time": "2022-02-23T12:29:29.222Z"
   },
   {
    "duration": 8,
    "start_time": "2022-02-23T12:29:29.232Z"
   },
   {
    "duration": 5,
    "start_time": "2022-02-23T12:29:29.243Z"
   },
   {
    "duration": 8,
    "start_time": "2022-02-23T12:29:29.251Z"
   },
   {
    "duration": 4,
    "start_time": "2022-02-23T12:29:29.261Z"
   },
   {
    "duration": 64,
    "start_time": "2022-02-23T12:29:29.267Z"
   },
   {
    "duration": 7,
    "start_time": "2022-02-23T12:29:29.333Z"
   },
   {
    "duration": 7,
    "start_time": "2022-02-23T12:29:29.343Z"
   },
   {
    "duration": 3,
    "start_time": "2022-02-23T12:29:29.352Z"
   },
   {
    "duration": 64,
    "start_time": "2022-02-23T12:29:29.357Z"
   },
   {
    "duration": 17,
    "start_time": "2022-02-23T12:29:29.423Z"
   },
   {
    "duration": 3,
    "start_time": "2022-02-23T12:29:29.442Z"
   },
   {
    "duration": 16,
    "start_time": "2022-02-23T12:29:29.446Z"
   },
   {
    "duration": 2,
    "start_time": "2022-02-23T12:29:29.464Z"
   },
   {
    "duration": 481,
    "start_time": "2022-02-23T12:29:29.468Z"
   },
   {
    "duration": 5,
    "start_time": "2022-02-23T12:29:29.951Z"
   },
   {
    "duration": 236,
    "start_time": "2022-02-23T12:29:29.959Z"
   },
   {
    "duration": 1276,
    "start_time": "2022-02-23T12:29:30.198Z"
   },
   {
    "duration": 14,
    "start_time": "2022-02-23T12:29:31.476Z"
   },
   {
    "duration": 28,
    "start_time": "2022-02-23T12:29:31.492Z"
   },
   {
    "duration": 20,
    "start_time": "2022-02-23T12:29:31.522Z"
   },
   {
    "duration": 661,
    "start_time": "2022-02-23T12:29:31.544Z"
   },
   {
    "duration": 29,
    "start_time": "2022-02-23T12:29:32.207Z"
   },
   {
    "duration": 6,
    "start_time": "2022-02-23T12:29:32.238Z"
   },
   {
    "duration": 4,
    "start_time": "2022-02-23T12:29:32.246Z"
   },
   {
    "duration": 452,
    "start_time": "2022-02-23T12:29:32.251Z"
   },
   {
    "duration": 14,
    "start_time": "2022-02-23T12:29:32.705Z"
   },
   {
    "duration": 16,
    "start_time": "2022-02-23T12:29:32.720Z"
   },
   {
    "duration": 503,
    "start_time": "2022-02-23T12:29:32.738Z"
   },
   {
    "duration": 17,
    "start_time": "2022-02-23T12:29:33.243Z"
   },
   {
    "duration": 297,
    "start_time": "2022-02-23T12:35:48.899Z"
   },
   {
    "duration": 232,
    "start_time": "2022-02-23T12:36:05.189Z"
   },
   {
    "duration": 1139,
    "start_time": "2022-02-23T12:36:18.188Z"
   },
   {
    "duration": 60,
    "start_time": "2022-02-23T12:36:19.329Z"
   },
   {
    "duration": 15,
    "start_time": "2022-02-23T12:36:19.391Z"
   },
   {
    "duration": 31,
    "start_time": "2022-02-23T12:36:19.408Z"
   },
   {
    "duration": 3,
    "start_time": "2022-02-23T12:36:19.440Z"
   },
   {
    "duration": 12,
    "start_time": "2022-02-23T12:36:19.445Z"
   },
   {
    "duration": 12,
    "start_time": "2022-02-23T12:36:19.459Z"
   },
   {
    "duration": 13,
    "start_time": "2022-02-23T12:36:19.474Z"
   },
   {
    "duration": 13,
    "start_time": "2022-02-23T12:36:19.490Z"
   },
   {
    "duration": 16,
    "start_time": "2022-02-23T12:36:19.504Z"
   },
   {
    "duration": 11,
    "start_time": "2022-02-23T12:36:19.522Z"
   },
   {
    "duration": 37,
    "start_time": "2022-02-23T12:36:19.535Z"
   },
   {
    "duration": 5,
    "start_time": "2022-02-23T12:36:19.574Z"
   },
   {
    "duration": 14,
    "start_time": "2022-02-23T12:36:19.581Z"
   },
   {
    "duration": 20,
    "start_time": "2022-02-23T12:36:19.596Z"
   },
   {
    "duration": 31,
    "start_time": "2022-02-23T12:36:19.618Z"
   },
   {
    "duration": 10,
    "start_time": "2022-02-23T12:36:19.650Z"
   },
   {
    "duration": 7,
    "start_time": "2022-02-23T12:36:19.661Z"
   },
   {
    "duration": 20,
    "start_time": "2022-02-23T12:36:19.669Z"
   },
   {
    "duration": 2,
    "start_time": "2022-02-23T12:36:19.691Z"
   },
   {
    "duration": 447,
    "start_time": "2022-02-23T12:36:19.695Z"
   },
   {
    "duration": 5,
    "start_time": "2022-02-23T12:36:20.144Z"
   },
   {
    "duration": 243,
    "start_time": "2022-02-23T12:36:20.152Z"
   },
   {
    "duration": 1283,
    "start_time": "2022-02-23T12:36:20.397Z"
   },
   {
    "duration": 15,
    "start_time": "2022-02-23T12:36:21.682Z"
   },
   {
    "duration": 28,
    "start_time": "2022-02-23T12:36:21.699Z"
   },
   {
    "duration": 20,
    "start_time": "2022-02-23T12:36:21.728Z"
   },
   {
    "duration": 692,
    "start_time": "2022-02-23T12:36:21.750Z"
   },
   {
    "duration": 20,
    "start_time": "2022-02-23T12:36:22.444Z"
   },
   {
    "duration": 4,
    "start_time": "2022-02-23T12:36:22.466Z"
   },
   {
    "duration": 7,
    "start_time": "2022-02-23T12:36:22.472Z"
   },
   {
    "duration": 412,
    "start_time": "2022-02-23T12:36:22.481Z"
   },
   {
    "duration": 6,
    "start_time": "2022-02-23T12:36:22.895Z"
   },
   {
    "duration": 26,
    "start_time": "2022-02-23T12:36:22.903Z"
   },
   {
    "duration": 482,
    "start_time": "2022-02-23T12:36:22.931Z"
   },
   {
    "duration": 17,
    "start_time": "2022-02-23T12:36:23.415Z"
   },
   {
    "duration": 490,
    "start_time": "2022-02-23T12:41:44.379Z"
   },
   {
    "duration": 219,
    "start_time": "2022-02-23T12:42:04.677Z"
   },
   {
    "duration": 212,
    "start_time": "2022-02-23T12:42:30.299Z"
   },
   {
    "duration": 403,
    "start_time": "2022-02-23T12:43:07.677Z"
   },
   {
    "duration": 236,
    "start_time": "2022-02-23T12:43:20.722Z"
   },
   {
    "duration": 399,
    "start_time": "2022-02-23T12:43:34.777Z"
   },
   {
    "duration": 68,
    "start_time": "2022-02-23T12:43:44.246Z"
   },
   {
    "duration": 219,
    "start_time": "2022-02-23T12:43:49.633Z"
   },
   {
    "duration": 26,
    "start_time": "2022-02-23T12:49:47.159Z"
   },
   {
    "duration": 9,
    "start_time": "2022-02-23T12:51:09.300Z"
   },
   {
    "duration": 8,
    "start_time": "2022-02-23T12:51:32.605Z"
   },
   {
    "duration": 276,
    "start_time": "2022-02-23T12:52:11.328Z"
   },
   {
    "duration": 197,
    "start_time": "2022-02-23T12:52:43.066Z"
   },
   {
    "duration": 1139,
    "start_time": "2022-02-23T12:53:49.010Z"
   },
   {
    "duration": 55,
    "start_time": "2022-02-23T12:53:50.151Z"
   },
   {
    "duration": 25,
    "start_time": "2022-02-23T12:53:50.208Z"
   },
   {
    "duration": 23,
    "start_time": "2022-02-23T12:53:50.235Z"
   },
   {
    "duration": 3,
    "start_time": "2022-02-23T12:53:50.260Z"
   },
   {
    "duration": 19,
    "start_time": "2022-02-23T12:53:50.265Z"
   },
   {
    "duration": 4,
    "start_time": "2022-02-23T12:53:50.286Z"
   },
   {
    "duration": 27,
    "start_time": "2022-02-23T12:53:50.293Z"
   },
   {
    "duration": 5,
    "start_time": "2022-02-23T12:53:50.323Z"
   },
   {
    "duration": 9,
    "start_time": "2022-02-23T12:53:50.330Z"
   },
   {
    "duration": 7,
    "start_time": "2022-02-23T12:53:50.341Z"
   },
   {
    "duration": 25,
    "start_time": "2022-02-23T12:53:50.349Z"
   },
   {
    "duration": 6,
    "start_time": "2022-02-23T12:53:50.376Z"
   },
   {
    "duration": 35,
    "start_time": "2022-02-23T12:53:50.384Z"
   },
   {
    "duration": 4,
    "start_time": "2022-02-23T12:53:50.421Z"
   },
   {
    "duration": 28,
    "start_time": "2022-02-23T12:53:50.427Z"
   },
   {
    "duration": 12,
    "start_time": "2022-02-23T12:53:50.457Z"
   },
   {
    "duration": 3,
    "start_time": "2022-02-23T12:53:50.471Z"
   },
   {
    "duration": 54,
    "start_time": "2022-02-23T12:53:50.476Z"
   },
   {
    "duration": 3,
    "start_time": "2022-02-23T12:53:50.532Z"
   },
   {
    "duration": 493,
    "start_time": "2022-02-23T12:53:50.537Z"
   },
   {
    "duration": 6,
    "start_time": "2022-02-23T12:53:51.032Z"
   },
   {
    "duration": 244,
    "start_time": "2022-02-23T12:53:51.041Z"
   },
   {
    "duration": 1277,
    "start_time": "2022-02-23T12:53:51.287Z"
   },
   {
    "duration": 15,
    "start_time": "2022-02-23T12:53:52.565Z"
   },
   {
    "duration": 16,
    "start_time": "2022-02-23T12:53:52.581Z"
   },
   {
    "duration": 34,
    "start_time": "2022-02-23T12:53:52.599Z"
   },
   {
    "duration": 651,
    "start_time": "2022-02-23T12:53:52.635Z"
   },
   {
    "duration": 33,
    "start_time": "2022-02-23T12:53:53.288Z"
   },
   {
    "duration": 4,
    "start_time": "2022-02-23T12:53:53.323Z"
   },
   {
    "duration": 5,
    "start_time": "2022-02-23T12:53:53.329Z"
   },
   {
    "duration": 393,
    "start_time": "2022-02-23T12:53:53.336Z"
   },
   {
    "duration": 6,
    "start_time": "2022-02-23T12:53:53.731Z"
   },
   {
    "duration": 28,
    "start_time": "2022-02-23T12:53:53.739Z"
   },
   {
    "duration": 488,
    "start_time": "2022-02-23T12:53:53.769Z"
   },
   {
    "duration": 14,
    "start_time": "2022-02-23T12:53:54.259Z"
   },
   {
    "duration": 226,
    "start_time": "2022-02-23T12:53:54.275Z"
   },
   {
    "duration": 18,
    "start_time": "2022-02-23T12:53:54.503Z"
   },
   {
    "duration": 12,
    "start_time": "2022-02-23T12:53:54.523Z"
   },
   {
    "duration": 7045,
    "start_time": "2022-02-23T12:53:54.537Z"
   },
   {
    "duration": 8,
    "start_time": "2022-02-23T12:54:45.626Z"
   },
   {
    "duration": 5240,
    "start_time": "2022-02-23T13:00:31.602Z"
   },
   {
    "duration": 200,
    "start_time": "2022-02-23T13:01:04.962Z"
   },
   {
    "duration": 16,
    "start_time": "2022-02-23T13:11:29.452Z"
   },
   {
    "duration": 1120,
    "start_time": "2022-02-23T13:12:40.747Z"
   },
   {
    "duration": 56,
    "start_time": "2022-02-23T13:12:41.869Z"
   },
   {
    "duration": 18,
    "start_time": "2022-02-23T13:12:41.928Z"
   },
   {
    "duration": 4,
    "start_time": "2022-02-23T13:12:41.948Z"
   },
   {
    "duration": 11,
    "start_time": "2022-02-23T13:12:41.954Z"
   },
   {
    "duration": 4,
    "start_time": "2022-02-23T13:12:41.967Z"
   },
   {
    "duration": 5,
    "start_time": "2022-02-23T13:12:41.973Z"
   },
   {
    "duration": 42,
    "start_time": "2022-02-23T13:12:41.981Z"
   },
   {
    "duration": 7,
    "start_time": "2022-02-23T13:12:42.025Z"
   },
   {
    "duration": 4,
    "start_time": "2022-02-23T13:12:42.034Z"
   },
   {
    "duration": 27,
    "start_time": "2022-02-23T13:12:42.039Z"
   },
   {
    "duration": 5,
    "start_time": "2022-02-23T13:12:42.068Z"
   },
   {
    "duration": 9,
    "start_time": "2022-02-23T13:12:42.075Z"
   },
   {
    "duration": 19,
    "start_time": "2022-02-23T13:12:42.085Z"
   },
   {
    "duration": 40,
    "start_time": "2022-02-23T13:12:42.105Z"
   },
   {
    "duration": 13,
    "start_time": "2022-02-23T13:12:42.147Z"
   },
   {
    "duration": 2,
    "start_time": "2022-02-23T13:12:42.162Z"
   },
   {
    "duration": 15,
    "start_time": "2022-02-23T13:12:42.166Z"
   },
   {
    "duration": 3,
    "start_time": "2022-02-23T13:12:42.183Z"
   },
   {
    "duration": 467,
    "start_time": "2022-02-23T13:12:42.220Z"
   },
   {
    "duration": 6,
    "start_time": "2022-02-23T13:12:42.689Z"
   },
   {
    "duration": 240,
    "start_time": "2022-02-23T13:12:42.696Z"
   },
   {
    "duration": 1280,
    "start_time": "2022-02-23T13:12:42.939Z"
   },
   {
    "duration": 16,
    "start_time": "2022-02-23T13:12:44.221Z"
   },
   {
    "duration": 16,
    "start_time": "2022-02-23T13:12:44.239Z"
   },
   {
    "duration": 19,
    "start_time": "2022-02-23T13:12:44.257Z"
   },
   {
    "duration": 666,
    "start_time": "2022-02-23T13:12:44.278Z"
   },
   {
    "duration": 19,
    "start_time": "2022-02-23T13:12:44.946Z"
   },
   {
    "duration": 5,
    "start_time": "2022-02-23T13:12:44.966Z"
   },
   {
    "duration": 4,
    "start_time": "2022-02-23T13:12:44.972Z"
   },
   {
    "duration": 408,
    "start_time": "2022-02-23T13:12:44.978Z"
   },
   {
    "duration": 32,
    "start_time": "2022-02-23T13:12:45.388Z"
   },
   {
    "duration": 29,
    "start_time": "2022-02-23T13:12:45.422Z"
   },
   {
    "duration": 480,
    "start_time": "2022-02-23T13:12:45.453Z"
   },
   {
    "duration": 15,
    "start_time": "2022-02-23T13:12:45.936Z"
   },
   {
    "duration": 217,
    "start_time": "2022-02-23T13:12:45.952Z"
   },
   {
    "duration": 10,
    "start_time": "2022-02-23T13:12:46.171Z"
   },
   {
    "duration": 9,
    "start_time": "2022-02-23T13:12:46.183Z"
   },
   {
    "duration": 31,
    "start_time": "2022-02-23T13:12:46.194Z"
   },
   {
    "duration": 78,
    "start_time": "2022-02-23T13:12:46.227Z"
   },
   {
    "duration": -423,
    "start_time": "2022-02-23T13:12:46.730Z"
   },
   {
    "duration": 2,
    "start_time": "2022-02-23T13:14:42.672Z"
   },
   {
    "duration": 2,
    "start_time": "2022-02-23T13:14:56.743Z"
   },
   {
    "duration": 16,
    "start_time": "2022-02-23T13:15:31.577Z"
   },
   {
    "duration": 6,
    "start_time": "2022-02-23T13:17:23.942Z"
   },
   {
    "duration": 316,
    "start_time": "2022-02-23T13:17:44.441Z"
   },
   {
    "duration": 17,
    "start_time": "2022-02-23T13:17:54.423Z"
   },
   {
    "duration": 214,
    "start_time": "2022-02-23T13:18:22.292Z"
   },
   {
    "duration": 1311,
    "start_time": "2022-02-23T13:18:35.402Z"
   },
   {
    "duration": 250,
    "start_time": "2022-02-23T13:19:52.434Z"
   },
   {
    "duration": 6,
    "start_time": "2022-02-23T13:20:02.053Z"
   },
   {
    "duration": 1122,
    "start_time": "2022-02-23T13:20:09.486Z"
   },
   {
    "duration": 58,
    "start_time": "2022-02-23T13:20:10.610Z"
   },
   {
    "duration": 16,
    "start_time": "2022-02-23T13:20:10.670Z"
   },
   {
    "duration": 2,
    "start_time": "2022-02-23T13:20:10.688Z"
   },
   {
    "duration": 33,
    "start_time": "2022-02-23T13:20:10.692Z"
   },
   {
    "duration": 4,
    "start_time": "2022-02-23T13:20:10.726Z"
   },
   {
    "duration": 7,
    "start_time": "2022-02-23T13:20:10.731Z"
   },
   {
    "duration": 6,
    "start_time": "2022-02-23T13:20:10.741Z"
   },
   {
    "duration": 7,
    "start_time": "2022-02-23T13:20:10.749Z"
   },
   {
    "duration": 4,
    "start_time": "2022-02-23T13:20:10.758Z"
   },
   {
    "duration": 58,
    "start_time": "2022-02-23T13:20:10.763Z"
   },
   {
    "duration": 6,
    "start_time": "2022-02-23T13:20:10.823Z"
   },
   {
    "duration": 6,
    "start_time": "2022-02-23T13:20:10.831Z"
   },
   {
    "duration": 3,
    "start_time": "2022-02-23T13:20:10.838Z"
   },
   {
    "duration": 27,
    "start_time": "2022-02-23T13:20:10.842Z"
   },
   {
    "duration": 12,
    "start_time": "2022-02-23T13:20:10.871Z"
   },
   {
    "duration": 2,
    "start_time": "2022-02-23T13:20:10.885Z"
   },
   {
    "duration": 13,
    "start_time": "2022-02-23T13:20:10.920Z"
   },
   {
    "duration": 2,
    "start_time": "2022-02-23T13:20:10.935Z"
   },
   {
    "duration": 449,
    "start_time": "2022-02-23T13:20:10.939Z"
   },
   {
    "duration": 6,
    "start_time": "2022-02-23T13:20:11.389Z"
   },
   {
    "duration": 234,
    "start_time": "2022-02-23T13:20:11.396Z"
   },
   {
    "duration": 1241,
    "start_time": "2022-02-23T13:20:11.634Z"
   },
   {
    "duration": 15,
    "start_time": "2022-02-23T13:20:12.878Z"
   },
   {
    "duration": 32,
    "start_time": "2022-02-23T13:20:12.895Z"
   },
   {
    "duration": 2,
    "start_time": "2022-02-23T13:20:12.929Z"
   },
   {
    "duration": 630,
    "start_time": "2022-02-23T13:20:12.934Z"
   },
   {
    "duration": 3,
    "start_time": "2022-02-23T13:20:13.565Z"
   },
   {
    "duration": 6,
    "start_time": "2022-02-23T13:20:13.569Z"
   },
   {
    "duration": 4,
    "start_time": "2022-02-23T13:20:13.577Z"
   },
   {
    "duration": 390,
    "start_time": "2022-02-23T13:20:13.582Z"
   },
   {
    "duration": 17,
    "start_time": "2022-02-23T13:20:13.974Z"
   },
   {
    "duration": 27,
    "start_time": "2022-02-23T13:20:13.992Z"
   },
   {
    "duration": 480,
    "start_time": "2022-02-23T13:20:14.021Z"
   },
   {
    "duration": 24,
    "start_time": "2022-02-23T13:20:14.503Z"
   },
   {
    "duration": 218,
    "start_time": "2022-02-23T13:20:14.529Z"
   },
   {
    "duration": 9,
    "start_time": "2022-02-23T13:20:14.749Z"
   },
   {
    "duration": 14,
    "start_time": "2022-02-23T13:20:14.759Z"
   },
   {
    "duration": 15,
    "start_time": "2022-02-23T13:20:14.774Z"
   },
   {
    "duration": 33,
    "start_time": "2022-02-23T13:20:14.791Z"
   },
   {
    "duration": 7,
    "start_time": "2022-02-23T13:20:14.826Z"
   },
   {
    "duration": 309,
    "start_time": "2022-02-23T13:20:14.835Z"
   },
   {
    "duration": 20,
    "start_time": "2022-02-23T13:21:00.701Z"
   },
   {
    "duration": 6,
    "start_time": "2022-02-23T13:21:05.571Z"
   },
   {
    "duration": 217,
    "start_time": "2022-02-23T13:21:07.476Z"
   },
   {
    "duration": 10,
    "start_time": "2022-02-23T13:21:33.190Z"
   },
   {
    "duration": 321,
    "start_time": "2022-02-23T13:22:11.926Z"
   },
   {
    "duration": 322,
    "start_time": "2022-02-23T13:22:43.223Z"
   },
   {
    "duration": 4,
    "start_time": "2022-02-23T13:23:49.851Z"
   },
   {
    "duration": 47,
    "start_time": "2022-02-23T13:28:21.437Z"
   },
   {
    "duration": 26,
    "start_time": "2022-02-23T13:28:36.345Z"
   },
   {
    "duration": 5,
    "start_time": "2022-02-23T13:28:45.109Z"
   },
   {
    "duration": 27,
    "start_time": "2022-02-23T13:30:40.597Z"
   },
   {
    "duration": 1132,
    "start_time": "2022-02-23T13:30:46.730Z"
   },
   {
    "duration": 55,
    "start_time": "2022-02-23T13:30:47.864Z"
   },
   {
    "duration": 14,
    "start_time": "2022-02-23T13:30:47.921Z"
   },
   {
    "duration": 3,
    "start_time": "2022-02-23T13:30:47.937Z"
   },
   {
    "duration": 14,
    "start_time": "2022-02-23T13:30:47.942Z"
   },
   {
    "duration": 5,
    "start_time": "2022-02-23T13:30:47.957Z"
   },
   {
    "duration": 12,
    "start_time": "2022-02-23T13:30:47.964Z"
   },
   {
    "duration": 9,
    "start_time": "2022-02-23T13:30:47.979Z"
   },
   {
    "duration": 46,
    "start_time": "2022-02-23T13:30:47.990Z"
   },
   {
    "duration": 6,
    "start_time": "2022-02-23T13:30:48.037Z"
   },
   {
    "duration": 30,
    "start_time": "2022-02-23T13:30:48.045Z"
   },
   {
    "duration": 6,
    "start_time": "2022-02-23T13:30:48.077Z"
   },
   {
    "duration": 6,
    "start_time": "2022-02-23T13:30:48.084Z"
   },
   {
    "duration": 27,
    "start_time": "2022-02-23T13:30:48.092Z"
   },
   {
    "duration": 34,
    "start_time": "2022-02-23T13:30:48.121Z"
   },
   {
    "duration": 11,
    "start_time": "2022-02-23T13:30:48.156Z"
   },
   {
    "duration": 20,
    "start_time": "2022-02-23T13:30:48.169Z"
   },
   {
    "duration": 27,
    "start_time": "2022-02-23T13:30:48.191Z"
   },
   {
    "duration": 28,
    "start_time": "2022-02-23T13:30:48.219Z"
   },
   {
    "duration": 427,
    "start_time": "2022-02-23T13:30:48.249Z"
   },
   {
    "duration": 6,
    "start_time": "2022-02-23T13:30:48.677Z"
   },
   {
    "duration": 241,
    "start_time": "2022-02-23T13:30:48.685Z"
   },
   {
    "duration": 1255,
    "start_time": "2022-02-23T13:30:48.931Z"
   },
   {
    "duration": 14,
    "start_time": "2022-02-23T13:30:50.188Z"
   },
   {
    "duration": 25,
    "start_time": "2022-02-23T13:30:50.204Z"
   },
   {
    "duration": 2,
    "start_time": "2022-02-23T13:30:50.231Z"
   },
   {
    "duration": 672,
    "start_time": "2022-02-23T13:30:50.235Z"
   },
   {
    "duration": 10,
    "start_time": "2022-02-23T13:30:50.909Z"
   },
   {
    "duration": 6,
    "start_time": "2022-02-23T13:30:50.921Z"
   },
   {
    "duration": 4,
    "start_time": "2022-02-23T13:30:50.929Z"
   },
   {
    "duration": 386,
    "start_time": "2022-02-23T13:30:50.934Z"
   },
   {
    "duration": 17,
    "start_time": "2022-02-23T13:30:51.322Z"
   },
   {
    "duration": 14,
    "start_time": "2022-02-23T13:30:51.341Z"
   },
   {
    "duration": 477,
    "start_time": "2022-02-23T13:30:51.357Z"
   },
   {
    "duration": 15,
    "start_time": "2022-02-23T13:30:51.836Z"
   },
   {
    "duration": 223,
    "start_time": "2022-02-23T13:30:51.853Z"
   },
   {
    "duration": 8,
    "start_time": "2022-02-23T13:30:52.077Z"
   },
   {
    "duration": 9,
    "start_time": "2022-02-23T13:30:52.087Z"
   },
   {
    "duration": 25,
    "start_time": "2022-02-23T13:30:52.098Z"
   },
   {
    "duration": 17,
    "start_time": "2022-02-23T13:30:52.125Z"
   },
   {
    "duration": 309,
    "start_time": "2022-02-23T13:30:52.144Z"
   },
   {
    "duration": 4,
    "start_time": "2022-02-23T13:30:52.455Z"
   },
   {
    "duration": 349,
    "start_time": "2022-02-23T13:33:50.696Z"
   },
   {
    "duration": 329,
    "start_time": "2022-02-23T13:34:06.318Z"
   },
   {
    "duration": 308,
    "start_time": "2022-02-23T13:34:30.744Z"
   },
   {
    "duration": 1199,
    "start_time": "2022-02-23T13:34:45.475Z"
   },
   {
    "duration": 64,
    "start_time": "2022-02-23T13:34:46.676Z"
   },
   {
    "duration": 16,
    "start_time": "2022-02-23T13:34:46.743Z"
   },
   {
    "duration": 3,
    "start_time": "2022-02-23T13:34:46.761Z"
   },
   {
    "duration": 15,
    "start_time": "2022-02-23T13:34:46.767Z"
   },
   {
    "duration": 4,
    "start_time": "2022-02-23T13:34:46.784Z"
   },
   {
    "duration": 7,
    "start_time": "2022-02-23T13:34:46.820Z"
   },
   {
    "duration": 6,
    "start_time": "2022-02-23T13:34:46.830Z"
   },
   {
    "duration": 28,
    "start_time": "2022-02-23T13:34:46.838Z"
   },
   {
    "duration": 5,
    "start_time": "2022-02-23T13:34:46.868Z"
   },
   {
    "duration": 56,
    "start_time": "2022-02-23T13:34:46.874Z"
   },
   {
    "duration": 6,
    "start_time": "2022-02-23T13:34:46.932Z"
   },
   {
    "duration": 7,
    "start_time": "2022-02-23T13:34:46.940Z"
   },
   {
    "duration": 7,
    "start_time": "2022-02-23T13:34:46.948Z"
   },
   {
    "duration": 27,
    "start_time": "2022-02-23T13:34:46.957Z"
   },
   {
    "duration": 40,
    "start_time": "2022-02-23T13:34:46.986Z"
   },
   {
    "duration": 3,
    "start_time": "2022-02-23T13:34:47.028Z"
   },
   {
    "duration": 27,
    "start_time": "2022-02-23T13:34:47.033Z"
   },
   {
    "duration": 3,
    "start_time": "2022-02-23T13:34:47.062Z"
   },
   {
    "duration": 470,
    "start_time": "2022-02-23T13:34:47.067Z"
   },
   {
    "duration": 6,
    "start_time": "2022-02-23T13:34:47.540Z"
   },
   {
    "duration": 255,
    "start_time": "2022-02-23T13:34:47.548Z"
   },
   {
    "duration": 1301,
    "start_time": "2022-02-23T13:34:47.808Z"
   },
   {
    "duration": 16,
    "start_time": "2022-02-23T13:34:49.119Z"
   },
   {
    "duration": 15,
    "start_time": "2022-02-23T13:34:49.137Z"
   },
   {
    "duration": 2,
    "start_time": "2022-02-23T13:34:49.154Z"
   },
   {
    "duration": 705,
    "start_time": "2022-02-23T13:34:49.158Z"
   },
   {
    "duration": 3,
    "start_time": "2022-02-23T13:34:49.865Z"
   },
   {
    "duration": 6,
    "start_time": "2022-02-23T13:34:49.870Z"
   },
   {
    "duration": 11,
    "start_time": "2022-02-23T13:34:49.878Z"
   },
   {
    "duration": 403,
    "start_time": "2022-02-23T13:34:49.891Z"
   },
   {
    "duration": 26,
    "start_time": "2022-02-23T13:34:50.295Z"
   },
   {
    "duration": 14,
    "start_time": "2022-02-23T13:34:50.323Z"
   },
   {
    "duration": 522,
    "start_time": "2022-02-23T13:34:50.339Z"
   },
   {
    "duration": 15,
    "start_time": "2022-02-23T13:34:50.863Z"
   },
   {
    "duration": 224,
    "start_time": "2022-02-23T13:34:50.880Z"
   },
   {
    "duration": 13,
    "start_time": "2022-02-23T13:34:51.107Z"
   },
   {
    "duration": 11,
    "start_time": "2022-02-23T13:34:51.122Z"
   },
   {
    "duration": 9,
    "start_time": "2022-02-23T13:34:51.135Z"
   },
   {
    "duration": 19,
    "start_time": "2022-02-23T13:34:51.146Z"
   },
   {
    "duration": 378,
    "start_time": "2022-02-23T13:34:51.167Z"
   },
   {
    "duration": 4,
    "start_time": "2022-02-23T13:34:51.548Z"
   },
   {
    "duration": 302,
    "start_time": "2022-02-23T13:34:51.554Z"
   },
   {
    "duration": 5,
    "start_time": "2022-02-23T13:36:03.778Z"
   },
   {
    "duration": 5,
    "start_time": "2022-02-23T13:36:15.537Z"
   },
   {
    "duration": 671,
    "start_time": "2022-02-23T13:40:17.392Z"
   },
   {
    "duration": 16,
    "start_time": "2022-02-23T13:41:24.710Z"
   },
   {
    "duration": 3,
    "start_time": "2022-02-23T13:44:23.321Z"
   },
   {
    "duration": 1166,
    "start_time": "2022-02-23T13:44:46.501Z"
   },
   {
    "duration": 59,
    "start_time": "2022-02-23T13:44:47.669Z"
   },
   {
    "duration": 18,
    "start_time": "2022-02-23T13:44:47.731Z"
   },
   {
    "duration": 3,
    "start_time": "2022-02-23T13:44:47.752Z"
   },
   {
    "duration": 13,
    "start_time": "2022-02-23T13:44:47.758Z"
   },
   {
    "duration": 4,
    "start_time": "2022-02-23T13:44:47.774Z"
   },
   {
    "duration": 41,
    "start_time": "2022-02-23T13:44:47.780Z"
   },
   {
    "duration": 7,
    "start_time": "2022-02-23T13:44:47.824Z"
   },
   {
    "duration": 36,
    "start_time": "2022-02-23T13:44:47.834Z"
   },
   {
    "duration": 7,
    "start_time": "2022-02-23T13:44:47.872Z"
   },
   {
    "duration": 52,
    "start_time": "2022-02-23T13:44:47.881Z"
   },
   {
    "duration": 5,
    "start_time": "2022-02-23T13:44:47.935Z"
   },
   {
    "duration": 6,
    "start_time": "2022-02-23T13:44:47.942Z"
   },
   {
    "duration": 8,
    "start_time": "2022-02-23T13:44:47.950Z"
   },
   {
    "duration": 26,
    "start_time": "2022-02-23T13:44:47.960Z"
   },
   {
    "duration": 39,
    "start_time": "2022-02-23T13:44:47.988Z"
   },
   {
    "duration": 3,
    "start_time": "2022-02-23T13:44:48.029Z"
   },
   {
    "duration": 24,
    "start_time": "2022-02-23T13:44:48.034Z"
   },
   {
    "duration": 2,
    "start_time": "2022-02-23T13:44:48.061Z"
   },
   {
    "duration": 464,
    "start_time": "2022-02-23T13:44:48.065Z"
   },
   {
    "duration": 5,
    "start_time": "2022-02-23T13:44:48.531Z"
   },
   {
    "duration": 231,
    "start_time": "2022-02-23T13:44:48.538Z"
   },
   {
    "duration": 1247,
    "start_time": "2022-02-23T13:44:48.773Z"
   },
   {
    "duration": 15,
    "start_time": "2022-02-23T13:44:50.022Z"
   },
   {
    "duration": 21,
    "start_time": "2022-02-23T13:44:50.039Z"
   },
   {
    "duration": 4,
    "start_time": "2022-02-23T13:44:50.062Z"
   },
   {
    "duration": 683,
    "start_time": "2022-02-23T13:44:50.067Z"
   },
   {
    "duration": 3,
    "start_time": "2022-02-23T13:44:50.753Z"
   },
   {
    "duration": 8,
    "start_time": "2022-02-23T13:44:50.758Z"
   },
   {
    "duration": 7,
    "start_time": "2022-02-23T13:44:50.768Z"
   },
   {
    "duration": 406,
    "start_time": "2022-02-23T13:44:50.777Z"
   },
   {
    "duration": 19,
    "start_time": "2022-02-23T13:44:51.185Z"
   },
   {
    "duration": 14,
    "start_time": "2022-02-23T13:44:51.219Z"
   },
   {
    "duration": 484,
    "start_time": "2022-02-23T13:44:51.235Z"
   },
   {
    "duration": 19,
    "start_time": "2022-02-23T13:44:51.722Z"
   },
   {
    "duration": 234,
    "start_time": "2022-02-23T13:44:51.743Z"
   },
   {
    "duration": 10,
    "start_time": "2022-02-23T13:44:51.979Z"
   },
   {
    "duration": 28,
    "start_time": "2022-02-23T13:44:51.991Z"
   },
   {
    "duration": 12,
    "start_time": "2022-02-23T13:44:52.021Z"
   },
   {
    "duration": 20,
    "start_time": "2022-02-23T13:44:52.035Z"
   },
   {
    "duration": 311,
    "start_time": "2022-02-23T13:44:52.057Z"
   },
   {
    "duration": 4,
    "start_time": "2022-02-23T13:44:52.370Z"
   },
   {
    "duration": 352,
    "start_time": "2022-02-23T13:44:52.376Z"
   },
   {
    "duration": 5,
    "start_time": "2022-02-23T13:44:52.730Z"
   },
   {
    "duration": 650,
    "start_time": "2022-02-23T13:44:52.736Z"
   },
   {
    "duration": 16,
    "start_time": "2022-02-23T13:44:53.387Z"
   },
   {
    "duration": 1169,
    "start_time": "2022-02-23T19:07:15.603Z"
   },
   {
    "duration": 57,
    "start_time": "2022-02-23T19:07:16.775Z"
   },
   {
    "duration": 17,
    "start_time": "2022-02-23T19:07:16.835Z"
   },
   {
    "duration": 3,
    "start_time": "2022-02-23T19:07:16.855Z"
   },
   {
    "duration": 16,
    "start_time": "2022-02-23T19:07:16.860Z"
   },
   {
    "duration": 4,
    "start_time": "2022-02-23T19:07:16.878Z"
   },
   {
    "duration": 29,
    "start_time": "2022-02-23T19:07:16.883Z"
   },
   {
    "duration": 7,
    "start_time": "2022-02-23T19:07:16.915Z"
   },
   {
    "duration": 27,
    "start_time": "2022-02-23T19:07:16.924Z"
   },
   {
    "duration": 5,
    "start_time": "2022-02-23T19:07:16.953Z"
   },
   {
    "duration": 53,
    "start_time": "2022-02-23T19:07:16.960Z"
   },
   {
    "duration": 8,
    "start_time": "2022-02-23T19:07:17.015Z"
   },
   {
    "duration": 6,
    "start_time": "2022-02-23T19:07:17.025Z"
   },
   {
    "duration": 2,
    "start_time": "2022-02-23T19:07:17.033Z"
   },
   {
    "duration": 27,
    "start_time": "2022-02-23T19:07:17.037Z"
   },
   {
    "duration": 42,
    "start_time": "2022-02-23T19:07:17.066Z"
   },
   {
    "duration": 30,
    "start_time": "2022-02-23T19:07:17.110Z"
   },
   {
    "duration": 20,
    "start_time": "2022-02-23T19:07:17.142Z"
   },
   {
    "duration": 2,
    "start_time": "2022-02-23T19:07:17.164Z"
   },
   {
    "duration": 410,
    "start_time": "2022-02-23T19:07:17.167Z"
   },
   {
    "duration": 5,
    "start_time": "2022-02-23T19:07:17.579Z"
   },
   {
    "duration": 228,
    "start_time": "2022-02-23T19:07:17.586Z"
   },
   {
    "duration": 1306,
    "start_time": "2022-02-23T19:07:17.819Z"
   },
   {
    "duration": 15,
    "start_time": "2022-02-23T19:07:19.128Z"
   },
   {
    "duration": 16,
    "start_time": "2022-02-23T19:07:19.145Z"
   },
   {
    "duration": 3,
    "start_time": "2022-02-23T19:07:19.163Z"
   },
   {
    "duration": 678,
    "start_time": "2022-02-23T19:07:19.168Z"
   },
   {
    "duration": 3,
    "start_time": "2022-02-23T19:07:19.848Z"
   },
   {
    "duration": 9,
    "start_time": "2022-02-23T19:07:19.852Z"
   },
   {
    "duration": 7,
    "start_time": "2022-02-23T19:07:19.863Z"
   },
   {
    "duration": 404,
    "start_time": "2022-02-23T19:07:19.872Z"
   },
   {
    "duration": 29,
    "start_time": "2022-02-23T19:07:20.278Z"
   },
   {
    "duration": 15,
    "start_time": "2022-02-23T19:07:20.309Z"
   },
   {
    "duration": 485,
    "start_time": "2022-02-23T19:07:20.326Z"
   },
   {
    "duration": 16,
    "start_time": "2022-02-23T19:07:20.812Z"
   },
   {
    "duration": 217,
    "start_time": "2022-02-23T19:07:20.830Z"
   },
   {
    "duration": 9,
    "start_time": "2022-02-23T19:07:21.049Z"
   },
   {
    "duration": 16,
    "start_time": "2022-02-23T19:07:21.060Z"
   },
   {
    "duration": 12,
    "start_time": "2022-02-23T19:07:21.078Z"
   },
   {
    "duration": 35,
    "start_time": "2022-02-23T19:07:21.091Z"
   },
   {
    "duration": 332,
    "start_time": "2022-02-23T19:07:21.128Z"
   },
   {
    "duration": 5,
    "start_time": "2022-02-23T19:07:21.462Z"
   },
   {
    "duration": 343,
    "start_time": "2022-02-23T19:07:21.469Z"
   },
   {
    "duration": 4,
    "start_time": "2022-02-23T19:07:21.814Z"
   },
   {
    "duration": 677,
    "start_time": "2022-02-23T19:07:21.820Z"
   },
   {
    "duration": 19,
    "start_time": "2022-02-23T19:07:22.499Z"
   },
   {
    "duration": 14,
    "start_time": "2022-02-23T19:16:15.665Z"
   },
   {
    "duration": 321,
    "start_time": "2022-02-23T19:19:54.779Z"
   },
   {
    "duration": 3,
    "start_time": "2022-02-23T19:20:06.227Z"
   },
   {
    "duration": 215,
    "start_time": "2022-02-23T19:20:43.811Z"
   },
   {
    "duration": 214,
    "start_time": "2022-02-23T19:23:32.781Z"
   },
   {
    "duration": 3,
    "start_time": "2022-02-23T19:23:43.734Z"
   },
   {
    "duration": 8,
    "start_time": "2022-02-23T19:23:57.085Z"
   },
   {
    "duration": 14,
    "start_time": "2022-02-23T19:32:43.474Z"
   },
   {
    "duration": 15,
    "start_time": "2022-02-23T19:33:35.380Z"
   },
   {
    "duration": 192,
    "start_time": "2022-02-23T19:34:17.235Z"
   },
   {
    "duration": 289,
    "start_time": "2022-02-23T19:34:30.174Z"
   },
   {
    "duration": 15,
    "start_time": "2022-02-23T19:34:39.876Z"
   },
   {
    "duration": 14,
    "start_time": "2022-02-23T19:36:07.051Z"
   },
   {
    "duration": 3,
    "start_time": "2022-02-23T19:36:23.628Z"
   },
   {
    "duration": 16,
    "start_time": "2022-02-23T19:37:48.348Z"
   },
   {
    "duration": 14,
    "start_time": "2022-02-23T19:43:02.951Z"
   },
   {
    "duration": 15,
    "start_time": "2022-02-23T19:47:04.997Z"
   },
   {
    "duration": 15,
    "start_time": "2022-02-23T19:48:42.056Z"
   },
   {
    "duration": 211,
    "start_time": "2022-02-23T19:49:34.316Z"
   },
   {
    "duration": 17,
    "start_time": "2022-02-23T19:49:40.923Z"
   },
   {
    "duration": 1260,
    "start_time": "2022-02-23T19:49:54.131Z"
   },
   {
    "duration": 67,
    "start_time": "2022-02-23T19:49:55.393Z"
   },
   {
    "duration": 18,
    "start_time": "2022-02-23T19:49:55.463Z"
   },
   {
    "duration": 3,
    "start_time": "2022-02-23T19:49:55.483Z"
   },
   {
    "duration": 25,
    "start_time": "2022-02-23T19:49:55.488Z"
   },
   {
    "duration": 4,
    "start_time": "2022-02-23T19:49:55.515Z"
   },
   {
    "duration": 11,
    "start_time": "2022-02-23T19:49:55.521Z"
   },
   {
    "duration": 6,
    "start_time": "2022-02-23T19:49:55.536Z"
   },
   {
    "duration": 62,
    "start_time": "2022-02-23T19:49:55.545Z"
   },
   {
    "duration": 7,
    "start_time": "2022-02-23T19:49:55.610Z"
   },
   {
    "duration": 31,
    "start_time": "2022-02-23T19:49:55.619Z"
   },
   {
    "duration": 7,
    "start_time": "2022-02-23T19:49:55.653Z"
   },
   {
    "duration": 13,
    "start_time": "2022-02-23T19:49:55.662Z"
   },
   {
    "duration": 30,
    "start_time": "2022-02-23T19:49:55.677Z"
   },
   {
    "duration": 28,
    "start_time": "2022-02-23T19:49:55.710Z"
   },
   {
    "duration": 14,
    "start_time": "2022-02-23T19:49:55.740Z"
   },
   {
    "duration": 3,
    "start_time": "2022-02-23T19:49:55.756Z"
   },
   {
    "duration": 47,
    "start_time": "2022-02-23T19:49:55.762Z"
   },
   {
    "duration": 3,
    "start_time": "2022-02-23T19:49:55.810Z"
   },
   {
    "duration": 463,
    "start_time": "2022-02-23T19:49:55.816Z"
   },
   {
    "duration": 6,
    "start_time": "2022-02-23T19:49:56.281Z"
   },
   {
    "duration": 240,
    "start_time": "2022-02-23T19:49:56.289Z"
   },
   {
    "duration": 1317,
    "start_time": "2022-02-23T19:49:56.533Z"
   },
   {
    "duration": 16,
    "start_time": "2022-02-23T19:49:57.853Z"
   },
   {
    "duration": 17,
    "start_time": "2022-02-23T19:49:57.871Z"
   },
   {
    "duration": 20,
    "start_time": "2022-02-23T19:49:57.889Z"
   },
   {
    "duration": 677,
    "start_time": "2022-02-23T19:49:57.911Z"
   },
   {
    "duration": 2,
    "start_time": "2022-02-23T19:49:58.591Z"
   },
   {
    "duration": 5,
    "start_time": "2022-02-23T19:49:58.607Z"
   },
   {
    "duration": 8,
    "start_time": "2022-02-23T19:49:58.614Z"
   },
   {
    "duration": 401,
    "start_time": "2022-02-23T19:49:58.624Z"
   },
   {
    "duration": 19,
    "start_time": "2022-02-23T19:49:59.028Z"
   },
   {
    "duration": 17,
    "start_time": "2022-02-23T19:49:59.049Z"
   },
   {
    "duration": 491,
    "start_time": "2022-02-23T19:49:59.068Z"
   },
   {
    "duration": 16,
    "start_time": "2022-02-23T19:49:59.561Z"
   },
   {
    "duration": 217,
    "start_time": "2022-02-23T19:49:59.579Z"
   },
   {
    "duration": 17,
    "start_time": "2022-02-23T19:49:59.798Z"
   },
   {
    "duration": 27,
    "start_time": "2022-02-23T19:49:59.817Z"
   },
   {
    "duration": 21,
    "start_time": "2022-02-23T19:49:59.846Z"
   },
   {
    "duration": 38,
    "start_time": "2022-02-23T19:49:59.869Z"
   },
   {
    "duration": 341,
    "start_time": "2022-02-23T19:49:59.909Z"
   },
   {
    "duration": 5,
    "start_time": "2022-02-23T19:50:00.252Z"
   },
   {
    "duration": 350,
    "start_time": "2022-02-23T19:50:00.259Z"
   },
   {
    "duration": 5,
    "start_time": "2022-02-23T19:50:00.611Z"
   },
   {
    "duration": 700,
    "start_time": "2022-02-23T19:50:00.618Z"
   },
   {
    "duration": 16,
    "start_time": "2022-02-23T19:50:01.320Z"
   },
   {
    "duration": 37,
    "start_time": "2022-02-23T19:50:01.338Z"
   },
   {
    "duration": 27,
    "start_time": "2022-02-23T19:50:01.377Z"
   },
   {
    "duration": 22,
    "start_time": "2022-02-23T19:50:01.407Z"
   },
   {
    "duration": 17,
    "start_time": "2022-02-23T19:50:01.431Z"
   },
   {
    "duration": 27,
    "start_time": "2022-02-23T19:50:01.450Z"
   },
   {
    "duration": 17,
    "start_time": "2022-02-23T19:50:01.479Z"
   },
   {
    "duration": 22,
    "start_time": "2022-02-23T19:50:01.507Z"
   },
   {
    "duration": 22,
    "start_time": "2022-02-23T19:50:01.530Z"
   },
   {
    "duration": 19,
    "start_time": "2022-02-23T19:50:01.554Z"
   },
   {
    "duration": 6,
    "start_time": "2022-02-23T19:57:57.345Z"
   },
   {
    "duration": 16,
    "start_time": "2022-02-23T19:59:25.703Z"
   },
   {
    "duration": 17,
    "start_time": "2022-02-23T19:59:57.464Z"
   },
   {
    "duration": 410,
    "start_time": "2022-02-23T20:01:51.898Z"
   },
   {
    "duration": 17,
    "start_time": "2022-02-23T20:01:58.761Z"
   },
   {
    "duration": 16,
    "start_time": "2022-02-23T20:03:25.383Z"
   },
   {
    "duration": 18,
    "start_time": "2022-02-23T20:04:03.018Z"
   },
   {
    "duration": 1221,
    "start_time": "2022-02-23T20:04:24.251Z"
   },
   {
    "duration": 61,
    "start_time": "2022-02-23T20:04:25.474Z"
   },
   {
    "duration": 18,
    "start_time": "2022-02-23T20:04:25.537Z"
   },
   {
    "duration": 25,
    "start_time": "2022-02-23T20:04:25.557Z"
   },
   {
    "duration": 30,
    "start_time": "2022-02-23T20:04:25.584Z"
   },
   {
    "duration": 29,
    "start_time": "2022-02-23T20:04:25.616Z"
   },
   {
    "duration": 48,
    "start_time": "2022-02-23T20:04:25.647Z"
   },
   {
    "duration": 28,
    "start_time": "2022-02-23T20:04:25.697Z"
   },
   {
    "duration": 53,
    "start_time": "2022-02-23T20:04:25.728Z"
   },
   {
    "duration": 20,
    "start_time": "2022-02-23T20:04:25.784Z"
   },
   {
    "duration": 36,
    "start_time": "2022-02-23T20:04:25.806Z"
   },
   {
    "duration": 7,
    "start_time": "2022-02-23T20:04:25.844Z"
   },
   {
    "duration": 28,
    "start_time": "2022-02-23T20:04:25.853Z"
   },
   {
    "duration": 19,
    "start_time": "2022-02-23T20:04:25.883Z"
   },
   {
    "duration": 57,
    "start_time": "2022-02-23T20:04:25.904Z"
   },
   {
    "duration": 19,
    "start_time": "2022-02-23T20:04:25.963Z"
   },
   {
    "duration": 11,
    "start_time": "2022-02-23T20:04:25.984Z"
   },
   {
    "duration": 35,
    "start_time": "2022-02-23T20:04:25.997Z"
   },
   {
    "duration": 22,
    "start_time": "2022-02-23T20:04:26.034Z"
   },
   {
    "duration": 451,
    "start_time": "2022-02-23T20:04:26.058Z"
   },
   {
    "duration": 6,
    "start_time": "2022-02-23T20:04:26.511Z"
   },
   {
    "duration": 237,
    "start_time": "2022-02-23T20:04:26.519Z"
   },
   {
    "duration": 1319,
    "start_time": "2022-02-23T20:04:26.760Z"
   },
   {
    "duration": 29,
    "start_time": "2022-02-23T20:04:28.082Z"
   },
   {
    "duration": 19,
    "start_time": "2022-02-23T20:04:28.113Z"
   },
   {
    "duration": 45,
    "start_time": "2022-02-23T20:04:28.134Z"
   },
   {
    "duration": 685,
    "start_time": "2022-02-23T20:04:28.181Z"
   },
   {
    "duration": 2,
    "start_time": "2022-02-23T20:04:28.868Z"
   },
   {
    "duration": 20,
    "start_time": "2022-02-23T20:04:28.872Z"
   },
   {
    "duration": 20,
    "start_time": "2022-02-23T20:04:28.895Z"
   },
   {
    "duration": 531,
    "start_time": "2022-02-23T20:04:28.918Z"
   },
   {
    "duration": 43,
    "start_time": "2022-02-23T20:04:29.452Z"
   },
   {
    "duration": 47,
    "start_time": "2022-02-23T20:04:29.498Z"
   },
   {
    "duration": 488,
    "start_time": "2022-02-23T20:04:29.547Z"
   },
   {
    "duration": 17,
    "start_time": "2022-02-23T20:04:30.038Z"
   },
   {
    "duration": 259,
    "start_time": "2022-02-23T20:04:30.057Z"
   },
   {
    "duration": 9,
    "start_time": "2022-02-23T20:04:30.318Z"
   },
   {
    "duration": 32,
    "start_time": "2022-02-23T20:04:30.329Z"
   },
   {
    "duration": 54,
    "start_time": "2022-02-23T20:04:30.362Z"
   },
   {
    "duration": 50,
    "start_time": "2022-02-23T20:04:30.418Z"
   },
   {
    "duration": 371,
    "start_time": "2022-02-23T20:04:30.470Z"
   },
   {
    "duration": 5,
    "start_time": "2022-02-23T20:04:30.844Z"
   },
   {
    "duration": 350,
    "start_time": "2022-02-23T20:04:30.851Z"
   },
   {
    "duration": 7,
    "start_time": "2022-02-23T20:04:31.203Z"
   },
   {
    "duration": 685,
    "start_time": "2022-02-23T20:04:31.211Z"
   },
   {
    "duration": 21,
    "start_time": "2022-02-23T20:04:31.898Z"
   },
   {
    "duration": 71,
    "start_time": "2022-02-23T20:04:31.920Z"
   },
   {
    "duration": 21,
    "start_time": "2022-02-23T20:04:31.993Z"
   },
   {
    "duration": 17,
    "start_time": "2022-02-23T20:04:32.016Z"
   },
   {
    "duration": 16,
    "start_time": "2022-02-23T20:04:32.035Z"
   },
   {
    "duration": 24,
    "start_time": "2022-02-23T20:04:32.053Z"
   },
   {
    "duration": 32,
    "start_time": "2022-02-23T20:04:32.079Z"
   },
   {
    "duration": 16,
    "start_time": "2022-02-23T20:04:32.113Z"
   },
   {
    "duration": 47,
    "start_time": "2022-02-23T20:04:32.131Z"
   },
   {
    "duration": 28,
    "start_time": "2022-02-23T20:04:32.180Z"
   },
   {
    "duration": 17,
    "start_time": "2022-02-23T20:04:32.210Z"
   },
   {
    "duration": 36,
    "start_time": "2022-02-23T20:04:32.229Z"
   },
   {
    "duration": 16,
    "start_time": "2022-02-23T20:04:32.267Z"
   },
   {
    "duration": 30,
    "start_time": "2022-02-23T20:04:32.285Z"
   },
   {
    "duration": 1483,
    "start_time": "2022-02-24T11:13:41.619Z"
   },
   {
    "duration": 97,
    "start_time": "2022-02-24T11:13:43.105Z"
   },
   {
    "duration": 24,
    "start_time": "2022-02-24T11:13:43.206Z"
   },
   {
    "duration": 5,
    "start_time": "2022-02-24T11:13:43.233Z"
   },
   {
    "duration": 14,
    "start_time": "2022-02-24T11:13:43.241Z"
   },
   {
    "duration": 5,
    "start_time": "2022-02-24T11:13:43.258Z"
   },
   {
    "duration": 47,
    "start_time": "2022-02-24T11:13:43.266Z"
   },
   {
    "duration": 9,
    "start_time": "2022-02-24T11:13:43.318Z"
   },
   {
    "duration": 35,
    "start_time": "2022-02-24T11:13:43.330Z"
   },
   {
    "duration": 44,
    "start_time": "2022-02-24T11:13:43.368Z"
   },
   {
    "duration": 35,
    "start_time": "2022-02-24T11:13:43.415Z"
   },
   {
    "duration": 8,
    "start_time": "2022-02-24T11:13:43.453Z"
   },
   {
    "duration": 7,
    "start_time": "2022-02-24T11:13:43.464Z"
   },
   {
    "duration": 37,
    "start_time": "2022-02-24T11:13:43.474Z"
   },
   {
    "duration": 38,
    "start_time": "2022-02-24T11:13:43.514Z"
   },
   {
    "duration": 16,
    "start_time": "2022-02-24T11:13:43.555Z"
   },
   {
    "duration": 4,
    "start_time": "2022-02-24T11:13:43.609Z"
   },
   {
    "duration": 21,
    "start_time": "2022-02-24T11:13:43.615Z"
   },
   {
    "duration": 3,
    "start_time": "2022-02-24T11:13:43.638Z"
   },
   {
    "duration": 664,
    "start_time": "2022-02-24T11:13:43.643Z"
   },
   {
    "duration": 7,
    "start_time": "2022-02-24T11:13:44.311Z"
   },
   {
    "duration": 355,
    "start_time": "2022-02-24T11:13:44.320Z"
   },
   {
    "duration": 1891,
    "start_time": "2022-02-24T11:13:44.681Z"
   },
   {
    "duration": 19,
    "start_time": "2022-02-24T11:13:46.575Z"
   },
   {
    "duration": 21,
    "start_time": "2022-02-24T11:13:46.611Z"
   },
   {
    "duration": 3,
    "start_time": "2022-02-24T11:13:46.635Z"
   },
   {
    "duration": 906,
    "start_time": "2022-02-24T11:13:46.640Z"
   },
   {
    "duration": 4,
    "start_time": "2022-02-24T11:13:47.548Z"
   },
   {
    "duration": 8,
    "start_time": "2022-02-24T11:13:47.554Z"
   },
   {
    "duration": 4,
    "start_time": "2022-02-24T11:13:47.564Z"
   },
   {
    "duration": 587,
    "start_time": "2022-02-24T11:13:47.570Z"
   },
   {
    "duration": 25,
    "start_time": "2022-02-24T11:13:48.160Z"
   },
   {
    "duration": 41,
    "start_time": "2022-02-24T11:13:48.187Z"
   },
   {
    "duration": 713,
    "start_time": "2022-02-24T11:13:48.231Z"
   },
   {
    "duration": 22,
    "start_time": "2022-02-24T11:13:48.946Z"
   },
   {
    "duration": 314,
    "start_time": "2022-02-24T11:13:48.971Z"
   },
   {
    "duration": 28,
    "start_time": "2022-02-24T11:13:49.287Z"
   },
   {
    "duration": 13,
    "start_time": "2022-02-24T11:13:49.317Z"
   },
   {
    "duration": 13,
    "start_time": "2022-02-24T11:13:49.332Z"
   },
   {
    "duration": 25,
    "start_time": "2022-02-24T11:13:49.347Z"
   },
   {
    "duration": 451,
    "start_time": "2022-02-24T11:13:49.375Z"
   },
   {
    "duration": 7,
    "start_time": "2022-02-24T11:13:49.828Z"
   },
   {
    "duration": 392,
    "start_time": "2022-02-24T11:13:49.837Z"
   },
   {
    "duration": 7,
    "start_time": "2022-02-24T11:13:50.231Z"
   },
   {
    "duration": 1035,
    "start_time": "2022-02-24T11:13:50.240Z"
   },
   {
    "duration": 35,
    "start_time": "2022-02-24T11:13:51.277Z"
   },
   {
    "duration": 19,
    "start_time": "2022-02-24T11:13:51.314Z"
   },
   {
    "duration": 27,
    "start_time": "2022-02-24T11:13:51.336Z"
   },
   {
    "duration": 19,
    "start_time": "2022-02-24T11:13:51.365Z"
   },
   {
    "duration": 21,
    "start_time": "2022-02-24T11:13:51.411Z"
   },
   {
    "duration": 21,
    "start_time": "2022-02-24T11:13:51.434Z"
   },
   {
    "duration": 20,
    "start_time": "2022-02-24T11:13:51.457Z"
   },
   {
    "duration": 21,
    "start_time": "2022-02-24T11:13:51.511Z"
   },
   {
    "duration": 19,
    "start_time": "2022-02-24T11:13:51.535Z"
   },
   {
    "duration": 57,
    "start_time": "2022-02-24T11:13:51.556Z"
   },
   {
    "duration": 21,
    "start_time": "2022-02-24T11:13:51.615Z"
   },
   {
    "duration": 22,
    "start_time": "2022-02-24T11:13:51.638Z"
   },
   {
    "duration": 50,
    "start_time": "2022-02-24T11:13:51.662Z"
   },
   {
    "duration": 20,
    "start_time": "2022-02-24T11:13:51.715Z"
   },
   {
    "duration": 21,
    "start_time": "2022-02-24T11:31:51.340Z"
   },
   {
    "duration": 7,
    "start_time": "2022-02-24T11:34:19.332Z"
   },
   {
    "duration": 10,
    "start_time": "2022-02-24T11:35:00.164Z"
   },
   {
    "duration": 9,
    "start_time": "2022-02-24T11:35:20.232Z"
   },
   {
    "duration": 6,
    "start_time": "2022-02-24T11:36:18.388Z"
   },
   {
    "duration": 13,
    "start_time": "2022-02-24T11:38:09.182Z"
   },
   {
    "duration": 12,
    "start_time": "2022-02-24T11:38:10.731Z"
   },
   {
    "duration": 7,
    "start_time": "2022-02-24T11:38:12.234Z"
   },
   {
    "duration": 14,
    "start_time": "2022-02-24T11:40:20.875Z"
   },
   {
    "duration": 13,
    "start_time": "2022-02-24T11:40:22.347Z"
   },
   {
    "duration": 7,
    "start_time": "2022-02-24T11:41:17.113Z"
   },
   {
    "duration": 7,
    "start_time": "2022-02-24T11:41:39.485Z"
   },
   {
    "duration": 1155,
    "start_time": "2022-02-24T16:37:08.407Z"
   },
   {
    "duration": 57,
    "start_time": "2022-02-24T16:37:09.564Z"
   },
   {
    "duration": 20,
    "start_time": "2022-02-24T16:37:09.622Z"
   },
   {
    "duration": 3,
    "start_time": "2022-02-24T16:37:09.643Z"
   },
   {
    "duration": 9,
    "start_time": "2022-02-24T16:37:09.648Z"
   },
   {
    "duration": 3,
    "start_time": "2022-02-24T16:37:09.659Z"
   },
   {
    "duration": 7,
    "start_time": "2022-02-24T16:37:09.664Z"
   },
   {
    "duration": 5,
    "start_time": "2022-02-24T16:37:09.673Z"
   },
   {
    "duration": 50,
    "start_time": "2022-02-24T16:37:09.680Z"
   },
   {
    "duration": 5,
    "start_time": "2022-02-24T16:37:09.732Z"
   },
   {
    "duration": 27,
    "start_time": "2022-02-24T16:37:09.738Z"
   },
   {
    "duration": 5,
    "start_time": "2022-02-24T16:37:09.767Z"
   },
   {
    "duration": 7,
    "start_time": "2022-02-24T16:37:09.773Z"
   },
   {
    "duration": 3,
    "start_time": "2022-02-24T16:37:09.781Z"
   },
   {
    "duration": 44,
    "start_time": "2022-02-24T16:37:09.787Z"
   },
   {
    "duration": 10,
    "start_time": "2022-02-24T16:37:09.833Z"
   },
   {
    "duration": 2,
    "start_time": "2022-02-24T16:37:09.845Z"
   },
   {
    "duration": 17,
    "start_time": "2022-02-24T16:37:09.849Z"
   },
   {
    "duration": 4,
    "start_time": "2022-02-24T16:37:09.868Z"
   },
   {
    "duration": 417,
    "start_time": "2022-02-24T16:37:09.873Z"
   },
   {
    "duration": 5,
    "start_time": "2022-02-24T16:37:10.292Z"
   },
   {
    "duration": 211,
    "start_time": "2022-02-24T16:37:10.298Z"
   },
   {
    "duration": 1135,
    "start_time": "2022-02-24T16:37:10.513Z"
   },
   {
    "duration": 13,
    "start_time": "2022-02-24T16:37:11.651Z"
   },
   {
    "duration": 14,
    "start_time": "2022-02-24T16:37:11.665Z"
   },
   {
    "duration": 3,
    "start_time": "2022-02-24T16:37:11.680Z"
   },
   {
    "duration": 595,
    "start_time": "2022-02-24T16:37:11.684Z"
   },
   {
    "duration": 2,
    "start_time": "2022-02-24T16:37:12.281Z"
   },
   {
    "duration": 8,
    "start_time": "2022-02-24T16:37:12.285Z"
   },
   {
    "duration": 5,
    "start_time": "2022-02-24T16:37:12.295Z"
   },
   {
    "duration": 349,
    "start_time": "2022-02-24T16:37:12.301Z"
   },
   {
    "duration": 15,
    "start_time": "2022-02-24T16:37:12.651Z"
   },
   {
    "duration": 13,
    "start_time": "2022-02-24T16:37:12.667Z"
   },
   {
    "duration": 422,
    "start_time": "2022-02-24T16:37:12.682Z"
   },
   {
    "duration": 29,
    "start_time": "2022-02-24T16:37:13.106Z"
   },
   {
    "duration": 193,
    "start_time": "2022-02-24T16:37:13.137Z"
   },
   {
    "duration": 8,
    "start_time": "2022-02-24T16:37:13.331Z"
   },
   {
    "duration": 7,
    "start_time": "2022-02-24T16:37:13.340Z"
   },
   {
    "duration": 7,
    "start_time": "2022-02-24T16:37:13.349Z"
   },
   {
    "duration": 17,
    "start_time": "2022-02-24T16:37:13.357Z"
   },
   {
    "duration": 281,
    "start_time": "2022-02-24T16:37:13.376Z"
   },
   {
    "duration": 4,
    "start_time": "2022-02-24T16:37:13.659Z"
   },
   {
    "duration": 277,
    "start_time": "2022-02-24T16:37:13.664Z"
   },
   {
    "duration": 4,
    "start_time": "2022-02-24T16:37:13.943Z"
   },
   {
    "duration": 616,
    "start_time": "2022-02-24T16:37:13.949Z"
   },
   {
    "duration": 13,
    "start_time": "2022-02-24T16:37:14.567Z"
   },
   {
    "duration": 13,
    "start_time": "2022-02-24T16:37:14.582Z"
   },
   {
    "duration": 12,
    "start_time": "2022-02-24T16:37:14.596Z"
   },
   {
    "duration": 12,
    "start_time": "2022-02-24T16:37:14.630Z"
   },
   {
    "duration": 13,
    "start_time": "2022-02-24T16:37:14.644Z"
   },
   {
    "duration": 12,
    "start_time": "2022-02-24T16:37:14.658Z"
   },
   {
    "duration": 12,
    "start_time": "2022-02-24T16:37:14.671Z"
   },
   {
    "duration": 13,
    "start_time": "2022-02-24T16:37:14.684Z"
   },
   {
    "duration": 12,
    "start_time": "2022-02-24T16:37:14.731Z"
   },
   {
    "duration": 11,
    "start_time": "2022-02-24T16:37:14.745Z"
   },
   {
    "duration": 12,
    "start_time": "2022-02-24T16:37:14.757Z"
   },
   {
    "duration": 14,
    "start_time": "2022-02-24T16:37:14.770Z"
   },
   {
    "duration": 11,
    "start_time": "2022-02-24T16:37:14.785Z"
   },
   {
    "duration": 43,
    "start_time": "2022-02-24T16:37:14.797Z"
   },
   {
    "duration": 11,
    "start_time": "2022-02-24T16:37:14.842Z"
   },
   {
    "duration": 8,
    "start_time": "2022-02-24T16:37:14.855Z"
   },
   {
    "duration": 8,
    "start_time": "2022-02-24T16:37:14.865Z"
   },
   {
    "duration": 8,
    "start_time": "2022-02-24T16:37:14.875Z"
   },
   {
    "duration": 5,
    "start_time": "2022-02-24T16:37:14.885Z"
   },
   {
    "duration": 45,
    "start_time": "2022-02-24T16:37:14.892Z"
   },
   {
    "duration": 9,
    "start_time": "2022-02-24T16:37:14.938Z"
   },
   {
    "duration": 5,
    "start_time": "2022-02-24T16:37:14.949Z"
   },
   {
    "duration": 3757,
    "start_time": "2022-02-24T16:43:30.755Z"
   },
   {
    "duration": 133,
    "start_time": "2022-02-24T16:43:47.545Z"
   },
   {
    "duration": 5,
    "start_time": "2022-02-24T16:43:52.110Z"
   },
   {
    "duration": 13,
    "start_time": "2022-02-24T16:44:00.487Z"
   },
   {
    "duration": 16,
    "start_time": "2022-02-24T16:46:02.580Z"
   },
   {
    "duration": 16,
    "start_time": "2022-02-24T16:46:10.733Z"
   },
   {
    "duration": 1148,
    "start_time": "2022-02-24T16:46:16.124Z"
   },
   {
    "duration": 58,
    "start_time": "2022-02-24T16:46:17.274Z"
   },
   {
    "duration": 15,
    "start_time": "2022-02-24T16:46:17.335Z"
   },
   {
    "duration": 3,
    "start_time": "2022-02-24T16:46:17.352Z"
   },
   {
    "duration": 11,
    "start_time": "2022-02-24T16:46:17.357Z"
   },
   {
    "duration": 3,
    "start_time": "2022-02-24T16:46:17.370Z"
   },
   {
    "duration": 7,
    "start_time": "2022-02-24T16:46:17.374Z"
   },
   {
    "duration": 4,
    "start_time": "2022-02-24T16:46:17.384Z"
   },
   {
    "duration": 54,
    "start_time": "2022-02-24T16:46:17.390Z"
   },
   {
    "duration": 5,
    "start_time": "2022-02-24T16:46:17.445Z"
   },
   {
    "duration": 16,
    "start_time": "2022-02-24T16:46:17.452Z"
   },
   {
    "duration": 9,
    "start_time": "2022-02-24T16:46:17.469Z"
   },
   {
    "duration": 2,
    "start_time": "2022-02-24T16:46:17.479Z"
   },
   {
    "duration": 14,
    "start_time": "2022-02-24T16:46:17.483Z"
   },
   {
    "duration": 2,
    "start_time": "2022-02-24T16:46:17.499Z"
   },
   {
    "duration": 393,
    "start_time": "2022-02-24T16:46:17.502Z"
   },
   {
    "duration": 5,
    "start_time": "2022-02-24T16:46:17.896Z"
   },
   {
    "duration": 218,
    "start_time": "2022-02-24T16:46:17.903Z"
   },
   {
    "duration": 1148,
    "start_time": "2022-02-24T16:46:18.122Z"
   },
   {
    "duration": 15,
    "start_time": "2022-02-24T16:46:19.272Z"
   },
   {
    "duration": 16,
    "start_time": "2022-02-24T16:46:19.289Z"
   },
   {
    "duration": 2,
    "start_time": "2022-02-24T16:46:19.307Z"
   },
   {
    "duration": 585,
    "start_time": "2022-02-24T16:46:19.312Z"
   },
   {
    "duration": 3,
    "start_time": "2022-02-24T16:46:19.899Z"
   },
   {
    "duration": 10,
    "start_time": "2022-02-24T16:46:19.903Z"
   },
   {
    "duration": 5,
    "start_time": "2022-02-24T16:46:19.915Z"
   },
   {
    "duration": 333,
    "start_time": "2022-02-24T16:46:19.930Z"
   },
   {
    "duration": 14,
    "start_time": "2022-02-24T16:46:20.265Z"
   },
   {
    "duration": 12,
    "start_time": "2022-02-24T16:46:20.281Z"
   },
   {
    "duration": 388,
    "start_time": "2022-02-24T16:46:20.295Z"
   },
   {
    "duration": 16,
    "start_time": "2022-02-24T16:46:20.685Z"
   },
   {
    "duration": 191,
    "start_time": "2022-02-24T16:46:20.703Z"
   },
   {
    "duration": 9,
    "start_time": "2022-02-24T16:46:20.896Z"
   },
   {
    "duration": 29,
    "start_time": "2022-02-24T16:46:20.906Z"
   },
   {
    "duration": 8,
    "start_time": "2022-02-24T16:46:20.937Z"
   },
   {
    "duration": 16,
    "start_time": "2022-02-24T16:46:20.946Z"
   },
   {
    "duration": 290,
    "start_time": "2022-02-24T16:46:20.964Z"
   },
   {
    "duration": 5,
    "start_time": "2022-02-24T16:46:21.256Z"
   },
   {
    "duration": 278,
    "start_time": "2022-02-24T16:46:21.262Z"
   },
   {
    "duration": 5,
    "start_time": "2022-02-24T16:46:21.542Z"
   },
   {
    "duration": 606,
    "start_time": "2022-02-24T16:46:21.549Z"
   },
   {
    "duration": 14,
    "start_time": "2022-02-24T16:46:22.157Z"
   },
   {
    "duration": 11,
    "start_time": "2022-02-24T16:46:22.172Z"
   },
   {
    "duration": 16,
    "start_time": "2022-02-24T16:46:22.185Z"
   },
   {
    "duration": 33,
    "start_time": "2022-02-24T16:46:22.202Z"
   },
   {
    "duration": 13,
    "start_time": "2022-02-24T16:46:22.237Z"
   },
   {
    "duration": 13,
    "start_time": "2022-02-24T16:46:22.252Z"
   },
   {
    "duration": 12,
    "start_time": "2022-02-24T16:46:22.266Z"
   },
   {
    "duration": 13,
    "start_time": "2022-02-24T16:46:22.279Z"
   },
   {
    "duration": 45,
    "start_time": "2022-02-24T16:46:22.294Z"
   },
   {
    "duration": 12,
    "start_time": "2022-02-24T16:46:22.340Z"
   },
   {
    "duration": 13,
    "start_time": "2022-02-24T16:46:22.354Z"
   },
   {
    "duration": 16,
    "start_time": "2022-02-24T16:46:22.368Z"
   },
   {
    "duration": 11,
    "start_time": "2022-02-24T16:46:22.386Z"
   },
   {
    "duration": 41,
    "start_time": "2022-02-24T16:46:22.399Z"
   },
   {
    "duration": 11,
    "start_time": "2022-02-24T16:46:22.442Z"
   },
   {
    "duration": 8,
    "start_time": "2022-02-24T16:46:22.454Z"
   },
   {
    "duration": 7,
    "start_time": "2022-02-24T16:46:22.464Z"
   },
   {
    "duration": 7,
    "start_time": "2022-02-24T16:46:22.473Z"
   },
   {
    "duration": 4,
    "start_time": "2022-02-24T16:46:22.482Z"
   },
   {
    "duration": 13,
    "start_time": "2022-02-24T16:46:22.487Z"
   },
   {
    "duration": 34,
    "start_time": "2022-02-24T16:46:22.502Z"
   },
   {
    "duration": 6,
    "start_time": "2022-02-24T16:46:22.538Z"
   },
   {
    "duration": 11,
    "start_time": "2022-02-24T16:46:22.546Z"
   },
   {
    "duration": 11,
    "start_time": "2022-02-24T16:47:17.105Z"
   },
   {
    "duration": 14,
    "start_time": "2022-02-24T16:47:33.546Z"
   },
   {
    "duration": 10,
    "start_time": "2022-02-24T16:47:47.503Z"
   },
   {
    "duration": 370,
    "start_time": "2022-02-24T16:49:25.466Z"
   },
   {
    "duration": 699,
    "start_time": "2022-02-24T16:50:24.282Z"
   },
   {
    "duration": 470,
    "start_time": "2022-02-24T16:50:37.944Z"
   },
   {
    "duration": 378,
    "start_time": "2022-02-24T16:51:45.967Z"
   },
   {
    "duration": 1141,
    "start_time": "2022-02-24T16:51:57.709Z"
   },
   {
    "duration": 51,
    "start_time": "2022-02-24T16:51:58.852Z"
   },
   {
    "duration": 25,
    "start_time": "2022-02-24T16:51:58.906Z"
   },
   {
    "duration": 2,
    "start_time": "2022-02-24T16:51:58.933Z"
   },
   {
    "duration": 11,
    "start_time": "2022-02-24T16:51:58.937Z"
   },
   {
    "duration": 4,
    "start_time": "2022-02-24T16:51:58.950Z"
   },
   {
    "duration": 6,
    "start_time": "2022-02-24T16:51:58.956Z"
   },
   {
    "duration": 5,
    "start_time": "2022-02-24T16:51:58.964Z"
   },
   {
    "duration": 24,
    "start_time": "2022-02-24T16:51:58.971Z"
   },
   {
    "duration": 33,
    "start_time": "2022-02-24T16:51:58.997Z"
   },
   {
    "duration": 17,
    "start_time": "2022-02-24T16:51:59.032Z"
   },
   {
    "duration": 10,
    "start_time": "2022-02-24T16:51:59.050Z"
   },
   {
    "duration": 10,
    "start_time": "2022-02-24T16:51:59.062Z"
   },
   {
    "duration": 2,
    "start_time": "2022-02-24T16:51:59.074Z"
   },
   {
    "duration": 426,
    "start_time": "2022-02-24T16:51:59.078Z"
   },
   {
    "duration": 5,
    "start_time": "2022-02-24T16:51:59.506Z"
   },
   {
    "duration": 217,
    "start_time": "2022-02-24T16:51:59.513Z"
   },
   {
    "duration": 1166,
    "start_time": "2022-02-24T16:51:59.732Z"
   },
   {
    "duration": 13,
    "start_time": "2022-02-24T16:52:00.900Z"
   },
   {
    "duration": 26,
    "start_time": "2022-02-24T16:52:00.914Z"
   },
   {
    "duration": 7,
    "start_time": "2022-02-24T16:52:00.942Z"
   },
   {
    "duration": 579,
    "start_time": "2022-02-24T16:52:00.951Z"
   },
   {
    "duration": 3,
    "start_time": "2022-02-24T16:52:01.534Z"
   },
   {
    "duration": 21,
    "start_time": "2022-02-24T16:52:01.540Z"
   },
   {
    "duration": 7,
    "start_time": "2022-02-24T16:52:01.563Z"
   },
   {
    "duration": 347,
    "start_time": "2022-02-24T16:52:01.572Z"
   },
   {
    "duration": 21,
    "start_time": "2022-02-24T16:52:01.921Z"
   },
   {
    "duration": 12,
    "start_time": "2022-02-24T16:52:01.944Z"
   },
   {
    "duration": 396,
    "start_time": "2022-02-24T16:52:01.958Z"
   },
   {
    "duration": 13,
    "start_time": "2022-02-24T16:52:02.356Z"
   },
   {
    "duration": 192,
    "start_time": "2022-02-24T16:52:02.371Z"
   },
   {
    "duration": 8,
    "start_time": "2022-02-24T16:52:02.565Z"
   },
   {
    "duration": 8,
    "start_time": "2022-02-24T16:52:02.575Z"
   },
   {
    "duration": 8,
    "start_time": "2022-02-24T16:52:02.585Z"
   },
   {
    "duration": 43,
    "start_time": "2022-02-24T16:52:02.594Z"
   },
   {
    "duration": 296,
    "start_time": "2022-02-24T16:52:02.638Z"
   },
   {
    "duration": 4,
    "start_time": "2022-02-24T16:52:02.935Z"
   },
   {
    "duration": 278,
    "start_time": "2022-02-24T16:52:02.941Z"
   },
   {
    "duration": 11,
    "start_time": "2022-02-24T16:52:03.221Z"
   },
   {
    "duration": 581,
    "start_time": "2022-02-24T16:52:03.234Z"
   },
   {
    "duration": 17,
    "start_time": "2022-02-24T16:52:03.817Z"
   },
   {
    "duration": 12,
    "start_time": "2022-02-24T16:52:03.836Z"
   },
   {
    "duration": 16,
    "start_time": "2022-02-24T16:52:03.850Z"
   },
   {
    "duration": 13,
    "start_time": "2022-02-24T16:52:03.868Z"
   },
   {
    "duration": 15,
    "start_time": "2022-02-24T16:52:03.883Z"
   },
   {
    "duration": 42,
    "start_time": "2022-02-24T16:52:03.900Z"
   },
   {
    "duration": 12,
    "start_time": "2022-02-24T16:52:03.943Z"
   },
   {
    "duration": 13,
    "start_time": "2022-02-24T16:52:03.956Z"
   },
   {
    "duration": 13,
    "start_time": "2022-02-24T16:52:03.971Z"
   },
   {
    "duration": 46,
    "start_time": "2022-02-24T16:52:03.985Z"
   },
   {
    "duration": 13,
    "start_time": "2022-02-24T16:52:04.033Z"
   },
   {
    "duration": 16,
    "start_time": "2022-02-24T16:52:04.048Z"
   },
   {
    "duration": 13,
    "start_time": "2022-02-24T16:52:04.065Z"
   },
   {
    "duration": 14,
    "start_time": "2022-02-24T16:52:04.079Z"
   },
   {
    "duration": 41,
    "start_time": "2022-02-24T16:52:04.094Z"
   },
   {
    "duration": 5,
    "start_time": "2022-02-24T16:52:04.137Z"
   },
   {
    "duration": 9,
    "start_time": "2022-02-24T16:52:04.144Z"
   },
   {
    "duration": 7,
    "start_time": "2022-02-24T16:52:04.155Z"
   },
   {
    "duration": 5,
    "start_time": "2022-02-24T16:52:04.164Z"
   },
   {
    "duration": 13,
    "start_time": "2022-02-24T16:52:04.170Z"
   },
   {
    "duration": 9,
    "start_time": "2022-02-24T16:52:04.185Z"
   },
   {
    "duration": 5,
    "start_time": "2022-02-24T16:52:04.195Z"
   },
   {
    "duration": 10,
    "start_time": "2022-02-24T16:52:04.231Z"
   },
   {
    "duration": 1139,
    "start_time": "2022-02-24T16:56:33.364Z"
   },
   {
    "duration": 1252,
    "start_time": "2022-02-24T16:57:02.226Z"
   },
   {
    "duration": 1166,
    "start_time": "2022-02-24T16:57:12.001Z"
   },
   {
    "duration": 1136,
    "start_time": "2022-02-24T16:57:19.499Z"
   },
   {
    "duration": 1135,
    "start_time": "2022-02-24T16:57:26.650Z"
   },
   {
    "duration": 1196,
    "start_time": "2022-02-24T16:57:32.986Z"
   },
   {
    "duration": 1164,
    "start_time": "2022-02-24T16:57:39.650Z"
   },
   {
    "duration": 1246,
    "start_time": "2022-02-24T16:57:46.144Z"
   },
   {
    "duration": 1156,
    "start_time": "2022-02-24T16:57:52.463Z"
   },
   {
    "duration": 1852,
    "start_time": "2022-02-24T16:59:20.797Z"
   },
   {
    "duration": 1131,
    "start_time": "2022-02-24T16:59:32.965Z"
   },
   {
    "duration": 1173,
    "start_time": "2022-02-24T16:59:52.229Z"
   },
   {
    "duration": 1123,
    "start_time": "2022-02-24T17:01:40.002Z"
   },
   {
    "duration": 54,
    "start_time": "2022-02-24T17:01:41.130Z"
   },
   {
    "duration": 16,
    "start_time": "2022-02-24T17:01:41.186Z"
   },
   {
    "duration": 2,
    "start_time": "2022-02-24T17:01:41.204Z"
   },
   {
    "duration": 27,
    "start_time": "2022-02-24T17:01:41.208Z"
   },
   {
    "duration": 3,
    "start_time": "2022-02-24T17:01:41.237Z"
   },
   {
    "duration": 7,
    "start_time": "2022-02-24T17:01:41.241Z"
   },
   {
    "duration": 5,
    "start_time": "2022-02-24T17:01:41.251Z"
   },
   {
    "duration": 26,
    "start_time": "2022-02-24T17:01:41.258Z"
   },
   {
    "duration": 5,
    "start_time": "2022-02-24T17:01:41.286Z"
   },
   {
    "duration": 45,
    "start_time": "2022-02-24T17:01:41.292Z"
   },
   {
    "duration": 9,
    "start_time": "2022-02-24T17:01:41.339Z"
   },
   {
    "duration": 10,
    "start_time": "2022-02-24T17:01:41.349Z"
   },
   {
    "duration": 6,
    "start_time": "2022-02-24T17:01:41.360Z"
   },
   {
    "duration": 404,
    "start_time": "2022-02-24T17:01:41.368Z"
   },
   {
    "duration": 4,
    "start_time": "2022-02-24T17:01:41.774Z"
   },
   {
    "duration": 208,
    "start_time": "2022-02-24T17:01:41.780Z"
   },
   {
    "duration": 1149,
    "start_time": "2022-02-24T17:01:41.989Z"
   },
   {
    "duration": 14,
    "start_time": "2022-02-24T17:01:43.140Z"
   },
   {
    "duration": 14,
    "start_time": "2022-02-24T17:01:43.155Z"
   },
   {
    "duration": 2,
    "start_time": "2022-02-24T17:01:43.171Z"
   },
   {
    "duration": 591,
    "start_time": "2022-02-24T17:01:43.175Z"
   },
   {
    "duration": 2,
    "start_time": "2022-02-24T17:01:43.768Z"
   },
   {
    "duration": 10,
    "start_time": "2022-02-24T17:01:43.771Z"
   },
   {
    "duration": 7,
    "start_time": "2022-02-24T17:01:43.783Z"
   },
   {
    "duration": 339,
    "start_time": "2022-02-24T17:01:43.794Z"
   },
   {
    "duration": 15,
    "start_time": "2022-02-24T17:01:44.135Z"
   },
   {
    "duration": 12,
    "start_time": "2022-02-24T17:01:44.152Z"
   },
   {
    "duration": 408,
    "start_time": "2022-02-24T17:01:44.166Z"
   },
   {
    "duration": 14,
    "start_time": "2022-02-24T17:01:44.575Z"
   },
   {
    "duration": 188,
    "start_time": "2022-02-24T17:01:44.591Z"
   },
   {
    "duration": 7,
    "start_time": "2022-02-24T17:01:44.781Z"
   },
   {
    "duration": 12,
    "start_time": "2022-02-24T17:01:44.790Z"
   },
   {
    "duration": 8,
    "start_time": "2022-02-24T17:01:44.803Z"
   },
   {
    "duration": 28,
    "start_time": "2022-02-24T17:01:44.812Z"
   },
   {
    "duration": 319,
    "start_time": "2022-02-24T17:01:44.842Z"
   },
   {
    "duration": 4,
    "start_time": "2022-02-24T17:01:45.162Z"
   },
   {
    "duration": 284,
    "start_time": "2022-02-24T17:01:45.168Z"
   },
   {
    "duration": 4,
    "start_time": "2022-02-24T17:01:45.454Z"
   },
   {
    "duration": 613,
    "start_time": "2022-02-24T17:01:45.459Z"
   },
   {
    "duration": 14,
    "start_time": "2022-02-24T17:01:46.074Z"
   },
   {
    "duration": 12,
    "start_time": "2022-02-24T17:01:46.089Z"
   },
   {
    "duration": 33,
    "start_time": "2022-02-24T17:01:46.103Z"
   },
   {
    "duration": 13,
    "start_time": "2022-02-24T17:01:46.137Z"
   },
   {
    "duration": 12,
    "start_time": "2022-02-24T17:01:46.152Z"
   },
   {
    "duration": 24,
    "start_time": "2022-02-24T17:01:46.165Z"
   },
   {
    "duration": 11,
    "start_time": "2022-02-24T17:01:46.190Z"
   },
   {
    "duration": 36,
    "start_time": "2022-02-24T17:01:46.203Z"
   },
   {
    "duration": 15,
    "start_time": "2022-02-24T17:01:46.240Z"
   },
   {
    "duration": 13,
    "start_time": "2022-02-24T17:01:46.257Z"
   },
   {
    "duration": 12,
    "start_time": "2022-02-24T17:01:46.272Z"
   },
   {
    "duration": 14,
    "start_time": "2022-02-24T17:01:46.285Z"
   },
   {
    "duration": 40,
    "start_time": "2022-02-24T17:01:46.301Z"
   },
   {
    "duration": 14,
    "start_time": "2022-02-24T17:01:46.343Z"
   },
   {
    "duration": 12,
    "start_time": "2022-02-24T17:01:46.359Z"
   },
   {
    "duration": 6,
    "start_time": "2022-02-24T17:01:46.373Z"
   },
   {
    "duration": 12,
    "start_time": "2022-02-24T17:01:46.380Z"
   },
   {
    "duration": 37,
    "start_time": "2022-02-24T17:01:46.393Z"
   },
   {
    "duration": 5,
    "start_time": "2022-02-24T17:01:46.432Z"
   },
   {
    "duration": 10,
    "start_time": "2022-02-24T17:01:46.439Z"
   },
   {
    "duration": 8,
    "start_time": "2022-02-24T17:01:46.451Z"
   },
   {
    "duration": 5,
    "start_time": "2022-02-24T17:01:46.461Z"
   },
   {
    "duration": 14,
    "start_time": "2022-02-24T17:01:46.468Z"
   },
   {
    "duration": 552,
    "start_time": "2022-02-24T17:03:51.915Z"
   },
   {
    "duration": 636,
    "start_time": "2022-02-24T17:04:09.243Z"
   },
   {
    "duration": 4,
    "start_time": "2022-02-24T17:05:24.121Z"
   },
   {
    "duration": 1168,
    "start_time": "2022-02-24T17:05:29.708Z"
   },
   {
    "duration": 55,
    "start_time": "2022-02-24T17:05:30.878Z"
   },
   {
    "duration": 15,
    "start_time": "2022-02-24T17:05:30.935Z"
   },
   {
    "duration": 7,
    "start_time": "2022-02-24T17:05:30.953Z"
   },
   {
    "duration": 15,
    "start_time": "2022-02-24T17:05:30.962Z"
   },
   {
    "duration": 4,
    "start_time": "2022-02-24T17:05:30.979Z"
   },
   {
    "duration": 12,
    "start_time": "2022-02-24T17:05:30.984Z"
   },
   {
    "duration": 31,
    "start_time": "2022-02-24T17:05:30.999Z"
   },
   {
    "duration": 40,
    "start_time": "2022-02-24T17:05:31.033Z"
   },
   {
    "duration": 7,
    "start_time": "2022-02-24T17:05:31.075Z"
   },
   {
    "duration": 28,
    "start_time": "2022-02-24T17:05:31.084Z"
   },
   {
    "duration": 15,
    "start_time": "2022-02-24T17:05:31.131Z"
   },
   {
    "duration": 16,
    "start_time": "2022-02-24T17:05:31.148Z"
   },
   {
    "duration": 6,
    "start_time": "2022-02-24T17:05:31.166Z"
   },
   {
    "duration": 669,
    "start_time": "2022-02-24T17:05:31.174Z"
   },
   {
    "duration": 7,
    "start_time": "2022-02-24T17:05:31.845Z"
   },
   {
    "duration": 337,
    "start_time": "2022-02-24T17:05:31.854Z"
   },
   {
    "duration": 2006,
    "start_time": "2022-02-24T17:05:32.193Z"
   },
   {
    "duration": 30,
    "start_time": "2022-02-24T17:05:34.202Z"
   },
   {
    "duration": 22,
    "start_time": "2022-02-24T17:05:34.234Z"
   },
   {
    "duration": 3,
    "start_time": "2022-02-24T17:05:34.258Z"
   },
   {
    "duration": 1033,
    "start_time": "2022-02-24T17:05:34.263Z"
   },
   {
    "duration": 3,
    "start_time": "2022-02-24T17:05:35.302Z"
   },
   {
    "duration": 11,
    "start_time": "2022-02-24T17:05:35.307Z"
   },
   {
    "duration": 16,
    "start_time": "2022-02-24T17:05:35.319Z"
   },
   {
    "duration": 326,
    "start_time": "2022-02-24T17:05:35.336Z"
   },
   {
    "duration": 15,
    "start_time": "2022-02-24T17:05:35.664Z"
   },
   {
    "duration": 13,
    "start_time": "2022-02-24T17:05:35.681Z"
   },
   {
    "duration": 406,
    "start_time": "2022-02-24T17:05:35.696Z"
   },
   {
    "duration": 13,
    "start_time": "2022-02-24T17:05:36.104Z"
   },
   {
    "duration": 197,
    "start_time": "2022-02-24T17:05:36.119Z"
   },
   {
    "duration": 13,
    "start_time": "2022-02-24T17:05:36.318Z"
   },
   {
    "duration": 9,
    "start_time": "2022-02-24T17:05:36.333Z"
   },
   {
    "duration": 8,
    "start_time": "2022-02-24T17:05:36.343Z"
   },
   {
    "duration": 17,
    "start_time": "2022-02-24T17:05:36.353Z"
   },
   {
    "duration": 340,
    "start_time": "2022-02-24T17:05:36.372Z"
   },
   {
    "duration": 4,
    "start_time": "2022-02-24T17:05:36.713Z"
   },
   {
    "duration": 298,
    "start_time": "2022-02-24T17:05:36.719Z"
   },
   {
    "duration": 12,
    "start_time": "2022-02-24T17:05:37.019Z"
   },
   {
    "duration": 619,
    "start_time": "2022-02-24T17:05:37.033Z"
   },
   {
    "duration": 14,
    "start_time": "2022-02-24T17:05:37.654Z"
   },
   {
    "duration": 13,
    "start_time": "2022-02-24T17:05:37.669Z"
   },
   {
    "duration": 14,
    "start_time": "2022-02-24T17:05:37.684Z"
   },
   {
    "duration": 40,
    "start_time": "2022-02-24T17:05:37.699Z"
   },
   {
    "duration": 14,
    "start_time": "2022-02-24T17:05:37.741Z"
   },
   {
    "duration": 13,
    "start_time": "2022-02-24T17:05:37.757Z"
   },
   {
    "duration": 13,
    "start_time": "2022-02-24T17:05:37.772Z"
   },
   {
    "duration": 47,
    "start_time": "2022-02-24T17:05:37.787Z"
   },
   {
    "duration": 13,
    "start_time": "2022-02-24T17:05:37.836Z"
   },
   {
    "duration": 12,
    "start_time": "2022-02-24T17:05:37.851Z"
   },
   {
    "duration": 13,
    "start_time": "2022-02-24T17:05:37.864Z"
   },
   {
    "duration": 14,
    "start_time": "2022-02-24T17:05:37.879Z"
   },
   {
    "duration": 45,
    "start_time": "2022-02-24T17:05:37.894Z"
   },
   {
    "duration": 13,
    "start_time": "2022-02-24T17:05:37.941Z"
   },
   {
    "duration": 20,
    "start_time": "2022-02-24T17:05:37.956Z"
   },
   {
    "duration": 6,
    "start_time": "2022-02-24T17:05:37.978Z"
   },
   {
    "duration": 9,
    "start_time": "2022-02-24T17:05:37.986Z"
   },
   {
    "duration": 34,
    "start_time": "2022-02-24T17:05:37.997Z"
   },
   {
    "duration": 7,
    "start_time": "2022-02-24T17:05:38.033Z"
   },
   {
    "duration": 14,
    "start_time": "2022-02-24T17:05:38.042Z"
   },
   {
    "duration": 10,
    "start_time": "2022-02-24T17:05:38.058Z"
   },
   {
    "duration": 5,
    "start_time": "2022-02-24T17:05:38.069Z"
   },
   {
    "duration": 12,
    "start_time": "2022-02-24T17:05:38.075Z"
   },
   {
    "duration": 554,
    "start_time": "2022-02-24T17:06:10.849Z"
   },
   {
    "duration": 417,
    "start_time": "2022-02-24T17:08:19.527Z"
   },
   {
    "duration": 319,
    "start_time": "2022-02-24T17:08:41.082Z"
   },
   {
    "duration": 333,
    "start_time": "2022-02-24T17:14:46.750Z"
   },
   {
    "duration": 26,
    "start_time": "2022-02-24T17:14:53.182Z"
   },
   {
    "duration": 15,
    "start_time": "2022-02-24T17:15:23.182Z"
   },
   {
    "duration": 393,
    "start_time": "2022-02-24T17:16:07.546Z"
   },
   {
    "duration": 1059,
    "start_time": "2022-02-24T17:16:14.586Z"
   },
   {
    "duration": 57,
    "start_time": "2022-02-24T17:16:15.647Z"
   },
   {
    "duration": 14,
    "start_time": "2022-02-24T17:16:15.706Z"
   },
   {
    "duration": 8,
    "start_time": "2022-02-24T17:16:15.722Z"
   },
   {
    "duration": 9,
    "start_time": "2022-02-24T17:16:15.731Z"
   },
   {
    "duration": 3,
    "start_time": "2022-02-24T17:16:15.742Z"
   },
   {
    "duration": 6,
    "start_time": "2022-02-24T17:16:15.746Z"
   },
   {
    "duration": 5,
    "start_time": "2022-02-24T17:16:15.754Z"
   },
   {
    "duration": 25,
    "start_time": "2022-02-24T17:16:15.761Z"
   },
   {
    "duration": 5,
    "start_time": "2022-02-24T17:16:15.788Z"
   },
   {
    "duration": 48,
    "start_time": "2022-02-24T17:16:15.794Z"
   },
   {
    "duration": 9,
    "start_time": "2022-02-24T17:16:15.844Z"
   },
   {
    "duration": 11,
    "start_time": "2022-02-24T17:16:15.855Z"
   },
   {
    "duration": 2,
    "start_time": "2022-02-24T17:16:15.868Z"
   },
   {
    "duration": 417,
    "start_time": "2022-02-24T17:16:15.872Z"
   },
   {
    "duration": 5,
    "start_time": "2022-02-24T17:16:16.291Z"
   },
   {
    "duration": 224,
    "start_time": "2022-02-24T17:16:16.298Z"
   },
   {
    "duration": 1150,
    "start_time": "2022-02-24T17:16:16.524Z"
   },
   {
    "duration": 16,
    "start_time": "2022-02-24T17:16:17.676Z"
   },
   {
    "duration": 13,
    "start_time": "2022-02-24T17:16:17.694Z"
   },
   {
    "duration": 21,
    "start_time": "2022-02-24T17:16:17.709Z"
   },
   {
    "duration": 621,
    "start_time": "2022-02-24T17:16:17.731Z"
   },
   {
    "duration": 4,
    "start_time": "2022-02-24T17:16:18.356Z"
   },
   {
    "duration": 4,
    "start_time": "2022-02-24T17:16:18.362Z"
   },
   {
    "duration": 336,
    "start_time": "2022-02-24T17:16:18.367Z"
   },
   {
    "duration": 29,
    "start_time": "2022-02-24T17:16:18.705Z"
   },
   {
    "duration": 14,
    "start_time": "2022-02-24T17:16:18.736Z"
   },
   {
    "duration": 397,
    "start_time": "2022-02-24T17:16:18.751Z"
   },
   {
    "duration": 14,
    "start_time": "2022-02-24T17:16:19.150Z"
   },
   {
    "duration": 185,
    "start_time": "2022-02-24T17:16:19.166Z"
   },
   {
    "duration": 8,
    "start_time": "2022-02-24T17:16:19.353Z"
   },
   {
    "duration": 9,
    "start_time": "2022-02-24T17:16:19.363Z"
   },
   {
    "duration": 6,
    "start_time": "2022-02-24T17:16:19.374Z"
   },
   {
    "duration": 19,
    "start_time": "2022-02-24T17:16:19.381Z"
   },
   {
    "duration": 346,
    "start_time": "2022-02-24T17:16:19.401Z"
   },
   {
    "duration": 4,
    "start_time": "2022-02-24T17:16:19.748Z"
   },
   {
    "duration": 299,
    "start_time": "2022-02-24T17:16:19.754Z"
   },
   {
    "duration": 4,
    "start_time": "2022-02-24T17:16:20.055Z"
   },
   {
    "duration": 584,
    "start_time": "2022-02-24T17:16:20.060Z"
   },
   {
    "duration": 14,
    "start_time": "2022-02-24T17:16:20.645Z"
   },
   {
    "duration": 12,
    "start_time": "2022-02-24T17:16:20.660Z"
   },
   {
    "duration": 12,
    "start_time": "2022-02-24T17:16:20.674Z"
   },
   {
    "duration": 12,
    "start_time": "2022-02-24T17:16:20.688Z"
   },
   {
    "duration": 13,
    "start_time": "2022-02-24T17:16:20.730Z"
   },
   {
    "duration": 13,
    "start_time": "2022-02-24T17:16:20.745Z"
   },
   {
    "duration": 12,
    "start_time": "2022-02-24T17:16:20.759Z"
   },
   {
    "duration": 12,
    "start_time": "2022-02-24T17:16:20.772Z"
   },
   {
    "duration": 45,
    "start_time": "2022-02-24T17:16:20.786Z"
   },
   {
    "duration": 12,
    "start_time": "2022-02-24T17:16:20.833Z"
   },
   {
    "duration": 14,
    "start_time": "2022-02-24T17:16:20.847Z"
   },
   {
    "duration": 13,
    "start_time": "2022-02-24T17:16:20.863Z"
   },
   {
    "duration": 13,
    "start_time": "2022-02-24T17:16:20.878Z"
   },
   {
    "duration": 47,
    "start_time": "2022-02-24T17:16:20.893Z"
   },
   {
    "duration": 12,
    "start_time": "2022-02-24T17:16:20.942Z"
   },
   {
    "duration": 8,
    "start_time": "2022-02-24T17:16:20.956Z"
   },
   {
    "duration": 10,
    "start_time": "2022-02-24T17:16:20.965Z"
   },
   {
    "duration": 9,
    "start_time": "2022-02-24T17:16:20.976Z"
   },
   {
    "duration": 5,
    "start_time": "2022-02-24T17:16:20.986Z"
   },
   {
    "duration": 9,
    "start_time": "2022-02-24T17:16:20.992Z"
   },
   {
    "duration": 34,
    "start_time": "2022-02-24T17:16:21.003Z"
   },
   {
    "duration": 5,
    "start_time": "2022-02-24T17:16:21.039Z"
   },
   {
    "duration": 15,
    "start_time": "2022-02-24T17:16:21.046Z"
   },
   {
    "duration": 408,
    "start_time": "2022-02-24T17:16:45.359Z"
   },
   {
    "duration": 457,
    "start_time": "2022-02-24T17:17:05.056Z"
   },
   {
    "duration": 422,
    "start_time": "2022-02-24T17:17:15.311Z"
   },
   {
    "duration": 168,
    "start_time": "2022-02-24T17:18:23.590Z"
   },
   {
    "duration": 326,
    "start_time": "2022-02-24T17:22:14.950Z"
   },
   {
    "duration": 305,
    "start_time": "2022-02-24T17:22:37.886Z"
   },
   {
    "duration": 353,
    "start_time": "2022-02-24T17:23:46.720Z"
   },
   {
    "duration": 285,
    "start_time": "2022-02-24T17:24:00.287Z"
   },
   {
    "duration": 335,
    "start_time": "2022-02-24T17:25:52.669Z"
   },
   {
    "duration": 313,
    "start_time": "2022-02-24T17:26:24.647Z"
   },
   {
    "duration": 641,
    "start_time": "2022-02-24T17:28:39.077Z"
   },
   {
    "duration": 166,
    "start_time": "2022-02-24T18:05:27.561Z"
   },
   {
    "duration": 177,
    "start_time": "2022-02-24T18:07:21.692Z"
   },
   {
    "duration": 936,
    "start_time": "2022-02-24T18:07:21.871Z"
   },
   {
    "duration": 275,
    "start_time": "2022-02-24T18:09:54.594Z"
   },
   {
    "duration": 180,
    "start_time": "2022-02-24T18:10:06.916Z"
   },
   {
    "duration": 181,
    "start_time": "2022-02-24T18:13:15.712Z"
   },
   {
    "duration": 196,
    "start_time": "2022-02-24T18:13:56.759Z"
   },
   {
    "duration": 194,
    "start_time": "2022-02-24T18:14:34.771Z"
   },
   {
    "duration": 192,
    "start_time": "2022-02-24T18:14:45.939Z"
   },
   {
    "duration": 1151,
    "start_time": "2022-02-24T18:19:34.030Z"
   },
   {
    "duration": 56,
    "start_time": "2022-02-24T18:19:35.183Z"
   },
   {
    "duration": 15,
    "start_time": "2022-02-24T18:19:35.241Z"
   },
   {
    "duration": 3,
    "start_time": "2022-02-24T18:19:35.258Z"
   },
   {
    "duration": 12,
    "start_time": "2022-02-24T18:19:35.263Z"
   },
   {
    "duration": 4,
    "start_time": "2022-02-24T18:19:35.277Z"
   },
   {
    "duration": 11,
    "start_time": "2022-02-24T18:19:35.283Z"
   },
   {
    "duration": 35,
    "start_time": "2022-02-24T18:19:35.298Z"
   },
   {
    "duration": 31,
    "start_time": "2022-02-24T18:19:35.335Z"
   },
   {
    "duration": 5,
    "start_time": "2022-02-24T18:19:35.367Z"
   },
   {
    "duration": 16,
    "start_time": "2022-02-24T18:19:35.374Z"
   },
   {
    "duration": 11,
    "start_time": "2022-02-24T18:19:35.392Z"
   },
   {
    "duration": 10,
    "start_time": "2022-02-24T18:19:35.431Z"
   },
   {
    "duration": 2,
    "start_time": "2022-02-24T18:19:35.443Z"
   },
   {
    "duration": 403,
    "start_time": "2022-02-24T18:19:35.447Z"
   },
   {
    "duration": 5,
    "start_time": "2022-02-24T18:19:35.852Z"
   },
   {
    "duration": 214,
    "start_time": "2022-02-24T18:19:35.859Z"
   },
   {
    "duration": 1159,
    "start_time": "2022-02-24T18:19:36.075Z"
   },
   {
    "duration": 16,
    "start_time": "2022-02-24T18:19:37.236Z"
   },
   {
    "duration": 16,
    "start_time": "2022-02-24T18:19:37.254Z"
   },
   {
    "duration": 3,
    "start_time": "2022-02-24T18:19:37.271Z"
   },
   {
    "duration": 669,
    "start_time": "2022-02-24T18:19:37.275Z"
   },
   {
    "duration": 5,
    "start_time": "2022-02-24T18:19:37.948Z"
   },
   {
    "duration": 4,
    "start_time": "2022-02-24T18:19:37.956Z"
   },
   {
    "duration": 354,
    "start_time": "2022-02-24T18:19:37.961Z"
   },
   {
    "duration": 27,
    "start_time": "2022-02-24T18:19:38.317Z"
   },
   {
    "duration": 13,
    "start_time": "2022-02-24T18:19:38.345Z"
   },
   {
    "duration": 419,
    "start_time": "2022-02-24T18:19:38.359Z"
   },
   {
    "duration": 24,
    "start_time": "2022-02-24T18:19:38.781Z"
   },
   {
    "duration": 276,
    "start_time": "2022-02-24T18:19:38.806Z"
   },
   {
    "duration": 10,
    "start_time": "2022-02-24T18:19:39.084Z"
   },
   {
    "duration": 9,
    "start_time": "2022-02-24T18:19:39.095Z"
   },
   {
    "duration": 28,
    "start_time": "2022-02-24T18:19:39.106Z"
   },
   {
    "duration": 17,
    "start_time": "2022-02-24T18:19:39.136Z"
   },
   {
    "duration": 345,
    "start_time": "2022-02-24T18:19:39.154Z"
   },
   {
    "duration": 5,
    "start_time": "2022-02-24T18:19:39.501Z"
   },
   {
    "duration": 363,
    "start_time": "2022-02-24T18:19:39.508Z"
   },
   {
    "duration": 4,
    "start_time": "2022-02-24T18:19:39.872Z"
   },
   {
    "duration": 244,
    "start_time": "2022-02-24T18:19:39.878Z"
   },
   {
    "duration": 633,
    "start_time": "2022-02-24T18:19:40.130Z"
   },
   {
    "duration": 194,
    "start_time": "2022-02-24T18:19:40.765Z"
   },
   {
    "duration": 15,
    "start_time": "2022-02-24T18:19:40.961Z"
   },
   {
    "duration": 12,
    "start_time": "2022-02-24T18:19:40.977Z"
   },
   {
    "duration": 16,
    "start_time": "2022-02-24T18:19:40.991Z"
   },
   {
    "duration": 34,
    "start_time": "2022-02-24T18:19:41.009Z"
   },
   {
    "duration": 114,
    "start_time": "2022-02-24T18:19:41.045Z"
   },
   {
    "duration": 13,
    "start_time": "2022-02-24T18:19:41.160Z"
   },
   {
    "duration": 12,
    "start_time": "2022-02-24T18:19:41.174Z"
   },
   {
    "duration": 12,
    "start_time": "2022-02-24T18:19:41.188Z"
   },
   {
    "duration": 40,
    "start_time": "2022-02-24T18:19:41.202Z"
   },
   {
    "duration": 13,
    "start_time": "2022-02-24T18:19:41.243Z"
   },
   {
    "duration": 13,
    "start_time": "2022-02-24T18:19:41.258Z"
   },
   {
    "duration": 15,
    "start_time": "2022-02-24T18:19:41.273Z"
   },
   {
    "duration": 50,
    "start_time": "2022-02-24T18:19:41.290Z"
   },
   {
    "duration": 14,
    "start_time": "2022-02-24T18:19:41.343Z"
   },
   {
    "duration": 14,
    "start_time": "2022-02-24T18:19:41.359Z"
   },
   {
    "duration": 7,
    "start_time": "2022-02-24T18:19:41.374Z"
   },
   {
    "duration": 9,
    "start_time": "2022-02-24T18:19:41.382Z"
   },
   {
    "duration": 38,
    "start_time": "2022-02-24T18:19:41.392Z"
   },
   {
    "duration": 6,
    "start_time": "2022-02-24T18:19:41.432Z"
   },
   {
    "duration": 11,
    "start_time": "2022-02-24T18:19:41.440Z"
   },
   {
    "duration": 9,
    "start_time": "2022-02-24T18:19:41.453Z"
   },
   {
    "duration": 7,
    "start_time": "2022-02-24T18:19:41.463Z"
   },
   {
    "duration": 12,
    "start_time": "2022-02-24T18:19:41.471Z"
   },
   {
    "duration": 1150,
    "start_time": "2022-02-24T18:28:53.616Z"
   },
   {
    "duration": 52,
    "start_time": "2022-02-24T18:28:54.768Z"
   },
   {
    "duration": 17,
    "start_time": "2022-02-24T18:28:54.822Z"
   },
   {
    "duration": 2,
    "start_time": "2022-02-24T18:28:54.841Z"
   },
   {
    "duration": 9,
    "start_time": "2022-02-24T18:28:54.845Z"
   },
   {
    "duration": 4,
    "start_time": "2022-02-24T18:28:54.856Z"
   },
   {
    "duration": 5,
    "start_time": "2022-02-24T18:28:54.862Z"
   },
   {
    "duration": 4,
    "start_time": "2022-02-24T18:28:54.870Z"
   },
   {
    "duration": 54,
    "start_time": "2022-02-24T18:28:54.876Z"
   },
   {
    "duration": 5,
    "start_time": "2022-02-24T18:28:54.932Z"
   },
   {
    "duration": 15,
    "start_time": "2022-02-24T18:28:54.939Z"
   },
   {
    "duration": 9,
    "start_time": "2022-02-24T18:28:54.956Z"
   },
   {
    "duration": 10,
    "start_time": "2022-02-24T18:28:54.967Z"
   },
   {
    "duration": 5,
    "start_time": "2022-02-24T18:28:54.979Z"
   },
   {
    "duration": 419,
    "start_time": "2022-02-24T18:28:54.985Z"
   },
   {
    "duration": 6,
    "start_time": "2022-02-24T18:28:55.405Z"
   },
   {
    "duration": 214,
    "start_time": "2022-02-24T18:28:55.413Z"
   },
   {
    "duration": 1263,
    "start_time": "2022-02-24T18:28:55.628Z"
   },
   {
    "duration": 49,
    "start_time": "2022-02-24T18:28:56.893Z"
   },
   {
    "duration": 15,
    "start_time": "2022-02-24T18:28:56.943Z"
   },
   {
    "duration": 3,
    "start_time": "2022-02-24T18:28:56.959Z"
   },
   {
    "duration": 667,
    "start_time": "2022-02-24T18:28:56.963Z"
   },
   {
    "duration": 5,
    "start_time": "2022-02-24T18:28:57.635Z"
   },
   {
    "duration": 4,
    "start_time": "2022-02-24T18:28:57.643Z"
   },
   {
    "duration": 386,
    "start_time": "2022-02-24T18:28:57.649Z"
   },
   {
    "duration": 23,
    "start_time": "2022-02-24T18:28:58.037Z"
   },
   {
    "duration": 15,
    "start_time": "2022-02-24T18:28:58.062Z"
   },
   {
    "duration": 482,
    "start_time": "2022-02-24T18:28:58.079Z"
   },
   {
    "duration": 14,
    "start_time": "2022-02-24T18:28:58.562Z"
   },
   {
    "duration": 199,
    "start_time": "2022-02-24T18:28:58.578Z"
   },
   {
    "duration": 8,
    "start_time": "2022-02-24T18:28:58.779Z"
   },
   {
    "duration": 8,
    "start_time": "2022-02-24T18:28:58.789Z"
   },
   {
    "duration": 36,
    "start_time": "2022-02-24T18:28:58.799Z"
   },
   {
    "duration": 17,
    "start_time": "2022-02-24T18:28:58.837Z"
   },
   {
    "duration": 333,
    "start_time": "2022-02-24T18:28:58.856Z"
   },
   {
    "duration": 4,
    "start_time": "2022-02-24T18:28:59.191Z"
   },
   {
    "duration": 353,
    "start_time": "2022-02-24T18:28:59.197Z"
   },
   {
    "duration": 4,
    "start_time": "2022-02-24T18:28:59.552Z"
   },
   {
    "duration": 210,
    "start_time": "2022-02-24T18:28:59.558Z"
   },
   {
    "duration": 617,
    "start_time": "2022-02-24T18:28:59.770Z"
   },
   {
    "duration": 191,
    "start_time": "2022-02-24T18:29:00.388Z"
   },
   {
    "duration": 12,
    "start_time": "2022-02-24T18:29:00.581Z"
   },
   {
    "duration": 11,
    "start_time": "2022-02-24T18:29:00.595Z"
   },
   {
    "duration": 33,
    "start_time": "2022-02-24T18:29:00.607Z"
   },
   {
    "duration": 12,
    "start_time": "2022-02-24T18:29:00.642Z"
   },
   {
    "duration": 105,
    "start_time": "2022-02-24T18:29:00.655Z"
   },
   {
    "duration": 12,
    "start_time": "2022-02-24T18:29:00.762Z"
   },
   {
    "duration": 12,
    "start_time": "2022-02-24T18:29:00.775Z"
   },
   {
    "duration": 13,
    "start_time": "2022-02-24T18:29:00.788Z"
   },
   {
    "duration": 42,
    "start_time": "2022-02-24T18:29:00.802Z"
   },
   {
    "duration": 17,
    "start_time": "2022-02-24T18:29:00.846Z"
   },
   {
    "duration": 13,
    "start_time": "2022-02-24T18:29:00.864Z"
   },
   {
    "duration": 19,
    "start_time": "2022-02-24T18:29:00.878Z"
   },
   {
    "duration": 14,
    "start_time": "2022-02-24T18:29:00.898Z"
   },
   {
    "duration": 27,
    "start_time": "2022-02-24T18:29:00.913Z"
   },
   {
    "duration": 17,
    "start_time": "2022-02-24T18:29:00.942Z"
   },
   {
    "duration": 8,
    "start_time": "2022-02-24T18:29:00.960Z"
   },
   {
    "duration": 15,
    "start_time": "2022-02-24T18:29:00.969Z"
   },
   {
    "duration": 12,
    "start_time": "2022-02-24T18:29:00.985Z"
   },
   {
    "duration": 15,
    "start_time": "2022-02-24T18:29:00.999Z"
   },
   {
    "duration": 20,
    "start_time": "2022-02-24T18:29:01.016Z"
   },
   {
    "duration": 14,
    "start_time": "2022-02-24T18:29:01.037Z"
   },
   {
    "duration": 21,
    "start_time": "2022-02-24T18:29:01.053Z"
   },
   {
    "duration": 14,
    "start_time": "2022-02-24T18:29:01.076Z"
   },
   {
    "duration": 222,
    "start_time": "2022-02-24T18:31:23.327Z"
   },
   {
    "duration": 19,
    "start_time": "2022-02-24T18:31:34.382Z"
   },
   {
    "duration": 8,
    "start_time": "2022-02-24T18:32:02.096Z"
   },
   {
    "duration": 11,
    "start_time": "2022-02-24T18:32:59.127Z"
   },
   {
    "duration": 10,
    "start_time": "2022-02-24T18:33:43.121Z"
   },
   {
    "duration": 12,
    "start_time": "2022-02-24T18:34:00.704Z"
   },
   {
    "duration": 12,
    "start_time": "2022-02-24T18:34:12.484Z"
   },
   {
    "duration": 8,
    "start_time": "2022-02-24T18:34:16.035Z"
   },
   {
    "duration": 7,
    "start_time": "2022-02-24T18:37:15.210Z"
   },
   {
    "duration": 10,
    "start_time": "2022-02-24T18:37:45.269Z"
   },
   {
    "duration": 8,
    "start_time": "2022-02-24T18:38:09.555Z"
   },
   {
    "duration": 11,
    "start_time": "2022-02-24T18:38:28.345Z"
   },
   {
    "duration": 1089,
    "start_time": "2022-02-24T18:39:15.267Z"
   },
   {
    "duration": 56,
    "start_time": "2022-02-24T18:39:16.358Z"
   },
   {
    "duration": 22,
    "start_time": "2022-02-24T18:39:16.416Z"
   },
   {
    "duration": 3,
    "start_time": "2022-02-24T18:39:16.440Z"
   },
   {
    "duration": 12,
    "start_time": "2022-02-24T18:39:16.445Z"
   },
   {
    "duration": 3,
    "start_time": "2022-02-24T18:39:16.459Z"
   },
   {
    "duration": 8,
    "start_time": "2022-02-24T18:39:16.464Z"
   },
   {
    "duration": 5,
    "start_time": "2022-02-24T18:39:16.474Z"
   },
   {
    "duration": 54,
    "start_time": "2022-02-24T18:39:16.481Z"
   },
   {
    "duration": 5,
    "start_time": "2022-02-24T18:39:16.536Z"
   },
   {
    "duration": 23,
    "start_time": "2022-02-24T18:39:16.543Z"
   },
   {
    "duration": 9,
    "start_time": "2022-02-24T18:39:16.568Z"
   },
   {
    "duration": 9,
    "start_time": "2022-02-24T18:39:16.579Z"
   },
   {
    "duration": 4,
    "start_time": "2022-02-24T18:39:16.590Z"
   },
   {
    "duration": 417,
    "start_time": "2022-02-24T18:39:16.595Z"
   },
   {
    "duration": 5,
    "start_time": "2022-02-24T18:39:17.014Z"
   },
   {
    "duration": 224,
    "start_time": "2022-02-24T18:39:17.020Z"
   },
   {
    "duration": 1193,
    "start_time": "2022-02-24T18:39:17.246Z"
   },
   {
    "duration": 17,
    "start_time": "2022-02-24T18:39:18.441Z"
   },
   {
    "duration": 16,
    "start_time": "2022-02-24T18:39:18.460Z"
   },
   {
    "duration": 2,
    "start_time": "2022-02-24T18:39:18.479Z"
   },
   {
    "duration": 697,
    "start_time": "2022-02-24T18:39:18.483Z"
   },
   {
    "duration": 4,
    "start_time": "2022-02-24T18:39:19.184Z"
   },
   {
    "duration": 7,
    "start_time": "2022-02-24T18:39:19.191Z"
   },
   {
    "duration": 347,
    "start_time": "2022-02-24T18:39:19.200Z"
   },
   {
    "duration": 16,
    "start_time": "2022-02-24T18:39:19.549Z"
   },
   {
    "duration": 15,
    "start_time": "2022-02-24T18:39:19.566Z"
   },
   {
    "duration": 412,
    "start_time": "2022-02-24T18:39:19.582Z"
   },
   {
    "duration": 13,
    "start_time": "2022-02-24T18:39:19.996Z"
   },
   {
    "duration": 191,
    "start_time": "2022-02-24T18:39:20.011Z"
   },
   {
    "duration": 8,
    "start_time": "2022-02-24T18:39:20.204Z"
   },
   {
    "duration": 18,
    "start_time": "2022-02-24T18:39:20.214Z"
   },
   {
    "duration": 13,
    "start_time": "2022-02-24T18:39:20.234Z"
   },
   {
    "duration": 20,
    "start_time": "2022-02-24T18:39:20.248Z"
   },
   {
    "duration": 315,
    "start_time": "2022-02-24T18:39:20.270Z"
   },
   {
    "duration": 5,
    "start_time": "2022-02-24T18:39:20.586Z"
   },
   {
    "duration": 332,
    "start_time": "2022-02-24T18:39:20.593Z"
   },
   {
    "duration": 4,
    "start_time": "2022-02-24T18:39:20.930Z"
   },
   {
    "duration": 211,
    "start_time": "2022-02-24T18:39:20.936Z"
   },
   {
    "duration": 608,
    "start_time": "2022-02-24T18:39:21.149Z"
   },
   {
    "duration": 186,
    "start_time": "2022-02-24T18:39:21.758Z"
   },
   {
    "duration": 12,
    "start_time": "2022-02-24T18:39:21.946Z"
   },
   {
    "duration": 11,
    "start_time": "2022-02-24T18:39:21.960Z"
   },
   {
    "duration": 17,
    "start_time": "2022-02-24T18:39:21.972Z"
   },
   {
    "duration": 12,
    "start_time": "2022-02-24T18:39:21.990Z"
   },
   {
    "duration": 114,
    "start_time": "2022-02-24T18:39:22.004Z"
   },
   {
    "duration": 13,
    "start_time": "2022-02-24T18:39:22.129Z"
   },
   {
    "duration": 12,
    "start_time": "2022-02-24T18:39:22.144Z"
   },
   {
    "duration": 12,
    "start_time": "2022-02-24T18:39:22.157Z"
   },
   {
    "duration": 12,
    "start_time": "2022-02-24T18:39:22.171Z"
   },
   {
    "duration": 11,
    "start_time": "2022-02-24T18:39:22.185Z"
   },
   {
    "duration": 13,
    "start_time": "2022-02-24T18:39:22.230Z"
   },
   {
    "duration": 17,
    "start_time": "2022-02-24T18:39:22.245Z"
   },
   {
    "duration": 15,
    "start_time": "2022-02-24T18:39:22.263Z"
   },
   {
    "duration": 12,
    "start_time": "2022-02-24T18:39:22.280Z"
   },
   {
    "duration": 13,
    "start_time": "2022-02-24T18:39:22.294Z"
   },
   {
    "duration": 25,
    "start_time": "2022-02-24T18:39:22.308Z"
   },
   {
    "duration": 12,
    "start_time": "2022-02-24T18:39:22.335Z"
   },
   {
    "duration": 9,
    "start_time": "2022-02-24T18:39:22.349Z"
   },
   {
    "duration": 8,
    "start_time": "2022-02-24T18:39:22.360Z"
   },
   {
    "duration": 13,
    "start_time": "2022-02-24T18:39:22.370Z"
   },
   {
    "duration": 7,
    "start_time": "2022-02-24T18:39:22.384Z"
   },
   {
    "duration": 6,
    "start_time": "2022-02-24T18:39:22.392Z"
   },
   {
    "duration": 35,
    "start_time": "2022-02-24T18:39:22.400Z"
   },
   {
    "duration": 4,
    "start_time": "2022-02-24T18:39:22.437Z"
   },
   {
    "duration": 15,
    "start_time": "2022-02-24T18:39:22.443Z"
   },
   {
    "duration": 9,
    "start_time": "2022-02-24T18:42:55.559Z"
   },
   {
    "duration": 9,
    "start_time": "2022-02-24T18:42:59.667Z"
   },
   {
    "duration": 1092,
    "start_time": "2022-02-24T18:44:04.273Z"
   },
   {
    "duration": 53,
    "start_time": "2022-02-24T18:44:05.367Z"
   },
   {
    "duration": 19,
    "start_time": "2022-02-24T18:44:05.422Z"
   },
   {
    "duration": 3,
    "start_time": "2022-02-24T18:44:05.443Z"
   },
   {
    "duration": 11,
    "start_time": "2022-02-24T18:44:05.448Z"
   },
   {
    "duration": 4,
    "start_time": "2022-02-24T18:44:05.461Z"
   },
   {
    "duration": 6,
    "start_time": "2022-02-24T18:44:05.466Z"
   },
   {
    "duration": 4,
    "start_time": "2022-02-24T18:44:05.474Z"
   },
   {
    "duration": 55,
    "start_time": "2022-02-24T18:44:05.480Z"
   },
   {
    "duration": 4,
    "start_time": "2022-02-24T18:44:05.537Z"
   },
   {
    "duration": 16,
    "start_time": "2022-02-24T18:44:05.543Z"
   },
   {
    "duration": 9,
    "start_time": "2022-02-24T18:44:05.561Z"
   },
   {
    "duration": 9,
    "start_time": "2022-02-24T18:44:05.572Z"
   },
   {
    "duration": 2,
    "start_time": "2022-02-24T18:44:05.583Z"
   },
   {
    "duration": 415,
    "start_time": "2022-02-24T18:44:05.587Z"
   },
   {
    "duration": 6,
    "start_time": "2022-02-24T18:44:06.003Z"
   },
   {
    "duration": 228,
    "start_time": "2022-02-24T18:44:06.011Z"
   },
   {
    "duration": 1154,
    "start_time": "2022-02-24T18:44:06.241Z"
   },
   {
    "duration": 14,
    "start_time": "2022-02-24T18:44:07.397Z"
   },
   {
    "duration": 29,
    "start_time": "2022-02-24T18:44:07.413Z"
   },
   {
    "duration": 3,
    "start_time": "2022-02-24T18:44:07.443Z"
   },
   {
    "duration": 641,
    "start_time": "2022-02-24T18:44:07.447Z"
   },
   {
    "duration": 4,
    "start_time": "2022-02-24T18:44:08.093Z"
   },
   {
    "duration": 7,
    "start_time": "2022-02-24T18:44:08.099Z"
   },
   {
    "duration": 348,
    "start_time": "2022-02-24T18:44:08.108Z"
   },
   {
    "duration": 22,
    "start_time": "2022-02-24T18:44:08.458Z"
   },
   {
    "duration": 14,
    "start_time": "2022-02-24T18:44:08.481Z"
   },
   {
    "duration": 429,
    "start_time": "2022-02-24T18:44:08.497Z"
   },
   {
    "duration": 14,
    "start_time": "2022-02-24T18:44:08.931Z"
   },
   {
    "duration": 187,
    "start_time": "2022-02-24T18:44:08.946Z"
   },
   {
    "duration": 8,
    "start_time": "2022-02-24T18:44:09.135Z"
   },
   {
    "duration": 8,
    "start_time": "2022-02-24T18:44:09.145Z"
   },
   {
    "duration": 9,
    "start_time": "2022-02-24T18:44:09.154Z"
   },
   {
    "duration": 17,
    "start_time": "2022-02-24T18:44:09.165Z"
   },
   {
    "duration": 378,
    "start_time": "2022-02-24T18:44:09.184Z"
   },
   {
    "duration": 5,
    "start_time": "2022-02-24T18:44:09.564Z"
   },
   {
    "duration": 296,
    "start_time": "2022-02-24T18:44:09.571Z"
   },
   {
    "duration": 5,
    "start_time": "2022-02-24T18:44:09.869Z"
   },
   {
    "duration": 221,
    "start_time": "2022-02-24T18:44:09.876Z"
   },
   {
    "duration": 604,
    "start_time": "2022-02-24T18:44:10.099Z"
   },
   {
    "duration": 192,
    "start_time": "2022-02-24T18:44:10.704Z"
   },
   {
    "duration": 14,
    "start_time": "2022-02-24T18:44:10.897Z"
   },
   {
    "duration": 24,
    "start_time": "2022-02-24T18:44:10.913Z"
   },
   {
    "duration": 14,
    "start_time": "2022-02-24T18:44:10.939Z"
   },
   {
    "duration": 12,
    "start_time": "2022-02-24T18:44:10.955Z"
   },
   {
    "duration": 120,
    "start_time": "2022-02-24T18:44:10.968Z"
   },
   {
    "duration": 12,
    "start_time": "2022-02-24T18:44:11.090Z"
   },
   {
    "duration": 29,
    "start_time": "2022-02-24T18:44:11.104Z"
   },
   {
    "duration": 14,
    "start_time": "2022-02-24T18:44:11.135Z"
   },
   {
    "duration": 13,
    "start_time": "2022-02-24T18:44:11.151Z"
   },
   {
    "duration": 13,
    "start_time": "2022-02-24T18:44:11.165Z"
   },
   {
    "duration": 13,
    "start_time": "2022-02-24T18:44:11.180Z"
   },
   {
    "duration": 43,
    "start_time": "2022-02-24T18:44:11.195Z"
   },
   {
    "duration": 11,
    "start_time": "2022-02-24T18:44:11.240Z"
   },
   {
    "duration": 13,
    "start_time": "2022-02-24T18:44:11.252Z"
   },
   {
    "duration": 11,
    "start_time": "2022-02-24T18:44:11.267Z"
   },
   {
    "duration": 5,
    "start_time": "2022-02-24T18:44:11.280Z"
   },
   {
    "duration": 9,
    "start_time": "2022-02-24T18:44:11.286Z"
   },
   {
    "duration": 44,
    "start_time": "2022-02-24T18:44:11.296Z"
   },
   {
    "duration": 5,
    "start_time": "2022-02-24T18:44:11.341Z"
   },
   {
    "duration": 10,
    "start_time": "2022-02-24T18:44:11.348Z"
   },
   {
    "duration": 6,
    "start_time": "2022-02-24T18:44:11.360Z"
   },
   {
    "duration": 6,
    "start_time": "2022-02-24T18:44:11.368Z"
   },
   {
    "duration": 13,
    "start_time": "2022-02-24T18:44:11.376Z"
   },
   {
    "duration": 39,
    "start_time": "2022-02-24T18:44:11.391Z"
   },
   {
    "duration": 9,
    "start_time": "2022-02-24T18:44:11.432Z"
   },
   {
    "duration": 9,
    "start_time": "2022-02-24T18:45:12.532Z"
   },
   {
    "duration": 241,
    "start_time": "2022-02-24T18:45:20.504Z"
   },
   {
    "duration": 9,
    "start_time": "2022-02-24T18:45:26.308Z"
   },
   {
    "duration": 9,
    "start_time": "2022-02-24T18:45:44.102Z"
   },
   {
    "duration": 8,
    "start_time": "2022-02-24T18:46:12.765Z"
   },
   {
    "duration": 1056,
    "start_time": "2022-02-24T18:46:21.899Z"
   },
   {
    "duration": 53,
    "start_time": "2022-02-24T18:46:22.957Z"
   },
   {
    "duration": 23,
    "start_time": "2022-02-24T18:46:23.012Z"
   },
   {
    "duration": 2,
    "start_time": "2022-02-24T18:46:23.037Z"
   },
   {
    "duration": 11,
    "start_time": "2022-02-24T18:46:23.041Z"
   },
   {
    "duration": 3,
    "start_time": "2022-02-24T18:46:23.054Z"
   },
   {
    "duration": 7,
    "start_time": "2022-02-24T18:46:23.059Z"
   },
   {
    "duration": 4,
    "start_time": "2022-02-24T18:46:23.069Z"
   },
   {
    "duration": 26,
    "start_time": "2022-02-24T18:46:23.075Z"
   },
   {
    "duration": 29,
    "start_time": "2022-02-24T18:46:23.103Z"
   },
   {
    "duration": 20,
    "start_time": "2022-02-24T18:46:23.134Z"
   },
   {
    "duration": 11,
    "start_time": "2022-02-24T18:46:23.156Z"
   },
   {
    "duration": 11,
    "start_time": "2022-02-24T18:46:23.169Z"
   },
   {
    "duration": 2,
    "start_time": "2022-02-24T18:46:23.182Z"
   },
   {
    "duration": 425,
    "start_time": "2022-02-24T18:46:23.187Z"
   },
   {
    "duration": 6,
    "start_time": "2022-02-24T18:46:23.614Z"
   },
   {
    "duration": 228,
    "start_time": "2022-02-24T18:46:23.629Z"
   },
   {
    "duration": 1173,
    "start_time": "2022-02-24T18:46:23.858Z"
   },
   {
    "duration": 15,
    "start_time": "2022-02-24T18:46:25.033Z"
   },
   {
    "duration": 15,
    "start_time": "2022-02-24T18:46:25.050Z"
   },
   {
    "duration": 3,
    "start_time": "2022-02-24T18:46:25.067Z"
   },
   {
    "duration": 646,
    "start_time": "2022-02-24T18:46:25.072Z"
   },
   {
    "duration": 4,
    "start_time": "2022-02-24T18:46:25.731Z"
   },
   {
    "duration": 8,
    "start_time": "2022-02-24T18:46:25.738Z"
   },
   {
    "duration": 342,
    "start_time": "2022-02-24T18:46:25.747Z"
   },
   {
    "duration": 16,
    "start_time": "2022-02-24T18:46:26.091Z"
   },
   {
    "duration": 26,
    "start_time": "2022-02-24T18:46:26.108Z"
   },
   {
    "duration": 399,
    "start_time": "2022-02-24T18:46:26.136Z"
   },
   {
    "duration": 14,
    "start_time": "2022-02-24T18:46:26.536Z"
   },
   {
    "duration": 184,
    "start_time": "2022-02-24T18:46:26.552Z"
   },
   {
    "duration": 8,
    "start_time": "2022-02-24T18:46:26.738Z"
   },
   {
    "duration": 8,
    "start_time": "2022-02-24T18:46:26.747Z"
   },
   {
    "duration": 13,
    "start_time": "2022-02-24T18:46:26.757Z"
   },
   {
    "duration": 19,
    "start_time": "2022-02-24T18:46:26.772Z"
   },
   {
    "duration": 379,
    "start_time": "2022-02-24T18:46:26.793Z"
   },
   {
    "duration": 4,
    "start_time": "2022-02-24T18:46:27.174Z"
   },
   {
    "duration": 311,
    "start_time": "2022-02-24T18:46:27.179Z"
   },
   {
    "duration": 4,
    "start_time": "2022-02-24T18:46:27.492Z"
   },
   {
    "duration": 215,
    "start_time": "2022-02-24T18:46:27.497Z"
   },
   {
    "duration": 606,
    "start_time": "2022-02-24T18:46:27.714Z"
   },
   {
    "duration": 182,
    "start_time": "2022-02-24T18:46:28.321Z"
   },
   {
    "duration": 27,
    "start_time": "2022-02-24T18:46:28.505Z"
   },
   {
    "duration": 13,
    "start_time": "2022-02-24T18:46:28.534Z"
   },
   {
    "duration": 13,
    "start_time": "2022-02-24T18:46:28.549Z"
   },
   {
    "duration": 13,
    "start_time": "2022-02-24T18:46:28.564Z"
   },
   {
    "duration": 121,
    "start_time": "2022-02-24T18:46:28.579Z"
   },
   {
    "duration": 28,
    "start_time": "2022-02-24T18:46:28.702Z"
   },
   {
    "duration": 14,
    "start_time": "2022-02-24T18:46:28.731Z"
   },
   {
    "duration": 14,
    "start_time": "2022-02-24T18:46:28.747Z"
   },
   {
    "duration": 14,
    "start_time": "2022-02-24T18:46:28.763Z"
   },
   {
    "duration": 14,
    "start_time": "2022-02-24T18:46:28.779Z"
   },
   {
    "duration": 48,
    "start_time": "2022-02-24T18:46:28.794Z"
   },
   {
    "duration": 13,
    "start_time": "2022-02-24T18:46:28.844Z"
   },
   {
    "duration": 14,
    "start_time": "2022-02-24T18:46:28.859Z"
   },
   {
    "duration": 15,
    "start_time": "2022-02-24T18:46:28.875Z"
   },
   {
    "duration": 48,
    "start_time": "2022-02-24T18:46:28.892Z"
   },
   {
    "duration": 6,
    "start_time": "2022-02-24T18:46:28.942Z"
   },
   {
    "duration": 9,
    "start_time": "2022-02-24T18:46:28.949Z"
   },
   {
    "duration": 7,
    "start_time": "2022-02-24T18:46:28.960Z"
   },
   {
    "duration": 5,
    "start_time": "2022-02-24T18:46:28.969Z"
   },
   {
    "duration": 9,
    "start_time": "2022-02-24T18:46:28.975Z"
   },
   {
    "duration": 47,
    "start_time": "2022-02-24T18:46:28.986Z"
   },
   {
    "duration": 5,
    "start_time": "2022-02-24T18:46:29.035Z"
   },
   {
    "duration": 14,
    "start_time": "2022-02-24T18:46:29.042Z"
   },
   {
    "duration": 1156,
    "start_time": "2022-02-24T18:54:25.947Z"
   },
   {
    "duration": 55,
    "start_time": "2022-02-24T18:54:27.106Z"
   },
   {
    "duration": 18,
    "start_time": "2022-02-24T18:54:27.164Z"
   },
   {
    "duration": 3,
    "start_time": "2022-02-24T18:54:27.185Z"
   },
   {
    "duration": 11,
    "start_time": "2022-02-24T18:54:27.190Z"
   },
   {
    "duration": 27,
    "start_time": "2022-02-24T18:54:27.203Z"
   },
   {
    "duration": 6,
    "start_time": "2022-02-24T18:54:27.232Z"
   },
   {
    "duration": 11,
    "start_time": "2022-02-24T18:54:27.240Z"
   },
   {
    "duration": 27,
    "start_time": "2022-02-24T18:54:27.253Z"
   },
   {
    "duration": 5,
    "start_time": "2022-02-24T18:54:27.282Z"
   },
   {
    "duration": 18,
    "start_time": "2022-02-24T18:54:27.288Z"
   },
   {
    "duration": 31,
    "start_time": "2022-02-24T18:54:27.307Z"
   },
   {
    "duration": 10,
    "start_time": "2022-02-24T18:54:27.339Z"
   },
   {
    "duration": 5,
    "start_time": "2022-02-24T18:54:27.350Z"
   },
   {
    "duration": 402,
    "start_time": "2022-02-24T18:54:27.357Z"
   },
   {
    "duration": 5,
    "start_time": "2022-02-24T18:54:27.761Z"
   },
   {
    "duration": 225,
    "start_time": "2022-02-24T18:54:27.768Z"
   },
   {
    "duration": 1158,
    "start_time": "2022-02-24T18:54:27.994Z"
   },
   {
    "duration": 13,
    "start_time": "2022-02-24T18:54:29.154Z"
   },
   {
    "duration": 14,
    "start_time": "2022-02-24T18:54:29.169Z"
   },
   {
    "duration": 2,
    "start_time": "2022-02-24T18:54:29.185Z"
   },
   {
    "duration": 648,
    "start_time": "2022-02-24T18:54:29.189Z"
   },
   {
    "duration": 4,
    "start_time": "2022-02-24T18:54:29.841Z"
   },
   {
    "duration": 5,
    "start_time": "2022-02-24T18:54:29.848Z"
   },
   {
    "duration": 364,
    "start_time": "2022-02-24T18:54:29.854Z"
   },
   {
    "duration": 22,
    "start_time": "2022-02-24T18:54:30.220Z"
   },
   {
    "duration": 13,
    "start_time": "2022-02-24T18:54:30.243Z"
   },
   {
    "duration": 413,
    "start_time": "2022-02-24T18:54:30.258Z"
   },
   {
    "duration": 14,
    "start_time": "2022-02-24T18:54:30.673Z"
   },
   {
    "duration": 188,
    "start_time": "2022-02-24T18:54:30.688Z"
   },
   {
    "duration": 7,
    "start_time": "2022-02-24T18:54:30.878Z"
   },
   {
    "duration": 16,
    "start_time": "2022-02-24T18:54:30.887Z"
   },
   {
    "duration": 9,
    "start_time": "2022-02-24T18:54:30.905Z"
   },
   {
    "duration": 28,
    "start_time": "2022-02-24T18:54:30.916Z"
   },
   {
    "duration": 324,
    "start_time": "2022-02-24T18:54:30.946Z"
   },
   {
    "duration": 5,
    "start_time": "2022-02-24T18:54:31.272Z"
   },
   {
    "duration": 296,
    "start_time": "2022-02-24T18:54:31.279Z"
   },
   {
    "duration": 4,
    "start_time": "2022-02-24T18:54:31.578Z"
   },
   {
    "duration": 203,
    "start_time": "2022-02-24T18:54:31.584Z"
   },
   {
    "duration": 602,
    "start_time": "2022-02-24T18:54:31.789Z"
   },
   {
    "duration": 185,
    "start_time": "2022-02-24T18:54:32.393Z"
   },
   {
    "duration": 13,
    "start_time": "2022-02-24T18:54:32.579Z"
   },
   {
    "duration": 11,
    "start_time": "2022-02-24T18:54:32.594Z"
   },
   {
    "duration": 32,
    "start_time": "2022-02-24T18:54:32.606Z"
   },
   {
    "duration": 12,
    "start_time": "2022-02-24T18:54:32.640Z"
   },
   {
    "duration": 106,
    "start_time": "2022-02-24T18:54:32.653Z"
   },
   {
    "duration": 11,
    "start_time": "2022-02-24T18:54:32.761Z"
   },
   {
    "duration": 11,
    "start_time": "2022-02-24T18:54:32.774Z"
   },
   {
    "duration": 11,
    "start_time": "2022-02-24T18:54:32.787Z"
   },
   {
    "duration": 38,
    "start_time": "2022-02-24T18:54:32.800Z"
   },
   {
    "duration": 11,
    "start_time": "2022-02-24T18:54:32.840Z"
   },
   {
    "duration": 12,
    "start_time": "2022-02-24T18:54:32.853Z"
   },
   {
    "duration": 17,
    "start_time": "2022-02-24T18:54:32.866Z"
   },
   {
    "duration": 12,
    "start_time": "2022-02-24T18:54:32.884Z"
   },
   {
    "duration": 44,
    "start_time": "2022-02-24T18:54:32.897Z"
   },
   {
    "duration": 12,
    "start_time": "2022-02-24T18:54:32.943Z"
   },
   {
    "duration": 6,
    "start_time": "2022-02-24T18:54:32.957Z"
   },
   {
    "duration": 14,
    "start_time": "2022-02-24T18:54:32.964Z"
   },
   {
    "duration": 8,
    "start_time": "2022-02-24T18:54:32.979Z"
   },
   {
    "duration": 5,
    "start_time": "2022-02-24T18:54:32.989Z"
   },
   {
    "duration": 34,
    "start_time": "2022-02-24T18:54:32.996Z"
   },
   {
    "duration": 9,
    "start_time": "2022-02-24T18:54:33.032Z"
   },
   {
    "duration": 5,
    "start_time": "2022-02-24T18:54:33.042Z"
   },
   {
    "duration": 1076,
    "start_time": "2022-03-06T16:35:56.155Z"
   },
   {
    "duration": 54,
    "start_time": "2022-03-06T16:35:57.233Z"
   },
   {
    "duration": 14,
    "start_time": "2022-03-06T16:35:57.289Z"
   },
   {
    "duration": 3,
    "start_time": "2022-03-06T16:35:57.305Z"
   },
   {
    "duration": 11,
    "start_time": "2022-03-06T16:35:57.309Z"
   },
   {
    "duration": 3,
    "start_time": "2022-03-06T16:35:57.333Z"
   },
   {
    "duration": 9,
    "start_time": "2022-03-06T16:35:57.338Z"
   },
   {
    "duration": 5,
    "start_time": "2022-03-06T16:35:57.349Z"
   },
   {
    "duration": 26,
    "start_time": "2022-03-06T16:35:57.357Z"
   },
   {
    "duration": 5,
    "start_time": "2022-03-06T16:35:57.384Z"
   },
   {
    "duration": 17,
    "start_time": "2022-03-06T16:35:57.390Z"
   },
   {
    "duration": 32,
    "start_time": "2022-03-06T16:35:57.409Z"
   },
   {
    "duration": 9,
    "start_time": "2022-03-06T16:35:57.442Z"
   },
   {
    "duration": 2,
    "start_time": "2022-03-06T16:35:57.453Z"
   },
   {
    "duration": 378,
    "start_time": "2022-03-06T16:35:57.456Z"
   },
   {
    "duration": 5,
    "start_time": "2022-03-06T16:35:57.835Z"
   },
   {
    "duration": 206,
    "start_time": "2022-03-06T16:35:57.842Z"
   },
   {
    "duration": 1114,
    "start_time": "2022-03-06T16:35:58.050Z"
   },
   {
    "duration": 13,
    "start_time": "2022-03-06T16:35:59.165Z"
   },
   {
    "duration": 13,
    "start_time": "2022-03-06T16:35:59.180Z"
   },
   {
    "duration": 2,
    "start_time": "2022-03-06T16:35:59.195Z"
   },
   {
    "duration": 624,
    "start_time": "2022-03-06T16:35:59.198Z"
   },
   {
    "duration": 11,
    "start_time": "2022-03-06T16:35:59.823Z"
   },
   {
    "duration": 5,
    "start_time": "2022-03-06T16:35:59.835Z"
   },
   {
    "duration": 331,
    "start_time": "2022-03-06T16:35:59.842Z"
   },
   {
    "duration": 15,
    "start_time": "2022-03-06T16:36:00.175Z"
   },
   {
    "duration": 13,
    "start_time": "2022-03-06T16:36:00.194Z"
   },
   {
    "duration": 414,
    "start_time": "2022-03-06T16:36:00.209Z"
   },
   {
    "duration": 13,
    "start_time": "2022-03-06T16:36:00.632Z"
   },
   {
    "duration": 171,
    "start_time": "2022-03-06T16:36:00.646Z"
   },
   {
    "duration": 14,
    "start_time": "2022-03-06T16:36:00.818Z"
   },
   {
    "duration": 7,
    "start_time": "2022-03-06T16:36:00.834Z"
   },
   {
    "duration": 17,
    "start_time": "2022-03-06T16:36:00.842Z"
   },
   {
    "duration": 26,
    "start_time": "2022-03-06T16:36:00.861Z"
   },
   {
    "duration": 338,
    "start_time": "2022-03-06T16:36:00.888Z"
   },
   {
    "duration": 7,
    "start_time": "2022-03-06T16:36:01.228Z"
   },
   {
    "duration": 330,
    "start_time": "2022-03-06T16:36:01.236Z"
   },
   {
    "duration": 4,
    "start_time": "2022-03-06T16:36:01.567Z"
   },
   {
    "duration": 208,
    "start_time": "2022-03-06T16:36:01.572Z"
   },
   {
    "duration": 606,
    "start_time": "2022-03-06T16:36:01.781Z"
   },
   {
    "duration": 186,
    "start_time": "2022-03-06T16:36:02.389Z"
   },
   {
    "duration": 13,
    "start_time": "2022-03-06T16:36:02.577Z"
   },
   {
    "duration": 13,
    "start_time": "2022-03-06T16:36:02.591Z"
   },
   {
    "duration": 35,
    "start_time": "2022-03-06T16:36:02.605Z"
   },
   {
    "duration": 13,
    "start_time": "2022-03-06T16:36:02.642Z"
   },
   {
    "duration": 116,
    "start_time": "2022-03-06T16:36:02.657Z"
   },
   {
    "duration": 14,
    "start_time": "2022-03-06T16:36:02.775Z"
   },
   {
    "duration": 13,
    "start_time": "2022-03-06T16:36:02.791Z"
   },
   {
    "duration": 38,
    "start_time": "2022-03-06T16:36:02.805Z"
   },
   {
    "duration": 16,
    "start_time": "2022-03-06T16:36:02.845Z"
   },
   {
    "duration": 19,
    "start_time": "2022-03-06T16:36:02.862Z"
   },
   {
    "duration": 22,
    "start_time": "2022-03-06T16:36:02.883Z"
   },
   {
    "duration": 13,
    "start_time": "2022-03-06T16:36:02.907Z"
   },
   {
    "duration": 26,
    "start_time": "2022-03-06T16:36:02.921Z"
   },
   {
    "duration": 12,
    "start_time": "2022-03-06T16:36:02.949Z"
   },
   {
    "duration": 27,
    "start_time": "2022-03-06T16:36:02.963Z"
   },
   {
    "duration": 6,
    "start_time": "2022-03-06T16:36:02.991Z"
   },
   {
    "duration": 29,
    "start_time": "2022-03-06T16:36:02.999Z"
   },
   {
    "duration": 7,
    "start_time": "2022-03-06T16:36:03.030Z"
   },
   {
    "duration": 5,
    "start_time": "2022-03-06T16:36:03.038Z"
   },
   {
    "duration": 8,
    "start_time": "2022-03-06T16:36:03.045Z"
   },
   {
    "duration": 8,
    "start_time": "2022-03-06T16:36:03.054Z"
   },
   {
    "duration": 5,
    "start_time": "2022-03-06T16:36:03.064Z"
   },
   {
    "duration": 52,
    "start_time": "2022-03-06T16:41:18.317Z"
   },
   {
    "duration": 1418,
    "start_time": "2022-03-06T17:38:41.789Z"
   },
   {
    "duration": 79,
    "start_time": "2022-03-06T17:38:43.210Z"
   },
   {
    "duration": 24,
    "start_time": "2022-03-06T17:38:43.292Z"
   },
   {
    "duration": 3,
    "start_time": "2022-03-06T17:38:43.334Z"
   },
   {
    "duration": 15,
    "start_time": "2022-03-06T17:38:43.340Z"
   },
   {
    "duration": 5,
    "start_time": "2022-03-06T17:38:43.358Z"
   },
   {
    "duration": 9,
    "start_time": "2022-03-06T17:38:43.365Z"
   },
   {
    "duration": 6,
    "start_time": "2022-03-06T17:38:43.378Z"
   },
   {
    "duration": 75,
    "start_time": "2022-03-06T17:38:43.388Z"
   },
   {
    "duration": 7,
    "start_time": "2022-03-06T17:38:43.465Z"
   },
   {
    "duration": 24,
    "start_time": "2022-03-06T17:38:43.474Z"
   },
   {
    "duration": 42,
    "start_time": "2022-03-06T17:38:43.501Z"
   },
   {
    "duration": 15,
    "start_time": "2022-03-06T17:38:43.546Z"
   },
   {
    "duration": 3,
    "start_time": "2022-03-06T17:38:43.564Z"
   },
   {
    "duration": 815,
    "start_time": "2022-03-06T17:38:43.569Z"
   },
   {
    "duration": 7,
    "start_time": "2022-03-06T17:38:44.386Z"
   },
   {
    "duration": 357,
    "start_time": "2022-03-06T17:38:44.395Z"
   },
   {
    "duration": 1983,
    "start_time": "2022-03-06T17:38:44.754Z"
   },
   {
    "duration": 22,
    "start_time": "2022-03-06T17:38:46.739Z"
   },
   {
    "duration": 21,
    "start_time": "2022-03-06T17:38:46.763Z"
   },
   {
    "duration": 3,
    "start_time": "2022-03-06T17:38:46.786Z"
   },
   {
    "duration": 1034,
    "start_time": "2022-03-06T17:38:46.791Z"
   },
   {
    "duration": 5,
    "start_time": "2022-03-06T17:38:47.831Z"
   },
   {
    "duration": 5,
    "start_time": "2022-03-06T17:38:47.839Z"
   },
   {
    "duration": 566,
    "start_time": "2022-03-06T17:38:47.846Z"
   },
   {
    "duration": 31,
    "start_time": "2022-03-06T17:38:48.415Z"
   },
   {
    "duration": 20,
    "start_time": "2022-03-06T17:38:48.449Z"
   },
   {
    "duration": 667,
    "start_time": "2022-03-06T17:38:48.472Z"
   },
   {
    "duration": 21,
    "start_time": "2022-03-06T17:38:49.141Z"
   },
   {
    "duration": 298,
    "start_time": "2022-03-06T17:38:49.164Z"
   },
   {
    "duration": 10,
    "start_time": "2022-03-06T17:38:49.465Z"
   },
   {
    "duration": 9,
    "start_time": "2022-03-06T17:38:49.478Z"
   },
   {
    "duration": 10,
    "start_time": "2022-03-06T17:38:49.489Z"
   },
   {
    "duration": 26,
    "start_time": "2022-03-06T17:38:49.534Z"
   },
   {
    "duration": 463,
    "start_time": "2022-03-06T17:38:49.562Z"
   },
   {
    "duration": 9,
    "start_time": "2022-03-06T17:38:50.027Z"
   },
   {
    "duration": 454,
    "start_time": "2022-03-06T17:38:50.038Z"
   },
   {
    "duration": 6,
    "start_time": "2022-03-06T17:38:50.494Z"
   },
   {
    "duration": 359,
    "start_time": "2022-03-06T17:38:50.502Z"
   },
   {
    "duration": 1025,
    "start_time": "2022-03-06T17:38:50.863Z"
   },
   {
    "duration": 307,
    "start_time": "2022-03-06T17:38:51.890Z"
   },
   {
    "duration": 37,
    "start_time": "2022-03-06T17:38:52.199Z"
   },
   {
    "duration": 19,
    "start_time": "2022-03-06T17:38:52.238Z"
   },
   {
    "duration": 22,
    "start_time": "2022-03-06T17:38:52.259Z"
   },
   {
    "duration": 49,
    "start_time": "2022-03-06T17:38:52.283Z"
   },
   {
    "duration": 115,
    "start_time": "2022-03-06T17:38:52.335Z"
   },
   {
    "duration": 20,
    "start_time": "2022-03-06T17:38:52.453Z"
   },
   {
    "duration": 21,
    "start_time": "2022-03-06T17:38:52.475Z"
   },
   {
    "duration": 54,
    "start_time": "2022-03-06T17:38:52.498Z"
   },
   {
    "duration": 20,
    "start_time": "2022-03-06T17:38:52.554Z"
   },
   {
    "duration": 19,
    "start_time": "2022-03-06T17:38:52.576Z"
   },
   {
    "duration": 21,
    "start_time": "2022-03-06T17:38:52.632Z"
   },
   {
    "duration": 21,
    "start_time": "2022-03-06T17:38:52.655Z"
   },
   {
    "duration": 20,
    "start_time": "2022-03-06T17:38:52.678Z"
   },
   {
    "duration": 49,
    "start_time": "2022-03-06T17:38:52.700Z"
   },
   {
    "duration": 20,
    "start_time": "2022-03-06T17:38:52.752Z"
   },
   {
    "duration": 7,
    "start_time": "2022-03-06T17:38:52.775Z"
   },
   {
    "duration": 53,
    "start_time": "2022-03-06T17:38:52.785Z"
   },
   {
    "duration": 11,
    "start_time": "2022-03-06T17:38:52.841Z"
   },
   {
    "duration": 7,
    "start_time": "2022-03-06T17:38:52.854Z"
   },
   {
    "duration": 12,
    "start_time": "2022-03-06T17:38:52.864Z"
   },
   {
    "duration": 12,
    "start_time": "2022-03-06T17:38:52.878Z"
   },
   {
    "duration": 44,
    "start_time": "2022-03-06T17:38:52.892Z"
   },
   {
    "duration": 762,
    "start_time": "2022-03-06T17:41:32.279Z"
   },
   {
    "duration": 627,
    "start_time": "2022-03-06T17:41:51.381Z"
   },
   {
    "duration": 595,
    "start_time": "2022-03-06T17:42:15.577Z"
   },
   {
    "duration": 631,
    "start_time": "2022-03-06T17:42:42.637Z"
   },
   {
    "duration": 320,
    "start_time": "2022-03-06T17:42:53.645Z"
   },
   {
    "duration": 1427,
    "start_time": "2022-03-06T17:43:03.971Z"
   },
   {
    "duration": 82,
    "start_time": "2022-03-06T17:43:05.401Z"
   },
   {
    "duration": 22,
    "start_time": "2022-03-06T17:43:05.486Z"
   },
   {
    "duration": 4,
    "start_time": "2022-03-06T17:43:05.510Z"
   },
   {
    "duration": 13,
    "start_time": "2022-03-06T17:43:05.533Z"
   },
   {
    "duration": 5,
    "start_time": "2022-03-06T17:43:05.548Z"
   },
   {
    "duration": 8,
    "start_time": "2022-03-06T17:43:05.555Z"
   },
   {
    "duration": 7,
    "start_time": "2022-03-06T17:43:05.567Z"
   },
   {
    "duration": 73,
    "start_time": "2022-03-06T17:43:05.576Z"
   },
   {
    "duration": 7,
    "start_time": "2022-03-06T17:43:05.651Z"
   },
   {
    "duration": 24,
    "start_time": "2022-03-06T17:43:05.660Z"
   },
   {
    "duration": 13,
    "start_time": "2022-03-06T17:43:05.687Z"
   },
   {
    "duration": 14,
    "start_time": "2022-03-06T17:43:05.732Z"
   },
   {
    "duration": 3,
    "start_time": "2022-03-06T17:43:05.749Z"
   },
   {
    "duration": 678,
    "start_time": "2022-03-06T17:43:05.754Z"
   },
   {
    "duration": 643,
    "start_time": "2022-03-06T17:43:06.434Z"
   },
   {
    "duration": 7,
    "start_time": "2022-03-06T17:43:07.079Z"
   },
   {
    "duration": 345,
    "start_time": "2022-03-06T17:43:07.088Z"
   },
   {
    "duration": 2072,
    "start_time": "2022-03-06T17:43:07.436Z"
   },
   {
    "duration": 35,
    "start_time": "2022-03-06T17:43:09.511Z"
   },
   {
    "duration": 23,
    "start_time": "2022-03-06T17:43:09.549Z"
   },
   {
    "duration": 4,
    "start_time": "2022-03-06T17:43:09.575Z"
   },
   {
    "duration": 982,
    "start_time": "2022-03-06T17:43:09.588Z"
   },
   {
    "duration": 6,
    "start_time": "2022-03-06T17:43:10.573Z"
   },
   {
    "duration": 6,
    "start_time": "2022-03-06T17:43:10.581Z"
   },
   {
    "duration": 587,
    "start_time": "2022-03-06T17:43:10.589Z"
   },
   {
    "duration": 23,
    "start_time": "2022-03-06T17:43:11.178Z"
   },
   {
    "duration": 37,
    "start_time": "2022-03-06T17:43:11.204Z"
   },
   {
    "duration": 671,
    "start_time": "2022-03-06T17:43:11.243Z"
   },
   {
    "duration": 30,
    "start_time": "2022-03-06T17:43:11.917Z"
   },
   {
    "duration": 302,
    "start_time": "2022-03-06T17:43:11.950Z"
   },
   {
    "duration": 11,
    "start_time": "2022-03-06T17:43:12.255Z"
   },
   {
    "duration": 12,
    "start_time": "2022-03-06T17:43:12.269Z"
   },
   {
    "duration": 49,
    "start_time": "2022-03-06T17:43:12.284Z"
   },
   {
    "duration": 26,
    "start_time": "2022-03-06T17:43:12.336Z"
   },
   {
    "duration": 455,
    "start_time": "2022-03-06T17:43:12.364Z"
   },
   {
    "duration": 13,
    "start_time": "2022-03-06T17:43:12.822Z"
   },
   {
    "duration": 433,
    "start_time": "2022-03-06T17:43:12.838Z"
   },
   {
    "duration": 5,
    "start_time": "2022-03-06T17:43:13.273Z"
   },
   {
    "duration": 354,
    "start_time": "2022-03-06T17:43:13.281Z"
   },
   {
    "duration": 1137,
    "start_time": "2022-03-06T17:43:13.637Z"
   },
   {
    "duration": 424,
    "start_time": "2022-03-06T17:43:14.776Z"
   },
   {
    "duration": 31,
    "start_time": "2022-03-06T17:43:15.202Z"
   },
   {
    "duration": 20,
    "start_time": "2022-03-06T17:43:15.235Z"
   },
   {
    "duration": 20,
    "start_time": "2022-03-06T17:43:15.257Z"
   },
   {
    "duration": 18,
    "start_time": "2022-03-06T17:43:15.280Z"
   },
   {
    "duration": 20,
    "start_time": "2022-03-06T17:43:15.333Z"
   },
   {
    "duration": 19,
    "start_time": "2022-03-06T17:43:15.355Z"
   },
   {
    "duration": 18,
    "start_time": "2022-03-06T17:43:15.376Z"
   },
   {
    "duration": 52,
    "start_time": "2022-03-06T17:43:15.396Z"
   },
   {
    "duration": 19,
    "start_time": "2022-03-06T17:43:15.451Z"
   },
   {
    "duration": 19,
    "start_time": "2022-03-06T17:43:15.472Z"
   },
   {
    "duration": 52,
    "start_time": "2022-03-06T17:43:15.494Z"
   },
   {
    "duration": 19,
    "start_time": "2022-03-06T17:43:15.548Z"
   },
   {
    "duration": 22,
    "start_time": "2022-03-06T17:43:15.569Z"
   },
   {
    "duration": 57,
    "start_time": "2022-03-06T17:43:15.594Z"
   },
   {
    "duration": 18,
    "start_time": "2022-03-06T17:43:15.654Z"
   },
   {
    "duration": 6,
    "start_time": "2022-03-06T17:43:15.674Z"
   },
   {
    "duration": 12,
    "start_time": "2022-03-06T17:43:15.682Z"
   },
   {
    "duration": 46,
    "start_time": "2022-03-06T17:43:15.696Z"
   },
   {
    "duration": 6,
    "start_time": "2022-03-06T17:43:15.745Z"
   },
   {
    "duration": 12,
    "start_time": "2022-03-06T17:43:15.753Z"
   },
   {
    "duration": 11,
    "start_time": "2022-03-06T17:43:15.767Z"
   },
   {
    "duration": 8,
    "start_time": "2022-03-06T17:43:15.780Z"
   },
   {
    "duration": 321,
    "start_time": "2022-03-06T17:43:29.414Z"
   },
   {
    "duration": 1419,
    "start_time": "2022-03-06T17:43:41.079Z"
   },
   {
    "duration": 80,
    "start_time": "2022-03-06T17:43:42.501Z"
   },
   {
    "duration": 21,
    "start_time": "2022-03-06T17:43:42.584Z"
   },
   {
    "duration": 24,
    "start_time": "2022-03-06T17:43:42.608Z"
   },
   {
    "duration": 12,
    "start_time": "2022-03-06T17:43:42.634Z"
   },
   {
    "duration": 4,
    "start_time": "2022-03-06T17:43:42.649Z"
   },
   {
    "duration": 8,
    "start_time": "2022-03-06T17:43:42.655Z"
   },
   {
    "duration": 6,
    "start_time": "2022-03-06T17:43:42.667Z"
   },
   {
    "duration": 74,
    "start_time": "2022-03-06T17:43:42.676Z"
   },
   {
    "duration": 9,
    "start_time": "2022-03-06T17:43:42.753Z"
   },
   {
    "duration": 25,
    "start_time": "2022-03-06T17:43:42.765Z"
   },
   {
    "duration": 48,
    "start_time": "2022-03-06T17:43:42.793Z"
   },
   {
    "duration": 14,
    "start_time": "2022-03-06T17:43:42.843Z"
   },
   {
    "duration": 3,
    "start_time": "2022-03-06T17:43:42.859Z"
   },
   {
    "duration": 675,
    "start_time": "2022-03-06T17:43:42.864Z"
   },
   {
    "duration": 667,
    "start_time": "2022-03-06T17:43:43.542Z"
   },
   {
    "duration": 8,
    "start_time": "2022-03-06T17:43:44.212Z"
   },
   {
    "duration": 342,
    "start_time": "2022-03-06T17:43:44.233Z"
   },
   {
    "duration": 2014,
    "start_time": "2022-03-06T17:43:44.577Z"
   },
   {
    "duration": 38,
    "start_time": "2022-03-06T17:43:46.594Z"
   },
   {
    "duration": 21,
    "start_time": "2022-03-06T17:43:46.634Z"
   },
   {
    "duration": 3,
    "start_time": "2022-03-06T17:43:46.658Z"
   },
   {
    "duration": 1054,
    "start_time": "2022-03-06T17:43:46.667Z"
   },
   {
    "duration": 8,
    "start_time": "2022-03-06T17:43:47.724Z"
   },
   {
    "duration": 4,
    "start_time": "2022-03-06T17:43:47.735Z"
   },
   {
    "duration": 564,
    "start_time": "2022-03-06T17:43:47.741Z"
   },
   {
    "duration": 35,
    "start_time": "2022-03-06T17:43:48.307Z"
   },
   {
    "duration": 20,
    "start_time": "2022-03-06T17:43:48.345Z"
   },
   {
    "duration": 674,
    "start_time": "2022-03-06T17:43:48.367Z"
   },
   {
    "duration": 20,
    "start_time": "2022-03-06T17:43:49.044Z"
   },
   {
    "duration": 318,
    "start_time": "2022-03-06T17:43:49.066Z"
   },
   {
    "duration": 11,
    "start_time": "2022-03-06T17:43:49.387Z"
   },
   {
    "duration": 34,
    "start_time": "2022-03-06T17:43:49.400Z"
   },
   {
    "duration": 23,
    "start_time": "2022-03-06T17:43:49.437Z"
   },
   {
    "duration": 29,
    "start_time": "2022-03-06T17:43:49.463Z"
   },
   {
    "duration": 488,
    "start_time": "2022-03-06T17:43:49.494Z"
   },
   {
    "duration": 6,
    "start_time": "2022-03-06T17:43:49.985Z"
   },
   {
    "duration": 469,
    "start_time": "2022-03-06T17:43:49.993Z"
   },
   {
    "duration": 6,
    "start_time": "2022-03-06T17:43:50.464Z"
   },
   {
    "duration": 353,
    "start_time": "2022-03-06T17:43:50.472Z"
   },
   {
    "duration": 1155,
    "start_time": "2022-03-06T17:43:50.828Z"
   },
   {
    "duration": 310,
    "start_time": "2022-03-06T17:43:51.986Z"
   },
   {
    "duration": 34,
    "start_time": "2022-03-06T17:43:52.298Z"
   },
   {
    "duration": 20,
    "start_time": "2022-03-06T17:43:52.335Z"
   },
   {
    "duration": 19,
    "start_time": "2022-03-06T17:43:52.358Z"
   },
   {
    "duration": 18,
    "start_time": "2022-03-06T17:43:52.379Z"
   },
   {
    "duration": 50,
    "start_time": "2022-03-06T17:43:52.399Z"
   },
   {
    "duration": 20,
    "start_time": "2022-03-06T17:43:52.451Z"
   },
   {
    "duration": 20,
    "start_time": "2022-03-06T17:43:52.473Z"
   },
   {
    "duration": 55,
    "start_time": "2022-03-06T17:43:52.495Z"
   },
   {
    "duration": 20,
    "start_time": "2022-03-06T17:43:52.552Z"
   },
   {
    "duration": 19,
    "start_time": "2022-03-06T17:43:52.574Z"
   },
   {
    "duration": 55,
    "start_time": "2022-03-06T17:43:52.595Z"
   },
   {
    "duration": 19,
    "start_time": "2022-03-06T17:43:52.653Z"
   },
   {
    "duration": 19,
    "start_time": "2022-03-06T17:43:52.674Z"
   },
   {
    "duration": 53,
    "start_time": "2022-03-06T17:43:52.696Z"
   },
   {
    "duration": 19,
    "start_time": "2022-03-06T17:43:52.751Z"
   },
   {
    "duration": 6,
    "start_time": "2022-03-06T17:43:52.772Z"
   },
   {
    "duration": 11,
    "start_time": "2022-03-06T17:43:52.781Z"
   },
   {
    "duration": 11,
    "start_time": "2022-03-06T17:43:52.833Z"
   },
   {
    "duration": 7,
    "start_time": "2022-03-06T17:43:52.847Z"
   },
   {
    "duration": 13,
    "start_time": "2022-03-06T17:43:52.856Z"
   },
   {
    "duration": 12,
    "start_time": "2022-03-06T17:43:52.871Z"
   },
   {
    "duration": 47,
    "start_time": "2022-03-06T17:43:52.885Z"
   },
   {
    "duration": 105,
    "start_time": "2022-03-06T18:03:22.857Z"
   },
   {
    "duration": 1417,
    "start_time": "2022-03-06T18:03:35.984Z"
   },
   {
    "duration": 94,
    "start_time": "2022-03-06T18:03:37.404Z"
   },
   {
    "duration": 42,
    "start_time": "2022-03-06T18:03:37.501Z"
   },
   {
    "duration": 4,
    "start_time": "2022-03-06T18:03:37.545Z"
   },
   {
    "duration": 14,
    "start_time": "2022-03-06T18:03:37.552Z"
   },
   {
    "duration": 5,
    "start_time": "2022-03-06T18:03:37.568Z"
   },
   {
    "duration": 9,
    "start_time": "2022-03-06T18:03:37.575Z"
   },
   {
    "duration": 7,
    "start_time": "2022-03-06T18:03:37.587Z"
   },
   {
    "duration": 35,
    "start_time": "2022-03-06T18:03:37.633Z"
   },
   {
    "duration": 6,
    "start_time": "2022-03-06T18:03:37.670Z"
   },
   {
    "duration": 55,
    "start_time": "2022-03-06T18:03:37.679Z"
   },
   {
    "duration": 12,
    "start_time": "2022-03-06T18:03:37.736Z"
   },
   {
    "duration": 14,
    "start_time": "2022-03-06T18:03:37.750Z"
   },
   {
    "duration": 3,
    "start_time": "2022-03-06T18:03:37.766Z"
   },
   {
    "duration": 767,
    "start_time": "2022-03-06T18:03:37.772Z"
   },
   {
    "duration": 90,
    "start_time": "2022-03-06T18:03:38.541Z"
   },
   {
    "duration": -297,
    "start_time": "2022-03-06T18:03:38.932Z"
   },
   {
    "duration": -302,
    "start_time": "2022-03-06T18:03:38.939Z"
   },
   {
    "duration": -308,
    "start_time": "2022-03-06T18:03:38.946Z"
   },
   {
    "duration": -311,
    "start_time": "2022-03-06T18:03:38.951Z"
   },
   {
    "duration": -314,
    "start_time": "2022-03-06T18:03:38.955Z"
   },
   {
    "duration": -318,
    "start_time": "2022-03-06T18:03:38.960Z"
   },
   {
    "duration": -322,
    "start_time": "2022-03-06T18:03:38.966Z"
   },
   {
    "duration": -329,
    "start_time": "2022-03-06T18:03:38.974Z"
   },
   {
    "duration": -367,
    "start_time": "2022-03-06T18:03:39.013Z"
   },
   {
    "duration": -375,
    "start_time": "2022-03-06T18:03:39.023Z"
   },
   {
    "duration": -382,
    "start_time": "2022-03-06T18:03:39.031Z"
   },
   {
    "duration": -391,
    "start_time": "2022-03-06T18:03:39.041Z"
   },
   {
    "duration": -394,
    "start_time": "2022-03-06T18:03:39.045Z"
   },
   {
    "duration": -398,
    "start_time": "2022-03-06T18:03:39.051Z"
   },
   {
    "duration": -401,
    "start_time": "2022-03-06T18:03:39.055Z"
   },
   {
    "duration": -407,
    "start_time": "2022-03-06T18:03:39.063Z"
   },
   {
    "duration": -410,
    "start_time": "2022-03-06T18:03:39.067Z"
   },
   {
    "duration": -415,
    "start_time": "2022-03-06T18:03:39.073Z"
   },
   {
    "duration": -420,
    "start_time": "2022-03-06T18:03:39.080Z"
   },
   {
    "duration": -429,
    "start_time": "2022-03-06T18:03:39.090Z"
   },
   {
    "duration": -435,
    "start_time": "2022-03-06T18:03:39.098Z"
   },
   {
    "duration": -439,
    "start_time": "2022-03-06T18:03:39.103Z"
   },
   {
    "duration": -444,
    "start_time": "2022-03-06T18:03:39.109Z"
   },
   {
    "duration": -457,
    "start_time": "2022-03-06T18:03:39.125Z"
   },
   {
    "duration": -460,
    "start_time": "2022-03-06T18:03:39.130Z"
   },
   {
    "duration": -464,
    "start_time": "2022-03-06T18:03:39.135Z"
   },
   {
    "duration": -471,
    "start_time": "2022-03-06T18:03:39.143Z"
   },
   {
    "duration": -475,
    "start_time": "2022-03-06T18:03:39.149Z"
   },
   {
    "duration": -496,
    "start_time": "2022-03-06T18:03:39.171Z"
   },
   {
    "duration": -445,
    "start_time": "2022-03-06T18:03:39.177Z"
   },
   {
    "duration": -448,
    "start_time": "2022-03-06T18:03:39.181Z"
   },
   {
    "duration": -452,
    "start_time": "2022-03-06T18:03:39.187Z"
   },
   {
    "duration": -457,
    "start_time": "2022-03-06T18:03:39.193Z"
   },
   {
    "duration": -462,
    "start_time": "2022-03-06T18:03:39.200Z"
   },
   {
    "duration": -468,
    "start_time": "2022-03-06T18:03:39.207Z"
   },
   {
    "duration": -474,
    "start_time": "2022-03-06T18:03:39.214Z"
   },
   {
    "duration": -477,
    "start_time": "2022-03-06T18:03:39.219Z"
   },
   {
    "duration": -504,
    "start_time": "2022-03-06T18:03:39.247Z"
   },
   {
    "duration": -508,
    "start_time": "2022-03-06T18:03:39.252Z"
   },
   {
    "duration": -515,
    "start_time": "2022-03-06T18:03:39.260Z"
   },
   {
    "duration": -532,
    "start_time": "2022-03-06T18:03:39.279Z"
   },
   {
    "duration": -536,
    "start_time": "2022-03-06T18:03:39.284Z"
   },
   {
    "duration": -574,
    "start_time": "2022-03-06T18:03:39.323Z"
   },
   {
    "duration": -578,
    "start_time": "2022-03-06T18:03:39.328Z"
   },
   {
    "duration": -589,
    "start_time": "2022-03-06T18:03:39.341Z"
   },
   {
    "duration": -593,
    "start_time": "2022-03-06T18:03:39.346Z"
   },
   {
    "duration": -597,
    "start_time": "2022-03-06T18:03:39.351Z"
   },
   {
    "duration": -603,
    "start_time": "2022-03-06T18:03:39.358Z"
   },
   {
    "duration": 4586,
    "start_time": "2022-03-06T18:12:38.776Z"
   },
   {
    "duration": 1340,
    "start_time": "2022-03-06T18:12:54.820Z"
   },
   {
    "duration": 1038,
    "start_time": "2022-03-06T18:13:14.362Z"
   },
   {
    "duration": 1082,
    "start_time": "2022-03-06T18:13:22.875Z"
   },
   {
    "duration": 1243,
    "start_time": "2022-03-06T18:13:31.412Z"
   },
   {
    "duration": 1513,
    "start_time": "2022-03-06T18:15:04.806Z"
   },
   {
    "duration": 88,
    "start_time": "2022-03-06T18:15:06.322Z"
   },
   {
    "duration": 27,
    "start_time": "2022-03-06T18:15:06.413Z"
   },
   {
    "duration": 3,
    "start_time": "2022-03-06T18:15:06.443Z"
   },
   {
    "duration": 13,
    "start_time": "2022-03-06T18:15:06.448Z"
   },
   {
    "duration": 6,
    "start_time": "2022-03-06T18:15:06.464Z"
   },
   {
    "duration": 9,
    "start_time": "2022-03-06T18:15:06.473Z"
   },
   {
    "duration": 7,
    "start_time": "2022-03-06T18:15:06.532Z"
   },
   {
    "duration": 36,
    "start_time": "2022-03-06T18:15:06.544Z"
   },
   {
    "duration": 9,
    "start_time": "2022-03-06T18:15:06.583Z"
   },
   {
    "duration": 59,
    "start_time": "2022-03-06T18:15:06.594Z"
   },
   {
    "duration": 13,
    "start_time": "2022-03-06T18:15:06.655Z"
   },
   {
    "duration": 14,
    "start_time": "2022-03-06T18:15:06.670Z"
   },
   {
    "duration": 2,
    "start_time": "2022-03-06T18:15:06.686Z"
   },
   {
    "duration": 1419,
    "start_time": "2022-03-06T18:15:06.690Z"
   },
   {
    "duration": 20,
    "start_time": "2022-03-06T18:15:08.112Z"
   },
   {
    "duration": 345,
    "start_time": "2022-03-06T18:15:08.135Z"
   },
   {
    "duration": 1913,
    "start_time": "2022-03-06T18:15:08.482Z"
   },
   {
    "duration": 36,
    "start_time": "2022-03-06T18:15:10.398Z"
   },
   {
    "duration": 21,
    "start_time": "2022-03-06T18:15:10.436Z"
   },
   {
    "duration": 3,
    "start_time": "2022-03-06T18:15:10.459Z"
   },
   {
    "duration": 1033,
    "start_time": "2022-03-06T18:15:10.465Z"
   },
   {
    "duration": 6,
    "start_time": "2022-03-06T18:15:11.504Z"
   },
   {
    "duration": 22,
    "start_time": "2022-03-06T18:15:11.513Z"
   },
   {
    "duration": 552,
    "start_time": "2022-03-06T18:15:11.537Z"
   },
   {
    "duration": 25,
    "start_time": "2022-03-06T18:15:12.091Z"
   },
   {
    "duration": 21,
    "start_time": "2022-03-06T18:15:12.133Z"
   },
   {
    "duration": 687,
    "start_time": "2022-03-06T18:15:12.157Z"
   },
   {
    "duration": 22,
    "start_time": "2022-03-06T18:15:12.847Z"
   },
   {
    "duration": 306,
    "start_time": "2022-03-06T18:15:12.871Z"
   },
   {
    "duration": 12,
    "start_time": "2022-03-06T18:15:13.180Z"
   },
   {
    "duration": 37,
    "start_time": "2022-03-06T18:15:13.195Z"
   },
   {
    "duration": 15,
    "start_time": "2022-03-06T18:15:13.235Z"
   },
   {
    "duration": 39,
    "start_time": "2022-03-06T18:15:13.253Z"
   },
   {
    "duration": 517,
    "start_time": "2022-03-06T18:15:13.295Z"
   },
   {
    "duration": 6,
    "start_time": "2022-03-06T18:15:13.815Z"
   },
   {
    "duration": 428,
    "start_time": "2022-03-06T18:15:13.833Z"
   },
   {
    "duration": 5,
    "start_time": "2022-03-06T18:15:14.264Z"
   },
   {
    "duration": 354,
    "start_time": "2022-03-06T18:15:14.271Z"
   },
   {
    "duration": 992,
    "start_time": "2022-03-06T18:15:14.631Z"
   },
   {
    "duration": 305,
    "start_time": "2022-03-06T18:15:15.632Z"
   },
   {
    "duration": 20,
    "start_time": "2022-03-06T18:15:15.939Z"
   },
   {
    "duration": 21,
    "start_time": "2022-03-06T18:15:15.961Z"
   },
   {
    "duration": 52,
    "start_time": "2022-03-06T18:15:15.984Z"
   },
   {
    "duration": 19,
    "start_time": "2022-03-06T18:15:16.038Z"
   },
   {
    "duration": 119,
    "start_time": "2022-03-06T18:15:16.059Z"
   },
   {
    "duration": 21,
    "start_time": "2022-03-06T18:15:16.180Z"
   },
   {
    "duration": 42,
    "start_time": "2022-03-06T18:15:16.203Z"
   },
   {
    "duration": 24,
    "start_time": "2022-03-06T18:15:16.248Z"
   },
   {
    "duration": 19,
    "start_time": "2022-03-06T18:15:16.274Z"
   },
   {
    "duration": 49,
    "start_time": "2022-03-06T18:15:16.295Z"
   },
   {
    "duration": 19,
    "start_time": "2022-03-06T18:15:16.347Z"
   },
   {
    "duration": 25,
    "start_time": "2022-03-06T18:15:16.368Z"
   },
   {
    "duration": 49,
    "start_time": "2022-03-06T18:15:16.396Z"
   },
   {
    "duration": 20,
    "start_time": "2022-03-06T18:15:16.447Z"
   },
   {
    "duration": 20,
    "start_time": "2022-03-06T18:15:16.469Z"
   },
   {
    "duration": 8,
    "start_time": "2022-03-06T18:15:16.491Z"
   },
   {
    "duration": 12,
    "start_time": "2022-03-06T18:15:16.533Z"
   },
   {
    "duration": 11,
    "start_time": "2022-03-06T18:15:16.547Z"
   },
   {
    "duration": 7,
    "start_time": "2022-03-06T18:15:16.560Z"
   },
   {
    "duration": 17,
    "start_time": "2022-03-06T18:15:16.569Z"
   },
   {
    "duration": 49,
    "start_time": "2022-03-06T18:15:16.588Z"
   },
   {
    "duration": 7,
    "start_time": "2022-03-06T18:15:16.639Z"
   },
   {
    "duration": 477,
    "start_time": "2022-03-06T18:18:18.587Z"
   },
   {
    "duration": 2057,
    "start_time": "2022-03-06T18:18:48.932Z"
   },
   {
    "duration": 2311,
    "start_time": "2022-03-06T18:18:58.363Z"
   },
   {
    "duration": 2142,
    "start_time": "2022-03-06T18:19:10.493Z"
   },
   {
    "duration": 2252,
    "start_time": "2022-03-06T18:19:23.458Z"
   },
   {
    "duration": 1489,
    "start_time": "2022-03-06T18:20:56.812Z"
   },
   {
    "duration": 89,
    "start_time": "2022-03-06T18:20:58.303Z"
   },
   {
    "duration": 39,
    "start_time": "2022-03-06T18:20:58.395Z"
   },
   {
    "duration": 4,
    "start_time": "2022-03-06T18:20:58.436Z"
   },
   {
    "duration": 21,
    "start_time": "2022-03-06T18:20:58.443Z"
   },
   {
    "duration": 5,
    "start_time": "2022-03-06T18:20:58.466Z"
   },
   {
    "duration": 19,
    "start_time": "2022-03-06T18:20:58.473Z"
   },
   {
    "duration": 12,
    "start_time": "2022-03-06T18:20:58.495Z"
   },
   {
    "duration": 35,
    "start_time": "2022-03-06T18:20:58.534Z"
   },
   {
    "duration": 6,
    "start_time": "2022-03-06T18:20:58.571Z"
   },
   {
    "duration": 26,
    "start_time": "2022-03-06T18:20:58.580Z"
   },
   {
    "duration": 16,
    "start_time": "2022-03-06T18:20:58.633Z"
   },
   {
    "duration": 17,
    "start_time": "2022-03-06T18:20:58.651Z"
   },
   {
    "duration": 4,
    "start_time": "2022-03-06T18:20:58.670Z"
   },
   {
    "duration": 1274,
    "start_time": "2022-03-06T18:20:58.677Z"
   },
   {
    "duration": 7,
    "start_time": "2022-03-06T18:20:59.954Z"
   },
   {
    "duration": 495,
    "start_time": "2022-03-06T18:20:59.964Z"
   },
   {
    "duration": 2186,
    "start_time": "2022-03-06T18:21:00.461Z"
   },
   {
    "duration": 21,
    "start_time": "2022-03-06T18:21:02.649Z"
   },
   {
    "duration": 22,
    "start_time": "2022-03-06T18:21:02.672Z"
   },
   {
    "duration": 3,
    "start_time": "2022-03-06T18:21:02.697Z"
   },
   {
    "duration": 1036,
    "start_time": "2022-03-06T18:21:02.732Z"
   },
   {
    "duration": 6,
    "start_time": "2022-03-06T18:21:03.774Z"
   },
   {
    "duration": 4,
    "start_time": "2022-03-06T18:21:03.783Z"
   },
   {
    "duration": 592,
    "start_time": "2022-03-06T18:21:03.790Z"
   },
   {
    "duration": 24,
    "start_time": "2022-03-06T18:21:04.385Z"
   },
   {
    "duration": 38,
    "start_time": "2022-03-06T18:21:04.411Z"
   },
   {
    "duration": 664,
    "start_time": "2022-03-06T18:21:04.452Z"
   },
   {
    "duration": 26,
    "start_time": "2022-03-06T18:21:05.119Z"
   },
   {
    "duration": 313,
    "start_time": "2022-03-06T18:21:05.147Z"
   },
   {
    "duration": 11,
    "start_time": "2022-03-06T18:21:05.463Z"
   },
   {
    "duration": 14,
    "start_time": "2022-03-06T18:21:05.476Z"
   },
   {
    "duration": 40,
    "start_time": "2022-03-06T18:21:05.492Z"
   },
   {
    "duration": 25,
    "start_time": "2022-03-06T18:21:05.535Z"
   },
   {
    "duration": 462,
    "start_time": "2022-03-06T18:21:05.562Z"
   },
   {
    "duration": 8,
    "start_time": "2022-03-06T18:21:06.027Z"
   },
   {
    "duration": 447,
    "start_time": "2022-03-06T18:21:06.038Z"
   },
   {
    "duration": 6,
    "start_time": "2022-03-06T18:21:06.487Z"
   },
   {
    "duration": 345,
    "start_time": "2022-03-06T18:21:06.495Z"
   },
   {
    "duration": 1204,
    "start_time": "2022-03-06T18:21:06.843Z"
   },
   {
    "duration": 318,
    "start_time": "2022-03-06T18:21:08.050Z"
   },
   {
    "duration": 20,
    "start_time": "2022-03-06T18:21:08.370Z"
   },
   {
    "duration": 40,
    "start_time": "2022-03-06T18:21:08.393Z"
   },
   {
    "duration": 21,
    "start_time": "2022-03-06T18:21:08.435Z"
   },
   {
    "duration": 23,
    "start_time": "2022-03-06T18:21:08.458Z"
   },
   {
    "duration": 134,
    "start_time": "2022-03-06T18:21:08.483Z"
   },
   {
    "duration": 29,
    "start_time": "2022-03-06T18:21:08.620Z"
   },
   {
    "duration": 18,
    "start_time": "2022-03-06T18:21:08.651Z"
   },
   {
    "duration": 20,
    "start_time": "2022-03-06T18:21:08.672Z"
   },
   {
    "duration": 54,
    "start_time": "2022-03-06T18:21:08.694Z"
   },
   {
    "duration": 19,
    "start_time": "2022-03-06T18:21:08.750Z"
   },
   {
    "duration": 18,
    "start_time": "2022-03-06T18:21:08.772Z"
   },
   {
    "duration": 56,
    "start_time": "2022-03-06T18:21:08.792Z"
   },
   {
    "duration": 19,
    "start_time": "2022-03-06T18:21:08.850Z"
   },
   {
    "duration": 19,
    "start_time": "2022-03-06T18:21:08.871Z"
   },
   {
    "duration": 49,
    "start_time": "2022-03-06T18:21:08.892Z"
   },
   {
    "duration": 8,
    "start_time": "2022-03-06T18:21:08.943Z"
   },
   {
    "duration": 12,
    "start_time": "2022-03-06T18:21:08.953Z"
   },
   {
    "duration": 10,
    "start_time": "2022-03-06T18:21:08.968Z"
   },
   {
    "duration": 6,
    "start_time": "2022-03-06T18:21:08.981Z"
   },
   {
    "duration": 50,
    "start_time": "2022-03-06T18:21:08.989Z"
   },
   {
    "duration": 12,
    "start_time": "2022-03-06T18:21:09.041Z"
   },
   {
    "duration": 7,
    "start_time": "2022-03-06T18:21:09.055Z"
   },
   {
    "duration": 1507,
    "start_time": "2022-03-06T18:26:01.305Z"
   },
   {
    "duration": 97,
    "start_time": "2022-03-06T18:26:02.815Z"
   },
   {
    "duration": 33,
    "start_time": "2022-03-06T18:26:02.916Z"
   },
   {
    "duration": 4,
    "start_time": "2022-03-06T18:26:02.951Z"
   },
   {
    "duration": 17,
    "start_time": "2022-03-06T18:26:02.957Z"
   },
   {
    "duration": 5,
    "start_time": "2022-03-06T18:26:02.977Z"
   },
   {
    "duration": 8,
    "start_time": "2022-03-06T18:26:02.985Z"
   },
   {
    "duration": 39,
    "start_time": "2022-03-06T18:26:02.997Z"
   },
   {
    "duration": 42,
    "start_time": "2022-03-06T18:26:03.039Z"
   },
   {
    "duration": 7,
    "start_time": "2022-03-06T18:26:03.083Z"
   },
   {
    "duration": 57,
    "start_time": "2022-03-06T18:26:03.093Z"
   },
   {
    "duration": 13,
    "start_time": "2022-03-06T18:26:03.153Z"
   },
   {
    "duration": 14,
    "start_time": "2022-03-06T18:26:03.168Z"
   },
   {
    "duration": 4,
    "start_time": "2022-03-06T18:26:03.185Z"
   },
   {
    "duration": 1299,
    "start_time": "2022-03-06T18:26:03.191Z"
   },
   {
    "duration": 8,
    "start_time": "2022-03-06T18:26:04.492Z"
   },
   {
    "duration": 579,
    "start_time": "2022-03-06T18:26:04.502Z"
   },
   {
    "duration": 2171,
    "start_time": "2022-03-06T18:26:05.084Z"
   },
   {
    "duration": 20,
    "start_time": "2022-03-06T18:26:07.258Z"
   },
   {
    "duration": 20,
    "start_time": "2022-03-06T18:26:07.280Z"
   },
   {
    "duration": 31,
    "start_time": "2022-03-06T18:26:07.303Z"
   },
   {
    "duration": 1143,
    "start_time": "2022-03-06T18:26:07.336Z"
   },
   {
    "duration": 6,
    "start_time": "2022-03-06T18:26:08.485Z"
   },
   {
    "duration": 7,
    "start_time": "2022-03-06T18:26:08.494Z"
   },
   {
    "duration": 574,
    "start_time": "2022-03-06T18:26:08.504Z"
   },
   {
    "duration": 24,
    "start_time": "2022-03-06T18:26:09.080Z"
   },
   {
    "duration": 48,
    "start_time": "2022-03-06T18:26:09.107Z"
   },
   {
    "duration": 807,
    "start_time": "2022-03-06T18:26:09.158Z"
   },
   {
    "duration": 20,
    "start_time": "2022-03-06T18:26:09.967Z"
   },
   {
    "duration": 328,
    "start_time": "2022-03-06T18:26:09.990Z"
   },
   {
    "duration": 14,
    "start_time": "2022-03-06T18:26:10.320Z"
   },
   {
    "duration": 12,
    "start_time": "2022-03-06T18:26:10.336Z"
   },
   {
    "duration": 10,
    "start_time": "2022-03-06T18:26:10.350Z"
   },
   {
    "duration": 27,
    "start_time": "2022-03-06T18:26:10.363Z"
   },
   {
    "duration": 670,
    "start_time": "2022-03-06T18:26:10.392Z"
   },
   {
    "duration": 7,
    "start_time": "2022-03-06T18:26:11.065Z"
   },
   {
    "duration": 549,
    "start_time": "2022-03-06T18:26:11.075Z"
   },
   {
    "duration": 10,
    "start_time": "2022-03-06T18:26:11.626Z"
   },
   {
    "duration": 328,
    "start_time": "2022-03-06T18:26:11.638Z"
   },
   {
    "duration": 852,
    "start_time": "2022-03-06T18:26:11.969Z"
   },
   {
    "duration": 323,
    "start_time": "2022-03-06T18:26:12.823Z"
   },
   {
    "duration": 20,
    "start_time": "2022-03-06T18:26:13.148Z"
   },
   {
    "duration": 32,
    "start_time": "2022-03-06T18:26:13.170Z"
   },
   {
    "duration": 37,
    "start_time": "2022-03-06T18:26:13.205Z"
   },
   {
    "duration": 34,
    "start_time": "2022-03-06T18:26:13.245Z"
   },
   {
    "duration": 33,
    "start_time": "2022-03-06T18:26:13.282Z"
   },
   {
    "duration": 54,
    "start_time": "2022-03-06T18:26:13.317Z"
   },
   {
    "duration": 29,
    "start_time": "2022-03-06T18:26:13.375Z"
   },
   {
    "duration": 39,
    "start_time": "2022-03-06T18:26:13.406Z"
   },
   {
    "duration": 20,
    "start_time": "2022-03-06T18:26:13.448Z"
   },
   {
    "duration": 23,
    "start_time": "2022-03-06T18:26:13.471Z"
   },
   {
    "duration": 52,
    "start_time": "2022-03-06T18:26:13.497Z"
   },
   {
    "duration": 21,
    "start_time": "2022-03-06T18:26:13.551Z"
   },
   {
    "duration": 19,
    "start_time": "2022-03-06T18:26:13.575Z"
   },
   {
    "duration": 48,
    "start_time": "2022-03-06T18:26:13.597Z"
   },
   {
    "duration": 23,
    "start_time": "2022-03-06T18:26:13.647Z"
   },
   {
    "duration": 18,
    "start_time": "2022-03-06T18:26:13.672Z"
   },
   {
    "duration": 12,
    "start_time": "2022-03-06T18:26:13.692Z"
   },
   {
    "duration": 33,
    "start_time": "2022-03-06T18:26:13.706Z"
   },
   {
    "duration": 8,
    "start_time": "2022-03-06T18:26:13.742Z"
   },
   {
    "duration": 15,
    "start_time": "2022-03-06T18:26:13.753Z"
   },
   {
    "duration": 31,
    "start_time": "2022-03-06T18:26:13.771Z"
   },
   {
    "duration": 9,
    "start_time": "2022-03-06T18:26:13.804Z"
   },
   {
    "duration": 1476,
    "start_time": "2022-03-06T18:27:32.702Z"
   },
   {
    "duration": 81,
    "start_time": "2022-03-06T18:27:34.181Z"
   },
   {
    "duration": 22,
    "start_time": "2022-03-06T18:27:34.265Z"
   },
   {
    "duration": 4,
    "start_time": "2022-03-06T18:27:34.290Z"
   },
   {
    "duration": 43,
    "start_time": "2022-03-06T18:27:34.296Z"
   },
   {
    "duration": 5,
    "start_time": "2022-03-06T18:27:34.341Z"
   },
   {
    "duration": 8,
    "start_time": "2022-03-06T18:27:34.348Z"
   },
   {
    "duration": 7,
    "start_time": "2022-03-06T18:27:34.360Z"
   },
   {
    "duration": 70,
    "start_time": "2022-03-06T18:27:34.370Z"
   },
   {
    "duration": 7,
    "start_time": "2022-03-06T18:27:34.442Z"
   },
   {
    "duration": 24,
    "start_time": "2022-03-06T18:27:34.451Z"
   },
   {
    "duration": 13,
    "start_time": "2022-03-06T18:27:34.477Z"
   },
   {
    "duration": 46,
    "start_time": "2022-03-06T18:27:34.493Z"
   },
   {
    "duration": 4,
    "start_time": "2022-03-06T18:27:34.542Z"
   },
   {
    "duration": 1288,
    "start_time": "2022-03-06T18:27:34.549Z"
   },
   {
    "duration": 7,
    "start_time": "2022-03-06T18:27:35.840Z"
   },
   {
    "duration": 473,
    "start_time": "2022-03-06T18:27:35.849Z"
   },
   {
    "duration": 2309,
    "start_time": "2022-03-06T18:27:36.333Z"
   },
   {
    "duration": 21,
    "start_time": "2022-03-06T18:27:38.644Z"
   },
   {
    "duration": 20,
    "start_time": "2022-03-06T18:27:38.668Z"
   },
   {
    "duration": 3,
    "start_time": "2022-03-06T18:27:38.690Z"
   },
   {
    "duration": 1067,
    "start_time": "2022-03-06T18:27:38.695Z"
   },
   {
    "duration": 6,
    "start_time": "2022-03-06T18:27:39.771Z"
   },
   {
    "duration": 6,
    "start_time": "2022-03-06T18:27:39.780Z"
   },
   {
    "duration": 599,
    "start_time": "2022-03-06T18:27:39.788Z"
   },
   {
    "duration": 25,
    "start_time": "2022-03-06T18:27:40.389Z"
   },
   {
    "duration": 19,
    "start_time": "2022-03-06T18:27:40.433Z"
   },
   {
    "duration": 597,
    "start_time": "2022-03-06T18:27:40.454Z"
   },
   {
    "duration": 19,
    "start_time": "2022-03-06T18:27:41.054Z"
   },
   {
    "duration": 307,
    "start_time": "2022-03-06T18:27:41.076Z"
   },
   {
    "duration": 11,
    "start_time": "2022-03-06T18:27:41.385Z"
   },
   {
    "duration": 11,
    "start_time": "2022-03-06T18:27:41.398Z"
   },
   {
    "duration": 9,
    "start_time": "2022-03-06T18:27:41.433Z"
   },
   {
    "duration": 27,
    "start_time": "2022-03-06T18:27:41.444Z"
   },
   {
    "duration": 518,
    "start_time": "2022-03-06T18:27:41.474Z"
   },
   {
    "duration": 6,
    "start_time": "2022-03-06T18:27:41.994Z"
   },
   {
    "duration": 474,
    "start_time": "2022-03-06T18:27:42.003Z"
   },
   {
    "duration": 5,
    "start_time": "2022-03-06T18:27:42.479Z"
   },
   {
    "duration": 349,
    "start_time": "2022-03-06T18:27:42.487Z"
   },
   {
    "duration": 775,
    "start_time": "2022-03-06T18:27:42.839Z"
   },
   {
    "duration": 334,
    "start_time": "2022-03-06T18:27:43.616Z"
   },
   {
    "duration": 21,
    "start_time": "2022-03-06T18:27:43.953Z"
   },
   {
    "duration": 22,
    "start_time": "2022-03-06T18:27:43.976Z"
   },
   {
    "duration": 48,
    "start_time": "2022-03-06T18:27:44.001Z"
   },
   {
    "duration": 22,
    "start_time": "2022-03-06T18:27:44.051Z"
   },
   {
    "duration": 20,
    "start_time": "2022-03-06T18:27:44.075Z"
   },
   {
    "duration": 53,
    "start_time": "2022-03-06T18:27:44.098Z"
   },
   {
    "duration": 18,
    "start_time": "2022-03-06T18:27:44.154Z"
   },
   {
    "duration": 18,
    "start_time": "2022-03-06T18:27:44.174Z"
   },
   {
    "duration": 54,
    "start_time": "2022-03-06T18:27:44.195Z"
   },
   {
    "duration": 34,
    "start_time": "2022-03-06T18:27:44.251Z"
   },
   {
    "duration": 30,
    "start_time": "2022-03-06T18:27:44.288Z"
   },
   {
    "duration": 26,
    "start_time": "2022-03-06T18:27:44.320Z"
   },
   {
    "duration": 30,
    "start_time": "2022-03-06T18:27:44.349Z"
   },
   {
    "duration": 22,
    "start_time": "2022-03-06T18:27:44.382Z"
   },
   {
    "duration": 37,
    "start_time": "2022-03-06T18:27:44.407Z"
   },
   {
    "duration": 10,
    "start_time": "2022-03-06T18:27:44.446Z"
   },
   {
    "duration": 11,
    "start_time": "2022-03-06T18:27:44.458Z"
   },
   {
    "duration": 10,
    "start_time": "2022-03-06T18:27:44.472Z"
   },
   {
    "duration": 7,
    "start_time": "2022-03-06T18:27:44.484Z"
   },
   {
    "duration": 50,
    "start_time": "2022-03-06T18:27:44.494Z"
   },
   {
    "duration": 12,
    "start_time": "2022-03-06T18:27:44.546Z"
   },
   {
    "duration": 7,
    "start_time": "2022-03-06T18:27:44.560Z"
   },
   {
    "duration": 496,
    "start_time": "2022-03-06T18:28:16.498Z"
   },
   {
    "duration": 632,
    "start_time": "2022-03-06T18:28:29.917Z"
   },
   {
    "duration": 1056,
    "start_time": "2022-03-06T18:28:59.722Z"
   },
   {
    "duration": 37,
    "start_time": "2022-03-06T18:29:20.187Z"
   },
   {
    "duration": 1419,
    "start_time": "2022-03-06T18:29:43.922Z"
   },
   {
    "duration": 78,
    "start_time": "2022-03-06T18:29:45.343Z"
   },
   {
    "duration": 28,
    "start_time": "2022-03-06T18:29:45.424Z"
   },
   {
    "duration": 4,
    "start_time": "2022-03-06T18:29:45.456Z"
   },
   {
    "duration": 14,
    "start_time": "2022-03-06T18:29:45.463Z"
   },
   {
    "duration": 10,
    "start_time": "2022-03-06T18:29:45.479Z"
   },
   {
    "duration": 46,
    "start_time": "2022-03-06T18:29:45.491Z"
   },
   {
    "duration": 7,
    "start_time": "2022-03-06T18:29:45.541Z"
   },
   {
    "duration": 35,
    "start_time": "2022-03-06T18:29:45.551Z"
   },
   {
    "duration": 7,
    "start_time": "2022-03-06T18:29:45.588Z"
   },
   {
    "duration": 57,
    "start_time": "2022-03-06T18:29:45.598Z"
   },
   {
    "duration": 14,
    "start_time": "2022-03-06T18:29:45.657Z"
   },
   {
    "duration": 15,
    "start_time": "2022-03-06T18:29:45.674Z"
   },
   {
    "duration": 7,
    "start_time": "2022-03-06T18:29:45.692Z"
   },
   {
    "duration": 1530,
    "start_time": "2022-03-06T18:29:45.702Z"
   },
   {
    "duration": 7,
    "start_time": "2022-03-06T18:29:47.235Z"
   },
   {
    "duration": 481,
    "start_time": "2022-03-06T18:29:47.244Z"
   },
   {
    "duration": 2481,
    "start_time": "2022-03-06T18:29:47.727Z"
   },
   {
    "duration": 50,
    "start_time": "2022-03-06T18:29:50.210Z"
   },
   {
    "duration": 22,
    "start_time": "2022-03-06T18:29:50.264Z"
   },
   {
    "duration": 3,
    "start_time": "2022-03-06T18:29:50.289Z"
   },
   {
    "duration": 1343,
    "start_time": "2022-03-06T18:29:50.294Z"
   },
   {
    "duration": 7,
    "start_time": "2022-03-06T18:29:51.642Z"
   },
   {
    "duration": 11,
    "start_time": "2022-03-06T18:29:51.653Z"
   },
   {
    "duration": 647,
    "start_time": "2022-03-06T18:29:51.669Z"
   },
   {
    "duration": 43,
    "start_time": "2022-03-06T18:29:52.320Z"
   },
   {
    "duration": 67,
    "start_time": "2022-03-06T18:29:52.365Z"
   },
   {
    "duration": 1229,
    "start_time": "2022-03-06T18:29:52.437Z"
   },
   {
    "duration": 30,
    "start_time": "2022-03-06T18:29:53.671Z"
   },
   {
    "duration": 379,
    "start_time": "2022-03-06T18:29:53.704Z"
   },
   {
    "duration": 14,
    "start_time": "2022-03-06T18:29:54.087Z"
   },
   {
    "duration": 35,
    "start_time": "2022-03-06T18:29:54.104Z"
   },
   {
    "duration": 35,
    "start_time": "2022-03-06T18:29:54.142Z"
   },
   {
    "duration": 63,
    "start_time": "2022-03-06T18:29:54.180Z"
   },
   {
    "duration": 478,
    "start_time": "2022-03-06T18:29:54.245Z"
   },
   {
    "duration": 6,
    "start_time": "2022-03-06T18:29:54.733Z"
   },
   {
    "duration": 451,
    "start_time": "2022-03-06T18:29:54.743Z"
   },
   {
    "duration": 7,
    "start_time": "2022-03-06T18:29:55.196Z"
   },
   {
    "duration": 335,
    "start_time": "2022-03-06T18:29:55.206Z"
   },
   {
    "duration": 941,
    "start_time": "2022-03-06T18:29:55.543Z"
   },
   {
    "duration": 373,
    "start_time": "2022-03-06T18:29:56.487Z"
   },
   {
    "duration": 23,
    "start_time": "2022-03-06T18:29:56.862Z"
   },
   {
    "duration": 48,
    "start_time": "2022-03-06T18:29:56.888Z"
   },
   {
    "duration": 39,
    "start_time": "2022-03-06T18:29:56.938Z"
   },
   {
    "duration": 25,
    "start_time": "2022-03-06T18:29:56.980Z"
   },
   {
    "duration": 35,
    "start_time": "2022-03-06T18:29:57.008Z"
   },
   {
    "duration": 35,
    "start_time": "2022-03-06T18:29:57.045Z"
   },
   {
    "duration": 43,
    "start_time": "2022-03-06T18:29:57.083Z"
   },
   {
    "duration": 25,
    "start_time": "2022-03-06T18:29:57.134Z"
   },
   {
    "duration": 33,
    "start_time": "2022-03-06T18:29:57.162Z"
   },
   {
    "duration": 38,
    "start_time": "2022-03-06T18:29:57.198Z"
   },
   {
    "duration": 56,
    "start_time": "2022-03-06T18:29:57.240Z"
   },
   {
    "duration": 43,
    "start_time": "2022-03-06T18:29:57.298Z"
   },
   {
    "duration": 34,
    "start_time": "2022-03-06T18:29:57.344Z"
   },
   {
    "duration": 35,
    "start_time": "2022-03-06T18:29:57.381Z"
   },
   {
    "duration": 30,
    "start_time": "2022-03-06T18:29:57.419Z"
   },
   {
    "duration": 26,
    "start_time": "2022-03-06T18:29:57.451Z"
   },
   {
    "duration": 19,
    "start_time": "2022-03-06T18:29:57.479Z"
   },
   {
    "duration": 19,
    "start_time": "2022-03-06T18:29:57.501Z"
   },
   {
    "duration": 16,
    "start_time": "2022-03-06T18:29:57.523Z"
   },
   {
    "duration": 24,
    "start_time": "2022-03-06T18:29:57.542Z"
   },
   {
    "duration": 25,
    "start_time": "2022-03-06T18:29:57.569Z"
   },
   {
    "duration": 21,
    "start_time": "2022-03-06T18:29:57.597Z"
   },
   {
    "duration": 699,
    "start_time": "2022-03-06T18:30:50.505Z"
   },
   {
    "duration": 34,
    "start_time": "2022-03-06T18:30:54.644Z"
   },
   {
    "duration": 569,
    "start_time": "2022-03-06T18:30:56.235Z"
   },
   {
    "duration": 1542,
    "start_time": "2022-03-06T18:34:02.048Z"
   },
   {
    "duration": 85,
    "start_time": "2022-03-06T18:34:03.593Z"
   },
   {
    "duration": 50,
    "start_time": "2022-03-06T18:34:03.685Z"
   },
   {
    "duration": 4,
    "start_time": "2022-03-06T18:34:03.737Z"
   },
   {
    "duration": 26,
    "start_time": "2022-03-06T18:34:03.744Z"
   },
   {
    "duration": 11,
    "start_time": "2022-03-06T18:34:03.773Z"
   },
   {
    "duration": 9,
    "start_time": "2022-03-06T18:34:03.788Z"
   },
   {
    "duration": 32,
    "start_time": "2022-03-06T18:34:03.801Z"
   },
   {
    "duration": 35,
    "start_time": "2022-03-06T18:34:03.835Z"
   },
   {
    "duration": 10,
    "start_time": "2022-03-06T18:34:03.873Z"
   },
   {
    "duration": 54,
    "start_time": "2022-03-06T18:34:03.886Z"
   },
   {
    "duration": 15,
    "start_time": "2022-03-06T18:34:03.943Z"
   },
   {
    "duration": 15,
    "start_time": "2022-03-06T18:34:03.960Z"
   },
   {
    "duration": 9,
    "start_time": "2022-03-06T18:34:03.977Z"
   },
   {
    "duration": 1356,
    "start_time": "2022-03-06T18:34:03.988Z"
   },
   {
    "duration": 9,
    "start_time": "2022-03-06T18:34:05.347Z"
   },
   {
    "duration": 494,
    "start_time": "2022-03-06T18:34:05.358Z"
   },
   {
    "duration": 2229,
    "start_time": "2022-03-06T18:34:05.854Z"
   },
   {
    "duration": 29,
    "start_time": "2022-03-06T18:34:08.086Z"
   },
   {
    "duration": 24,
    "start_time": "2022-03-06T18:34:08.133Z"
   },
   {
    "duration": 3,
    "start_time": "2022-03-06T18:34:08.160Z"
   },
   {
    "duration": 1047,
    "start_time": "2022-03-06T18:34:08.172Z"
   },
   {
    "duration": 10,
    "start_time": "2022-03-06T18:34:09.224Z"
   },
   {
    "duration": 8,
    "start_time": "2022-03-06T18:34:09.237Z"
   },
   {
    "duration": 589,
    "start_time": "2022-03-06T18:34:09.247Z"
   },
   {
    "duration": 26,
    "start_time": "2022-03-06T18:34:09.839Z"
   },
   {
    "duration": 442,
    "start_time": "2022-03-06T18:34:09.868Z"
   },
   {
    "duration": -304,
    "start_time": "2022-03-06T18:34:10.617Z"
   },
   {
    "duration": -306,
    "start_time": "2022-03-06T18:34:10.621Z"
   },
   {
    "duration": -310,
    "start_time": "2022-03-06T18:34:10.626Z"
   },
   {
    "duration": -313,
    "start_time": "2022-03-06T18:34:10.631Z"
   },
   {
    "duration": -317,
    "start_time": "2022-03-06T18:34:10.636Z"
   },
   {
    "duration": -321,
    "start_time": "2022-03-06T18:34:10.642Z"
   },
   {
    "duration": -324,
    "start_time": "2022-03-06T18:34:10.646Z"
   },
   {
    "duration": -328,
    "start_time": "2022-03-06T18:34:10.651Z"
   },
   {
    "duration": -332,
    "start_time": "2022-03-06T18:34:10.657Z"
   },
   {
    "duration": -336,
    "start_time": "2022-03-06T18:34:10.662Z"
   },
   {
    "duration": -339,
    "start_time": "2022-03-06T18:34:10.666Z"
   },
   {
    "duration": -343,
    "start_time": "2022-03-06T18:34:10.672Z"
   },
   {
    "duration": -346,
    "start_time": "2022-03-06T18:34:10.677Z"
   },
   {
    "duration": -350,
    "start_time": "2022-03-06T18:34:10.682Z"
   },
   {
    "duration": -354,
    "start_time": "2022-03-06T18:34:10.687Z"
   },
   {
    "duration": -358,
    "start_time": "2022-03-06T18:34:10.693Z"
   },
   {
    "duration": -361,
    "start_time": "2022-03-06T18:34:10.697Z"
   },
   {
    "duration": -380,
    "start_time": "2022-03-06T18:34:10.718Z"
   },
   {
    "duration": -385,
    "start_time": "2022-03-06T18:34:10.724Z"
   },
   {
    "duration": -389,
    "start_time": "2022-03-06T18:34:10.729Z"
   },
   {
    "duration": -393,
    "start_time": "2022-03-06T18:34:10.734Z"
   },
   {
    "duration": -401,
    "start_time": "2022-03-06T18:34:10.744Z"
   },
   {
    "duration": -404,
    "start_time": "2022-03-06T18:34:10.748Z"
   },
   {
    "duration": -408,
    "start_time": "2022-03-06T18:34:10.753Z"
   },
   {
    "duration": -412,
    "start_time": "2022-03-06T18:34:10.759Z"
   },
   {
    "duration": -416,
    "start_time": "2022-03-06T18:34:10.764Z"
   },
   {
    "duration": -418,
    "start_time": "2022-03-06T18:34:10.768Z"
   },
   {
    "duration": -421,
    "start_time": "2022-03-06T18:34:10.772Z"
   },
   {
    "duration": -424,
    "start_time": "2022-03-06T18:34:10.777Z"
   },
   {
    "duration": -427,
    "start_time": "2022-03-06T18:34:10.781Z"
   },
   {
    "duration": -429,
    "start_time": "2022-03-06T18:34:10.786Z"
   },
   {
    "duration": -433,
    "start_time": "2022-03-06T18:34:10.791Z"
   },
   {
    "duration": -445,
    "start_time": "2022-03-06T18:34:10.804Z"
   },
   {
    "duration": -456,
    "start_time": "2022-03-06T18:34:10.816Z"
   },
   {
    "duration": -478,
    "start_time": "2022-03-06T18:34:10.840Z"
   },
   {
    "duration": -484,
    "start_time": "2022-03-06T18:34:10.847Z"
   },
   {
    "duration": 1511,
    "start_time": "2022-03-06T18:34:33.897Z"
   },
   {
    "duration": 83,
    "start_time": "2022-03-06T18:34:35.410Z"
   },
   {
    "duration": 22,
    "start_time": "2022-03-06T18:34:35.496Z"
   },
   {
    "duration": 4,
    "start_time": "2022-03-06T18:34:35.532Z"
   },
   {
    "duration": 22,
    "start_time": "2022-03-06T18:34:35.538Z"
   },
   {
    "duration": 5,
    "start_time": "2022-03-06T18:34:35.562Z"
   },
   {
    "duration": 11,
    "start_time": "2022-03-06T18:34:35.569Z"
   },
   {
    "duration": 11,
    "start_time": "2022-03-06T18:34:35.583Z"
   },
   {
    "duration": 64,
    "start_time": "2022-03-06T18:34:35.597Z"
   },
   {
    "duration": 7,
    "start_time": "2022-03-06T18:34:35.663Z"
   },
   {
    "duration": 26,
    "start_time": "2022-03-06T18:34:35.672Z"
   },
   {
    "duration": 38,
    "start_time": "2022-03-06T18:34:35.700Z"
   },
   {
    "duration": 17,
    "start_time": "2022-03-06T18:34:35.740Z"
   },
   {
    "duration": 4,
    "start_time": "2022-03-06T18:34:35.759Z"
   },
   {
    "duration": 1277,
    "start_time": "2022-03-06T18:34:35.766Z"
   },
   {
    "duration": 6,
    "start_time": "2022-03-06T18:34:37.045Z"
   },
   {
    "duration": 474,
    "start_time": "2022-03-06T18:34:37.054Z"
   },
   {
    "duration": 2355,
    "start_time": "2022-03-06T18:34:37.530Z"
   },
   {
    "duration": 21,
    "start_time": "2022-03-06T18:34:39.887Z"
   },
   {
    "duration": 39,
    "start_time": "2022-03-06T18:34:39.911Z"
   },
   {
    "duration": 3,
    "start_time": "2022-03-06T18:34:39.953Z"
   },
   {
    "duration": 1001,
    "start_time": "2022-03-06T18:34:39.959Z"
   },
   {
    "duration": 6,
    "start_time": "2022-03-06T18:34:40.966Z"
   },
   {
    "duration": 5,
    "start_time": "2022-03-06T18:34:40.977Z"
   },
   {
    "duration": 557,
    "start_time": "2022-03-06T18:34:40.985Z"
   },
   {
    "duration": 24,
    "start_time": "2022-03-06T18:34:41.544Z"
   },
   {
    "duration": 32,
    "start_time": "2022-03-06T18:34:41.571Z"
   },
   {
    "duration": 584,
    "start_time": "2022-03-06T18:34:41.633Z"
   },
   {
    "duration": 27,
    "start_time": "2022-03-06T18:34:42.220Z"
   },
   {
    "duration": 286,
    "start_time": "2022-03-06T18:34:42.250Z"
   },
   {
    "duration": 413,
    "start_time": "2022-03-06T18:34:42.539Z"
   },
   {
    "duration": -301,
    "start_time": "2022-03-06T18:34:43.256Z"
   },
   {
    "duration": -305,
    "start_time": "2022-03-06T18:34:43.261Z"
   },
   {
    "duration": -308,
    "start_time": "2022-03-06T18:34:43.266Z"
   },
   {
    "duration": -312,
    "start_time": "2022-03-06T18:34:43.271Z"
   },
   {
    "duration": -316,
    "start_time": "2022-03-06T18:34:43.276Z"
   },
   {
    "duration": -319,
    "start_time": "2022-03-06T18:34:43.281Z"
   },
   {
    "duration": -322,
    "start_time": "2022-03-06T18:34:43.285Z"
   },
   {
    "duration": -325,
    "start_time": "2022-03-06T18:34:43.289Z"
   },
   {
    "duration": -328,
    "start_time": "2022-03-06T18:34:43.293Z"
   },
   {
    "duration": -331,
    "start_time": "2022-03-06T18:34:43.298Z"
   },
   {
    "duration": -335,
    "start_time": "2022-03-06T18:34:43.303Z"
   },
   {
    "duration": -338,
    "start_time": "2022-03-06T18:34:43.307Z"
   },
   {
    "duration": -341,
    "start_time": "2022-03-06T18:34:43.312Z"
   },
   {
    "duration": -345,
    "start_time": "2022-03-06T18:34:43.317Z"
   },
   {
    "duration": -348,
    "start_time": "2022-03-06T18:34:43.321Z"
   },
   {
    "duration": -352,
    "start_time": "2022-03-06T18:34:43.326Z"
   },
   {
    "duration": -354,
    "start_time": "2022-03-06T18:34:43.330Z"
   },
   {
    "duration": -357,
    "start_time": "2022-03-06T18:34:43.335Z"
   },
   {
    "duration": -361,
    "start_time": "2022-03-06T18:34:43.340Z"
   },
   {
    "duration": -364,
    "start_time": "2022-03-06T18:34:43.344Z"
   },
   {
    "duration": -377,
    "start_time": "2022-03-06T18:34:43.358Z"
   },
   {
    "duration": -380,
    "start_time": "2022-03-06T18:34:43.362Z"
   },
   {
    "duration": -382,
    "start_time": "2022-03-06T18:34:43.366Z"
   },
   {
    "duration": -386,
    "start_time": "2022-03-06T18:34:43.371Z"
   },
   {
    "duration": -387,
    "start_time": "2022-03-06T18:34:43.374Z"
   },
   {
    "duration": -391,
    "start_time": "2022-03-06T18:34:43.379Z"
   },
   {
    "duration": -394,
    "start_time": "2022-03-06T18:34:43.383Z"
   },
   {
    "duration": -397,
    "start_time": "2022-03-06T18:34:43.387Z"
   },
   {
    "duration": -400,
    "start_time": "2022-03-06T18:34:43.391Z"
   },
   {
    "duration": -363,
    "start_time": "2022-03-06T18:34:43.395Z"
   },
   {
    "duration": -366,
    "start_time": "2022-03-06T18:34:43.399Z"
   },
   {
    "duration": -368,
    "start_time": "2022-03-06T18:34:43.403Z"
   },
   {
    "duration": 681,
    "start_time": "2022-03-06T18:36:32.152Z"
   },
   {
    "duration": 565,
    "start_time": "2022-03-06T18:42:11.759Z"
   },
   {
    "duration": 26,
    "start_time": "2022-03-06T18:44:16.876Z"
   },
   {
    "duration": 39,
    "start_time": "2022-03-06T18:44:19.728Z"
   },
   {
    "duration": 654,
    "start_time": "2022-03-06T18:44:21.381Z"
   },
   {
    "duration": 645,
    "start_time": "2022-03-06T18:44:41.752Z"
   },
   {
    "duration": 25,
    "start_time": "2022-03-06T18:45:01.203Z"
   },
   {
    "duration": 36,
    "start_time": "2022-03-06T18:45:02.894Z"
   },
   {
    "duration": 691,
    "start_time": "2022-03-06T18:45:08.494Z"
   },
   {
    "duration": 7,
    "start_time": "2022-03-06T18:45:58.915Z"
   },
   {
    "duration": 1564,
    "start_time": "2022-03-06T18:46:25.602Z"
   },
   {
    "duration": 82,
    "start_time": "2022-03-06T18:46:27.168Z"
   },
   {
    "duration": 24,
    "start_time": "2022-03-06T18:46:27.253Z"
   },
   {
    "duration": 4,
    "start_time": "2022-03-06T18:46:27.280Z"
   },
   {
    "duration": 14,
    "start_time": "2022-03-06T18:46:27.286Z"
   },
   {
    "duration": 32,
    "start_time": "2022-03-06T18:46:27.302Z"
   },
   {
    "duration": 8,
    "start_time": "2022-03-06T18:46:27.337Z"
   },
   {
    "duration": 7,
    "start_time": "2022-03-06T18:46:27.349Z"
   },
   {
    "duration": 33,
    "start_time": "2022-03-06T18:46:27.359Z"
   },
   {
    "duration": 43,
    "start_time": "2022-03-06T18:46:27.395Z"
   },
   {
    "duration": 24,
    "start_time": "2022-03-06T18:46:27.441Z"
   },
   {
    "duration": 14,
    "start_time": "2022-03-06T18:46:27.467Z"
   },
   {
    "duration": 52,
    "start_time": "2022-03-06T18:46:27.484Z"
   },
   {
    "duration": 3,
    "start_time": "2022-03-06T18:46:27.538Z"
   },
   {
    "duration": 1350,
    "start_time": "2022-03-06T18:46:27.543Z"
   },
   {
    "duration": 7,
    "start_time": "2022-03-06T18:46:28.895Z"
   },
   {
    "duration": 488,
    "start_time": "2022-03-06T18:46:28.904Z"
   },
   {
    "duration": 2357,
    "start_time": "2022-03-06T18:46:29.395Z"
   },
   {
    "duration": 22,
    "start_time": "2022-03-06T18:46:31.754Z"
   },
   {
    "duration": 21,
    "start_time": "2022-03-06T18:46:31.778Z"
   },
   {
    "duration": 3,
    "start_time": "2022-03-06T18:46:31.833Z"
   },
   {
    "duration": 1002,
    "start_time": "2022-03-06T18:46:31.839Z"
   },
   {
    "duration": 6,
    "start_time": "2022-03-06T18:46:32.847Z"
   },
   {
    "duration": 4,
    "start_time": "2022-03-06T18:46:32.857Z"
   },
   {
    "duration": 557,
    "start_time": "2022-03-06T18:46:32.864Z"
   },
   {
    "duration": 12,
    "start_time": "2022-03-06T18:46:33.423Z"
   },
   {
    "duration": 37,
    "start_time": "2022-03-06T18:46:33.438Z"
   },
   {
    "duration": 446,
    "start_time": "2022-03-06T18:46:33.477Z"
   },
   {
    "duration": -292,
    "start_time": "2022-03-06T18:46:34.217Z"
   },
   {
    "duration": -294,
    "start_time": "2022-03-06T18:46:34.221Z"
   },
   {
    "duration": -298,
    "start_time": "2022-03-06T18:46:34.226Z"
   },
   {
    "duration": -300,
    "start_time": "2022-03-06T18:46:34.230Z"
   },
   {
    "duration": -302,
    "start_time": "2022-03-06T18:46:34.234Z"
   },
   {
    "duration": -305,
    "start_time": "2022-03-06T18:46:34.238Z"
   },
   {
    "duration": -308,
    "start_time": "2022-03-06T18:46:34.242Z"
   },
   {
    "duration": -312,
    "start_time": "2022-03-06T18:46:34.247Z"
   },
   {
    "duration": -315,
    "start_time": "2022-03-06T18:46:34.251Z"
   },
   {
    "duration": -317,
    "start_time": "2022-03-06T18:46:34.255Z"
   },
   {
    "duration": -320,
    "start_time": "2022-03-06T18:46:34.259Z"
   },
   {
    "duration": -324,
    "start_time": "2022-03-06T18:46:34.264Z"
   },
   {
    "duration": -326,
    "start_time": "2022-03-06T18:46:34.268Z"
   },
   {
    "duration": -329,
    "start_time": "2022-03-06T18:46:34.272Z"
   },
   {
    "duration": -333,
    "start_time": "2022-03-06T18:46:34.277Z"
   },
   {
    "duration": -335,
    "start_time": "2022-03-06T18:46:34.281Z"
   },
   {
    "duration": -339,
    "start_time": "2022-03-06T18:46:34.286Z"
   },
   {
    "duration": -343,
    "start_time": "2022-03-06T18:46:34.291Z"
   },
   {
    "duration": -344,
    "start_time": "2022-03-06T18:46:34.294Z"
   },
   {
    "duration": -348,
    "start_time": "2022-03-06T18:46:34.299Z"
   },
   {
    "duration": -351,
    "start_time": "2022-03-06T18:46:34.303Z"
   },
   {
    "duration": -365,
    "start_time": "2022-03-06T18:46:34.318Z"
   },
   {
    "duration": -369,
    "start_time": "2022-03-06T18:46:34.323Z"
   },
   {
    "duration": -371,
    "start_time": "2022-03-06T18:46:34.327Z"
   },
   {
    "duration": -374,
    "start_time": "2022-03-06T18:46:34.331Z"
   },
   {
    "duration": -377,
    "start_time": "2022-03-06T18:46:34.335Z"
   },
   {
    "duration": -379,
    "start_time": "2022-03-06T18:46:34.339Z"
   },
   {
    "duration": -382,
    "start_time": "2022-03-06T18:46:34.343Z"
   },
   {
    "duration": -384,
    "start_time": "2022-03-06T18:46:34.347Z"
   },
   {
    "duration": -388,
    "start_time": "2022-03-06T18:46:34.352Z"
   },
   {
    "duration": -390,
    "start_time": "2022-03-06T18:46:34.355Z"
   },
   {
    "duration": -393,
    "start_time": "2022-03-06T18:46:34.360Z"
   },
   {
    "duration": -397,
    "start_time": "2022-03-06T18:46:34.365Z"
   },
   {
    "duration": -400,
    "start_time": "2022-03-06T18:46:34.369Z"
   },
   {
    "duration": -402,
    "start_time": "2022-03-06T18:46:34.373Z"
   },
   {
    "duration": 1449,
    "start_time": "2022-03-06T18:47:04.071Z"
   },
   {
    "duration": 83,
    "start_time": "2022-03-06T18:47:05.523Z"
   },
   {
    "duration": 32,
    "start_time": "2022-03-06T18:47:05.609Z"
   },
   {
    "duration": 4,
    "start_time": "2022-03-06T18:47:05.643Z"
   },
   {
    "duration": 13,
    "start_time": "2022-03-06T18:47:05.649Z"
   },
   {
    "duration": 4,
    "start_time": "2022-03-06T18:47:05.665Z"
   },
   {
    "duration": 7,
    "start_time": "2022-03-06T18:47:05.672Z"
   },
   {
    "duration": 6,
    "start_time": "2022-03-06T18:47:05.683Z"
   },
   {
    "duration": 34,
    "start_time": "2022-03-06T18:47:05.732Z"
   },
   {
    "duration": 7,
    "start_time": "2022-03-06T18:47:05.768Z"
   },
   {
    "duration": 23,
    "start_time": "2022-03-06T18:47:05.777Z"
   },
   {
    "duration": 14,
    "start_time": "2022-03-06T18:47:05.832Z"
   },
   {
    "duration": 15,
    "start_time": "2022-03-06T18:47:05.849Z"
   },
   {
    "duration": 4,
    "start_time": "2022-03-06T18:47:05.867Z"
   },
   {
    "duration": 1304,
    "start_time": "2022-03-06T18:47:05.873Z"
   },
   {
    "duration": 7,
    "start_time": "2022-03-06T18:47:07.180Z"
   },
   {
    "duration": 466,
    "start_time": "2022-03-06T18:47:07.189Z"
   },
   {
    "duration": 2333,
    "start_time": "2022-03-06T18:47:07.658Z"
   },
   {
    "duration": 22,
    "start_time": "2022-03-06T18:47:09.993Z"
   },
   {
    "duration": 27,
    "start_time": "2022-03-06T18:47:10.033Z"
   },
   {
    "duration": 3,
    "start_time": "2022-03-06T18:47:10.062Z"
   },
   {
    "duration": 1096,
    "start_time": "2022-03-06T18:47:10.067Z"
   },
   {
    "duration": 6,
    "start_time": "2022-03-06T18:47:11.173Z"
   },
   {
    "duration": 4,
    "start_time": "2022-03-06T18:47:11.184Z"
   },
   {
    "duration": 623,
    "start_time": "2022-03-06T18:47:11.191Z"
   },
   {
    "duration": 20,
    "start_time": "2022-03-06T18:47:11.818Z"
   },
   {
    "duration": 46,
    "start_time": "2022-03-06T18:47:11.848Z"
   },
   {
    "duration": 653,
    "start_time": "2022-03-06T18:47:11.896Z"
   },
   {
    "duration": 19,
    "start_time": "2022-03-06T18:47:12.552Z"
   },
   {
    "duration": 317,
    "start_time": "2022-03-06T18:47:12.573Z"
   },
   {
    "duration": 11,
    "start_time": "2022-03-06T18:47:12.892Z"
   },
   {
    "duration": 37,
    "start_time": "2022-03-06T18:47:12.905Z"
   },
   {
    "duration": 14,
    "start_time": "2022-03-06T18:47:12.945Z"
   },
   {
    "duration": 25,
    "start_time": "2022-03-06T18:47:12.961Z"
   },
   {
    "duration": 509,
    "start_time": "2022-03-06T18:47:12.989Z"
   },
   {
    "duration": 6,
    "start_time": "2022-03-06T18:47:13.500Z"
   },
   {
    "duration": 488,
    "start_time": "2022-03-06T18:47:13.509Z"
   },
   {
    "duration": 7,
    "start_time": "2022-03-06T18:47:14.001Z"
   },
   {
    "duration": 360,
    "start_time": "2022-03-06T18:47:14.011Z"
   },
   {
    "duration": 871,
    "start_time": "2022-03-06T18:47:14.374Z"
   },
   {
    "duration": 312,
    "start_time": "2022-03-06T18:47:15.247Z"
   },
   {
    "duration": 20,
    "start_time": "2022-03-06T18:47:15.561Z"
   },
   {
    "duration": 22,
    "start_time": "2022-03-06T18:47:15.583Z"
   },
   {
    "duration": 20,
    "start_time": "2022-03-06T18:47:15.632Z"
   },
   {
    "duration": 18,
    "start_time": "2022-03-06T18:47:15.654Z"
   },
   {
    "duration": 139,
    "start_time": "2022-03-06T18:47:15.674Z"
   },
   {
    "duration": 31,
    "start_time": "2022-03-06T18:47:15.815Z"
   },
   {
    "duration": 21,
    "start_time": "2022-03-06T18:47:15.849Z"
   },
   {
    "duration": 19,
    "start_time": "2022-03-06T18:47:15.873Z"
   },
   {
    "duration": 22,
    "start_time": "2022-03-06T18:47:15.932Z"
   },
   {
    "duration": 19,
    "start_time": "2022-03-06T18:47:15.956Z"
   },
   {
    "duration": 18,
    "start_time": "2022-03-06T18:47:15.978Z"
   },
   {
    "duration": 52,
    "start_time": "2022-03-06T18:47:15.998Z"
   },
   {
    "duration": 20,
    "start_time": "2022-03-06T18:47:16.053Z"
   },
   {
    "duration": 20,
    "start_time": "2022-03-06T18:47:16.075Z"
   },
   {
    "duration": 51,
    "start_time": "2022-03-06T18:47:16.098Z"
   },
   {
    "duration": 9,
    "start_time": "2022-03-06T18:47:16.151Z"
   },
   {
    "duration": 12,
    "start_time": "2022-03-06T18:47:16.162Z"
   },
   {
    "duration": 12,
    "start_time": "2022-03-06T18:47:16.176Z"
   },
   {
    "duration": 43,
    "start_time": "2022-03-06T18:47:16.190Z"
   },
   {
    "duration": 14,
    "start_time": "2022-03-06T18:47:16.236Z"
   },
   {
    "duration": 13,
    "start_time": "2022-03-06T18:47:16.252Z"
   },
   {
    "duration": 8,
    "start_time": "2022-03-06T18:47:16.267Z"
   },
   {
    "duration": 587,
    "start_time": "2022-03-06T18:47:35.703Z"
   },
   {
    "duration": 21,
    "start_time": "2022-03-06T18:47:50.159Z"
   },
   {
    "duration": 590,
    "start_time": "2022-03-06T18:48:05.177Z"
   },
   {
    "duration": 534,
    "start_time": "2022-03-06T18:48:13.557Z"
   },
   {
    "duration": 673,
    "start_time": "2022-03-06T18:54:31.182Z"
   },
   {
    "duration": 91,
    "start_time": "2022-03-06T18:54:59.265Z"
   },
   {
    "duration": 7852,
    "start_time": "2022-03-06T18:57:08.433Z"
   },
   {
    "duration": 284,
    "start_time": "2022-03-06T19:03:54.537Z"
   },
   {
    "duration": 529,
    "start_time": "2022-03-06T19:04:15.924Z"
   },
   {
    "duration": 96,
    "start_time": "2022-03-06T19:04:45.217Z"
   },
   {
    "duration": 1093,
    "start_time": "2022-03-06T19:04:53.816Z"
   },
   {
    "duration": 533,
    "start_time": "2022-03-06T19:06:11.323Z"
   },
   {
    "duration": 534,
    "start_time": "2022-03-06T19:06:20.754Z"
   },
   {
    "duration": 276,
    "start_time": "2022-03-06T19:06:23.499Z"
   },
   {
    "duration": 1498,
    "start_time": "2022-03-06T19:06:36.738Z"
   },
   {
    "duration": 80,
    "start_time": "2022-03-06T19:06:38.239Z"
   },
   {
    "duration": 23,
    "start_time": "2022-03-06T19:06:38.322Z"
   },
   {
    "duration": 4,
    "start_time": "2022-03-06T19:06:38.347Z"
   },
   {
    "duration": 30,
    "start_time": "2022-03-06T19:06:38.353Z"
   },
   {
    "duration": 12,
    "start_time": "2022-03-06T19:06:38.385Z"
   },
   {
    "duration": 12,
    "start_time": "2022-03-06T19:06:38.400Z"
   },
   {
    "duration": 19,
    "start_time": "2022-03-06T19:06:38.415Z"
   },
   {
    "duration": 35,
    "start_time": "2022-03-06T19:06:38.437Z"
   },
   {
    "duration": 6,
    "start_time": "2022-03-06T19:06:38.475Z"
   },
   {
    "duration": 52,
    "start_time": "2022-03-06T19:06:38.484Z"
   },
   {
    "duration": 14,
    "start_time": "2022-03-06T19:06:38.539Z"
   },
   {
    "duration": 14,
    "start_time": "2022-03-06T19:06:38.555Z"
   },
   {
    "duration": 14,
    "start_time": "2022-03-06T19:06:38.572Z"
   },
   {
    "duration": 1273,
    "start_time": "2022-03-06T19:06:38.588Z"
   },
   {
    "duration": 6,
    "start_time": "2022-03-06T19:06:39.864Z"
   },
   {
    "duration": 484,
    "start_time": "2022-03-06T19:06:39.873Z"
   },
   {
    "duration": 2172,
    "start_time": "2022-03-06T19:06:40.360Z"
   },
   {
    "duration": 23,
    "start_time": "2022-03-06T19:06:42.535Z"
   },
   {
    "duration": 24,
    "start_time": "2022-03-06T19:06:42.561Z"
   },
   {
    "duration": 3,
    "start_time": "2022-03-06T19:06:42.587Z"
   },
   {
    "duration": 1044,
    "start_time": "2022-03-06T19:06:42.592Z"
   },
   {
    "duration": 6,
    "start_time": "2022-03-06T19:06:43.643Z"
   },
   {
    "duration": 5,
    "start_time": "2022-03-06T19:06:43.652Z"
   },
   {
    "duration": 555,
    "start_time": "2022-03-06T19:06:43.659Z"
   },
   {
    "duration": 17,
    "start_time": "2022-03-06T19:06:44.217Z"
   },
   {
    "duration": 19,
    "start_time": "2022-03-06T19:06:44.236Z"
   },
   {
    "duration": 550,
    "start_time": "2022-03-06T19:06:44.257Z"
   },
   {
    "duration": 557,
    "start_time": "2022-03-06T19:06:44.809Z"
   },
   {
    "duration": 425,
    "start_time": "2022-03-06T19:06:45.368Z"
   },
   {
    "duration": -260,
    "start_time": "2022-03-06T19:06:46.056Z"
   },
   {
    "duration": -265,
    "start_time": "2022-03-06T19:06:46.062Z"
   },
   {
    "duration": -271,
    "start_time": "2022-03-06T19:06:46.070Z"
   },
   {
    "duration": -274,
    "start_time": "2022-03-06T19:06:46.074Z"
   },
   {
    "duration": -278,
    "start_time": "2022-03-06T19:06:46.079Z"
   },
   {
    "duration": -281,
    "start_time": "2022-03-06T19:06:46.084Z"
   },
   {
    "duration": -285,
    "start_time": "2022-03-06T19:06:46.089Z"
   },
   {
    "duration": -288,
    "start_time": "2022-03-06T19:06:46.093Z"
   },
   {
    "duration": -291,
    "start_time": "2022-03-06T19:06:46.098Z"
   },
   {
    "duration": -294,
    "start_time": "2022-03-06T19:06:46.103Z"
   },
   {
    "duration": -298,
    "start_time": "2022-03-06T19:06:46.108Z"
   },
   {
    "duration": -302,
    "start_time": "2022-03-06T19:06:46.113Z"
   },
   {
    "duration": -305,
    "start_time": "2022-03-06T19:06:46.118Z"
   },
   {
    "duration": -308,
    "start_time": "2022-03-06T19:06:46.122Z"
   },
   {
    "duration": -311,
    "start_time": "2022-03-06T19:06:46.126Z"
   },
   {
    "duration": -312,
    "start_time": "2022-03-06T19:06:46.129Z"
   },
   {
    "duration": -315,
    "start_time": "2022-03-06T19:06:46.134Z"
   },
   {
    "duration": -316,
    "start_time": "2022-03-06T19:06:46.137Z"
   },
   {
    "duration": -327,
    "start_time": "2022-03-06T19:06:46.149Z"
   },
   {
    "duration": -331,
    "start_time": "2022-03-06T19:06:46.154Z"
   },
   {
    "duration": -333,
    "start_time": "2022-03-06T19:06:46.158Z"
   },
   {
    "duration": -336,
    "start_time": "2022-03-06T19:06:46.162Z"
   },
   {
    "duration": -339,
    "start_time": "2022-03-06T19:06:46.166Z"
   },
   {
    "duration": -341,
    "start_time": "2022-03-06T19:06:46.170Z"
   },
   {
    "duration": -345,
    "start_time": "2022-03-06T19:06:46.175Z"
   },
   {
    "duration": -348,
    "start_time": "2022-03-06T19:06:46.179Z"
   },
   {
    "duration": -351,
    "start_time": "2022-03-06T19:06:46.184Z"
   },
   {
    "duration": -354,
    "start_time": "2022-03-06T19:06:46.188Z"
   },
   {
    "duration": -357,
    "start_time": "2022-03-06T19:06:46.192Z"
   },
   {
    "duration": -359,
    "start_time": "2022-03-06T19:06:46.196Z"
   },
   {
    "duration": -362,
    "start_time": "2022-03-06T19:06:46.200Z"
   },
   {
    "duration": -365,
    "start_time": "2022-03-06T19:06:46.204Z"
   },
   {
    "duration": -369,
    "start_time": "2022-03-06T19:06:46.209Z"
   },
   {
    "duration": 276,
    "start_time": "2022-03-06T19:07:05.414Z"
   },
   {
    "duration": 295,
    "start_time": "2022-03-06T19:07:24.776Z"
   },
   {
    "duration": 91,
    "start_time": "2022-03-06T19:09:22.826Z"
   },
   {
    "duration": 286,
    "start_time": "2022-03-06T19:09:35.932Z"
   },
   {
    "duration": 531,
    "start_time": "2022-03-06T19:11:25.782Z"
   },
   {
    "duration": 272,
    "start_time": "2022-03-06T19:12:32.129Z"
   },
   {
    "duration": 262,
    "start_time": "2022-03-06T19:12:39.144Z"
   },
   {
    "duration": 332,
    "start_time": "2022-03-06T19:24:35.482Z"
   },
   {
    "duration": 745,
    "start_time": "2022-03-06T19:24:44.920Z"
   },
   {
    "duration": 732,
    "start_time": "2022-03-06T19:25:00.376Z"
   },
   {
    "duration": 742,
    "start_time": "2022-03-06T19:25:14.256Z"
   },
   {
    "duration": 712,
    "start_time": "2022-03-06T19:25:23.215Z"
   },
   {
    "duration": 727,
    "start_time": "2022-03-06T19:25:30.320Z"
   },
   {
    "duration": 1035,
    "start_time": "2022-03-06T19:25:42.282Z"
   },
   {
    "duration": 757,
    "start_time": "2022-03-06T19:26:21.640Z"
   },
   {
    "duration": 957,
    "start_time": "2022-03-06T19:27:17.493Z"
   },
   {
    "duration": 12,
    "start_time": "2022-03-06T19:28:05.742Z"
   },
   {
    "duration": 1488,
    "start_time": "2022-03-06T19:28:19.415Z"
   },
   {
    "duration": 81,
    "start_time": "2022-03-06T19:28:20.906Z"
   },
   {
    "duration": 40,
    "start_time": "2022-03-06T19:28:20.993Z"
   },
   {
    "duration": 3,
    "start_time": "2022-03-06T19:28:21.036Z"
   },
   {
    "duration": 12,
    "start_time": "2022-03-06T19:28:21.042Z"
   },
   {
    "duration": 4,
    "start_time": "2022-03-06T19:28:21.056Z"
   },
   {
    "duration": 7,
    "start_time": "2022-03-06T19:28:21.064Z"
   },
   {
    "duration": 9,
    "start_time": "2022-03-06T19:28:21.074Z"
   },
   {
    "duration": 74,
    "start_time": "2022-03-06T19:28:21.085Z"
   },
   {
    "duration": 8,
    "start_time": "2022-03-06T19:28:21.161Z"
   },
   {
    "duration": 22,
    "start_time": "2022-03-06T19:28:21.171Z"
   },
   {
    "duration": 45,
    "start_time": "2022-03-06T19:28:21.196Z"
   },
   {
    "duration": 14,
    "start_time": "2022-03-06T19:28:21.244Z"
   },
   {
    "duration": 3,
    "start_time": "2022-03-06T19:28:21.260Z"
   },
   {
    "duration": 1256,
    "start_time": "2022-03-06T19:28:21.265Z"
   },
   {
    "duration": 11,
    "start_time": "2022-03-06T19:28:22.523Z"
   },
   {
    "duration": 462,
    "start_time": "2022-03-06T19:28:22.536Z"
   },
   {
    "duration": 2275,
    "start_time": "2022-03-06T19:28:23.001Z"
   },
   {
    "duration": 21,
    "start_time": "2022-03-06T19:28:25.278Z"
   },
   {
    "duration": 40,
    "start_time": "2022-03-06T19:28:25.301Z"
   },
   {
    "duration": 3,
    "start_time": "2022-03-06T19:28:25.344Z"
   },
   {
    "duration": 1037,
    "start_time": "2022-03-06T19:28:25.353Z"
   },
   {
    "duration": 6,
    "start_time": "2022-03-06T19:28:26.393Z"
   },
   {
    "duration": 5,
    "start_time": "2022-03-06T19:28:26.401Z"
   },
   {
    "duration": 562,
    "start_time": "2022-03-06T19:28:26.409Z"
   },
   {
    "duration": 7,
    "start_time": "2022-03-06T19:28:26.973Z"
   },
   {
    "duration": 20,
    "start_time": "2022-03-06T19:28:26.983Z"
   },
   {
    "duration": 567,
    "start_time": "2022-03-06T19:28:27.006Z"
   },
   {
    "duration": 1045,
    "start_time": "2022-03-06T19:28:27.577Z"
   },
   {
    "duration": 793,
    "start_time": "2022-03-06T19:28:28.625Z"
   },
   {
    "duration": 15,
    "start_time": "2022-03-06T19:28:29.421Z"
   },
   {
    "duration": 11,
    "start_time": "2022-03-06T19:28:29.439Z"
   },
   {
    "duration": 10,
    "start_time": "2022-03-06T19:28:29.452Z"
   },
   {
    "duration": 25,
    "start_time": "2022-03-06T19:28:29.464Z"
   },
   {
    "duration": 703,
    "start_time": "2022-03-06T19:28:29.492Z"
   },
   {
    "duration": 6,
    "start_time": "2022-03-06T19:28:30.198Z"
   },
   {
    "duration": 573,
    "start_time": "2022-03-06T19:28:30.206Z"
   },
   {
    "duration": 6,
    "start_time": "2022-03-06T19:28:30.781Z"
   },
   {
    "duration": 330,
    "start_time": "2022-03-06T19:28:30.789Z"
   },
   {
    "duration": 863,
    "start_time": "2022-03-06T19:28:31.121Z"
   },
   {
    "duration": 405,
    "start_time": "2022-03-06T19:28:31.987Z"
   },
   {
    "duration": 21,
    "start_time": "2022-03-06T19:28:32.395Z"
   },
   {
    "duration": 32,
    "start_time": "2022-03-06T19:28:32.418Z"
   },
   {
    "duration": 19,
    "start_time": "2022-03-06T19:28:32.453Z"
   },
   {
    "duration": 20,
    "start_time": "2022-03-06T19:28:32.475Z"
   },
   {
    "duration": 20,
    "start_time": "2022-03-06T19:28:32.533Z"
   },
   {
    "duration": 20,
    "start_time": "2022-03-06T19:28:32.556Z"
   },
   {
    "duration": 19,
    "start_time": "2022-03-06T19:28:32.578Z"
   },
   {
    "duration": 49,
    "start_time": "2022-03-06T19:28:32.600Z"
   },
   {
    "duration": 20,
    "start_time": "2022-03-06T19:28:32.651Z"
   },
   {
    "duration": 20,
    "start_time": "2022-03-06T19:28:32.673Z"
   },
   {
    "duration": 55,
    "start_time": "2022-03-06T19:28:32.695Z"
   },
   {
    "duration": 22,
    "start_time": "2022-03-06T19:28:32.752Z"
   },
   {
    "duration": 19,
    "start_time": "2022-03-06T19:28:32.777Z"
   },
   {
    "duration": 50,
    "start_time": "2022-03-06T19:28:32.799Z"
   },
   {
    "duration": 21,
    "start_time": "2022-03-06T19:28:32.852Z"
   },
   {
    "duration": 10,
    "start_time": "2022-03-06T19:28:32.875Z"
   },
   {
    "duration": 52,
    "start_time": "2022-03-06T19:28:32.888Z"
   },
   {
    "duration": 14,
    "start_time": "2022-03-06T19:28:32.942Z"
   },
   {
    "duration": 7,
    "start_time": "2022-03-06T19:28:32.959Z"
   },
   {
    "duration": 16,
    "start_time": "2022-03-06T19:28:32.969Z"
   },
   {
    "duration": 51,
    "start_time": "2022-03-06T19:28:32.987Z"
   },
   {
    "duration": 8,
    "start_time": "2022-03-06T19:28:33.040Z"
   },
   {
    "duration": 27,
    "start_time": "2022-03-06T19:34:45.777Z"
   },
   {
    "duration": 1516,
    "start_time": "2022-03-06T19:34:50.754Z"
   },
   {
    "duration": 84,
    "start_time": "2022-03-06T19:34:52.273Z"
   },
   {
    "duration": 25,
    "start_time": "2022-03-06T19:34:52.359Z"
   },
   {
    "duration": 3,
    "start_time": "2022-03-06T19:34:52.387Z"
   },
   {
    "duration": 40,
    "start_time": "2022-03-06T19:34:52.393Z"
   },
   {
    "duration": 5,
    "start_time": "2022-03-06T19:34:52.435Z"
   },
   {
    "duration": 7,
    "start_time": "2022-03-06T19:34:52.443Z"
   },
   {
    "duration": 8,
    "start_time": "2022-03-06T19:34:52.454Z"
   },
   {
    "duration": 79,
    "start_time": "2022-03-06T19:34:52.466Z"
   },
   {
    "duration": 7,
    "start_time": "2022-03-06T19:34:52.548Z"
   },
   {
    "duration": 25,
    "start_time": "2022-03-06T19:34:52.557Z"
   },
   {
    "duration": 13,
    "start_time": "2022-03-06T19:34:52.585Z"
   },
   {
    "duration": 17,
    "start_time": "2022-03-06T19:34:52.633Z"
   },
   {
    "duration": 3,
    "start_time": "2022-03-06T19:34:52.652Z"
   },
   {
    "duration": 1329,
    "start_time": "2022-03-06T19:34:52.657Z"
   },
   {
    "duration": 7,
    "start_time": "2022-03-06T19:34:53.988Z"
   },
   {
    "duration": 486,
    "start_time": "2022-03-06T19:34:53.998Z"
   },
   {
    "duration": 2274,
    "start_time": "2022-03-06T19:34:54.486Z"
   },
   {
    "duration": 22,
    "start_time": "2022-03-06T19:34:56.764Z"
   },
   {
    "duration": 52,
    "start_time": "2022-03-06T19:34:56.789Z"
   },
   {
    "duration": 3,
    "start_time": "2022-03-06T19:34:56.844Z"
   },
   {
    "duration": 1064,
    "start_time": "2022-03-06T19:34:56.850Z"
   },
   {
    "duration": 6,
    "start_time": "2022-03-06T19:34:57.933Z"
   },
   {
    "duration": 7,
    "start_time": "2022-03-06T19:34:57.942Z"
   },
   {
    "duration": 550,
    "start_time": "2022-03-06T19:34:57.951Z"
   },
   {
    "duration": 8,
    "start_time": "2022-03-06T19:34:58.504Z"
   },
   {
    "duration": 36,
    "start_time": "2022-03-06T19:34:58.514Z"
   },
   {
    "duration": 538,
    "start_time": "2022-03-06T19:34:58.553Z"
   },
   {
    "duration": 986,
    "start_time": "2022-03-06T19:34:59.093Z"
   },
   {
    "duration": 740,
    "start_time": "2022-03-06T19:35:00.082Z"
   },
   {
    "duration": 16,
    "start_time": "2022-03-06T19:35:00.825Z"
   },
   {
    "duration": 27,
    "start_time": "2022-03-06T19:35:00.844Z"
   },
   {
    "duration": 16,
    "start_time": "2022-03-06T19:35:00.874Z"
   },
   {
    "duration": 45,
    "start_time": "2022-03-06T19:35:00.893Z"
   },
   {
    "duration": 477,
    "start_time": "2022-03-06T19:35:00.941Z"
   },
   {
    "duration": 14,
    "start_time": "2022-03-06T19:35:01.421Z"
   },
   {
    "duration": 441,
    "start_time": "2022-03-06T19:35:01.439Z"
   },
   {
    "duration": 5,
    "start_time": "2022-03-06T19:35:01.883Z"
   },
   {
    "duration": 357,
    "start_time": "2022-03-06T19:35:01.891Z"
   },
   {
    "duration": 906,
    "start_time": "2022-03-06T19:35:02.251Z"
   },
   {
    "duration": 419,
    "start_time": "2022-03-06T19:35:03.159Z"
   },
   {
    "duration": 21,
    "start_time": "2022-03-06T19:35:03.580Z"
   },
   {
    "duration": 45,
    "start_time": "2022-03-06T19:35:03.604Z"
   },
   {
    "duration": 21,
    "start_time": "2022-03-06T19:35:03.651Z"
   },
   {
    "duration": 22,
    "start_time": "2022-03-06T19:35:03.676Z"
   },
   {
    "duration": 50,
    "start_time": "2022-03-06T19:35:03.701Z"
   },
   {
    "duration": 23,
    "start_time": "2022-03-06T19:35:03.753Z"
   },
   {
    "duration": 54,
    "start_time": "2022-03-06T19:35:03.778Z"
   },
   {
    "duration": 20,
    "start_time": "2022-03-06T19:35:03.835Z"
   },
   {
    "duration": 24,
    "start_time": "2022-03-06T19:35:03.858Z"
   },
   {
    "duration": 49,
    "start_time": "2022-03-06T19:35:03.884Z"
   },
   {
    "duration": 20,
    "start_time": "2022-03-06T19:35:03.936Z"
   },
   {
    "duration": 18,
    "start_time": "2022-03-06T19:35:03.959Z"
   },
   {
    "duration": 53,
    "start_time": "2022-03-06T19:35:03.980Z"
   },
   {
    "duration": 20,
    "start_time": "2022-03-06T19:35:04.035Z"
   },
   {
    "duration": 20,
    "start_time": "2022-03-06T19:35:04.058Z"
   },
   {
    "duration": 6,
    "start_time": "2022-03-06T19:35:04.081Z"
   },
   {
    "duration": 49,
    "start_time": "2022-03-06T19:35:04.089Z"
   },
   {
    "duration": 11,
    "start_time": "2022-03-06T19:35:04.141Z"
   },
   {
    "duration": 7,
    "start_time": "2022-03-06T19:35:04.154Z"
   },
   {
    "duration": 18,
    "start_time": "2022-03-06T19:35:04.163Z"
   },
   {
    "duration": 13,
    "start_time": "2022-03-06T19:35:04.183Z"
   },
   {
    "duration": 40,
    "start_time": "2022-03-06T19:35:04.198Z"
   },
   {
    "duration": 1115,
    "start_time": "2022-03-06T19:36:13.104Z"
   },
   {
    "duration": 1488,
    "start_time": "2022-03-06T19:38:50.604Z"
   },
   {
    "duration": 91,
    "start_time": "2022-03-06T19:38:52.095Z"
   },
   {
    "duration": 22,
    "start_time": "2022-03-06T19:38:52.189Z"
   },
   {
    "duration": 19,
    "start_time": "2022-03-06T19:38:52.213Z"
   },
   {
    "duration": 15,
    "start_time": "2022-03-06T19:38:52.236Z"
   },
   {
    "duration": 4,
    "start_time": "2022-03-06T19:38:52.254Z"
   },
   {
    "duration": 13,
    "start_time": "2022-03-06T19:38:52.260Z"
   },
   {
    "duration": 6,
    "start_time": "2022-03-06T19:38:52.277Z"
   },
   {
    "duration": 75,
    "start_time": "2022-03-06T19:38:52.286Z"
   },
   {
    "duration": 8,
    "start_time": "2022-03-06T19:38:52.364Z"
   },
   {
    "duration": 24,
    "start_time": "2022-03-06T19:38:52.374Z"
   },
   {
    "duration": 43,
    "start_time": "2022-03-06T19:38:52.401Z"
   },
   {
    "duration": 15,
    "start_time": "2022-03-06T19:38:52.446Z"
   },
   {
    "duration": 3,
    "start_time": "2022-03-06T19:38:52.464Z"
   },
   {
    "duration": 1504,
    "start_time": "2022-03-06T19:38:52.469Z"
   },
   {
    "duration": 7,
    "start_time": "2022-03-06T19:38:53.975Z"
   },
   {
    "duration": 470,
    "start_time": "2022-03-06T19:38:53.984Z"
   },
   {
    "duration": 2165,
    "start_time": "2022-03-06T19:38:54.457Z"
   },
   {
    "duration": 21,
    "start_time": "2022-03-06T19:38:56.624Z"
   },
   {
    "duration": 22,
    "start_time": "2022-03-06T19:38:56.648Z"
   },
   {
    "duration": 3,
    "start_time": "2022-03-06T19:38:56.672Z"
   },
   {
    "duration": 1028,
    "start_time": "2022-03-06T19:38:56.677Z"
   },
   {
    "duration": 20,
    "start_time": "2022-03-06T19:38:57.712Z"
   },
   {
    "duration": 3,
    "start_time": "2022-03-06T19:38:57.735Z"
   },
   {
    "duration": 561,
    "start_time": "2022-03-06T19:38:57.740Z"
   },
   {
    "duration": 10,
    "start_time": "2022-03-06T19:38:58.304Z"
   },
   {
    "duration": 22,
    "start_time": "2022-03-06T19:38:58.332Z"
   },
   {
    "duration": 581,
    "start_time": "2022-03-06T19:38:58.357Z"
   },
   {
    "duration": 981,
    "start_time": "2022-03-06T19:38:58.941Z"
   },
   {
    "duration": 754,
    "start_time": "2022-03-06T19:38:59.924Z"
   },
   {
    "duration": 11,
    "start_time": "2022-03-06T19:39:00.681Z"
   },
   {
    "duration": 39,
    "start_time": "2022-03-06T19:39:00.695Z"
   },
   {
    "duration": 18,
    "start_time": "2022-03-06T19:39:00.737Z"
   },
   {
    "duration": 32,
    "start_time": "2022-03-06T19:39:00.758Z"
   },
   {
    "duration": 512,
    "start_time": "2022-03-06T19:39:00.793Z"
   },
   {
    "duration": 6,
    "start_time": "2022-03-06T19:39:01.307Z"
   },
   {
    "duration": 463,
    "start_time": "2022-03-06T19:39:01.316Z"
   },
   {
    "duration": 5,
    "start_time": "2022-03-06T19:39:01.781Z"
   },
   {
    "duration": 345,
    "start_time": "2022-03-06T19:39:01.788Z"
   },
   {
    "duration": 1120,
    "start_time": "2022-03-06T19:39:02.136Z"
   },
   {
    "duration": 450,
    "start_time": "2022-03-06T19:39:03.258Z"
   },
   {
    "duration": 35,
    "start_time": "2022-03-06T19:39:03.710Z"
   },
   {
    "duration": 21,
    "start_time": "2022-03-06T19:39:03.747Z"
   },
   {
    "duration": 22,
    "start_time": "2022-03-06T19:39:03.771Z"
   },
   {
    "duration": 52,
    "start_time": "2022-03-06T19:39:03.796Z"
   },
   {
    "duration": 23,
    "start_time": "2022-03-06T19:39:03.850Z"
   },
   {
    "duration": 20,
    "start_time": "2022-03-06T19:39:03.876Z"
   },
   {
    "duration": 23,
    "start_time": "2022-03-06T19:39:03.932Z"
   },
   {
    "duration": 22,
    "start_time": "2022-03-06T19:39:03.957Z"
   },
   {
    "duration": 53,
    "start_time": "2022-03-06T19:39:03.981Z"
   },
   {
    "duration": 20,
    "start_time": "2022-03-06T19:39:04.037Z"
   },
   {
    "duration": 20,
    "start_time": "2022-03-06T19:39:04.059Z"
   },
   {
    "duration": 19,
    "start_time": "2022-03-06T19:39:04.081Z"
   },
   {
    "duration": 20,
    "start_time": "2022-03-06T19:39:04.132Z"
   },
   {
    "duration": 19,
    "start_time": "2022-03-06T19:39:04.154Z"
   },
   {
    "duration": 56,
    "start_time": "2022-03-06T19:39:04.176Z"
   },
   {
    "duration": 8,
    "start_time": "2022-03-06T19:39:04.236Z"
   },
   {
    "duration": 14,
    "start_time": "2022-03-06T19:39:04.247Z"
   },
   {
    "duration": 14,
    "start_time": "2022-03-06T19:39:04.263Z"
   },
   {
    "duration": 8,
    "start_time": "2022-03-06T19:39:04.279Z"
   },
   {
    "duration": 13,
    "start_time": "2022-03-06T19:39:04.333Z"
   },
   {
    "duration": 12,
    "start_time": "2022-03-06T19:39:04.348Z"
   },
   {
    "duration": 7,
    "start_time": "2022-03-06T19:39:04.363Z"
   },
   {
    "duration": 295,
    "start_time": "2022-03-06T19:42:53.833Z"
   },
   {
    "duration": 45,
    "start_time": "2022-03-06T19:48:06.097Z"
   },
   {
    "duration": 43,
    "start_time": "2022-03-06T19:48:20.579Z"
   },
   {
    "duration": 44,
    "start_time": "2022-03-06T19:48:48.203Z"
   },
   {
    "duration": 1525,
    "start_time": "2022-03-06T19:48:57.592Z"
   },
   {
    "duration": 82,
    "start_time": "2022-03-06T19:48:59.120Z"
   },
   {
    "duration": 39,
    "start_time": "2022-03-06T19:48:59.205Z"
   },
   {
    "duration": 4,
    "start_time": "2022-03-06T19:48:59.248Z"
   },
   {
    "duration": 16,
    "start_time": "2022-03-06T19:48:59.255Z"
   },
   {
    "duration": 6,
    "start_time": "2022-03-06T19:48:59.273Z"
   },
   {
    "duration": 12,
    "start_time": "2022-03-06T19:48:59.281Z"
   },
   {
    "duration": 8,
    "start_time": "2022-03-06T19:48:59.333Z"
   },
   {
    "duration": 36,
    "start_time": "2022-03-06T19:48:59.344Z"
   },
   {
    "duration": 7,
    "start_time": "2022-03-06T19:48:59.382Z"
   },
   {
    "duration": 62,
    "start_time": "2022-03-06T19:48:59.393Z"
   },
   {
    "duration": 16,
    "start_time": "2022-03-06T19:48:59.458Z"
   },
   {
    "duration": 19,
    "start_time": "2022-03-06T19:48:59.477Z"
   },
   {
    "duration": 3,
    "start_time": "2022-03-06T19:48:59.499Z"
   },
   {
    "duration": 1289,
    "start_time": "2022-03-06T19:48:59.532Z"
   },
   {
    "duration": 11,
    "start_time": "2022-03-06T19:49:00.823Z"
   },
   {
    "duration": 478,
    "start_time": "2022-03-06T19:49:00.837Z"
   },
   {
    "duration": 2168,
    "start_time": "2022-03-06T19:49:01.317Z"
   },
   {
    "duration": 19,
    "start_time": "2022-03-06T19:49:03.487Z"
   },
   {
    "duration": 40,
    "start_time": "2022-03-06T19:49:03.509Z"
   },
   {
    "duration": 4,
    "start_time": "2022-03-06T19:49:03.551Z"
   },
   {
    "duration": 1023,
    "start_time": "2022-03-06T19:49:03.558Z"
   },
   {
    "duration": 5,
    "start_time": "2022-03-06T19:49:04.587Z"
   },
   {
    "duration": 5,
    "start_time": "2022-03-06T19:49:04.595Z"
   },
   {
    "duration": 582,
    "start_time": "2022-03-06T19:49:04.603Z"
   },
   {
    "duration": 7,
    "start_time": "2022-03-06T19:49:05.187Z"
   },
   {
    "duration": 36,
    "start_time": "2022-03-06T19:49:05.196Z"
   },
   {
    "duration": 552,
    "start_time": "2022-03-06T19:49:05.235Z"
   },
   {
    "duration": 971,
    "start_time": "2022-03-06T19:49:05.789Z"
   },
   {
    "duration": 736,
    "start_time": "2022-03-06T19:49:06.763Z"
   },
   {
    "duration": 11,
    "start_time": "2022-03-06T19:49:07.501Z"
   },
   {
    "duration": 23,
    "start_time": "2022-03-06T19:49:07.514Z"
   },
   {
    "duration": 10,
    "start_time": "2022-03-06T19:49:07.540Z"
   },
   {
    "duration": 27,
    "start_time": "2022-03-06T19:49:07.552Z"
   },
   {
    "duration": 534,
    "start_time": "2022-03-06T19:49:07.581Z"
   },
   {
    "duration": 15,
    "start_time": "2022-03-06T19:49:08.118Z"
   },
   {
    "duration": 427,
    "start_time": "2022-03-06T19:49:08.137Z"
   },
   {
    "duration": 6,
    "start_time": "2022-03-06T19:49:08.566Z"
   },
   {
    "duration": 505,
    "start_time": "2022-03-06T19:49:08.574Z"
   },
   {
    "duration": 1860,
    "start_time": "2022-03-06T19:49:09.083Z"
   },
   {
    "duration": 388,
    "start_time": "2022-03-06T19:49:10.947Z"
   },
   {
    "duration": 21,
    "start_time": "2022-03-06T19:49:11.338Z"
   },
   {
    "duration": 23,
    "start_time": "2022-03-06T19:49:11.362Z"
   },
   {
    "duration": 54,
    "start_time": "2022-03-06T19:49:11.389Z"
   },
   {
    "duration": 20,
    "start_time": "2022-03-06T19:49:11.445Z"
   },
   {
    "duration": 19,
    "start_time": "2022-03-06T19:49:11.468Z"
   },
   {
    "duration": 52,
    "start_time": "2022-03-06T19:49:11.489Z"
   },
   {
    "duration": 21,
    "start_time": "2022-03-06T19:49:11.544Z"
   },
   {
    "duration": 30,
    "start_time": "2022-03-06T19:49:11.568Z"
   },
   {
    "duration": 55,
    "start_time": "2022-03-06T19:49:11.602Z"
   },
   {
    "duration": 30,
    "start_time": "2022-03-06T19:49:11.660Z"
   },
   {
    "duration": 65,
    "start_time": "2022-03-06T19:49:11.693Z"
   },
   {
    "duration": 31,
    "start_time": "2022-03-06T19:49:11.761Z"
   },
   {
    "duration": 51,
    "start_time": "2022-03-06T19:49:11.795Z"
   },
   {
    "duration": 30,
    "start_time": "2022-03-06T19:49:11.849Z"
   },
   {
    "duration": 64,
    "start_time": "2022-03-06T19:49:11.882Z"
   },
   {
    "duration": 12,
    "start_time": "2022-03-06T19:49:11.949Z"
   },
   {
    "duration": 87,
    "start_time": "2022-03-06T19:49:11.964Z"
   },
   {
    "duration": 78,
    "start_time": "2022-03-06T19:49:12.054Z"
   },
   {
    "duration": 9,
    "start_time": "2022-03-06T19:49:12.136Z"
   },
   {
    "duration": 14,
    "start_time": "2022-03-06T19:49:12.148Z"
   },
   {
    "duration": 11,
    "start_time": "2022-03-06T19:49:12.165Z"
   },
   {
    "duration": 8,
    "start_time": "2022-03-06T19:49:12.178Z"
   },
   {
    "duration": 42,
    "start_time": "2022-03-06T19:49:51.131Z"
   },
   {
    "duration": 40,
    "start_time": "2022-03-06T19:49:52.585Z"
   },
   {
    "duration": 7,
    "start_time": "2022-03-06T19:49:54.931Z"
   },
   {
    "duration": 1452,
    "start_time": "2022-03-06T19:52:40.556Z"
   },
   {
    "duration": 81,
    "start_time": "2022-03-06T19:52:42.010Z"
   },
   {
    "duration": 22,
    "start_time": "2022-03-06T19:52:42.094Z"
   },
   {
    "duration": 4,
    "start_time": "2022-03-06T19:52:42.133Z"
   },
   {
    "duration": 15,
    "start_time": "2022-03-06T19:52:42.140Z"
   },
   {
    "duration": 5,
    "start_time": "2022-03-06T19:52:42.157Z"
   },
   {
    "duration": 11,
    "start_time": "2022-03-06T19:52:42.164Z"
   },
   {
    "duration": 6,
    "start_time": "2022-03-06T19:52:42.180Z"
   },
   {
    "duration": 71,
    "start_time": "2022-03-06T19:52:42.189Z"
   },
   {
    "duration": 6,
    "start_time": "2022-03-06T19:52:42.263Z"
   },
   {
    "duration": 24,
    "start_time": "2022-03-06T19:52:42.272Z"
   },
   {
    "duration": 42,
    "start_time": "2022-03-06T19:52:42.298Z"
   },
   {
    "duration": 19,
    "start_time": "2022-03-06T19:52:42.342Z"
   },
   {
    "duration": 3,
    "start_time": "2022-03-06T19:52:42.364Z"
   },
   {
    "duration": 1304,
    "start_time": "2022-03-06T19:52:42.370Z"
   },
   {
    "duration": 8,
    "start_time": "2022-03-06T19:52:43.677Z"
   },
   {
    "duration": 508,
    "start_time": "2022-03-06T19:52:43.688Z"
   },
   {
    "duration": 2328,
    "start_time": "2022-03-06T19:52:44.198Z"
   },
   {
    "duration": 24,
    "start_time": "2022-03-06T19:52:46.533Z"
   },
   {
    "duration": 22,
    "start_time": "2022-03-06T19:52:46.560Z"
   },
   {
    "duration": 3,
    "start_time": "2022-03-06T19:52:46.585Z"
   },
   {
    "duration": 1057,
    "start_time": "2022-03-06T19:52:46.591Z"
   },
   {
    "duration": 6,
    "start_time": "2022-03-06T19:52:47.654Z"
   },
   {
    "duration": 6,
    "start_time": "2022-03-06T19:52:47.663Z"
   },
   {
    "duration": 648,
    "start_time": "2022-03-06T19:52:47.672Z"
   },
   {
    "duration": 12,
    "start_time": "2022-03-06T19:52:48.323Z"
   },
   {
    "duration": 20,
    "start_time": "2022-03-06T19:52:48.337Z"
   },
   {
    "duration": 661,
    "start_time": "2022-03-06T19:52:48.359Z"
   },
   {
    "duration": 963,
    "start_time": "2022-03-06T19:52:49.023Z"
   },
   {
    "duration": 734,
    "start_time": "2022-03-06T19:52:49.989Z"
   },
   {
    "duration": 17,
    "start_time": "2022-03-06T19:52:50.726Z"
   },
   {
    "duration": 12,
    "start_time": "2022-03-06T19:52:50.746Z"
   },
   {
    "duration": 10,
    "start_time": "2022-03-06T19:52:50.761Z"
   },
   {
    "duration": 67,
    "start_time": "2022-03-06T19:52:50.773Z"
   },
   {
    "duration": 462,
    "start_time": "2022-03-06T19:52:50.843Z"
   },
   {
    "duration": 5,
    "start_time": "2022-03-06T19:52:51.308Z"
   },
   {
    "duration": 454,
    "start_time": "2022-03-06T19:52:51.315Z"
   },
   {
    "duration": 5,
    "start_time": "2022-03-06T19:52:51.772Z"
   },
   {
    "duration": 432,
    "start_time": "2022-03-06T19:52:51.780Z"
   },
   {
    "duration": 1156,
    "start_time": "2022-03-06T19:52:52.215Z"
   },
   {
    "duration": 422,
    "start_time": "2022-03-06T19:52:53.375Z"
   },
   {
    "duration": 35,
    "start_time": "2022-03-06T19:52:53.800Z"
   },
   {
    "duration": 20,
    "start_time": "2022-03-06T19:52:53.838Z"
   },
   {
    "duration": 19,
    "start_time": "2022-03-06T19:52:53.861Z"
   },
   {
    "duration": 55,
    "start_time": "2022-03-06T19:52:53.883Z"
   },
   {
    "duration": 19,
    "start_time": "2022-03-06T19:52:53.940Z"
   },
   {
    "duration": 20,
    "start_time": "2022-03-06T19:52:53.961Z"
   },
   {
    "duration": 21,
    "start_time": "2022-03-06T19:52:53.983Z"
   },
   {
    "duration": 19,
    "start_time": "2022-03-06T19:52:54.032Z"
   },
   {
    "duration": 19,
    "start_time": "2022-03-06T19:52:54.053Z"
   },
   {
    "duration": 19,
    "start_time": "2022-03-06T19:52:54.074Z"
   },
   {
    "duration": 20,
    "start_time": "2022-03-06T19:52:54.132Z"
   },
   {
    "duration": 21,
    "start_time": "2022-03-06T19:52:54.154Z"
   },
   {
    "duration": 19,
    "start_time": "2022-03-06T19:52:54.177Z"
   },
   {
    "duration": 21,
    "start_time": "2022-03-06T19:52:54.233Z"
   },
   {
    "duration": 22,
    "start_time": "2022-03-06T19:52:54.257Z"
   },
   {
    "duration": 6,
    "start_time": "2022-03-06T19:52:54.282Z"
   },
   {
    "duration": 81,
    "start_time": "2022-03-06T19:52:54.290Z"
   },
   {
    "duration": 40,
    "start_time": "2022-03-06T19:52:54.373Z"
   },
   {
    "duration": 6,
    "start_time": "2022-03-06T19:52:54.433Z"
   },
   {
    "duration": 13,
    "start_time": "2022-03-06T19:52:54.441Z"
   },
   {
    "duration": 10,
    "start_time": "2022-03-06T19:52:54.457Z"
   },
   {
    "duration": 6,
    "start_time": "2022-03-06T19:52:54.470Z"
   },
   {
    "duration": 15,
    "start_time": "2022-03-06T19:53:39.238Z"
   },
   {
    "duration": 15,
    "start_time": "2022-03-06T19:53:54.128Z"
   },
   {
    "duration": 8,
    "start_time": "2022-03-06T19:53:56.118Z"
   },
   {
    "duration": 1488,
    "start_time": "2022-03-06T19:54:12.720Z"
   },
   {
    "duration": 82,
    "start_time": "2022-03-06T19:54:14.211Z"
   },
   {
    "duration": 22,
    "start_time": "2022-03-06T19:54:14.296Z"
   },
   {
    "duration": 14,
    "start_time": "2022-03-06T19:54:14.320Z"
   },
   {
    "duration": 14,
    "start_time": "2022-03-06T19:54:14.337Z"
   },
   {
    "duration": 6,
    "start_time": "2022-03-06T19:54:14.353Z"
   },
   {
    "duration": 7,
    "start_time": "2022-03-06T19:54:14.362Z"
   },
   {
    "duration": 6,
    "start_time": "2022-03-06T19:54:14.372Z"
   },
   {
    "duration": 81,
    "start_time": "2022-03-06T19:54:14.381Z"
   },
   {
    "duration": 7,
    "start_time": "2022-03-06T19:54:14.464Z"
   },
   {
    "duration": 24,
    "start_time": "2022-03-06T19:54:14.473Z"
   },
   {
    "duration": 43,
    "start_time": "2022-03-06T19:54:14.499Z"
   },
   {
    "duration": 15,
    "start_time": "2022-03-06T19:54:14.545Z"
   },
   {
    "duration": 3,
    "start_time": "2022-03-06T19:54:14.562Z"
   },
   {
    "duration": 1299,
    "start_time": "2022-03-06T19:54:14.567Z"
   },
   {
    "duration": 7,
    "start_time": "2022-03-06T19:54:15.868Z"
   },
   {
    "duration": 630,
    "start_time": "2022-03-06T19:54:15.877Z"
   },
   {
    "duration": 2935,
    "start_time": "2022-03-06T19:54:16.510Z"
   },
   {
    "duration": 22,
    "start_time": "2022-03-06T19:54:19.448Z"
   },
   {
    "duration": 20,
    "start_time": "2022-03-06T19:54:19.473Z"
   },
   {
    "duration": 3,
    "start_time": "2022-03-06T19:54:19.495Z"
   },
   {
    "duration": 997,
    "start_time": "2022-03-06T19:54:19.536Z"
   },
   {
    "duration": 5,
    "start_time": "2022-03-06T19:54:20.537Z"
   },
   {
    "duration": 9,
    "start_time": "2022-03-06T19:54:20.545Z"
   },
   {
    "duration": 547,
    "start_time": "2022-03-06T19:54:20.557Z"
   },
   {
    "duration": 8,
    "start_time": "2022-03-06T19:54:21.106Z"
   },
   {
    "duration": 32,
    "start_time": "2022-03-06T19:54:21.116Z"
   },
   {
    "duration": 557,
    "start_time": "2022-03-06T19:54:21.151Z"
   },
   {
    "duration": 1067,
    "start_time": "2022-03-06T19:54:21.710Z"
   },
   {
    "duration": 742,
    "start_time": "2022-03-06T19:54:22.779Z"
   },
   {
    "duration": 15,
    "start_time": "2022-03-06T19:54:23.523Z"
   },
   {
    "duration": 14,
    "start_time": "2022-03-06T19:54:23.541Z"
   },
   {
    "duration": 13,
    "start_time": "2022-03-06T19:54:23.558Z"
   },
   {
    "duration": 60,
    "start_time": "2022-03-06T19:54:23.574Z"
   },
   {
    "duration": 455,
    "start_time": "2022-03-06T19:54:23.637Z"
   },
   {
    "duration": 6,
    "start_time": "2022-03-06T19:54:24.094Z"
   },
   {
    "duration": 446,
    "start_time": "2022-03-06T19:54:24.103Z"
   },
   {
    "duration": 5,
    "start_time": "2022-03-06T19:54:24.552Z"
   },
   {
    "duration": 331,
    "start_time": "2022-03-06T19:54:24.559Z"
   },
   {
    "duration": 1088,
    "start_time": "2022-03-06T19:54:24.892Z"
   },
   {
    "duration": 388,
    "start_time": "2022-03-06T19:54:25.983Z"
   },
   {
    "duration": 19,
    "start_time": "2022-03-06T19:54:26.374Z"
   },
   {
    "duration": 41,
    "start_time": "2022-03-06T19:54:26.395Z"
   },
   {
    "duration": 19,
    "start_time": "2022-03-06T19:54:26.438Z"
   },
   {
    "duration": 19,
    "start_time": "2022-03-06T19:54:26.459Z"
   },
   {
    "duration": 53,
    "start_time": "2022-03-06T19:54:26.481Z"
   },
   {
    "duration": 20,
    "start_time": "2022-03-06T19:54:26.536Z"
   },
   {
    "duration": 22,
    "start_time": "2022-03-06T19:54:26.559Z"
   },
   {
    "duration": 52,
    "start_time": "2022-03-06T19:54:26.583Z"
   },
   {
    "duration": 21,
    "start_time": "2022-03-06T19:54:26.638Z"
   },
   {
    "duration": 19,
    "start_time": "2022-03-06T19:54:26.661Z"
   },
   {
    "duration": 58,
    "start_time": "2022-03-06T19:54:26.682Z"
   },
   {
    "duration": 22,
    "start_time": "2022-03-06T19:54:26.743Z"
   },
   {
    "duration": 21,
    "start_time": "2022-03-06T19:54:26.768Z"
   },
   {
    "duration": 57,
    "start_time": "2022-03-06T19:54:26.792Z"
   },
   {
    "duration": 26,
    "start_time": "2022-03-06T19:54:26.852Z"
   },
   {
    "duration": 8,
    "start_time": "2022-03-06T19:54:26.881Z"
   },
   {
    "duration": 48,
    "start_time": "2022-03-06T19:54:26.892Z"
   },
   {
    "duration": 13,
    "start_time": "2022-03-06T19:54:26.943Z"
   },
   {
    "duration": 7,
    "start_time": "2022-03-06T19:54:26.958Z"
   },
   {
    "duration": 14,
    "start_time": "2022-03-06T19:54:26.967Z"
   },
   {
    "duration": 10,
    "start_time": "2022-03-06T19:54:26.983Z"
   },
   {
    "duration": 7,
    "start_time": "2022-03-06T19:54:27.032Z"
   },
   {
    "duration": 19,
    "start_time": "2022-03-06T19:56:04.018Z"
   },
   {
    "duration": 10,
    "start_time": "2022-03-06T19:56:06.063Z"
   },
   {
    "duration": 1735,
    "start_time": "2022-03-06T19:56:21.761Z"
   },
   {
    "duration": 84,
    "start_time": "2022-03-06T19:56:23.499Z"
   },
   {
    "duration": 22,
    "start_time": "2022-03-06T19:56:23.586Z"
   },
   {
    "duration": 22,
    "start_time": "2022-03-06T19:56:23.611Z"
   },
   {
    "duration": 15,
    "start_time": "2022-03-06T19:56:23.636Z"
   },
   {
    "duration": 5,
    "start_time": "2022-03-06T19:56:23.654Z"
   },
   {
    "duration": 9,
    "start_time": "2022-03-06T19:56:23.662Z"
   },
   {
    "duration": 7,
    "start_time": "2022-03-06T19:56:23.675Z"
   },
   {
    "duration": 37,
    "start_time": "2022-03-06T19:56:23.733Z"
   },
   {
    "duration": 8,
    "start_time": "2022-03-06T19:56:23.773Z"
   },
   {
    "duration": 50,
    "start_time": "2022-03-06T19:56:23.784Z"
   },
   {
    "duration": 13,
    "start_time": "2022-03-06T19:56:23.836Z"
   },
   {
    "duration": 15,
    "start_time": "2022-03-06T19:56:23.851Z"
   },
   {
    "duration": 3,
    "start_time": "2022-03-06T19:56:23.868Z"
   },
   {
    "duration": 1341,
    "start_time": "2022-03-06T19:56:23.873Z"
   },
   {
    "duration": 19,
    "start_time": "2022-03-06T19:56:25.217Z"
   },
   {
    "duration": 489,
    "start_time": "2022-03-06T19:56:25.239Z"
   },
   {
    "duration": 2302,
    "start_time": "2022-03-06T19:56:25.733Z"
   },
   {
    "duration": 21,
    "start_time": "2022-03-06T19:56:28.037Z"
   },
   {
    "duration": 20,
    "start_time": "2022-03-06T19:56:28.061Z"
   },
   {
    "duration": 3,
    "start_time": "2022-03-06T19:56:28.084Z"
   },
   {
    "duration": 1457,
    "start_time": "2022-03-06T19:56:28.089Z"
   },
   {
    "duration": 6,
    "start_time": "2022-03-06T19:56:29.552Z"
   },
   {
    "duration": 30,
    "start_time": "2022-03-06T19:56:29.561Z"
   },
   {
    "duration": 775,
    "start_time": "2022-03-06T19:56:29.594Z"
   },
   {
    "duration": 62,
    "start_time": "2022-03-06T19:56:30.373Z"
   },
   {
    "duration": 33,
    "start_time": "2022-03-06T19:56:30.437Z"
   },
   {
    "duration": 688,
    "start_time": "2022-03-06T19:56:30.472Z"
   },
   {
    "duration": 1025,
    "start_time": "2022-03-06T19:56:31.162Z"
   },
   {
    "duration": 755,
    "start_time": "2022-03-06T19:56:32.190Z"
   },
   {
    "duration": 12,
    "start_time": "2022-03-06T19:56:32.948Z"
   },
   {
    "duration": 15,
    "start_time": "2022-03-06T19:56:32.963Z"
   },
   {
    "duration": 20,
    "start_time": "2022-03-06T19:56:32.981Z"
   },
   {
    "duration": 30,
    "start_time": "2022-03-06T19:56:33.033Z"
   },
   {
    "duration": 473,
    "start_time": "2022-03-06T19:56:33.065Z"
   },
   {
    "duration": 6,
    "start_time": "2022-03-06T19:56:33.540Z"
   },
   {
    "duration": 452,
    "start_time": "2022-03-06T19:56:33.548Z"
   },
   {
    "duration": 6,
    "start_time": "2022-03-06T19:56:34.002Z"
   },
   {
    "duration": 342,
    "start_time": "2022-03-06T19:56:34.011Z"
   },
   {
    "duration": 1127,
    "start_time": "2022-03-06T19:56:34.355Z"
   },
   {
    "duration": 406,
    "start_time": "2022-03-06T19:56:35.485Z"
   },
   {
    "duration": 21,
    "start_time": "2022-03-06T19:56:35.893Z"
   },
   {
    "duration": 20,
    "start_time": "2022-03-06T19:56:35.932Z"
   },
   {
    "duration": 23,
    "start_time": "2022-03-06T19:56:35.954Z"
   },
   {
    "duration": 21,
    "start_time": "2022-03-06T19:56:35.980Z"
   },
   {
    "duration": 21,
    "start_time": "2022-03-06T19:56:36.032Z"
   },
   {
    "duration": 25,
    "start_time": "2022-03-06T19:56:36.055Z"
   },
   {
    "duration": 50,
    "start_time": "2022-03-06T19:56:36.082Z"
   },
   {
    "duration": 21,
    "start_time": "2022-03-06T19:56:36.135Z"
   },
   {
    "duration": 24,
    "start_time": "2022-03-06T19:56:36.158Z"
   },
   {
    "duration": 53,
    "start_time": "2022-03-06T19:56:36.184Z"
   },
   {
    "duration": 21,
    "start_time": "2022-03-06T19:56:36.239Z"
   },
   {
    "duration": 22,
    "start_time": "2022-03-06T19:56:36.264Z"
   },
   {
    "duration": 54,
    "start_time": "2022-03-06T19:56:36.289Z"
   },
   {
    "duration": 21,
    "start_time": "2022-03-06T19:56:36.345Z"
   },
   {
    "duration": 20,
    "start_time": "2022-03-06T19:56:36.369Z"
   },
   {
    "duration": 8,
    "start_time": "2022-03-06T19:56:36.391Z"
   },
   {
    "duration": 15,
    "start_time": "2022-03-06T19:56:36.433Z"
   },
   {
    "duration": 14,
    "start_time": "2022-03-06T19:56:36.450Z"
   },
   {
    "duration": 7,
    "start_time": "2022-03-06T19:56:36.466Z"
   },
   {
    "duration": 57,
    "start_time": "2022-03-06T19:56:36.476Z"
   },
   {
    "duration": 15,
    "start_time": "2022-03-06T19:56:36.536Z"
   },
   {
    "duration": 8,
    "start_time": "2022-03-06T19:56:36.553Z"
   },
   {
    "duration": 107,
    "start_time": "2022-03-06T19:58:30.004Z"
   },
   {
    "duration": 20,
    "start_time": "2022-03-06T19:58:42.088Z"
   },
   {
    "duration": 22,
    "start_time": "2022-03-06T20:01:18.595Z"
   },
   {
    "duration": 1426,
    "start_time": "2022-03-06T20:01:24.674Z"
   },
   {
    "duration": 83,
    "start_time": "2022-03-06T20:01:26.103Z"
   },
   {
    "duration": 22,
    "start_time": "2022-03-06T20:01:26.190Z"
   },
   {
    "duration": 4,
    "start_time": "2022-03-06T20:01:26.233Z"
   },
   {
    "duration": 17,
    "start_time": "2022-03-06T20:01:26.239Z"
   },
   {
    "duration": 12,
    "start_time": "2022-03-06T20:01:26.258Z"
   },
   {
    "duration": 16,
    "start_time": "2022-03-06T20:01:26.272Z"
   },
   {
    "duration": 13,
    "start_time": "2022-03-06T20:01:26.291Z"
   },
   {
    "duration": 48,
    "start_time": "2022-03-06T20:01:26.307Z"
   },
   {
    "duration": 6,
    "start_time": "2022-03-06T20:01:26.358Z"
   },
   {
    "duration": 33,
    "start_time": "2022-03-06T20:01:26.366Z"
   },
   {
    "duration": 13,
    "start_time": "2022-03-06T20:01:26.401Z"
   },
   {
    "duration": 14,
    "start_time": "2022-03-06T20:01:26.433Z"
   },
   {
    "duration": 15,
    "start_time": "2022-03-06T20:01:26.449Z"
   },
   {
    "duration": 1275,
    "start_time": "2022-03-06T20:01:26.466Z"
   },
   {
    "duration": 11,
    "start_time": "2022-03-06T20:01:27.744Z"
   },
   {
    "duration": 568,
    "start_time": "2022-03-06T20:01:27.758Z"
   },
   {
    "duration": 2141,
    "start_time": "2022-03-06T20:01:28.332Z"
   },
   {
    "duration": 22,
    "start_time": "2022-03-06T20:01:30.476Z"
   },
   {
    "duration": 42,
    "start_time": "2022-03-06T20:01:30.500Z"
   },
   {
    "duration": 3,
    "start_time": "2022-03-06T20:01:30.545Z"
   },
   {
    "duration": 1034,
    "start_time": "2022-03-06T20:01:30.551Z"
   },
   {
    "duration": 6,
    "start_time": "2022-03-06T20:01:31.591Z"
   },
   {
    "duration": 9,
    "start_time": "2022-03-06T20:01:31.601Z"
   },
   {
    "duration": 573,
    "start_time": "2022-03-06T20:01:31.612Z"
   },
   {
    "duration": 8,
    "start_time": "2022-03-06T20:01:32.187Z"
   },
   {
    "duration": 35,
    "start_time": "2022-03-06T20:01:32.197Z"
   },
   {
    "duration": 547,
    "start_time": "2022-03-06T20:01:32.235Z"
   },
   {
    "duration": 952,
    "start_time": "2022-03-06T20:01:32.784Z"
   },
   {
    "duration": 709,
    "start_time": "2022-03-06T20:01:33.739Z"
   },
   {
    "duration": 11,
    "start_time": "2022-03-06T20:01:34.450Z"
   },
   {
    "duration": 9,
    "start_time": "2022-03-06T20:01:34.464Z"
   },
   {
    "duration": 10,
    "start_time": "2022-03-06T20:01:34.475Z"
   },
   {
    "duration": 60,
    "start_time": "2022-03-06T20:01:34.487Z"
   },
   {
    "duration": 447,
    "start_time": "2022-03-06T20:01:34.549Z"
   },
   {
    "duration": 5,
    "start_time": "2022-03-06T20:01:34.999Z"
   },
   {
    "duration": 450,
    "start_time": "2022-03-06T20:01:35.006Z"
   },
   {
    "duration": 7,
    "start_time": "2022-03-06T20:01:35.458Z"
   },
   {
    "duration": 329,
    "start_time": "2022-03-06T20:01:35.468Z"
   },
   {
    "duration": 1066,
    "start_time": "2022-03-06T20:01:35.800Z"
   },
   {
    "duration": 500,
    "start_time": "2022-03-06T20:01:36.868Z"
   },
   {
    "duration": 19,
    "start_time": "2022-03-06T20:01:37.370Z"
   },
   {
    "duration": 43,
    "start_time": "2022-03-06T20:01:37.391Z"
   },
   {
    "duration": 20,
    "start_time": "2022-03-06T20:01:37.436Z"
   },
   {
    "duration": 20,
    "start_time": "2022-03-06T20:01:37.458Z"
   },
   {
    "duration": 17,
    "start_time": "2022-03-06T20:01:37.480Z"
   },
   {
    "duration": 20,
    "start_time": "2022-03-06T20:01:37.532Z"
   },
   {
    "duration": 21,
    "start_time": "2022-03-06T20:01:37.555Z"
   },
   {
    "duration": 53,
    "start_time": "2022-03-06T20:01:37.579Z"
   },
   {
    "duration": 20,
    "start_time": "2022-03-06T20:01:37.635Z"
   },
   {
    "duration": 21,
    "start_time": "2022-03-06T20:01:37.658Z"
   },
   {
    "duration": 61,
    "start_time": "2022-03-06T20:01:37.682Z"
   },
   {
    "duration": 20,
    "start_time": "2022-03-06T20:01:37.746Z"
   },
   {
    "duration": 20,
    "start_time": "2022-03-06T20:01:37.769Z"
   },
   {
    "duration": 58,
    "start_time": "2022-03-06T20:01:37.792Z"
   },
   {
    "duration": 21,
    "start_time": "2022-03-06T20:01:37.852Z"
   },
   {
    "duration": 18,
    "start_time": "2022-03-06T20:01:37.875Z"
   },
   {
    "duration": 41,
    "start_time": "2022-03-06T20:01:37.895Z"
   },
   {
    "duration": 16,
    "start_time": "2022-03-06T20:01:37.940Z"
   },
   {
    "duration": 15,
    "start_time": "2022-03-06T20:01:37.959Z"
   },
   {
    "duration": 722,
    "start_time": "2022-03-06T20:01:37.976Z"
   },
   {
    "duration": -197,
    "start_time": "2022-03-06T20:01:38.898Z"
   },
   {
    "duration": -201,
    "start_time": "2022-03-06T20:01:38.904Z"
   },
   {
    "duration": -204,
    "start_time": "2022-03-06T20:01:38.909Z"
   },
   {
    "duration": 13,
    "start_time": "2022-03-06T20:03:00.340Z"
   },
   {
    "duration": 1518,
    "start_time": "2022-03-06T20:03:05.623Z"
   },
   {
    "duration": 85,
    "start_time": "2022-03-06T20:03:07.148Z"
   },
   {
    "duration": 23,
    "start_time": "2022-03-06T20:03:07.236Z"
   },
   {
    "duration": 3,
    "start_time": "2022-03-06T20:03:07.262Z"
   },
   {
    "duration": 16,
    "start_time": "2022-03-06T20:03:07.268Z"
   },
   {
    "duration": 5,
    "start_time": "2022-03-06T20:03:07.286Z"
   },
   {
    "duration": 8,
    "start_time": "2022-03-06T20:03:07.333Z"
   },
   {
    "duration": 7,
    "start_time": "2022-03-06T20:03:07.345Z"
   },
   {
    "duration": 39,
    "start_time": "2022-03-06T20:03:07.355Z"
   },
   {
    "duration": 37,
    "start_time": "2022-03-06T20:03:07.397Z"
   },
   {
    "duration": 26,
    "start_time": "2022-03-06T20:03:07.437Z"
   },
   {
    "duration": 15,
    "start_time": "2022-03-06T20:03:07.466Z"
   },
   {
    "duration": 54,
    "start_time": "2022-03-06T20:03:07.484Z"
   },
   {
    "duration": 3,
    "start_time": "2022-03-06T20:03:07.541Z"
   },
   {
    "duration": 1367,
    "start_time": "2022-03-06T20:03:07.547Z"
   },
   {
    "duration": 16,
    "start_time": "2022-03-06T20:03:08.916Z"
   },
   {
    "duration": 483,
    "start_time": "2022-03-06T20:03:08.935Z"
   },
   {
    "duration": 2212,
    "start_time": "2022-03-06T20:03:09.421Z"
   },
   {
    "duration": 22,
    "start_time": "2022-03-06T20:03:11.635Z"
   },
   {
    "duration": 26,
    "start_time": "2022-03-06T20:03:11.659Z"
   },
   {
    "duration": 3,
    "start_time": "2022-03-06T20:03:11.688Z"
   },
   {
    "duration": 1126,
    "start_time": "2022-03-06T20:03:11.695Z"
   },
   {
    "duration": 10,
    "start_time": "2022-03-06T20:03:12.823Z"
   },
   {
    "duration": 3,
    "start_time": "2022-03-06T20:03:12.835Z"
   },
   {
    "duration": 589,
    "start_time": "2022-03-06T20:03:12.840Z"
   },
   {
    "duration": 7,
    "start_time": "2022-03-06T20:03:13.437Z"
   },
   {
    "duration": 20,
    "start_time": "2022-03-06T20:03:13.448Z"
   },
   {
    "duration": 578,
    "start_time": "2022-03-06T20:03:13.470Z"
   },
   {
    "duration": 990,
    "start_time": "2022-03-06T20:03:14.050Z"
   },
   {
    "duration": 733,
    "start_time": "2022-03-06T20:03:15.042Z"
   },
   {
    "duration": 10,
    "start_time": "2022-03-06T20:03:15.777Z"
   },
   {
    "duration": 11,
    "start_time": "2022-03-06T20:03:15.790Z"
   },
   {
    "duration": 11,
    "start_time": "2022-03-06T20:03:15.832Z"
   },
   {
    "duration": 26,
    "start_time": "2022-03-06T20:03:15.845Z"
   },
   {
    "duration": 518,
    "start_time": "2022-03-06T20:03:15.873Z"
   },
   {
    "duration": 6,
    "start_time": "2022-03-06T20:03:16.393Z"
   },
   {
    "duration": 481,
    "start_time": "2022-03-06T20:03:16.401Z"
   },
   {
    "duration": 5,
    "start_time": "2022-03-06T20:03:16.884Z"
   },
   {
    "duration": 326,
    "start_time": "2022-03-06T20:03:16.892Z"
   },
   {
    "duration": 1045,
    "start_time": "2022-03-06T20:03:17.220Z"
   },
   {
    "duration": 386,
    "start_time": "2022-03-06T20:03:18.268Z"
   },
   {
    "duration": 20,
    "start_time": "2022-03-06T20:03:18.656Z"
   },
   {
    "duration": 12,
    "start_time": "2022-03-06T20:03:18.678Z"
   },
   {
    "duration": 43,
    "start_time": "2022-03-06T20:03:18.692Z"
   },
   {
    "duration": 20,
    "start_time": "2022-03-06T20:03:18.738Z"
   },
   {
    "duration": 19,
    "start_time": "2022-03-06T20:03:18.760Z"
   },
   {
    "duration": 53,
    "start_time": "2022-03-06T20:03:18.781Z"
   },
   {
    "duration": 20,
    "start_time": "2022-03-06T20:03:18.836Z"
   },
   {
    "duration": 19,
    "start_time": "2022-03-06T20:03:18.859Z"
   },
   {
    "duration": 54,
    "start_time": "2022-03-06T20:03:18.880Z"
   },
   {
    "duration": 20,
    "start_time": "2022-03-06T20:03:18.936Z"
   },
   {
    "duration": 21,
    "start_time": "2022-03-06T20:03:18.959Z"
   },
   {
    "duration": 51,
    "start_time": "2022-03-06T20:03:18.983Z"
   },
   {
    "duration": 19,
    "start_time": "2022-03-06T20:03:19.036Z"
   },
   {
    "duration": 18,
    "start_time": "2022-03-06T20:03:19.058Z"
   },
   {
    "duration": 57,
    "start_time": "2022-03-06T20:03:19.079Z"
   },
   {
    "duration": 22,
    "start_time": "2022-03-06T20:03:19.138Z"
   },
   {
    "duration": 13,
    "start_time": "2022-03-06T20:03:19.162Z"
   },
   {
    "duration": 14,
    "start_time": "2022-03-06T20:03:19.177Z"
   },
   {
    "duration": 44,
    "start_time": "2022-03-06T20:03:19.193Z"
   },
   {
    "duration": 7,
    "start_time": "2022-03-06T20:03:19.239Z"
   },
   {
    "duration": 16,
    "start_time": "2022-03-06T20:03:19.248Z"
   },
   {
    "duration": 12,
    "start_time": "2022-03-06T20:03:19.267Z"
   },
   {
    "duration": 6,
    "start_time": "2022-03-06T20:03:19.282Z"
   },
   {
    "duration": 5,
    "start_time": "2022-03-06T20:05:34.352Z"
   },
   {
    "duration": 1421,
    "start_time": "2022-03-06T20:06:25.790Z"
   },
   {
    "duration": 82,
    "start_time": "2022-03-06T20:06:27.214Z"
   },
   {
    "duration": 33,
    "start_time": "2022-03-06T20:06:27.299Z"
   },
   {
    "duration": 4,
    "start_time": "2022-03-06T20:06:27.335Z"
   },
   {
    "duration": 13,
    "start_time": "2022-03-06T20:06:27.341Z"
   },
   {
    "duration": 5,
    "start_time": "2022-03-06T20:06:27.357Z"
   },
   {
    "duration": 8,
    "start_time": "2022-03-06T20:06:27.364Z"
   },
   {
    "duration": 6,
    "start_time": "2022-03-06T20:06:27.376Z"
   },
   {
    "duration": 78,
    "start_time": "2022-03-06T20:06:27.385Z"
   },
   {
    "duration": 7,
    "start_time": "2022-03-06T20:06:27.466Z"
   },
   {
    "duration": 26,
    "start_time": "2022-03-06T20:06:27.476Z"
   },
   {
    "duration": 15,
    "start_time": "2022-03-06T20:06:27.532Z"
   },
   {
    "duration": 14,
    "start_time": "2022-03-06T20:06:27.549Z"
   },
   {
    "duration": 2,
    "start_time": "2022-03-06T20:06:27.566Z"
   },
   {
    "duration": 1381,
    "start_time": "2022-03-06T20:06:27.571Z"
   },
   {
    "duration": 6,
    "start_time": "2022-03-06T20:06:28.955Z"
   },
   {
    "duration": 577,
    "start_time": "2022-03-06T20:06:28.964Z"
   },
   {
    "duration": 2551,
    "start_time": "2022-03-06T20:06:29.544Z"
   },
   {
    "duration": 35,
    "start_time": "2022-03-06T20:06:32.097Z"
   },
   {
    "duration": 22,
    "start_time": "2022-03-06T20:06:32.134Z"
   },
   {
    "duration": 3,
    "start_time": "2022-03-06T20:06:32.158Z"
   },
   {
    "duration": 1023,
    "start_time": "2022-03-06T20:06:32.163Z"
   },
   {
    "duration": 6,
    "start_time": "2022-03-06T20:06:33.192Z"
   },
   {
    "duration": 11,
    "start_time": "2022-03-06T20:06:33.201Z"
   },
   {
    "duration": 565,
    "start_time": "2022-03-06T20:06:33.214Z"
   },
   {
    "duration": 7,
    "start_time": "2022-03-06T20:06:33.781Z"
   },
   {
    "duration": 46,
    "start_time": "2022-03-06T20:06:33.791Z"
   },
   {
    "duration": 569,
    "start_time": "2022-03-06T20:06:33.840Z"
   },
   {
    "duration": 991,
    "start_time": "2022-03-06T20:06:34.413Z"
   },
   {
    "duration": 737,
    "start_time": "2022-03-06T20:06:35.407Z"
   },
   {
    "duration": 12,
    "start_time": "2022-03-06T20:06:36.147Z"
   },
   {
    "duration": 12,
    "start_time": "2022-03-06T20:06:36.162Z"
   },
   {
    "duration": 15,
    "start_time": "2022-03-06T20:06:36.177Z"
   },
   {
    "duration": 29,
    "start_time": "2022-03-06T20:06:36.234Z"
   },
   {
    "duration": 461,
    "start_time": "2022-03-06T20:06:36.265Z"
   },
   {
    "duration": 6,
    "start_time": "2022-03-06T20:06:36.728Z"
   },
   {
    "duration": 433,
    "start_time": "2022-03-06T20:06:36.737Z"
   },
   {
    "duration": 7,
    "start_time": "2022-03-06T20:06:37.173Z"
   },
   {
    "duration": 341,
    "start_time": "2022-03-06T20:06:37.182Z"
   },
   {
    "duration": 1203,
    "start_time": "2022-03-06T20:06:37.532Z"
   },
   {
    "duration": 417,
    "start_time": "2022-03-06T20:06:38.738Z"
   },
   {
    "duration": 20,
    "start_time": "2022-03-06T20:06:39.157Z"
   },
   {
    "duration": 9,
    "start_time": "2022-03-06T20:06:39.180Z"
   },
   {
    "duration": 13,
    "start_time": "2022-03-06T20:06:39.191Z"
   },
   {
    "duration": 660,
    "start_time": "2022-03-06T20:06:39.206Z"
   },
   {
    "duration": -204,
    "start_time": "2022-03-06T20:06:40.072Z"
   },
   {
    "duration": -208,
    "start_time": "2022-03-06T20:06:40.077Z"
   },
   {
    "duration": -210,
    "start_time": "2022-03-06T20:06:40.081Z"
   },
   {
    "duration": -223,
    "start_time": "2022-03-06T20:06:40.095Z"
   },
   {
    "duration": -226,
    "start_time": "2022-03-06T20:06:40.099Z"
   },
   {
    "duration": -229,
    "start_time": "2022-03-06T20:06:40.104Z"
   },
   {
    "duration": -232,
    "start_time": "2022-03-06T20:06:40.108Z"
   },
   {
    "duration": -236,
    "start_time": "2022-03-06T20:06:40.113Z"
   },
   {
    "duration": -238,
    "start_time": "2022-03-06T20:06:40.117Z"
   },
   {
    "duration": -242,
    "start_time": "2022-03-06T20:06:40.122Z"
   },
   {
    "duration": -245,
    "start_time": "2022-03-06T20:06:40.126Z"
   },
   {
    "duration": -247,
    "start_time": "2022-03-06T20:06:40.131Z"
   },
   {
    "duration": -250,
    "start_time": "2022-03-06T20:06:40.135Z"
   },
   {
    "duration": -252,
    "start_time": "2022-03-06T20:06:40.139Z"
   },
   {
    "duration": -255,
    "start_time": "2022-03-06T20:06:40.143Z"
   },
   {
    "duration": -259,
    "start_time": "2022-03-06T20:06:40.148Z"
   },
   {
    "duration": -263,
    "start_time": "2022-03-06T20:06:40.153Z"
   },
   {
    "duration": -265,
    "start_time": "2022-03-06T20:06:40.157Z"
   },
   {
    "duration": -278,
    "start_time": "2022-03-06T20:06:40.171Z"
   },
   {
    "duration": 1442,
    "start_time": "2022-03-06T20:07:53.457Z"
   },
   {
    "duration": 81,
    "start_time": "2022-03-06T20:07:54.902Z"
   },
   {
    "duration": 22,
    "start_time": "2022-03-06T20:07:54.985Z"
   },
   {
    "duration": 3,
    "start_time": "2022-03-06T20:07:55.010Z"
   },
   {
    "duration": 15,
    "start_time": "2022-03-06T20:07:55.032Z"
   },
   {
    "duration": 6,
    "start_time": "2022-03-06T20:07:55.050Z"
   },
   {
    "duration": 10,
    "start_time": "2022-03-06T20:07:55.058Z"
   },
   {
    "duration": 7,
    "start_time": "2022-03-06T20:07:55.073Z"
   },
   {
    "duration": 36,
    "start_time": "2022-03-06T20:07:55.132Z"
   },
   {
    "duration": 7,
    "start_time": "2022-03-06T20:07:55.170Z"
   },
   {
    "duration": 26,
    "start_time": "2022-03-06T20:07:55.179Z"
   },
   {
    "duration": 14,
    "start_time": "2022-03-06T20:07:55.232Z"
   },
   {
    "duration": 14,
    "start_time": "2022-03-06T20:07:55.248Z"
   },
   {
    "duration": 3,
    "start_time": "2022-03-06T20:07:55.264Z"
   },
   {
    "duration": 1280,
    "start_time": "2022-03-06T20:07:55.270Z"
   },
   {
    "duration": 7,
    "start_time": "2022-03-06T20:07:56.553Z"
   },
   {
    "duration": 473,
    "start_time": "2022-03-06T20:07:56.562Z"
   },
   {
    "duration": 2127,
    "start_time": "2022-03-06T20:07:57.037Z"
   },
   {
    "duration": 20,
    "start_time": "2022-03-06T20:07:59.166Z"
   },
   {
    "duration": 45,
    "start_time": "2022-03-06T20:07:59.189Z"
   },
   {
    "duration": 2,
    "start_time": "2022-03-06T20:07:59.237Z"
   },
   {
    "duration": 1043,
    "start_time": "2022-03-06T20:07:59.242Z"
   },
   {
    "duration": 6,
    "start_time": "2022-03-06T20:08:00.291Z"
   },
   {
    "duration": 7,
    "start_time": "2022-03-06T20:08:00.301Z"
   },
   {
    "duration": 584,
    "start_time": "2022-03-06T20:08:00.311Z"
   },
   {
    "duration": 9,
    "start_time": "2022-03-06T20:08:00.897Z"
   },
   {
    "duration": 36,
    "start_time": "2022-03-06T20:08:00.909Z"
   },
   {
    "duration": 567,
    "start_time": "2022-03-06T20:08:00.948Z"
   },
   {
    "duration": 1024,
    "start_time": "2022-03-06T20:08:01.517Z"
   },
   {
    "duration": 725,
    "start_time": "2022-03-06T20:08:02.544Z"
   },
   {
    "duration": 11,
    "start_time": "2022-03-06T20:08:03.271Z"
   },
   {
    "duration": 10,
    "start_time": "2022-03-06T20:08:03.284Z"
   },
   {
    "duration": 38,
    "start_time": "2022-03-06T20:08:03.296Z"
   },
   {
    "duration": 25,
    "start_time": "2022-03-06T20:08:03.337Z"
   },
   {
    "duration": 449,
    "start_time": "2022-03-06T20:08:03.364Z"
   },
   {
    "duration": 6,
    "start_time": "2022-03-06T20:08:03.816Z"
   },
   {
    "duration": 430,
    "start_time": "2022-03-06T20:08:03.833Z"
   },
   {
    "duration": 6,
    "start_time": "2022-03-06T20:08:04.266Z"
   },
   {
    "duration": 329,
    "start_time": "2022-03-06T20:08:04.274Z"
   },
   {
    "duration": 1085,
    "start_time": "2022-03-06T20:08:04.606Z"
   },
   {
    "duration": 405,
    "start_time": "2022-03-06T20:08:05.693Z"
   },
   {
    "duration": 34,
    "start_time": "2022-03-06T20:08:06.100Z"
   },
   {
    "duration": 14,
    "start_time": "2022-03-06T20:08:06.136Z"
   },
   {
    "duration": 19,
    "start_time": "2022-03-06T20:08:06.153Z"
   },
   {
    "duration": 19,
    "start_time": "2022-03-06T20:08:06.174Z"
   },
   {
    "duration": 49,
    "start_time": "2022-03-06T20:08:06.196Z"
   },
   {
    "duration": 19,
    "start_time": "2022-03-06T20:08:06.247Z"
   },
   {
    "duration": 17,
    "start_time": "2022-03-06T20:08:06.268Z"
   },
   {
    "duration": 47,
    "start_time": "2022-03-06T20:08:06.288Z"
   },
   {
    "duration": 23,
    "start_time": "2022-03-06T20:08:06.338Z"
   },
   {
    "duration": 19,
    "start_time": "2022-03-06T20:08:06.363Z"
   },
   {
    "duration": 61,
    "start_time": "2022-03-06T20:08:06.385Z"
   },
   {
    "duration": 20,
    "start_time": "2022-03-06T20:08:06.449Z"
   },
   {
    "duration": 18,
    "start_time": "2022-03-06T20:08:06.472Z"
   },
   {
    "duration": 54,
    "start_time": "2022-03-06T20:08:06.493Z"
   },
   {
    "duration": 18,
    "start_time": "2022-03-06T20:08:06.550Z"
   },
   {
    "duration": 19,
    "start_time": "2022-03-06T20:08:06.571Z"
   },
   {
    "duration": 6,
    "start_time": "2022-03-06T20:08:06.592Z"
   },
   {
    "duration": 42,
    "start_time": "2022-03-06T20:08:06.601Z"
   },
   {
    "duration": 14,
    "start_time": "2022-03-06T20:08:06.645Z"
   },
   {
    "duration": 7,
    "start_time": "2022-03-06T20:08:06.661Z"
   },
   {
    "duration": 13,
    "start_time": "2022-03-06T20:08:06.671Z"
   },
   {
    "duration": 14,
    "start_time": "2022-03-06T20:08:06.732Z"
   },
   {
    "duration": 7,
    "start_time": "2022-03-06T20:08:06.748Z"
   },
   {
    "duration": 1567,
    "start_time": "2022-03-06T20:12:02.165Z"
   },
   {
    "duration": 81,
    "start_time": "2022-03-06T20:12:03.735Z"
   },
   {
    "duration": 30,
    "start_time": "2022-03-06T20:12:03.819Z"
   },
   {
    "duration": 4,
    "start_time": "2022-03-06T20:12:03.853Z"
   },
   {
    "duration": 14,
    "start_time": "2022-03-06T20:12:03.860Z"
   },
   {
    "duration": 5,
    "start_time": "2022-03-06T20:12:03.877Z"
   },
   {
    "duration": 50,
    "start_time": "2022-03-06T20:12:03.885Z"
   },
   {
    "duration": 8,
    "start_time": "2022-03-06T20:12:03.940Z"
   },
   {
    "duration": 35,
    "start_time": "2022-03-06T20:12:03.952Z"
   },
   {
    "duration": 48,
    "start_time": "2022-03-06T20:12:03.989Z"
   },
   {
    "duration": 29,
    "start_time": "2022-03-06T20:12:04.039Z"
   },
   {
    "duration": 14,
    "start_time": "2022-03-06T20:12:04.071Z"
   },
   {
    "duration": 16,
    "start_time": "2022-03-06T20:12:04.088Z"
   },
   {
    "duration": 27,
    "start_time": "2022-03-06T20:12:04.106Z"
   },
   {
    "duration": 1287,
    "start_time": "2022-03-06T20:12:04.136Z"
   },
   {
    "duration": 7,
    "start_time": "2022-03-06T20:12:05.432Z"
   },
   {
    "duration": 465,
    "start_time": "2022-03-06T20:12:05.441Z"
   },
   {
    "duration": 2316,
    "start_time": "2022-03-06T20:12:05.908Z"
   },
   {
    "duration": 22,
    "start_time": "2022-03-06T20:12:08.227Z"
   },
   {
    "duration": 21,
    "start_time": "2022-03-06T20:12:08.251Z"
   },
   {
    "duration": 3,
    "start_time": "2022-03-06T20:12:08.274Z"
   },
   {
    "duration": 1091,
    "start_time": "2022-03-06T20:12:08.279Z"
   },
   {
    "duration": 6,
    "start_time": "2022-03-06T20:12:09.376Z"
   },
   {
    "duration": 4,
    "start_time": "2022-03-06T20:12:09.385Z"
   },
   {
    "duration": 559,
    "start_time": "2022-03-06T20:12:09.392Z"
   },
   {
    "duration": 8,
    "start_time": "2022-03-06T20:12:09.953Z"
   },
   {
    "duration": 29,
    "start_time": "2022-03-06T20:12:09.963Z"
   },
   {
    "duration": 650,
    "start_time": "2022-03-06T20:12:09.994Z"
   },
   {
    "duration": 1123,
    "start_time": "2022-03-06T20:12:10.646Z"
   },
   {
    "duration": 788,
    "start_time": "2022-03-06T20:12:11.772Z"
   },
   {
    "duration": 11,
    "start_time": "2022-03-06T20:12:12.563Z"
   },
   {
    "duration": 27,
    "start_time": "2022-03-06T20:12:12.577Z"
   },
   {
    "duration": 27,
    "start_time": "2022-03-06T20:12:12.608Z"
   },
   {
    "duration": 27,
    "start_time": "2022-03-06T20:12:12.637Z"
   },
   {
    "duration": 472,
    "start_time": "2022-03-06T20:12:12.666Z"
   },
   {
    "duration": 7,
    "start_time": "2022-03-06T20:12:13.141Z"
   },
   {
    "duration": 430,
    "start_time": "2022-03-06T20:12:13.150Z"
   },
   {
    "duration": 7,
    "start_time": "2022-03-06T20:12:13.583Z"
   },
   {
    "duration": 340,
    "start_time": "2022-03-06T20:12:13.593Z"
   },
   {
    "duration": 1102,
    "start_time": "2022-03-06T20:12:13.935Z"
   },
   {
    "duration": 393,
    "start_time": "2022-03-06T20:12:15.040Z"
   },
   {
    "duration": 18,
    "start_time": "2022-03-06T20:12:15.435Z"
   },
   {
    "duration": 14,
    "start_time": "2022-03-06T20:12:15.456Z"
   },
   {
    "duration": 18,
    "start_time": "2022-03-06T20:12:15.472Z"
   },
   {
    "duration": 50,
    "start_time": "2022-03-06T20:12:15.492Z"
   },
   {
    "duration": 19,
    "start_time": "2022-03-06T20:12:15.544Z"
   },
   {
    "duration": 21,
    "start_time": "2022-03-06T20:12:15.565Z"
   },
   {
    "duration": 46,
    "start_time": "2022-03-06T20:12:15.588Z"
   },
   {
    "duration": 25,
    "start_time": "2022-03-06T20:12:15.637Z"
   },
   {
    "duration": 22,
    "start_time": "2022-03-06T20:12:15.665Z"
   },
   {
    "duration": 44,
    "start_time": "2022-03-06T20:12:15.690Z"
   },
   {
    "duration": 19,
    "start_time": "2022-03-06T20:12:15.736Z"
   },
   {
    "duration": 20,
    "start_time": "2022-03-06T20:12:15.757Z"
   },
   {
    "duration": 17,
    "start_time": "2022-03-06T20:12:15.780Z"
   },
   {
    "duration": 21,
    "start_time": "2022-03-06T20:12:15.831Z"
   },
   {
    "duration": 22,
    "start_time": "2022-03-06T20:12:15.854Z"
   },
   {
    "duration": 21,
    "start_time": "2022-03-06T20:12:15.878Z"
   },
   {
    "duration": 7,
    "start_time": "2022-03-06T20:12:15.933Z"
   },
   {
    "duration": 14,
    "start_time": "2022-03-06T20:12:15.942Z"
   },
   {
    "duration": 12,
    "start_time": "2022-03-06T20:12:15.958Z"
   },
   {
    "duration": 6,
    "start_time": "2022-03-06T20:12:15.973Z"
   },
   {
    "duration": 55,
    "start_time": "2022-03-06T20:12:15.981Z"
   },
   {
    "duration": 14,
    "start_time": "2022-03-06T20:12:16.038Z"
   },
   {
    "duration": 6,
    "start_time": "2022-03-06T20:12:16.055Z"
   },
   {
    "duration": 1487,
    "start_time": "2022-03-06T20:12:52.972Z"
   },
   {
    "duration": 84,
    "start_time": "2022-03-06T20:12:54.462Z"
   },
   {
    "duration": 22,
    "start_time": "2022-03-06T20:12:54.549Z"
   },
   {
    "duration": 3,
    "start_time": "2022-03-06T20:12:54.574Z"
   },
   {
    "duration": 14,
    "start_time": "2022-03-06T20:12:54.580Z"
   },
   {
    "duration": 38,
    "start_time": "2022-03-06T20:12:54.596Z"
   },
   {
    "duration": 11,
    "start_time": "2022-03-06T20:12:54.637Z"
   },
   {
    "duration": 6,
    "start_time": "2022-03-06T20:12:54.652Z"
   },
   {
    "duration": 36,
    "start_time": "2022-03-06T20:12:54.661Z"
   },
   {
    "duration": 9,
    "start_time": "2022-03-06T20:12:54.732Z"
   },
   {
    "duration": 25,
    "start_time": "2022-03-06T20:12:54.744Z"
   },
   {
    "duration": 14,
    "start_time": "2022-03-06T20:12:54.772Z"
   },
   {
    "duration": 54,
    "start_time": "2022-03-06T20:12:54.788Z"
   },
   {
    "duration": 3,
    "start_time": "2022-03-06T20:12:54.845Z"
   },
   {
    "duration": 1286,
    "start_time": "2022-03-06T20:12:54.851Z"
   },
   {
    "duration": 9,
    "start_time": "2022-03-06T20:12:56.140Z"
   },
   {
    "duration": 591,
    "start_time": "2022-03-06T20:12:56.152Z"
   },
   {
    "duration": 2292,
    "start_time": "2022-03-06T20:12:56.746Z"
   },
   {
    "duration": 20,
    "start_time": "2022-03-06T20:12:59.041Z"
   },
   {
    "duration": 21,
    "start_time": "2022-03-06T20:12:59.063Z"
   },
   {
    "duration": 3,
    "start_time": "2022-03-06T20:12:59.086Z"
   },
   {
    "duration": 1110,
    "start_time": "2022-03-06T20:12:59.092Z"
   },
   {
    "duration": 22,
    "start_time": "2022-03-06T20:13:00.211Z"
   },
   {
    "duration": 3,
    "start_time": "2022-03-06T20:13:00.239Z"
   },
   {
    "duration": 581,
    "start_time": "2022-03-06T20:13:00.245Z"
   },
   {
    "duration": 10,
    "start_time": "2022-03-06T20:13:00.828Z"
   },
   {
    "duration": 26,
    "start_time": "2022-03-06T20:13:00.840Z"
   },
   {
    "duration": 573,
    "start_time": "2022-03-06T20:13:00.868Z"
   },
   {
    "duration": 983,
    "start_time": "2022-03-06T20:13:01.443Z"
   },
   {
    "duration": 753,
    "start_time": "2022-03-06T20:13:02.432Z"
   },
   {
    "duration": 11,
    "start_time": "2022-03-06T20:13:03.187Z"
   },
   {
    "duration": 10,
    "start_time": "2022-03-06T20:13:03.201Z"
   },
   {
    "duration": 11,
    "start_time": "2022-03-06T20:13:03.233Z"
   },
   {
    "duration": 31,
    "start_time": "2022-03-06T20:13:03.246Z"
   },
   {
    "duration": 503,
    "start_time": "2022-03-06T20:13:03.279Z"
   },
   {
    "duration": 6,
    "start_time": "2022-03-06T20:13:03.785Z"
   },
   {
    "duration": 465,
    "start_time": "2022-03-06T20:13:03.793Z"
   },
   {
    "duration": 7,
    "start_time": "2022-03-06T20:13:04.262Z"
   },
   {
    "duration": 438,
    "start_time": "2022-03-06T20:13:04.272Z"
   },
   {
    "duration": 1124,
    "start_time": "2022-03-06T20:13:04.712Z"
   },
   {
    "duration": 411,
    "start_time": "2022-03-06T20:13:05.838Z"
   },
   {
    "duration": 20,
    "start_time": "2022-03-06T20:13:06.251Z"
   },
   {
    "duration": 18,
    "start_time": "2022-03-06T20:13:06.273Z"
   },
   {
    "duration": 42,
    "start_time": "2022-03-06T20:13:06.294Z"
   },
   {
    "duration": 24,
    "start_time": "2022-03-06T20:13:06.339Z"
   },
   {
    "duration": 21,
    "start_time": "2022-03-06T20:13:06.366Z"
   },
   {
    "duration": 61,
    "start_time": "2022-03-06T20:13:06.390Z"
   },
   {
    "duration": 22,
    "start_time": "2022-03-06T20:13:06.453Z"
   },
   {
    "duration": 20,
    "start_time": "2022-03-06T20:13:06.478Z"
   },
   {
    "duration": 52,
    "start_time": "2022-03-06T20:13:06.501Z"
   },
   {
    "duration": 18,
    "start_time": "2022-03-06T20:13:06.556Z"
   },
   {
    "duration": 57,
    "start_time": "2022-03-06T20:13:06.577Z"
   },
   {
    "duration": 20,
    "start_time": "2022-03-06T20:13:06.637Z"
   },
   {
    "duration": 21,
    "start_time": "2022-03-06T20:13:06.660Z"
   },
   {
    "duration": 49,
    "start_time": "2022-03-06T20:13:06.683Z"
   },
   {
    "duration": 24,
    "start_time": "2022-03-06T20:13:06.735Z"
   },
   {
    "duration": 131,
    "start_time": "2022-03-06T20:13:06.761Z"
   },
   {
    "duration": 8,
    "start_time": "2022-03-06T20:13:06.895Z"
   },
   {
    "duration": 16,
    "start_time": "2022-03-06T20:13:06.906Z"
   },
   {
    "duration": 15,
    "start_time": "2022-03-06T20:13:06.924Z"
   },
   {
    "duration": 8,
    "start_time": "2022-03-06T20:13:06.941Z"
   },
   {
    "duration": 13,
    "start_time": "2022-03-06T20:13:06.952Z"
   },
   {
    "duration": 13,
    "start_time": "2022-03-06T20:13:06.968Z"
   },
   {
    "duration": 7,
    "start_time": "2022-03-06T20:13:06.983Z"
   },
   {
    "duration": 1473,
    "start_time": "2022-03-07T09:14:19.399Z"
   },
   {
    "duration": 82,
    "start_time": "2022-03-07T09:14:20.875Z"
   },
   {
    "duration": 27,
    "start_time": "2022-03-07T09:14:20.960Z"
   },
   {
    "duration": 4,
    "start_time": "2022-03-07T09:14:20.990Z"
   },
   {
    "duration": 19,
    "start_time": "2022-03-07T09:14:20.996Z"
   },
   {
    "duration": 8,
    "start_time": "2022-03-07T09:14:21.017Z"
   },
   {
    "duration": 9,
    "start_time": "2022-03-07T09:14:21.028Z"
   },
   {
    "duration": 36,
    "start_time": "2022-03-07T09:14:21.041Z"
   },
   {
    "duration": 37,
    "start_time": "2022-03-07T09:14:21.080Z"
   },
   {
    "duration": 7,
    "start_time": "2022-03-07T09:14:21.119Z"
   },
   {
    "duration": 58,
    "start_time": "2022-03-07T09:14:21.128Z"
   },
   {
    "duration": 14,
    "start_time": "2022-03-07T09:14:21.188Z"
   },
   {
    "duration": 15,
    "start_time": "2022-03-07T09:14:21.204Z"
   },
   {
    "duration": 3,
    "start_time": "2022-03-07T09:14:21.222Z"
   },
   {
    "duration": 1339,
    "start_time": "2022-03-07T09:14:21.227Z"
   },
   {
    "duration": 7,
    "start_time": "2022-03-07T09:14:22.573Z"
   },
   {
    "duration": 491,
    "start_time": "2022-03-07T09:14:22.582Z"
   },
   {
    "duration": 2311,
    "start_time": "2022-03-07T09:14:23.075Z"
   },
   {
    "duration": 21,
    "start_time": "2022-03-07T09:14:25.388Z"
   },
   {
    "duration": 21,
    "start_time": "2022-03-07T09:14:25.412Z"
   },
   {
    "duration": 4,
    "start_time": "2022-03-07T09:14:25.435Z"
   },
   {
    "duration": 1115,
    "start_time": "2022-03-07T09:14:25.441Z"
   },
   {
    "duration": 13,
    "start_time": "2022-03-07T09:14:26.562Z"
   },
   {
    "duration": 6,
    "start_time": "2022-03-07T09:14:26.578Z"
   },
   {
    "duration": 595,
    "start_time": "2022-03-07T09:14:26.586Z"
   },
   {
    "duration": 7,
    "start_time": "2022-03-07T09:14:27.184Z"
   },
   {
    "duration": 29,
    "start_time": "2022-03-07T09:14:27.193Z"
   },
   {
    "duration": 581,
    "start_time": "2022-03-07T09:14:27.224Z"
   },
   {
    "duration": 1125,
    "start_time": "2022-03-07T09:14:27.809Z"
   },
   {
    "duration": 744,
    "start_time": "2022-03-07T09:14:28.937Z"
   },
   {
    "duration": 13,
    "start_time": "2022-03-07T09:14:29.684Z"
   },
   {
    "duration": 14,
    "start_time": "2022-03-07T09:14:29.700Z"
   },
   {
    "duration": 11,
    "start_time": "2022-03-07T09:14:29.716Z"
   },
   {
    "duration": 65,
    "start_time": "2022-03-07T09:14:29.729Z"
   },
   {
    "duration": 450,
    "start_time": "2022-03-07T09:14:29.797Z"
   },
   {
    "duration": 7,
    "start_time": "2022-03-07T09:14:30.250Z"
   },
   {
    "duration": 449,
    "start_time": "2022-03-07T09:14:30.275Z"
   },
   {
    "duration": 6,
    "start_time": "2022-03-07T09:14:30.727Z"
   },
   {
    "duration": 348,
    "start_time": "2022-03-07T09:14:30.735Z"
   },
   {
    "duration": 1123,
    "start_time": "2022-03-07T09:14:31.085Z"
   },
   {
    "duration": 415,
    "start_time": "2022-03-07T09:14:32.211Z"
   },
   {
    "duration": 20,
    "start_time": "2022-03-07T09:14:32.629Z"
   },
   {
    "duration": 14,
    "start_time": "2022-03-07T09:14:32.673Z"
   },
   {
    "duration": 22,
    "start_time": "2022-03-07T09:14:32.690Z"
   },
   {
    "duration": 60,
    "start_time": "2022-03-07T09:14:32.715Z"
   },
   {
    "duration": 21,
    "start_time": "2022-03-07T09:14:32.778Z"
   },
   {
    "duration": 22,
    "start_time": "2022-03-07T09:14:32.802Z"
   },
   {
    "duration": 55,
    "start_time": "2022-03-07T09:14:32.827Z"
   },
   {
    "duration": 20,
    "start_time": "2022-03-07T09:14:32.885Z"
   },
   {
    "duration": 22,
    "start_time": "2022-03-07T09:14:32.907Z"
   },
   {
    "duration": 57,
    "start_time": "2022-03-07T09:14:32.931Z"
   },
   {
    "duration": 21,
    "start_time": "2022-03-07T09:14:32.990Z"
   },
   {
    "duration": 27,
    "start_time": "2022-03-07T09:14:33.013Z"
   },
   {
    "duration": 43,
    "start_time": "2022-03-07T09:14:33.043Z"
   },
   {
    "duration": 20,
    "start_time": "2022-03-07T09:14:33.089Z"
   },
   {
    "duration": 20,
    "start_time": "2022-03-07T09:14:33.111Z"
   },
   {
    "duration": 52,
    "start_time": "2022-03-07T09:14:33.134Z"
   },
   {
    "duration": 20,
    "start_time": "2022-03-07T09:14:33.189Z"
   },
   {
    "duration": 16,
    "start_time": "2022-03-07T09:14:33.212Z"
   },
   {
    "duration": 46,
    "start_time": "2022-03-07T09:14:33.230Z"
   },
   {
    "duration": 8,
    "start_time": "2022-03-07T09:14:33.279Z"
   },
   {
    "duration": 22,
    "start_time": "2022-03-07T09:14:33.291Z"
   },
   {
    "duration": 17,
    "start_time": "2022-03-07T09:14:33.317Z"
   },
   {
    "duration": 42,
    "start_time": "2022-03-07T09:14:33.337Z"
   },
   {
    "duration": 71,
    "start_time": "2022-04-15T19:57:28.714Z"
   },
   {
    "duration": 1763,
    "start_time": "2022-04-15T19:57:33.819Z"
   },
   {
    "duration": 97,
    "start_time": "2022-04-15T19:57:35.584Z"
   },
   {
    "duration": 24,
    "start_time": "2022-04-15T19:57:35.684Z"
   },
   {
    "duration": 4,
    "start_time": "2022-04-15T19:57:35.712Z"
   },
   {
    "duration": 44,
    "start_time": "2022-04-15T19:57:35.719Z"
   },
   {
    "duration": 6,
    "start_time": "2022-04-15T19:57:35.765Z"
   },
   {
    "duration": 14,
    "start_time": "2022-04-15T19:57:35.774Z"
   },
   {
    "duration": 15,
    "start_time": "2022-04-15T19:57:35.792Z"
   },
   {
    "duration": 43,
    "start_time": "2022-04-15T19:57:35.809Z"
   },
   {
    "duration": 8,
    "start_time": "2022-04-15T19:57:35.857Z"
   },
   {
    "duration": 45,
    "start_time": "2022-04-15T19:57:35.867Z"
   },
   {
    "duration": 20,
    "start_time": "2022-04-15T19:57:35.915Z"
   },
   {
    "duration": 38,
    "start_time": "2022-04-15T19:57:35.936Z"
   },
   {
    "duration": 3,
    "start_time": "2022-04-15T19:57:35.977Z"
   },
   {
    "duration": 946,
    "start_time": "2022-04-15T19:57:35.983Z"
   },
   {
    "duration": 6,
    "start_time": "2022-04-15T19:57:36.931Z"
   },
   {
    "duration": 472,
    "start_time": "2022-04-15T19:57:36.939Z"
   },
   {
    "duration": 1653,
    "start_time": "2022-04-15T19:57:37.414Z"
   },
   {
    "duration": 20,
    "start_time": "2022-04-15T19:57:39.070Z"
   },
   {
    "duration": 20,
    "start_time": "2022-04-15T19:57:39.093Z"
   },
   {
    "duration": 3,
    "start_time": "2022-04-15T19:57:39.114Z"
   },
   {
    "duration": 939,
    "start_time": "2022-04-15T19:57:39.119Z"
   },
   {
    "duration": 6,
    "start_time": "2022-04-15T19:57:40.061Z"
   },
   {
    "duration": 12,
    "start_time": "2022-04-15T19:57:40.068Z"
   },
   {
    "duration": 500,
    "start_time": "2022-04-15T19:57:40.082Z"
   },
   {
    "duration": 10,
    "start_time": "2022-04-15T19:57:40.584Z"
   },
   {
    "duration": 26,
    "start_time": "2022-04-15T19:57:40.596Z"
   },
   {
    "duration": 540,
    "start_time": "2022-04-15T19:57:40.652Z"
   },
   {
    "duration": 665,
    "start_time": "2022-04-15T19:57:41.194Z"
   },
   {
    "duration": 468,
    "start_time": "2022-04-15T19:57:41.861Z"
   },
   {
    "duration": 23,
    "start_time": "2022-04-15T19:57:42.331Z"
   },
   {
    "duration": 12,
    "start_time": "2022-04-15T19:57:42.356Z"
   },
   {
    "duration": 13,
    "start_time": "2022-04-15T19:57:42.371Z"
   },
   {
    "duration": 27,
    "start_time": "2022-04-15T19:57:42.386Z"
   },
   {
    "duration": 317,
    "start_time": "2022-04-15T19:57:42.451Z"
   },
   {
    "duration": 6,
    "start_time": "2022-04-15T19:57:42.771Z"
   },
   {
    "duration": 272,
    "start_time": "2022-04-15T19:57:42.780Z"
   },
   {
    "duration": 5,
    "start_time": "2022-04-15T19:57:43.054Z"
   },
   {
    "duration": 301,
    "start_time": "2022-04-15T19:57:43.062Z"
   },
   {
    "duration": 1139,
    "start_time": "2022-04-15T19:57:43.365Z"
   },
   {
    "duration": 264,
    "start_time": "2022-04-15T19:57:44.507Z"
   },
   {
    "duration": 21,
    "start_time": "2022-04-15T19:57:44.773Z"
   },
   {
    "duration": 34,
    "start_time": "2022-04-15T19:57:44.797Z"
   },
   {
    "duration": 35,
    "start_time": "2022-04-15T19:57:44.833Z"
   },
   {
    "duration": 30,
    "start_time": "2022-04-15T19:57:44.872Z"
   },
   {
    "duration": 20,
    "start_time": "2022-04-15T19:57:44.904Z"
   },
   {
    "duration": 38,
    "start_time": "2022-04-15T19:57:44.927Z"
   },
   {
    "duration": 19,
    "start_time": "2022-04-15T19:57:44.968Z"
   },
   {
    "duration": 35,
    "start_time": "2022-04-15T19:57:44.990Z"
   },
   {
    "duration": 21,
    "start_time": "2022-04-15T19:57:45.053Z"
   },
   {
    "duration": 44,
    "start_time": "2022-04-15T19:57:45.076Z"
   },
   {
    "duration": 32,
    "start_time": "2022-04-15T19:57:45.122Z"
   },
   {
    "duration": 18,
    "start_time": "2022-04-15T19:57:45.157Z"
   },
   {
    "duration": 32,
    "start_time": "2022-04-15T19:57:45.178Z"
   },
   {
    "duration": 41,
    "start_time": "2022-04-15T19:57:45.212Z"
   },
   {
    "duration": 28,
    "start_time": "2022-04-15T19:57:45.255Z"
   },
   {
    "duration": 50,
    "start_time": "2022-04-15T19:57:45.285Z"
   },
   {
    "duration": 15,
    "start_time": "2022-04-15T19:57:45.337Z"
   },
   {
    "duration": 35,
    "start_time": "2022-04-15T19:57:45.355Z"
   },
   {
    "duration": 15,
    "start_time": "2022-04-15T19:57:45.392Z"
   },
   {
    "duration": 9,
    "start_time": "2022-04-15T19:57:45.410Z"
   },
   {
    "duration": 30,
    "start_time": "2022-04-15T19:57:45.422Z"
   },
   {
    "duration": 18,
    "start_time": "2022-04-15T19:57:45.454Z"
   },
   {
    "duration": 18,
    "start_time": "2022-04-15T19:57:45.475Z"
   },
   {
    "duration": 1282,
    "start_time": "2022-05-20T15:49:55.374Z"
   },
   {
    "duration": 222,
    "start_time": "2022-05-20T15:49:56.658Z"
   },
   {
    "duration": 15,
    "start_time": "2022-05-20T15:49:56.882Z"
   },
   {
    "duration": 10,
    "start_time": "2022-05-20T15:49:56.898Z"
   },
   {
    "duration": 44,
    "start_time": "2022-05-20T15:49:56.910Z"
   },
   {
    "duration": 4,
    "start_time": "2022-05-20T15:49:56.956Z"
   },
   {
    "duration": 7,
    "start_time": "2022-05-20T15:49:56.961Z"
   },
   {
    "duration": 6,
    "start_time": "2022-05-20T15:49:56.969Z"
   },
   {
    "duration": 10,
    "start_time": "2022-05-20T15:49:56.976Z"
   },
   {
    "duration": 4,
    "start_time": "2022-05-20T15:49:56.989Z"
   },
   {
    "duration": 22,
    "start_time": "2022-05-20T15:49:56.995Z"
   },
   {
    "duration": 14,
    "start_time": "2022-05-20T15:49:57.025Z"
   },
   {
    "duration": 14,
    "start_time": "2022-05-20T15:49:57.041Z"
   },
   {
    "duration": 2,
    "start_time": "2022-05-20T15:49:57.057Z"
   },
   {
    "duration": 570,
    "start_time": "2022-05-20T15:49:57.060Z"
   },
   {
    "duration": 5,
    "start_time": "2022-05-20T15:49:57.631Z"
   },
   {
    "duration": 206,
    "start_time": "2022-05-20T15:49:57.637Z"
   },
   {
    "duration": 911,
    "start_time": "2022-05-20T15:49:57.845Z"
   },
   {
    "duration": 13,
    "start_time": "2022-05-20T15:49:58.757Z"
   },
   {
    "duration": 13,
    "start_time": "2022-05-20T15:49:58.771Z"
   },
   {
    "duration": 3,
    "start_time": "2022-05-20T15:49:58.785Z"
   },
   {
    "duration": 637,
    "start_time": "2022-05-20T15:49:58.789Z"
   },
   {
    "duration": 5,
    "start_time": "2022-05-20T15:49:59.427Z"
   },
   {
    "duration": 5,
    "start_time": "2022-05-20T15:49:59.433Z"
   },
   {
    "duration": 239,
    "start_time": "2022-05-20T15:49:59.440Z"
   },
   {
    "duration": 6,
    "start_time": "2022-05-20T15:49:59.680Z"
   },
   {
    "duration": 12,
    "start_time": "2022-05-20T15:49:59.687Z"
   },
   {
    "duration": 284,
    "start_time": "2022-05-20T15:49:59.703Z"
   },
   {
    "duration": 436,
    "start_time": "2022-05-20T15:49:59.988Z"
   },
   {
    "duration": 219,
    "start_time": "2022-05-20T15:50:00.426Z"
   },
   {
    "duration": 7,
    "start_time": "2022-05-20T15:50:00.647Z"
   },
   {
    "duration": 82,
    "start_time": "2022-05-20T15:50:00.656Z"
   },
   {
    "duration": 25,
    "start_time": "2022-05-20T15:50:00.740Z"
   },
   {
    "duration": 21,
    "start_time": "2022-05-20T15:50:00.767Z"
   },
   {
    "duration": 178,
    "start_time": "2022-05-20T15:50:00.789Z"
   },
   {
    "duration": 4,
    "start_time": "2022-05-20T15:50:00.968Z"
   },
   {
    "duration": 169,
    "start_time": "2022-05-20T15:50:00.974Z"
   },
   {
    "duration": 5,
    "start_time": "2022-05-20T15:50:01.144Z"
   },
   {
    "duration": 186,
    "start_time": "2022-05-20T15:50:01.150Z"
   },
   {
    "duration": 561,
    "start_time": "2022-05-20T15:50:01.338Z"
   },
   {
    "duration": 168,
    "start_time": "2022-05-20T15:50:01.901Z"
   },
   {
    "duration": 14,
    "start_time": "2022-05-20T15:50:02.071Z"
   },
   {
    "duration": 57,
    "start_time": "2022-05-20T15:50:02.087Z"
   },
   {
    "duration": 16,
    "start_time": "2022-05-20T15:50:02.146Z"
   },
   {
    "duration": 43,
    "start_time": "2022-05-20T15:50:02.164Z"
   },
   {
    "duration": 28,
    "start_time": "2022-05-20T15:50:02.209Z"
   },
   {
    "duration": 21,
    "start_time": "2022-05-20T15:50:02.238Z"
   },
   {
    "duration": 37,
    "start_time": "2022-05-20T15:50:02.261Z"
   },
   {
    "duration": 23,
    "start_time": "2022-05-20T15:50:02.300Z"
   },
   {
    "duration": 38,
    "start_time": "2022-05-20T15:50:02.325Z"
   },
   {
    "duration": 34,
    "start_time": "2022-05-20T15:50:02.365Z"
   },
   {
    "duration": 46,
    "start_time": "2022-05-20T15:50:02.400Z"
   },
   {
    "duration": 51,
    "start_time": "2022-05-20T15:50:02.447Z"
   },
   {
    "duration": 31,
    "start_time": "2022-05-20T15:50:02.500Z"
   },
   {
    "duration": 36,
    "start_time": "2022-05-20T15:50:02.533Z"
   },
   {
    "duration": 21,
    "start_time": "2022-05-20T15:50:02.570Z"
   },
   {
    "duration": 50,
    "start_time": "2022-05-20T15:50:02.593Z"
   },
   {
    "duration": 37,
    "start_time": "2022-05-20T15:50:02.644Z"
   },
   {
    "duration": 47,
    "start_time": "2022-05-20T15:50:02.682Z"
   },
   {
    "duration": 29,
    "start_time": "2022-05-20T15:50:02.731Z"
   },
   {
    "duration": 20,
    "start_time": "2022-05-20T15:50:02.761Z"
   },
   {
    "duration": 27,
    "start_time": "2022-05-20T15:50:02.782Z"
   },
   {
    "duration": 31,
    "start_time": "2022-05-20T15:50:02.810Z"
   },
   {
    "duration": 19,
    "start_time": "2022-05-20T15:50:02.842Z"
   }
  ],
  "kernelspec": {
   "display_name": "Python 3 (ipykernel)",
   "language": "python",
   "name": "python3"
  },
  "language_info": {
   "codemirror_mode": {
    "name": "ipython",
    "version": 3
   },
   "file_extension": ".py",
   "mimetype": "text/x-python",
   "name": "python",
   "nbconvert_exporter": "python",
   "pygments_lexer": "ipython3",
   "version": "3.9.7"
  },
  "toc": {
   "base_numbering": 1,
   "nav_menu": {},
   "number_sections": true,
   "sideBar": true,
   "skip_h1_title": true,
   "title_cell": "Table of Contents",
   "title_sidebar": "Contents",
   "toc_cell": false,
   "toc_position": {},
   "toc_section_display": true,
   "toc_window_display": false
  }
 },
 "nbformat": 4,
 "nbformat_minor": 2
}
