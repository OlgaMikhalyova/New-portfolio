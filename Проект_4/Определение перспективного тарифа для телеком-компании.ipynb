{
 "cells": [
  {
   "cell_type": "markdown",
   "metadata": {},
   "source": [
    "<h1>Содержание<span class=\"toc-item\"></span></h1>\n",
    "</li><li><span><a href=\"#Изучение данных з файла\" data-toc-modified-id=\"Изучение данных из файла-1\"><span class=\"toc-item-num\">1&nbsp;&nbsp;</span>Изучение данных из файла</a></span></li></ul></div><li><span><a <span><a href=\"#Предобработка-данных\" data-toc-modified-id=\"Предобработка-данных-2\"><span class=\"toc-item-num\">2&nbsp;&nbsp;</span>Предобработка данных</a></span></li><li><span><a href=\"Исследовательский анализ данных\" data-toc-modified-id=\"Исследовательский анализ данных-3\"><span class=\"toc-item-num\">3&nbsp;&nbsp;</span>Исследовательский анализ данных</a></span></li><li><span><a href=\"#Проверка гипотез\" data-toc-modified-id=\"Проверка гипотез-4\"><span class=\"toc-item-num\">4&nbsp;&nbsp;</span>Проверка гипотез</a></span></li><li><span><a href=\"#Общий-вывод\" data-toc-modified-id=\"Общий-вывод-5\"><span class=\"toc-item-num\">5&nbsp;&nbsp;</span>Общий вывод</a></span></li>"
   ]
  },
  {
   "cell_type": "markdown",
   "metadata": {},
   "source": [
    "# Определение перспективного тарифа для телеком-компании"
   ]
  },
  {
   "cell_type": "markdown",
   "metadata": {},
   "source": [
    "Для проведения исследовательского анализа обратились менеджеры компании «Мегалайна». Компания предлагает клиентамт два тарифных плана: «Смарт» и «Ультра». Сотрудники коммерческого отдела, какой из предложенных тарифов более выгодный для клиентов, чотбы выстроить верную рекламную концепцию и заложить соответсвующий бюджет. Сотрудники предоставили данные на 500 пользователей «Мегалайна» за 2018 год (основная информация - из какого они города, к каому тарифному плану подключены, сколько звонков и сообщений совершуают за меясц). Необходимо сделать вывод, какой тариф выгодней.\n",
    "\n",
    "# Описание тарифов\n",
    "\n",
    "# Тариф «Смарт»\n",
    "- Ежемесячная плата: 550 рублей\n",
    "- Включено 500 минут разговора, 50 сообщений и 15 Гб интернет-трафика\n",
    "- Стоимость услуг сверх тарифного пакета: 1. минута разговора: 3 рубля («Мегалайн» всегда округляет вверх значения минут и мегабайтов. Если пользователь проговорил всего 1 секунду, в тарифе засчитывается целая минута); 2. сообщение: 3 рубля; 3. 1 Гб интернет-трафика: 200 рублей.\n",
    "\n",
    "# Тариф «Ультра»\n",
    "- Ежемесячная плата: 1950 рублей\n",
    "- Включено 3000 минут разговора, 1000 сообщений и 30 Гб интернет-трафика\n",
    "- Стоимость услуг сверх тарифного пакета: 1. минута разговора: 1 рубль; 2. сообщение: 1 рубль; 3. 1 Гб интернет-трафика: 150 рублей."
   ]
  },
  {
   "cell_type": "markdown",
   "metadata": {},
   "source": [
    "## Изучение данных из файла"
   ]
  },
  {
   "cell_type": "code",
   "execution_count": 1,
   "metadata": {},
   "outputs": [],
   "source": [
    "# импорт библиотек\n",
    "\n",
    "import pandas as pd\n",
    "import matplotlib.pyplot as plt\n",
    "import numpy as np\n",
    "import scipy.stats as st"
   ]
  },
  {
   "cell_type": "code",
   "execution_count": 2,
   "metadata": {},
   "outputs": [
    {
     "data": {
      "text/html": [
       "<div>\n",
       "<style scoped>\n",
       "    .dataframe tbody tr th:only-of-type {\n",
       "        vertical-align: middle;\n",
       "    }\n",
       "\n",
       "    .dataframe tbody tr th {\n",
       "        vertical-align: top;\n",
       "    }\n",
       "\n",
       "    .dataframe thead th {\n",
       "        text-align: right;\n",
       "    }\n",
       "</style>\n",
       "<table border=\"1\" class=\"dataframe\">\n",
       "  <thead>\n",
       "    <tr style=\"text-align: right;\">\n",
       "      <th></th>\n",
       "      <th>id</th>\n",
       "      <th>call_date</th>\n",
       "      <th>duration</th>\n",
       "      <th>user_id</th>\n",
       "    </tr>\n",
       "  </thead>\n",
       "  <tbody>\n",
       "    <tr>\n",
       "      <td>0</td>\n",
       "      <td>1000_0</td>\n",
       "      <td>2018-07-25</td>\n",
       "      <td>0.00</td>\n",
       "      <td>1000</td>\n",
       "    </tr>\n",
       "    <tr>\n",
       "      <td>1</td>\n",
       "      <td>1000_1</td>\n",
       "      <td>2018-08-17</td>\n",
       "      <td>0.00</td>\n",
       "      <td>1000</td>\n",
       "    </tr>\n",
       "    <tr>\n",
       "      <td>2</td>\n",
       "      <td>1000_2</td>\n",
       "      <td>2018-06-11</td>\n",
       "      <td>2.85</td>\n",
       "      <td>1000</td>\n",
       "    </tr>\n",
       "    <tr>\n",
       "      <td>3</td>\n",
       "      <td>1000_3</td>\n",
       "      <td>2018-09-21</td>\n",
       "      <td>13.80</td>\n",
       "      <td>1000</td>\n",
       "    </tr>\n",
       "    <tr>\n",
       "      <td>4</td>\n",
       "      <td>1000_4</td>\n",
       "      <td>2018-12-15</td>\n",
       "      <td>5.18</td>\n",
       "      <td>1000</td>\n",
       "    </tr>\n",
       "    <tr>\n",
       "      <td>5</td>\n",
       "      <td>1000_5</td>\n",
       "      <td>2018-11-02</td>\n",
       "      <td>0.00</td>\n",
       "      <td>1000</td>\n",
       "    </tr>\n",
       "    <tr>\n",
       "      <td>6</td>\n",
       "      <td>1000_6</td>\n",
       "      <td>2018-10-18</td>\n",
       "      <td>0.00</td>\n",
       "      <td>1000</td>\n",
       "    </tr>\n",
       "    <tr>\n",
       "      <td>7</td>\n",
       "      <td>1000_7</td>\n",
       "      <td>2018-08-22</td>\n",
       "      <td>18.31</td>\n",
       "      <td>1000</td>\n",
       "    </tr>\n",
       "    <tr>\n",
       "      <td>8</td>\n",
       "      <td>1000_8</td>\n",
       "      <td>2018-09-15</td>\n",
       "      <td>18.44</td>\n",
       "      <td>1000</td>\n",
       "    </tr>\n",
       "    <tr>\n",
       "      <td>9</td>\n",
       "      <td>1000_9</td>\n",
       "      <td>2018-08-15</td>\n",
       "      <td>0.00</td>\n",
       "      <td>1000</td>\n",
       "    </tr>\n",
       "  </tbody>\n",
       "</table>\n",
       "</div>"
      ],
      "text/plain": [
       "       id   call_date  duration  user_id\n",
       "0  1000_0  2018-07-25      0.00     1000\n",
       "1  1000_1  2018-08-17      0.00     1000\n",
       "2  1000_2  2018-06-11      2.85     1000\n",
       "3  1000_3  2018-09-21     13.80     1000\n",
       "4  1000_4  2018-12-15      5.18     1000\n",
       "5  1000_5  2018-11-02      0.00     1000\n",
       "6  1000_6  2018-10-18      0.00     1000\n",
       "7  1000_7  2018-08-22     18.31     1000\n",
       "8  1000_8  2018-09-15     18.44     1000\n",
       "9  1000_9  2018-08-15      0.00     1000"
      ]
     },
     "metadata": {},
     "output_type": "display_data"
    },
    {
     "name": "stdout",
     "output_type": "stream",
     "text": [
      "<class 'pandas.core.frame.DataFrame'>\n",
      "RangeIndex: 202607 entries, 0 to 202606\n",
      "Data columns (total 4 columns):\n",
      "id           202607 non-null object\n",
      "call_date    202607 non-null object\n",
      "duration     202607 non-null float64\n",
      "user_id      202607 non-null int64\n",
      "dtypes: float64(1), int64(1), object(2)\n",
      "memory usage: 6.2+ MB\n"
     ]
    }
   ],
   "source": [
    "calls = pd.read_csv('/datasets/calls.csv') # прочитала первый файл /datasets/calls.csv методом info получена общая информация о таблице\n",
    "display(calls.head(10))\n",
    "calls.info()"
   ]
  },
  {
   "cell_type": "code",
   "execution_count": 3,
   "metadata": {},
   "outputs": [
    {
     "data": {
      "text/plain": [
       "0"
      ]
     },
     "execution_count": 3,
     "metadata": {},
     "output_type": "execute_result"
    }
   ],
   "source": [
    "calls.duplicated().sum() # проверка дубликатов в таблице calls"
   ]
  },
  {
   "cell_type": "markdown",
   "metadata": {},
   "source": [
    "# Таблица calls (информация о звонках):\n",
    "\n",
    "- id — уникальный номер звонка\n",
    "- call_date — дата звонка\n",
    "- duration — длительность звонка в минутах\n",
    "- user_id — идентификатор пользователя, сделавшего звонок"
   ]
  },
  {
   "cell_type": "markdown",
   "metadata": {},
   "source": [
    "# Выявленные ошибки в таблице calls\n",
    "\n",
    "- неверный формат данных даты в столбце call_date\n",
    "- значения в столбце duration представлены в формате float64, необходимо округлить и изменить формат на integer, так как «Мегалайн» всегда округляет секунды до минут\n",
    "- в таблице 202607 строк, пропусков нет"
   ]
  },
  {
   "cell_type": "code",
   "execution_count": 4,
   "metadata": {},
   "outputs": [
    {
     "data": {
      "text/html": [
       "<div>\n",
       "<style scoped>\n",
       "    .dataframe tbody tr th:only-of-type {\n",
       "        vertical-align: middle;\n",
       "    }\n",
       "\n",
       "    .dataframe tbody tr th {\n",
       "        vertical-align: top;\n",
       "    }\n",
       "\n",
       "    .dataframe thead th {\n",
       "        text-align: right;\n",
       "    }\n",
       "</style>\n",
       "<table border=\"1\" class=\"dataframe\">\n",
       "  <thead>\n",
       "    <tr style=\"text-align: right;\">\n",
       "      <th></th>\n",
       "      <th>Unnamed: 0</th>\n",
       "      <th>id</th>\n",
       "      <th>mb_used</th>\n",
       "      <th>session_date</th>\n",
       "      <th>user_id</th>\n",
       "    </tr>\n",
       "  </thead>\n",
       "  <tbody>\n",
       "    <tr>\n",
       "      <td>0</td>\n",
       "      <td>0</td>\n",
       "      <td>1000_0</td>\n",
       "      <td>112.95</td>\n",
       "      <td>2018-11-25</td>\n",
       "      <td>1000</td>\n",
       "    </tr>\n",
       "    <tr>\n",
       "      <td>1</td>\n",
       "      <td>1</td>\n",
       "      <td>1000_1</td>\n",
       "      <td>1052.81</td>\n",
       "      <td>2018-09-07</td>\n",
       "      <td>1000</td>\n",
       "    </tr>\n",
       "    <tr>\n",
       "      <td>2</td>\n",
       "      <td>2</td>\n",
       "      <td>1000_2</td>\n",
       "      <td>1197.26</td>\n",
       "      <td>2018-06-25</td>\n",
       "      <td>1000</td>\n",
       "    </tr>\n",
       "    <tr>\n",
       "      <td>3</td>\n",
       "      <td>3</td>\n",
       "      <td>1000_3</td>\n",
       "      <td>550.27</td>\n",
       "      <td>2018-08-22</td>\n",
       "      <td>1000</td>\n",
       "    </tr>\n",
       "    <tr>\n",
       "      <td>4</td>\n",
       "      <td>4</td>\n",
       "      <td>1000_4</td>\n",
       "      <td>302.56</td>\n",
       "      <td>2018-09-24</td>\n",
       "      <td>1000</td>\n",
       "    </tr>\n",
       "    <tr>\n",
       "      <td>5</td>\n",
       "      <td>5</td>\n",
       "      <td>1000_5</td>\n",
       "      <td>399.97</td>\n",
       "      <td>2018-10-02</td>\n",
       "      <td>1000</td>\n",
       "    </tr>\n",
       "    <tr>\n",
       "      <td>6</td>\n",
       "      <td>6</td>\n",
       "      <td>1000_6</td>\n",
       "      <td>540.08</td>\n",
       "      <td>2018-09-07</td>\n",
       "      <td>1000</td>\n",
       "    </tr>\n",
       "    <tr>\n",
       "      <td>7</td>\n",
       "      <td>7</td>\n",
       "      <td>1000_7</td>\n",
       "      <td>415.70</td>\n",
       "      <td>2018-07-11</td>\n",
       "      <td>1000</td>\n",
       "    </tr>\n",
       "    <tr>\n",
       "      <td>8</td>\n",
       "      <td>8</td>\n",
       "      <td>1000_8</td>\n",
       "      <td>505.40</td>\n",
       "      <td>2018-10-08</td>\n",
       "      <td>1000</td>\n",
       "    </tr>\n",
       "    <tr>\n",
       "      <td>9</td>\n",
       "      <td>9</td>\n",
       "      <td>1000_9</td>\n",
       "      <td>345.54</td>\n",
       "      <td>2018-09-03</td>\n",
       "      <td>1000</td>\n",
       "    </tr>\n",
       "  </tbody>\n",
       "</table>\n",
       "</div>"
      ],
      "text/plain": [
       "   Unnamed: 0      id  mb_used session_date  user_id\n",
       "0           0  1000_0   112.95   2018-11-25     1000\n",
       "1           1  1000_1  1052.81   2018-09-07     1000\n",
       "2           2  1000_2  1197.26   2018-06-25     1000\n",
       "3           3  1000_3   550.27   2018-08-22     1000\n",
       "4           4  1000_4   302.56   2018-09-24     1000\n",
       "5           5  1000_5   399.97   2018-10-02     1000\n",
       "6           6  1000_6   540.08   2018-09-07     1000\n",
       "7           7  1000_7   415.70   2018-07-11     1000\n",
       "8           8  1000_8   505.40   2018-10-08     1000\n",
       "9           9  1000_9   345.54   2018-09-03     1000"
      ]
     },
     "metadata": {},
     "output_type": "display_data"
    },
    {
     "name": "stdout",
     "output_type": "stream",
     "text": [
      "<class 'pandas.core.frame.DataFrame'>\n",
      "RangeIndex: 149396 entries, 0 to 149395\n",
      "Data columns (total 5 columns):\n",
      "Unnamed: 0      149396 non-null int64\n",
      "id              149396 non-null object\n",
      "mb_used         149396 non-null float64\n",
      "session_date    149396 non-null object\n",
      "user_id         149396 non-null int64\n",
      "dtypes: float64(1), int64(2), object(2)\n",
      "memory usage: 5.7+ MB\n"
     ]
    }
   ],
   "source": [
    "internet = pd.read_csv('/datasets/internet.csv') # прочитала второй файл /datasets/internet.csv методом info получена общая информация о таблице\n",
    "display(internet.head(10))\n",
    "internet.info()"
   ]
  },
  {
   "cell_type": "code",
   "execution_count": 5,
   "metadata": {},
   "outputs": [
    {
     "data": {
      "text/plain": [
       "0"
      ]
     },
     "execution_count": 5,
     "metadata": {},
     "output_type": "execute_result"
    }
   ],
   "source": [
    "internet.duplicated().sum() # проверка дубликатов в таблице internet"
   ]
  },
  {
   "cell_type": "markdown",
   "metadata": {},
   "source": [
    "# Таблица internet (информация об интернет-сессиях):\n",
    "\n",
    "- id — уникальный номер сессии\n",
    "- mb_used — объём потраченного за сессию интернет-трафика (в мегабайтах)\n",
    "- session_date — дата интернет-сессии\n",
    "- user_id — идентификатор пользователя"
   ]
  },
  {
   "cell_type": "markdown",
   "metadata": {},
   "source": [
    "# Выявленные ошибки в таблице internet \n",
    "\n",
    "- в таблице заадублирован столбец нумерации Unnamed:0 - его необходимо удалить\n",
    "- объём потраченного за сессию интернет-трафика представлен в мегабайтах, необходимо перевести в гигабайти и окгрулить в большую сторону по условиям тарифа\n",
    "- в столбце session_date неверный формат даты\n",
    "- в таблице 149396 строк, пропусков не выявлено"
   ]
  },
  {
   "cell_type": "code",
   "execution_count": 6,
   "metadata": {},
   "outputs": [
    {
     "data": {
      "text/html": [
       "<div>\n",
       "<style scoped>\n",
       "    .dataframe tbody tr th:only-of-type {\n",
       "        vertical-align: middle;\n",
       "    }\n",
       "\n",
       "    .dataframe tbody tr th {\n",
       "        vertical-align: top;\n",
       "    }\n",
       "\n",
       "    .dataframe thead th {\n",
       "        text-align: right;\n",
       "    }\n",
       "</style>\n",
       "<table border=\"1\" class=\"dataframe\">\n",
       "  <thead>\n",
       "    <tr style=\"text-align: right;\">\n",
       "      <th></th>\n",
       "      <th>id</th>\n",
       "      <th>message_date</th>\n",
       "      <th>user_id</th>\n",
       "    </tr>\n",
       "  </thead>\n",
       "  <tbody>\n",
       "    <tr>\n",
       "      <td>0</td>\n",
       "      <td>1000_0</td>\n",
       "      <td>2018-06-27</td>\n",
       "      <td>1000</td>\n",
       "    </tr>\n",
       "    <tr>\n",
       "      <td>1</td>\n",
       "      <td>1000_1</td>\n",
       "      <td>2018-10-08</td>\n",
       "      <td>1000</td>\n",
       "    </tr>\n",
       "    <tr>\n",
       "      <td>2</td>\n",
       "      <td>1000_2</td>\n",
       "      <td>2018-08-04</td>\n",
       "      <td>1000</td>\n",
       "    </tr>\n",
       "    <tr>\n",
       "      <td>3</td>\n",
       "      <td>1000_3</td>\n",
       "      <td>2018-06-16</td>\n",
       "      <td>1000</td>\n",
       "    </tr>\n",
       "    <tr>\n",
       "      <td>4</td>\n",
       "      <td>1000_4</td>\n",
       "      <td>2018-12-05</td>\n",
       "      <td>1000</td>\n",
       "    </tr>\n",
       "    <tr>\n",
       "      <td>5</td>\n",
       "      <td>1000_5</td>\n",
       "      <td>2018-06-20</td>\n",
       "      <td>1000</td>\n",
       "    </tr>\n",
       "    <tr>\n",
       "      <td>6</td>\n",
       "      <td>1000_6</td>\n",
       "      <td>2018-11-19</td>\n",
       "      <td>1000</td>\n",
       "    </tr>\n",
       "    <tr>\n",
       "      <td>7</td>\n",
       "      <td>1000_7</td>\n",
       "      <td>2018-10-29</td>\n",
       "      <td>1000</td>\n",
       "    </tr>\n",
       "    <tr>\n",
       "      <td>8</td>\n",
       "      <td>1000_8</td>\n",
       "      <td>2018-06-25</td>\n",
       "      <td>1000</td>\n",
       "    </tr>\n",
       "    <tr>\n",
       "      <td>9</td>\n",
       "      <td>1000_9</td>\n",
       "      <td>2018-12-18</td>\n",
       "      <td>1000</td>\n",
       "    </tr>\n",
       "  </tbody>\n",
       "</table>\n",
       "</div>"
      ],
      "text/plain": [
       "       id message_date  user_id\n",
       "0  1000_0   2018-06-27     1000\n",
       "1  1000_1   2018-10-08     1000\n",
       "2  1000_2   2018-08-04     1000\n",
       "3  1000_3   2018-06-16     1000\n",
       "4  1000_4   2018-12-05     1000\n",
       "5  1000_5   2018-06-20     1000\n",
       "6  1000_6   2018-11-19     1000\n",
       "7  1000_7   2018-10-29     1000\n",
       "8  1000_8   2018-06-25     1000\n",
       "9  1000_9   2018-12-18     1000"
      ]
     },
     "metadata": {},
     "output_type": "display_data"
    },
    {
     "name": "stdout",
     "output_type": "stream",
     "text": [
      "<class 'pandas.core.frame.DataFrame'>\n",
      "RangeIndex: 123036 entries, 0 to 123035\n",
      "Data columns (total 3 columns):\n",
      "id              123036 non-null object\n",
      "message_date    123036 non-null object\n",
      "user_id         123036 non-null int64\n",
      "dtypes: int64(1), object(2)\n",
      "memory usage: 2.8+ MB\n"
     ]
    }
   ],
   "source": [
    "messages = pd.read_csv('/datasets/messages.csv')  # прочитала третий файл /datasets/messages.csv методом info получена общая информация о таблице\n",
    "display(messages.head(10))\n",
    "messages.info()"
   ]
  },
  {
   "cell_type": "code",
   "execution_count": 7,
   "metadata": {},
   "outputs": [
    {
     "data": {
      "text/plain": [
       "0"
      ]
     },
     "execution_count": 7,
     "metadata": {},
     "output_type": "execute_result"
    }
   ],
   "source": [
    "messages.duplicated().sum() # проверка дубликатов в таблице messages"
   ]
  },
  {
   "cell_type": "markdown",
   "metadata": {},
   "source": [
    "# Таблица messages (информация о сообщениях):\n",
    "\n",
    "- id — уникальный номер сообщения\n",
    "- message_date — дата сообщения\n",
    "- user_id — идентификатор пользователя, отправившего сообщение"
   ]
  },
  {
   "cell_type": "markdown",
   "metadata": {},
   "source": [
    "# Выявленные ошибки в таблице messages:\n",
    "\n",
    "- в столбце message_date неверный формат даты\n",
    "- в таблице 123036 строк, пропусков не выявлено"
   ]
  },
  {
   "cell_type": "code",
   "execution_count": 8,
   "metadata": {},
   "outputs": [
    {
     "data": {
      "text/html": [
       "<div>\n",
       "<style scoped>\n",
       "    .dataframe tbody tr th:only-of-type {\n",
       "        vertical-align: middle;\n",
       "    }\n",
       "\n",
       "    .dataframe tbody tr th {\n",
       "        vertical-align: top;\n",
       "    }\n",
       "\n",
       "    .dataframe thead th {\n",
       "        text-align: right;\n",
       "    }\n",
       "</style>\n",
       "<table border=\"1\" class=\"dataframe\">\n",
       "  <thead>\n",
       "    <tr style=\"text-align: right;\">\n",
       "      <th></th>\n",
       "      <th>messages_included</th>\n",
       "      <th>mb_per_month_included</th>\n",
       "      <th>minutes_included</th>\n",
       "      <th>rub_monthly_fee</th>\n",
       "      <th>rub_per_gb</th>\n",
       "      <th>rub_per_message</th>\n",
       "      <th>rub_per_minute</th>\n",
       "      <th>tariff_name</th>\n",
       "    </tr>\n",
       "  </thead>\n",
       "  <tbody>\n",
       "    <tr>\n",
       "      <td>0</td>\n",
       "      <td>50</td>\n",
       "      <td>15360</td>\n",
       "      <td>500</td>\n",
       "      <td>550</td>\n",
       "      <td>200</td>\n",
       "      <td>3</td>\n",
       "      <td>3</td>\n",
       "      <td>smart</td>\n",
       "    </tr>\n",
       "    <tr>\n",
       "      <td>1</td>\n",
       "      <td>1000</td>\n",
       "      <td>30720</td>\n",
       "      <td>3000</td>\n",
       "      <td>1950</td>\n",
       "      <td>150</td>\n",
       "      <td>1</td>\n",
       "      <td>1</td>\n",
       "      <td>ultra</td>\n",
       "    </tr>\n",
       "  </tbody>\n",
       "</table>\n",
       "</div>"
      ],
      "text/plain": [
       "   messages_included  mb_per_month_included  minutes_included  \\\n",
       "0                 50                  15360               500   \n",
       "1               1000                  30720              3000   \n",
       "\n",
       "   rub_monthly_fee  rub_per_gb  rub_per_message  rub_per_minute tariff_name  \n",
       "0              550         200                3               3       smart  \n",
       "1             1950         150                1               1       ultra  "
      ]
     },
     "metadata": {},
     "output_type": "display_data"
    },
    {
     "name": "stdout",
     "output_type": "stream",
     "text": [
      "<class 'pandas.core.frame.DataFrame'>\n",
      "RangeIndex: 2 entries, 0 to 1\n",
      "Data columns (total 8 columns):\n",
      "messages_included        2 non-null int64\n",
      "mb_per_month_included    2 non-null int64\n",
      "minutes_included         2 non-null int64\n",
      "rub_monthly_fee          2 non-null int64\n",
      "rub_per_gb               2 non-null int64\n",
      "rub_per_message          2 non-null int64\n",
      "rub_per_minute           2 non-null int64\n",
      "tariff_name              2 non-null object\n",
      "dtypes: int64(7), object(1)\n",
      "memory usage: 256.0+ bytes\n"
     ]
    }
   ],
   "source": [
    "tariffs = pd.read_csv('/datasets/tariffs.csv') # прочитала четвергый файл /datasets/tariffs.csv методом info получена общая информация о таблице\n",
    "display(tariffs.head())\n",
    "tariffs.info()"
   ]
  },
  {
   "cell_type": "code",
   "execution_count": 9,
   "metadata": {},
   "outputs": [
    {
     "data": {
      "text/plain": [
       "0"
      ]
     },
     "execution_count": 9,
     "metadata": {},
     "output_type": "execute_result"
    }
   ],
   "source": [
    "tariffs.duplicated().sum() # проверка дубликатов в таблице tariffs"
   ]
  },
  {
   "cell_type": "markdown",
   "metadata": {},
   "source": [
    "# Таблица tariffs (информация о тарифах):\n",
    "\n",
    "- tariff_name — название тарифа\n",
    "- rub_monthly_fee — ежемесячная абонентская плата в рублях\n",
    "- minutes_included — количество минут разговора в месяц, включённых в абонентскую плату\n",
    "- messages_included — количество сообщений в месяц, включённых в абонентскую плату\n",
    "- mb_per_month_included — объём интернет-трафика, включённого в абонентскую плату (в мегабайтах)\n",
    "- rub_per_minute — стоимость минуты разговора сверх тарифного пакета (например, если в тарифе 100 минут разговора в месяц, то со 101 минуты будет взиматься плата)\n",
    "- rub_per_message — стоимость отправки сообщения сверх тарифного пакета\n",
    "- rub_per_gb — стоимость дополнительного гигабайта интернет-трафика сверх тарифного пакета (1 гигабайт = 1024 мегабайта)"
   ]
  },
  {
   "cell_type": "code",
   "execution_count": 10,
   "metadata": {},
   "outputs": [
    {
     "data": {
      "text/html": [
       "<div>\n",
       "<style scoped>\n",
       "    .dataframe tbody tr th:only-of-type {\n",
       "        vertical-align: middle;\n",
       "    }\n",
       "\n",
       "    .dataframe tbody tr th {\n",
       "        vertical-align: top;\n",
       "    }\n",
       "\n",
       "    .dataframe thead th {\n",
       "        text-align: right;\n",
       "    }\n",
       "</style>\n",
       "<table border=\"1\" class=\"dataframe\">\n",
       "  <thead>\n",
       "    <tr style=\"text-align: right;\">\n",
       "      <th></th>\n",
       "      <th>user_id</th>\n",
       "      <th>age</th>\n",
       "      <th>churn_date</th>\n",
       "      <th>city</th>\n",
       "      <th>first_name</th>\n",
       "      <th>last_name</th>\n",
       "      <th>reg_date</th>\n",
       "      <th>tariff</th>\n",
       "    </tr>\n",
       "  </thead>\n",
       "  <tbody>\n",
       "    <tr>\n",
       "      <td>0</td>\n",
       "      <td>1000</td>\n",
       "      <td>52</td>\n",
       "      <td>NaN</td>\n",
       "      <td>Краснодар</td>\n",
       "      <td>Рафаил</td>\n",
       "      <td>Верещагин</td>\n",
       "      <td>2018-05-25</td>\n",
       "      <td>ultra</td>\n",
       "    </tr>\n",
       "    <tr>\n",
       "      <td>1</td>\n",
       "      <td>1001</td>\n",
       "      <td>41</td>\n",
       "      <td>NaN</td>\n",
       "      <td>Москва</td>\n",
       "      <td>Иван</td>\n",
       "      <td>Ежов</td>\n",
       "      <td>2018-11-01</td>\n",
       "      <td>smart</td>\n",
       "    </tr>\n",
       "    <tr>\n",
       "      <td>2</td>\n",
       "      <td>1002</td>\n",
       "      <td>59</td>\n",
       "      <td>NaN</td>\n",
       "      <td>Стерлитамак</td>\n",
       "      <td>Евгений</td>\n",
       "      <td>Абрамович</td>\n",
       "      <td>2018-06-17</td>\n",
       "      <td>smart</td>\n",
       "    </tr>\n",
       "    <tr>\n",
       "      <td>3</td>\n",
       "      <td>1003</td>\n",
       "      <td>23</td>\n",
       "      <td>NaN</td>\n",
       "      <td>Москва</td>\n",
       "      <td>Белла</td>\n",
       "      <td>Белякова</td>\n",
       "      <td>2018-08-17</td>\n",
       "      <td>ultra</td>\n",
       "    </tr>\n",
       "    <tr>\n",
       "      <td>4</td>\n",
       "      <td>1004</td>\n",
       "      <td>68</td>\n",
       "      <td>NaN</td>\n",
       "      <td>Новокузнецк</td>\n",
       "      <td>Татьяна</td>\n",
       "      <td>Авдеенко</td>\n",
       "      <td>2018-05-14</td>\n",
       "      <td>ultra</td>\n",
       "    </tr>\n",
       "    <tr>\n",
       "      <td>5</td>\n",
       "      <td>1005</td>\n",
       "      <td>67</td>\n",
       "      <td>NaN</td>\n",
       "      <td>Набережные Челны</td>\n",
       "      <td>Афанасий</td>\n",
       "      <td>Горлов</td>\n",
       "      <td>2018-01-25</td>\n",
       "      <td>smart</td>\n",
       "    </tr>\n",
       "    <tr>\n",
       "      <td>6</td>\n",
       "      <td>1006</td>\n",
       "      <td>21</td>\n",
       "      <td>NaN</td>\n",
       "      <td>Ульяновск</td>\n",
       "      <td>Леонид</td>\n",
       "      <td>Ермолаев</td>\n",
       "      <td>2018-02-26</td>\n",
       "      <td>smart</td>\n",
       "    </tr>\n",
       "    <tr>\n",
       "      <td>7</td>\n",
       "      <td>1007</td>\n",
       "      <td>65</td>\n",
       "      <td>NaN</td>\n",
       "      <td>Москва</td>\n",
       "      <td>Юна</td>\n",
       "      <td>Березина</td>\n",
       "      <td>2018-04-19</td>\n",
       "      <td>smart</td>\n",
       "    </tr>\n",
       "    <tr>\n",
       "      <td>8</td>\n",
       "      <td>1008</td>\n",
       "      <td>63</td>\n",
       "      <td>NaN</td>\n",
       "      <td>Челябинск</td>\n",
       "      <td>Рустэм</td>\n",
       "      <td>Пономарёв</td>\n",
       "      <td>2018-12-19</td>\n",
       "      <td>smart</td>\n",
       "    </tr>\n",
       "    <tr>\n",
       "      <td>9</td>\n",
       "      <td>1009</td>\n",
       "      <td>24</td>\n",
       "      <td>NaN</td>\n",
       "      <td>Пермь</td>\n",
       "      <td>Василиса</td>\n",
       "      <td>Блинова</td>\n",
       "      <td>2018-03-22</td>\n",
       "      <td>smart</td>\n",
       "    </tr>\n",
       "  </tbody>\n",
       "</table>\n",
       "</div>"
      ],
      "text/plain": [
       "   user_id  age churn_date              city first_name  last_name  \\\n",
       "0     1000   52        NaN         Краснодар     Рафаил  Верещагин   \n",
       "1     1001   41        NaN            Москва       Иван       Ежов   \n",
       "2     1002   59        NaN       Стерлитамак    Евгений  Абрамович   \n",
       "3     1003   23        NaN            Москва      Белла   Белякова   \n",
       "4     1004   68        NaN       Новокузнецк    Татьяна   Авдеенко   \n",
       "5     1005   67        NaN  Набережные Челны   Афанасий     Горлов   \n",
       "6     1006   21        NaN         Ульяновск     Леонид   Ермолаев   \n",
       "7     1007   65        NaN            Москва        Юна   Березина   \n",
       "8     1008   63        NaN         Челябинск     Рустэм  Пономарёв   \n",
       "9     1009   24        NaN             Пермь   Василиса    Блинова   \n",
       "\n",
       "     reg_date tariff  \n",
       "0  2018-05-25  ultra  \n",
       "1  2018-11-01  smart  \n",
       "2  2018-06-17  smart  \n",
       "3  2018-08-17  ultra  \n",
       "4  2018-05-14  ultra  \n",
       "5  2018-01-25  smart  \n",
       "6  2018-02-26  smart  \n",
       "7  2018-04-19  smart  \n",
       "8  2018-12-19  smart  \n",
       "9  2018-03-22  smart  "
      ]
     },
     "metadata": {},
     "output_type": "display_data"
    },
    {
     "name": "stdout",
     "output_type": "stream",
     "text": [
      "<class 'pandas.core.frame.DataFrame'>\n",
      "RangeIndex: 500 entries, 0 to 499\n",
      "Data columns (total 8 columns):\n",
      "user_id       500 non-null int64\n",
      "age           500 non-null int64\n",
      "churn_date    38 non-null object\n",
      "city          500 non-null object\n",
      "first_name    500 non-null object\n",
      "last_name     500 non-null object\n",
      "reg_date      500 non-null object\n",
      "tariff        500 non-null object\n",
      "dtypes: int64(2), object(6)\n",
      "memory usage: 31.4+ KB\n"
     ]
    }
   ],
   "source": [
    "users = pd.read_csv('/datasets/users.csv') # прочитала gznsq файл /datasets/users.csv методом info получена общая информация о таблице\n",
    "display(users.head(10))\n",
    "users.info()"
   ]
  },
  {
   "cell_type": "code",
   "execution_count": 11,
   "metadata": {},
   "outputs": [
    {
     "data": {
      "text/plain": [
       "0"
      ]
     },
     "execution_count": 11,
     "metadata": {},
     "output_type": "execute_result"
    }
   ],
   "source": [
    "users.duplicated().sum() # проверка дубликатов в таблице users"
   ]
  },
  {
   "cell_type": "markdown",
   "metadata": {},
   "source": [
    "# Таблица users (информация о пользователях):\n",
    "- user_id — уникальный идентификатор пользователя\n",
    "- first_name — имя пользователя\n",
    "- last_name — фамилия пользователя\n",
    "- age — возраст пользователя (годы)\n",
    "- reg_date — дата подключения тарифа (день, месяц, год)\n",
    "- churn_date — дата прекращения пользования тарифом (если значение пропущено, то тариф ещё действовал на момент выгрузки данных)\n",
    "- city — город проживания пользователя\n",
    "- tarif — название тарифного плана"
   ]
  },
  {
   "cell_type": "markdown",
   "metadata": {},
   "source": [
    "# Выявленные ошибки в таблице users:\n",
    "\n",
    "- в столбцах reg_date и churn_date указан неверный формат данных\n",
    "- в таблице 500 строк, в столбце churn_date выявлены пропуски, но если значение пропущено, то тариф ещё действовал на момент выгрузки данных, поэтому эти пропуски не повлияют на дальнейший расчёт"
   ]
  },
  {
   "cell_type": "markdown",
   "metadata": {},
   "source": [
    "## Предобработка данных"
   ]
  },
  {
   "cell_type": "code",
   "execution_count": 12,
   "metadata": {},
   "outputs": [
    {
     "data": {
      "text/html": [
       "<div>\n",
       "<style scoped>\n",
       "    .dataframe tbody tr th:only-of-type {\n",
       "        vertical-align: middle;\n",
       "    }\n",
       "\n",
       "    .dataframe tbody tr th {\n",
       "        vertical-align: top;\n",
       "    }\n",
       "\n",
       "    .dataframe thead th {\n",
       "        text-align: right;\n",
       "    }\n",
       "</style>\n",
       "<table border=\"1\" class=\"dataframe\">\n",
       "  <thead>\n",
       "    <tr style=\"text-align: right;\">\n",
       "      <th></th>\n",
       "      <th>id</th>\n",
       "      <th>call_date</th>\n",
       "      <th>duration</th>\n",
       "      <th>user_id</th>\n",
       "      <th>month</th>\n",
       "    </tr>\n",
       "  </thead>\n",
       "  <tbody>\n",
       "    <tr>\n",
       "      <td>0</td>\n",
       "      <td>1000_0</td>\n",
       "      <td>2018-07-25</td>\n",
       "      <td>1</td>\n",
       "      <td>1000</td>\n",
       "      <td>7</td>\n",
       "    </tr>\n",
       "    <tr>\n",
       "      <td>1</td>\n",
       "      <td>1000_1</td>\n",
       "      <td>2018-08-17</td>\n",
       "      <td>1</td>\n",
       "      <td>1000</td>\n",
       "      <td>8</td>\n",
       "    </tr>\n",
       "    <tr>\n",
       "      <td>2</td>\n",
       "      <td>1000_2</td>\n",
       "      <td>2018-06-11</td>\n",
       "      <td>3</td>\n",
       "      <td>1000</td>\n",
       "      <td>6</td>\n",
       "    </tr>\n",
       "    <tr>\n",
       "      <td>3</td>\n",
       "      <td>1000_3</td>\n",
       "      <td>2018-09-21</td>\n",
       "      <td>14</td>\n",
       "      <td>1000</td>\n",
       "      <td>9</td>\n",
       "    </tr>\n",
       "    <tr>\n",
       "      <td>4</td>\n",
       "      <td>1000_4</td>\n",
       "      <td>2018-12-15</td>\n",
       "      <td>6</td>\n",
       "      <td>1000</td>\n",
       "      <td>12</td>\n",
       "    </tr>\n",
       "  </tbody>\n",
       "</table>\n",
       "</div>"
      ],
      "text/plain": [
       "       id  call_date  duration  user_id  month\n",
       "0  1000_0 2018-07-25         1     1000      7\n",
       "1  1000_1 2018-08-17         1     1000      8\n",
       "2  1000_2 2018-06-11         3     1000      6\n",
       "3  1000_3 2018-09-21        14     1000      9\n",
       "4  1000_4 2018-12-15         6     1000     12"
      ]
     },
     "metadata": {},
     "output_type": "display_data"
    },
    {
     "name": "stdout",
     "output_type": "stream",
     "text": [
      "<class 'pandas.core.frame.DataFrame'>\n",
      "RangeIndex: 202607 entries, 0 to 202606\n",
      "Data columns (total 5 columns):\n",
      "id           202607 non-null object\n",
      "call_date    202607 non-null datetime64[ns]\n",
      "duration     202607 non-null int64\n",
      "user_id      202607 non-null int64\n",
      "month        202607 non-null int64\n",
      "dtypes: datetime64[ns](1), int64(3), object(1)\n",
      "memory usage: 7.7+ MB\n"
     ]
    }
   ],
   "source": [
    "# предобработка данных в таблице calls\n",
    "\n",
    "calls['call_date'] = pd.to_datetime(calls['call_date'], format='%Y-%m-%d') # изменен формат даты в столбце call_date\n",
    "calls['month'] = pd.DatetimeIndex(calls['call_date']).month # добавлен новый столбец month\n",
    "calls['duration'] = calls['duration'].apply(np.ceil).replace(0, 1) # значения столбца duration округлены в большую сторону\n",
    "calls['duration'] = calls['duration'].astype(int) #изменен формат данных в столбце duration\n",
    "\n",
    "# проверяем полученные данные\n",
    "\n",
    "display(calls.head())\n",
    "calls.info()"
   ]
  },
  {
   "cell_type": "code",
   "execution_count": 13,
   "metadata": {},
   "outputs": [
    {
     "data": {
      "text/html": [
       "<div>\n",
       "<style scoped>\n",
       "    .dataframe tbody tr th:only-of-type {\n",
       "        vertical-align: middle;\n",
       "    }\n",
       "\n",
       "    .dataframe tbody tr th {\n",
       "        vertical-align: top;\n",
       "    }\n",
       "\n",
       "    .dataframe thead th {\n",
       "        text-align: right;\n",
       "    }\n",
       "</style>\n",
       "<table border=\"1\" class=\"dataframe\">\n",
       "  <thead>\n",
       "    <tr style=\"text-align: right;\">\n",
       "      <th></th>\n",
       "      <th>id</th>\n",
       "      <th>mb_used</th>\n",
       "      <th>session_date</th>\n",
       "      <th>user_id</th>\n",
       "      <th>month</th>\n",
       "    </tr>\n",
       "  </thead>\n",
       "  <tbody>\n",
       "    <tr>\n",
       "      <td>0</td>\n",
       "      <td>1000_0</td>\n",
       "      <td>112</td>\n",
       "      <td>2018-11-25</td>\n",
       "      <td>1000</td>\n",
       "      <td>11</td>\n",
       "    </tr>\n",
       "    <tr>\n",
       "      <td>1</td>\n",
       "      <td>1000_1</td>\n",
       "      <td>1052</td>\n",
       "      <td>2018-09-07</td>\n",
       "      <td>1000</td>\n",
       "      <td>9</td>\n",
       "    </tr>\n",
       "    <tr>\n",
       "      <td>2</td>\n",
       "      <td>1000_2</td>\n",
       "      <td>1197</td>\n",
       "      <td>2018-06-25</td>\n",
       "      <td>1000</td>\n",
       "      <td>6</td>\n",
       "    </tr>\n",
       "    <tr>\n",
       "      <td>3</td>\n",
       "      <td>1000_3</td>\n",
       "      <td>550</td>\n",
       "      <td>2018-08-22</td>\n",
       "      <td>1000</td>\n",
       "      <td>8</td>\n",
       "    </tr>\n",
       "    <tr>\n",
       "      <td>4</td>\n",
       "      <td>1000_4</td>\n",
       "      <td>302</td>\n",
       "      <td>2018-09-24</td>\n",
       "      <td>1000</td>\n",
       "      <td>9</td>\n",
       "    </tr>\n",
       "  </tbody>\n",
       "</table>\n",
       "</div>"
      ],
      "text/plain": [
       "       id  mb_used session_date  user_id  month\n",
       "0  1000_0      112   2018-11-25     1000     11\n",
       "1  1000_1     1052   2018-09-07     1000      9\n",
       "2  1000_2     1197   2018-06-25     1000      6\n",
       "3  1000_3      550   2018-08-22     1000      8\n",
       "4  1000_4      302   2018-09-24     1000      9"
      ]
     },
     "metadata": {},
     "output_type": "display_data"
    },
    {
     "name": "stdout",
     "output_type": "stream",
     "text": [
      "<class 'pandas.core.frame.DataFrame'>\n",
      "RangeIndex: 149396 entries, 0 to 149395\n",
      "Data columns (total 5 columns):\n",
      "id              149396 non-null object\n",
      "mb_used         149396 non-null int64\n",
      "session_date    149396 non-null datetime64[ns]\n",
      "user_id         149396 non-null int64\n",
      "month           149396 non-null int64\n",
      "dtypes: datetime64[ns](1), int64(3), object(1)\n",
      "memory usage: 5.7+ MB\n"
     ]
    }
   ],
   "source": [
    "# предобработка данных в таблице internet\n",
    "\n",
    "internet = internet.drop('Unnamed: 0', 1) # удален столбец Unnamed: 0\n",
    "internet['session_date'] = pd.to_datetime(internet['session_date'], format='%Y-%m-%d') # изменен формат даты в столбце session_date\n",
    "internet['month'] = pd.DatetimeIndex(internet['session_date']).month # добавлен новый столбец month\n",
    "internet['mb_used'] = internet['mb_used'].astype(int) #изменен формат данных в столбце mb_used\n",
    "\n",
    "# проверяем полученные данные\n",
    "\n",
    "display(internet.head())\n",
    "internet.info()"
   ]
  },
  {
   "cell_type": "code",
   "execution_count": 14,
   "metadata": {},
   "outputs": [
    {
     "data": {
      "text/html": [
       "<div>\n",
       "<style scoped>\n",
       "    .dataframe tbody tr th:only-of-type {\n",
       "        vertical-align: middle;\n",
       "    }\n",
       "\n",
       "    .dataframe tbody tr th {\n",
       "        vertical-align: top;\n",
       "    }\n",
       "\n",
       "    .dataframe thead th {\n",
       "        text-align: right;\n",
       "    }\n",
       "</style>\n",
       "<table border=\"1\" class=\"dataframe\">\n",
       "  <thead>\n",
       "    <tr style=\"text-align: right;\">\n",
       "      <th></th>\n",
       "      <th>id</th>\n",
       "      <th>message_date</th>\n",
       "      <th>user_id</th>\n",
       "      <th>month</th>\n",
       "    </tr>\n",
       "  </thead>\n",
       "  <tbody>\n",
       "    <tr>\n",
       "      <td>0</td>\n",
       "      <td>1000_0</td>\n",
       "      <td>2018-06-27</td>\n",
       "      <td>1000</td>\n",
       "      <td>6</td>\n",
       "    </tr>\n",
       "    <tr>\n",
       "      <td>1</td>\n",
       "      <td>1000_1</td>\n",
       "      <td>2018-10-08</td>\n",
       "      <td>1000</td>\n",
       "      <td>10</td>\n",
       "    </tr>\n",
       "    <tr>\n",
       "      <td>2</td>\n",
       "      <td>1000_2</td>\n",
       "      <td>2018-08-04</td>\n",
       "      <td>1000</td>\n",
       "      <td>8</td>\n",
       "    </tr>\n",
       "    <tr>\n",
       "      <td>3</td>\n",
       "      <td>1000_3</td>\n",
       "      <td>2018-06-16</td>\n",
       "      <td>1000</td>\n",
       "      <td>6</td>\n",
       "    </tr>\n",
       "    <tr>\n",
       "      <td>4</td>\n",
       "      <td>1000_4</td>\n",
       "      <td>2018-12-05</td>\n",
       "      <td>1000</td>\n",
       "      <td>12</td>\n",
       "    </tr>\n",
       "  </tbody>\n",
       "</table>\n",
       "</div>"
      ],
      "text/plain": [
       "       id message_date  user_id  month\n",
       "0  1000_0   2018-06-27     1000      6\n",
       "1  1000_1   2018-10-08     1000     10\n",
       "2  1000_2   2018-08-04     1000      8\n",
       "3  1000_3   2018-06-16     1000      6\n",
       "4  1000_4   2018-12-05     1000     12"
      ]
     },
     "metadata": {},
     "output_type": "display_data"
    },
    {
     "name": "stdout",
     "output_type": "stream",
     "text": [
      "<class 'pandas.core.frame.DataFrame'>\n",
      "RangeIndex: 149396 entries, 0 to 149395\n",
      "Data columns (total 5 columns):\n",
      "id              149396 non-null object\n",
      "mb_used         149396 non-null int64\n",
      "session_date    149396 non-null datetime64[ns]\n",
      "user_id         149396 non-null int64\n",
      "month           149396 non-null int64\n",
      "dtypes: datetime64[ns](1), int64(3), object(1)\n",
      "memory usage: 5.7+ MB\n"
     ]
    }
   ],
   "source": [
    "# предобработка данных в таблице messages\n",
    "\n",
    "messages['message_date'] = pd.to_datetime(messages['message_date'], format='%Y-%m-%d') # изменен формат даты в столбце message_date\n",
    "messages['month'] = pd.DatetimeIndex(messages['message_date']).month # добавлен новый столбец month\n",
    "\n",
    "# проверяем полученные данные\n",
    "\n",
    "display(messages.head())\n",
    "internet.info()"
   ]
  },
  {
   "cell_type": "code",
   "execution_count": 15,
   "metadata": {},
   "outputs": [
    {
     "data": {
      "text/html": [
       "<div>\n",
       "<style scoped>\n",
       "    .dataframe tbody tr th:only-of-type {\n",
       "        vertical-align: middle;\n",
       "    }\n",
       "\n",
       "    .dataframe tbody tr th {\n",
       "        vertical-align: top;\n",
       "    }\n",
       "\n",
       "    .dataframe thead th {\n",
       "        text-align: right;\n",
       "    }\n",
       "</style>\n",
       "<table border=\"1\" class=\"dataframe\">\n",
       "  <thead>\n",
       "    <tr style=\"text-align: right;\">\n",
       "      <th></th>\n",
       "      <th>user_id</th>\n",
       "      <th>age</th>\n",
       "      <th>churn_date</th>\n",
       "      <th>city</th>\n",
       "      <th>first_name</th>\n",
       "      <th>last_name</th>\n",
       "      <th>reg_date</th>\n",
       "      <th>tariff</th>\n",
       "    </tr>\n",
       "  </thead>\n",
       "  <tbody>\n",
       "    <tr>\n",
       "      <td>0</td>\n",
       "      <td>1000</td>\n",
       "      <td>52</td>\n",
       "      <td>NaN</td>\n",
       "      <td>Краснодар</td>\n",
       "      <td>Рафаил</td>\n",
       "      <td>Верещагин</td>\n",
       "      <td>2018-05-25</td>\n",
       "      <td>ultra</td>\n",
       "    </tr>\n",
       "    <tr>\n",
       "      <td>1</td>\n",
       "      <td>1001</td>\n",
       "      <td>41</td>\n",
       "      <td>NaN</td>\n",
       "      <td>Москва</td>\n",
       "      <td>Иван</td>\n",
       "      <td>Ежов</td>\n",
       "      <td>2018-11-01</td>\n",
       "      <td>smart</td>\n",
       "    </tr>\n",
       "    <tr>\n",
       "      <td>2</td>\n",
       "      <td>1002</td>\n",
       "      <td>59</td>\n",
       "      <td>NaN</td>\n",
       "      <td>Стерлитамак</td>\n",
       "      <td>Евгений</td>\n",
       "      <td>Абрамович</td>\n",
       "      <td>2018-06-17</td>\n",
       "      <td>smart</td>\n",
       "    </tr>\n",
       "    <tr>\n",
       "      <td>3</td>\n",
       "      <td>1003</td>\n",
       "      <td>23</td>\n",
       "      <td>NaN</td>\n",
       "      <td>Москва</td>\n",
       "      <td>Белла</td>\n",
       "      <td>Белякова</td>\n",
       "      <td>2018-08-17</td>\n",
       "      <td>ultra</td>\n",
       "    </tr>\n",
       "    <tr>\n",
       "      <td>4</td>\n",
       "      <td>1004</td>\n",
       "      <td>68</td>\n",
       "      <td>NaN</td>\n",
       "      <td>Новокузнецк</td>\n",
       "      <td>Татьяна</td>\n",
       "      <td>Авдеенко</td>\n",
       "      <td>2018-05-14</td>\n",
       "      <td>ultra</td>\n",
       "    </tr>\n",
       "  </tbody>\n",
       "</table>\n",
       "</div>"
      ],
      "text/plain": [
       "   user_id  age churn_date         city first_name  last_name   reg_date  \\\n",
       "0     1000   52        NaN    Краснодар     Рафаил  Верещагин 2018-05-25   \n",
       "1     1001   41        NaN       Москва       Иван       Ежов 2018-11-01   \n",
       "2     1002   59        NaN  Стерлитамак    Евгений  Абрамович 2018-06-17   \n",
       "3     1003   23        NaN       Москва      Белла   Белякова 2018-08-17   \n",
       "4     1004   68        NaN  Новокузнецк    Татьяна   Авдеенко 2018-05-14   \n",
       "\n",
       "  tariff  \n",
       "0  ultra  \n",
       "1  smart  \n",
       "2  smart  \n",
       "3  ultra  \n",
       "4  ultra  "
      ]
     },
     "metadata": {},
     "output_type": "display_data"
    },
    {
     "name": "stdout",
     "output_type": "stream",
     "text": [
      "<class 'pandas.core.frame.DataFrame'>\n",
      "RangeIndex: 149396 entries, 0 to 149395\n",
      "Data columns (total 5 columns):\n",
      "id              149396 non-null object\n",
      "mb_used         149396 non-null int64\n",
      "session_date    149396 non-null datetime64[ns]\n",
      "user_id         149396 non-null int64\n",
      "month           149396 non-null int64\n",
      "dtypes: datetime64[ns](1), int64(3), object(1)\n",
      "memory usage: 5.7+ MB\n"
     ]
    }
   ],
   "source": [
    "# предобработка данных в таблице в таблице users:\n",
    "\n",
    "users['reg_date'] = pd.to_datetime(users['reg_date'], format='%Y-%m-%d') # изменен формат даты в столбце reg_date\n",
    "\n",
    "# проверяем полученные данные\n",
    "\n",
    "display(users.head())\n",
    "internet.info()"
   ]
  },
  {
   "cell_type": "code",
   "execution_count": 16,
   "metadata": {},
   "outputs": [],
   "source": [
    "# созданы сводные таблицы из таблиц calls, message, internet\n",
    "\n",
    "calls_month = calls.pivot_table(index=['user_id', 'month'], values='duration', aggfunc=['sum', 'count'])\n",
    "#print(calls_month)\n",
    "calls_month.reset_index()\n",
    "calls_month.columns = ['calls_duration', 'calls_amount']\n",
    "#print(calls_month)"
   ]
  },
  {
   "cell_type": "code",
   "execution_count": 17,
   "metadata": {},
   "outputs": [],
   "source": [
    "message_month = messages.pivot_table(index=['user_id', 'month'], values='id', aggfunc=['count'])\n",
    "#print(message_month)\n",
    "message_month.reset_index()\n",
    "message_month.columns = ['messege_count']\n",
    "#print(message_month)"
   ]
  },
  {
   "cell_type": "code",
   "execution_count": 18,
   "metadata": {},
   "outputs": [],
   "source": [
    "internet_month = internet.pivot_table(index=['user_id', 'month'], values='mb_used', aggfunc=['sum'])\n",
    "#print(internet_month)\n",
    "internet_month.reset_index()\n",
    "internet_month.columns = ['internet_count']\n",
    "#print(internet_month)"
   ]
  },
  {
   "cell_type": "code",
   "execution_count": 19,
   "metadata": {},
   "outputs": [
    {
     "data": {
      "text/html": [
       "<div>\n",
       "<style scoped>\n",
       "    .dataframe tbody tr th:only-of-type {\n",
       "        vertical-align: middle;\n",
       "    }\n",
       "\n",
       "    .dataframe tbody tr th {\n",
       "        vertical-align: top;\n",
       "    }\n",
       "\n",
       "    .dataframe thead th {\n",
       "        text-align: right;\n",
       "    }\n",
       "</style>\n",
       "<table border=\"1\" class=\"dataframe\">\n",
       "  <thead>\n",
       "    <tr style=\"text-align: right;\">\n",
       "      <th></th>\n",
       "      <th>user_id</th>\n",
       "      <th>month</th>\n",
       "      <th>calls_duration</th>\n",
       "      <th>calls_amount</th>\n",
       "      <th>messege_count</th>\n",
       "      <th>internet_count</th>\n",
       "    </tr>\n",
       "  </thead>\n",
       "  <tbody>\n",
       "    <tr>\n",
       "      <td>0</td>\n",
       "      <td>1000</td>\n",
       "      <td>5</td>\n",
       "      <td>164.0</td>\n",
       "      <td>22.0</td>\n",
       "      <td>22.0</td>\n",
       "      <td>2252.0</td>\n",
       "    </tr>\n",
       "    <tr>\n",
       "      <td>1</td>\n",
       "      <td>1000</td>\n",
       "      <td>6</td>\n",
       "      <td>187.0</td>\n",
       "      <td>43.0</td>\n",
       "      <td>60.0</td>\n",
       "      <td>23213.0</td>\n",
       "    </tr>\n",
       "    <tr>\n",
       "      <td>2</td>\n",
       "      <td>1000</td>\n",
       "      <td>7</td>\n",
       "      <td>346.0</td>\n",
       "      <td>47.0</td>\n",
       "      <td>75.0</td>\n",
       "      <td>13988.0</td>\n",
       "    </tr>\n",
       "    <tr>\n",
       "      <td>3</td>\n",
       "      <td>1000</td>\n",
       "      <td>8</td>\n",
       "      <td>418.0</td>\n",
       "      <td>52.0</td>\n",
       "      <td>81.0</td>\n",
       "      <td>14043.0</td>\n",
       "    </tr>\n",
       "    <tr>\n",
       "      <td>4</td>\n",
       "      <td>1000</td>\n",
       "      <td>9</td>\n",
       "      <td>478.0</td>\n",
       "      <td>58.0</td>\n",
       "      <td>57.0</td>\n",
       "      <td>14556.0</td>\n",
       "    </tr>\n",
       "  </tbody>\n",
       "</table>\n",
       "</div>"
      ],
      "text/plain": [
       "   user_id  month  calls_duration  calls_amount  messege_count  internet_count\n",
       "0     1000      5           164.0          22.0           22.0          2252.0\n",
       "1     1000      6           187.0          43.0           60.0         23213.0\n",
       "2     1000      7           346.0          47.0           75.0         13988.0\n",
       "3     1000      8           418.0          52.0           81.0         14043.0\n",
       "4     1000      9           478.0          58.0           57.0         14556.0"
      ]
     },
     "metadata": {},
     "output_type": "display_data"
    }
   ],
   "source": [
    "# методом merge объединены таблицы calls_month, message_month и internet_month\n",
    "\n",
    "total_data = calls_month.merge(message_month, on=['user_id', 'month'], how='outer')\n",
    "total_data = total_data.merge(internet_month, on=['user_id', 'month'], how='outer')\n",
    "total_data = total_data.reset_index()\n",
    "display(total_data.head())"
   ]
  },
  {
   "cell_type": "code",
   "execution_count": 20,
   "metadata": {},
   "outputs": [],
   "source": [
    "tariffs = tariffs.rename(columns={'tariff_name':'tariff'}) #переименован столбец в таблице tariffs"
   ]
  },
  {
   "cell_type": "code",
   "execution_count": 21,
   "metadata": {},
   "outputs": [
    {
     "data": {
      "text/html": [
       "<div>\n",
       "<style scoped>\n",
       "    .dataframe tbody tr th:only-of-type {\n",
       "        vertical-align: middle;\n",
       "    }\n",
       "\n",
       "    .dataframe tbody tr th {\n",
       "        vertical-align: top;\n",
       "    }\n",
       "\n",
       "    .dataframe thead th {\n",
       "        text-align: right;\n",
       "    }\n",
       "</style>\n",
       "<table border=\"1\" class=\"dataframe\">\n",
       "  <thead>\n",
       "    <tr style=\"text-align: right;\">\n",
       "      <th></th>\n",
       "      <th>index</th>\n",
       "      <th>user_id</th>\n",
       "      <th>month</th>\n",
       "      <th>calls_duration</th>\n",
       "      <th>calls_amount</th>\n",
       "      <th>messege_count</th>\n",
       "      <th>internet_count</th>\n",
       "      <th>age</th>\n",
       "      <th>churn_date</th>\n",
       "      <th>city</th>\n",
       "      <th>first_name</th>\n",
       "      <th>last_name</th>\n",
       "      <th>reg_date</th>\n",
       "      <th>tariff</th>\n",
       "    </tr>\n",
       "  </thead>\n",
       "  <tbody>\n",
       "    <tr>\n",
       "      <td>0</td>\n",
       "      <td>0</td>\n",
       "      <td>1000</td>\n",
       "      <td>5.0</td>\n",
       "      <td>164.0</td>\n",
       "      <td>22.0</td>\n",
       "      <td>22.0</td>\n",
       "      <td>2252.0</td>\n",
       "      <td>52</td>\n",
       "      <td>NaN</td>\n",
       "      <td>Краснодар</td>\n",
       "      <td>Рафаил</td>\n",
       "      <td>Верещагин</td>\n",
       "      <td>2018-05-25</td>\n",
       "      <td>ultra</td>\n",
       "    </tr>\n",
       "    <tr>\n",
       "      <td>1</td>\n",
       "      <td>1</td>\n",
       "      <td>1000</td>\n",
       "      <td>6.0</td>\n",
       "      <td>187.0</td>\n",
       "      <td>43.0</td>\n",
       "      <td>60.0</td>\n",
       "      <td>23213.0</td>\n",
       "      <td>52</td>\n",
       "      <td>NaN</td>\n",
       "      <td>Краснодар</td>\n",
       "      <td>Рафаил</td>\n",
       "      <td>Верещагин</td>\n",
       "      <td>2018-05-25</td>\n",
       "      <td>ultra</td>\n",
       "    </tr>\n",
       "    <tr>\n",
       "      <td>2</td>\n",
       "      <td>2</td>\n",
       "      <td>1000</td>\n",
       "      <td>7.0</td>\n",
       "      <td>346.0</td>\n",
       "      <td>47.0</td>\n",
       "      <td>75.0</td>\n",
       "      <td>13988.0</td>\n",
       "      <td>52</td>\n",
       "      <td>NaN</td>\n",
       "      <td>Краснодар</td>\n",
       "      <td>Рафаил</td>\n",
       "      <td>Верещагин</td>\n",
       "      <td>2018-05-25</td>\n",
       "      <td>ultra</td>\n",
       "    </tr>\n",
       "    <tr>\n",
       "      <td>3</td>\n",
       "      <td>3</td>\n",
       "      <td>1000</td>\n",
       "      <td>8.0</td>\n",
       "      <td>418.0</td>\n",
       "      <td>52.0</td>\n",
       "      <td>81.0</td>\n",
       "      <td>14043.0</td>\n",
       "      <td>52</td>\n",
       "      <td>NaN</td>\n",
       "      <td>Краснодар</td>\n",
       "      <td>Рафаил</td>\n",
       "      <td>Верещагин</td>\n",
       "      <td>2018-05-25</td>\n",
       "      <td>ultra</td>\n",
       "    </tr>\n",
       "    <tr>\n",
       "      <td>4</td>\n",
       "      <td>4</td>\n",
       "      <td>1000</td>\n",
       "      <td>9.0</td>\n",
       "      <td>478.0</td>\n",
       "      <td>58.0</td>\n",
       "      <td>57.0</td>\n",
       "      <td>14556.0</td>\n",
       "      <td>52</td>\n",
       "      <td>NaN</td>\n",
       "      <td>Краснодар</td>\n",
       "      <td>Рафаил</td>\n",
       "      <td>Верещагин</td>\n",
       "      <td>2018-05-25</td>\n",
       "      <td>ultra</td>\n",
       "    </tr>\n",
       "  </tbody>\n",
       "</table>\n",
       "</div>"
      ],
      "text/plain": [
       "   index  user_id  month  calls_duration  calls_amount  messege_count  \\\n",
       "0      0     1000    5.0           164.0          22.0           22.0   \n",
       "1      1     1000    6.0           187.0          43.0           60.0   \n",
       "2      2     1000    7.0           346.0          47.0           75.0   \n",
       "3      3     1000    8.0           418.0          52.0           81.0   \n",
       "4      4     1000    9.0           478.0          58.0           57.0   \n",
       "\n",
       "   internet_count  age churn_date       city first_name  last_name   reg_date  \\\n",
       "0          2252.0   52        NaN  Краснодар     Рафаил  Верещагин 2018-05-25   \n",
       "1         23213.0   52        NaN  Краснодар     Рафаил  Верещагин 2018-05-25   \n",
       "2         13988.0   52        NaN  Краснодар     Рафаил  Верещагин 2018-05-25   \n",
       "3         14043.0   52        NaN  Краснодар     Рафаил  Верещагин 2018-05-25   \n",
       "4         14556.0   52        NaN  Краснодар     Рафаил  Верещагин 2018-05-25   \n",
       "\n",
       "  tariff  \n",
       "0  ultra  \n",
       "1  ultra  \n",
       "2  ultra  \n",
       "3  ultra  \n",
       "4  ultra  "
      ]
     },
     "metadata": {},
     "output_type": "display_data"
    }
   ],
   "source": [
    "# методом merge к таблице присоединена таблица users\n",
    "\n",
    "total_data = total_data.merge(users, on='user_id', how='outer')\n",
    "total_data = total_data.reset_index()\n",
    "total_data = total_data.rename(columns={'tariff_y':'tariff'})\n",
    "display(total_data.head())"
   ]
  },
  {
   "cell_type": "code",
   "execution_count": 22,
   "metadata": {},
   "outputs": [
    {
     "data": {
      "text/html": [
       "<div>\n",
       "<style scoped>\n",
       "    .dataframe tbody tr th:only-of-type {\n",
       "        vertical-align: middle;\n",
       "    }\n",
       "\n",
       "    .dataframe tbody tr th {\n",
       "        vertical-align: top;\n",
       "    }\n",
       "\n",
       "    .dataframe thead th {\n",
       "        text-align: right;\n",
       "    }\n",
       "</style>\n",
       "<table border=\"1\" class=\"dataframe\">\n",
       "  <thead>\n",
       "    <tr style=\"text-align: right;\">\n",
       "      <th></th>\n",
       "      <th>level_0</th>\n",
       "      <th>index</th>\n",
       "      <th>user_id</th>\n",
       "      <th>month</th>\n",
       "      <th>calls_duration</th>\n",
       "      <th>calls_amount</th>\n",
       "      <th>messege_count</th>\n",
       "      <th>internet_count</th>\n",
       "      <th>age</th>\n",
       "      <th>churn_date</th>\n",
       "      <th>...</th>\n",
       "      <th>last_name</th>\n",
       "      <th>reg_date</th>\n",
       "      <th>tariff</th>\n",
       "      <th>messages_included</th>\n",
       "      <th>mb_per_month_included</th>\n",
       "      <th>minutes_included</th>\n",
       "      <th>rub_monthly_fee</th>\n",
       "      <th>rub_per_gb</th>\n",
       "      <th>rub_per_message</th>\n",
       "      <th>rub_per_minute</th>\n",
       "    </tr>\n",
       "  </thead>\n",
       "  <tbody>\n",
       "    <tr>\n",
       "      <td>0</td>\n",
       "      <td>0</td>\n",
       "      <td>0</td>\n",
       "      <td>1000</td>\n",
       "      <td>5.0</td>\n",
       "      <td>164.0</td>\n",
       "      <td>22.0</td>\n",
       "      <td>22.0</td>\n",
       "      <td>2252.0</td>\n",
       "      <td>52</td>\n",
       "      <td>NaN</td>\n",
       "      <td>...</td>\n",
       "      <td>Верещагин</td>\n",
       "      <td>2018-05-25</td>\n",
       "      <td>ultra</td>\n",
       "      <td>1000</td>\n",
       "      <td>30720</td>\n",
       "      <td>3000</td>\n",
       "      <td>1950</td>\n",
       "      <td>150</td>\n",
       "      <td>1</td>\n",
       "      <td>1</td>\n",
       "    </tr>\n",
       "    <tr>\n",
       "      <td>1</td>\n",
       "      <td>1</td>\n",
       "      <td>1</td>\n",
       "      <td>1000</td>\n",
       "      <td>6.0</td>\n",
       "      <td>187.0</td>\n",
       "      <td>43.0</td>\n",
       "      <td>60.0</td>\n",
       "      <td>23213.0</td>\n",
       "      <td>52</td>\n",
       "      <td>NaN</td>\n",
       "      <td>...</td>\n",
       "      <td>Верещагин</td>\n",
       "      <td>2018-05-25</td>\n",
       "      <td>ultra</td>\n",
       "      <td>1000</td>\n",
       "      <td>30720</td>\n",
       "      <td>3000</td>\n",
       "      <td>1950</td>\n",
       "      <td>150</td>\n",
       "      <td>1</td>\n",
       "      <td>1</td>\n",
       "    </tr>\n",
       "    <tr>\n",
       "      <td>2</td>\n",
       "      <td>2</td>\n",
       "      <td>2</td>\n",
       "      <td>1000</td>\n",
       "      <td>7.0</td>\n",
       "      <td>346.0</td>\n",
       "      <td>47.0</td>\n",
       "      <td>75.0</td>\n",
       "      <td>13988.0</td>\n",
       "      <td>52</td>\n",
       "      <td>NaN</td>\n",
       "      <td>...</td>\n",
       "      <td>Верещагин</td>\n",
       "      <td>2018-05-25</td>\n",
       "      <td>ultra</td>\n",
       "      <td>1000</td>\n",
       "      <td>30720</td>\n",
       "      <td>3000</td>\n",
       "      <td>1950</td>\n",
       "      <td>150</td>\n",
       "      <td>1</td>\n",
       "      <td>1</td>\n",
       "    </tr>\n",
       "    <tr>\n",
       "      <td>3</td>\n",
       "      <td>3</td>\n",
       "      <td>3</td>\n",
       "      <td>1000</td>\n",
       "      <td>8.0</td>\n",
       "      <td>418.0</td>\n",
       "      <td>52.0</td>\n",
       "      <td>81.0</td>\n",
       "      <td>14043.0</td>\n",
       "      <td>52</td>\n",
       "      <td>NaN</td>\n",
       "      <td>...</td>\n",
       "      <td>Верещагин</td>\n",
       "      <td>2018-05-25</td>\n",
       "      <td>ultra</td>\n",
       "      <td>1000</td>\n",
       "      <td>30720</td>\n",
       "      <td>3000</td>\n",
       "      <td>1950</td>\n",
       "      <td>150</td>\n",
       "      <td>1</td>\n",
       "      <td>1</td>\n",
       "    </tr>\n",
       "    <tr>\n",
       "      <td>4</td>\n",
       "      <td>4</td>\n",
       "      <td>4</td>\n",
       "      <td>1000</td>\n",
       "      <td>9.0</td>\n",
       "      <td>478.0</td>\n",
       "      <td>58.0</td>\n",
       "      <td>57.0</td>\n",
       "      <td>14556.0</td>\n",
       "      <td>52</td>\n",
       "      <td>NaN</td>\n",
       "      <td>...</td>\n",
       "      <td>Верещагин</td>\n",
       "      <td>2018-05-25</td>\n",
       "      <td>ultra</td>\n",
       "      <td>1000</td>\n",
       "      <td>30720</td>\n",
       "      <td>3000</td>\n",
       "      <td>1950</td>\n",
       "      <td>150</td>\n",
       "      <td>1</td>\n",
       "      <td>1</td>\n",
       "    </tr>\n",
       "  </tbody>\n",
       "</table>\n",
       "<p>5 rows × 22 columns</p>\n",
       "</div>"
      ],
      "text/plain": [
       "   level_0  index  user_id  month  calls_duration  calls_amount  \\\n",
       "0        0      0     1000    5.0           164.0          22.0   \n",
       "1        1      1     1000    6.0           187.0          43.0   \n",
       "2        2      2     1000    7.0           346.0          47.0   \n",
       "3        3      3     1000    8.0           418.0          52.0   \n",
       "4        4      4     1000    9.0           478.0          58.0   \n",
       "\n",
       "   messege_count  internet_count  age churn_date  ...  last_name   reg_date  \\\n",
       "0           22.0          2252.0   52        NaN  ...  Верещагин 2018-05-25   \n",
       "1           60.0         23213.0   52        NaN  ...  Верещагин 2018-05-25   \n",
       "2           75.0         13988.0   52        NaN  ...  Верещагин 2018-05-25   \n",
       "3           81.0         14043.0   52        NaN  ...  Верещагин 2018-05-25   \n",
       "4           57.0         14556.0   52        NaN  ...  Верещагин 2018-05-25   \n",
       "\n",
       "  tariff messages_included mb_per_month_included  minutes_included  \\\n",
       "0  ultra              1000                 30720              3000   \n",
       "1  ultra              1000                 30720              3000   \n",
       "2  ultra              1000                 30720              3000   \n",
       "3  ultra              1000                 30720              3000   \n",
       "4  ultra              1000                 30720              3000   \n",
       "\n",
       "   rub_monthly_fee  rub_per_gb  rub_per_message  rub_per_minute  \n",
       "0             1950         150                1               1  \n",
       "1             1950         150                1               1  \n",
       "2             1950         150                1               1  \n",
       "3             1950         150                1               1  \n",
       "4             1950         150                1               1  \n",
       "\n",
       "[5 rows x 22 columns]"
      ]
     },
     "metadata": {},
     "output_type": "display_data"
    }
   ],
   "source": [
    "# методом merge к таблице присоединена таблица users\n",
    "total_data = total_data.merge(tariffs, on='tariff', how='left')\n",
    "total_data = total_data.reset_index()\n",
    "display(total_data.head())"
   ]
  },
  {
   "cell_type": "code",
   "execution_count": 23,
   "metadata": {},
   "outputs": [
    {
     "name": "stdout",
     "output_type": "stream",
     "text": [
      "<class 'pandas.core.frame.DataFrame'>\n",
      "RangeIndex: 3216 entries, 0 to 3215\n",
      "Data columns (total 22 columns):\n",
      "level_0                  3216 non-null int64\n",
      "index                    3216 non-null int64\n",
      "user_id                  3216 non-null int64\n",
      "month                    3214 non-null float64\n",
      "calls_duration           3174 non-null float64\n",
      "calls_amount             3174 non-null float64\n",
      "messege_count            2717 non-null float64\n",
      "internet_count           3203 non-null float64\n",
      "age                      3216 non-null int64\n",
      "churn_date               189 non-null object\n",
      "city                     3216 non-null object\n",
      "first_name               3216 non-null object\n",
      "last_name                3216 non-null object\n",
      "reg_date                 3216 non-null datetime64[ns]\n",
      "tariff                   3216 non-null object\n",
      "messages_included        3216 non-null int64\n",
      "mb_per_month_included    3216 non-null int64\n",
      "minutes_included         3216 non-null int64\n",
      "rub_monthly_fee          3216 non-null int64\n",
      "rub_per_gb               3216 non-null int64\n",
      "rub_per_message          3216 non-null int64\n",
      "rub_per_minute           3216 non-null int64\n",
      "dtypes: datetime64[ns](1), float64(5), int64(11), object(5)\n",
      "memory usage: 552.9+ KB\n"
     ]
    }
   ],
   "source": [
    "total_data.info()"
   ]
  },
  {
   "cell_type": "code",
   "execution_count": 24,
   "metadata": {},
   "outputs": [
    {
     "data": {
      "text/plain": [
       "0"
      ]
     },
     "execution_count": 24,
     "metadata": {},
     "output_type": "execute_result"
    }
   ],
   "source": [
    "total_data.duplicated().sum() # проверка дубликатов в таблице total_data"
   ]
  },
  {
   "cell_type": "code",
   "execution_count": 25,
   "metadata": {},
   "outputs": [],
   "source": [
    "# пропуски в столбцах заменены на 0\n",
    "\n",
    "total_data.fillna(0, inplace=True)\n"
   ]
  },
  {
   "cell_type": "code",
   "execution_count": 26,
   "metadata": {},
   "outputs": [
    {
     "name": "stdout",
     "output_type": "stream",
     "text": [
      "<class 'pandas.core.frame.DataFrame'>\n",
      "RangeIndex: 3216 entries, 0 to 3215\n",
      "Data columns (total 22 columns):\n",
      "level_0                  3216 non-null int64\n",
      "index                    3216 non-null int64\n",
      "user_id                  3216 non-null int64\n",
      "month                    3216 non-null float64\n",
      "calls_duration           3216 non-null float64\n",
      "calls_amount             3216 non-null float64\n",
      "messege_count            3216 non-null float64\n",
      "internet_count           3216 non-null float64\n",
      "age                      3216 non-null int64\n",
      "churn_date               3216 non-null object\n",
      "city                     3216 non-null object\n",
      "first_name               3216 non-null object\n",
      "last_name                3216 non-null object\n",
      "reg_date                 3216 non-null datetime64[ns]\n",
      "tariff                   3216 non-null object\n",
      "messages_included        3216 non-null int64\n",
      "mb_per_month_included    3216 non-null int64\n",
      "minutes_included         3216 non-null int64\n",
      "rub_monthly_fee          3216 non-null int64\n",
      "rub_per_gb               3216 non-null int64\n",
      "rub_per_message          3216 non-null int64\n",
      "rub_per_minute           3216 non-null int64\n",
      "dtypes: datetime64[ns](1), float64(5), int64(11), object(5)\n",
      "memory usage: 552.9+ KB\n"
     ]
    }
   ],
   "source": [
    "total_data.info() # проверяем полученные данные"
   ]
  },
  {
   "cell_type": "code",
   "execution_count": 27,
   "metadata": {},
   "outputs": [],
   "source": [
    "#display(total_data.head())"
   ]
  },
  {
   "cell_type": "code",
   "execution_count": 28,
   "metadata": {},
   "outputs": [
    {
     "data": {
      "text/html": [
       "<div>\n",
       "<style scoped>\n",
       "    .dataframe tbody tr th:only-of-type {\n",
       "        vertical-align: middle;\n",
       "    }\n",
       "\n",
       "    .dataframe tbody tr th {\n",
       "        vertical-align: top;\n",
       "    }\n",
       "\n",
       "    .dataframe thead th {\n",
       "        text-align: right;\n",
       "    }\n",
       "</style>\n",
       "<table border=\"1\" class=\"dataframe\">\n",
       "  <thead>\n",
       "    <tr style=\"text-align: right;\">\n",
       "      <th></th>\n",
       "      <th>level_0</th>\n",
       "      <th>index</th>\n",
       "      <th>user_id</th>\n",
       "      <th>month</th>\n",
       "      <th>calls_duration</th>\n",
       "      <th>calls_amount</th>\n",
       "      <th>messege_count</th>\n",
       "      <th>internet_count</th>\n",
       "      <th>age</th>\n",
       "      <th>churn_date</th>\n",
       "      <th>...</th>\n",
       "      <th>messages_included</th>\n",
       "      <th>mb_per_month_included</th>\n",
       "      <th>minutes_included</th>\n",
       "      <th>rub_monthly_fee</th>\n",
       "      <th>rub_per_gb</th>\n",
       "      <th>rub_per_message</th>\n",
       "      <th>rub_per_minute</th>\n",
       "      <th>between_calls</th>\n",
       "      <th>between_messege</th>\n",
       "      <th>between_gb</th>\n",
       "    </tr>\n",
       "  </thead>\n",
       "  <tbody>\n",
       "    <tr>\n",
       "      <td>0</td>\n",
       "      <td>0</td>\n",
       "      <td>0</td>\n",
       "      <td>1000</td>\n",
       "      <td>5.0</td>\n",
       "      <td>164.0</td>\n",
       "      <td>22.0</td>\n",
       "      <td>22.0</td>\n",
       "      <td>2252.0</td>\n",
       "      <td>52</td>\n",
       "      <td>0</td>\n",
       "      <td>...</td>\n",
       "      <td>1000</td>\n",
       "      <td>30720</td>\n",
       "      <td>3000</td>\n",
       "      <td>1950</td>\n",
       "      <td>150</td>\n",
       "      <td>1</td>\n",
       "      <td>1</td>\n",
       "      <td>-2836.0</td>\n",
       "      <td>-978.0</td>\n",
       "      <td>-27.0</td>\n",
       "    </tr>\n",
       "    <tr>\n",
       "      <td>1</td>\n",
       "      <td>1</td>\n",
       "      <td>1</td>\n",
       "      <td>1000</td>\n",
       "      <td>6.0</td>\n",
       "      <td>187.0</td>\n",
       "      <td>43.0</td>\n",
       "      <td>60.0</td>\n",
       "      <td>23213.0</td>\n",
       "      <td>52</td>\n",
       "      <td>0</td>\n",
       "      <td>...</td>\n",
       "      <td>1000</td>\n",
       "      <td>30720</td>\n",
       "      <td>3000</td>\n",
       "      <td>1950</td>\n",
       "      <td>150</td>\n",
       "      <td>1</td>\n",
       "      <td>1</td>\n",
       "      <td>-2813.0</td>\n",
       "      <td>-940.0</td>\n",
       "      <td>-7.0</td>\n",
       "    </tr>\n",
       "    <tr>\n",
       "      <td>2</td>\n",
       "      <td>2</td>\n",
       "      <td>2</td>\n",
       "      <td>1000</td>\n",
       "      <td>7.0</td>\n",
       "      <td>346.0</td>\n",
       "      <td>47.0</td>\n",
       "      <td>75.0</td>\n",
       "      <td>13988.0</td>\n",
       "      <td>52</td>\n",
       "      <td>0</td>\n",
       "      <td>...</td>\n",
       "      <td>1000</td>\n",
       "      <td>30720</td>\n",
       "      <td>3000</td>\n",
       "      <td>1950</td>\n",
       "      <td>150</td>\n",
       "      <td>1</td>\n",
       "      <td>1</td>\n",
       "      <td>-2654.0</td>\n",
       "      <td>-925.0</td>\n",
       "      <td>-16.0</td>\n",
       "    </tr>\n",
       "    <tr>\n",
       "      <td>3</td>\n",
       "      <td>3</td>\n",
       "      <td>3</td>\n",
       "      <td>1000</td>\n",
       "      <td>8.0</td>\n",
       "      <td>418.0</td>\n",
       "      <td>52.0</td>\n",
       "      <td>81.0</td>\n",
       "      <td>14043.0</td>\n",
       "      <td>52</td>\n",
       "      <td>0</td>\n",
       "      <td>...</td>\n",
       "      <td>1000</td>\n",
       "      <td>30720</td>\n",
       "      <td>3000</td>\n",
       "      <td>1950</td>\n",
       "      <td>150</td>\n",
       "      <td>1</td>\n",
       "      <td>1</td>\n",
       "      <td>-2582.0</td>\n",
       "      <td>-919.0</td>\n",
       "      <td>-16.0</td>\n",
       "    </tr>\n",
       "    <tr>\n",
       "      <td>4</td>\n",
       "      <td>4</td>\n",
       "      <td>4</td>\n",
       "      <td>1000</td>\n",
       "      <td>9.0</td>\n",
       "      <td>478.0</td>\n",
       "      <td>58.0</td>\n",
       "      <td>57.0</td>\n",
       "      <td>14556.0</td>\n",
       "      <td>52</td>\n",
       "      <td>0</td>\n",
       "      <td>...</td>\n",
       "      <td>1000</td>\n",
       "      <td>30720</td>\n",
       "      <td>3000</td>\n",
       "      <td>1950</td>\n",
       "      <td>150</td>\n",
       "      <td>1</td>\n",
       "      <td>1</td>\n",
       "      <td>-2522.0</td>\n",
       "      <td>-943.0</td>\n",
       "      <td>-15.0</td>\n",
       "    </tr>\n",
       "  </tbody>\n",
       "</table>\n",
       "<p>5 rows × 25 columns</p>\n",
       "</div>"
      ],
      "text/plain": [
       "   level_0  index  user_id  month  calls_duration  calls_amount  \\\n",
       "0        0      0     1000    5.0           164.0          22.0   \n",
       "1        1      1     1000    6.0           187.0          43.0   \n",
       "2        2      2     1000    7.0           346.0          47.0   \n",
       "3        3      3     1000    8.0           418.0          52.0   \n",
       "4        4      4     1000    9.0           478.0          58.0   \n",
       "\n",
       "   messege_count  internet_count  age churn_date  ... messages_included  \\\n",
       "0           22.0          2252.0   52          0  ...              1000   \n",
       "1           60.0         23213.0   52          0  ...              1000   \n",
       "2           75.0         13988.0   52          0  ...              1000   \n",
       "3           81.0         14043.0   52          0  ...              1000   \n",
       "4           57.0         14556.0   52          0  ...              1000   \n",
       "\n",
       "  mb_per_month_included minutes_included rub_monthly_fee rub_per_gb  \\\n",
       "0                 30720             3000            1950        150   \n",
       "1                 30720             3000            1950        150   \n",
       "2                 30720             3000            1950        150   \n",
       "3                 30720             3000            1950        150   \n",
       "4                 30720             3000            1950        150   \n",
       "\n",
       "   rub_per_message  rub_per_minute  between_calls  between_messege  between_gb  \n",
       "0                1               1        -2836.0           -978.0       -27.0  \n",
       "1                1               1        -2813.0           -940.0        -7.0  \n",
       "2                1               1        -2654.0           -925.0       -16.0  \n",
       "3                1               1        -2582.0           -919.0       -16.0  \n",
       "4                1               1        -2522.0           -943.0       -15.0  \n",
       "\n",
       "[5 rows x 25 columns]"
      ]
     },
     "metadata": {},
     "output_type": "display_data"
    }
   ],
   "source": [
    "# в таблицу total_data добавены новые столбцы\n",
    "\n",
    "total_data['between_calls'] = total_data['calls_duration']-total_data['minutes_included'] # разница между потраченными минутами и минутами, включенными в тариф для тарифа ультра\n",
    "total_data['between_messege'] = total_data['messege_count'] - total_data['messages_included'] # разница между отправленными сообщениями и сообщениями, включенными в тариф для тарифа ультра\n",
    "total_data['between_gb'] = (total_data['internet_count']/1024) - (total_data['mb_per_month_included']/1024) # разница между потраченными Гб и Гб, включенными в тариф для тарифа ультра\n",
    "total_data['between_gb'] = total_data['between_gb'].apply(np.ceil).replace(0, 1) # значения столбца between_gb округлены в большую сторону\n",
    "display(total_data.head()) # информация выведена на экран"
   ]
  },
  {
   "cell_type": "code",
   "execution_count": 29,
   "metadata": {},
   "outputs": [
    {
     "name": "stdout",
     "output_type": "stream",
     "text": [
      "<class 'pandas.core.frame.DataFrame'>\n",
      "RangeIndex: 3216 entries, 0 to 3215\n",
      "Data columns (total 25 columns):\n",
      "level_0                  3216 non-null int64\n",
      "index                    3216 non-null int64\n",
      "user_id                  3216 non-null int64\n",
      "month                    3216 non-null float64\n",
      "calls_duration           3216 non-null float64\n",
      "calls_amount             3216 non-null float64\n",
      "messege_count            3216 non-null float64\n",
      "internet_count           3216 non-null float64\n",
      "age                      3216 non-null int64\n",
      "churn_date               3216 non-null object\n",
      "city                     3216 non-null object\n",
      "first_name               3216 non-null object\n",
      "last_name                3216 non-null object\n",
      "reg_date                 3216 non-null datetime64[ns]\n",
      "tariff                   3216 non-null object\n",
      "messages_included        3216 non-null int64\n",
      "mb_per_month_included    3216 non-null int64\n",
      "minutes_included         3216 non-null int64\n",
      "rub_monthly_fee          3216 non-null int64\n",
      "rub_per_gb               3216 non-null int64\n",
      "rub_per_message          3216 non-null int64\n",
      "rub_per_minute           3216 non-null int64\n",
      "between_calls            3216 non-null float64\n",
      "between_messege          3216 non-null float64\n",
      "between_gb               3216 non-null float64\n",
      "dtypes: datetime64[ns](1), float64(8), int64(11), object(5)\n",
      "memory usage: 628.2+ KB\n"
     ]
    }
   ],
   "source": [
    "total_data.info() # проверяем полученные данные"
   ]
  },
  {
   "cell_type": "markdown",
   "metadata": {},
   "source": [
    "# Расчёты и добавление результатов в таблицу"
   ]
  },
  {
   "cell_type": "code",
   "execution_count": 30,
   "metadata": {},
   "outputs": [
    {
     "data": {
      "text/html": [
       "<div>\n",
       "<style scoped>\n",
       "    .dataframe tbody tr th:only-of-type {\n",
       "        vertical-align: middle;\n",
       "    }\n",
       "\n",
       "    .dataframe tbody tr th {\n",
       "        vertical-align: top;\n",
       "    }\n",
       "\n",
       "    .dataframe thead th {\n",
       "        text-align: right;\n",
       "    }\n",
       "</style>\n",
       "<table border=\"1\" class=\"dataframe\">\n",
       "  <thead>\n",
       "    <tr style=\"text-align: right;\">\n",
       "      <th></th>\n",
       "      <th>level_0</th>\n",
       "      <th>index</th>\n",
       "      <th>user_id</th>\n",
       "      <th>month</th>\n",
       "      <th>calls_duration</th>\n",
       "      <th>calls_amount</th>\n",
       "      <th>messege_count</th>\n",
       "      <th>internet_count</th>\n",
       "      <th>age</th>\n",
       "      <th>churn_date</th>\n",
       "      <th>...</th>\n",
       "      <th>messages_included</th>\n",
       "      <th>mb_per_month_included</th>\n",
       "      <th>minutes_included</th>\n",
       "      <th>rub_monthly_fee</th>\n",
       "      <th>rub_per_gb</th>\n",
       "      <th>rub_per_message</th>\n",
       "      <th>rub_per_minute</th>\n",
       "      <th>between_calls</th>\n",
       "      <th>between_messege</th>\n",
       "      <th>between_gb</th>\n",
       "    </tr>\n",
       "  </thead>\n",
       "  <tbody>\n",
       "    <tr>\n",
       "      <td>0</td>\n",
       "      <td>0</td>\n",
       "      <td>0</td>\n",
       "      <td>1000</td>\n",
       "      <td>5.0</td>\n",
       "      <td>164.0</td>\n",
       "      <td>22.0</td>\n",
       "      <td>22.0</td>\n",
       "      <td>2252.0</td>\n",
       "      <td>52</td>\n",
       "      <td>0</td>\n",
       "      <td>...</td>\n",
       "      <td>1000</td>\n",
       "      <td>30720</td>\n",
       "      <td>3000</td>\n",
       "      <td>1950</td>\n",
       "      <td>150</td>\n",
       "      <td>1</td>\n",
       "      <td>1</td>\n",
       "      <td>-2836.0</td>\n",
       "      <td>-978.0</td>\n",
       "      <td>-27.0</td>\n",
       "    </tr>\n",
       "    <tr>\n",
       "      <td>1</td>\n",
       "      <td>1</td>\n",
       "      <td>1</td>\n",
       "      <td>1000</td>\n",
       "      <td>6.0</td>\n",
       "      <td>187.0</td>\n",
       "      <td>43.0</td>\n",
       "      <td>60.0</td>\n",
       "      <td>23213.0</td>\n",
       "      <td>52</td>\n",
       "      <td>0</td>\n",
       "      <td>...</td>\n",
       "      <td>1000</td>\n",
       "      <td>30720</td>\n",
       "      <td>3000</td>\n",
       "      <td>1950</td>\n",
       "      <td>150</td>\n",
       "      <td>1</td>\n",
       "      <td>1</td>\n",
       "      <td>-2813.0</td>\n",
       "      <td>-940.0</td>\n",
       "      <td>-7.0</td>\n",
       "    </tr>\n",
       "    <tr>\n",
       "      <td>2</td>\n",
       "      <td>2</td>\n",
       "      <td>2</td>\n",
       "      <td>1000</td>\n",
       "      <td>7.0</td>\n",
       "      <td>346.0</td>\n",
       "      <td>47.0</td>\n",
       "      <td>75.0</td>\n",
       "      <td>13988.0</td>\n",
       "      <td>52</td>\n",
       "      <td>0</td>\n",
       "      <td>...</td>\n",
       "      <td>1000</td>\n",
       "      <td>30720</td>\n",
       "      <td>3000</td>\n",
       "      <td>1950</td>\n",
       "      <td>150</td>\n",
       "      <td>1</td>\n",
       "      <td>1</td>\n",
       "      <td>-2654.0</td>\n",
       "      <td>-925.0</td>\n",
       "      <td>-16.0</td>\n",
       "    </tr>\n",
       "    <tr>\n",
       "      <td>3</td>\n",
       "      <td>3</td>\n",
       "      <td>3</td>\n",
       "      <td>1000</td>\n",
       "      <td>8.0</td>\n",
       "      <td>418.0</td>\n",
       "      <td>52.0</td>\n",
       "      <td>81.0</td>\n",
       "      <td>14043.0</td>\n",
       "      <td>52</td>\n",
       "      <td>0</td>\n",
       "      <td>...</td>\n",
       "      <td>1000</td>\n",
       "      <td>30720</td>\n",
       "      <td>3000</td>\n",
       "      <td>1950</td>\n",
       "      <td>150</td>\n",
       "      <td>1</td>\n",
       "      <td>1</td>\n",
       "      <td>-2582.0</td>\n",
       "      <td>-919.0</td>\n",
       "      <td>-16.0</td>\n",
       "    </tr>\n",
       "    <tr>\n",
       "      <td>4</td>\n",
       "      <td>4</td>\n",
       "      <td>4</td>\n",
       "      <td>1000</td>\n",
       "      <td>9.0</td>\n",
       "      <td>478.0</td>\n",
       "      <td>58.0</td>\n",
       "      <td>57.0</td>\n",
       "      <td>14556.0</td>\n",
       "      <td>52</td>\n",
       "      <td>0</td>\n",
       "      <td>...</td>\n",
       "      <td>1000</td>\n",
       "      <td>30720</td>\n",
       "      <td>3000</td>\n",
       "      <td>1950</td>\n",
       "      <td>150</td>\n",
       "      <td>1</td>\n",
       "      <td>1</td>\n",
       "      <td>-2522.0</td>\n",
       "      <td>-943.0</td>\n",
       "      <td>-15.0</td>\n",
       "    </tr>\n",
       "  </tbody>\n",
       "</table>\n",
       "<p>5 rows × 25 columns</p>\n",
       "</div>"
      ],
      "text/plain": [
       "   level_0  index  user_id  month  calls_duration  calls_amount  \\\n",
       "0        0      0     1000    5.0           164.0          22.0   \n",
       "1        1      1     1000    6.0           187.0          43.0   \n",
       "2        2      2     1000    7.0           346.0          47.0   \n",
       "3        3      3     1000    8.0           418.0          52.0   \n",
       "4        4      4     1000    9.0           478.0          58.0   \n",
       "\n",
       "   messege_count  internet_count  age churn_date  ... messages_included  \\\n",
       "0           22.0          2252.0   52          0  ...              1000   \n",
       "1           60.0         23213.0   52          0  ...              1000   \n",
       "2           75.0         13988.0   52          0  ...              1000   \n",
       "3           81.0         14043.0   52          0  ...              1000   \n",
       "4           57.0         14556.0   52          0  ...              1000   \n",
       "\n",
       "  mb_per_month_included minutes_included rub_monthly_fee rub_per_gb  \\\n",
       "0                 30720             3000            1950        150   \n",
       "1                 30720             3000            1950        150   \n",
       "2                 30720             3000            1950        150   \n",
       "3                 30720             3000            1950        150   \n",
       "4                 30720             3000            1950        150   \n",
       "\n",
       "   rub_per_message  rub_per_minute  between_calls  between_messege  between_gb  \n",
       "0                1               1        -2836.0           -978.0       -27.0  \n",
       "1                1               1        -2813.0           -940.0        -7.0  \n",
       "2                1               1        -2654.0           -925.0       -16.0  \n",
       "3                1               1        -2582.0           -919.0       -16.0  \n",
       "4                1               1        -2522.0           -943.0       -15.0  \n",
       "\n",
       "[5 rows x 25 columns]"
      ]
     },
     "metadata": {},
     "output_type": "display_data"
    }
   ],
   "source": [
    "# итоговая таблицы выведена на экран\n",
    "display(total_data.head())"
   ]
  },
  {
   "cell_type": "code",
   "execution_count": 31,
   "metadata": {},
   "outputs": [],
   "source": [
    "total_data['internet_count'] = total_data['internet_count']/1024 # Мб переведены в Гб\n",
    "total_data['internet_count'] = total_data['internet_count'].apply(np.ceil).replace(0, 1) # значения округлены в большую сторон"
   ]
  },
  {
   "cell_type": "code",
   "execution_count": 32,
   "metadata": {},
   "outputs": [],
   "source": [
    "def smart_ultra(row):\n",
    "    if row['between_messege'] > 0:\n",
    "        messages_extra = row['between_messege']*row['rub_per_message']\n",
    "    else:\n",
    "        messages_extra = 0\n",
    "    if row['between_calls'] > 0:\n",
    "        calls_extra = row['between_calls']*row['rub_per_minute']\n",
    "    else:\n",
    "        calls_extra = 0\n",
    "    if row['between_gb'] > 0:\n",
    "        gb_extra = row['between_gb']*row['rub_per_gb']\n",
    "    else:\n",
    "        gb_extra = 0\n",
    "    total_cost = messages_extra + calls_extra + gb_extra + row['rub_monthly_fee']\n",
    " \n",
    "    return total_cost\n",
    "                        \n",
    "total_data['general_sum'] = total_data.apply(smart_ultra, axis=1)"
   ]
  },
  {
   "cell_type": "code",
   "execution_count": 33,
   "metadata": {},
   "outputs": [
    {
     "data": {
      "text/html": [
       "<div>\n",
       "<style scoped>\n",
       "    .dataframe tbody tr th:only-of-type {\n",
       "        vertical-align: middle;\n",
       "    }\n",
       "\n",
       "    .dataframe tbody tr th {\n",
       "        vertical-align: top;\n",
       "    }\n",
       "\n",
       "    .dataframe thead th {\n",
       "        text-align: right;\n",
       "    }\n",
       "</style>\n",
       "<table border=\"1\" class=\"dataframe\">\n",
       "  <thead>\n",
       "    <tr style=\"text-align: right;\">\n",
       "      <th></th>\n",
       "      <th>level_0</th>\n",
       "      <th>index</th>\n",
       "      <th>user_id</th>\n",
       "      <th>month</th>\n",
       "      <th>calls_duration</th>\n",
       "      <th>calls_amount</th>\n",
       "      <th>messege_count</th>\n",
       "      <th>internet_count</th>\n",
       "      <th>age</th>\n",
       "      <th>churn_date</th>\n",
       "      <th>...</th>\n",
       "      <th>mb_per_month_included</th>\n",
       "      <th>minutes_included</th>\n",
       "      <th>rub_monthly_fee</th>\n",
       "      <th>rub_per_gb</th>\n",
       "      <th>rub_per_message</th>\n",
       "      <th>rub_per_minute</th>\n",
       "      <th>between_calls</th>\n",
       "      <th>between_messege</th>\n",
       "      <th>between_gb</th>\n",
       "      <th>general_sum</th>\n",
       "    </tr>\n",
       "  </thead>\n",
       "  <tbody>\n",
       "    <tr>\n",
       "      <td>0</td>\n",
       "      <td>0</td>\n",
       "      <td>0</td>\n",
       "      <td>1000</td>\n",
       "      <td>5.0</td>\n",
       "      <td>164.0</td>\n",
       "      <td>22.0</td>\n",
       "      <td>22.0</td>\n",
       "      <td>3.0</td>\n",
       "      <td>52</td>\n",
       "      <td>0</td>\n",
       "      <td>...</td>\n",
       "      <td>30720</td>\n",
       "      <td>3000</td>\n",
       "      <td>1950</td>\n",
       "      <td>150</td>\n",
       "      <td>1</td>\n",
       "      <td>1</td>\n",
       "      <td>-2836.0</td>\n",
       "      <td>-978.0</td>\n",
       "      <td>-27.0</td>\n",
       "      <td>1950.0</td>\n",
       "    </tr>\n",
       "    <tr>\n",
       "      <td>1</td>\n",
       "      <td>1</td>\n",
       "      <td>1</td>\n",
       "      <td>1000</td>\n",
       "      <td>6.0</td>\n",
       "      <td>187.0</td>\n",
       "      <td>43.0</td>\n",
       "      <td>60.0</td>\n",
       "      <td>23.0</td>\n",
       "      <td>52</td>\n",
       "      <td>0</td>\n",
       "      <td>...</td>\n",
       "      <td>30720</td>\n",
       "      <td>3000</td>\n",
       "      <td>1950</td>\n",
       "      <td>150</td>\n",
       "      <td>1</td>\n",
       "      <td>1</td>\n",
       "      <td>-2813.0</td>\n",
       "      <td>-940.0</td>\n",
       "      <td>-7.0</td>\n",
       "      <td>1950.0</td>\n",
       "    </tr>\n",
       "    <tr>\n",
       "      <td>2</td>\n",
       "      <td>2</td>\n",
       "      <td>2</td>\n",
       "      <td>1000</td>\n",
       "      <td>7.0</td>\n",
       "      <td>346.0</td>\n",
       "      <td>47.0</td>\n",
       "      <td>75.0</td>\n",
       "      <td>14.0</td>\n",
       "      <td>52</td>\n",
       "      <td>0</td>\n",
       "      <td>...</td>\n",
       "      <td>30720</td>\n",
       "      <td>3000</td>\n",
       "      <td>1950</td>\n",
       "      <td>150</td>\n",
       "      <td>1</td>\n",
       "      <td>1</td>\n",
       "      <td>-2654.0</td>\n",
       "      <td>-925.0</td>\n",
       "      <td>-16.0</td>\n",
       "      <td>1950.0</td>\n",
       "    </tr>\n",
       "    <tr>\n",
       "      <td>3</td>\n",
       "      <td>3</td>\n",
       "      <td>3</td>\n",
       "      <td>1000</td>\n",
       "      <td>8.0</td>\n",
       "      <td>418.0</td>\n",
       "      <td>52.0</td>\n",
       "      <td>81.0</td>\n",
       "      <td>14.0</td>\n",
       "      <td>52</td>\n",
       "      <td>0</td>\n",
       "      <td>...</td>\n",
       "      <td>30720</td>\n",
       "      <td>3000</td>\n",
       "      <td>1950</td>\n",
       "      <td>150</td>\n",
       "      <td>1</td>\n",
       "      <td>1</td>\n",
       "      <td>-2582.0</td>\n",
       "      <td>-919.0</td>\n",
       "      <td>-16.0</td>\n",
       "      <td>1950.0</td>\n",
       "    </tr>\n",
       "    <tr>\n",
       "      <td>4</td>\n",
       "      <td>4</td>\n",
       "      <td>4</td>\n",
       "      <td>1000</td>\n",
       "      <td>9.0</td>\n",
       "      <td>478.0</td>\n",
       "      <td>58.0</td>\n",
       "      <td>57.0</td>\n",
       "      <td>15.0</td>\n",
       "      <td>52</td>\n",
       "      <td>0</td>\n",
       "      <td>...</td>\n",
       "      <td>30720</td>\n",
       "      <td>3000</td>\n",
       "      <td>1950</td>\n",
       "      <td>150</td>\n",
       "      <td>1</td>\n",
       "      <td>1</td>\n",
       "      <td>-2522.0</td>\n",
       "      <td>-943.0</td>\n",
       "      <td>-15.0</td>\n",
       "      <td>1950.0</td>\n",
       "    </tr>\n",
       "  </tbody>\n",
       "</table>\n",
       "<p>5 rows × 26 columns</p>\n",
       "</div>"
      ],
      "text/plain": [
       "   level_0  index  user_id  month  calls_duration  calls_amount  \\\n",
       "0        0      0     1000    5.0           164.0          22.0   \n",
       "1        1      1     1000    6.0           187.0          43.0   \n",
       "2        2      2     1000    7.0           346.0          47.0   \n",
       "3        3      3     1000    8.0           418.0          52.0   \n",
       "4        4      4     1000    9.0           478.0          58.0   \n",
       "\n",
       "   messege_count  internet_count  age churn_date  ... mb_per_month_included  \\\n",
       "0           22.0             3.0   52          0  ...                 30720   \n",
       "1           60.0            23.0   52          0  ...                 30720   \n",
       "2           75.0            14.0   52          0  ...                 30720   \n",
       "3           81.0            14.0   52          0  ...                 30720   \n",
       "4           57.0            15.0   52          0  ...                 30720   \n",
       "\n",
       "  minutes_included rub_monthly_fee rub_per_gb rub_per_message  rub_per_minute  \\\n",
       "0             3000            1950        150               1               1   \n",
       "1             3000            1950        150               1               1   \n",
       "2             3000            1950        150               1               1   \n",
       "3             3000            1950        150               1               1   \n",
       "4             3000            1950        150               1               1   \n",
       "\n",
       "   between_calls  between_messege  between_gb  general_sum  \n",
       "0        -2836.0           -978.0       -27.0       1950.0  \n",
       "1        -2813.0           -940.0        -7.0       1950.0  \n",
       "2        -2654.0           -925.0       -16.0       1950.0  \n",
       "3        -2582.0           -919.0       -16.0       1950.0  \n",
       "4        -2522.0           -943.0       -15.0       1950.0  \n",
       "\n",
       "[5 rows x 26 columns]"
      ]
     },
     "metadata": {},
     "output_type": "display_data"
    }
   ],
   "source": [
    "display(total_data.head())"
   ]
  },
  {
   "cell_type": "code",
   "execution_count": 34,
   "metadata": {},
   "outputs": [
    {
     "name": "stdout",
     "output_type": "stream",
     "text": [
      "<class 'pandas.core.frame.DataFrame'>\n",
      "RangeIndex: 3216 entries, 0 to 3215\n",
      "Data columns (total 26 columns):\n",
      "level_0                  3216 non-null int64\n",
      "index                    3216 non-null int64\n",
      "user_id                  3216 non-null int64\n",
      "month                    3216 non-null float64\n",
      "calls_duration           3216 non-null float64\n",
      "calls_amount             3216 non-null float64\n",
      "messege_count            3216 non-null float64\n",
      "internet_count           3216 non-null float64\n",
      "age                      3216 non-null int64\n",
      "churn_date               3216 non-null object\n",
      "city                     3216 non-null object\n",
      "first_name               3216 non-null object\n",
      "last_name                3216 non-null object\n",
      "reg_date                 3216 non-null datetime64[ns]\n",
      "tariff                   3216 non-null object\n",
      "messages_included        3216 non-null int64\n",
      "mb_per_month_included    3216 non-null int64\n",
      "minutes_included         3216 non-null int64\n",
      "rub_monthly_fee          3216 non-null int64\n",
      "rub_per_gb               3216 non-null int64\n",
      "rub_per_message          3216 non-null int64\n",
      "rub_per_minute           3216 non-null int64\n",
      "between_calls            3216 non-null float64\n",
      "between_messege          3216 non-null float64\n",
      "between_gb               3216 non-null float64\n",
      "general_sum              3216 non-null float64\n",
      "dtypes: datetime64[ns](1), float64(9), int64(11), object(5)\n",
      "memory usage: 653.4+ KB\n"
     ]
    }
   ],
   "source": [
    "total_data.info() # проверяем полученные данные"
   ]
  },
  {
   "cell_type": "markdown",
   "metadata": {},
   "source": [
    "# Вывод\n",
    "Проведена предобработка данных, изменен форсат дат в таблицах users, calls, messeges, добавлен новый столбец mohth для удобства дальнейшей работы и объединения таблиц. Для проведения аналаза данных получена единая таблица total_table с информациией по тарифам, а именно включены количество сделанных звонков и израсходованных минут разговора по месяцам, количество отправленных сообщений по месяцам, объем израсходованного интернет-трафика по месяцам и помесячная выручка с каждого пользователя."
   ]
  },
  {
   "cell_type": "markdown",
   "metadata": {},
   "source": [
    "## Исследовательский анализ данных"
   ]
  },
  {
   "cell_type": "code",
   "execution_count": 35,
   "metadata": {},
   "outputs": [],
   "source": [
    "#display(total_data.head())"
   ]
  },
  {
   "cell_type": "code",
   "execution_count": 36,
   "metadata": {},
   "outputs": [],
   "source": [
    "total_data_ultra = total_data.query('tariff == \"ultra\"') # сделана выборка пользователей по тарифу ultra"
   ]
  },
  {
   "cell_type": "code",
   "execution_count": 37,
   "metadata": {},
   "outputs": [
    {
     "data": {
      "text/plain": [
       "<matplotlib.axes._subplots.AxesSubplot at 0x7f07ad40d6d0>"
      ]
     },
     "execution_count": 37,
     "metadata": {},
     "output_type": "execute_result"
    },
    {
     "data": {
      "image/png": "[encoded data removed]",
      "text/plain": [
       "<Figure size 432x288 with 1 Axes>"
      ]
     },
     "metadata": {
      "needs_background": "light"
     },
     "output_type": "display_data"
    }
   ],
   "source": [
    "#построен график зависомости количества звонков в каждом месяце для тарифа ultra\n",
    "\n",
    "total_data_ultra.groupby('month')['calls_amount'].mean().plot()"
   ]
  },
  {
   "cell_type": "markdown",
   "metadata": {},
   "source": [
    "Из полученнного графика видно, что наименьшее количество звонков клиенты совершают в феврале, далее наблюдается увеличение количества звонков, пик наблюдается в декабре."
   ]
  },
  {
   "cell_type": "code",
   "execution_count": 38,
   "metadata": {},
   "outputs": [
    {
     "data": {
      "text/plain": [
       "count    986.000000\n",
       "mean      73.318458\n",
       "std       43.956739\n",
       "min        0.000000\n",
       "25%       41.000000\n",
       "50%       73.500000\n",
       "75%      103.750000\n",
       "max      244.000000\n",
       "Name: calls_amount, dtype: float64"
      ]
     },
     "execution_count": 38,
     "metadata": {},
     "output_type": "execute_result"
    }
   ],
   "source": [
    "total_data_ultra['calls_amount'].describe()"
   ]
  },
  {
   "cell_type": "code",
   "execution_count": 39,
   "metadata": {},
   "outputs": [
    {
     "name": "stdout",
     "output_type": "stream",
     "text": [
      "Дисперсия 1930.2352982320435\n"
     ]
    }
   ],
   "source": [
    "#рассчитана дисперсия количества зконков в тарифе ultra\n",
    "\n",
    "variance_ultra = np.var(total_data_ultra['calls_amount'])\n",
    "print('Дисперсия', variance_ultra)"
   ]
  },
  {
   "cell_type": "code",
   "execution_count": 40,
   "metadata": {},
   "outputs": [
    {
     "data": {
      "text/plain": [
       "<matplotlib.axes._subplots.AxesSubplot at 0x7f07af037b50>"
      ]
     },
     "execution_count": 40,
     "metadata": {},
     "output_type": "execute_result"
    },
    {
     "data": {
      "image/png": "[encoded data removed]",
      "text/plain": [
       "<Figure size 432x288 with 1 Axes>"
      ]
     },
     "metadata": {
      "needs_background": "light"
     },
     "output_type": "display_data"
    }
   ],
   "source": [
    "total_data_ultra['calls_amount'].hist(bins=10, range=(0, 224))"
   ]
  },
  {
   "cell_type": "code",
   "execution_count": 41,
   "metadata": {},
   "outputs": [
    {
     "data": {
      "text/plain": [
       "count     986.000000\n",
       "mean      540.231237\n",
       "std       326.028527\n",
       "min         0.000000\n",
       "25%       291.250000\n",
       "50%       531.500000\n",
       "75%       772.500000\n",
       "max      1727.000000\n",
       "Name: calls_duration, dtype: float64"
      ]
     },
     "execution_count": 41,
     "metadata": {},
     "output_type": "execute_result"
    }
   ],
   "source": [
    "total_data_ultra['calls_duration'].describe()"
   ]
  },
  {
   "cell_type": "code",
   "execution_count": 42,
   "metadata": {},
   "outputs": [
    {
     "name": "stdout",
     "output_type": "stream",
     "text": [
      "Дисперсия 106186.7964278808\n"
     ]
    }
   ],
   "source": [
    "variance_ultra_call = np.var(total_data_ultra['calls_duration'])\n",
    "print('Дисперсия', variance_ultra_call)"
   ]
  },
  {
   "cell_type": "code",
   "execution_count": 43,
   "metadata": {},
   "outputs": [
    {
     "data": {
      "text/plain": [
       "<matplotlib.axes._subplots.AxesSubplot at 0x7f07aef71a50>"
      ]
     },
     "execution_count": 43,
     "metadata": {},
     "output_type": "execute_result"
    },
    {
     "data": {
      "image/png": "[encoded data removed]",
      "text/plain": [
       "<Figure size 432x288 with 1 Axes>"
      ]
     },
     "metadata": {
      "needs_background": "light"
     },
     "output_type": "display_data"
    }
   ],
   "source": [
    "total_data_ultra['calls_duration'].hist(bins=10, range=(0, 1727))"
   ]
  },
  {
   "cell_type": "markdown",
   "metadata": {},
   "source": [
    "В среднем пользователи тарифа ultra совершают 73 звонка в месяц со средней продолжительностью 540 минут. Это видно и на гистограммах, большая часть пользовалей укладывается в заложенные в тариф 3000 минут в месяц, пик на гистрограмме наблюдается в интервале от 500 -600 минут, то есть основная часть клиентов не переплачивает за дополнительне минуты разговора. Распределение на гистрограмме носит нормальный характер."
   ]
  },
  {
   "cell_type": "code",
   "execution_count": 44,
   "metadata": {},
   "outputs": [
    {
     "data": {
      "text/plain": [
       "<matplotlib.axes._subplots.AxesSubplot at 0x7f07aee2cbd0>"
      ]
     },
     "execution_count": 44,
     "metadata": {},
     "output_type": "execute_result"
    },
    {
     "data": {
      "image/png": "[encoded data removed]",
      "text/plain": [
       "<Figure size 432x288 with 1 Axes>"
      ]
     },
     "metadata": {
      "needs_background": "light"
     },
     "output_type": "display_data"
    }
   ],
   "source": [
    "#построен график зависомости количества сообщений в каждом месяце для тарифа ultra\n",
    "\n",
    "total_data_ultra.groupby('month')['messege_count'].mean().plot()"
   ]
  },
  {
   "cell_type": "markdown",
   "metadata": {},
   "source": [
    "Из графика также видно, что количества сообщений в течение года растет и пик наблюдается в конце года, основной спад так же, как и созвонками, наблюдается в феврале."
   ]
  },
  {
   "cell_type": "code",
   "execution_count": 45,
   "metadata": {},
   "outputs": [
    {
     "data": {
      "text/plain": [
       "count    986.000000\n",
       "mean      49.313387\n",
       "std       47.806040\n",
       "min        0.000000\n",
       "25%        6.000000\n",
       "50%       38.000000\n",
       "75%       78.750000\n",
       "max      224.000000\n",
       "Name: messege_count, dtype: float64"
      ]
     },
     "execution_count": 45,
     "metadata": {},
     "output_type": "execute_result"
    }
   ],
   "source": [
    "total_data_ultra['messege_count'].describe()"
   ]
  },
  {
   "cell_type": "code",
   "execution_count": 46,
   "metadata": {},
   "outputs": [
    {
     "data": {
      "text/plain": [
       "<matplotlib.axes._subplots.AxesSubplot at 0x7f07aee049d0>"
      ]
     },
     "execution_count": 46,
     "metadata": {},
     "output_type": "execute_result"
    },
    {
     "data": {
      "image/png": "[encoded data removed]",
      "text/plain": [
       "<Figure size 432x288 with 1 Axes>"
      ]
     },
     "metadata": {
      "needs_background": "light"
     },
     "output_type": "display_data"
    }
   ],
   "source": [
    "total_data_ultra['messege_count'].hist(bins=10, range=(0, 224))"
   ]
  },
  {
   "cell_type": "code",
   "execution_count": 47,
   "metadata": {},
   "outputs": [
    {
     "name": "stdout",
     "output_type": "stream",
     "text": [
      "Дисперсия 2283.0995570851965\n"
     ]
    }
   ],
   "source": [
    "variance_ultra_m = np.var(total_data_ultra['messege_count'])\n",
    "print('Дисперсия', variance_ultra_m)"
   ]
  },
  {
   "cell_type": "markdown",
   "metadata": {},
   "source": [
    "По гистограмме видно, что в осном клиенты используют от 0 до 25 сообшений в месяц, что также не превышает заложенный тарифом лимит на 1000 сообщений, в связи с чем клиенты так же не переплачивают и за сообщения при использовании данного тарифа."
   ]
  },
  {
   "cell_type": "code",
   "execution_count": 48,
   "metadata": {},
   "outputs": [
    {
     "data": {
      "text/plain": [
       "<matplotlib.axes._subplots.AxesSubplot at 0x7f07ae165b10>"
      ]
     },
     "execution_count": 48,
     "metadata": {},
     "output_type": "execute_result"
    },
    {
     "data": {
      "image/png": "[encoded data removed]",
      "text/plain": [
       "<Figure size 432x288 with 1 Axes>"
      ]
     },
     "metadata": {
      "needs_background": "light"
     },
     "output_type": "display_data"
    }
   ],
   "source": [
    "#построен график зависомости количества потраченных Гб в каждом месяце для тарифа ultra\n",
    "\n",
    "total_data_ultra.groupby('month')['internet_count'].mean().plot()"
   ]
  },
  {
   "cell_type": "markdown",
   "metadata": {},
   "source": [
    "Также наблюдается спад использования интернета в феврале, с июня месяца приобретает линейный характер."
   ]
  },
  {
   "cell_type": "code",
   "execution_count": 49,
   "metadata": {},
   "outputs": [
    {
     "data": {
      "text/plain": [
       "count    986.000000\n",
       "mean      19.471602\n",
       "std        9.838374\n",
       "min        1.000000\n",
       "25%       12.000000\n",
       "50%       19.000000\n",
       "75%       27.000000\n",
       "max       49.000000\n",
       "Name: internet_count, dtype: float64"
      ]
     },
     "execution_count": 49,
     "metadata": {},
     "output_type": "execute_result"
    }
   ],
   "source": [
    "total_data_ultra['internet_count'].describe()"
   ]
  },
  {
   "cell_type": "code",
   "execution_count": 50,
   "metadata": {},
   "outputs": [
    {
     "name": "stdout",
     "output_type": "stream",
     "text": [
      "Дисперсия 96.6954410427527\n"
     ]
    },
    {
     "data": {
      "image/png": "[encoded data removed]",
      "text/plain": [
       "<Figure size 432x288 with 1 Axes>"
      ]
     },
     "metadata": {
      "needs_background": "light"
     },
     "output_type": "display_data"
    }
   ],
   "source": [
    "total_data_ultra['internet_count'].hist(bins=10, range=(1, 49))\n",
    "variance_ultra_g = np.var(total_data_ultra['internet_count'])\n",
    "print('Дисперсия', variance_ultra_g)"
   ]
  },
  {
   "cell_type": "markdown",
   "metadata": {},
   "source": [
    "В среднем пользователи тарифа используют 12 Гб трафика интернета в месяц, пик на гистограмме наблюдается в пределах от 15 до 20, но в целом большая часть клиентов не переплачивает за интернет и укладывается в выделенные 15 Гб интернет-трафика."
   ]
  },
  {
   "cell_type": "markdown",
   "metadata": {},
   "source": [
    "## Выводы по графикам тарифа ultra\n",
    "\n",
    "В среднем клиенты тарифа совершают до 73 звонков в месяц, что в среднем составляем 540 минуту в месяц. Также клиенты в среднем отправляют в месяц до 25-ти сообщений и тратят от 12 до 20 Гб интернет-трафика в меясц. Из графиков можно заметить, что к концу года активнсоть в пользовании тарифным планом возрастает. Но в целом тариф выгоден для клиента, можно предположить, что переплаты для клиентов будут не частым случаем."
   ]
  },
  {
   "cell_type": "code",
   "execution_count": 51,
   "metadata": {},
   "outputs": [
    {
     "data": {
      "text/plain": [
       "<matplotlib.axes._subplots.AxesSubplot at 0x7f07a4447250>"
      ]
     },
     "execution_count": 51,
     "metadata": {},
     "output_type": "execute_result"
    },
    {
     "data": {
      "image/png": "[encoded data removed]",
      "text/plain": [
       "<Figure size 432x288 with 1 Axes>"
      ]
     },
     "metadata": {
      "needs_background": "light"
     },
     "output_type": "display_data"
    }
   ],
   "source": [
    "total_data_smart = total_data.query('tariff == \"smart\"') # получена выборка для тарифа smart\n",
    "\n",
    "#построен график зависомости количества звонков в каждом месяце для тарифа smart\n",
    "\n",
    "total_data_smart.groupby('month')['calls_duration'].mean().plot()"
   ]
  },
  {
   "cell_type": "markdown",
   "metadata": {},
   "source": [
    "С июня месяца наблюдается линейная зависимость в пользовании тарифным планом."
   ]
  },
  {
   "cell_type": "code",
   "execution_count": 52,
   "metadata": {},
   "outputs": [
    {
     "data": {
      "text/plain": [
       "count    2230.000000\n",
       "mean      429.258296\n",
       "std       195.039589\n",
       "min         0.000000\n",
       "25%       290.250000\n",
       "50%       434.500000\n",
       "75%       560.000000\n",
       "max      1471.000000\n",
       "Name: calls_duration, dtype: float64"
      ]
     },
     "execution_count": 52,
     "metadata": {},
     "output_type": "execute_result"
    }
   ],
   "source": [
    "total_data_smart['calls_duration'].describe()"
   ]
  },
  {
   "cell_type": "code",
   "execution_count": 53,
   "metadata": {},
   "outputs": [
    {
     "data": {
      "text/plain": [
       "count    2230.000000\n",
       "mean       58.437220\n",
       "std        25.963572\n",
       "min         0.000000\n",
       "25%        40.000000\n",
       "50%        60.000000\n",
       "75%        76.000000\n",
       "max       198.000000\n",
       "Name: calls_amount, dtype: float64"
      ]
     },
     "execution_count": 53,
     "metadata": {},
     "output_type": "execute_result"
    }
   ],
   "source": [
    "total_data_smart['calls_amount'].describe()"
   ]
  },
  {
   "cell_type": "code",
   "execution_count": 54,
   "metadata": {},
   "outputs": [
    {
     "name": "stdout",
     "output_type": "stream",
     "text": [
      "Дисперсия 38023.382610549175\n"
     ]
    },
    {
     "data": {
      "image/png": "[encoded data removed]",
      "text/plain": [
       "<Figure size 432x288 with 1 Axes>"
      ]
     },
     "metadata": {
      "needs_background": "light"
     },
     "output_type": "display_data"
    }
   ],
   "source": [
    "total_data_smart['calls_duration'].hist(bins=10, range=(0, 1471))\n",
    "variance_smart = np.var(total_data_smart['calls_duration'])\n",
    "print('Дисперсия', variance_smart)"
   ]
  },
  {
   "cell_type": "code",
   "execution_count": 55,
   "metadata": {},
   "outputs": [
    {
     "name": "stdout",
     "output_type": "stream",
     "text": [
      "Дисперсия 38023.382610549175\n"
     ]
    },
    {
     "data": {
      "image/png": "[encoded data removed]",
      "text/plain": [
       "<Figure size 432x288 with 1 Axes>"
      ]
     },
     "metadata": {
      "needs_background": "light"
     },
     "output_type": "display_data"
    }
   ],
   "source": [
    "total_data_smart['calls_amount'].hist(bins=10, range=(0, 198))\n",
    "variance_smart_calls = np.var(total_data_smart['calls_amount'])\n",
    "print('Дисперсия', variance_smart)"
   ]
  },
  {
   "cell_type": "markdown",
   "metadata": {},
   "source": [
    "В среднем пользователи тарифа smart совершают 58 звонков в месяц со средей продолжительностью 429 минут в месяц.Основной пик на гистограмме наблюдается в пределах от 400 до 600 минут разговора. То есть можно предположить, что пользователи тарифа smart чаще переплачивают за разговоры, так как лимин минут - 500. Распределение носит нормальный характер."
   ]
  },
  {
   "cell_type": "code",
   "execution_count": 56,
   "metadata": {},
   "outputs": [
    {
     "data": {
      "text/plain": [
       "<matplotlib.axes._subplots.AxesSubplot at 0x7f07a4348390>"
      ]
     },
     "execution_count": 56,
     "metadata": {},
     "output_type": "execute_result"
    },
    {
     "data": {
      "image/png": "[encoded data removed]",
      "text/plain": [
       "<Figure size 432x288 with 1 Axes>"
      ]
     },
     "metadata": {
      "needs_background": "light"
     },
     "output_type": "display_data"
    }
   ],
   "source": [
    "#построен график зависомости количества сообщений в каждом месяце для тарифа smart\n",
    "\n",
    "total_data_smart.groupby('month')['messege_count'].mean().plot()"
   ]
  },
  {
   "cell_type": "markdown",
   "metadata": {},
   "source": [
    "Аналогично с июня месяца наблюдается линейная зависимость в пользовании тарифным планом."
   ]
  },
  {
   "cell_type": "code",
   "execution_count": 57,
   "metadata": {},
   "outputs": [
    {
     "data": {
      "text/plain": [
       "count    2230.000000\n",
       "mean       33.369058\n",
       "std        28.230396\n",
       "min         0.000000\n",
       "25%        10.000000\n",
       "50%        28.000000\n",
       "75%        51.000000\n",
       "max       143.000000\n",
       "Name: messege_count, dtype: float64"
      ]
     },
     "execution_count": 57,
     "metadata": {},
     "output_type": "execute_result"
    }
   ],
   "source": [
    "total_data_smart['messege_count'].describe()"
   ]
  },
  {
   "cell_type": "code",
   "execution_count": 58,
   "metadata": {},
   "outputs": [
    {
     "name": "stdout",
     "output_type": "stream",
     "text": [
      "Дисперсия 796.5978766916688\n"
     ]
    },
    {
     "data": {
      "image/png": "[encoded data removed]",
      "text/plain": [
       "<Figure size 432x288 with 1 Axes>"
      ]
     },
     "metadata": {
      "needs_background": "light"
     },
     "output_type": "display_data"
    }
   ],
   "source": [
    "total_data_smart['messege_count'].hist(bins=10, range=(0, 143))\n",
    "variance_smart_m = np.var(total_data_smart['messege_count'])\n",
    "print('Дисперсия', variance_smart_m)"
   ]
  },
  {
   "cell_type": "markdown",
   "metadata": {},
   "source": [
    "В среднем пользователи тарифа используют от 0 до 15 сообщений в месяц - это пик на гистограмме, то есть пользователи редко переплачивают за дополнительный сообщения при использовании этого тарифа."
   ]
  },
  {
   "cell_type": "code",
   "execution_count": 59,
   "metadata": {},
   "outputs": [
    {
     "data": {
      "text/plain": [
       "<matplotlib.axes._subplots.AxesSubplot at 0x7f07a424ab10>"
      ]
     },
     "execution_count": 59,
     "metadata": {},
     "output_type": "execute_result"
    },
    {
     "data": {
      "image/png": "[encoded data removed]",
      "text/plain": [
       "<Figure size 432x288 with 1 Axes>"
      ]
     },
     "metadata": {
      "needs_background": "light"
     },
     "output_type": "display_data"
    }
   ],
   "source": [
    "#построен график зависомости количества потраченных Гб в каждом месяце для тарифа smart\n",
    "\n",
    "total_data_smart.groupby('month')['internet_count'].mean().plot()"
   ]
  },
  {
   "cell_type": "code",
   "execution_count": 60,
   "metadata": {},
   "outputs": [
    {
     "data": {
      "text/plain": [
       "count    2230.000000\n",
       "mean       16.302691\n",
       "std         5.744004\n",
       "min         1.000000\n",
       "25%        13.000000\n",
       "50%        17.000000\n",
       "75%        20.000000\n",
       "max        38.000000\n",
       "Name: internet_count, dtype: float64"
      ]
     },
     "execution_count": 60,
     "metadata": {},
     "output_type": "execute_result"
    }
   ],
   "source": [
    "total_data_smart['internet_count'].describe()"
   ]
  },
  {
   "cell_type": "code",
   "execution_count": 61,
   "metadata": {},
   "outputs": [
    {
     "name": "stdout",
     "output_type": "stream",
     "text": [
      "Дисперсия 32.978781998431494\n"
     ]
    },
    {
     "data": {
      "image/png": "[encoded data removed]",
      "text/plain": [
       "<Figure size 432x288 with 1 Axes>"
      ]
     },
     "metadata": {
      "needs_background": "light"
     },
     "output_type": "display_data"
    }
   ],
   "source": [
    "total_data_smart['internet_count'].hist(bins=10, range=(1, 38))\n",
    "variance_smart_g = np.var(total_data_smart['internet_count'])\n",
    "print('Дисперсия', variance_smart_g)"
   ]
  },
  {
   "cell_type": "markdown",
   "metadata": {},
   "source": [
    "Гистограмма носит нормальное распредеделение, видно, что пик лежит в пределах от 18 до 20 Гб, то есть основная часть пользователей переплачивает до дополниетльные ГБ интернета, ввиду того, что лимит составляет 15 Гб."
   ]
  },
  {
   "cell_type": "markdown",
   "metadata": {},
   "source": [
    "## Выводы по графикам тарифа smart\n",
    "\n",
    "В среднем клиенты тарифа smart совершают до 60 звонков в месяц, что в среднем составляем 429 минуту в месяц. Также клиенты в среднем отправляют в месяц до 15 сообщений и тратят 18-20 Гб интернета. Из графиков можно заметить, что к концу года такде активнсоть в пользовании тарифным планом возрастает. По предварительной оценке можно сделать предположение, что тариф smart менее выгоден для клиентов, уже можно заметить необходимость большой переплаты за потраченные Гб интернета, по графику это значение составило 16 Гб (среднее значение выше лимита), а тариф предоставлеят 15 Гб интернет-трафика, в результате чего клиент вынужден переплачивать.\n"
   ]
  },
  {
   "cell_type": "markdown",
   "metadata": {},
   "source": [
    "# Вывод по анализу данных\n",
    "Из сравнения двух гистрогромм тарифов smart и ultra можно сделать вывод, что для клиентов тариф ultra более выгодный, так как при его использовании они сталкиваются с меньшей переплатой за дополнительные услуги звонков, сообщений и интернета, чем при использовании тарифа smart, в этом случае клиенты очень части вынуждены переплачивать сверх заплаченной ежемесячного платежа (это подтверждают и полученные стандартные отклонения, значения стандартного отклонения в тарифе smart выше, чем у ultra, то есть разброс значений больше)."
   ]
  },
  {
   "cell_type": "markdown",
   "metadata": {},
   "source": [
    "## Проверка гипотез\n"
   ]
  },
  {
   "cell_type": "markdown",
   "metadata": {},
   "source": [
    "Проверка гипотез начинается с формулировки нулевой гипотезы H₀ - средняя выручка пользователей тарифов «Ультра» и «Смарт» одинаковы. Исходя из H₀ формулируется альтернативная гипотеза H₁. Это утверждение, которое принимается верным, если отбрасывается H₀. Предположим, что средняя выручка пользователей тарифов «Ультра» и «Смарт» различаются\n",
    "\n",
    "- H₀ - средняя выручка пользователей тарифов «Ультра» и «Смарт» одинаковы\n",
    "- H₁ - средняя выручка пользователей тарифов «Ультра» и «Смарт» различаются\n",
    "\n",
    "Общепринятые пороговые значения — 5% и 1%, поэтому примем, что alpha = 0.05"
   ]
  },
  {
   "cell_type": "code",
   "execution_count": 62,
   "metadata": {},
   "outputs": [
    {
     "data": {
      "text/html": [
       "<div>\n",
       "<style scoped>\n",
       "    .dataframe tbody tr th:only-of-type {\n",
       "        vertical-align: middle;\n",
       "    }\n",
       "\n",
       "    .dataframe tbody tr th {\n",
       "        vertical-align: top;\n",
       "    }\n",
       "\n",
       "    .dataframe thead th {\n",
       "        text-align: right;\n",
       "    }\n",
       "</style>\n",
       "<table border=\"1\" class=\"dataframe\">\n",
       "  <thead>\n",
       "    <tr style=\"text-align: right;\">\n",
       "      <th></th>\n",
       "      <th>level_0</th>\n",
       "      <th>index</th>\n",
       "      <th>user_id</th>\n",
       "      <th>month</th>\n",
       "      <th>calls_duration</th>\n",
       "      <th>calls_amount</th>\n",
       "      <th>messege_count</th>\n",
       "      <th>internet_count</th>\n",
       "      <th>age</th>\n",
       "      <th>churn_date</th>\n",
       "      <th>...</th>\n",
       "      <th>mb_per_month_included</th>\n",
       "      <th>minutes_included</th>\n",
       "      <th>rub_monthly_fee</th>\n",
       "      <th>rub_per_gb</th>\n",
       "      <th>rub_per_message</th>\n",
       "      <th>rub_per_minute</th>\n",
       "      <th>between_calls</th>\n",
       "      <th>between_messege</th>\n",
       "      <th>between_gb</th>\n",
       "      <th>general_sum</th>\n",
       "    </tr>\n",
       "  </thead>\n",
       "  <tbody>\n",
       "    <tr>\n",
       "      <td>8</td>\n",
       "      <td>8</td>\n",
       "      <td>8</td>\n",
       "      <td>1001</td>\n",
       "      <td>11.0</td>\n",
       "      <td>444.0</td>\n",
       "      <td>59.0</td>\n",
       "      <td>0.0</td>\n",
       "      <td>18.0</td>\n",
       "      <td>41</td>\n",
       "      <td>0</td>\n",
       "      <td>...</td>\n",
       "      <td>15360</td>\n",
       "      <td>500</td>\n",
       "      <td>550</td>\n",
       "      <td>200</td>\n",
       "      <td>3</td>\n",
       "      <td>3</td>\n",
       "      <td>-56.0</td>\n",
       "      <td>-50.0</td>\n",
       "      <td>3.0</td>\n",
       "      <td>1150.0</td>\n",
       "    </tr>\n",
       "    <tr>\n",
       "      <td>9</td>\n",
       "      <td>9</td>\n",
       "      <td>9</td>\n",
       "      <td>1001</td>\n",
       "      <td>12.0</td>\n",
       "      <td>430.0</td>\n",
       "      <td>63.0</td>\n",
       "      <td>0.0</td>\n",
       "      <td>14.0</td>\n",
       "      <td>41</td>\n",
       "      <td>0</td>\n",
       "      <td>...</td>\n",
       "      <td>15360</td>\n",
       "      <td>500</td>\n",
       "      <td>550</td>\n",
       "      <td>200</td>\n",
       "      <td>3</td>\n",
       "      <td>3</td>\n",
       "      <td>-70.0</td>\n",
       "      <td>-50.0</td>\n",
       "      <td>-1.0</td>\n",
       "      <td>550.0</td>\n",
       "    </tr>\n",
       "    <tr>\n",
       "      <td>10</td>\n",
       "      <td>10</td>\n",
       "      <td>10</td>\n",
       "      <td>1002</td>\n",
       "      <td>6.0</td>\n",
       "      <td>118.0</td>\n",
       "      <td>15.0</td>\n",
       "      <td>4.0</td>\n",
       "      <td>11.0</td>\n",
       "      <td>59</td>\n",
       "      <td>0</td>\n",
       "      <td>...</td>\n",
       "      <td>15360</td>\n",
       "      <td>500</td>\n",
       "      <td>550</td>\n",
       "      <td>200</td>\n",
       "      <td>3</td>\n",
       "      <td>3</td>\n",
       "      <td>-382.0</td>\n",
       "      <td>-46.0</td>\n",
       "      <td>-4.0</td>\n",
       "      <td>550.0</td>\n",
       "    </tr>\n",
       "    <tr>\n",
       "      <td>11</td>\n",
       "      <td>11</td>\n",
       "      <td>11</td>\n",
       "      <td>1002</td>\n",
       "      <td>7.0</td>\n",
       "      <td>219.0</td>\n",
       "      <td>26.0</td>\n",
       "      <td>11.0</td>\n",
       "      <td>18.0</td>\n",
       "      <td>59</td>\n",
       "      <td>0</td>\n",
       "      <td>...</td>\n",
       "      <td>15360</td>\n",
       "      <td>500</td>\n",
       "      <td>550</td>\n",
       "      <td>200</td>\n",
       "      <td>3</td>\n",
       "      <td>3</td>\n",
       "      <td>-281.0</td>\n",
       "      <td>-39.0</td>\n",
       "      <td>3.0</td>\n",
       "      <td>1150.0</td>\n",
       "    </tr>\n",
       "    <tr>\n",
       "      <td>12</td>\n",
       "      <td>12</td>\n",
       "      <td>12</td>\n",
       "      <td>1002</td>\n",
       "      <td>8.0</td>\n",
       "      <td>294.0</td>\n",
       "      <td>42.0</td>\n",
       "      <td>13.0</td>\n",
       "      <td>20.0</td>\n",
       "      <td>59</td>\n",
       "      <td>0</td>\n",
       "      <td>...</td>\n",
       "      <td>15360</td>\n",
       "      <td>500</td>\n",
       "      <td>550</td>\n",
       "      <td>200</td>\n",
       "      <td>3</td>\n",
       "      <td>3</td>\n",
       "      <td>-206.0</td>\n",
       "      <td>-37.0</td>\n",
       "      <td>5.0</td>\n",
       "      <td>1550.0</td>\n",
       "    </tr>\n",
       "  </tbody>\n",
       "</table>\n",
       "<p>5 rows × 26 columns</p>\n",
       "</div>"
      ],
      "text/plain": [
       "    level_0  index  user_id  month  calls_duration  calls_amount  \\\n",
       "8         8      8     1001   11.0           444.0          59.0   \n",
       "9         9      9     1001   12.0           430.0          63.0   \n",
       "10       10     10     1002    6.0           118.0          15.0   \n",
       "11       11     11     1002    7.0           219.0          26.0   \n",
       "12       12     12     1002    8.0           294.0          42.0   \n",
       "\n",
       "    messege_count  internet_count  age churn_date  ... mb_per_month_included  \\\n",
       "8             0.0            18.0   41          0  ...                 15360   \n",
       "9             0.0            14.0   41          0  ...                 15360   \n",
       "10            4.0            11.0   59          0  ...                 15360   \n",
       "11           11.0            18.0   59          0  ...                 15360   \n",
       "12           13.0            20.0   59          0  ...                 15360   \n",
       "\n",
       "   minutes_included rub_monthly_fee rub_per_gb rub_per_message  \\\n",
       "8               500             550        200               3   \n",
       "9               500             550        200               3   \n",
       "10              500             550        200               3   \n",
       "11              500             550        200               3   \n",
       "12              500             550        200               3   \n",
       "\n",
       "    rub_per_minute  between_calls  between_messege  between_gb  general_sum  \n",
       "8                3          -56.0            -50.0         3.0       1150.0  \n",
       "9                3          -70.0            -50.0        -1.0        550.0  \n",
       "10               3         -382.0            -46.0        -4.0        550.0  \n",
       "11               3         -281.0            -39.0         3.0       1150.0  \n",
       "12               3         -206.0            -37.0         5.0       1550.0  \n",
       "\n",
       "[5 rows x 26 columns]"
      ]
     },
     "metadata": {},
     "output_type": "display_data"
    },
    {
     "name": "stdout",
     "output_type": "stream",
     "text": [
      "<class 'pandas.core.frame.DataFrame'>\n",
      "Int64Index: 2230 entries, 8 to 3215\n",
      "Data columns (total 26 columns):\n",
      "level_0                  2230 non-null int64\n",
      "index                    2230 non-null int64\n",
      "user_id                  2230 non-null int64\n",
      "month                    2230 non-null float64\n",
      "calls_duration           2230 non-null float64\n",
      "calls_amount             2230 non-null float64\n",
      "messege_count            2230 non-null float64\n",
      "internet_count           2230 non-null float64\n",
      "age                      2230 non-null int64\n",
      "churn_date               2230 non-null object\n",
      "city                     2230 non-null object\n",
      "first_name               2230 non-null object\n",
      "last_name                2230 non-null object\n",
      "reg_date                 2230 non-null datetime64[ns]\n",
      "tariff                   2230 non-null object\n",
      "messages_included        2230 non-null int64\n",
      "mb_per_month_included    2230 non-null int64\n",
      "minutes_included         2230 non-null int64\n",
      "rub_monthly_fee          2230 non-null int64\n",
      "rub_per_gb               2230 non-null int64\n",
      "rub_per_message          2230 non-null int64\n",
      "rub_per_minute           2230 non-null int64\n",
      "between_calls            2230 non-null float64\n",
      "between_messege          2230 non-null float64\n",
      "between_gb               2230 non-null float64\n",
      "general_sum              2230 non-null float64\n",
      "dtypes: datetime64[ns](1), float64(9), int64(11), object(5)\n",
      "memory usage: 470.4+ KB\n"
     ]
    }
   ],
   "source": [
    "display(total_data_smart.head())\n",
    "total_data_smart.info()\n"
   ]
  },
  {
   "cell_type": "code",
   "execution_count": 63,
   "metadata": {},
   "outputs": [
    {
     "name": "stdout",
     "output_type": "stream",
     "text": [
      "p-значение: 2.9319267367409655e-152\n",
      "Отвергаем нулевую гипотезу\n"
     ]
    }
   ],
   "source": [
    "alpha = 0.05\n",
    "\n",
    "results = st.ttest_ind(total_data_smart['general_sum'], total_data_ultra['general_sum'])\n",
    "print('p-значение:', results.pvalue)\n",
    "if results.pvalue < alpha:\n",
    "    print(\"Отвергаем нулевую гипотезу\")\n",
    "else:\n",
    "    print(\"Не получилось отвергнуть нулевую гипотезу\")"
   ]
  },
  {
   "cell_type": "markdown",
   "metadata": {},
   "source": [
    "То есть гипотеза о том, что  выручка пользователей тарифов «Ультра» и «Смарт» одинаковы неверная, и в дейсвитльности они не равны между собой."
   ]
  },
  {
   "cell_type": "markdown",
   "metadata": {},
   "source": [
    "Проверим еще 2гипотезы\n",
    "\n",
    "H₀ - средняя выручка пользователей из Москвы одинакова с выручкой пользователей из других регионов.\n",
    "H₁ - средняя выручка пользователей из Москвы отличается от выручки пользователей из других регионов.\n",
    "alpha = 0.05"
   ]
  },
  {
   "cell_type": "code",
   "execution_count": 64,
   "metadata": {},
   "outputs": [],
   "source": [
    "# методом query получен срез данны по пользователям, живущим в Москве\n",
    "\n",
    "total_data_moscow = total_data.query('city == \"Москва\"')\n",
    "# методом query получен срез данны по пользователям, не живущим в Москве\n",
    "\n",
    "total_data_not_moscow = total_data.query('city != \"Москва\"')\n"
   ]
  },
  {
   "cell_type": "code",
   "execution_count": 65,
   "metadata": {},
   "outputs": [
    {
     "name": "stdout",
     "output_type": "stream",
     "text": [
      "p-значение: 0.5399163063366629\n",
      "Не получилось отвергнуть нулевую гипотезу\n"
     ]
    }
   ],
   "source": [
    "alpha = 0.05\n",
    "\n",
    "results_moscow_smart = st.ttest_ind(total_data_moscow['general_sum'], total_data_not_moscow['general_sum'])\n",
    "print('p-значение:', results_moscow_smart.pvalue)\n",
    "if results_moscow_smart.pvalue < alpha:\n",
    "    print('Отвергаем нулевую гипотезу.')\n",
    "else:\n",
    "    print('Не получилось отвергнуть нулевую гипотезу')"
   ]
  },
  {
   "cell_type": "markdown",
   "metadata": {},
   "source": [
    "То есть можно предположить, что выдвинутая гипотеза о том, что средняя выручка пользователей из Москвы одинакова с выручкой пользователей из других регионов верная. Можно сделать предположение о том, что выручка с пользователей, проживающих в Моске и регинов, не зависит от территориального фактора."
   ]
  },
  {
   "cell_type": "markdown",
   "metadata": {},
   "source": [
    "## Вывод\n",
    "\n",
    "В результате работы проведен анализ данных тарифов на небольшой выборке клиентов. В результате работы проведена предобработка данных 5-ти датасетов. Из этого количесва для дальнейшей работы получены одна таблица total_table с информациией по тарифам, а именно включены количество сделанных звонков и израсходованных минут разговора по месяцам, количество отправленных сообщений по месяцам, объем израсходованного интернет-трафика по месяцам и помесячная выручка с каждого пользователя. Анализ данных показал, что тариф ultra более выгоден для клиентов, чем тариф smart.То есть большая часть пользователей тарифа ultra укладывается в предложенные оператором условия и не переплачивает за тариф. Тариф smart менее выгоден для клиентов ввиду большой переплаты (предположительно за потраченные Гб в месяц). Также выдвинуто предположение о том, что территориальное использование тарифов не влияет на выручку, и выручки двух разных тарифов не равный между собой."
   ]
  }
 ],
 "metadata": {
  "ExecuteTimeLog": [
   {
    "duration": 835,
    "start_time": "2022-02-05T16:54:26.200Z"
   },
   {
    "duration": 250,
    "start_time": "2022-02-05T16:54:45.691Z"
   },
   {
    "duration": 768,
    "start_time": "2022-02-05T16:59:38.312Z"
   },
   {
    "duration": 261,
    "start_time": "2022-02-05T16:59:39.083Z"
   },
   {
    "duration": 202,
    "start_time": "2022-02-05T17:03:22.807Z"
   },
   {
    "duration": 137,
    "start_time": "2022-02-05T17:13:20.405Z"
   },
   {
    "duration": 32,
    "start_time": "2022-02-05T17:17:08.619Z"
   },
   {
    "duration": 32,
    "start_time": "2022-02-05T17:18:13.657Z"
   },
   {
    "duration": 43,
    "start_time": "2022-02-05T17:20:04.573Z"
   },
   {
    "duration": 752,
    "start_time": "2022-02-05T20:30:03.120Z"
   },
   {
    "duration": 246,
    "start_time": "2022-02-05T20:30:03.875Z"
   },
   {
    "duration": 212,
    "start_time": "2022-02-05T20:30:04.124Z"
   },
   {
    "duration": 147,
    "start_time": "2022-02-05T20:30:04.339Z"
   },
   {
    "duration": 34,
    "start_time": "2022-02-05T20:30:04.488Z"
   },
   {
    "duration": 58,
    "start_time": "2022-02-05T20:30:04.526Z"
   },
   {
    "duration": 620,
    "start_time": "2022-02-05T20:31:51.962Z"
   },
   {
    "duration": 2438,
    "start_time": "2022-02-05T20:33:55.323Z"
   },
   {
    "duration": 43,
    "start_time": "2022-02-05T20:35:16.748Z"
   },
   {
    "duration": 384,
    "start_time": "2022-02-05T20:36:23.508Z"
   },
   {
    "duration": 39,
    "start_time": "2022-02-05T20:36:31.438Z"
   },
   {
    "duration": 373,
    "start_time": "2022-02-05T20:53:30.135Z"
   },
   {
    "duration": 911,
    "start_time": "2022-02-05T20:58:05.031Z"
   },
   {
    "duration": 260,
    "start_time": "2022-02-05T20:58:05.944Z"
   },
   {
    "duration": 226,
    "start_time": "2022-02-05T20:58:06.208Z"
   },
   {
    "duration": 146,
    "start_time": "2022-02-05T20:58:06.438Z"
   },
   {
    "duration": 33,
    "start_time": "2022-02-05T20:58:06.586Z"
   },
   {
    "duration": 49,
    "start_time": "2022-02-05T20:58:06.621Z"
   },
   {
    "duration": 95,
    "start_time": "2022-02-05T20:58:06.673Z"
   },
   {
    "duration": 48,
    "start_time": "2022-02-05T20:58:51.241Z"
   },
   {
    "duration": 68,
    "start_time": "2022-02-05T20:59:07.660Z"
   },
   {
    "duration": 67,
    "start_time": "2022-02-05T20:59:44.651Z"
   },
   {
    "duration": 53,
    "start_time": "2022-02-05T21:09:07.491Z"
   },
   {
    "duration": 126,
    "start_time": "2022-02-05T21:11:41.858Z"
   },
   {
    "duration": 1347,
    "start_time": "2022-02-05T21:13:06.279Z"
   },
   {
    "duration": 730,
    "start_time": "2022-02-05T21:15:01.665Z"
   },
   {
    "duration": 813,
    "start_time": "2022-02-05T21:15:22.120Z"
   },
   {
    "duration": 451,
    "start_time": "2022-02-05T21:15:50.577Z"
   },
   {
    "duration": 320,
    "start_time": "2022-02-05T21:22:39.767Z"
   },
   {
    "duration": 78,
    "start_time": "2022-02-05T21:23:53.631Z"
   },
   {
    "duration": 880,
    "start_time": "2022-02-06T12:44:55.734Z"
   },
   {
    "duration": 236,
    "start_time": "2022-02-06T12:44:56.616Z"
   },
   {
    "duration": 207,
    "start_time": "2022-02-06T12:44:56.855Z"
   },
   {
    "duration": 135,
    "start_time": "2022-02-06T12:44:57.065Z"
   },
   {
    "duration": 31,
    "start_time": "2022-02-06T12:44:57.203Z"
   },
   {
    "duration": 66,
    "start_time": "2022-02-06T12:44:57.237Z"
   },
   {
    "duration": 115,
    "start_time": "2022-02-06T12:44:57.305Z"
   },
   {
    "duration": 108,
    "start_time": "2022-02-06T12:44:57.423Z"
   },
   {
    "duration": 43,
    "start_time": "2022-02-06T12:52:30.213Z"
   },
   {
    "duration": 52,
    "start_time": "2022-02-06T12:52:43.852Z"
   },
   {
    "duration": 41,
    "start_time": "2022-02-06T12:56:01.053Z"
   },
   {
    "duration": 895,
    "start_time": "2022-02-06T12:56:21.412Z"
   },
   {
    "duration": 267,
    "start_time": "2022-02-06T12:56:22.310Z"
   },
   {
    "duration": 211,
    "start_time": "2022-02-06T12:56:22.581Z"
   },
   {
    "duration": 154,
    "start_time": "2022-02-06T12:56:22.796Z"
   },
   {
    "duration": 34,
    "start_time": "2022-02-06T12:56:22.959Z"
   },
   {
    "duration": 53,
    "start_time": "2022-02-06T12:56:22.995Z"
   },
   {
    "duration": 130,
    "start_time": "2022-02-06T12:56:23.051Z"
   },
   {
    "duration": 111,
    "start_time": "2022-02-06T12:56:23.185Z"
   },
   {
    "duration": 91,
    "start_time": "2022-02-06T12:56:23.299Z"
   },
   {
    "duration": 36,
    "start_time": "2022-02-06T12:56:23.393Z"
   },
   {
    "duration": 1160,
    "start_time": "2022-02-06T13:20:20.401Z"
   },
   {
    "duration": 2079,
    "start_time": "2022-02-06T13:23:11.886Z"
   },
   {
    "duration": 40,
    "start_time": "2022-02-06T13:24:12.460Z"
   },
   {
    "duration": 27,
    "start_time": "2022-02-06T13:32:35.862Z"
   },
   {
    "duration": 33,
    "start_time": "2022-02-06T13:33:21.170Z"
   },
   {
    "duration": 1192,
    "start_time": "2022-02-06T13:40:49.506Z"
   },
   {
    "duration": 1181,
    "start_time": "2022-02-06T13:41:06.726Z"
   },
   {
    "duration": 2111,
    "start_time": "2022-02-06T13:43:25.901Z"
   },
   {
    "duration": 1441,
    "start_time": "2022-02-06T13:43:37.329Z"
   },
   {
    "duration": 1345,
    "start_time": "2022-02-06T13:44:05.953Z"
   },
   {
    "duration": 1325,
    "start_time": "2022-02-06T13:44:17.955Z"
   },
   {
    "duration": 1371,
    "start_time": "2022-02-06T13:44:24.821Z"
   },
   {
    "duration": 367,
    "start_time": "2022-02-06T13:53:23.785Z"
   },
   {
    "duration": 300,
    "start_time": "2022-02-06T13:53:46.648Z"
   },
   {
    "duration": 949,
    "start_time": "2022-02-06T13:53:55.613Z"
   },
   {
    "duration": 929,
    "start_time": "2022-02-06T13:53:56.565Z"
   },
   {
    "duration": 1103,
    "start_time": "2022-02-06T13:53:57.498Z"
   },
   {
    "duration": 208,
    "start_time": "2022-02-06T13:53:58.604Z"
   },
   {
    "duration": 33,
    "start_time": "2022-02-06T13:53:58.815Z"
   },
   {
    "duration": 79,
    "start_time": "2022-02-06T13:53:58.851Z"
   },
   {
    "duration": 119,
    "start_time": "2022-02-06T13:53:58.932Z"
   },
   {
    "duration": 116,
    "start_time": "2022-02-06T13:53:59.060Z"
   },
   {
    "duration": 83,
    "start_time": "2022-02-06T13:53:59.179Z"
   },
   {
    "duration": 40,
    "start_time": "2022-02-06T13:53:59.264Z"
   },
   {
    "duration": 1292,
    "start_time": "2022-02-06T13:53:59.307Z"
   },
   {
    "duration": 2332,
    "start_time": "2022-02-06T13:54:00.601Z"
   },
   {
    "duration": 1161,
    "start_time": "2022-02-06T13:54:57.343Z"
   },
   {
    "duration": 238,
    "start_time": "2022-02-06T13:54:58.506Z"
   },
   {
    "duration": 209,
    "start_time": "2022-02-06T13:54:58.748Z"
   },
   {
    "duration": 130,
    "start_time": "2022-02-06T13:54:58.960Z"
   },
   {
    "duration": 33,
    "start_time": "2022-02-06T13:54:59.093Z"
   },
   {
    "duration": 53,
    "start_time": "2022-02-06T13:54:59.129Z"
   },
   {
    "duration": 126,
    "start_time": "2022-02-06T13:54:59.185Z"
   },
   {
    "duration": 108,
    "start_time": "2022-02-06T13:54:59.315Z"
   },
   {
    "duration": 74,
    "start_time": "2022-02-06T13:54:59.427Z"
   },
   {
    "duration": 32,
    "start_time": "2022-02-06T13:54:59.503Z"
   },
   {
    "duration": 1282,
    "start_time": "2022-02-06T13:54:59.537Z"
   },
   {
    "duration": 452,
    "start_time": "2022-02-06T13:55:12.287Z"
   },
   {
    "duration": 312,
    "start_time": "2022-02-06T13:55:18.590Z"
   },
   {
    "duration": 1552,
    "start_time": "2022-02-06T13:55:40.771Z"
   },
   {
    "duration": 378,
    "start_time": "2022-02-06T13:56:52.267Z"
   },
   {
    "duration": 875,
    "start_time": "2022-02-06T13:57:11.183Z"
   },
   {
    "duration": 787,
    "start_time": "2022-02-06T13:57:12.061Z"
   },
   {
    "duration": 647,
    "start_time": "2022-02-06T13:57:12.852Z"
   },
   {
    "duration": 186,
    "start_time": "2022-02-06T13:57:13.502Z"
   },
   {
    "duration": 31,
    "start_time": "2022-02-06T13:57:13.691Z"
   },
   {
    "duration": 53,
    "start_time": "2022-02-06T13:57:13.724Z"
   },
   {
    "duration": 119,
    "start_time": "2022-02-06T13:57:13.780Z"
   },
   {
    "duration": 106,
    "start_time": "2022-02-06T13:57:13.902Z"
   },
   {
    "duration": 75,
    "start_time": "2022-02-06T13:57:14.011Z"
   },
   {
    "duration": 32,
    "start_time": "2022-02-06T13:57:14.089Z"
   },
   {
    "duration": 100,
    "start_time": "2022-02-06T13:57:14.123Z"
   },
   {
    "duration": 58,
    "start_time": "2022-02-06T13:59:26.178Z"
   },
   {
    "duration": 49,
    "start_time": "2022-02-06T14:00:24.768Z"
   },
   {
    "duration": 37,
    "start_time": "2022-02-06T14:02:40.038Z"
   },
   {
    "duration": 433,
    "start_time": "2022-02-06T14:15:11.243Z"
   },
   {
    "duration": 1311,
    "start_time": "2022-02-06T14:18:43.246Z"
   },
   {
    "duration": 451,
    "start_time": "2022-02-06T14:28:15.270Z"
   },
   {
    "duration": 314,
    "start_time": "2022-02-06T14:28:43.226Z"
   },
   {
    "duration": 7,
    "start_time": "2022-02-06T14:35:37.030Z"
   },
   {
    "duration": 100,
    "start_time": "2022-02-06T14:36:02.119Z"
   },
   {
    "duration": 1132,
    "start_time": "2022-02-06T14:38:18.669Z"
   },
   {
    "duration": 4295,
    "start_time": "2022-02-06T14:39:09.626Z"
   },
   {
    "duration": 4368,
    "start_time": "2022-02-06T14:39:37.191Z"
   },
   {
    "duration": 605,
    "start_time": "2022-02-06T14:41:51.004Z"
   },
   {
    "duration": 359,
    "start_time": "2022-02-06T14:42:15.279Z"
   },
   {
    "duration": 1753,
    "start_time": "2022-02-06T14:43:36.529Z"
   },
   {
    "duration": 471,
    "start_time": "2022-02-06T14:49:52.082Z"
   },
   {
    "duration": 64,
    "start_time": "2022-02-06T14:49:59.884Z"
   },
   {
    "duration": 364,
    "start_time": "2022-02-06T14:51:19.277Z"
   },
   {
    "duration": 456,
    "start_time": "2022-02-06T14:51:27.799Z"
   },
   {
    "duration": 65,
    "start_time": "2022-02-06T14:51:45.650Z"
   },
   {
    "duration": 326,
    "start_time": "2022-02-06T14:53:07.622Z"
   },
   {
    "duration": 36,
    "start_time": "2022-02-06T14:53:17.863Z"
   },
   {
    "duration": 43,
    "start_time": "2022-02-06T14:54:04.033Z"
   },
   {
    "duration": 408,
    "start_time": "2022-02-06T15:13:13.795Z"
   },
   {
    "duration": 103,
    "start_time": "2022-02-06T15:13:20.998Z"
   },
   {
    "duration": 107,
    "start_time": "2022-02-06T15:15:32.566Z"
   },
   {
    "duration": 111,
    "start_time": "2022-02-06T15:16:24.035Z"
   },
   {
    "duration": 108,
    "start_time": "2022-02-06T15:16:31.337Z"
   },
   {
    "duration": 92,
    "start_time": "2022-02-06T15:16:41.691Z"
   },
   {
    "duration": 92,
    "start_time": "2022-02-06T15:16:54.303Z"
   },
   {
    "duration": 416,
    "start_time": "2022-02-06T15:21:10.729Z"
   },
   {
    "duration": 348,
    "start_time": "2022-02-06T15:21:36.565Z"
   },
   {
    "duration": 356,
    "start_time": "2022-02-06T15:28:38.035Z"
   },
   {
    "duration": 897,
    "start_time": "2022-02-06T15:28:58.342Z"
   },
   {
    "duration": 767,
    "start_time": "2022-02-06T15:28:59.242Z"
   },
   {
    "duration": 704,
    "start_time": "2022-02-06T15:29:00.012Z"
   },
   {
    "duration": 174,
    "start_time": "2022-02-06T15:29:00.719Z"
   },
   {
    "duration": 34,
    "start_time": "2022-02-06T15:29:00.896Z"
   },
   {
    "duration": 66,
    "start_time": "2022-02-06T15:29:00.932Z"
   },
   {
    "duration": 119,
    "start_time": "2022-02-06T15:29:01.001Z"
   },
   {
    "duration": 120,
    "start_time": "2022-02-06T15:29:01.124Z"
   },
   {
    "duration": 78,
    "start_time": "2022-02-06T15:29:01.247Z"
   },
   {
    "duration": 61,
    "start_time": "2022-02-06T15:29:01.328Z"
   },
   {
    "duration": 95,
    "start_time": "2022-02-06T15:29:01.392Z"
   },
   {
    "duration": 48,
    "start_time": "2022-02-06T15:29:01.489Z"
   },
   {
    "duration": 57,
    "start_time": "2022-02-06T15:29:01.540Z"
   },
   {
    "duration": 112,
    "start_time": "2022-02-06T15:29:01.599Z"
   },
   {
    "duration": 125,
    "start_time": "2022-02-06T15:29:19.297Z"
   },
   {
    "duration": 426,
    "start_time": "2022-02-06T15:31:04.286Z"
   },
   {
    "duration": 316,
    "start_time": "2022-02-06T15:31:27.451Z"
   },
   {
    "duration": 504,
    "start_time": "2022-02-06T15:32:33.584Z"
   },
   {
    "duration": 5,
    "start_time": "2022-02-06T15:36:40.835Z"
   },
   {
    "duration": 86,
    "start_time": "2022-02-06T15:36:44.515Z"
   },
   {
    "duration": 434,
    "start_time": "2022-02-06T15:41:18.265Z"
   },
   {
    "duration": 366,
    "start_time": "2022-02-06T15:42:46.460Z"
   },
   {
    "duration": 353,
    "start_time": "2022-02-06T15:43:20.215Z"
   },
   {
    "duration": 125,
    "start_time": "2022-02-06T15:45:58.571Z"
   },
   {
    "duration": 353,
    "start_time": "2022-02-06T15:46:07.678Z"
   },
   {
    "duration": 399,
    "start_time": "2022-02-06T15:51:36.003Z"
   },
   {
    "duration": 1357,
    "start_time": "2022-02-06T15:51:55.042Z"
   },
   {
    "duration": 889,
    "start_time": "2022-02-06T15:51:56.402Z"
   },
   {
    "duration": 675,
    "start_time": "2022-02-06T15:51:57.295Z"
   },
   {
    "duration": 182,
    "start_time": "2022-02-06T15:51:57.973Z"
   },
   {
    "duration": 33,
    "start_time": "2022-02-06T15:51:58.157Z"
   },
   {
    "duration": 62,
    "start_time": "2022-02-06T15:51:58.192Z"
   },
   {
    "duration": 115,
    "start_time": "2022-02-06T15:51:58.257Z"
   },
   {
    "duration": 106,
    "start_time": "2022-02-06T15:51:58.376Z"
   },
   {
    "duration": 82,
    "start_time": "2022-02-06T15:51:58.485Z"
   },
   {
    "duration": 35,
    "start_time": "2022-02-06T15:51:58.569Z"
   },
   {
    "duration": 104,
    "start_time": "2022-02-06T15:51:58.606Z"
   },
   {
    "duration": 55,
    "start_time": "2022-02-06T15:51:58.712Z"
   },
   {
    "duration": 39,
    "start_time": "2022-02-06T15:51:58.770Z"
   },
   {
    "duration": 140,
    "start_time": "2022-02-06T15:51:58.812Z"
   },
   {
    "duration": 5,
    "start_time": "2022-02-06T15:51:58.959Z"
   },
   {
    "duration": 452,
    "start_time": "2022-02-06T15:51:58.967Z"
   },
   {
    "duration": 176,
    "start_time": "2022-02-06T15:51:59.423Z"
   },
   {
    "duration": 968,
    "start_time": "2022-02-06T15:53:04.268Z"
   },
   {
    "duration": 251,
    "start_time": "2022-02-06T15:53:05.239Z"
   },
   {
    "duration": 194,
    "start_time": "2022-02-06T15:53:05.493Z"
   },
   {
    "duration": 140,
    "start_time": "2022-02-06T15:53:05.690Z"
   },
   {
    "duration": 41,
    "start_time": "2022-02-06T15:53:05.832Z"
   },
   {
    "duration": 47,
    "start_time": "2022-02-06T15:53:05.876Z"
   },
   {
    "duration": 141,
    "start_time": "2022-02-06T15:53:05.926Z"
   },
   {
    "duration": 129,
    "start_time": "2022-02-06T15:53:06.070Z"
   },
   {
    "duration": 75,
    "start_time": "2022-02-06T15:53:06.203Z"
   },
   {
    "duration": 45,
    "start_time": "2022-02-06T15:53:06.280Z"
   },
   {
    "duration": 108,
    "start_time": "2022-02-06T15:53:06.328Z"
   },
   {
    "duration": 72,
    "start_time": "2022-02-06T15:53:06.438Z"
   },
   {
    "duration": 56,
    "start_time": "2022-02-06T15:53:06.512Z"
   },
   {
    "duration": 123,
    "start_time": "2022-02-06T15:53:06.570Z"
   },
   {
    "duration": 6,
    "start_time": "2022-02-06T15:53:06.695Z"
   },
   {
    "duration": 368,
    "start_time": "2022-02-06T15:53:06.703Z"
   },
   {
    "duration": 112,
    "start_time": "2022-02-06T15:53:07.073Z"
   },
   {
    "duration": 108,
    "start_time": "2022-02-06T15:54:29.773Z"
   },
   {
    "duration": 113,
    "start_time": "2022-02-06T15:56:17.119Z"
   },
   {
    "duration": 858,
    "start_time": "2022-02-06T15:56:37.601Z"
   },
   {
    "duration": 238,
    "start_time": "2022-02-06T15:56:38.461Z"
   },
   {
    "duration": 194,
    "start_time": "2022-02-06T15:56:38.702Z"
   },
   {
    "duration": 135,
    "start_time": "2022-02-06T15:56:38.900Z"
   },
   {
    "duration": 31,
    "start_time": "2022-02-06T15:56:39.038Z"
   },
   {
    "duration": 46,
    "start_time": "2022-02-06T15:56:39.071Z"
   },
   {
    "duration": 132,
    "start_time": "2022-02-06T15:56:39.119Z"
   },
   {
    "duration": 107,
    "start_time": "2022-02-06T15:56:39.260Z"
   },
   {
    "duration": 64,
    "start_time": "2022-02-06T15:56:39.370Z"
   },
   {
    "duration": 62,
    "start_time": "2022-02-06T15:56:39.436Z"
   },
   {
    "duration": 90,
    "start_time": "2022-02-06T15:56:39.500Z"
   },
   {
    "duration": 67,
    "start_time": "2022-02-06T15:56:39.592Z"
   },
   {
    "duration": 51,
    "start_time": "2022-02-06T15:56:39.662Z"
   },
   {
    "duration": 159,
    "start_time": "2022-02-06T15:56:39.716Z"
   },
   {
    "duration": 7,
    "start_time": "2022-02-06T15:56:39.878Z"
   },
   {
    "duration": 115,
    "start_time": "2022-02-06T15:56:39.888Z"
   },
   {
    "duration": 161,
    "start_time": "2022-02-06T15:56:40.006Z"
   },
   {
    "duration": 150,
    "start_time": "2022-02-06T15:56:40.170Z"
   },
   {
    "duration": 112,
    "start_time": "2022-02-06T15:57:14.349Z"
   },
   {
    "duration": 587,
    "start_time": "2022-02-06T15:57:26.774Z"
   },
   {
    "duration": 199,
    "start_time": "2022-02-06T15:57:41.683Z"
   },
   {
    "duration": 879,
    "start_time": "2022-02-06T16:18:31.976Z"
   },
   {
    "duration": 794,
    "start_time": "2022-02-06T16:19:04.579Z"
   },
   {
    "duration": 175,
    "start_time": "2022-02-06T16:20:59.631Z"
   },
   {
    "duration": 902,
    "start_time": "2022-02-06T16:21:46.523Z"
   },
   {
    "duration": 246,
    "start_time": "2022-02-06T16:21:47.427Z"
   },
   {
    "duration": 199,
    "start_time": "2022-02-06T16:21:47.676Z"
   },
   {
    "duration": 139,
    "start_time": "2022-02-06T16:21:47.878Z"
   },
   {
    "duration": 41,
    "start_time": "2022-02-06T16:21:48.020Z"
   },
   {
    "duration": 85,
    "start_time": "2022-02-06T16:21:48.063Z"
   },
   {
    "duration": 111,
    "start_time": "2022-02-06T16:21:48.150Z"
   },
   {
    "duration": 105,
    "start_time": "2022-02-06T16:21:48.266Z"
   },
   {
    "duration": 67,
    "start_time": "2022-02-06T16:21:48.374Z"
   },
   {
    "duration": 39,
    "start_time": "2022-02-06T16:21:48.459Z"
   },
   {
    "duration": 104,
    "start_time": "2022-02-06T16:21:48.500Z"
   },
   {
    "duration": 61,
    "start_time": "2022-02-06T16:21:48.607Z"
   },
   {
    "duration": 39,
    "start_time": "2022-02-06T16:21:48.670Z"
   },
   {
    "duration": 136,
    "start_time": "2022-02-06T16:21:48.712Z"
   },
   {
    "duration": 10,
    "start_time": "2022-02-06T16:21:48.851Z"
   },
   {
    "duration": 106,
    "start_time": "2022-02-06T16:21:48.863Z"
   },
   {
    "duration": 121,
    "start_time": "2022-02-06T16:21:48.971Z"
   },
   {
    "duration": 139,
    "start_time": "2022-02-06T16:21:49.094Z"
   },
   {
    "duration": 208,
    "start_time": "2022-02-06T16:21:49.236Z"
   },
   {
    "duration": 11,
    "start_time": "2022-02-06T16:32:51.650Z"
   },
   {
    "duration": 21,
    "start_time": "2022-02-06T16:33:15.464Z"
   },
   {
    "duration": 22,
    "start_time": "2022-02-06T16:33:24.597Z"
   },
   {
    "duration": 87,
    "start_time": "2022-02-06T18:09:01.341Z"
   },
   {
    "duration": 448,
    "start_time": "2022-02-06T18:12:03.627Z"
   },
   {
    "duration": 94,
    "start_time": "2022-02-06T18:12:57.781Z"
   },
   {
    "duration": 454,
    "start_time": "2022-02-06T18:15:47.568Z"
   },
   {
    "duration": 110,
    "start_time": "2022-02-06T18:16:08.715Z"
   },
   {
    "duration": 63,
    "start_time": "2022-02-06T18:16:32.603Z"
   },
   {
    "duration": 798,
    "start_time": "2022-02-06T18:24:21.310Z"
   },
   {
    "duration": 1057,
    "start_time": "2022-02-06T18:26:29.889Z"
   },
   {
    "duration": 24,
    "start_time": "2022-02-06T18:28:12.098Z"
   },
   {
    "duration": 28,
    "start_time": "2022-02-06T18:28:31.363Z"
   },
   {
    "duration": 32,
    "start_time": "2022-02-06T18:28:40.184Z"
   },
   {
    "duration": 42,
    "start_time": "2022-02-06T18:31:14.772Z"
   },
   {
    "duration": 54,
    "start_time": "2022-02-06T18:31:28.385Z"
   },
   {
    "duration": 31,
    "start_time": "2022-02-06T18:33:50.409Z"
   },
   {
    "duration": 36,
    "start_time": "2022-02-06T18:35:06.113Z"
   },
   {
    "duration": 45,
    "start_time": "2022-02-06T18:35:41.908Z"
   },
   {
    "duration": 7,
    "start_time": "2022-02-06T18:37:22.693Z"
   },
   {
    "duration": 21,
    "start_time": "2022-02-06T18:40:23.280Z"
   },
   {
    "duration": 1634,
    "start_time": "2022-02-06T18:40:36.503Z"
   },
   {
    "duration": 248,
    "start_time": "2022-02-06T18:40:38.140Z"
   },
   {
    "duration": 261,
    "start_time": "2022-02-06T18:40:38.393Z"
   },
   {
    "duration": 138,
    "start_time": "2022-02-06T18:40:38.660Z"
   },
   {
    "duration": 30,
    "start_time": "2022-02-06T18:40:38.800Z"
   },
   {
    "duration": 47,
    "start_time": "2022-02-06T18:40:38.833Z"
   },
   {
    "duration": 125,
    "start_time": "2022-02-06T18:40:38.882Z"
   },
   {
    "duration": 116,
    "start_time": "2022-02-06T18:40:39.011Z"
   },
   {
    "duration": 61,
    "start_time": "2022-02-06T18:40:39.130Z"
   },
   {
    "duration": 32,
    "start_time": "2022-02-06T18:40:39.194Z"
   },
   {
    "duration": 102,
    "start_time": "2022-02-06T18:40:39.229Z"
   },
   {
    "duration": 60,
    "start_time": "2022-02-06T18:40:39.333Z"
   },
   {
    "duration": 42,
    "start_time": "2022-02-06T18:40:39.395Z"
   },
   {
    "duration": 57,
    "start_time": "2022-02-06T18:40:39.440Z"
   },
   {
    "duration": 65,
    "start_time": "2022-02-06T18:40:39.500Z"
   },
   {
    "duration": 20,
    "start_time": "2022-02-06T18:40:39.567Z"
   },
   {
    "duration": 124,
    "start_time": "2022-02-06T18:40:39.589Z"
   },
   {
    "duration": 5,
    "start_time": "2022-02-06T18:40:39.716Z"
   },
   {
    "duration": 109,
    "start_time": "2022-02-06T18:40:39.724Z"
   },
   {
    "duration": 153,
    "start_time": "2022-02-06T18:40:39.835Z"
   },
   {
    "duration": 29,
    "start_time": "2022-02-06T18:40:39.990Z"
   },
   {
    "duration": 59,
    "start_time": "2022-02-06T18:40:40.022Z"
   },
   {
    "duration": 34,
    "start_time": "2022-02-06T18:41:10.510Z"
   },
   {
    "duration": 1367,
    "start_time": "2022-02-06T18:41:28.250Z"
   },
   {
    "duration": 235,
    "start_time": "2022-02-06T18:41:29.620Z"
   },
   {
    "duration": 189,
    "start_time": "2022-02-06T18:41:29.859Z"
   },
   {
    "duration": 137,
    "start_time": "2022-02-06T18:41:30.051Z"
   },
   {
    "duration": 30,
    "start_time": "2022-02-06T18:41:30.191Z"
   },
   {
    "duration": 56,
    "start_time": "2022-02-06T18:41:30.223Z"
   },
   {
    "duration": 128,
    "start_time": "2022-02-06T18:41:30.281Z"
   },
   {
    "duration": 113,
    "start_time": "2022-02-06T18:41:30.415Z"
   },
   {
    "duration": 72,
    "start_time": "2022-02-06T18:41:30.531Z"
   },
   {
    "duration": 55,
    "start_time": "2022-02-06T18:41:30.606Z"
   },
   {
    "duration": 96,
    "start_time": "2022-02-06T18:41:30.663Z"
   },
   {
    "duration": 46,
    "start_time": "2022-02-06T18:41:30.762Z"
   },
   {
    "duration": 62,
    "start_time": "2022-02-06T18:41:30.811Z"
   },
   {
    "duration": 33,
    "start_time": "2022-02-06T18:41:30.876Z"
   },
   {
    "duration": 76,
    "start_time": "2022-02-06T18:41:30.912Z"
   },
   {
    "duration": 44,
    "start_time": "2022-02-06T18:41:30.991Z"
   },
   {
    "duration": 151,
    "start_time": "2022-02-06T18:41:31.037Z"
   },
   {
    "duration": 5,
    "start_time": "2022-02-06T18:41:31.190Z"
   },
   {
    "duration": 109,
    "start_time": "2022-02-06T18:41:31.197Z"
   },
   {
    "duration": 141,
    "start_time": "2022-02-06T18:41:31.309Z"
   },
   {
    "duration": 34,
    "start_time": "2022-02-06T18:41:31.452Z"
   },
   {
    "duration": 33,
    "start_time": "2022-02-06T18:41:31.488Z"
   },
   {
    "duration": 626,
    "start_time": "2022-02-06T18:42:59.064Z"
   },
   {
    "duration": 1370,
    "start_time": "2022-02-07T20:15:02.244Z"
   },
   {
    "duration": 245,
    "start_time": "2022-02-07T20:15:03.617Z"
   },
   {
    "duration": 199,
    "start_time": "2022-02-07T20:15:03.865Z"
   },
   {
    "duration": 135,
    "start_time": "2022-02-07T20:15:04.066Z"
   },
   {
    "duration": 33,
    "start_time": "2022-02-07T20:15:04.204Z"
   },
   {
    "duration": 48,
    "start_time": "2022-02-07T20:15:04.240Z"
   },
   {
    "duration": 121,
    "start_time": "2022-02-07T20:15:04.291Z"
   },
   {
    "duration": 108,
    "start_time": "2022-02-07T20:15:04.416Z"
   },
   {
    "duration": 75,
    "start_time": "2022-02-07T20:15:04.527Z"
   },
   {
    "duration": 57,
    "start_time": "2022-02-07T20:15:04.605Z"
   },
   {
    "duration": 98,
    "start_time": "2022-02-07T20:15:04.665Z"
   },
   {
    "duration": 50,
    "start_time": "2022-02-07T20:15:04.765Z"
   },
   {
    "duration": 70,
    "start_time": "2022-02-07T20:15:04.818Z"
   },
   {
    "duration": 32,
    "start_time": "2022-02-07T20:15:04.890Z"
   },
   {
    "duration": 66,
    "start_time": "2022-02-07T20:15:04.924Z"
   },
   {
    "duration": 133,
    "start_time": "2022-02-07T20:15:04.992Z"
   },
   {
    "duration": 5,
    "start_time": "2022-02-07T20:15:05.127Z"
   },
   {
    "duration": 109,
    "start_time": "2022-02-07T20:15:05.135Z"
   },
   {
    "duration": 522,
    "start_time": "2022-02-07T20:15:05.247Z"
   },
   {
    "duration": 21,
    "start_time": "2022-02-07T20:19:25.819Z"
   },
   {
    "duration": 363,
    "start_time": "2022-02-07T20:23:48.412Z"
   },
   {
    "duration": 362,
    "start_time": "2022-02-07T20:24:10.485Z"
   },
   {
    "duration": 66,
    "start_time": "2022-02-07T20:24:18.929Z"
   },
   {
    "duration": 10050,
    "start_time": "2022-02-07T20:33:55.869Z"
   },
   {
    "duration": 59,
    "start_time": "2022-02-07T20:34:28.051Z"
   },
   {
    "duration": 8553,
    "start_time": "2022-02-07T20:34:39.303Z"
   },
   {
    "duration": 24313,
    "start_time": "2022-02-07T20:35:14.943Z"
   },
   {
    "duration": 1564,
    "start_time": "2022-02-07T20:35:42.449Z"
   },
   {
    "duration": 261,
    "start_time": "2022-02-07T20:35:44.016Z"
   },
   {
    "duration": 265,
    "start_time": "2022-02-07T20:35:44.282Z"
   },
   {
    "duration": 134,
    "start_time": "2022-02-07T20:35:44.558Z"
   },
   {
    "duration": 33,
    "start_time": "2022-02-07T20:35:44.695Z"
   },
   {
    "duration": 47,
    "start_time": "2022-02-07T20:35:44.730Z"
   },
   {
    "duration": 130,
    "start_time": "2022-02-07T20:35:44.779Z"
   },
   {
    "duration": 109,
    "start_time": "2022-02-07T20:35:44.913Z"
   },
   {
    "duration": 96,
    "start_time": "2022-02-07T20:35:45.026Z"
   },
   {
    "duration": 55,
    "start_time": "2022-02-07T20:35:45.125Z"
   },
   {
    "duration": 86,
    "start_time": "2022-02-07T20:35:45.183Z"
   },
   {
    "duration": 46,
    "start_time": "2022-02-07T20:35:45.272Z"
   },
   {
    "duration": 60,
    "start_time": "2022-02-07T20:35:45.320Z"
   },
   {
    "duration": 34,
    "start_time": "2022-02-07T20:35:45.382Z"
   },
   {
    "duration": 76,
    "start_time": "2022-02-07T20:35:45.419Z"
   },
   {
    "duration": 126,
    "start_time": "2022-02-07T20:35:45.498Z"
   },
   {
    "duration": 5,
    "start_time": "2022-02-07T20:35:45.627Z"
   },
   {
    "duration": 111,
    "start_time": "2022-02-07T20:35:45.635Z"
   },
   {
    "duration": 96,
    "start_time": "2022-02-07T20:35:45.749Z"
   },
   {
    "duration": 64,
    "start_time": "2022-02-07T20:35:45.848Z"
   },
   {
    "duration": 15262,
    "start_time": "2022-02-07T20:35:45.915Z"
   },
   {
    "duration": 7,
    "start_time": "2022-02-07T20:36:54.778Z"
   },
   {
    "duration": 10215,
    "start_time": "2022-02-07T20:37:06.145Z"
   },
   {
    "duration": 24,
    "start_time": "2022-02-07T20:37:30.119Z"
   },
   {
    "duration": 347,
    "start_time": "2022-02-07T20:40:53.106Z"
   },
   {
    "duration": 5,
    "start_time": "2022-02-07T20:41:03.448Z"
   },
   {
    "duration": 1357,
    "start_time": "2022-02-07T20:41:16.747Z"
   },
   {
    "duration": 240,
    "start_time": "2022-02-07T20:41:18.106Z"
   },
   {
    "duration": 199,
    "start_time": "2022-02-07T20:41:18.360Z"
   },
   {
    "duration": 138,
    "start_time": "2022-02-07T20:41:18.561Z"
   },
   {
    "duration": 36,
    "start_time": "2022-02-07T20:41:18.702Z"
   },
   {
    "duration": 46,
    "start_time": "2022-02-07T20:41:18.741Z"
   },
   {
    "duration": 125,
    "start_time": "2022-02-07T20:41:18.789Z"
   },
   {
    "duration": 109,
    "start_time": "2022-02-07T20:41:18.917Z"
   },
   {
    "duration": 78,
    "start_time": "2022-02-07T20:41:19.029Z"
   },
   {
    "duration": 55,
    "start_time": "2022-02-07T20:41:19.110Z"
   },
   {
    "duration": 91,
    "start_time": "2022-02-07T20:41:19.168Z"
   },
   {
    "duration": 48,
    "start_time": "2022-02-07T20:41:19.261Z"
   },
   {
    "duration": 70,
    "start_time": "2022-02-07T20:41:19.312Z"
   },
   {
    "duration": 30,
    "start_time": "2022-02-07T20:41:19.385Z"
   },
   {
    "duration": 67,
    "start_time": "2022-02-07T20:41:19.417Z"
   },
   {
    "duration": 130,
    "start_time": "2022-02-07T20:41:19.486Z"
   },
   {
    "duration": 5,
    "start_time": "2022-02-07T20:41:19.618Z"
   },
   {
    "duration": 110,
    "start_time": "2022-02-07T20:41:19.625Z"
   },
   {
    "duration": 103,
    "start_time": "2022-02-07T20:41:19.738Z"
   },
   {
    "duration": 65,
    "start_time": "2022-02-07T20:41:19.843Z"
   },
   {
    "duration": 5,
    "start_time": "2022-02-07T20:41:19.911Z"
   },
   {
    "duration": 44,
    "start_time": "2022-02-07T20:41:19.919Z"
   },
   {
    "duration": 8656,
    "start_time": "2022-02-07T20:41:19.969Z"
   },
   {
    "duration": 5,
    "start_time": "2022-02-07T20:41:34.171Z"
   },
   {
    "duration": 15,
    "start_time": "2022-02-07T20:41:48.297Z"
   },
   {
    "duration": 49,
    "start_time": "2022-02-07T20:52:39.854Z"
   },
   {
    "duration": 47,
    "start_time": "2022-02-07T20:52:54.926Z"
   },
   {
    "duration": 378,
    "start_time": "2022-02-07T21:02:44.980Z"
   },
   {
    "duration": 343,
    "start_time": "2022-02-07T21:02:57.781Z"
   },
   {
    "duration": 52,
    "start_time": "2022-02-07T21:13:08.487Z"
   },
   {
    "duration": 57,
    "start_time": "2022-02-07T21:13:37.238Z"
   },
   {
    "duration": 68,
    "start_time": "2022-02-07T21:16:08.699Z"
   },
   {
    "duration": 326,
    "start_time": "2022-02-08T05:56:59.240Z"
   },
   {
    "duration": 1331,
    "start_time": "2022-02-08T05:57:38.954Z"
   },
   {
    "duration": 234,
    "start_time": "2022-02-08T05:57:40.288Z"
   },
   {
    "duration": 189,
    "start_time": "2022-02-08T05:57:40.524Z"
   },
   {
    "duration": 132,
    "start_time": "2022-02-08T05:57:40.716Z"
   },
   {
    "duration": 29,
    "start_time": "2022-02-08T05:57:40.850Z"
   },
   {
    "duration": 42,
    "start_time": "2022-02-08T05:57:40.881Z"
   },
   {
    "duration": 121,
    "start_time": "2022-02-08T05:57:40.925Z"
   },
   {
    "duration": 103,
    "start_time": "2022-02-08T05:57:41.050Z"
   },
   {
    "duration": 80,
    "start_time": "2022-02-08T05:57:41.156Z"
   },
   {
    "duration": 33,
    "start_time": "2022-02-08T05:57:41.239Z"
   },
   {
    "duration": 95,
    "start_time": "2022-02-08T05:57:41.274Z"
   },
   {
    "duration": 62,
    "start_time": "2022-02-08T05:57:41.371Z"
   },
   {
    "duration": 37,
    "start_time": "2022-02-08T05:57:41.435Z"
   },
   {
    "duration": 30,
    "start_time": "2022-02-08T05:57:41.474Z"
   },
   {
    "duration": 54,
    "start_time": "2022-02-08T05:57:41.507Z"
   },
   {
    "duration": 127,
    "start_time": "2022-02-08T05:57:41.563Z"
   },
   {
    "duration": 5,
    "start_time": "2022-02-08T05:57:41.693Z"
   },
   {
    "duration": 126,
    "start_time": "2022-02-08T05:57:41.702Z"
   },
   {
    "duration": 165,
    "start_time": "2022-02-08T05:57:41.833Z"
   },
   {
    "duration": 105,
    "start_time": "2022-02-08T05:57:42.001Z"
   },
   {
    "duration": 59,
    "start_time": "2022-02-08T05:57:42.109Z"
   },
   {
    "duration": 387,
    "start_time": "2022-02-08T05:58:43.122Z"
   },
   {
    "duration": 69,
    "start_time": "2022-02-08T05:58:56.328Z"
   },
   {
    "duration": 48,
    "start_time": "2022-02-08T06:00:27.649Z"
   },
   {
    "duration": 33,
    "start_time": "2022-02-08T06:01:45.648Z"
   },
   {
    "duration": 78,
    "start_time": "2022-02-08T06:08:37.776Z"
   },
   {
    "duration": 321,
    "start_time": "2022-02-08T06:09:50.023Z"
   },
   {
    "duration": 78,
    "start_time": "2022-02-08T06:10:06.427Z"
   },
   {
    "duration": 410,
    "start_time": "2022-02-08T06:12:18.045Z"
   },
   {
    "duration": 23,
    "start_time": "2022-02-08T06:12:38.490Z"
   },
   {
    "duration": 25,
    "start_time": "2022-02-08T06:13:29.375Z"
   },
   {
    "duration": 5,
    "start_time": "2022-02-08T06:14:43.716Z"
   },
   {
    "duration": 7,
    "start_time": "2022-02-08T06:17:13.256Z"
   },
   {
    "duration": 22,
    "start_time": "2022-02-08T06:17:29.095Z"
   },
   {
    "duration": 8542,
    "start_time": "2022-02-08T06:25:05.504Z"
   },
   {
    "duration": 121,
    "start_time": "2022-02-08T06:28:49.944Z"
   },
   {
    "duration": 10221,
    "start_time": "2022-02-08T06:29:14.818Z"
   },
   {
    "duration": 102,
    "start_time": "2022-02-08T06:34:43.703Z"
   },
   {
    "duration": 139,
    "start_time": "2022-02-08T06:35:28.406Z"
   },
   {
    "duration": 1357,
    "start_time": "2022-02-08T06:35:35.742Z"
   },
   {
    "duration": 252,
    "start_time": "2022-02-08T06:35:37.102Z"
   },
   {
    "duration": 203,
    "start_time": "2022-02-08T06:35:37.357Z"
   },
   {
    "duration": 137,
    "start_time": "2022-02-08T06:35:37.562Z"
   },
   {
    "duration": 34,
    "start_time": "2022-02-08T06:35:37.702Z"
   },
   {
    "duration": 42,
    "start_time": "2022-02-08T06:35:37.738Z"
   },
   {
    "duration": 120,
    "start_time": "2022-02-08T06:35:37.782Z"
   },
   {
    "duration": 109,
    "start_time": "2022-02-08T06:35:37.906Z"
   },
   {
    "duration": 77,
    "start_time": "2022-02-08T06:35:38.019Z"
   },
   {
    "duration": 60,
    "start_time": "2022-02-08T06:35:38.099Z"
   },
   {
    "duration": 94,
    "start_time": "2022-02-08T06:35:38.162Z"
   },
   {
    "duration": 46,
    "start_time": "2022-02-08T06:35:38.259Z"
   },
   {
    "duration": 58,
    "start_time": "2022-02-08T06:35:38.308Z"
   },
   {
    "duration": 33,
    "start_time": "2022-02-08T06:35:38.369Z"
   },
   {
    "duration": 58,
    "start_time": "2022-02-08T06:35:38.405Z"
   },
   {
    "duration": 127,
    "start_time": "2022-02-08T06:35:38.466Z"
   },
   {
    "duration": 5,
    "start_time": "2022-02-08T06:35:38.595Z"
   },
   {
    "duration": 114,
    "start_time": "2022-02-08T06:35:38.602Z"
   },
   {
    "duration": 105,
    "start_time": "2022-02-08T06:35:38.719Z"
   },
   {
    "duration": 50,
    "start_time": "2022-02-08T06:35:38.826Z"
   },
   {
    "duration": 86,
    "start_time": "2022-02-08T06:35:38.878Z"
   },
   {
    "duration": 55,
    "start_time": "2022-02-08T06:35:38.966Z"
   },
   {
    "duration": 34,
    "start_time": "2022-02-08T06:35:39.034Z"
   },
   {
    "duration": 102,
    "start_time": "2022-02-08T06:35:39.071Z"
   },
   {
    "duration": 95,
    "start_time": "2022-02-08T06:35:39.175Z"
   },
   {
    "duration": 23,
    "start_time": "2022-02-08T06:35:39.273Z"
   },
   {
    "duration": 51,
    "start_time": "2022-02-08T06:35:39.299Z"
   },
   {
    "duration": 23,
    "start_time": "2022-02-08T06:35:39.352Z"
   },
   {
    "duration": 124,
    "start_time": "2022-02-08T06:35:39.378Z"
   },
   {
    "duration": 7928,
    "start_time": "2022-02-08T06:35:57.783Z"
   },
   {
    "duration": 26,
    "start_time": "2022-02-08T06:38:28.470Z"
   },
   {
    "duration": 51,
    "start_time": "2022-02-08T06:38:43.008Z"
   },
   {
    "duration": 1331,
    "start_time": "2022-02-08T06:38:50.347Z"
   },
   {
    "duration": 233,
    "start_time": "2022-02-08T06:38:51.680Z"
   },
   {
    "duration": 202,
    "start_time": "2022-02-08T06:38:51.916Z"
   },
   {
    "duration": 139,
    "start_time": "2022-02-08T06:38:52.121Z"
   },
   {
    "duration": 29,
    "start_time": "2022-02-08T06:38:52.262Z"
   },
   {
    "duration": 48,
    "start_time": "2022-02-08T06:38:52.293Z"
   },
   {
    "duration": 136,
    "start_time": "2022-02-08T06:38:52.344Z"
   },
   {
    "duration": 601,
    "start_time": "2022-02-08T06:38:52.485Z"
   },
   {
    "duration": 77,
    "start_time": "2022-02-08T06:38:53.090Z"
   },
   {
    "duration": 34,
    "start_time": "2022-02-08T06:38:53.170Z"
   },
   {
    "duration": 95,
    "start_time": "2022-02-08T06:38:53.207Z"
   },
   {
    "duration": 65,
    "start_time": "2022-02-08T06:38:53.304Z"
   },
   {
    "duration": 50,
    "start_time": "2022-02-08T06:38:53.371Z"
   },
   {
    "duration": 36,
    "start_time": "2022-02-08T06:38:53.424Z"
   },
   {
    "duration": 33,
    "start_time": "2022-02-08T06:38:53.463Z"
   },
   {
    "duration": 142,
    "start_time": "2022-02-08T06:38:53.498Z"
   },
   {
    "duration": 5,
    "start_time": "2022-02-08T06:38:53.642Z"
   },
   {
    "duration": 117,
    "start_time": "2022-02-08T06:38:53.649Z"
   },
   {
    "duration": 112,
    "start_time": "2022-02-08T06:38:53.768Z"
   },
   {
    "duration": 56,
    "start_time": "2022-02-08T06:38:53.882Z"
   },
   {
    "duration": 63,
    "start_time": "2022-02-08T06:38:53.940Z"
   },
   {
    "duration": 74,
    "start_time": "2022-02-08T06:38:54.005Z"
   },
   {
    "duration": 53,
    "start_time": "2022-02-08T06:38:54.083Z"
   },
   {
    "duration": 100,
    "start_time": "2022-02-08T06:38:54.139Z"
   },
   {
    "duration": 99,
    "start_time": "2022-02-08T06:38:54.241Z"
   },
   {
    "duration": 27,
    "start_time": "2022-02-08T06:38:54.342Z"
   },
   {
    "duration": 76,
    "start_time": "2022-02-08T06:38:54.372Z"
   },
   {
    "duration": 23,
    "start_time": "2022-02-08T06:38:54.450Z"
   },
   {
    "duration": 7609,
    "start_time": "2022-02-08T06:38:54.476Z"
   },
   {
    "duration": 482,
    "start_time": "2022-02-08T07:09:25.661Z"
   },
   {
    "duration": 652,
    "start_time": "2022-02-08T07:09:51.106Z"
   },
   {
    "duration": 25,
    "start_time": "2022-02-08T07:11:38.115Z"
   },
   {
    "duration": 38,
    "start_time": "2022-02-08T07:14:27.020Z"
   },
   {
    "duration": 59,
    "start_time": "2022-02-08T07:15:22.562Z"
   },
   {
    "duration": 22,
    "start_time": "2022-02-08T07:15:58.176Z"
   },
   {
    "duration": 39,
    "start_time": "2022-02-08T07:16:50.979Z"
   },
   {
    "duration": 1380,
    "start_time": "2022-02-08T07:18:26.495Z"
   },
   {
    "duration": 242,
    "start_time": "2022-02-08T07:18:27.877Z"
   },
   {
    "duration": 194,
    "start_time": "2022-02-08T07:18:28.122Z"
   },
   {
    "duration": 140,
    "start_time": "2022-02-08T07:18:28.318Z"
   },
   {
    "duration": 28,
    "start_time": "2022-02-08T07:18:28.461Z"
   },
   {
    "duration": 42,
    "start_time": "2022-02-08T07:18:28.491Z"
   },
   {
    "duration": 124,
    "start_time": "2022-02-08T07:18:28.535Z"
   },
   {
    "duration": 101,
    "start_time": "2022-02-08T07:18:28.663Z"
   },
   {
    "duration": 82,
    "start_time": "2022-02-08T07:18:28.768Z"
   },
   {
    "duration": 34,
    "start_time": "2022-02-08T07:18:28.853Z"
   },
   {
    "duration": 137,
    "start_time": "2022-02-08T07:18:28.890Z"
   },
   {
    "duration": 5,
    "start_time": "2022-02-08T07:18:29.032Z"
   },
   {
    "duration": 105,
    "start_time": "2022-02-08T07:18:29.039Z"
   },
   {
    "duration": 98,
    "start_time": "2022-02-08T07:18:29.146Z"
   },
   {
    "duration": 45,
    "start_time": "2022-02-08T07:18:29.247Z"
   },
   {
    "duration": 83,
    "start_time": "2022-02-08T07:18:29.294Z"
   },
   {
    "duration": 60,
    "start_time": "2022-02-08T07:18:29.379Z"
   },
   {
    "duration": 30,
    "start_time": "2022-02-08T07:18:29.442Z"
   },
   {
    "duration": 97,
    "start_time": "2022-02-08T07:18:29.474Z"
   },
   {
    "duration": 69,
    "start_time": "2022-02-08T07:18:29.573Z"
   },
   {
    "duration": 40,
    "start_time": "2022-02-08T07:18:29.645Z"
   },
   {
    "duration": 50,
    "start_time": "2022-02-08T07:18:29.687Z"
   },
   {
    "duration": 513,
    "start_time": "2022-02-08T07:18:29.742Z"
   },
   {
    "duration": -1649,
    "start_time": "2022-02-08T07:18:31.907Z"
   },
   {
    "duration": -1652,
    "start_time": "2022-02-08T07:18:31.911Z"
   },
   {
    "duration": -1653,
    "start_time": "2022-02-08T07:18:31.914Z"
   },
   {
    "duration": -1654,
    "start_time": "2022-02-08T07:18:31.916Z"
   },
   {
    "duration": -1655,
    "start_time": "2022-02-08T07:18:31.918Z"
   },
   {
    "duration": 1332,
    "start_time": "2022-02-08T07:19:18.545Z"
   },
   {
    "duration": 237,
    "start_time": "2022-02-08T07:19:19.880Z"
   },
   {
    "duration": 189,
    "start_time": "2022-02-08T07:19:20.120Z"
   },
   {
    "duration": 142,
    "start_time": "2022-02-08T07:19:20.312Z"
   },
   {
    "duration": 30,
    "start_time": "2022-02-08T07:19:20.456Z"
   },
   {
    "duration": 48,
    "start_time": "2022-02-08T07:19:20.488Z"
   },
   {
    "duration": 120,
    "start_time": "2022-02-08T07:19:20.539Z"
   },
   {
    "duration": 106,
    "start_time": "2022-02-08T07:19:20.663Z"
   },
   {
    "duration": 76,
    "start_time": "2022-02-08T07:19:20.772Z"
   },
   {
    "duration": 33,
    "start_time": "2022-02-08T07:19:20.851Z"
   },
   {
    "duration": 142,
    "start_time": "2022-02-08T07:19:20.886Z"
   },
   {
    "duration": 5,
    "start_time": "2022-02-08T07:19:21.032Z"
   },
   {
    "duration": 105,
    "start_time": "2022-02-08T07:19:21.040Z"
   },
   {
    "duration": 104,
    "start_time": "2022-02-08T07:19:21.147Z"
   },
   {
    "duration": 47,
    "start_time": "2022-02-08T07:19:21.253Z"
   },
   {
    "duration": 80,
    "start_time": "2022-02-08T07:19:21.302Z"
   },
   {
    "duration": 59,
    "start_time": "2022-02-08T07:19:21.385Z"
   },
   {
    "duration": 32,
    "start_time": "2022-02-08T07:19:21.446Z"
   },
   {
    "duration": 96,
    "start_time": "2022-02-08T07:19:21.480Z"
   },
   {
    "duration": 70,
    "start_time": "2022-02-08T07:19:21.578Z"
   },
   {
    "duration": 36,
    "start_time": "2022-02-08T07:19:21.650Z"
   },
   {
    "duration": 45,
    "start_time": "2022-02-08T07:19:21.688Z"
   },
   {
    "duration": 46,
    "start_time": "2022-02-08T07:19:21.738Z"
   },
   {
    "duration": 50,
    "start_time": "2022-02-08T07:19:21.787Z"
   },
   {
    "duration": 37,
    "start_time": "2022-02-08T07:19:21.840Z"
   },
   {
    "duration": 101,
    "start_time": "2022-02-08T07:19:21.879Z"
   },
   {
    "duration": 19,
    "start_time": "2022-02-08T07:19:21.982Z"
   },
   {
    "duration": 56,
    "start_time": "2022-02-08T07:19:22.003Z"
   },
   {
    "duration": 27,
    "start_time": "2022-02-08T07:20:24.836Z"
   },
   {
    "duration": 38,
    "start_time": "2022-02-08T07:21:01.030Z"
   },
   {
    "duration": 26,
    "start_time": "2022-02-08T07:21:55.818Z"
   },
   {
    "duration": 46,
    "start_time": "2022-02-08T07:22:53.169Z"
   },
   {
    "duration": 7140,
    "start_time": "2022-02-08T07:25:34.833Z"
   },
   {
    "duration": 6977,
    "start_time": "2022-02-08T07:26:05.203Z"
   },
   {
    "duration": 7764,
    "start_time": "2022-02-08T07:26:30.668Z"
   },
   {
    "duration": 1292,
    "start_time": "2022-02-08T07:27:13.834Z"
   },
   {
    "duration": 240,
    "start_time": "2022-02-08T07:27:15.131Z"
   },
   {
    "duration": 196,
    "start_time": "2022-02-08T07:27:15.374Z"
   },
   {
    "duration": 138,
    "start_time": "2022-02-08T07:27:15.572Z"
   },
   {
    "duration": 28,
    "start_time": "2022-02-08T07:27:15.713Z"
   },
   {
    "duration": 43,
    "start_time": "2022-02-08T07:27:15.744Z"
   },
   {
    "duration": 124,
    "start_time": "2022-02-08T07:27:15.789Z"
   },
   {
    "duration": 113,
    "start_time": "2022-02-08T07:27:15.919Z"
   },
   {
    "duration": 65,
    "start_time": "2022-02-08T07:27:16.036Z"
   },
   {
    "duration": 59,
    "start_time": "2022-02-08T07:27:16.104Z"
   },
   {
    "duration": 131,
    "start_time": "2022-02-08T07:27:16.165Z"
   },
   {
    "duration": 5,
    "start_time": "2022-02-08T07:27:16.299Z"
   },
   {
    "duration": 116,
    "start_time": "2022-02-08T07:27:16.306Z"
   },
   {
    "duration": 99,
    "start_time": "2022-02-08T07:27:16.433Z"
   },
   {
    "duration": 47,
    "start_time": "2022-02-08T07:27:16.535Z"
   },
   {
    "duration": 90,
    "start_time": "2022-02-08T07:27:16.585Z"
   },
   {
    "duration": 61,
    "start_time": "2022-02-08T07:27:16.678Z"
   },
   {
    "duration": 36,
    "start_time": "2022-02-08T07:27:16.741Z"
   },
   {
    "duration": 108,
    "start_time": "2022-02-08T07:27:16.780Z"
   },
   {
    "duration": 64,
    "start_time": "2022-02-08T07:27:16.891Z"
   },
   {
    "duration": 36,
    "start_time": "2022-02-08T07:27:16.957Z"
   },
   {
    "duration": 45,
    "start_time": "2022-02-08T07:27:16.996Z"
   },
   {
    "duration": 44,
    "start_time": "2022-02-08T07:27:17.045Z"
   },
   {
    "duration": 44,
    "start_time": "2022-02-08T07:27:17.092Z"
   },
   {
    "duration": 32,
    "start_time": "2022-02-08T07:27:17.138Z"
   },
   {
    "duration": 77,
    "start_time": "2022-02-08T07:27:17.173Z"
   },
   {
    "duration": 21,
    "start_time": "2022-02-08T07:27:17.253Z"
   },
   {
    "duration": 65,
    "start_time": "2022-02-08T07:27:17.277Z"
   },
   {
    "duration": 29,
    "start_time": "2022-02-08T07:27:17.345Z"
   },
   {
    "duration": 61,
    "start_time": "2022-02-08T07:27:17.377Z"
   },
   {
    "duration": 25,
    "start_time": "2022-02-08T07:27:17.441Z"
   },
   {
    "duration": 94,
    "start_time": "2022-02-08T07:27:17.469Z"
   },
   {
    "duration": 32,
    "start_time": "2022-02-08T07:27:17.566Z"
   },
   {
    "duration": 1339,
    "start_time": "2022-02-08T07:29:01.247Z"
   },
   {
    "duration": 234,
    "start_time": "2022-02-08T07:29:02.590Z"
   },
   {
    "duration": 193,
    "start_time": "2022-02-08T07:29:02.831Z"
   },
   {
    "duration": 146,
    "start_time": "2022-02-08T07:29:03.026Z"
   },
   {
    "duration": 30,
    "start_time": "2022-02-08T07:29:03.174Z"
   },
   {
    "duration": 43,
    "start_time": "2022-02-08T07:29:03.207Z"
   },
   {
    "duration": 130,
    "start_time": "2022-02-08T07:29:03.254Z"
   },
   {
    "duration": 105,
    "start_time": "2022-02-08T07:29:03.387Z"
   },
   {
    "duration": 75,
    "start_time": "2022-02-08T07:29:03.494Z"
   },
   {
    "duration": 32,
    "start_time": "2022-02-08T07:29:03.571Z"
   },
   {
    "duration": 139,
    "start_time": "2022-02-08T07:29:03.605Z"
   },
   {
    "duration": 5,
    "start_time": "2022-02-08T07:29:03.746Z"
   },
   {
    "duration": 112,
    "start_time": "2022-02-08T07:29:03.754Z"
   },
   {
    "duration": 100,
    "start_time": "2022-02-08T07:29:03.868Z"
   },
   {
    "duration": 47,
    "start_time": "2022-02-08T07:29:03.970Z"
   },
   {
    "duration": 64,
    "start_time": "2022-02-08T07:29:04.032Z"
   },
   {
    "duration": 71,
    "start_time": "2022-02-08T07:29:04.098Z"
   },
   {
    "duration": 33,
    "start_time": "2022-02-08T07:29:04.171Z"
   },
   {
    "duration": 79,
    "start_time": "2022-02-08T07:29:04.207Z"
   },
   {
    "duration": 72,
    "start_time": "2022-02-08T07:29:04.288Z"
   },
   {
    "duration": 43,
    "start_time": "2022-02-08T07:29:04.363Z"
   },
   {
    "duration": 50,
    "start_time": "2022-02-08T07:29:04.410Z"
   },
   {
    "duration": 34,
    "start_time": "2022-02-08T07:29:04.463Z"
   },
   {
    "duration": 47,
    "start_time": "2022-02-08T07:29:04.500Z"
   },
   {
    "duration": 36,
    "start_time": "2022-02-08T07:29:04.550Z"
   },
   {
    "duration": 78,
    "start_time": "2022-02-08T07:29:04.589Z"
   },
   {
    "duration": 20,
    "start_time": "2022-02-08T07:29:04.670Z"
   },
   {
    "duration": 62,
    "start_time": "2022-02-08T07:29:04.693Z"
   },
   {
    "duration": 27,
    "start_time": "2022-02-08T07:29:04.757Z"
   },
   {
    "duration": 67,
    "start_time": "2022-02-08T07:29:04.786Z"
   },
   {
    "duration": 35,
    "start_time": "2022-02-08T07:29:04.856Z"
   },
   {
    "duration": 56,
    "start_time": "2022-02-08T07:29:04.893Z"
   },
   {
    "duration": 22,
    "start_time": "2022-02-08T07:29:04.951Z"
   },
   {
    "duration": 1381,
    "start_time": "2022-02-08T07:35:58.210Z"
   },
   {
    "duration": 251,
    "start_time": "2022-02-08T07:35:59.593Z"
   },
   {
    "duration": 202,
    "start_time": "2022-02-08T07:35:59.847Z"
   },
   {
    "duration": 139,
    "start_time": "2022-02-08T07:36:00.052Z"
   },
   {
    "duration": 28,
    "start_time": "2022-02-08T07:36:00.194Z"
   },
   {
    "duration": 51,
    "start_time": "2022-02-08T07:36:00.224Z"
   },
   {
    "duration": 119,
    "start_time": "2022-02-08T07:36:00.278Z"
   },
   {
    "duration": 109,
    "start_time": "2022-02-08T07:36:00.401Z"
   },
   {
    "duration": 76,
    "start_time": "2022-02-08T07:36:00.514Z"
   },
   {
    "duration": 55,
    "start_time": "2022-02-08T07:36:00.592Z"
   },
   {
    "duration": 139,
    "start_time": "2022-02-08T07:36:00.651Z"
   },
   {
    "duration": 6,
    "start_time": "2022-02-08T07:36:00.793Z"
   },
   {
    "duration": 111,
    "start_time": "2022-02-08T07:36:00.801Z"
   },
   {
    "duration": 107,
    "start_time": "2022-02-08T07:36:00.914Z"
   },
   {
    "duration": 52,
    "start_time": "2022-02-08T07:36:01.024Z"
   },
   {
    "duration": 90,
    "start_time": "2022-02-08T07:36:01.078Z"
   },
   {
    "duration": 66,
    "start_time": "2022-02-08T07:36:01.171Z"
   },
   {
    "duration": 31,
    "start_time": "2022-02-08T07:36:01.240Z"
   },
   {
    "duration": 79,
    "start_time": "2022-02-08T07:36:01.274Z"
   },
   {
    "duration": 60,
    "start_time": "2022-02-08T07:36:01.356Z"
   },
   {
    "duration": 50,
    "start_time": "2022-02-08T07:36:01.419Z"
   },
   {
    "duration": 34,
    "start_time": "2022-02-08T07:36:01.472Z"
   },
   {
    "duration": 35,
    "start_time": "2022-02-08T07:36:01.534Z"
   },
   {
    "duration": 24,
    "start_time": "2022-02-08T07:36:01.572Z"
   },
   {
    "duration": 60,
    "start_time": "2022-02-08T07:36:01.599Z"
   },
   {
    "duration": 77,
    "start_time": "2022-02-08T07:36:01.661Z"
   },
   {
    "duration": 20,
    "start_time": "2022-02-08T07:36:01.741Z"
   },
   {
    "duration": 42,
    "start_time": "2022-02-08T07:36:01.764Z"
   },
   {
    "duration": 29,
    "start_time": "2022-02-08T07:36:01.833Z"
   },
   {
    "duration": 43,
    "start_time": "2022-02-08T07:36:01.864Z"
   },
   {
    "duration": 53,
    "start_time": "2022-02-08T07:36:01.909Z"
   },
   {
    "duration": 35,
    "start_time": "2022-02-08T07:36:01.964Z"
   },
   {
    "duration": 51,
    "start_time": "2022-02-08T07:36:02.001Z"
   },
   {
    "duration": 45,
    "start_time": "2022-02-08T07:39:39.273Z"
   },
   {
    "duration": 1850,
    "start_time": "2022-02-08T08:00:20.320Z"
   },
   {
    "duration": 619,
    "start_time": "2022-02-08T08:00:42.054Z"
   },
   {
    "duration": 590,
    "start_time": "2022-02-08T08:06:13.118Z"
   },
   {
    "duration": 521,
    "start_time": "2022-02-08T08:14:28.849Z"
   },
   {
    "duration": 94,
    "start_time": "2022-02-08T08:14:46.966Z"
   },
   {
    "duration": 19,
    "start_time": "2022-02-08T08:15:16.939Z"
   },
   {
    "duration": 227,
    "start_time": "2022-02-08T08:36:01.256Z"
   },
   {
    "duration": 100,
    "start_time": "2022-02-08T08:45:25.465Z"
   },
   {
    "duration": 288,
    "start_time": "2022-02-08T08:47:47.744Z"
   },
   {
    "duration": 221,
    "start_time": "2022-02-08T08:48:09.533Z"
   },
   {
    "duration": 106,
    "start_time": "2022-02-08T08:50:12.403Z"
   },
   {
    "duration": 262,
    "start_time": "2022-02-08T08:51:55.454Z"
   },
   {
    "duration": 9,
    "start_time": "2022-02-08T08:55:38.633Z"
   },
   {
    "duration": 41,
    "start_time": "2022-02-08T08:55:46.257Z"
   },
   {
    "duration": 1311,
    "start_time": "2022-02-08T08:57:22.277Z"
   },
   {
    "duration": 243,
    "start_time": "2022-02-08T08:57:23.591Z"
   },
   {
    "duration": 197,
    "start_time": "2022-02-08T08:57:23.837Z"
   },
   {
    "duration": 138,
    "start_time": "2022-02-08T08:57:24.037Z"
   },
   {
    "duration": 29,
    "start_time": "2022-02-08T08:57:24.177Z"
   },
   {
    "duration": 41,
    "start_time": "2022-02-08T08:57:24.208Z"
   },
   {
    "duration": 122,
    "start_time": "2022-02-08T08:57:24.251Z"
   },
   {
    "duration": 108,
    "start_time": "2022-02-08T08:57:24.377Z"
   },
   {
    "duration": 77,
    "start_time": "2022-02-08T08:57:24.488Z"
   },
   {
    "duration": 33,
    "start_time": "2022-02-08T08:57:24.568Z"
   },
   {
    "duration": 137,
    "start_time": "2022-02-08T08:57:24.603Z"
   },
   {
    "duration": 5,
    "start_time": "2022-02-08T08:57:24.743Z"
   },
   {
    "duration": 111,
    "start_time": "2022-02-08T08:57:24.751Z"
   },
   {
    "duration": 102,
    "start_time": "2022-02-08T08:57:24.864Z"
   },
   {
    "duration": 45,
    "start_time": "2022-02-08T08:57:24.968Z"
   },
   {
    "duration": 82,
    "start_time": "2022-02-08T08:57:25.016Z"
   },
   {
    "duration": 66,
    "start_time": "2022-02-08T08:57:25.100Z"
   },
   {
    "duration": 30,
    "start_time": "2022-02-08T08:57:25.168Z"
   },
   {
    "duration": 81,
    "start_time": "2022-02-08T08:57:25.201Z"
   },
   {
    "duration": 77,
    "start_time": "2022-02-08T08:57:25.285Z"
   },
   {
    "duration": 38,
    "start_time": "2022-02-08T08:57:25.364Z"
   },
   {
    "duration": 54,
    "start_time": "2022-02-08T08:57:25.404Z"
   },
   {
    "duration": 33,
    "start_time": "2022-02-08T08:57:25.463Z"
   },
   {
    "duration": 38,
    "start_time": "2022-02-08T08:57:25.499Z"
   },
   {
    "duration": 30,
    "start_time": "2022-02-08T08:57:25.540Z"
   },
   {
    "duration": 88,
    "start_time": "2022-02-08T08:57:25.573Z"
   },
   {
    "duration": 22,
    "start_time": "2022-02-08T08:57:25.663Z"
   },
   {
    "duration": 69,
    "start_time": "2022-02-08T08:57:25.687Z"
   },
   {
    "duration": 31,
    "start_time": "2022-02-08T08:57:25.759Z"
   },
   {
    "duration": 68,
    "start_time": "2022-02-08T08:57:25.793Z"
   },
   {
    "duration": 35,
    "start_time": "2022-02-08T08:57:25.864Z"
   },
   {
    "duration": 58,
    "start_time": "2022-02-08T08:57:25.901Z"
   },
   {
    "duration": 21,
    "start_time": "2022-02-08T08:57:25.962Z"
   },
   {
    "duration": 56,
    "start_time": "2022-02-08T08:57:25.985Z"
   },
   {
    "duration": 115,
    "start_time": "2022-02-08T08:57:26.044Z"
   },
   {
    "duration": 222,
    "start_time": "2022-02-08T08:57:26.161Z"
   },
   {
    "duration": 109,
    "start_time": "2022-02-08T08:57:26.386Z"
   },
   {
    "duration": 243,
    "start_time": "2022-02-08T08:57:26.498Z"
   },
   {
    "duration": 113,
    "start_time": "2022-02-08T08:57:26.743Z"
   },
   {
    "duration": 297,
    "start_time": "2022-02-08T08:57:26.859Z"
   },
   {
    "duration": 9,
    "start_time": "2022-02-08T08:57:27.158Z"
   },
   {
    "duration": 39,
    "start_time": "2022-02-08T08:57:27.170Z"
   },
   {
    "duration": 252,
    "start_time": "2022-02-08T09:09:54.193Z"
   },
   {
    "duration": 272,
    "start_time": "2022-02-08T09:10:48.734Z"
   },
   {
    "duration": 279,
    "start_time": "2022-02-08T09:11:36.615Z"
   },
   {
    "duration": 246,
    "start_time": "2022-02-08T09:12:13.988Z"
   },
   {
    "duration": 286,
    "start_time": "2022-02-08T09:13:03.829Z"
   },
   {
    "duration": 261,
    "start_time": "2022-02-08T09:13:27.439Z"
   },
   {
    "duration": 407,
    "start_time": "2022-02-08T09:16:53.996Z"
   },
   {
    "duration": 1322,
    "start_time": "2022-02-08T09:17:46.955Z"
   },
   {
    "duration": 231,
    "start_time": "2022-02-08T09:17:48.279Z"
   },
   {
    "duration": 205,
    "start_time": "2022-02-08T09:17:48.516Z"
   },
   {
    "duration": 136,
    "start_time": "2022-02-08T09:17:48.723Z"
   },
   {
    "duration": 29,
    "start_time": "2022-02-08T09:17:48.861Z"
   },
   {
    "duration": 45,
    "start_time": "2022-02-08T09:17:48.893Z"
   },
   {
    "duration": 120,
    "start_time": "2022-02-08T09:17:48.942Z"
   },
   {
    "duration": 106,
    "start_time": "2022-02-08T09:17:49.065Z"
   },
   {
    "duration": 79,
    "start_time": "2022-02-08T09:17:49.175Z"
   },
   {
    "duration": 36,
    "start_time": "2022-02-08T09:17:49.258Z"
   },
   {
    "duration": 149,
    "start_time": "2022-02-08T09:17:49.297Z"
   },
   {
    "duration": 5,
    "start_time": "2022-02-08T09:17:49.449Z"
   },
   {
    "duration": 113,
    "start_time": "2022-02-08T09:17:49.456Z"
   },
   {
    "duration": 98,
    "start_time": "2022-02-08T09:17:49.572Z"
   },
   {
    "duration": 45,
    "start_time": "2022-02-08T09:17:49.673Z"
   },
   {
    "duration": 73,
    "start_time": "2022-02-08T09:17:49.720Z"
   },
   {
    "duration": 70,
    "start_time": "2022-02-08T09:17:49.796Z"
   },
   {
    "duration": 32,
    "start_time": "2022-02-08T09:17:49.869Z"
   },
   {
    "duration": 78,
    "start_time": "2022-02-08T09:17:49.903Z"
   },
   {
    "duration": 69,
    "start_time": "2022-02-08T09:17:49.984Z"
   },
   {
    "duration": 53,
    "start_time": "2022-02-08T09:17:50.055Z"
   },
   {
    "duration": 49,
    "start_time": "2022-02-08T09:17:50.113Z"
   },
   {
    "duration": 34,
    "start_time": "2022-02-08T09:17:50.165Z"
   },
   {
    "duration": 47,
    "start_time": "2022-02-08T09:17:50.202Z"
   },
   {
    "duration": 33,
    "start_time": "2022-02-08T09:17:50.251Z"
   },
   {
    "duration": 84,
    "start_time": "2022-02-08T09:17:50.286Z"
   },
   {
    "duration": 19,
    "start_time": "2022-02-08T09:17:50.372Z"
   },
   {
    "duration": 60,
    "start_time": "2022-02-08T09:17:50.393Z"
   },
   {
    "duration": 26,
    "start_time": "2022-02-08T09:17:50.455Z"
   },
   {
    "duration": 59,
    "start_time": "2022-02-08T09:17:50.484Z"
   },
   {
    "duration": 32,
    "start_time": "2022-02-08T09:17:50.546Z"
   },
   {
    "duration": 58,
    "start_time": "2022-02-08T09:17:50.581Z"
   },
   {
    "duration": 21,
    "start_time": "2022-02-08T09:17:50.641Z"
   },
   {
    "duration": 39,
    "start_time": "2022-02-08T09:17:50.664Z"
   },
   {
    "duration": 118,
    "start_time": "2022-02-08T09:17:50.705Z"
   },
   {
    "duration": 226,
    "start_time": "2022-02-08T09:17:50.832Z"
   },
   {
    "duration": 104,
    "start_time": "2022-02-08T09:17:51.061Z"
   },
   {
    "duration": 223,
    "start_time": "2022-02-08T09:17:51.168Z"
   },
   {
    "duration": 119,
    "start_time": "2022-02-08T09:17:51.393Z"
   },
   {
    "duration": 244,
    "start_time": "2022-02-08T09:17:51.515Z"
   },
   {
    "duration": 8,
    "start_time": "2022-02-08T09:17:51.761Z"
   },
   {
    "duration": 60,
    "start_time": "2022-02-08T09:17:51.772Z"
   },
   {
    "duration": 268,
    "start_time": "2022-02-08T09:17:51.834Z"
   },
   {
    "duration": 8,
    "start_time": "2022-02-08T09:17:52.104Z"
   },
   {
    "duration": 291,
    "start_time": "2022-02-08T09:17:52.115Z"
   },
   {
    "duration": 294,
    "start_time": "2022-02-08T09:17:52.409Z"
   },
   {
    "duration": 280,
    "start_time": "2022-02-08T09:17:52.705Z"
   },
   {
    "duration": 362,
    "start_time": "2022-02-08T09:17:52.988Z"
   },
   {
    "duration": 291,
    "start_time": "2022-02-08T09:17:53.353Z"
   },
   {
    "duration": 9,
    "start_time": "2022-02-08T09:19:04.135Z"
   },
   {
    "duration": 10,
    "start_time": "2022-02-08T09:19:45.250Z"
   },
   {
    "duration": 11,
    "start_time": "2022-02-08T09:20:43.087Z"
   },
   {
    "duration": 8,
    "start_time": "2022-02-08T09:21:29.144Z"
   },
   {
    "duration": 9,
    "start_time": "2022-02-08T09:21:50.535Z"
   },
   {
    "duration": 672,
    "start_time": "2022-02-08T09:39:38.418Z"
   },
   {
    "duration": 543,
    "start_time": "2022-02-08T09:39:52.076Z"
   },
   {
    "duration": 233,
    "start_time": "2022-02-08T09:41:07.819Z"
   },
   {
    "duration": 224,
    "start_time": "2022-02-08T09:41:14.839Z"
   },
   {
    "duration": 235,
    "start_time": "2022-02-08T09:41:22.336Z"
   },
   {
    "duration": 524,
    "start_time": "2022-02-08T09:42:21.312Z"
   },
   {
    "duration": 252,
    "start_time": "2022-02-08T09:43:26.988Z"
   },
   {
    "duration": 210,
    "start_time": "2022-02-08T09:43:47.468Z"
   },
   {
    "duration": 410,
    "start_time": "2022-02-08T09:45:25.099Z"
   },
   {
    "duration": 326,
    "start_time": "2022-02-08T09:45:33.135Z"
   },
   {
    "duration": 652,
    "start_time": "2022-02-08T09:45:45.471Z"
   },
   {
    "duration": 533,
    "start_time": "2022-02-08T09:46:38.838Z"
   },
   {
    "duration": 531,
    "start_time": "2022-02-08T09:47:38.537Z"
   },
   {
    "duration": 534,
    "start_time": "2022-02-08T09:51:07.884Z"
   },
   {
    "duration": 558,
    "start_time": "2022-02-08T09:51:36.264Z"
   },
   {
    "duration": 533,
    "start_time": "2022-02-08T09:52:02.184Z"
   },
   {
    "duration": 635,
    "start_time": "2022-02-08T09:52:58.545Z"
   },
   {
    "duration": 537,
    "start_time": "2022-02-08T09:54:08.963Z"
   },
   {
    "duration": 908,
    "start_time": "2022-02-08T09:55:01.478Z"
   },
   {
    "duration": 1391,
    "start_time": "2022-02-08T10:15:59.913Z"
   },
   {
    "duration": 251,
    "start_time": "2022-02-08T10:16:01.307Z"
   },
   {
    "duration": 197,
    "start_time": "2022-02-08T10:16:01.564Z"
   },
   {
    "duration": 144,
    "start_time": "2022-02-08T10:16:01.763Z"
   },
   {
    "duration": 34,
    "start_time": "2022-02-08T10:16:01.910Z"
   },
   {
    "duration": 81,
    "start_time": "2022-02-08T10:16:01.947Z"
   },
   {
    "duration": 112,
    "start_time": "2022-02-08T10:16:02.032Z"
   },
   {
    "duration": 99,
    "start_time": "2022-02-08T10:16:02.147Z"
   },
   {
    "duration": 61,
    "start_time": "2022-02-08T10:16:02.248Z"
   },
   {
    "duration": 34,
    "start_time": "2022-02-08T10:16:02.332Z"
   },
   {
    "duration": 140,
    "start_time": "2022-02-08T10:16:02.368Z"
   },
   {
    "duration": 7,
    "start_time": "2022-02-08T10:16:02.511Z"
   },
   {
    "duration": 99,
    "start_time": "2022-02-08T10:16:02.520Z"
   },
   {
    "duration": 104,
    "start_time": "2022-02-08T10:16:02.633Z"
   },
   {
    "duration": 49,
    "start_time": "2022-02-08T10:16:02.740Z"
   },
   {
    "duration": 91,
    "start_time": "2022-02-08T10:16:02.792Z"
   },
   {
    "duration": 62,
    "start_time": "2022-02-08T10:16:02.885Z"
   },
   {
    "duration": 32,
    "start_time": "2022-02-08T10:16:02.950Z"
   },
   {
    "duration": 96,
    "start_time": "2022-02-08T10:16:02.984Z"
   },
   {
    "duration": 72,
    "start_time": "2022-02-08T10:16:03.083Z"
   },
   {
    "duration": 39,
    "start_time": "2022-02-08T10:16:03.157Z"
   },
   {
    "duration": 54,
    "start_time": "2022-02-08T10:16:03.201Z"
   },
   {
    "duration": 33,
    "start_time": "2022-02-08T10:16:03.259Z"
   },
   {
    "duration": 42,
    "start_time": "2022-02-08T10:16:03.295Z"
   },
   {
    "duration": 46,
    "start_time": "2022-02-08T10:16:03.340Z"
   },
   {
    "duration": 70,
    "start_time": "2022-02-08T10:16:03.388Z"
   },
   {
    "duration": 19,
    "start_time": "2022-02-08T10:16:03.461Z"
   },
   {
    "duration": 60,
    "start_time": "2022-02-08T10:16:03.482Z"
   },
   {
    "duration": 29,
    "start_time": "2022-02-08T10:16:03.544Z"
   },
   {
    "duration": 58,
    "start_time": "2022-02-08T10:16:03.575Z"
   },
   {
    "duration": 33,
    "start_time": "2022-02-08T10:16:03.636Z"
   },
   {
    "duration": 35,
    "start_time": "2022-02-08T10:16:03.671Z"
   },
   {
    "duration": 25,
    "start_time": "2022-02-08T10:16:03.733Z"
   },
   {
    "duration": 35,
    "start_time": "2022-02-08T10:16:03.761Z"
   },
   {
    "duration": 135,
    "start_time": "2022-02-08T10:16:03.799Z"
   },
   {
    "duration": 237,
    "start_time": "2022-02-08T10:16:03.937Z"
   },
   {
    "duration": 110,
    "start_time": "2022-02-08T10:16:04.176Z"
   },
   {
    "duration": 220,
    "start_time": "2022-02-08T10:16:04.289Z"
   },
   {
    "duration": 111,
    "start_time": "2022-02-08T10:16:04.511Z"
   },
   {
    "duration": 241,
    "start_time": "2022-02-08T10:16:04.624Z"
   },
   {
    "duration": 7,
    "start_time": "2022-02-08T10:16:04.867Z"
   },
   {
    "duration": 57,
    "start_time": "2022-02-08T10:16:04.877Z"
   },
   {
    "duration": 257,
    "start_time": "2022-02-08T10:16:04.936Z"
   },
   {
    "duration": 8,
    "start_time": "2022-02-08T10:16:05.195Z"
   },
   {
    "duration": 278,
    "start_time": "2022-02-08T10:16:05.205Z"
   },
   {
    "duration": 9,
    "start_time": "2022-02-08T10:16:05.486Z"
   },
   {
    "duration": 295,
    "start_time": "2022-02-08T10:16:05.497Z"
   },
   {
    "duration": 9,
    "start_time": "2022-02-08T10:16:05.794Z"
   },
   {
    "duration": 290,
    "start_time": "2022-02-08T10:16:05.806Z"
   },
   {
    "duration": 7,
    "start_time": "2022-02-08T10:16:06.099Z"
   },
   {
    "duration": 276,
    "start_time": "2022-02-08T10:16:06.109Z"
   },
   {
    "duration": 10,
    "start_time": "2022-02-08T10:16:06.388Z"
   },
   {
    "duration": 280,
    "start_time": "2022-02-08T10:16:06.401Z"
   },
   {
    "duration": 8,
    "start_time": "2022-02-08T10:16:06.683Z"
   },
   {
    "duration": 609,
    "start_time": "2022-02-08T10:16:06.693Z"
   },
   {
    "duration": 230,
    "start_time": "2022-02-08T10:16:07.304Z"
   },
   {
    "duration": 557,
    "start_time": "2022-02-08T10:16:07.537Z"
   },
   {
    "duration": 553,
    "start_time": "2022-02-08T10:16:08.096Z"
   },
   {
    "duration": 252,
    "start_time": "2022-02-08T10:16:08.652Z"
   },
   {
    "duration": 541,
    "start_time": "2022-02-08T10:16:08.907Z"
   },
   {
    "duration": 1375,
    "start_time": "2022-02-08T11:52:37.310Z"
   },
   {
    "duration": 244,
    "start_time": "2022-02-08T11:52:38.688Z"
   },
   {
    "duration": 199,
    "start_time": "2022-02-08T11:52:38.937Z"
   },
   {
    "duration": 138,
    "start_time": "2022-02-08T11:52:39.139Z"
   },
   {
    "duration": 29,
    "start_time": "2022-02-08T11:52:39.280Z"
   },
   {
    "duration": 42,
    "start_time": "2022-02-08T11:52:39.311Z"
   },
   {
    "duration": 127,
    "start_time": "2022-02-08T11:52:39.355Z"
   },
   {
    "duration": 108,
    "start_time": "2022-02-08T11:52:39.486Z"
   },
   {
    "duration": 89,
    "start_time": "2022-02-08T11:52:39.597Z"
   },
   {
    "duration": 59,
    "start_time": "2022-02-08T11:52:39.689Z"
   },
   {
    "duration": 133,
    "start_time": "2022-02-08T11:52:39.751Z"
   },
   {
    "duration": 5,
    "start_time": "2022-02-08T11:52:39.887Z"
   },
   {
    "duration": 112,
    "start_time": "2022-02-08T11:52:39.894Z"
   },
   {
    "duration": 108,
    "start_time": "2022-02-08T11:52:40.009Z"
   },
   {
    "duration": 47,
    "start_time": "2022-02-08T11:52:40.119Z"
   },
   {
    "duration": 85,
    "start_time": "2022-02-08T11:52:40.169Z"
   },
   {
    "duration": 53,
    "start_time": "2022-02-08T11:52:40.257Z"
   },
   {
    "duration": 48,
    "start_time": "2022-02-08T11:52:40.312Z"
   },
   {
    "duration": 79,
    "start_time": "2022-02-08T11:52:40.362Z"
   },
   {
    "duration": 58,
    "start_time": "2022-02-08T11:52:40.443Z"
   },
   {
    "duration": 54,
    "start_time": "2022-02-08T11:52:40.503Z"
   },
   {
    "duration": 31,
    "start_time": "2022-02-08T11:52:40.560Z"
   },
   {
    "duration": 59,
    "start_time": "2022-02-08T11:52:40.597Z"
   },
   {
    "duration": 21,
    "start_time": "2022-02-08T11:52:40.659Z"
   },
   {
    "duration": 58,
    "start_time": "2022-02-08T11:52:40.682Z"
   },
   {
    "duration": 63,
    "start_time": "2022-02-08T11:52:40.743Z"
   },
   {
    "duration": 37,
    "start_time": "2022-02-08T11:52:40.809Z"
   },
   {
    "duration": 43,
    "start_time": "2022-02-08T11:52:40.849Z"
   },
   {
    "duration": 55,
    "start_time": "2022-02-08T11:52:40.895Z"
   },
   {
    "duration": 43,
    "start_time": "2022-02-08T11:52:40.953Z"
   },
   {
    "duration": 61,
    "start_time": "2022-02-08T11:52:40.999Z"
   },
   {
    "duration": 36,
    "start_time": "2022-02-08T11:52:41.063Z"
   },
   {
    "duration": 49,
    "start_time": "2022-02-08T11:52:41.102Z"
   },
   {
    "duration": 33,
    "start_time": "2022-02-08T11:52:41.154Z"
   },
   {
    "duration": 131,
    "start_time": "2022-02-08T11:52:41.190Z"
   },
   {
    "duration": 255,
    "start_time": "2022-02-08T11:52:41.324Z"
   },
   {
    "duration": 108,
    "start_time": "2022-02-08T11:52:41.582Z"
   },
   {
    "duration": 237,
    "start_time": "2022-02-08T11:52:41.693Z"
   },
   {
    "duration": 138,
    "start_time": "2022-02-08T11:52:41.932Z"
   },
   {
    "duration": 248,
    "start_time": "2022-02-08T11:52:42.072Z"
   },
   {
    "duration": 12,
    "start_time": "2022-02-08T11:52:42.323Z"
   },
   {
    "duration": 41,
    "start_time": "2022-02-08T11:52:42.338Z"
   },
   {
    "duration": 289,
    "start_time": "2022-02-08T11:52:42.381Z"
   },
   {
    "duration": 9,
    "start_time": "2022-02-08T11:52:42.672Z"
   },
   {
    "duration": 313,
    "start_time": "2022-02-08T11:52:42.683Z"
   },
   {
    "duration": 8,
    "start_time": "2022-02-08T11:52:42.999Z"
   },
   {
    "duration": 331,
    "start_time": "2022-02-08T11:52:43.010Z"
   },
   {
    "duration": 8,
    "start_time": "2022-02-08T11:52:43.344Z"
   },
   {
    "duration": 295,
    "start_time": "2022-02-08T11:52:43.354Z"
   },
   {
    "duration": 8,
    "start_time": "2022-02-08T11:52:43.651Z"
   },
   {
    "duration": 277,
    "start_time": "2022-02-08T11:52:43.662Z"
   },
   {
    "duration": 9,
    "start_time": "2022-02-08T11:52:43.942Z"
   },
   {
    "duration": 302,
    "start_time": "2022-02-08T11:52:43.954Z"
   },
   {
    "duration": 9,
    "start_time": "2022-02-08T11:52:44.259Z"
   },
   {
    "duration": 630,
    "start_time": "2022-02-08T11:52:44.270Z"
   },
   {
    "duration": 238,
    "start_time": "2022-02-08T11:52:44.903Z"
   },
   {
    "duration": 600,
    "start_time": "2022-02-08T11:52:45.144Z"
   },
   {
    "duration": 612,
    "start_time": "2022-02-08T11:52:45.746Z"
   },
   {
    "duration": 251,
    "start_time": "2022-02-08T11:52:46.361Z"
   },
   {
    "duration": 562,
    "start_time": "2022-02-08T11:52:46.615Z"
   },
   {
    "duration": 1356,
    "start_time": "2022-02-08T12:34:12.900Z"
   },
   {
    "duration": 240,
    "start_time": "2022-02-08T12:34:14.259Z"
   },
   {
    "duration": 214,
    "start_time": "2022-02-08T12:34:14.507Z"
   },
   {
    "duration": 141,
    "start_time": "2022-02-08T12:34:14.732Z"
   },
   {
    "duration": 28,
    "start_time": "2022-02-08T12:34:14.875Z"
   },
   {
    "duration": 46,
    "start_time": "2022-02-08T12:34:14.906Z"
   },
   {
    "duration": 124,
    "start_time": "2022-02-08T12:34:14.956Z"
   },
   {
    "duration": 108,
    "start_time": "2022-02-08T12:34:15.082Z"
   },
   {
    "duration": 75,
    "start_time": "2022-02-08T12:34:15.193Z"
   },
   {
    "duration": 31,
    "start_time": "2022-02-08T12:34:15.270Z"
   },
   {
    "duration": 132,
    "start_time": "2022-02-08T12:34:15.303Z"
   },
   {
    "duration": 7,
    "start_time": "2022-02-08T12:34:15.438Z"
   },
   {
    "duration": 108,
    "start_time": "2022-02-08T12:34:15.447Z"
   },
   {
    "duration": 104,
    "start_time": "2022-02-08T12:34:15.557Z"
   },
   {
    "duration": 46,
    "start_time": "2022-02-08T12:34:15.663Z"
   },
   {
    "duration": 83,
    "start_time": "2022-02-08T12:34:15.711Z"
   },
   {
    "duration": 62,
    "start_time": "2022-02-08T12:34:15.796Z"
   },
   {
    "duration": 32,
    "start_time": "2022-02-08T12:34:15.861Z"
   },
   {
    "duration": 87,
    "start_time": "2022-02-08T12:34:15.895Z"
   },
   {
    "duration": 67,
    "start_time": "2022-02-08T12:34:15.984Z"
   },
   {
    "duration": 39,
    "start_time": "2022-02-08T12:34:16.054Z"
   },
   {
    "duration": 55,
    "start_time": "2022-02-08T12:34:16.101Z"
   },
   {
    "duration": 37,
    "start_time": "2022-02-08T12:34:16.161Z"
   },
   {
    "duration": 48,
    "start_time": "2022-02-08T12:34:16.201Z"
   },
   {
    "duration": 32,
    "start_time": "2022-02-08T12:34:16.252Z"
   },
   {
    "duration": 87,
    "start_time": "2022-02-08T12:34:16.286Z"
   },
   {
    "duration": 21,
    "start_time": "2022-02-08T12:34:16.375Z"
   },
   {
    "duration": 60,
    "start_time": "2022-02-08T12:34:16.398Z"
   },
   {
    "duration": 26,
    "start_time": "2022-02-08T12:34:16.460Z"
   },
   {
    "duration": 65,
    "start_time": "2022-02-08T12:34:16.488Z"
   },
   {
    "duration": 32,
    "start_time": "2022-02-08T12:34:16.555Z"
   },
   {
    "duration": 53,
    "start_time": "2022-02-08T12:34:16.589Z"
   },
   {
    "duration": 21,
    "start_time": "2022-02-08T12:34:16.645Z"
   },
   {
    "duration": 30,
    "start_time": "2022-02-08T12:34:16.668Z"
   },
   {
    "duration": 132,
    "start_time": "2022-02-08T12:34:16.700Z"
   },
   {
    "duration": 227,
    "start_time": "2022-02-08T12:34:16.834Z"
   },
   {
    "duration": 105,
    "start_time": "2022-02-08T12:34:17.064Z"
   },
   {
    "duration": 236,
    "start_time": "2022-02-08T12:34:17.172Z"
   },
   {
    "duration": 114,
    "start_time": "2022-02-08T12:34:17.410Z"
   },
   {
    "duration": 270,
    "start_time": "2022-02-08T12:34:17.527Z"
   },
   {
    "duration": 8,
    "start_time": "2022-02-08T12:34:17.800Z"
   },
   {
    "duration": 55,
    "start_time": "2022-02-08T12:34:17.812Z"
   },
   {
    "duration": 277,
    "start_time": "2022-02-08T12:34:17.870Z"
   },
   {
    "duration": 8,
    "start_time": "2022-02-08T12:34:18.149Z"
   },
   {
    "duration": 301,
    "start_time": "2022-02-08T12:34:18.159Z"
   },
   {
    "duration": 9,
    "start_time": "2022-02-08T12:34:18.463Z"
   },
   {
    "duration": 300,
    "start_time": "2022-02-08T12:34:18.474Z"
   },
   {
    "duration": 9,
    "start_time": "2022-02-08T12:34:18.777Z"
   },
   {
    "duration": 299,
    "start_time": "2022-02-08T12:34:18.788Z"
   },
   {
    "duration": 8,
    "start_time": "2022-02-08T12:34:19.090Z"
   },
   {
    "duration": 273,
    "start_time": "2022-02-08T12:34:19.101Z"
   },
   {
    "duration": 10,
    "start_time": "2022-02-08T12:34:19.377Z"
   },
   {
    "duration": 282,
    "start_time": "2022-02-08T12:34:19.390Z"
   },
   {
    "duration": 10,
    "start_time": "2022-02-08T12:34:19.676Z"
   },
   {
    "duration": 614,
    "start_time": "2022-02-08T12:34:19.688Z"
   },
   {
    "duration": 224,
    "start_time": "2022-02-08T12:34:20.305Z"
   },
   {
    "duration": 566,
    "start_time": "2022-02-08T12:34:20.532Z"
   },
   {
    "duration": 554,
    "start_time": "2022-02-08T12:34:21.102Z"
   },
   {
    "duration": 251,
    "start_time": "2022-02-08T12:34:21.659Z"
   },
   {
    "duration": 549,
    "start_time": "2022-02-08T12:34:21.912Z"
   },
   {
    "duration": 255,
    "start_time": "2022-02-08T13:18:22.894Z"
   },
   {
    "duration": 9,
    "start_time": "2022-02-08T13:20:59.886Z"
   },
   {
    "duration": 10,
    "start_time": "2022-02-08T13:22:27.989Z"
   },
   {
    "duration": 7642,
    "start_time": "2022-02-08T13:25:15.455Z"
   },
   {
    "duration": 10,
    "start_time": "2022-02-08T13:25:43.234Z"
   },
   {
    "duration": 10,
    "start_time": "2022-02-08T13:26:19.091Z"
   },
   {
    "duration": 10,
    "start_time": "2022-02-08T13:32:19.907Z"
   },
   {
    "duration": 8,
    "start_time": "2022-02-08T13:33:38.885Z"
   },
   {
    "duration": 11,
    "start_time": "2022-02-08T13:35:28.624Z"
   },
   {
    "duration": 1332,
    "start_time": "2022-02-08T14:14:44.264Z"
   },
   {
    "duration": 227,
    "start_time": "2022-02-08T14:14:45.598Z"
   },
   {
    "duration": 207,
    "start_time": "2022-02-08T14:14:45.834Z"
   },
   {
    "duration": 141,
    "start_time": "2022-02-08T14:14:46.044Z"
   },
   {
    "duration": 25,
    "start_time": "2022-02-08T14:14:46.188Z"
   },
   {
    "duration": 38,
    "start_time": "2022-02-08T14:14:46.232Z"
   },
   {
    "duration": 119,
    "start_time": "2022-02-08T14:14:46.272Z"
   },
   {
    "duration": 105,
    "start_time": "2022-02-08T14:14:46.395Z"
   },
   {
    "duration": 75,
    "start_time": "2022-02-08T14:14:46.503Z"
   },
   {
    "duration": 32,
    "start_time": "2022-02-08T14:14:46.581Z"
   },
   {
    "duration": 124,
    "start_time": "2022-02-08T14:14:46.633Z"
   },
   {
    "duration": 6,
    "start_time": "2022-02-08T14:14:46.759Z"
   },
   {
    "duration": 109,
    "start_time": "2022-02-08T14:14:46.767Z"
   },
   {
    "duration": 105,
    "start_time": "2022-02-08T14:14:46.878Z"
   },
   {
    "duration": 57,
    "start_time": "2022-02-08T14:14:46.985Z"
   },
   {
    "duration": 64,
    "start_time": "2022-02-08T14:14:47.044Z"
   },
   {
    "duration": 62,
    "start_time": "2022-02-08T14:14:47.110Z"
   },
   {
    "duration": 30,
    "start_time": "2022-02-08T14:14:47.175Z"
   },
   {
    "duration": 90,
    "start_time": "2022-02-08T14:14:47.208Z"
   },
   {
    "duration": 81,
    "start_time": "2022-02-08T14:14:47.300Z"
   },
   {
    "duration": 52,
    "start_time": "2022-02-08T14:14:47.384Z"
   },
   {
    "duration": 35,
    "start_time": "2022-02-08T14:14:47.439Z"
   },
   {
    "duration": 58,
    "start_time": "2022-02-08T14:14:47.480Z"
   },
   {
    "duration": 22,
    "start_time": "2022-02-08T14:14:47.541Z"
   },
   {
    "duration": 38,
    "start_time": "2022-02-08T14:14:47.566Z"
   },
   {
    "duration": 77,
    "start_time": "2022-02-08T14:14:47.606Z"
   },
   {
    "duration": 21,
    "start_time": "2022-02-08T14:14:47.686Z"
   },
   {
    "duration": 61,
    "start_time": "2022-02-08T14:14:47.709Z"
   },
   {
    "duration": 28,
    "start_time": "2022-02-08T14:14:47.773Z"
   },
   {
    "duration": 72,
    "start_time": "2022-02-08T14:14:47.804Z"
   },
   {
    "duration": 54,
    "start_time": "2022-02-08T14:14:47.878Z"
   },
   {
    "duration": 33,
    "start_time": "2022-02-08T14:14:47.934Z"
   },
   {
    "duration": 8,
    "start_time": "2022-02-08T14:14:47.969Z"
   },
   {
    "duration": 59,
    "start_time": "2022-02-08T14:14:47.980Z"
   },
   {
    "duration": 108,
    "start_time": "2022-02-08T14:14:48.042Z"
   },
   {
    "duration": 233,
    "start_time": "2022-02-08T14:14:48.152Z"
   },
   {
    "duration": 119,
    "start_time": "2022-02-08T14:14:48.388Z"
   },
   {
    "duration": 227,
    "start_time": "2022-02-08T14:14:48.509Z"
   },
   {
    "duration": 120,
    "start_time": "2022-02-08T14:14:48.738Z"
   },
   {
    "duration": 281,
    "start_time": "2022-02-08T14:14:48.860Z"
   },
   {
    "duration": 10,
    "start_time": "2022-02-08T14:14:49.144Z"
   },
   {
    "duration": 49,
    "start_time": "2022-02-08T14:14:49.157Z"
   },
   {
    "duration": 295,
    "start_time": "2022-02-08T14:14:49.209Z"
   },
   {
    "duration": 9,
    "start_time": "2022-02-08T14:14:49.507Z"
   },
   {
    "duration": 303,
    "start_time": "2022-02-08T14:14:49.518Z"
   },
   {
    "duration": 14,
    "start_time": "2022-02-08T14:14:49.824Z"
   },
   {
    "duration": 320,
    "start_time": "2022-02-08T14:14:49.840Z"
   },
   {
    "duration": 8,
    "start_time": "2022-02-08T14:14:50.163Z"
   },
   {
    "duration": 302,
    "start_time": "2022-02-08T14:14:50.173Z"
   },
   {
    "duration": 9,
    "start_time": "2022-02-08T14:14:50.477Z"
   },
   {
    "duration": 282,
    "start_time": "2022-02-08T14:14:50.489Z"
   },
   {
    "duration": 9,
    "start_time": "2022-02-08T14:14:50.774Z"
   },
   {
    "duration": 420,
    "start_time": "2022-02-08T14:14:50.786Z"
   },
   {
    "duration": 25,
    "start_time": "2022-02-08T14:14:51.209Z"
   },
   {
    "duration": 936,
    "start_time": "2022-02-08T14:14:51.237Z"
   },
   {
    "duration": 242,
    "start_time": "2022-02-08T14:14:52.176Z"
   },
   {
    "duration": 646,
    "start_time": "2022-02-08T14:14:52.421Z"
   },
   {
    "duration": 552,
    "start_time": "2022-02-08T14:14:53.070Z"
   },
   {
    "duration": 253,
    "start_time": "2022-02-08T14:14:53.624Z"
   },
   {
    "duration": 580,
    "start_time": "2022-02-08T14:14:53.880Z"
   },
   {
    "duration": 1500,
    "start_time": "2022-02-08T15:12:41.698Z"
   },
   {
    "duration": 243,
    "start_time": "2022-02-08T15:12:43.201Z"
   },
   {
    "duration": 214,
    "start_time": "2022-02-08T15:12:43.452Z"
   },
   {
    "duration": 145,
    "start_time": "2022-02-08T15:12:43.668Z"
   },
   {
    "duration": 33,
    "start_time": "2022-02-08T15:12:43.816Z"
   },
   {
    "duration": 37,
    "start_time": "2022-02-08T15:12:43.851Z"
   },
   {
    "duration": 143,
    "start_time": "2022-02-08T15:12:43.893Z"
   },
   {
    "duration": 105,
    "start_time": "2022-02-08T15:12:44.039Z"
   },
   {
    "duration": 62,
    "start_time": "2022-02-08T15:12:44.146Z"
   },
   {
    "duration": 53,
    "start_time": "2022-02-08T15:12:44.210Z"
   },
   {
    "duration": 141,
    "start_time": "2022-02-08T15:12:44.266Z"
   },
   {
    "duration": 6,
    "start_time": "2022-02-08T15:12:44.411Z"
   },
   {
    "duration": 102,
    "start_time": "2022-02-08T15:12:44.431Z"
   },
   {
    "duration": 102,
    "start_time": "2022-02-08T15:12:44.536Z"
   },
   {
    "duration": 48,
    "start_time": "2022-02-08T15:12:44.640Z"
   },
   {
    "duration": 91,
    "start_time": "2022-02-08T15:12:44.690Z"
   },
   {
    "duration": 64,
    "start_time": "2022-02-08T15:12:44.783Z"
   },
   {
    "duration": 33,
    "start_time": "2022-02-08T15:12:44.850Z"
   },
   {
    "duration": 91,
    "start_time": "2022-02-08T15:12:44.886Z"
   },
   {
    "duration": 72,
    "start_time": "2022-02-08T15:12:44.980Z"
   },
   {
    "duration": 40,
    "start_time": "2022-02-08T15:12:45.055Z"
   },
   {
    "duration": 54,
    "start_time": "2022-02-08T15:12:45.101Z"
   },
   {
    "duration": 39,
    "start_time": "2022-02-08T15:12:45.158Z"
   },
   {
    "duration": 44,
    "start_time": "2022-02-08T15:12:45.199Z"
   },
   {
    "duration": 37,
    "start_time": "2022-02-08T15:12:45.245Z"
   },
   {
    "duration": 89,
    "start_time": "2022-02-08T15:12:45.284Z"
   },
   {
    "duration": 20,
    "start_time": "2022-02-08T15:12:45.376Z"
   },
   {
    "duration": 61,
    "start_time": "2022-02-08T15:12:45.399Z"
   },
   {
    "duration": 28,
    "start_time": "2022-02-08T15:12:45.463Z"
   },
   {
    "duration": 65,
    "start_time": "2022-02-08T15:12:45.494Z"
   },
   {
    "duration": 32,
    "start_time": "2022-02-08T15:12:45.561Z"
   },
   {
    "duration": 66,
    "start_time": "2022-02-08T15:12:45.595Z"
   },
   {
    "duration": 13,
    "start_time": "2022-02-08T15:12:45.664Z"
   },
   {
    "duration": 52,
    "start_time": "2022-02-08T15:12:45.680Z"
   },
   {
    "duration": 116,
    "start_time": "2022-02-08T15:12:45.735Z"
   },
   {
    "duration": 247,
    "start_time": "2022-02-08T15:12:45.853Z"
   },
   {
    "duration": 107,
    "start_time": "2022-02-08T15:12:46.103Z"
   },
   {
    "duration": 244,
    "start_time": "2022-02-08T15:12:46.212Z"
   },
   {
    "duration": 135,
    "start_time": "2022-02-08T15:12:46.459Z"
   },
   {
    "duration": 250,
    "start_time": "2022-02-08T15:12:46.597Z"
   },
   {
    "duration": 8,
    "start_time": "2022-02-08T15:12:46.850Z"
   },
   {
    "duration": 45,
    "start_time": "2022-02-08T15:12:46.861Z"
   },
   {
    "duration": 391,
    "start_time": "2022-02-08T15:12:46.909Z"
   },
   {
    "duration": 10,
    "start_time": "2022-02-08T15:12:47.302Z"
   },
   {
    "duration": 416,
    "start_time": "2022-02-08T15:12:47.333Z"
   },
   {
    "duration": 10,
    "start_time": "2022-02-08T15:12:47.752Z"
   },
   {
    "duration": 334,
    "start_time": "2022-02-08T15:12:47.764Z"
   },
   {
    "duration": 10,
    "start_time": "2022-02-08T15:12:48.101Z"
   },
   {
    "duration": 297,
    "start_time": "2022-02-08T15:12:48.113Z"
   },
   {
    "duration": 22,
    "start_time": "2022-02-08T15:12:48.413Z"
   },
   {
    "duration": 299,
    "start_time": "2022-02-08T15:12:48.438Z"
   },
   {
    "duration": 11,
    "start_time": "2022-02-08T15:12:48.740Z"
   },
   {
    "duration": 332,
    "start_time": "2022-02-08T15:12:48.753Z"
   },
   {
    "duration": 9,
    "start_time": "2022-02-08T15:12:49.087Z"
   },
   {
    "duration": 823,
    "start_time": "2022-02-08T15:12:49.098Z"
   },
   {
    "duration": 244,
    "start_time": "2022-02-08T15:12:49.923Z"
   },
   {
    "duration": 591,
    "start_time": "2022-02-08T15:12:50.169Z"
   },
   {
    "duration": 695,
    "start_time": "2022-02-08T15:12:50.762Z"
   },
   {
    "duration": 266,
    "start_time": "2022-02-08T15:12:51.459Z"
   },
   {
    "duration": 842,
    "start_time": "2022-02-08T15:12:51.734Z"
   },
   {
    "duration": 306,
    "start_time": "2022-02-08T20:37:59.191Z"
   },
   {
    "duration": 282,
    "start_time": "2022-02-08T20:39:36.486Z"
   },
   {
    "duration": 1347,
    "start_time": "2022-02-08T20:40:40.033Z"
   },
   {
    "duration": 164,
    "start_time": "2022-02-08T20:40:41.382Z"
   },
   {
    "duration": 129,
    "start_time": "2022-02-08T20:40:41.548Z"
   },
   {
    "duration": 92,
    "start_time": "2022-02-08T20:40:41.679Z"
   },
   {
    "duration": 22,
    "start_time": "2022-02-08T20:40:41.772Z"
   },
   {
    "duration": 33,
    "start_time": "2022-02-08T20:40:41.796Z"
   },
   {
    "duration": 70,
    "start_time": "2022-02-08T20:40:41.831Z"
   },
   {
    "duration": 71,
    "start_time": "2022-02-08T20:40:41.903Z"
   },
   {
    "duration": 40,
    "start_time": "2022-02-08T20:40:41.975Z"
   },
   {
    "duration": 27,
    "start_time": "2022-02-08T20:40:42.016Z"
   },
   {
    "duration": 64,
    "start_time": "2022-02-08T20:40:42.045Z"
   },
   {
    "duration": 17,
    "start_time": "2022-02-08T20:40:42.110Z"
   },
   {
    "duration": 57,
    "start_time": "2022-02-08T20:40:42.128Z"
   },
   {
    "duration": 74,
    "start_time": "2022-02-08T20:40:42.187Z"
   },
   {
    "duration": 27,
    "start_time": "2022-02-08T20:40:42.263Z"
   },
   {
    "duration": 50,
    "start_time": "2022-02-08T20:40:42.291Z"
   },
   {
    "duration": 30,
    "start_time": "2022-02-08T20:40:42.342Z"
   },
   {
    "duration": 19,
    "start_time": "2022-02-08T20:40:42.373Z"
   },
   {
    "duration": 53,
    "start_time": "2022-02-08T20:40:42.393Z"
   },
   {
    "duration": 36,
    "start_time": "2022-02-08T20:40:42.448Z"
   },
   {
    "duration": 23,
    "start_time": "2022-02-08T20:40:42.485Z"
   },
   {
    "duration": 31,
    "start_time": "2022-02-08T20:40:42.509Z"
   },
   {
    "duration": 18,
    "start_time": "2022-02-08T20:40:42.543Z"
   },
   {
    "duration": 13,
    "start_time": "2022-02-08T20:40:42.563Z"
   },
   {
    "duration": 21,
    "start_time": "2022-02-08T20:40:42.577Z"
   },
   {
    "duration": 56,
    "start_time": "2022-02-08T20:40:42.600Z"
   },
   {
    "duration": 11,
    "start_time": "2022-02-08T20:40:42.657Z"
   },
   {
    "duration": 24,
    "start_time": "2022-02-08T20:40:42.669Z"
   },
   {
    "duration": 32,
    "start_time": "2022-02-08T20:40:42.695Z"
   },
   {
    "duration": 25,
    "start_time": "2022-02-08T20:40:42.729Z"
   },
   {
    "duration": 18,
    "start_time": "2022-02-08T20:40:42.755Z"
   },
   {
    "duration": 19,
    "start_time": "2022-02-08T20:40:42.775Z"
   },
   {
    "duration": 4,
    "start_time": "2022-02-08T20:40:42.796Z"
   },
   {
    "duration": 18,
    "start_time": "2022-02-08T20:40:42.827Z"
   },
   {
    "duration": 43,
    "start_time": "2022-02-08T20:40:42.846Z"
   },
   {
    "duration": 117,
    "start_time": "2022-02-08T20:40:42.891Z"
   },
   {
    "duration": 50,
    "start_time": "2022-02-08T20:40:43.010Z"
   },
   {
    "duration": 107,
    "start_time": "2022-02-08T20:40:43.062Z"
   },
   {
    "duration": 49,
    "start_time": "2022-02-08T20:40:43.171Z"
   },
   {
    "duration": 111,
    "start_time": "2022-02-08T20:40:43.227Z"
   },
   {
    "duration": 5,
    "start_time": "2022-02-08T20:40:43.339Z"
   },
   {
    "duration": 24,
    "start_time": "2022-02-08T20:40:43.345Z"
   },
   {
    "duration": 147,
    "start_time": "2022-02-08T20:40:43.371Z"
   },
   {
    "duration": 11,
    "start_time": "2022-02-08T20:40:43.519Z"
   },
   {
    "duration": 144,
    "start_time": "2022-02-08T20:40:43.531Z"
   },
   {
    "duration": 6,
    "start_time": "2022-02-08T20:40:43.676Z"
   },
   {
    "duration": 155,
    "start_time": "2022-02-08T20:40:43.683Z"
   },
   {
    "duration": 6,
    "start_time": "2022-02-08T20:40:43.839Z"
   },
   {
    "duration": 156,
    "start_time": "2022-02-08T20:40:43.846Z"
   },
   {
    "duration": 5,
    "start_time": "2022-02-08T20:40:44.004Z"
   },
   {
    "duration": 147,
    "start_time": "2022-02-08T20:40:44.011Z"
   },
   {
    "duration": 5,
    "start_time": "2022-02-08T20:40:44.160Z"
   },
   {
    "duration": 155,
    "start_time": "2022-02-08T20:40:44.167Z"
   },
   {
    "duration": 7,
    "start_time": "2022-02-08T20:40:44.323Z"
   },
   {
    "duration": 331,
    "start_time": "2022-02-08T20:40:44.331Z"
   },
   {
    "duration": 112,
    "start_time": "2022-02-08T20:40:44.664Z"
   },
   {
    "duration": 294,
    "start_time": "2022-02-08T20:40:44.778Z"
   },
   {
    "duration": 278,
    "start_time": "2022-02-08T20:40:45.073Z"
   },
   {
    "duration": 127,
    "start_time": "2022-02-08T20:40:45.352Z"
   },
   {
    "duration": 276,
    "start_time": "2022-02-08T20:40:45.480Z"
   },
   {
    "duration": 490,
    "start_time": "2022-02-08T20:40:45.757Z"
   },
   {
    "duration": 5,
    "start_time": "2022-02-08T20:41:01.079Z"
   },
   {
    "duration": 360,
    "start_time": "2022-02-08T20:41:30.664Z"
   },
   {
    "duration": 5,
    "start_time": "2022-02-08T20:42:01.391Z"
   },
   {
    "duration": 121,
    "start_time": "2022-02-08T20:50:15.138Z"
   },
   {
    "duration": 87,
    "start_time": "2022-02-08T20:50:46.344Z"
   },
   {
    "duration": 74,
    "start_time": "2022-02-08T20:52:28.549Z"
   },
   {
    "duration": 26,
    "start_time": "2022-02-08T20:52:30.588Z"
   },
   {
    "duration": 7047,
    "start_time": "2022-02-08T20:56:36.753Z"
   },
   {
    "duration": 305,
    "start_time": "2022-02-08T20:57:10.328Z"
   },
   {
    "duration": 276,
    "start_time": "2022-02-08T20:57:36.662Z"
   },
   {
    "duration": 6,
    "start_time": "2022-02-08T20:57:46.590Z"
   },
   {
    "duration": 5,
    "start_time": "2022-02-08T20:59:20.950Z"
   },
   {
    "duration": 972,
    "start_time": "2022-02-08T20:59:46.224Z"
   },
   {
    "duration": 158,
    "start_time": "2022-02-08T20:59:47.197Z"
   },
   {
    "duration": 130,
    "start_time": "2022-02-08T20:59:47.357Z"
   },
   {
    "duration": 94,
    "start_time": "2022-02-08T20:59:47.489Z"
   },
   {
    "duration": 22,
    "start_time": "2022-02-08T20:59:47.584Z"
   },
   {
    "duration": 34,
    "start_time": "2022-02-08T20:59:47.608Z"
   },
   {
    "duration": 73,
    "start_time": "2022-02-08T20:59:47.643Z"
   },
   {
    "duration": 64,
    "start_time": "2022-02-08T20:59:47.718Z"
   },
   {
    "duration": 52,
    "start_time": "2022-02-08T20:59:47.784Z"
   },
   {
    "duration": 20,
    "start_time": "2022-02-08T20:59:47.837Z"
   },
   {
    "duration": 79,
    "start_time": "2022-02-08T20:59:47.858Z"
   },
   {
    "duration": 3,
    "start_time": "2022-02-08T20:59:47.939Z"
   },
   {
    "duration": 61,
    "start_time": "2022-02-08T20:59:47.944Z"
   },
   {
    "duration": 79,
    "start_time": "2022-02-08T20:59:48.006Z"
   },
   {
    "duration": 28,
    "start_time": "2022-02-08T20:59:48.087Z"
   },
   {
    "duration": 45,
    "start_time": "2022-02-08T20:59:48.117Z"
   },
   {
    "duration": 33,
    "start_time": "2022-02-08T20:59:48.164Z"
   },
   {
    "duration": 41,
    "start_time": "2022-02-08T20:59:48.198Z"
   },
   {
    "duration": 40,
    "start_time": "2022-02-08T20:59:48.241Z"
   },
   {
    "duration": 58,
    "start_time": "2022-02-08T20:59:48.282Z"
   },
   {
    "duration": 22,
    "start_time": "2022-02-08T20:59:48.341Z"
   },
   {
    "duration": 18,
    "start_time": "2022-02-08T20:59:48.364Z"
   },
   {
    "duration": 40,
    "start_time": "2022-02-08T20:59:48.386Z"
   },
   {
    "duration": 12,
    "start_time": "2022-02-08T20:59:48.428Z"
   },
   {
    "duration": 21,
    "start_time": "2022-02-08T20:59:48.441Z"
   },
   {
    "duration": 37,
    "start_time": "2022-02-08T20:59:48.463Z"
   },
   {
    "duration": 11,
    "start_time": "2022-02-08T20:59:48.501Z"
   },
   {
    "duration": 31,
    "start_time": "2022-02-08T20:59:48.513Z"
   },
   {
    "duration": 20,
    "start_time": "2022-02-08T20:59:48.546Z"
   },
   {
    "duration": 27,
    "start_time": "2022-02-08T20:59:48.567Z"
   },
   {
    "duration": 18,
    "start_time": "2022-02-08T20:59:48.595Z"
   },
   {
    "duration": 22,
    "start_time": "2022-02-08T20:59:48.615Z"
   },
   {
    "duration": 5,
    "start_time": "2022-02-08T20:59:48.638Z"
   },
   {
    "duration": 19,
    "start_time": "2022-02-08T20:59:48.644Z"
   },
   {
    "duration": 43,
    "start_time": "2022-02-08T20:59:48.665Z"
   },
   {
    "duration": 103,
    "start_time": "2022-02-08T20:59:48.710Z"
   },
   {
    "duration": 45,
    "start_time": "2022-02-08T20:59:48.815Z"
   },
   {
    "duration": 103,
    "start_time": "2022-02-08T20:59:48.861Z"
   },
   {
    "duration": 51,
    "start_time": "2022-02-08T20:59:48.965Z"
   },
   {
    "duration": 147,
    "start_time": "2022-02-08T20:59:49.017Z"
   },
   {
    "duration": 6,
    "start_time": "2022-02-08T20:59:49.166Z"
   },
   {
    "duration": 32,
    "start_time": "2022-02-08T20:59:49.174Z"
   },
   {
    "duration": 226,
    "start_time": "2022-02-08T20:59:49.208Z"
   },
   {
    "duration": 6,
    "start_time": "2022-02-08T20:59:49.436Z"
   },
   {
    "duration": 218,
    "start_time": "2022-02-08T20:59:49.443Z"
   },
   {
    "duration": 6,
    "start_time": "2022-02-08T20:59:49.662Z"
   },
   {
    "duration": 163,
    "start_time": "2022-02-08T20:59:49.669Z"
   },
   {
    "duration": 6,
    "start_time": "2022-02-08T20:59:49.834Z"
   },
   {
    "duration": 154,
    "start_time": "2022-02-08T20:59:49.841Z"
   },
   {
    "duration": 6,
    "start_time": "2022-02-08T20:59:49.996Z"
   },
   {
    "duration": 139,
    "start_time": "2022-02-08T20:59:50.004Z"
   },
   {
    "duration": 5,
    "start_time": "2022-02-08T20:59:50.145Z"
   },
   {
    "duration": 209,
    "start_time": "2022-02-08T20:59:50.152Z"
   },
   {
    "duration": 5,
    "start_time": "2022-02-08T20:59:50.363Z"
   },
   {
    "duration": 336,
    "start_time": "2022-02-08T20:59:50.370Z"
   },
   {
    "duration": 122,
    "start_time": "2022-02-08T20:59:50.707Z"
   },
   {
    "duration": 298,
    "start_time": "2022-02-08T20:59:50.831Z"
   },
   {
    "duration": 384,
    "start_time": "2022-02-08T20:59:51.131Z"
   },
   {
    "duration": 138,
    "start_time": "2022-02-08T20:59:51.516Z"
   },
   {
    "duration": 287,
    "start_time": "2022-02-08T20:59:51.655Z"
   },
   {
    "duration": 5,
    "start_time": "2022-02-08T20:59:51.943Z"
   },
   {
    "duration": 132,
    "start_time": "2022-02-08T20:59:51.949Z"
   },
   {
    "duration": 101,
    "start_time": "2022-02-08T20:59:52.083Z"
   },
   {
    "duration": 78,
    "start_time": "2022-02-08T20:59:52.186Z"
   },
   {
    "duration": 25,
    "start_time": "2022-02-08T20:59:52.266Z"
   },
   {
    "duration": 5,
    "start_time": "2022-02-08T20:59:52.293Z"
   },
   {
    "duration": 8,
    "start_time": "2022-02-08T20:59:52.300Z"
   },
   {
    "duration": 1094,
    "start_time": "2022-02-09T18:35:12.353Z"
   },
   {
    "duration": 182,
    "start_time": "2022-02-09T18:35:13.449Z"
   },
   {
    "duration": 147,
    "start_time": "2022-02-09T18:35:13.633Z"
   },
   {
    "duration": 100,
    "start_time": "2022-02-09T18:35:13.782Z"
   },
   {
    "duration": 18,
    "start_time": "2022-02-09T18:35:13.884Z"
   },
   {
    "duration": 25,
    "start_time": "2022-02-09T18:35:13.903Z"
   },
   {
    "duration": 90,
    "start_time": "2022-02-09T18:35:13.930Z"
   },
   {
    "duration": 68,
    "start_time": "2022-02-09T18:35:14.023Z"
   },
   {
    "duration": 41,
    "start_time": "2022-02-09T18:35:14.093Z"
   },
   {
    "duration": 41,
    "start_time": "2022-02-09T18:35:14.136Z"
   },
   {
    "duration": 85,
    "start_time": "2022-02-09T18:35:14.179Z"
   },
   {
    "duration": 4,
    "start_time": "2022-02-09T18:35:14.265Z"
   },
   {
    "duration": 67,
    "start_time": "2022-02-09T18:35:14.271Z"
   },
   {
    "duration": 85,
    "start_time": "2022-02-09T18:35:14.340Z"
   },
   {
    "duration": 44,
    "start_time": "2022-02-09T18:35:14.427Z"
   },
   {
    "duration": 41,
    "start_time": "2022-02-09T18:35:14.472Z"
   },
   {
    "duration": 53,
    "start_time": "2022-02-09T18:35:14.515Z"
   },
   {
    "duration": 23,
    "start_time": "2022-02-09T18:35:14.569Z"
   },
   {
    "duration": 43,
    "start_time": "2022-02-09T18:35:14.593Z"
   },
   {
    "duration": 61,
    "start_time": "2022-02-09T18:35:14.638Z"
   },
   {
    "duration": 25,
    "start_time": "2022-02-09T18:35:14.701Z"
   },
   {
    "duration": 37,
    "start_time": "2022-02-09T18:35:14.728Z"
   },
   {
    "duration": 22,
    "start_time": "2022-02-09T18:35:14.768Z"
   },
   {
    "duration": 15,
    "start_time": "2022-02-09T18:35:14.793Z"
   },
   {
    "duration": 32,
    "start_time": "2022-02-09T18:35:14.810Z"
   },
   {
    "duration": 61,
    "start_time": "2022-02-09T18:35:14.843Z"
   },
   {
    "duration": 14,
    "start_time": "2022-02-09T18:35:14.906Z"
   },
   {
    "duration": 53,
    "start_time": "2022-02-09T18:35:14.922Z"
   },
   {
    "duration": 23,
    "start_time": "2022-02-09T18:35:14.977Z"
   },
   {
    "duration": 58,
    "start_time": "2022-02-09T18:35:15.002Z"
   },
   {
    "duration": 26,
    "start_time": "2022-02-09T18:35:15.063Z"
   },
   {
    "duration": 24,
    "start_time": "2022-02-09T18:35:15.091Z"
   },
   {
    "duration": 6,
    "start_time": "2022-02-09T18:35:15.116Z"
   },
   {
    "duration": 61,
    "start_time": "2022-02-09T18:35:15.124Z"
   },
   {
    "duration": 51,
    "start_time": "2022-02-09T18:35:15.187Z"
   },
   {
    "duration": 142,
    "start_time": "2022-02-09T18:35:15.239Z"
   },
   {
    "duration": 51,
    "start_time": "2022-02-09T18:35:15.382Z"
   },
   {
    "duration": 124,
    "start_time": "2022-02-09T18:35:15.435Z"
   },
   {
    "duration": 50,
    "start_time": "2022-02-09T18:35:15.560Z"
   },
   {
    "duration": 125,
    "start_time": "2022-02-09T18:35:15.612Z"
   },
   {
    "duration": 6,
    "start_time": "2022-02-09T18:35:15.739Z"
   },
   {
    "duration": 34,
    "start_time": "2022-02-09T18:35:15.747Z"
   },
   {
    "duration": 167,
    "start_time": "2022-02-09T18:35:15.782Z"
   },
   {
    "duration": 13,
    "start_time": "2022-02-09T18:35:15.950Z"
   },
   {
    "duration": 191,
    "start_time": "2022-02-09T18:35:15.964Z"
   },
   {
    "duration": 7,
    "start_time": "2022-02-09T18:35:16.157Z"
   },
   {
    "duration": 195,
    "start_time": "2022-02-09T18:35:16.166Z"
   },
   {
    "duration": 7,
    "start_time": "2022-02-09T18:35:16.362Z"
   },
   {
    "duration": 197,
    "start_time": "2022-02-09T18:35:16.371Z"
   },
   {
    "duration": 8,
    "start_time": "2022-02-09T18:35:16.570Z"
   },
   {
    "duration": 194,
    "start_time": "2022-02-09T18:35:16.579Z"
   },
   {
    "duration": 7,
    "start_time": "2022-02-09T18:35:16.775Z"
   },
   {
    "duration": 195,
    "start_time": "2022-02-09T18:35:16.784Z"
   },
   {
    "duration": 6,
    "start_time": "2022-02-09T18:35:16.981Z"
   },
   {
    "duration": 398,
    "start_time": "2022-02-09T18:35:16.989Z"
   },
   {
    "duration": 142,
    "start_time": "2022-02-09T18:35:17.388Z"
   },
   {
    "duration": 329,
    "start_time": "2022-02-09T18:35:17.532Z"
   },
   {
    "duration": 321,
    "start_time": "2022-02-09T18:35:17.862Z"
   },
   {
    "duration": 164,
    "start_time": "2022-02-09T18:35:18.185Z"
   },
   {
    "duration": 337,
    "start_time": "2022-02-09T18:35:18.351Z"
   },
   {
    "duration": 5,
    "start_time": "2022-02-09T18:35:18.689Z"
   },
   {
    "duration": 151,
    "start_time": "2022-02-09T18:35:18.696Z"
   },
   {
    "duration": 103,
    "start_time": "2022-02-09T18:35:18.849Z"
   },
   {
    "duration": 89,
    "start_time": "2022-02-09T18:35:18.954Z"
   },
   {
    "duration": 37,
    "start_time": "2022-02-09T18:35:19.045Z"
   },
   {
    "duration": 6,
    "start_time": "2022-02-09T18:35:19.083Z"
   },
   {
    "duration": 33,
    "start_time": "2022-02-09T18:35:19.090Z"
   },
   {
    "duration": 1034,
    "start_time": "2022-02-15T06:09:06.315Z"
   },
   {
    "duration": 173,
    "start_time": "2022-02-15T06:09:07.351Z"
   },
   {
    "duration": 134,
    "start_time": "2022-02-15T06:09:07.525Z"
   },
   {
    "duration": 98,
    "start_time": "2022-02-15T06:09:08.113Z"
   },
   {
    "duration": 22,
    "start_time": "2022-02-15T06:09:08.681Z"
   },
   {
    "duration": 36,
    "start_time": "2022-02-15T06:09:09.047Z"
   },
   {
    "duration": 73,
    "start_time": "2022-02-15T06:09:09.922Z"
   },
   {
    "duration": 63,
    "start_time": "2022-02-15T06:09:10.271Z"
   },
   {
    "duration": 40,
    "start_time": "2022-02-15T06:09:10.639Z"
   },
   {
    "duration": 21,
    "start_time": "2022-02-15T06:09:10.825Z"
   },
   {
    "duration": 69,
    "start_time": "2022-02-15T06:09:11.391Z"
   },
   {
    "duration": 4,
    "start_time": "2022-02-15T06:09:11.785Z"
   },
   {
    "duration": 60,
    "start_time": "2022-02-15T06:09:12.872Z"
   },
   {
    "duration": 63,
    "start_time": "2022-02-15T06:09:13.256Z"
   },
   {
    "duration": 28,
    "start_time": "2022-02-15T06:09:13.513Z"
   },
   {
    "duration": 8,
    "start_time": "2022-02-15T06:10:40.073Z"
   },
   {
    "duration": 41,
    "start_time": "2022-02-15T06:10:54.857Z"
   },
   {
    "duration": 40,
    "start_time": "2022-02-15T06:10:55.289Z"
   },
   {
    "duration": 27,
    "start_time": "2022-02-15T06:10:55.737Z"
   },
   {
    "duration": 47,
    "start_time": "2022-02-15T06:10:56.168Z"
   },
   {
    "duration": 49,
    "start_time": "2022-02-15T06:10:58.793Z"
   },
   {
    "duration": 33,
    "start_time": "2022-02-15T06:11:01.913Z"
   },
   {
    "duration": 7,
    "start_time": "2022-02-15T06:11:23.586Z"
   },
   {
    "duration": 98,
    "start_time": "2022-02-15T06:16:27.732Z"
   },
   {
    "duration": 362,
    "start_time": "2022-02-15T18:20:47.027Z"
   },
   {
    "duration": 1094,
    "start_time": "2022-02-15T18:20:59.302Z"
   },
   {
    "duration": 1034,
    "start_time": "2022-02-15T18:21:00.398Z"
   },
   {
    "duration": 983,
    "start_time": "2022-02-15T18:21:01.434Z"
   },
   {
    "duration": 93,
    "start_time": "2022-02-15T18:21:02.419Z"
   },
   {
    "duration": 22,
    "start_time": "2022-02-15T18:21:02.514Z"
   },
   {
    "duration": 64,
    "start_time": "2022-02-15T18:21:02.538Z"
   },
   {
    "duration": 76,
    "start_time": "2022-02-15T18:21:02.604Z"
   },
   {
    "duration": 59,
    "start_time": "2022-02-15T18:21:02.683Z"
   },
   {
    "duration": 40,
    "start_time": "2022-02-15T18:21:02.744Z"
   },
   {
    "duration": 21,
    "start_time": "2022-02-15T18:21:02.786Z"
   },
   {
    "duration": 67,
    "start_time": "2022-02-15T18:21:02.831Z"
   },
   {
    "duration": 3,
    "start_time": "2022-02-15T18:21:02.899Z"
   },
   {
    "duration": 70,
    "start_time": "2022-02-15T18:21:02.904Z"
   },
   {
    "duration": 68,
    "start_time": "2022-02-15T18:21:02.976Z"
   },
   {
    "duration": 27,
    "start_time": "2022-02-15T18:21:03.045Z"
   },
   {
    "duration": 36,
    "start_time": "2022-02-15T18:21:03.074Z"
   },
   {
    "duration": 48,
    "start_time": "2022-02-15T18:21:03.111Z"
   },
   {
    "duration": 21,
    "start_time": "2022-02-15T18:21:03.161Z"
   },
   {
    "duration": 54,
    "start_time": "2022-02-15T18:21:03.183Z"
   },
   {
    "duration": 40,
    "start_time": "2022-02-15T18:21:03.239Z"
   },
   {
    "duration": 24,
    "start_time": "2022-02-15T18:21:03.281Z"
   },
   {
    "duration": 40,
    "start_time": "2022-02-15T18:21:03.307Z"
   },
   {
    "duration": 19,
    "start_time": "2022-02-15T18:21:03.351Z"
   },
   {
    "duration": 12,
    "start_time": "2022-02-15T18:21:03.373Z"
   },
   {
    "duration": 22,
    "start_time": "2022-02-15T18:21:03.386Z"
   },
   {
    "duration": 55,
    "start_time": "2022-02-15T18:21:03.409Z"
   },
   {
    "duration": 11,
    "start_time": "2022-02-15T18:21:03.465Z"
   },
   {
    "duration": 25,
    "start_time": "2022-02-15T18:21:03.477Z"
   },
   {
    "duration": 42,
    "start_time": "2022-02-15T18:21:03.504Z"
   },
   {
    "duration": 24,
    "start_time": "2022-02-15T18:21:03.547Z"
   },
   {
    "duration": 20,
    "start_time": "2022-02-15T18:21:03.572Z"
   },
   {
    "duration": 38,
    "start_time": "2022-02-15T18:21:03.594Z"
   },
   {
    "duration": 5,
    "start_time": "2022-02-15T18:21:03.634Z"
   },
   {
    "duration": 27,
    "start_time": "2022-02-15T18:21:03.641Z"
   },
   {
    "duration": 70,
    "start_time": "2022-02-15T18:21:03.670Z"
   },
   {
    "duration": 108,
    "start_time": "2022-02-15T18:21:03.741Z"
   },
   {
    "duration": 46,
    "start_time": "2022-02-15T18:21:03.851Z"
   },
   {
    "duration": 113,
    "start_time": "2022-02-15T18:21:03.899Z"
   },
   {
    "duration": 56,
    "start_time": "2022-02-15T18:21:04.014Z"
   },
   {
    "duration": 122,
    "start_time": "2022-02-15T18:21:04.072Z"
   },
   {
    "duration": 5,
    "start_time": "2022-02-15T18:21:04.196Z"
   },
   {
    "duration": 35,
    "start_time": "2022-02-15T18:21:04.203Z"
   },
   {
    "duration": 147,
    "start_time": "2022-02-15T18:21:04.240Z"
   },
   {
    "duration": 7,
    "start_time": "2022-02-15T18:21:04.389Z"
   },
   {
    "duration": 157,
    "start_time": "2022-02-15T18:21:04.398Z"
   },
   {
    "duration": 7,
    "start_time": "2022-02-15T18:21:04.557Z"
   },
   {
    "duration": 158,
    "start_time": "2022-02-15T18:21:04.566Z"
   },
   {
    "duration": 9,
    "start_time": "2022-02-15T18:21:04.726Z"
   },
   {
    "duration": 163,
    "start_time": "2022-02-15T18:21:04.736Z"
   },
   {
    "duration": 6,
    "start_time": "2022-02-15T18:21:04.901Z"
   },
   {
    "duration": 151,
    "start_time": "2022-02-15T18:21:04.908Z"
   },
   {
    "duration": 5,
    "start_time": "2022-02-15T18:21:05.061Z"
   },
   {
    "duration": 154,
    "start_time": "2022-02-15T18:21:05.068Z"
   },
   {
    "duration": 11,
    "start_time": "2022-02-15T18:21:05.224Z"
   },
   {
    "duration": 338,
    "start_time": "2022-02-15T18:21:05.237Z"
   },
   {
    "duration": 130,
    "start_time": "2022-02-15T18:21:05.576Z"
   },
   {
    "duration": 308,
    "start_time": "2022-02-15T18:21:05.707Z"
   },
   {
    "duration": 302,
    "start_time": "2022-02-15T18:21:06.017Z"
   },
   {
    "duration": 132,
    "start_time": "2022-02-15T18:21:06.320Z"
   },
   {
    "duration": 293,
    "start_time": "2022-02-15T18:21:06.454Z"
   },
   {
    "duration": 5,
    "start_time": "2022-02-15T18:21:06.748Z"
   },
   {
    "duration": 128,
    "start_time": "2022-02-15T18:21:06.754Z"
   },
   {
    "duration": 94,
    "start_time": "2022-02-15T18:21:06.883Z"
   },
   {
    "duration": 76,
    "start_time": "2022-02-15T18:21:06.979Z"
   },
   {
    "duration": 25,
    "start_time": "2022-02-15T18:21:07.057Z"
   },
   {
    "duration": 5,
    "start_time": "2022-02-15T18:21:07.084Z"
   },
   {
    "duration": 22,
    "start_time": "2022-02-15T18:21:07.090Z"
   },
   {
    "duration": 1081,
    "start_time": "2022-02-15T18:25:26.931Z"
   },
   {
    "duration": 166,
    "start_time": "2022-02-15T18:25:28.013Z"
   },
   {
    "duration": 144,
    "start_time": "2022-02-15T18:25:28.181Z"
   },
   {
    "duration": 104,
    "start_time": "2022-02-15T18:25:28.327Z"
   },
   {
    "duration": 23,
    "start_time": "2022-02-15T18:25:28.433Z"
   },
   {
    "duration": 72,
    "start_time": "2022-02-15T18:25:28.458Z"
   },
   {
    "duration": 77,
    "start_time": "2022-02-15T18:25:28.531Z"
   },
   {
    "duration": 63,
    "start_time": "2022-02-15T18:25:28.610Z"
   },
   {
    "duration": 41,
    "start_time": "2022-02-15T18:25:28.675Z"
   },
   {
    "duration": 34,
    "start_time": "2022-02-15T18:25:28.717Z"
   },
   {
    "duration": 87,
    "start_time": "2022-02-15T18:25:28.753Z"
   },
   {
    "duration": 4,
    "start_time": "2022-02-15T18:25:28.842Z"
   },
   {
    "duration": 59,
    "start_time": "2022-02-15T18:25:28.848Z"
   },
   {
    "duration": 77,
    "start_time": "2022-02-15T18:25:28.909Z"
   },
   {
    "duration": 29,
    "start_time": "2022-02-15T18:25:28.988Z"
   },
   {
    "duration": 51,
    "start_time": "2022-02-15T18:25:29.019Z"
   },
   {
    "duration": 31,
    "start_time": "2022-02-15T18:25:29.071Z"
   },
   {
    "duration": 38,
    "start_time": "2022-02-15T18:25:29.104Z"
   },
   {
    "duration": 41,
    "start_time": "2022-02-15T18:25:29.144Z"
   },
   {
    "duration": 56,
    "start_time": "2022-02-15T18:25:29.187Z"
   },
   {
    "duration": 26,
    "start_time": "2022-02-15T18:25:29.244Z"
   },
   {
    "duration": 23,
    "start_time": "2022-02-15T18:25:29.271Z"
   },
   {
    "duration": 49,
    "start_time": "2022-02-15T18:25:29.300Z"
   },
   {
    "duration": 14,
    "start_time": "2022-02-15T18:25:29.352Z"
   },
   {
    "duration": 22,
    "start_time": "2022-02-15T18:25:29.368Z"
   },
   {
    "duration": 63,
    "start_time": "2022-02-15T18:25:29.391Z"
   },
   {
    "duration": 12,
    "start_time": "2022-02-15T18:25:29.456Z"
   },
   {
    "duration": 30,
    "start_time": "2022-02-15T18:25:29.470Z"
   },
   {
    "duration": 37,
    "start_time": "2022-02-15T18:25:29.502Z"
   },
   {
    "duration": 27,
    "start_time": "2022-02-15T18:25:29.541Z"
   },
   {
    "duration": 18,
    "start_time": "2022-02-15T18:25:29.570Z"
   },
   {
    "duration": 43,
    "start_time": "2022-02-15T18:25:29.590Z"
   },
   {
    "duration": 6,
    "start_time": "2022-02-15T18:25:29.635Z"
   },
   {
    "duration": 25,
    "start_time": "2022-02-15T18:25:29.643Z"
   },
   {
    "duration": 64,
    "start_time": "2022-02-15T18:25:29.669Z"
   },
   {
    "duration": 117,
    "start_time": "2022-02-15T18:25:29.736Z"
   },
   {
    "duration": 50,
    "start_time": "2022-02-15T18:25:29.855Z"
   },
   {
    "duration": 126,
    "start_time": "2022-02-15T18:25:29.906Z"
   },
   {
    "duration": 54,
    "start_time": "2022-02-15T18:25:30.033Z"
   },
   {
    "duration": 127,
    "start_time": "2022-02-15T18:25:30.089Z"
   },
   {
    "duration": 6,
    "start_time": "2022-02-15T18:25:30.218Z"
   },
   {
    "duration": 31,
    "start_time": "2022-02-15T18:25:30.225Z"
   },
   {
    "duration": 160,
    "start_time": "2022-02-15T18:25:30.258Z"
   },
   {
    "duration": 15,
    "start_time": "2022-02-15T18:25:30.420Z"
   },
   {
    "duration": 159,
    "start_time": "2022-02-15T18:25:30.437Z"
   },
   {
    "duration": 7,
    "start_time": "2022-02-15T18:25:30.598Z"
   },
   {
    "duration": 163,
    "start_time": "2022-02-15T18:25:30.607Z"
   },
   {
    "duration": 6,
    "start_time": "2022-02-15T18:25:30.772Z"
   },
   {
    "duration": 163,
    "start_time": "2022-02-15T18:25:30.780Z"
   },
   {
    "duration": 8,
    "start_time": "2022-02-15T18:25:30.945Z"
   },
   {
    "duration": 173,
    "start_time": "2022-02-15T18:25:30.955Z"
   },
   {
    "duration": 6,
    "start_time": "2022-02-15T18:25:31.131Z"
   },
   {
    "duration": 153,
    "start_time": "2022-02-15T18:25:31.138Z"
   },
   {
    "duration": 5,
    "start_time": "2022-02-15T18:25:31.292Z"
   },
   {
    "duration": 334,
    "start_time": "2022-02-15T18:25:31.299Z"
   },
   {
    "duration": 118,
    "start_time": "2022-02-15T18:25:31.635Z"
   },
   {
    "duration": 297,
    "start_time": "2022-02-15T18:25:31.755Z"
   },
   {
    "duration": 292,
    "start_time": "2022-02-15T18:25:32.054Z"
   },
   {
    "duration": 131,
    "start_time": "2022-02-15T18:25:32.347Z"
   },
   {
    "duration": 297,
    "start_time": "2022-02-15T18:25:32.480Z"
   },
   {
    "duration": 5,
    "start_time": "2022-02-15T18:25:32.779Z"
   },
   {
    "duration": 142,
    "start_time": "2022-02-15T18:25:32.786Z"
   },
   {
    "duration": 87,
    "start_time": "2022-02-15T18:25:32.930Z"
   },
   {
    "duration": 82,
    "start_time": "2022-02-15T18:25:33.019Z"
   },
   {
    "duration": 35,
    "start_time": "2022-02-15T18:25:33.102Z"
   },
   {
    "duration": 5,
    "start_time": "2022-02-15T18:25:33.138Z"
   },
   {
    "duration": 5,
    "start_time": "2022-02-15T18:25:33.145Z"
   },
   {
    "duration": 3,
    "start_time": "2022-02-15T18:31:42.807Z"
   },
   {
    "duration": 22,
    "start_time": "2022-02-15T18:32:21.934Z"
   },
   {
    "duration": 7585,
    "start_time": "2022-02-15T18:32:21.957Z"
   },
   {
    "duration": 7582,
    "start_time": "2022-02-15T18:33:10.726Z"
   },
   {
    "duration": 7594,
    "start_time": "2022-02-15T18:33:44.892Z"
   },
   {
    "duration": 1093,
    "start_time": "2022-02-15T18:34:07.421Z"
   },
   {
    "duration": 171,
    "start_time": "2022-02-15T18:34:08.516Z"
   },
   {
    "duration": 138,
    "start_time": "2022-02-15T18:34:08.690Z"
   },
   {
    "duration": 96,
    "start_time": "2022-02-15T18:34:08.829Z"
   },
   {
    "duration": 23,
    "start_time": "2022-02-15T18:34:08.931Z"
   },
   {
    "duration": 54,
    "start_time": "2022-02-15T18:34:08.956Z"
   },
   {
    "duration": 73,
    "start_time": "2022-02-15T18:34:09.013Z"
   },
   {
    "duration": 62,
    "start_time": "2022-02-15T18:34:09.089Z"
   },
   {
    "duration": 40,
    "start_time": "2022-02-15T18:34:09.154Z"
   },
   {
    "duration": 41,
    "start_time": "2022-02-15T18:34:09.196Z"
   },
   {
    "duration": 67,
    "start_time": "2022-02-15T18:34:09.239Z"
   },
   {
    "duration": 24,
    "start_time": "2022-02-15T18:34:09.308Z"
   },
   {
    "duration": 58,
    "start_time": "2022-02-15T18:34:09.333Z"
   },
   {
    "duration": 79,
    "start_time": "2022-02-15T18:34:09.393Z"
   },
   {
    "duration": 29,
    "start_time": "2022-02-15T18:34:09.474Z"
   },
   {
    "duration": 50,
    "start_time": "2022-02-15T18:34:09.505Z"
   },
   {
    "duration": 30,
    "start_time": "2022-02-15T18:34:09.557Z"
   },
   {
    "duration": 19,
    "start_time": "2022-02-15T18:34:09.589Z"
   },
   {
    "duration": 55,
    "start_time": "2022-02-15T18:34:09.610Z"
   },
   {
    "duration": 41,
    "start_time": "2022-02-15T18:34:09.667Z"
   },
   {
    "duration": 35,
    "start_time": "2022-02-15T18:34:09.710Z"
   },
   {
    "duration": 18,
    "start_time": "2022-02-15T18:34:09.747Z"
   },
   {
    "duration": 19,
    "start_time": "2022-02-15T18:34:09.769Z"
   },
   {
    "duration": 7844,
    "start_time": "2022-02-15T18:34:09.790Z"
   },
   {
    "duration": -1627,
    "start_time": "2022-02-15T18:34:19.262Z"
   },
   {
    "duration": -1642,
    "start_time": "2022-02-15T18:34:19.278Z"
   },
   {
    "duration": -1653,
    "start_time": "2022-02-15T18:34:19.290Z"
   },
   {
    "duration": -1666,
    "start_time": "2022-02-15T18:34:19.304Z"
   },
   {
    "duration": -1671,
    "start_time": "2022-02-15T18:34:19.310Z"
   },
   {
    "duration": -1683,
    "start_time": "2022-02-15T18:34:19.323Z"
   },
   {
    "duration": -1687,
    "start_time": "2022-02-15T18:34:19.329Z"
   },
   {
    "duration": -1699,
    "start_time": "2022-02-15T18:34:19.341Z"
   },
   {
    "duration": -1712,
    "start_time": "2022-02-15T18:34:19.355Z"
   },
   {
    "duration": -1718,
    "start_time": "2022-02-15T18:34:19.362Z"
   },
   {
    "duration": -1728,
    "start_time": "2022-02-15T18:34:19.373Z"
   },
   {
    "duration": -1741,
    "start_time": "2022-02-15T18:34:19.387Z"
   },
   {
    "duration": -1746,
    "start_time": "2022-02-15T18:34:19.393Z"
   },
   {
    "duration": -1758,
    "start_time": "2022-02-15T18:34:19.406Z"
   },
   {
    "duration": -1763,
    "start_time": "2022-02-15T18:34:19.412Z"
   },
   {
    "duration": -1774,
    "start_time": "2022-02-15T18:34:19.424Z"
   },
   {
    "duration": -1785,
    "start_time": "2022-02-15T18:34:19.437Z"
   },
   {
    "duration": -1791,
    "start_time": "2022-02-15T18:34:19.444Z"
   },
   {
    "duration": -1802,
    "start_time": "2022-02-15T18:34:19.456Z"
   },
   {
    "duration": -1813,
    "start_time": "2022-02-15T18:34:19.468Z"
   },
   {
    "duration": -1817,
    "start_time": "2022-02-15T18:34:19.473Z"
   },
   {
    "duration": -1828,
    "start_time": "2022-02-15T18:34:19.486Z"
   },
   {
    "duration": -1832,
    "start_time": "2022-02-15T18:34:19.491Z"
   },
   {
    "duration": -1844,
    "start_time": "2022-02-15T18:34:19.504Z"
   },
   {
    "duration": -1849,
    "start_time": "2022-02-15T18:34:19.510Z"
   },
   {
    "duration": -1865,
    "start_time": "2022-02-15T18:34:19.527Z"
   },
   {
    "duration": -1877,
    "start_time": "2022-02-15T18:34:19.540Z"
   },
   {
    "duration": -1889,
    "start_time": "2022-02-15T18:34:19.553Z"
   },
   {
    "duration": -1893,
    "start_time": "2022-02-15T18:34:19.558Z"
   },
   {
    "duration": -1905,
    "start_time": "2022-02-15T18:34:19.571Z"
   },
   {
    "duration": -1910,
    "start_time": "2022-02-15T18:34:19.577Z"
   },
   {
    "duration": -1921,
    "start_time": "2022-02-15T18:34:19.589Z"
   },
   {
    "duration": -1926,
    "start_time": "2022-02-15T18:34:19.595Z"
   },
   {
    "duration": -1937,
    "start_time": "2022-02-15T18:34:19.607Z"
   },
   {
    "duration": -1949,
    "start_time": "2022-02-15T18:34:19.620Z"
   },
   {
    "duration": -1955,
    "start_time": "2022-02-15T18:34:19.627Z"
   },
   {
    "duration": -1960,
    "start_time": "2022-02-15T18:34:19.633Z"
   },
   {
    "duration": -1965,
    "start_time": "2022-02-15T18:34:19.639Z"
   },
   {
    "duration": -1913,
    "start_time": "2022-02-15T18:34:19.645Z"
   },
   {
    "duration": -1935,
    "start_time": "2022-02-15T18:34:19.668Z"
   },
   {
    "duration": -1939,
    "start_time": "2022-02-15T18:34:19.673Z"
   },
   {
    "duration": -1952,
    "start_time": "2022-02-15T18:34:19.687Z"
   },
   {
    "duration": -1956,
    "start_time": "2022-02-15T18:34:19.692Z"
   },
   {
    "duration": -1969,
    "start_time": "2022-02-15T18:34:19.706Z"
   },
   {
    "duration": -1573,
    "start_time": "2022-02-15T18:36:07.222Z"
   },
   {
    "duration": 1058,
    "start_time": "2022-02-15T18:36:11.347Z"
   },
   {
    "duration": 159,
    "start_time": "2022-02-15T18:36:12.406Z"
   },
   {
    "duration": 135,
    "start_time": "2022-02-15T18:36:12.567Z"
   },
   {
    "duration": 88,
    "start_time": "2022-02-15T18:36:12.704Z"
   },
   {
    "duration": 22,
    "start_time": "2022-02-15T18:36:12.793Z"
   },
   {
    "duration": 54,
    "start_time": "2022-02-15T18:36:12.817Z"
   },
   {
    "duration": 73,
    "start_time": "2022-02-15T18:36:12.873Z"
   },
   {
    "duration": 53,
    "start_time": "2022-02-15T18:36:12.949Z"
   },
   {
    "duration": 54,
    "start_time": "2022-02-15T18:36:13.004Z"
   },
   {
    "duration": 20,
    "start_time": "2022-02-15T18:36:13.059Z"
   },
   {
    "duration": 89,
    "start_time": "2022-02-15T18:36:13.080Z"
   },
   {
    "duration": 4,
    "start_time": "2022-02-15T18:36:13.170Z"
   },
   {
    "duration": 67,
    "start_time": "2022-02-15T18:36:13.175Z"
   },
   {
    "duration": 61,
    "start_time": "2022-02-15T18:36:13.244Z"
   },
   {
    "duration": 40,
    "start_time": "2022-02-15T18:36:13.306Z"
   },
   {
    "duration": 36,
    "start_time": "2022-02-15T18:36:13.348Z"
   },
   {
    "duration": 32,
    "start_time": "2022-02-15T18:36:13.385Z"
   },
   {
    "duration": 20,
    "start_time": "2022-02-15T18:36:13.432Z"
   },
   {
    "duration": 37,
    "start_time": "2022-02-15T18:36:13.454Z"
   },
   {
    "duration": 56,
    "start_time": "2022-02-15T18:36:13.492Z"
   },
   {
    "duration": 23,
    "start_time": "2022-02-15T18:36:13.549Z"
   },
   {
    "duration": 19,
    "start_time": "2022-02-15T18:36:13.574Z"
   },
   {
    "duration": 40,
    "start_time": "2022-02-15T18:36:13.597Z"
   },
   {
    "duration": 5,
    "start_time": "2022-02-15T18:36:13.640Z"
   },
   {
    "duration": 13,
    "start_time": "2022-02-15T18:36:13.647Z"
   },
   {
    "duration": 21,
    "start_time": "2022-02-15T18:36:13.662Z"
   },
   {
    "duration": 59,
    "start_time": "2022-02-15T18:36:13.684Z"
   },
   {
    "duration": 12,
    "start_time": "2022-02-15T18:36:13.744Z"
   },
   {
    "duration": 24,
    "start_time": "2022-02-15T18:36:13.757Z"
   },
   {
    "duration": 16,
    "start_time": "2022-02-15T18:36:13.782Z"
   },
   {
    "duration": 48,
    "start_time": "2022-02-15T18:36:13.799Z"
   },
   {
    "duration": 18,
    "start_time": "2022-02-15T18:36:13.848Z"
   },
   {
    "duration": 18,
    "start_time": "2022-02-15T18:36:13.868Z"
   },
   {
    "duration": 4,
    "start_time": "2022-02-15T18:36:13.888Z"
   },
   {
    "duration": 40,
    "start_time": "2022-02-15T18:36:13.893Z"
   },
   {
    "duration": 48,
    "start_time": "2022-02-15T18:36:13.934Z"
   },
   {
    "duration": 114,
    "start_time": "2022-02-15T18:36:13.984Z"
   },
   {
    "duration": 49,
    "start_time": "2022-02-15T18:36:14.100Z"
   },
   {
    "duration": 104,
    "start_time": "2022-02-15T18:36:14.150Z"
   },
   {
    "duration": 52,
    "start_time": "2022-02-15T18:36:14.255Z"
   },
   {
    "duration": 123,
    "start_time": "2022-02-15T18:36:14.309Z"
   },
   {
    "duration": 5,
    "start_time": "2022-02-15T18:36:14.433Z"
   },
   {
    "duration": 23,
    "start_time": "2022-02-15T18:36:14.439Z"
   },
   {
    "duration": 154,
    "start_time": "2022-02-15T18:36:14.463Z"
   },
   {
    "duration": 17,
    "start_time": "2022-02-15T18:36:14.619Z"
   },
   {
    "duration": 154,
    "start_time": "2022-02-15T18:36:14.637Z"
   },
   {
    "duration": 6,
    "start_time": "2022-02-15T18:36:14.793Z"
   },
   {
    "duration": 164,
    "start_time": "2022-02-15T18:36:14.800Z"
   },
   {
    "duration": 5,
    "start_time": "2022-02-15T18:36:14.966Z"
   },
   {
    "duration": 175,
    "start_time": "2022-02-15T18:36:14.972Z"
   },
   {
    "duration": 7,
    "start_time": "2022-02-15T18:36:15.149Z"
   },
   {
    "duration": 149,
    "start_time": "2022-02-15T18:36:15.157Z"
   },
   {
    "duration": 6,
    "start_time": "2022-02-15T18:36:15.308Z"
   },
   {
    "duration": 147,
    "start_time": "2022-02-15T18:36:15.315Z"
   },
   {
    "duration": 6,
    "start_time": "2022-02-15T18:36:15.464Z"
   },
   {
    "duration": 337,
    "start_time": "2022-02-15T18:36:15.472Z"
   },
   {
    "duration": 122,
    "start_time": "2022-02-15T18:36:15.811Z"
   },
   {
    "duration": 308,
    "start_time": "2022-02-15T18:36:15.935Z"
   },
   {
    "duration": 299,
    "start_time": "2022-02-15T18:36:16.245Z"
   },
   {
    "duration": 135,
    "start_time": "2022-02-15T18:36:16.546Z"
   },
   {
    "duration": 316,
    "start_time": "2022-02-15T18:36:16.683Z"
   },
   {
    "duration": 4,
    "start_time": "2022-02-15T18:36:17.001Z"
   },
   {
    "duration": 139,
    "start_time": "2022-02-15T18:36:17.007Z"
   },
   {
    "duration": 104,
    "start_time": "2022-02-15T18:36:17.148Z"
   },
   {
    "duration": 89,
    "start_time": "2022-02-15T18:36:17.254Z"
   },
   {
    "duration": 29,
    "start_time": "2022-02-15T18:36:17.345Z"
   },
   {
    "duration": 6,
    "start_time": "2022-02-15T18:36:17.376Z"
   },
   {
    "duration": 6,
    "start_time": "2022-02-15T18:36:17.388Z"
   },
   {
    "duration": 82,
    "start_time": "2022-02-15T18:41:02.682Z"
   },
   {
    "duration": 23,
    "start_time": "2022-02-15T18:41:27.532Z"
   },
   {
    "duration": 32,
    "start_time": "2022-02-15T18:42:17.865Z"
   },
   {
    "duration": 50,
    "start_time": "2022-02-15T18:42:26.839Z"
   },
   {
    "duration": 58,
    "start_time": "2022-02-15T18:44:47.785Z"
   },
   {
    "duration": 1058,
    "start_time": "2022-02-15T18:45:06.709Z"
   },
   {
    "duration": 157,
    "start_time": "2022-02-15T18:45:07.769Z"
   },
   {
    "duration": 127,
    "start_time": "2022-02-15T18:45:07.927Z"
   },
   {
    "duration": 90,
    "start_time": "2022-02-15T18:45:08.056Z"
   },
   {
    "duration": 21,
    "start_time": "2022-02-15T18:45:08.148Z"
   },
   {
    "duration": 44,
    "start_time": "2022-02-15T18:45:08.170Z"
   },
   {
    "duration": 74,
    "start_time": "2022-02-15T18:45:08.216Z"
   },
   {
    "duration": 58,
    "start_time": "2022-02-15T18:45:08.293Z"
   },
   {
    "duration": 47,
    "start_time": "2022-02-15T18:45:08.354Z"
   },
   {
    "duration": 36,
    "start_time": "2022-02-15T18:45:08.402Z"
   },
   {
    "duration": 67,
    "start_time": "2022-02-15T18:45:08.440Z"
   },
   {
    "duration": 4,
    "start_time": "2022-02-15T18:45:08.508Z"
   },
   {
    "duration": 76,
    "start_time": "2022-02-15T18:45:08.513Z"
   },
   {
    "duration": 73,
    "start_time": "2022-02-15T18:45:08.591Z"
   },
   {
    "duration": 30,
    "start_time": "2022-02-15T18:45:08.665Z"
   },
   {
    "duration": 52,
    "start_time": "2022-02-15T18:45:08.697Z"
   },
   {
    "duration": 32,
    "start_time": "2022-02-15T18:45:08.750Z"
   },
   {
    "duration": 19,
    "start_time": "2022-02-15T18:45:08.784Z"
   },
   {
    "duration": 59,
    "start_time": "2022-02-15T18:45:08.805Z"
   },
   {
    "duration": 43,
    "start_time": "2022-02-15T18:45:08.866Z"
   },
   {
    "duration": 35,
    "start_time": "2022-02-15T18:45:08.911Z"
   },
   {
    "duration": 18,
    "start_time": "2022-02-15T18:45:08.948Z"
   },
   {
    "duration": 19,
    "start_time": "2022-02-15T18:45:08.970Z"
   },
   {
    "duration": 4,
    "start_time": "2022-02-15T18:45:08.992Z"
   },
   {
    "duration": 139,
    "start_time": "2022-02-15T18:45:08.997Z"
   },
   {
    "duration": 47,
    "start_time": "2022-02-15T18:45:09.138Z"
   },
   {
    "duration": 22,
    "start_time": "2022-02-15T18:45:09.186Z"
   },
   {
    "duration": 38,
    "start_time": "2022-02-15T18:45:09.210Z"
   },
   {
    "duration": 37,
    "start_time": "2022-02-15T18:45:09.249Z"
   },
   {
    "duration": 11,
    "start_time": "2022-02-15T18:45:09.288Z"
   },
   {
    "duration": 51,
    "start_time": "2022-02-15T18:45:09.300Z"
   },
   {
    "duration": 17,
    "start_time": "2022-02-15T18:45:09.353Z"
   },
   {
    "duration": 26,
    "start_time": "2022-02-15T18:45:09.371Z"
   },
   {
    "duration": 47,
    "start_time": "2022-02-15T18:45:09.398Z"
   },
   {
    "duration": 20,
    "start_time": "2022-02-15T18:45:09.446Z"
   },
   {
    "duration": 5,
    "start_time": "2022-02-15T18:45:09.467Z"
   },
   {
    "duration": 22,
    "start_time": "2022-02-15T18:45:09.473Z"
   },
   {
    "duration": 9255,
    "start_time": "2022-02-15T18:45:09.496Z"
   },
   {
    "duration": -1623,
    "start_time": "2022-02-15T18:45:20.376Z"
   },
   {
    "duration": -1628,
    "start_time": "2022-02-15T18:45:20.382Z"
   },
   {
    "duration": -1632,
    "start_time": "2022-02-15T18:45:20.387Z"
   },
   {
    "duration": -1636,
    "start_time": "2022-02-15T18:45:20.392Z"
   },
   {
    "duration": -1640,
    "start_time": "2022-02-15T18:45:20.397Z"
   },
   {
    "duration": -1644,
    "start_time": "2022-02-15T18:45:20.402Z"
   },
   {
    "duration": -1649,
    "start_time": "2022-02-15T18:45:20.407Z"
   },
   {
    "duration": -1653,
    "start_time": "2022-02-15T18:45:20.412Z"
   },
   {
    "duration": -1656,
    "start_time": "2022-02-15T18:45:20.416Z"
   },
   {
    "duration": -1666,
    "start_time": "2022-02-15T18:45:20.427Z"
   },
   {
    "duration": -1669,
    "start_time": "2022-02-15T18:45:20.431Z"
   },
   {
    "duration": -1674,
    "start_time": "2022-02-15T18:45:20.437Z"
   },
   {
    "duration": -1678,
    "start_time": "2022-02-15T18:45:20.442Z"
   },
   {
    "duration": -1681,
    "start_time": "2022-02-15T18:45:20.446Z"
   },
   {
    "duration": -1685,
    "start_time": "2022-02-15T18:45:20.451Z"
   },
   {
    "duration": -1689,
    "start_time": "2022-02-15T18:45:20.456Z"
   },
   {
    "duration": -1692,
    "start_time": "2022-02-15T18:45:20.460Z"
   },
   {
    "duration": -1696,
    "start_time": "2022-02-15T18:45:20.465Z"
   },
   {
    "duration": -1713,
    "start_time": "2022-02-15T18:45:20.482Z"
   },
   {
    "duration": -1717,
    "start_time": "2022-02-15T18:45:20.487Z"
   },
   {
    "duration": -1721,
    "start_time": "2022-02-15T18:45:20.492Z"
   },
   {
    "duration": -1724,
    "start_time": "2022-02-15T18:45:20.496Z"
   },
   {
    "duration": -1728,
    "start_time": "2022-02-15T18:45:20.501Z"
   },
   {
    "duration": -1736,
    "start_time": "2022-02-15T18:45:20.510Z"
   },
   {
    "duration": -1740,
    "start_time": "2022-02-15T18:45:20.515Z"
   },
   {
    "duration": -1744,
    "start_time": "2022-02-15T18:45:20.520Z"
   },
   {
    "duration": -1747,
    "start_time": "2022-02-15T18:45:20.524Z"
   },
   {
    "duration": -1752,
    "start_time": "2022-02-15T18:45:20.530Z"
   },
   {
    "duration": -1755,
    "start_time": "2022-02-15T18:45:20.534Z"
   },
   {
    "duration": -1761,
    "start_time": "2022-02-15T18:45:20.540Z"
   },
   {
    "duration": -1766,
    "start_time": "2022-02-15T18:45:20.546Z"
   },
   {
    "duration": -1770,
    "start_time": "2022-02-15T18:45:20.551Z"
   },
   {
    "duration": 316,
    "start_time": "2022-02-15T18:50:34.691Z"
   },
   {
    "duration": 104,
    "start_time": "2022-02-15T18:52:27.027Z"
   },
   {
    "duration": 1043,
    "start_time": "2022-02-15T18:52:44.458Z"
   },
   {
    "duration": 171,
    "start_time": "2022-02-15T18:52:45.503Z"
   },
   {
    "duration": 131,
    "start_time": "2022-02-15T18:52:45.679Z"
   },
   {
    "duration": 120,
    "start_time": "2022-02-15T18:52:45.812Z"
   },
   {
    "duration": 22,
    "start_time": "2022-02-15T18:52:45.934Z"
   },
   {
    "duration": 45,
    "start_time": "2022-02-15T18:52:45.958Z"
   },
   {
    "duration": 80,
    "start_time": "2022-02-15T18:52:46.005Z"
   },
   {
    "duration": 65,
    "start_time": "2022-02-15T18:52:46.087Z"
   },
   {
    "duration": 47,
    "start_time": "2022-02-15T18:52:46.153Z"
   },
   {
    "duration": 36,
    "start_time": "2022-02-15T18:52:46.201Z"
   },
   {
    "duration": 66,
    "start_time": "2022-02-15T18:52:46.238Z"
   },
   {
    "duration": 4,
    "start_time": "2022-02-15T18:52:46.306Z"
   },
   {
    "duration": 76,
    "start_time": "2022-02-15T18:52:46.311Z"
   },
   {
    "duration": 74,
    "start_time": "2022-02-15T18:52:46.388Z"
   },
   {
    "duration": 30,
    "start_time": "2022-02-15T18:52:46.464Z"
   },
   {
    "duration": 52,
    "start_time": "2022-02-15T18:52:46.495Z"
   },
   {
    "duration": 33,
    "start_time": "2022-02-15T18:52:46.549Z"
   },
   {
    "duration": 19,
    "start_time": "2022-02-15T18:52:46.584Z"
   },
   {
    "duration": 59,
    "start_time": "2022-02-15T18:52:46.604Z"
   },
   {
    "duration": 37,
    "start_time": "2022-02-15T18:52:46.665Z"
   },
   {
    "duration": 34,
    "start_time": "2022-02-15T18:52:46.704Z"
   },
   {
    "duration": 17,
    "start_time": "2022-02-15T18:52:46.742Z"
   },
   {
    "duration": 18,
    "start_time": "2022-02-15T18:52:46.761Z"
   },
   {
    "duration": 4,
    "start_time": "2022-02-15T18:52:46.781Z"
   },
   {
    "duration": 126,
    "start_time": "2022-02-15T18:52:46.786Z"
   },
   {
    "duration": 82,
    "start_time": "2022-02-15T18:52:46.913Z"
   },
   {
    "duration": 20,
    "start_time": "2022-02-15T18:52:46.996Z"
   },
   {
    "duration": 31,
    "start_time": "2022-02-15T18:52:47.018Z"
   },
   {
    "duration": 38,
    "start_time": "2022-02-15T18:52:47.051Z"
   },
   {
    "duration": 12,
    "start_time": "2022-02-15T18:52:47.090Z"
   },
   {
    "duration": 45,
    "start_time": "2022-02-15T18:52:47.103Z"
   },
   {
    "duration": 16,
    "start_time": "2022-02-15T18:52:47.150Z"
   },
   {
    "duration": 29,
    "start_time": "2022-02-15T18:52:47.168Z"
   },
   {
    "duration": 34,
    "start_time": "2022-02-15T18:52:47.198Z"
   },
   {
    "duration": 24,
    "start_time": "2022-02-15T18:52:47.234Z"
   },
   {
    "duration": 6,
    "start_time": "2022-02-15T18:52:47.260Z"
   },
   {
    "duration": 21,
    "start_time": "2022-02-15T18:52:47.268Z"
   },
   {
    "duration": 9470,
    "start_time": "2022-02-15T18:52:47.291Z"
   },
   {
    "duration": -1649,
    "start_time": "2022-02-15T18:52:58.413Z"
   },
   {
    "duration": -1665,
    "start_time": "2022-02-15T18:52:58.430Z"
   },
   {
    "duration": -1680,
    "start_time": "2022-02-15T18:52:58.446Z"
   },
   {
    "duration": -1697,
    "start_time": "2022-02-15T18:52:58.465Z"
   },
   {
    "duration": -1721,
    "start_time": "2022-02-15T18:52:58.490Z"
   },
   {
    "duration": -1737,
    "start_time": "2022-02-15T18:52:58.507Z"
   },
   {
    "duration": -1743,
    "start_time": "2022-02-15T18:52:58.514Z"
   },
   {
    "duration": -1758,
    "start_time": "2022-02-15T18:52:58.531Z"
   },
   {
    "duration": -1773,
    "start_time": "2022-02-15T18:52:58.547Z"
   },
   {
    "duration": -1788,
    "start_time": "2022-02-15T18:52:58.563Z"
   },
   {
    "duration": -1803,
    "start_time": "2022-02-15T18:52:58.580Z"
   },
   {
    "duration": -1820,
    "start_time": "2022-02-15T18:52:58.598Z"
   },
   {
    "duration": -1833,
    "start_time": "2022-02-15T18:52:58.613Z"
   },
   {
    "duration": -1845,
    "start_time": "2022-02-15T18:52:58.627Z"
   },
   {
    "duration": -1857,
    "start_time": "2022-02-15T18:52:58.640Z"
   },
   {
    "duration": -1872,
    "start_time": "2022-02-15T18:52:58.656Z"
   },
   {
    "duration": -1878,
    "start_time": "2022-02-15T18:52:58.664Z"
   },
   {
    "duration": -1894,
    "start_time": "2022-02-15T18:52:58.681Z"
   },
   {
    "duration": -1910,
    "start_time": "2022-02-15T18:52:58.698Z"
   },
   {
    "duration": -1922,
    "start_time": "2022-02-15T18:52:58.712Z"
   },
   {
    "duration": -1933,
    "start_time": "2022-02-15T18:52:58.724Z"
   },
   {
    "duration": -1947,
    "start_time": "2022-02-15T18:52:58.739Z"
   },
   {
    "duration": -1952,
    "start_time": "2022-02-15T18:52:58.746Z"
   },
   {
    "duration": -1966,
    "start_time": "2022-02-15T18:52:58.761Z"
   },
   {
    "duration": -1978,
    "start_time": "2022-02-15T18:52:58.774Z"
   },
   {
    "duration": -1992,
    "start_time": "2022-02-15T18:52:58.789Z"
   },
   {
    "duration": -1997,
    "start_time": "2022-02-15T18:52:58.796Z"
   },
   {
    "duration": -2009,
    "start_time": "2022-02-15T18:52:58.809Z"
   },
   {
    "duration": -2020,
    "start_time": "2022-02-15T18:52:58.821Z"
   },
   {
    "duration": -2026,
    "start_time": "2022-02-15T18:52:58.828Z"
   },
   {
    "duration": -2011,
    "start_time": "2022-02-15T18:52:58.843Z"
   },
   {
    "duration": -2023,
    "start_time": "2022-02-15T18:52:58.856Z"
   },
   {
    "duration": 151,
    "start_time": "2022-02-15T18:55:43.951Z"
   },
   {
    "duration": 23,
    "start_time": "2022-02-15T18:57:59.747Z"
   },
   {
    "duration": 5,
    "start_time": "2022-02-15T19:02:51.345Z"
   },
   {
    "duration": 151,
    "start_time": "2022-02-15T19:05:05.500Z"
   },
   {
    "duration": 17,
    "start_time": "2022-02-15T19:05:33.199Z"
   },
   {
    "duration": 1291,
    "start_time": "2022-02-15T19:05:46.182Z"
   },
   {
    "duration": 164,
    "start_time": "2022-02-15T19:05:47.475Z"
   },
   {
    "duration": 141,
    "start_time": "2022-02-15T19:05:47.641Z"
   },
   {
    "duration": 97,
    "start_time": "2022-02-15T19:05:47.784Z"
   },
   {
    "duration": 22,
    "start_time": "2022-02-15T19:05:47.882Z"
   },
   {
    "duration": 54,
    "start_time": "2022-02-15T19:05:47.905Z"
   },
   {
    "duration": 72,
    "start_time": "2022-02-15T19:05:47.961Z"
   },
   {
    "duration": 55,
    "start_time": "2022-02-15T19:05:48.037Z"
   },
   {
    "duration": 53,
    "start_time": "2022-02-15T19:05:48.093Z"
   },
   {
    "duration": 22,
    "start_time": "2022-02-15T19:05:48.148Z"
   },
   {
    "duration": 93,
    "start_time": "2022-02-15T19:05:48.171Z"
   },
   {
    "duration": 4,
    "start_time": "2022-02-15T19:05:48.265Z"
   },
   {
    "duration": 71,
    "start_time": "2022-02-15T19:05:48.270Z"
   },
   {
    "duration": 66,
    "start_time": "2022-02-15T19:05:48.342Z"
   },
   {
    "duration": 37,
    "start_time": "2022-02-15T19:05:48.410Z"
   },
   {
    "duration": 39,
    "start_time": "2022-02-15T19:05:48.448Z"
   },
   {
    "duration": 53,
    "start_time": "2022-02-15T19:05:48.488Z"
   },
   {
    "duration": 20,
    "start_time": "2022-02-15T19:05:48.543Z"
   },
   {
    "duration": 38,
    "start_time": "2022-02-15T19:05:48.564Z"
   },
   {
    "duration": 57,
    "start_time": "2022-02-15T19:05:48.603Z"
   },
   {
    "duration": 22,
    "start_time": "2022-02-15T19:05:48.662Z"
   },
   {
    "duration": 19,
    "start_time": "2022-02-15T19:05:48.685Z"
   },
   {
    "duration": 21,
    "start_time": "2022-02-15T19:05:48.732Z"
   },
   {
    "duration": 4,
    "start_time": "2022-02-15T19:05:48.756Z"
   },
   {
    "duration": 165,
    "start_time": "2022-02-15T19:05:48.762Z"
   },
   {
    "duration": 156,
    "start_time": "2022-02-15T19:05:48.932Z"
   },
   {
    "duration": 23,
    "start_time": "2022-02-15T19:05:49.089Z"
   },
   {
    "duration": 38,
    "start_time": "2022-02-15T19:05:49.114Z"
   },
   {
    "duration": 37,
    "start_time": "2022-02-15T19:05:49.153Z"
   },
   {
    "duration": 12,
    "start_time": "2022-02-15T19:05:49.192Z"
   },
   {
    "duration": 41,
    "start_time": "2022-02-15T19:05:49.206Z"
   },
   {
    "duration": 18,
    "start_time": "2022-02-15T19:05:49.249Z"
   },
   {
    "duration": 27,
    "start_time": "2022-02-15T19:05:49.268Z"
   },
   {
    "duration": 45,
    "start_time": "2022-02-15T19:05:49.297Z"
   },
   {
    "duration": 22,
    "start_time": "2022-02-15T19:05:49.343Z"
   },
   {
    "duration": 5,
    "start_time": "2022-02-15T19:05:49.366Z"
   },
   {
    "duration": 178,
    "start_time": "2022-02-15T19:05:49.372Z"
   },
   {
    "duration": 14,
    "start_time": "2022-02-15T19:05:49.552Z"
   },
   {
    "duration": 17,
    "start_time": "2022-02-15T19:05:49.567Z"
   },
   {
    "duration": 8403,
    "start_time": "2022-02-15T19:05:49.585Z"
   },
   {
    "duration": -1592,
    "start_time": "2022-02-15T19:05:59.582Z"
   },
   {
    "duration": -1598,
    "start_time": "2022-02-15T19:05:59.589Z"
   },
   {
    "duration": -1604,
    "start_time": "2022-02-15T19:05:59.595Z"
   },
   {
    "duration": -1609,
    "start_time": "2022-02-15T19:05:59.601Z"
   },
   {
    "duration": -1614,
    "start_time": "2022-02-15T19:05:59.607Z"
   },
   {
    "duration": -1618,
    "start_time": "2022-02-15T19:05:59.612Z"
   },
   {
    "duration": -1625,
    "start_time": "2022-02-15T19:05:59.619Z"
   },
   {
    "duration": -1629,
    "start_time": "2022-02-15T19:05:59.624Z"
   },
   {
    "duration": -1631,
    "start_time": "2022-02-15T19:05:59.628Z"
   },
   {
    "duration": -1635,
    "start_time": "2022-02-15T19:05:59.633Z"
   },
   {
    "duration": -1646,
    "start_time": "2022-02-15T19:05:59.645Z"
   },
   {
    "duration": -1649,
    "start_time": "2022-02-15T19:05:59.649Z"
   },
   {
    "duration": -1653,
    "start_time": "2022-02-15T19:05:59.654Z"
   },
   {
    "duration": -1657,
    "start_time": "2022-02-15T19:05:59.659Z"
   },
   {
    "duration": -1660,
    "start_time": "2022-02-15T19:05:59.665Z"
   },
   {
    "duration": -1663,
    "start_time": "2022-02-15T19:05:59.669Z"
   },
   {
    "duration": -1667,
    "start_time": "2022-02-15T19:05:59.674Z"
   },
   {
    "duration": -1679,
    "start_time": "2022-02-15T19:05:59.689Z"
   },
   {
    "duration": -1683,
    "start_time": "2022-02-15T19:05:59.694Z"
   },
   {
    "duration": -1687,
    "start_time": "2022-02-15T19:05:59.699Z"
   },
   {
    "duration": -1691,
    "start_time": "2022-02-15T19:05:59.705Z"
   },
   {
    "duration": -1696,
    "start_time": "2022-02-15T19:05:59.711Z"
   },
   {
    "duration": -1700,
    "start_time": "2022-02-15T19:05:59.717Z"
   },
   {
    "duration": -1704,
    "start_time": "2022-02-15T19:05:59.722Z"
   },
   {
    "duration": -1708,
    "start_time": "2022-02-15T19:05:59.727Z"
   },
   {
    "duration": -1711,
    "start_time": "2022-02-15T19:05:59.731Z"
   },
   {
    "duration": -1716,
    "start_time": "2022-02-15T19:05:59.738Z"
   },
   {
    "duration": -1721,
    "start_time": "2022-02-15T19:05:59.744Z"
   },
   {
    "duration": -1727,
    "start_time": "2022-02-15T19:05:59.751Z"
   },
   {
    "duration": -1730,
    "start_time": "2022-02-15T19:05:59.756Z"
   },
   {
    "duration": -1735,
    "start_time": "2022-02-15T19:05:59.762Z"
   },
   {
    "duration": -1735,
    "start_time": "2022-02-15T19:05:59.766Z"
   },
   {
    "duration": 22,
    "start_time": "2022-02-15T19:06:37.852Z"
   },
   {
    "duration": 24,
    "start_time": "2022-02-15T19:07:42.231Z"
   },
   {
    "duration": 3,
    "start_time": "2022-02-15T19:10:49.617Z"
   },
   {
    "duration": 5,
    "start_time": "2022-02-15T19:11:10.707Z"
   },
   {
    "duration": 19,
    "start_time": "2022-02-15T19:11:18.172Z"
   },
   {
    "duration": 1175,
    "start_time": "2022-02-15T19:12:43.946Z"
   },
   {
    "duration": 172,
    "start_time": "2022-02-15T19:12:45.123Z"
   },
   {
    "duration": 137,
    "start_time": "2022-02-15T19:12:45.297Z"
   },
   {
    "duration": 95,
    "start_time": "2022-02-15T19:12:45.436Z"
   },
   {
    "duration": 23,
    "start_time": "2022-02-15T19:12:45.532Z"
   },
   {
    "duration": 65,
    "start_time": "2022-02-15T19:12:45.557Z"
   },
   {
    "duration": 75,
    "start_time": "2022-02-15T19:12:45.624Z"
   },
   {
    "duration": 59,
    "start_time": "2022-02-15T19:12:45.702Z"
   },
   {
    "duration": 40,
    "start_time": "2022-02-15T19:12:45.763Z"
   },
   {
    "duration": 36,
    "start_time": "2022-02-15T19:12:45.804Z"
   },
   {
    "duration": 67,
    "start_time": "2022-02-15T19:12:45.842Z"
   },
   {
    "duration": 4,
    "start_time": "2022-02-15T19:12:45.910Z"
   },
   {
    "duration": 72,
    "start_time": "2022-02-15T19:12:45.915Z"
   },
   {
    "duration": 79,
    "start_time": "2022-02-15T19:12:45.989Z"
   },
   {
    "duration": 29,
    "start_time": "2022-02-15T19:12:46.070Z"
   },
   {
    "duration": 56,
    "start_time": "2022-02-15T19:12:46.101Z"
   },
   {
    "duration": 35,
    "start_time": "2022-02-15T19:12:46.159Z"
   },
   {
    "duration": 37,
    "start_time": "2022-02-15T19:12:46.196Z"
   },
   {
    "duration": 39,
    "start_time": "2022-02-15T19:12:46.235Z"
   },
   {
    "duration": 57,
    "start_time": "2022-02-15T19:12:46.276Z"
   },
   {
    "duration": 25,
    "start_time": "2022-02-15T19:12:46.335Z"
   },
   {
    "duration": 20,
    "start_time": "2022-02-15T19:12:46.361Z"
   },
   {
    "duration": 19,
    "start_time": "2022-02-15T19:12:46.386Z"
   },
   {
    "duration": 28,
    "start_time": "2022-02-15T19:12:46.407Z"
   },
   {
    "duration": 158,
    "start_time": "2022-02-15T19:12:46.436Z"
   },
   {
    "duration": 158,
    "start_time": "2022-02-15T19:12:46.596Z"
   },
   {
    "duration": 22,
    "start_time": "2022-02-15T19:12:46.755Z"
   },
   {
    "duration": 19,
    "start_time": "2022-02-15T19:12:46.778Z"
   },
   {
    "duration": 54,
    "start_time": "2022-02-15T19:12:46.798Z"
   },
   {
    "duration": 12,
    "start_time": "2022-02-15T19:12:46.854Z"
   },
   {
    "duration": 24,
    "start_time": "2022-02-15T19:12:46.868Z"
   },
   {
    "duration": 39,
    "start_time": "2022-02-15T19:12:46.893Z"
   },
   {
    "duration": 25,
    "start_time": "2022-02-15T19:12:46.934Z"
   },
   {
    "duration": 20,
    "start_time": "2022-02-15T19:12:46.960Z"
   },
   {
    "duration": 20,
    "start_time": "2022-02-15T19:12:46.981Z"
   },
   {
    "duration": 29,
    "start_time": "2022-02-15T19:12:47.003Z"
   },
   {
    "duration": 157,
    "start_time": "2022-02-15T19:12:47.033Z"
   },
   {
    "duration": 21,
    "start_time": "2022-02-15T19:12:47.192Z"
   },
   {
    "duration": 27,
    "start_time": "2022-02-15T19:12:47.215Z"
   },
   {
    "duration": 3,
    "start_time": "2022-02-15T19:12:47.244Z"
   },
   {
    "duration": 8379,
    "start_time": "2022-02-15T19:12:47.249Z"
   },
   {
    "duration": -1607,
    "start_time": "2022-02-15T19:12:57.237Z"
   },
   {
    "duration": -1625,
    "start_time": "2022-02-15T19:12:57.256Z"
   },
   {
    "duration": -1664,
    "start_time": "2022-02-15T19:12:57.296Z"
   },
   {
    "duration": -1676,
    "start_time": "2022-02-15T19:12:57.308Z"
   },
   {
    "duration": -1693,
    "start_time": "2022-02-15T19:12:57.326Z"
   },
   {
    "duration": -1708,
    "start_time": "2022-02-15T19:12:57.342Z"
   },
   {
    "duration": -1730,
    "start_time": "2022-02-15T19:12:57.365Z"
   },
   {
    "duration": -1738,
    "start_time": "2022-02-15T19:12:57.374Z"
   },
   {
    "duration": -1742,
    "start_time": "2022-02-15T19:12:57.379Z"
   },
   {
    "duration": -1750,
    "start_time": "2022-02-15T19:12:57.388Z"
   },
   {
    "duration": -1754,
    "start_time": "2022-02-15T19:12:57.393Z"
   },
   {
    "duration": -1759,
    "start_time": "2022-02-15T19:12:57.399Z"
   },
   {
    "duration": -1766,
    "start_time": "2022-02-15T19:12:57.406Z"
   },
   {
    "duration": -1771,
    "start_time": "2022-02-15T19:12:57.412Z"
   },
   {
    "duration": -1777,
    "start_time": "2022-02-15T19:12:57.419Z"
   },
   {
    "duration": -1783,
    "start_time": "2022-02-15T19:12:57.426Z"
   },
   {
    "duration": -1787,
    "start_time": "2022-02-15T19:12:57.431Z"
   },
   {
    "duration": -1794,
    "start_time": "2022-02-15T19:12:57.438Z"
   },
   {
    "duration": -1798,
    "start_time": "2022-02-15T19:12:57.443Z"
   },
   {
    "duration": -1803,
    "start_time": "2022-02-15T19:12:57.449Z"
   },
   {
    "duration": -1809,
    "start_time": "2022-02-15T19:12:57.455Z"
   },
   {
    "duration": -1828,
    "start_time": "2022-02-15T19:12:57.475Z"
   },
   {
    "duration": -1836,
    "start_time": "2022-02-15T19:12:57.484Z"
   },
   {
    "duration": -1846,
    "start_time": "2022-02-15T19:12:57.494Z"
   },
   {
    "duration": -1851,
    "start_time": "2022-02-15T19:12:57.500Z"
   },
   {
    "duration": -1857,
    "start_time": "2022-02-15T19:12:57.507Z"
   },
   {
    "duration": -1862,
    "start_time": "2022-02-15T19:12:57.513Z"
   },
   {
    "duration": -1870,
    "start_time": "2022-02-15T19:12:57.522Z"
   },
   {
    "duration": -1875,
    "start_time": "2022-02-15T19:12:57.527Z"
   },
   {
    "duration": -1882,
    "start_time": "2022-02-15T19:12:57.535Z"
   },
   {
    "duration": -1887,
    "start_time": "2022-02-15T19:12:57.541Z"
   },
   {
    "duration": -1893,
    "start_time": "2022-02-15T19:12:57.547Z"
   },
   {
    "duration": 20,
    "start_time": "2022-02-15T19:14:56.889Z"
   },
   {
    "duration": 1038,
    "start_time": "2022-02-15T19:15:12.372Z"
   },
   {
    "duration": 174,
    "start_time": "2022-02-15T19:15:13.411Z"
   },
   {
    "duration": 133,
    "start_time": "2022-02-15T19:15:13.587Z"
   },
   {
    "duration": 107,
    "start_time": "2022-02-15T19:15:13.721Z"
   },
   {
    "duration": 22,
    "start_time": "2022-02-15T19:15:13.831Z"
   },
   {
    "duration": 55,
    "start_time": "2022-02-15T19:15:13.855Z"
   },
   {
    "duration": 95,
    "start_time": "2022-02-15T19:15:13.912Z"
   },
   {
    "duration": 86,
    "start_time": "2022-02-15T19:15:14.011Z"
   },
   {
    "duration": 68,
    "start_time": "2022-02-15T19:15:14.100Z"
   },
   {
    "duration": 29,
    "start_time": "2022-02-15T19:15:14.169Z"
   },
   {
    "duration": 110,
    "start_time": "2022-02-15T19:15:14.200Z"
   },
   {
    "duration": 4,
    "start_time": "2022-02-15T19:15:14.312Z"
   },
   {
    "duration": 85,
    "start_time": "2022-02-15T19:15:14.318Z"
   },
   {
    "duration": 84,
    "start_time": "2022-02-15T19:15:14.405Z"
   },
   {
    "duration": 30,
    "start_time": "2022-02-15T19:15:14.491Z"
   },
   {
    "duration": 39,
    "start_time": "2022-02-15T19:15:14.532Z"
   },
   {
    "duration": 33,
    "start_time": "2022-02-15T19:15:14.573Z"
   },
   {
    "duration": 36,
    "start_time": "2022-02-15T19:15:14.608Z"
   },
   {
    "duration": 41,
    "start_time": "2022-02-15T19:15:14.645Z"
   },
   {
    "duration": 56,
    "start_time": "2022-02-15T19:15:14.688Z"
   },
   {
    "duration": 23,
    "start_time": "2022-02-15T19:15:14.746Z"
   },
   {
    "duration": 21,
    "start_time": "2022-02-15T19:15:14.770Z"
   },
   {
    "duration": 47,
    "start_time": "2022-02-15T19:15:14.797Z"
   },
   {
    "duration": 6,
    "start_time": "2022-02-15T19:15:14.848Z"
   },
   {
    "duration": 174,
    "start_time": "2022-02-15T19:15:14.856Z"
   },
   {
    "duration": 156,
    "start_time": "2022-02-15T19:15:15.032Z"
   },
   {
    "duration": 22,
    "start_time": "2022-02-15T19:15:15.190Z"
   },
   {
    "duration": 31,
    "start_time": "2022-02-15T19:15:15.214Z"
   },
   {
    "duration": 36,
    "start_time": "2022-02-15T19:15:15.247Z"
   },
   {
    "duration": 12,
    "start_time": "2022-02-15T19:15:15.285Z"
   },
   {
    "duration": 47,
    "start_time": "2022-02-15T19:15:15.298Z"
   },
   {
    "duration": 17,
    "start_time": "2022-02-15T19:15:15.347Z"
   },
   {
    "duration": 27,
    "start_time": "2022-02-15T19:15:15.365Z"
   },
   {
    "duration": 39,
    "start_time": "2022-02-15T19:15:15.394Z"
   },
   {
    "duration": 26,
    "start_time": "2022-02-15T19:15:15.434Z"
   },
   {
    "duration": 4,
    "start_time": "2022-02-15T19:15:15.461Z"
   },
   {
    "duration": 172,
    "start_time": "2022-02-15T19:15:15.467Z"
   },
   {
    "duration": 26,
    "start_time": "2022-02-15T19:15:15.641Z"
   },
   {
    "duration": 16,
    "start_time": "2022-02-15T19:15:15.669Z"
   },
   {
    "duration": 17,
    "start_time": "2022-02-15T19:15:15.687Z"
   },
   {
    "duration": 10573,
    "start_time": "2022-02-15T19:15:15.732Z"
   },
   {
    "duration": -1551,
    "start_time": "2022-02-15T19:15:27.858Z"
   },
   {
    "duration": -1557,
    "start_time": "2022-02-15T19:15:27.865Z"
   },
   {
    "duration": -1562,
    "start_time": "2022-02-15T19:15:27.871Z"
   },
   {
    "duration": -1568,
    "start_time": "2022-02-15T19:15:27.878Z"
   },
   {
    "duration": -1574,
    "start_time": "2022-02-15T19:15:27.885Z"
   },
   {
    "duration": -1613,
    "start_time": "2022-02-15T19:15:27.925Z"
   },
   {
    "duration": -1619,
    "start_time": "2022-02-15T19:15:27.932Z"
   },
   {
    "duration": -1627,
    "start_time": "2022-02-15T19:15:27.940Z"
   },
   {
    "duration": -1631,
    "start_time": "2022-02-15T19:15:27.946Z"
   },
   {
    "duration": -1638,
    "start_time": "2022-02-15T19:15:27.953Z"
   },
   {
    "duration": -1643,
    "start_time": "2022-02-15T19:15:27.959Z"
   },
   {
    "duration": -1649,
    "start_time": "2022-02-15T19:15:27.966Z"
   },
   {
    "duration": -1653,
    "start_time": "2022-02-15T19:15:27.971Z"
   },
   {
    "duration": -1659,
    "start_time": "2022-02-15T19:15:27.978Z"
   },
   {
    "duration": -1664,
    "start_time": "2022-02-15T19:15:27.984Z"
   },
   {
    "duration": -1671,
    "start_time": "2022-02-15T19:15:27.992Z"
   },
   {
    "duration": -1676,
    "start_time": "2022-02-15T19:15:27.998Z"
   },
   {
    "duration": -1681,
    "start_time": "2022-02-15T19:15:28.004Z"
   },
   {
    "duration": -1684,
    "start_time": "2022-02-15T19:15:28.009Z"
   },
   {
    "duration": -1707,
    "start_time": "2022-02-15T19:15:28.034Z"
   },
   {
    "duration": -1712,
    "start_time": "2022-02-15T19:15:28.040Z"
   },
   {
    "duration": -1718,
    "start_time": "2022-02-15T19:15:28.047Z"
   },
   {
    "duration": -1723,
    "start_time": "2022-02-15T19:15:28.053Z"
   },
   {
    "duration": -1729,
    "start_time": "2022-02-15T19:15:28.060Z"
   },
   {
    "duration": -1735,
    "start_time": "2022-02-15T19:15:28.067Z"
   },
   {
    "duration": -1742,
    "start_time": "2022-02-15T19:15:28.075Z"
   },
   {
    "duration": -1748,
    "start_time": "2022-02-15T19:15:28.082Z"
   },
   {
    "duration": -1754,
    "start_time": "2022-02-15T19:15:28.089Z"
   },
   {
    "duration": -1759,
    "start_time": "2022-02-15T19:15:28.095Z"
   },
   {
    "duration": -1767,
    "start_time": "2022-02-15T19:15:28.103Z"
   },
   {
    "duration": -1773,
    "start_time": "2022-02-15T19:15:28.110Z"
   },
   {
    "duration": -1780,
    "start_time": "2022-02-15T19:15:28.118Z"
   },
   {
    "duration": 3350,
    "start_time": "2022-02-15T19:16:18.881Z"
   },
   {
    "duration": 3048,
    "start_time": "2022-02-15T19:17:23.334Z"
   },
   {
    "duration": 3050,
    "start_time": "2022-02-15T19:18:39.411Z"
   },
   {
    "duration": 2816,
    "start_time": "2022-02-15T19:18:52.448Z"
   },
   {
    "duration": 3044,
    "start_time": "2022-02-15T19:19:27.542Z"
   },
   {
    "duration": 3094,
    "start_time": "2022-02-15T19:20:14.970Z"
   },
   {
    "duration": 3442,
    "start_time": "2022-02-15T19:21:06.358Z"
   },
   {
    "duration": 106,
    "start_time": "2022-02-15T19:25:22.085Z"
   },
   {
    "duration": 108,
    "start_time": "2022-02-15T19:25:49.522Z"
   },
   {
    "duration": 107,
    "start_time": "2022-02-15T19:31:50.174Z"
   },
   {
    "duration": 98,
    "start_time": "2022-02-15T19:32:23.670Z"
   },
   {
    "duration": 5315,
    "start_time": "2022-02-15T19:33:41.499Z"
   },
   {
    "duration": 9554,
    "start_time": "2022-02-15T19:39:27.297Z"
   },
   {
    "duration": -1543,
    "start_time": "2022-02-15T19:40:15.523Z"
   },
   {
    "duration": 1055,
    "start_time": "2022-02-15T19:40:36.143Z"
   },
   {
    "duration": 160,
    "start_time": "2022-02-15T19:40:37.199Z"
   },
   {
    "duration": 137,
    "start_time": "2022-02-15T19:40:37.361Z"
   },
   {
    "duration": 95,
    "start_time": "2022-02-15T19:40:37.499Z"
   },
   {
    "duration": 22,
    "start_time": "2022-02-15T19:40:37.595Z"
   },
   {
    "duration": 68,
    "start_time": "2022-02-15T19:40:37.618Z"
   },
   {
    "duration": 74,
    "start_time": "2022-02-15T19:40:37.688Z"
   },
   {
    "duration": 54,
    "start_time": "2022-02-15T19:40:37.764Z"
   },
   {
    "duration": 49,
    "start_time": "2022-02-15T19:40:37.820Z"
   },
   {
    "duration": 20,
    "start_time": "2022-02-15T19:40:37.870Z"
   },
   {
    "duration": 91,
    "start_time": "2022-02-15T19:40:37.892Z"
   },
   {
    "duration": 4,
    "start_time": "2022-02-15T19:40:37.984Z"
   },
   {
    "duration": 71,
    "start_time": "2022-02-15T19:40:37.990Z"
   },
   {
    "duration": 74,
    "start_time": "2022-02-15T19:40:38.063Z"
   },
   {
    "duration": 29,
    "start_time": "2022-02-15T19:40:38.139Z"
   },
   {
    "duration": 39,
    "start_time": "2022-02-15T19:40:38.169Z"
   },
   {
    "duration": 51,
    "start_time": "2022-02-15T19:40:38.209Z"
   },
   {
    "duration": 20,
    "start_time": "2022-02-15T19:40:38.262Z"
   },
   {
    "duration": 59,
    "start_time": "2022-02-15T19:40:38.284Z"
   },
   {
    "duration": 42,
    "start_time": "2022-02-15T19:40:38.345Z"
   },
   {
    "duration": 23,
    "start_time": "2022-02-15T19:40:38.389Z"
   },
   {
    "duration": 32,
    "start_time": "2022-02-15T19:40:38.414Z"
   },
   {
    "duration": 22,
    "start_time": "2022-02-15T19:40:38.452Z"
   },
   {
    "duration": 6,
    "start_time": "2022-02-15T19:40:38.477Z"
   },
   {
    "duration": 186,
    "start_time": "2022-02-15T19:40:38.484Z"
   },
   {
    "duration": 157,
    "start_time": "2022-02-15T19:40:38.671Z"
   },
   {
    "duration": 23,
    "start_time": "2022-02-15T19:40:38.829Z"
   },
   {
    "duration": 22,
    "start_time": "2022-02-15T19:40:38.853Z"
   },
   {
    "duration": 36,
    "start_time": "2022-02-15T19:40:38.876Z"
   },
   {
    "duration": 11,
    "start_time": "2022-02-15T19:40:38.932Z"
   },
   {
    "duration": 26,
    "start_time": "2022-02-15T19:40:38.945Z"
   },
   {
    "duration": 16,
    "start_time": "2022-02-15T19:40:38.973Z"
   },
   {
    "duration": 51,
    "start_time": "2022-02-15T19:40:38.991Z"
   },
   {
    "duration": 22,
    "start_time": "2022-02-15T19:40:39.044Z"
   },
   {
    "duration": 21,
    "start_time": "2022-02-15T19:40:39.068Z"
   },
   {
    "duration": 5,
    "start_time": "2022-02-15T19:40:39.090Z"
   },
   {
    "duration": 181,
    "start_time": "2022-02-15T19:40:39.097Z"
   },
   {
    "duration": 22,
    "start_time": "2022-02-15T19:40:39.280Z"
   },
   {
    "duration": 32,
    "start_time": "2022-02-15T19:40:39.303Z"
   },
   {
    "duration": 2983,
    "start_time": "2022-02-15T19:40:39.336Z"
   },
   {
    "duration": 5647,
    "start_time": "2022-02-15T19:40:42.321Z"
   },
   {
    "duration": 11529,
    "start_time": "2022-02-15T19:40:47.969Z"
   },
   {
    "duration": -1639,
    "start_time": "2022-02-15T19:41:01.140Z"
   },
   {
    "duration": -1653,
    "start_time": "2022-02-15T19:41:01.155Z"
   },
   {
    "duration": -1665,
    "start_time": "2022-02-15T19:41:01.168Z"
   },
   {
    "duration": -1672,
    "start_time": "2022-02-15T19:41:01.176Z"
   },
   {
    "duration": -1694,
    "start_time": "2022-02-15T19:41:01.199Z"
   },
   {
    "duration": -1699,
    "start_time": "2022-02-15T19:41:01.205Z"
   },
   {
    "duration": -1714,
    "start_time": "2022-02-15T19:41:01.221Z"
   },
   {
    "duration": -1728,
    "start_time": "2022-02-15T19:41:01.236Z"
   },
   {
    "duration": -1742,
    "start_time": "2022-02-15T19:41:01.251Z"
   },
   {
    "duration": -1748,
    "start_time": "2022-02-15T19:41:01.258Z"
   },
   {
    "duration": -1764,
    "start_time": "2022-02-15T19:41:01.274Z"
   },
   {
    "duration": -1779,
    "start_time": "2022-02-15T19:41:01.290Z"
   },
   {
    "duration": -1784,
    "start_time": "2022-02-15T19:41:01.296Z"
   },
   {
    "duration": -1788,
    "start_time": "2022-02-15T19:41:01.301Z"
   },
   {
    "duration": -1793,
    "start_time": "2022-02-15T19:41:01.307Z"
   },
   {
    "duration": -1797,
    "start_time": "2022-02-15T19:41:01.312Z"
   },
   {
    "duration": -1801,
    "start_time": "2022-02-15T19:41:01.317Z"
   },
   {
    "duration": -1807,
    "start_time": "2022-02-15T19:41:01.323Z"
   },
   {
    "duration": -1812,
    "start_time": "2022-02-15T19:41:01.329Z"
   },
   {
    "duration": -1817,
    "start_time": "2022-02-15T19:41:01.335Z"
   },
   {
    "duration": -1821,
    "start_time": "2022-02-15T19:41:01.340Z"
   },
   {
    "duration": -1825,
    "start_time": "2022-02-15T19:41:01.345Z"
   },
   {
    "duration": -1829,
    "start_time": "2022-02-15T19:41:01.350Z"
   },
   {
    "duration": -1833,
    "start_time": "2022-02-15T19:41:01.355Z"
   },
   {
    "duration": -1837,
    "start_time": "2022-02-15T19:41:01.360Z"
   },
   {
    "duration": -1843,
    "start_time": "2022-02-15T19:41:01.366Z"
   },
   {
    "duration": -1846,
    "start_time": "2022-02-15T19:41:01.370Z"
   },
   {
    "duration": -1851,
    "start_time": "2022-02-15T19:41:01.376Z"
   },
   {
    "duration": -1855,
    "start_time": "2022-02-15T19:41:01.381Z"
   },
   {
    "duration": -1859,
    "start_time": "2022-02-15T19:41:01.386Z"
   },
   {
    "duration": -1876,
    "start_time": "2022-02-15T19:41:01.404Z"
   },
   {
    "duration": -1881,
    "start_time": "2022-02-15T19:41:01.410Z"
   },
   {
    "duration": -1885,
    "start_time": "2022-02-15T19:41:01.415Z"
   },
   {
    "duration": 1365,
    "start_time": "2022-02-15T19:41:56.376Z"
   },
   {
    "duration": 5535,
    "start_time": "2022-02-15T19:42:27.653Z"
   },
   {
    "duration": 33,
    "start_time": "2022-02-15T19:43:26.193Z"
   },
   {
    "duration": 162,
    "start_time": "2022-02-15T19:45:12.028Z"
   },
   {
    "duration": 282,
    "start_time": "2022-02-15T19:45:39.600Z"
   },
   {
    "duration": 12,
    "start_time": "2022-02-15T19:45:49.321Z"
   },
   {
    "duration": 142,
    "start_time": "2022-02-15T19:46:03.410Z"
   },
   {
    "duration": 99,
    "start_time": "2022-02-15T19:46:30.437Z"
   },
   {
    "duration": 10,
    "start_time": "2022-02-15T19:46:49.029Z"
   },
   {
    "duration": 152,
    "start_time": "2022-02-15T19:46:56.130Z"
   },
   {
    "duration": 9,
    "start_time": "2022-02-15T19:47:17.489Z"
   },
   {
    "duration": 155,
    "start_time": "2022-02-15T19:48:36.311Z"
   },
   {
    "duration": 12,
    "start_time": "2022-02-15T19:49:05.687Z"
   },
   {
    "duration": 367,
    "start_time": "2022-02-15T19:49:15.115Z"
   },
   {
    "duration": 10,
    "start_time": "2022-02-15T19:49:31.011Z"
   },
   {
    "duration": 143,
    "start_time": "2022-02-15T19:49:43.265Z"
   },
   {
    "duration": 10,
    "start_time": "2022-02-15T19:50:07.792Z"
   },
   {
    "duration": 283,
    "start_time": "2022-02-15T19:50:50.287Z"
   },
   {
    "duration": 121,
    "start_time": "2022-02-15T19:50:59.752Z"
   },
   {
    "duration": 313,
    "start_time": "2022-02-15T19:51:35.240Z"
   },
   {
    "duration": 8827,
    "start_time": "2022-02-15T19:52:15.556Z"
   },
   {
    "duration": 288,
    "start_time": "2022-02-15T19:52:42.374Z"
   },
   {
    "duration": 138,
    "start_time": "2022-02-15T19:52:55.595Z"
   },
   {
    "duration": 313,
    "start_time": "2022-02-15T19:53:25.557Z"
   },
   {
    "duration": 7293,
    "start_time": "2022-02-15T19:55:10.781Z"
   },
   {
    "duration": 276,
    "start_time": "2022-02-15T19:56:51.713Z"
   },
   {
    "duration": 157,
    "start_time": "2022-02-15T19:56:57.655Z"
   },
   {
    "duration": 4,
    "start_time": "2022-02-15T19:59:35.942Z"
   },
   {
    "duration": 293,
    "start_time": "2022-02-15T19:59:46.927Z"
   },
   {
    "duration": 5,
    "start_time": "2022-02-15T19:59:52.809Z"
   },
   {
    "duration": 5,
    "start_time": "2022-02-15T20:00:54.480Z"
   },
   {
    "duration": 150,
    "start_time": "2022-02-15T20:02:26.986Z"
   },
   {
    "duration": 5,
    "start_time": "2022-02-15T20:03:46.656Z"
   },
   {
    "duration": 9,
    "start_time": "2022-02-15T20:04:57.149Z"
   },
   {
    "duration": 1025,
    "start_time": "2022-02-15T20:06:51.463Z"
   },
   {
    "duration": 164,
    "start_time": "2022-02-15T20:06:52.490Z"
   },
   {
    "duration": 135,
    "start_time": "2022-02-15T20:06:52.656Z"
   },
   {
    "duration": 96,
    "start_time": "2022-02-15T20:06:52.793Z"
   },
   {
    "duration": 23,
    "start_time": "2022-02-15T20:06:52.890Z"
   },
   {
    "duration": 44,
    "start_time": "2022-02-15T20:06:52.915Z"
   },
   {
    "duration": 78,
    "start_time": "2022-02-15T20:06:52.960Z"
   },
   {
    "duration": 63,
    "start_time": "2022-02-15T20:06:53.040Z"
   },
   {
    "duration": 57,
    "start_time": "2022-02-15T20:06:53.105Z"
   },
   {
    "duration": 32,
    "start_time": "2022-02-15T20:06:53.164Z"
   },
   {
    "duration": 101,
    "start_time": "2022-02-15T20:06:53.198Z"
   },
   {
    "duration": 4,
    "start_time": "2022-02-15T20:06:53.301Z"
   },
   {
    "duration": 85,
    "start_time": "2022-02-15T20:06:53.307Z"
   },
   {
    "duration": 73,
    "start_time": "2022-02-15T20:06:53.394Z"
   },
   {
    "duration": 31,
    "start_time": "2022-02-15T20:06:53.468Z"
   },
   {
    "duration": 68,
    "start_time": "2022-02-15T20:06:53.501Z"
   },
   {
    "duration": 39,
    "start_time": "2022-02-15T20:06:53.571Z"
   },
   {
    "duration": 37,
    "start_time": "2022-02-15T20:06:53.613Z"
   },
   {
    "duration": 40,
    "start_time": "2022-02-15T20:06:53.652Z"
   },
   {
    "duration": 54,
    "start_time": "2022-02-15T20:06:53.693Z"
   },
   {
    "duration": 23,
    "start_time": "2022-02-15T20:06:53.748Z"
   },
   {
    "duration": 18,
    "start_time": "2022-02-15T20:06:53.772Z"
   },
   {
    "duration": 43,
    "start_time": "2022-02-15T20:06:53.794Z"
   },
   {
    "duration": 5,
    "start_time": "2022-02-15T20:06:53.839Z"
   },
   {
    "duration": 192,
    "start_time": "2022-02-15T20:06:53.846Z"
   },
   {
    "duration": 198,
    "start_time": "2022-02-15T20:06:54.040Z"
   },
   {
    "duration": 34,
    "start_time": "2022-02-15T20:06:54.240Z"
   },
   {
    "duration": 24,
    "start_time": "2022-02-15T20:06:54.276Z"
   },
   {
    "duration": 67,
    "start_time": "2022-02-15T20:06:54.302Z"
   },
   {
    "duration": 16,
    "start_time": "2022-02-15T20:06:54.371Z"
   },
   {
    "duration": 49,
    "start_time": "2022-02-15T20:06:54.389Z"
   },
   {
    "duration": 23,
    "start_time": "2022-02-15T20:06:54.440Z"
   },
   {
    "duration": 35,
    "start_time": "2022-02-15T20:06:54.465Z"
   },
   {
    "duration": 44,
    "start_time": "2022-02-15T20:06:54.502Z"
   },
   {
    "duration": 30,
    "start_time": "2022-02-15T20:06:54.548Z"
   },
   {
    "duration": 5,
    "start_time": "2022-02-15T20:06:54.580Z"
   },
   {
    "duration": 186,
    "start_time": "2022-02-15T20:06:54.586Z"
   },
   {
    "duration": 23,
    "start_time": "2022-02-15T20:06:54.773Z"
   },
   {
    "duration": 18,
    "start_time": "2022-02-15T20:06:54.797Z"
   },
   {
    "duration": 3576,
    "start_time": "2022-02-15T20:06:54.833Z"
   },
   {
    "duration": 5365,
    "start_time": "2022-02-15T20:06:58.410Z"
   },
   {
    "duration": 5770,
    "start_time": "2022-02-15T20:07:03.777Z"
   },
   {
    "duration": 36,
    "start_time": "2022-02-15T20:07:09.549Z"
   },
   {
    "duration": 170,
    "start_time": "2022-02-15T20:07:09.587Z"
   },
   {
    "duration": 11,
    "start_time": "2022-02-15T20:07:09.759Z"
   },
   {
    "duration": 163,
    "start_time": "2022-02-15T20:07:09.771Z"
   },
   {
    "duration": 4,
    "start_time": "2022-02-15T20:07:09.936Z"
   },
   {
    "duration": 141,
    "start_time": "2022-02-15T20:07:09.942Z"
   },
   {
    "duration": 9,
    "start_time": "2022-02-15T20:07:10.085Z"
   },
   {
    "duration": 169,
    "start_time": "2022-02-15T20:07:10.095Z"
   },
   {
    "duration": 5,
    "start_time": "2022-02-15T20:07:10.265Z"
   },
   {
    "duration": 192,
    "start_time": "2022-02-15T20:07:10.272Z"
   },
   {
    "duration": 10,
    "start_time": "2022-02-15T20:07:10.465Z"
   },
   {
    "duration": 166,
    "start_time": "2022-02-15T20:07:10.533Z"
   },
   {
    "duration": 34,
    "start_time": "2022-02-15T20:07:10.701Z"
   },
   {
    "duration": 224,
    "start_time": "2022-02-15T20:07:10.737Z"
   },
   {
    "duration": 9,
    "start_time": "2022-02-15T20:07:10.963Z"
   },
   {
    "duration": 163,
    "start_time": "2022-02-15T20:07:10.974Z"
   },
   {
    "duration": 10,
    "start_time": "2022-02-15T20:07:11.138Z"
   },
   {
    "duration": 304,
    "start_time": "2022-02-15T20:07:11.149Z"
   },
   {
    "duration": 124,
    "start_time": "2022-02-15T20:07:11.454Z"
   },
   {
    "duration": 317,
    "start_time": "2022-02-15T20:07:11.579Z"
   },
   {
    "duration": 321,
    "start_time": "2022-02-15T20:07:11.898Z"
   },
   {
    "duration": 137,
    "start_time": "2022-02-15T20:07:12.221Z"
   },
   {
    "duration": 309,
    "start_time": "2022-02-15T20:07:12.359Z"
   },
   {
    "duration": 7293,
    "start_time": "2022-02-15T20:07:12.670Z"
   },
   {
    "duration": -1493,
    "start_time": "2022-02-15T20:07:21.458Z"
   },
   {
    "duration": -1498,
    "start_time": "2022-02-15T20:07:21.464Z"
   },
   {
    "duration": -1503,
    "start_time": "2022-02-15T20:07:21.470Z"
   },
   {
    "duration": -1507,
    "start_time": "2022-02-15T20:07:21.475Z"
   },
   {
    "duration": -1513,
    "start_time": "2022-02-15T20:07:21.481Z"
   },
   {
    "duration": -1517,
    "start_time": "2022-02-15T20:07:21.486Z"
   },
   {
    "duration": 167,
    "start_time": "2022-02-15T20:09:03.997Z"
   },
   {
    "duration": 155,
    "start_time": "2022-02-15T20:09:51.081Z"
   },
   {
    "duration": 1034,
    "start_time": "2022-02-15T20:10:06.453Z"
   },
   {
    "duration": 158,
    "start_time": "2022-02-15T20:10:07.489Z"
   },
   {
    "duration": 132,
    "start_time": "2022-02-15T20:10:07.649Z"
   },
   {
    "duration": 93,
    "start_time": "2022-02-15T20:10:07.783Z"
   },
   {
    "duration": 21,
    "start_time": "2022-02-15T20:10:07.878Z"
   },
   {
    "duration": 40,
    "start_time": "2022-02-15T20:10:07.901Z"
   },
   {
    "duration": 74,
    "start_time": "2022-02-15T20:10:07.943Z"
   },
   {
    "duration": 62,
    "start_time": "2022-02-15T20:10:08.019Z"
   },
   {
    "duration": 55,
    "start_time": "2022-02-15T20:10:08.083Z"
   },
   {
    "duration": 20,
    "start_time": "2022-02-15T20:10:08.140Z"
   },
   {
    "duration": 90,
    "start_time": "2022-02-15T20:10:08.161Z"
   },
   {
    "duration": 4,
    "start_time": "2022-02-15T20:10:08.253Z"
   },
   {
    "duration": 78,
    "start_time": "2022-02-15T20:10:08.258Z"
   },
   {
    "duration": 70,
    "start_time": "2022-02-15T20:10:08.338Z"
   },
   {
    "duration": 40,
    "start_time": "2022-02-15T20:10:08.409Z"
   },
   {
    "duration": 37,
    "start_time": "2022-02-15T20:10:08.451Z"
   },
   {
    "duration": 53,
    "start_time": "2022-02-15T20:10:08.490Z"
   },
   {
    "duration": 19,
    "start_time": "2022-02-15T20:10:08.545Z"
   },
   {
    "duration": 36,
    "start_time": "2022-02-15T20:10:08.566Z"
   },
   {
    "duration": 57,
    "start_time": "2022-02-15T20:10:08.604Z"
   },
   {
    "duration": 24,
    "start_time": "2022-02-15T20:10:08.663Z"
   },
   {
    "duration": 19,
    "start_time": "2022-02-15T20:10:08.689Z"
   },
   {
    "duration": 38,
    "start_time": "2022-02-15T20:10:08.713Z"
   },
   {
    "duration": 6,
    "start_time": "2022-02-15T20:10:08.754Z"
   },
   {
    "duration": 193,
    "start_time": "2022-02-15T20:10:08.761Z"
   },
   {
    "duration": 165,
    "start_time": "2022-02-15T20:10:08.956Z"
   },
   {
    "duration": 27,
    "start_time": "2022-02-15T20:10:09.123Z"
   },
   {
    "duration": 19,
    "start_time": "2022-02-15T20:10:09.152Z"
   },
   {
    "duration": 36,
    "start_time": "2022-02-15T20:10:09.173Z"
   },
   {
    "duration": 34,
    "start_time": "2022-02-15T20:10:09.210Z"
   },
   {
    "duration": 29,
    "start_time": "2022-02-15T20:10:09.246Z"
   },
   {
    "duration": 23,
    "start_time": "2022-02-15T20:10:09.277Z"
   },
   {
    "duration": 45,
    "start_time": "2022-02-15T20:10:09.302Z"
   },
   {
    "duration": 21,
    "start_time": "2022-02-15T20:10:09.349Z"
   },
   {
    "duration": 20,
    "start_time": "2022-02-15T20:10:09.372Z"
   },
   {
    "duration": 5,
    "start_time": "2022-02-15T20:10:09.394Z"
   },
   {
    "duration": 184,
    "start_time": "2022-02-15T20:10:09.400Z"
   },
   {
    "duration": 22,
    "start_time": "2022-02-15T20:10:09.585Z"
   },
   {
    "duration": 27,
    "start_time": "2022-02-15T20:10:09.609Z"
   },
   {
    "duration": 2984,
    "start_time": "2022-02-15T20:10:09.637Z"
   },
   {
    "duration": 5296,
    "start_time": "2022-02-15T20:10:12.622Z"
   },
   {
    "duration": 5580,
    "start_time": "2022-02-15T20:10:17.920Z"
   },
   {
    "duration": 39,
    "start_time": "2022-02-15T20:10:23.501Z"
   },
   {
    "duration": 171,
    "start_time": "2022-02-15T20:10:23.542Z"
   },
   {
    "duration": 20,
    "start_time": "2022-02-15T20:10:23.715Z"
   },
   {
    "duration": 166,
    "start_time": "2022-02-15T20:10:23.736Z"
   },
   {
    "duration": 6,
    "start_time": "2022-02-15T20:10:23.904Z"
   },
   {
    "duration": 153,
    "start_time": "2022-02-15T20:10:23.912Z"
   },
   {
    "duration": 9,
    "start_time": "2022-02-15T20:10:24.068Z"
   },
   {
    "duration": 189,
    "start_time": "2022-02-15T20:10:24.079Z"
   },
   {
    "duration": 5,
    "start_time": "2022-02-15T20:10:24.270Z"
   },
   {
    "duration": 167,
    "start_time": "2022-02-15T20:10:24.277Z"
   },
   {
    "duration": 10,
    "start_time": "2022-02-15T20:10:24.446Z"
   },
   {
    "duration": 188,
    "start_time": "2022-02-15T20:10:24.457Z"
   },
   {
    "duration": 162,
    "start_time": "2022-02-15T20:10:24.646Z"
   },
   {
    "duration": 12,
    "start_time": "2022-02-15T20:10:24.809Z"
   },
   {
    "duration": 148,
    "start_time": "2022-02-15T20:10:24.831Z"
   },
   {
    "duration": 9,
    "start_time": "2022-02-15T20:10:24.980Z"
   },
   {
    "duration": 169,
    "start_time": "2022-02-15T20:10:24.991Z"
   },
   {
    "duration": 10,
    "start_time": "2022-02-15T20:10:25.162Z"
   },
   {
    "duration": 338,
    "start_time": "2022-02-15T20:10:25.174Z"
   },
   {
    "duration": 145,
    "start_time": "2022-02-15T20:10:25.514Z"
   },
   {
    "duration": 319,
    "start_time": "2022-02-15T20:10:25.661Z"
   },
   {
    "duration": 289,
    "start_time": "2022-02-15T20:10:25.982Z"
   },
   {
    "duration": 138,
    "start_time": "2022-02-15T20:10:26.273Z"
   },
   {
    "duration": 308,
    "start_time": "2022-02-15T20:10:26.412Z"
   },
   {
    "duration": 7479,
    "start_time": "2022-02-15T20:10:26.721Z"
   },
   {
    "duration": -1522,
    "start_time": "2022-02-15T20:10:35.724Z"
   },
   {
    "duration": -1548,
    "start_time": "2022-02-15T20:10:35.751Z"
   },
   {
    "duration": -1552,
    "start_time": "2022-02-15T20:10:35.757Z"
   },
   {
    "duration": -1559,
    "start_time": "2022-02-15T20:10:35.765Z"
   },
   {
    "duration": -1574,
    "start_time": "2022-02-15T20:10:35.781Z"
   },
   {
    "duration": -1587,
    "start_time": "2022-02-15T20:10:35.796Z"
   },
   {
    "duration": 7426,
    "start_time": "2022-02-15T20:11:52.152Z"
   },
   {
    "duration": 8265,
    "start_time": "2022-02-15T20:12:00.116Z"
   },
   {
    "duration": 1054,
    "start_time": "2022-02-15T20:12:34.343Z"
   },
   {
    "duration": 160,
    "start_time": "2022-02-15T20:12:35.399Z"
   },
   {
    "duration": 131,
    "start_time": "2022-02-15T20:12:35.561Z"
   },
   {
    "duration": 94,
    "start_time": "2022-02-15T20:12:35.694Z"
   },
   {
    "duration": 23,
    "start_time": "2022-02-15T20:12:35.789Z"
   },
   {
    "duration": 41,
    "start_time": "2022-02-15T20:12:35.814Z"
   },
   {
    "duration": 76,
    "start_time": "2022-02-15T20:12:35.856Z"
   },
   {
    "duration": 57,
    "start_time": "2022-02-15T20:12:35.934Z"
   },
   {
    "duration": 55,
    "start_time": "2022-02-15T20:12:35.993Z"
   },
   {
    "duration": 20,
    "start_time": "2022-02-15T20:12:36.049Z"
   },
   {
    "duration": 88,
    "start_time": "2022-02-15T20:12:36.071Z"
   },
   {
    "duration": 3,
    "start_time": "2022-02-15T20:12:36.161Z"
   },
   {
    "duration": 75,
    "start_time": "2022-02-15T20:12:36.166Z"
   },
   {
    "duration": 70,
    "start_time": "2022-02-15T20:12:36.242Z"
   },
   {
    "duration": 37,
    "start_time": "2022-02-15T20:12:36.313Z"
   },
   {
    "duration": 39,
    "start_time": "2022-02-15T20:12:36.351Z"
   },
   {
    "duration": 51,
    "start_time": "2022-02-15T20:12:36.392Z"
   },
   {
    "duration": 22,
    "start_time": "2022-02-15T20:12:36.445Z"
   },
   {
    "duration": 38,
    "start_time": "2022-02-15T20:12:36.469Z"
   },
   {
    "duration": 55,
    "start_time": "2022-02-15T20:12:36.509Z"
   },
   {
    "duration": 24,
    "start_time": "2022-02-15T20:12:36.566Z"
   },
   {
    "duration": 43,
    "start_time": "2022-02-15T20:12:36.592Z"
   },
   {
    "duration": 20,
    "start_time": "2022-02-15T20:12:36.640Z"
   },
   {
    "duration": 12,
    "start_time": "2022-02-15T20:12:36.663Z"
   },
   {
    "duration": 168,
    "start_time": "2022-02-15T20:12:36.677Z"
   },
   {
    "duration": 153,
    "start_time": "2022-02-15T20:12:36.847Z"
   },
   {
    "duration": 32,
    "start_time": "2022-02-15T20:12:37.001Z"
   },
   {
    "duration": 19,
    "start_time": "2022-02-15T20:12:37.035Z"
   },
   {
    "duration": 35,
    "start_time": "2022-02-15T20:12:37.055Z"
   },
   {
    "duration": 12,
    "start_time": "2022-02-15T20:12:37.091Z"
   },
   {
    "duration": 45,
    "start_time": "2022-02-15T20:12:37.105Z"
   },
   {
    "duration": 17,
    "start_time": "2022-02-15T20:12:37.152Z"
   },
   {
    "duration": 26,
    "start_time": "2022-02-15T20:12:37.170Z"
   },
   {
    "duration": 39,
    "start_time": "2022-02-15T20:12:37.198Z"
   },
   {
    "duration": 20,
    "start_time": "2022-02-15T20:12:37.239Z"
   },
   {
    "duration": 4,
    "start_time": "2022-02-15T20:12:37.261Z"
   },
   {
    "duration": 177,
    "start_time": "2022-02-15T20:12:37.266Z"
   },
   {
    "duration": 23,
    "start_time": "2022-02-15T20:12:37.445Z"
   },
   {
    "duration": 18,
    "start_time": "2022-02-15T20:12:37.469Z"
   },
   {
    "duration": 3204,
    "start_time": "2022-02-15T20:12:37.489Z"
   },
   {
    "duration": 5227,
    "start_time": "2022-02-15T20:12:40.695Z"
   },
   {
    "duration": 5700,
    "start_time": "2022-02-15T20:12:45.923Z"
   },
   {
    "duration": 38,
    "start_time": "2022-02-15T20:12:51.625Z"
   },
   {
    "duration": 172,
    "start_time": "2022-02-15T20:12:51.664Z"
   },
   {
    "duration": 11,
    "start_time": "2022-02-15T20:12:51.838Z"
   },
   {
    "duration": 180,
    "start_time": "2022-02-15T20:12:51.851Z"
   },
   {
    "duration": 5,
    "start_time": "2022-02-15T20:12:52.033Z"
   },
   {
    "duration": 151,
    "start_time": "2022-02-15T20:12:52.039Z"
   },
   {
    "duration": 9,
    "start_time": "2022-02-15T20:12:52.192Z"
   },
   {
    "duration": 178,
    "start_time": "2022-02-15T20:12:52.202Z"
   },
   {
    "duration": 4,
    "start_time": "2022-02-15T20:12:52.382Z"
   },
   {
    "duration": 160,
    "start_time": "2022-02-15T20:12:52.388Z"
   },
   {
    "duration": 8,
    "start_time": "2022-02-15T20:12:52.550Z"
   },
   {
    "duration": 177,
    "start_time": "2022-02-15T20:12:52.560Z"
   },
   {
    "duration": 161,
    "start_time": "2022-02-15T20:12:52.739Z"
   },
   {
    "duration": 11,
    "start_time": "2022-02-15T20:12:52.901Z"
   },
   {
    "duration": 7510,
    "start_time": "2022-02-15T20:12:52.914Z"
   },
   {
    "duration": -1482,
    "start_time": "2022-02-15T20:13:01.913Z"
   },
   {
    "duration": -1485,
    "start_time": "2022-02-15T20:13:01.917Z"
   },
   {
    "duration": -1490,
    "start_time": "2022-02-15T20:13:01.923Z"
   },
   {
    "duration": -1497,
    "start_time": "2022-02-15T20:13:01.930Z"
   },
   {
    "duration": -1501,
    "start_time": "2022-02-15T20:13:01.935Z"
   },
   {
    "duration": -1505,
    "start_time": "2022-02-15T20:13:01.940Z"
   },
   {
    "duration": -1509,
    "start_time": "2022-02-15T20:13:01.945Z"
   },
   {
    "duration": -1513,
    "start_time": "2022-02-15T20:13:01.950Z"
   },
   {
    "duration": -1517,
    "start_time": "2022-02-15T20:13:01.955Z"
   },
   {
    "duration": -1522,
    "start_time": "2022-02-15T20:13:01.960Z"
   },
   {
    "duration": -1527,
    "start_time": "2022-02-15T20:13:01.966Z"
   },
   {
    "duration": -1531,
    "start_time": "2022-02-15T20:13:01.971Z"
   },
   {
    "duration": -1535,
    "start_time": "2022-02-15T20:13:01.976Z"
   },
   {
    "duration": -1539,
    "start_time": "2022-02-15T20:13:01.981Z"
   },
   {
    "duration": -1543,
    "start_time": "2022-02-15T20:13:01.986Z"
   },
   {
    "duration": -1547,
    "start_time": "2022-02-15T20:13:01.991Z"
   },
   {
    "duration": -1551,
    "start_time": "2022-02-15T20:13:01.996Z"
   },
   {
    "duration": 268,
    "start_time": "2022-02-15T20:13:54.434Z"
   },
   {
    "duration": 149,
    "start_time": "2022-02-15T20:14:10.673Z"
   },
   {
    "duration": 9,
    "start_time": "2022-02-15T20:14:13.854Z"
   },
   {
    "duration": 142,
    "start_time": "2022-02-15T20:14:16.262Z"
   },
   {
    "duration": 175,
    "start_time": "2022-02-15T20:15:18.788Z"
   },
   {
    "duration": 10,
    "start_time": "2022-02-15T20:15:37.809Z"
   },
   {
    "duration": 171,
    "start_time": "2022-02-15T20:16:11.791Z"
   },
   {
    "duration": 283,
    "start_time": "2022-02-15T20:16:26.759Z"
   },
   {
    "duration": 117,
    "start_time": "2022-02-15T20:16:31.278Z"
   },
   {
    "duration": 298,
    "start_time": "2022-02-15T20:16:33.272Z"
   },
   {
    "duration": 281,
    "start_time": "2022-02-15T20:16:35.597Z"
   },
   {
    "duration": 128,
    "start_time": "2022-02-15T20:16:38.065Z"
   },
   {
    "duration": 292,
    "start_time": "2022-02-15T20:16:40.047Z"
   },
   {
    "duration": 7093,
    "start_time": "2022-02-15T20:17:38.604Z"
   },
   {
    "duration": 5,
    "start_time": "2022-02-15T20:18:06.137Z"
   },
   {
    "duration": 106,
    "start_time": "2022-02-15T20:18:29.334Z"
   },
   {
    "duration": 76,
    "start_time": "2022-02-15T20:18:31.437Z"
   },
   {
    "duration": 65,
    "start_time": "2022-02-15T20:18:32.964Z"
   },
   {
    "duration": 24,
    "start_time": "2022-02-15T20:18:34.526Z"
   },
   {
    "duration": 7557,
    "start_time": "2022-02-15T20:18:35.704Z"
   },
   {
    "duration": 1894,
    "start_time": "2022-02-15T20:20:34.062Z"
   },
   {
    "duration": 185,
    "start_time": "2022-02-15T20:20:35.958Z"
   },
   {
    "duration": 137,
    "start_time": "2022-02-15T20:20:36.145Z"
   },
   {
    "duration": 99,
    "start_time": "2022-02-15T20:20:36.283Z"
   },
   {
    "duration": 22,
    "start_time": "2022-02-15T20:20:36.384Z"
   },
   {
    "duration": 35,
    "start_time": "2022-02-15T20:20:36.408Z"
   },
   {
    "duration": 96,
    "start_time": "2022-02-15T20:20:36.445Z"
   },
   {
    "duration": 56,
    "start_time": "2022-02-15T20:20:36.542Z"
   },
   {
    "duration": 58,
    "start_time": "2022-02-15T20:20:36.601Z"
   },
   {
    "duration": 21,
    "start_time": "2022-02-15T20:20:36.661Z"
   },
   {
    "duration": 91,
    "start_time": "2022-02-15T20:20:36.684Z"
   },
   {
    "duration": 3,
    "start_time": "2022-02-15T20:20:36.776Z"
   },
   {
    "duration": 74,
    "start_time": "2022-02-15T20:20:36.781Z"
   },
   {
    "duration": 79,
    "start_time": "2022-02-15T20:20:36.856Z"
   },
   {
    "duration": 32,
    "start_time": "2022-02-15T20:20:36.936Z"
   },
   {
    "duration": 40,
    "start_time": "2022-02-15T20:20:36.970Z"
   },
   {
    "duration": 46,
    "start_time": "2022-02-15T20:20:37.012Z"
   },
   {
    "duration": 21,
    "start_time": "2022-02-15T20:20:37.059Z"
   },
   {
    "duration": 61,
    "start_time": "2022-02-15T20:20:37.082Z"
   },
   {
    "duration": 48,
    "start_time": "2022-02-15T20:20:37.144Z"
   },
   {
    "duration": 40,
    "start_time": "2022-02-15T20:20:37.194Z"
   },
   {
    "duration": 20,
    "start_time": "2022-02-15T20:20:37.236Z"
   },
   {
    "duration": 23,
    "start_time": "2022-02-15T20:20:37.257Z"
   },
   {
    "duration": 5,
    "start_time": "2022-02-15T20:20:37.281Z"
   },
   {
    "duration": 181,
    "start_time": "2022-02-15T20:20:37.287Z"
   },
   {
    "duration": 164,
    "start_time": "2022-02-15T20:20:37.470Z"
   },
   {
    "duration": 22,
    "start_time": "2022-02-15T20:20:37.638Z"
   },
   {
    "duration": 21,
    "start_time": "2022-02-15T20:20:37.662Z"
   },
   {
    "duration": 56,
    "start_time": "2022-02-15T20:20:37.685Z"
   },
   {
    "duration": 12,
    "start_time": "2022-02-15T20:20:37.742Z"
   },
   {
    "duration": 28,
    "start_time": "2022-02-15T20:20:37.756Z"
   },
   {
    "duration": 17,
    "start_time": "2022-02-15T20:20:37.786Z"
   },
   {
    "duration": 50,
    "start_time": "2022-02-15T20:20:37.804Z"
   },
   {
    "duration": 20,
    "start_time": "2022-02-15T20:20:37.855Z"
   },
   {
    "duration": 20,
    "start_time": "2022-02-15T20:20:37.876Z"
   },
   {
    "duration": 4,
    "start_time": "2022-02-15T20:20:37.898Z"
   },
   {
    "duration": 183,
    "start_time": "2022-02-15T20:20:37.903Z"
   },
   {
    "duration": 23,
    "start_time": "2022-02-15T20:20:38.088Z"
   },
   {
    "duration": 188,
    "start_time": "2022-02-15T20:20:38.112Z"
   },
   {
    "duration": 3302,
    "start_time": "2022-02-15T20:20:38.301Z"
   },
   {
    "duration": 5236,
    "start_time": "2022-02-15T20:20:41.604Z"
   },
   {
    "duration": 5657,
    "start_time": "2022-02-15T20:20:46.842Z"
   },
   {
    "duration": 38,
    "start_time": "2022-02-15T20:20:52.501Z"
   },
   {
    "duration": 165,
    "start_time": "2022-02-15T20:20:52.541Z"
   },
   {
    "duration": 10,
    "start_time": "2022-02-15T20:20:52.708Z"
   },
   {
    "duration": 181,
    "start_time": "2022-02-15T20:20:52.720Z"
   },
   {
    "duration": 5,
    "start_time": "2022-02-15T20:20:52.903Z"
   },
   {
    "duration": 149,
    "start_time": "2022-02-15T20:20:52.909Z"
   },
   {
    "duration": 9,
    "start_time": "2022-02-15T20:20:53.060Z"
   },
   {
    "duration": 177,
    "start_time": "2022-02-15T20:20:53.070Z"
   },
   {
    "duration": 4,
    "start_time": "2022-02-15T20:20:53.249Z"
   },
   {
    "duration": 185,
    "start_time": "2022-02-15T20:20:53.255Z"
   },
   {
    "duration": 10,
    "start_time": "2022-02-15T20:20:53.441Z"
   },
   {
    "duration": 183,
    "start_time": "2022-02-15T20:20:53.452Z"
   },
   {
    "duration": 187,
    "start_time": "2022-02-15T20:20:53.637Z"
   },
   {
    "duration": 17,
    "start_time": "2022-02-15T20:20:53.825Z"
   },
   {
    "duration": 184,
    "start_time": "2022-02-15T20:20:53.843Z"
   },
   {
    "duration": 150,
    "start_time": "2022-02-15T20:20:54.032Z"
   },
   {
    "duration": 9,
    "start_time": "2022-02-15T20:20:54.184Z"
   },
   {
    "duration": 178,
    "start_time": "2022-02-15T20:20:54.195Z"
   },
   {
    "duration": 160,
    "start_time": "2022-02-15T20:20:54.374Z"
   },
   {
    "duration": 9,
    "start_time": "2022-02-15T20:20:54.536Z"
   },
   {
    "duration": 199,
    "start_time": "2022-02-15T20:20:54.546Z"
   },
   {
    "duration": 387,
    "start_time": "2022-02-15T20:20:54.746Z"
   },
   {
    "duration": 133,
    "start_time": "2022-02-15T20:20:55.135Z"
   },
   {
    "duration": 317,
    "start_time": "2022-02-15T20:20:55.270Z"
   },
   {
    "duration": 301,
    "start_time": "2022-02-15T20:20:55.589Z"
   },
   {
    "duration": 141,
    "start_time": "2022-02-15T20:20:55.892Z"
   },
   {
    "duration": 310,
    "start_time": "2022-02-15T20:20:56.035Z"
   },
   {
    "duration": 4,
    "start_time": "2022-02-15T20:20:56.347Z"
   },
   {
    "duration": 6385,
    "start_time": "2022-02-15T20:20:56.353Z"
   },
   {
    "duration": 341,
    "start_time": "2022-02-15T20:21:30.844Z"
   },
   {
    "duration": 297,
    "start_time": "2022-02-15T20:21:41.711Z"
   },
   {
    "duration": 302,
    "start_time": "2022-02-15T20:21:44.122Z"
   },
   {
    "duration": 1035,
    "start_time": "2022-02-15T20:21:50.263Z"
   },
   {
    "duration": 161,
    "start_time": "2022-02-15T20:21:51.300Z"
   },
   {
    "duration": 135,
    "start_time": "2022-02-15T20:21:51.464Z"
   },
   {
    "duration": 95,
    "start_time": "2022-02-15T20:21:51.601Z"
   },
   {
    "duration": 22,
    "start_time": "2022-02-15T20:21:51.697Z"
   },
   {
    "duration": 40,
    "start_time": "2022-02-15T20:21:51.721Z"
   },
   {
    "duration": 72,
    "start_time": "2022-02-15T20:21:51.763Z"
   },
   {
    "duration": 54,
    "start_time": "2022-02-15T20:21:51.838Z"
   },
   {
    "duration": 52,
    "start_time": "2022-02-15T20:21:51.894Z"
   },
   {
    "duration": 20,
    "start_time": "2022-02-15T20:21:51.948Z"
   },
   {
    "duration": 86,
    "start_time": "2022-02-15T20:21:51.970Z"
   },
   {
    "duration": 4,
    "start_time": "2022-02-15T20:21:52.058Z"
   },
   {
    "duration": 70,
    "start_time": "2022-02-15T20:21:52.063Z"
   },
   {
    "duration": 68,
    "start_time": "2022-02-15T20:21:52.135Z"
   },
   {
    "duration": 37,
    "start_time": "2022-02-15T20:21:52.205Z"
   },
   {
    "duration": 39,
    "start_time": "2022-02-15T20:21:52.243Z"
   },
   {
    "duration": 49,
    "start_time": "2022-02-15T20:21:52.283Z"
   },
   {
    "duration": 20,
    "start_time": "2022-02-15T20:21:52.333Z"
   },
   {
    "duration": 39,
    "start_time": "2022-02-15T20:21:52.355Z"
   },
   {
    "duration": 61,
    "start_time": "2022-02-15T20:21:52.396Z"
   },
   {
    "duration": 23,
    "start_time": "2022-02-15T20:21:52.459Z"
   },
   {
    "duration": 21,
    "start_time": "2022-02-15T20:21:52.483Z"
   },
   {
    "duration": 37,
    "start_time": "2022-02-15T20:21:52.510Z"
   },
   {
    "duration": 4,
    "start_time": "2022-02-15T20:21:52.550Z"
   },
   {
    "duration": 163,
    "start_time": "2022-02-15T20:21:52.556Z"
   },
   {
    "duration": 152,
    "start_time": "2022-02-15T20:21:52.721Z"
   },
   {
    "duration": 23,
    "start_time": "2022-02-15T20:21:52.875Z"
   },
   {
    "duration": 36,
    "start_time": "2022-02-15T20:21:52.900Z"
   },
   {
    "duration": 39,
    "start_time": "2022-02-15T20:21:52.937Z"
   },
   {
    "duration": 13,
    "start_time": "2022-02-15T20:21:52.977Z"
   },
   {
    "duration": 49,
    "start_time": "2022-02-15T20:21:52.991Z"
   },
   {
    "duration": 18,
    "start_time": "2022-02-15T20:21:53.042Z"
   },
   {
    "duration": 27,
    "start_time": "2022-02-15T20:21:53.062Z"
   },
   {
    "duration": 41,
    "start_time": "2022-02-15T20:21:53.091Z"
   },
   {
    "duration": 21,
    "start_time": "2022-02-15T20:21:53.134Z"
   },
   {
    "duration": 5,
    "start_time": "2022-02-15T20:21:53.156Z"
   },
   {
    "duration": 176,
    "start_time": "2022-02-15T20:21:53.162Z"
   },
   {
    "duration": 29,
    "start_time": "2022-02-15T20:21:53.340Z"
   },
   {
    "duration": 16,
    "start_time": "2022-02-15T20:21:53.371Z"
   },
   {
    "duration": 3102,
    "start_time": "2022-02-15T20:21:53.389Z"
   },
   {
    "duration": 5108,
    "start_time": "2022-02-15T20:21:56.493Z"
   },
   {
    "duration": 5542,
    "start_time": "2022-02-15T20:22:01.602Z"
   },
   {
    "duration": 33,
    "start_time": "2022-02-15T20:22:07.145Z"
   },
   {
    "duration": 185,
    "start_time": "2022-02-15T20:22:07.180Z"
   },
   {
    "duration": 12,
    "start_time": "2022-02-15T20:22:07.366Z"
   },
   {
    "duration": 169,
    "start_time": "2022-02-15T20:22:07.380Z"
   },
   {
    "duration": 5,
    "start_time": "2022-02-15T20:22:07.550Z"
   },
   {
    "duration": 161,
    "start_time": "2022-02-15T20:22:07.557Z"
   },
   {
    "duration": 15,
    "start_time": "2022-02-15T20:22:07.720Z"
   },
   {
    "duration": 191,
    "start_time": "2022-02-15T20:22:07.737Z"
   },
   {
    "duration": 5,
    "start_time": "2022-02-15T20:22:07.929Z"
   },
   {
    "duration": 175,
    "start_time": "2022-02-15T20:22:07.936Z"
   },
   {
    "duration": 9,
    "start_time": "2022-02-15T20:22:08.112Z"
   },
   {
    "duration": 183,
    "start_time": "2022-02-15T20:22:08.131Z"
   },
   {
    "duration": 189,
    "start_time": "2022-02-15T20:22:08.317Z"
   },
   {
    "duration": 12,
    "start_time": "2022-02-15T20:22:08.508Z"
   },
   {
    "duration": 195,
    "start_time": "2022-02-15T20:22:08.532Z"
   },
   {
    "duration": 140,
    "start_time": "2022-02-15T20:22:08.732Z"
   },
   {
    "duration": 9,
    "start_time": "2022-02-15T20:22:08.874Z"
   },
   {
    "duration": 187,
    "start_time": "2022-02-15T20:22:08.885Z"
   },
   {
    "duration": 160,
    "start_time": "2022-02-15T20:22:09.073Z"
   },
   {
    "duration": 10,
    "start_time": "2022-02-15T20:22:09.235Z"
   },
   {
    "duration": 191,
    "start_time": "2022-02-15T20:22:09.246Z"
   },
   {
    "duration": 309,
    "start_time": "2022-02-15T20:22:09.438Z"
   },
   {
    "duration": 127,
    "start_time": "2022-02-15T20:22:09.749Z"
   },
   {
    "duration": 318,
    "start_time": "2022-02-15T20:22:09.878Z"
   },
   {
    "duration": 308,
    "start_time": "2022-02-15T20:22:10.197Z"
   },
   {
    "duration": 135,
    "start_time": "2022-02-15T20:22:10.509Z"
   },
   {
    "duration": 303,
    "start_time": "2022-02-15T20:22:10.646Z"
   },
   {
    "duration": 6,
    "start_time": "2022-02-15T20:22:10.951Z"
   },
   {
    "duration": 353,
    "start_time": "2022-02-15T20:22:44.997Z"
   },
   {
    "duration": 1176,
    "start_time": "2022-02-15T20:29:18.184Z"
   },
   {
    "duration": 291,
    "start_time": "2022-02-15T20:30:12.686Z"
   },
   {
    "duration": 1022,
    "start_time": "2022-02-15T20:30:25.678Z"
   },
   {
    "duration": 168,
    "start_time": "2022-02-15T20:30:26.702Z"
   },
   {
    "duration": 135,
    "start_time": "2022-02-15T20:30:26.874Z"
   },
   {
    "duration": 94,
    "start_time": "2022-02-15T20:30:27.010Z"
   },
   {
    "duration": 21,
    "start_time": "2022-02-15T20:30:27.106Z"
   },
   {
    "duration": 42,
    "start_time": "2022-02-15T20:30:27.129Z"
   },
   {
    "duration": 73,
    "start_time": "2022-02-15T20:30:27.173Z"
   },
   {
    "duration": 53,
    "start_time": "2022-02-15T20:30:27.248Z"
   },
   {
    "duration": 55,
    "start_time": "2022-02-15T20:30:27.303Z"
   },
   {
    "duration": 20,
    "start_time": "2022-02-15T20:30:27.360Z"
   },
   {
    "duration": 77,
    "start_time": "2022-02-15T20:30:27.381Z"
   },
   {
    "duration": 3,
    "start_time": "2022-02-15T20:30:27.460Z"
   },
   {
    "duration": 71,
    "start_time": "2022-02-15T20:30:27.464Z"
   },
   {
    "duration": 66,
    "start_time": "2022-02-15T20:30:27.537Z"
   },
   {
    "duration": 38,
    "start_time": "2022-02-15T20:30:27.605Z"
   },
   {
    "duration": 37,
    "start_time": "2022-02-15T20:30:27.644Z"
   },
   {
    "duration": 31,
    "start_time": "2022-02-15T20:30:27.683Z"
   },
   {
    "duration": 32,
    "start_time": "2022-02-15T20:30:27.716Z"
   },
   {
    "duration": 36,
    "start_time": "2022-02-15T20:30:27.750Z"
   },
   {
    "duration": 57,
    "start_time": "2022-02-15T20:30:27.787Z"
   },
   {
    "duration": 26,
    "start_time": "2022-02-15T20:30:27.845Z"
   },
   {
    "duration": 22,
    "start_time": "2022-02-15T20:30:27.876Z"
   },
   {
    "duration": 39,
    "start_time": "2022-02-15T20:30:27.901Z"
   },
   {
    "duration": 5,
    "start_time": "2022-02-15T20:30:27.941Z"
   },
   {
    "duration": 157,
    "start_time": "2022-02-15T20:30:27.947Z"
   },
   {
    "duration": 165,
    "start_time": "2022-02-15T20:30:28.105Z"
   },
   {
    "duration": 23,
    "start_time": "2022-02-15T20:30:28.271Z"
   },
   {
    "duration": 19,
    "start_time": "2022-02-15T20:30:28.296Z"
   },
   {
    "duration": 37,
    "start_time": "2022-02-15T20:30:28.331Z"
   },
   {
    "duration": 11,
    "start_time": "2022-02-15T20:30:28.370Z"
   },
   {
    "duration": 26,
    "start_time": "2022-02-15T20:30:28.383Z"
   },
   {
    "duration": 18,
    "start_time": "2022-02-15T20:30:28.432Z"
   },
   {
    "duration": 28,
    "start_time": "2022-02-15T20:30:28.452Z"
   },
   {
    "duration": 20,
    "start_time": "2022-02-15T20:30:28.482Z"
   },
   {
    "duration": 45,
    "start_time": "2022-02-15T20:30:28.504Z"
   },
   {
    "duration": 5,
    "start_time": "2022-02-15T20:30:28.550Z"
   },
   {
    "duration": 183,
    "start_time": "2022-02-15T20:30:28.556Z"
   },
   {
    "duration": 24,
    "start_time": "2022-02-15T20:30:28.741Z"
   },
   {
    "duration": 18,
    "start_time": "2022-02-15T20:30:28.768Z"
   },
   {
    "duration": 3600,
    "start_time": "2022-02-15T20:30:28.788Z"
   },
   {
    "duration": 5388,
    "start_time": "2022-02-15T20:30:32.390Z"
   },
   {
    "duration": 5697,
    "start_time": "2022-02-15T20:30:37.779Z"
   },
   {
    "duration": 34,
    "start_time": "2022-02-15T20:30:43.478Z"
   },
   {
    "duration": 180,
    "start_time": "2022-02-15T20:30:43.514Z"
   },
   {
    "duration": 12,
    "start_time": "2022-02-15T20:30:43.696Z"
   },
   {
    "duration": 183,
    "start_time": "2022-02-15T20:30:43.710Z"
   },
   {
    "duration": 5,
    "start_time": "2022-02-15T20:30:43.895Z"
   },
   {
    "duration": 157,
    "start_time": "2022-02-15T20:30:43.902Z"
   },
   {
    "duration": 8,
    "start_time": "2022-02-15T20:30:44.061Z"
   },
   {
    "duration": 177,
    "start_time": "2022-02-15T20:30:44.071Z"
   },
   {
    "duration": 4,
    "start_time": "2022-02-15T20:30:44.250Z"
   },
   {
    "duration": 177,
    "start_time": "2022-02-15T20:30:44.256Z"
   },
   {
    "duration": 10,
    "start_time": "2022-02-15T20:30:44.435Z"
   },
   {
    "duration": 177,
    "start_time": "2022-02-15T20:30:44.446Z"
   },
   {
    "duration": 164,
    "start_time": "2022-02-15T20:30:44.624Z"
   },
   {
    "duration": 11,
    "start_time": "2022-02-15T20:30:44.790Z"
   },
   {
    "duration": 194,
    "start_time": "2022-02-15T20:30:44.802Z"
   },
   {
    "duration": 159,
    "start_time": "2022-02-15T20:30:44.997Z"
   },
   {
    "duration": 9,
    "start_time": "2022-02-15T20:30:45.158Z"
   },
   {
    "duration": 180,
    "start_time": "2022-02-15T20:30:45.169Z"
   },
   {
    "duration": 156,
    "start_time": "2022-02-15T20:30:45.351Z"
   },
   {
    "duration": 8,
    "start_time": "2022-02-15T20:30:45.509Z"
   },
   {
    "duration": 183,
    "start_time": "2022-02-15T20:30:45.535Z"
   },
   {
    "duration": 319,
    "start_time": "2022-02-15T20:30:45.720Z"
   },
   {
    "duration": 139,
    "start_time": "2022-02-15T20:30:46.041Z"
   },
   {
    "duration": 337,
    "start_time": "2022-02-15T20:30:46.182Z"
   },
   {
    "duration": 300,
    "start_time": "2022-02-15T20:30:46.523Z"
   },
   {
    "duration": 147,
    "start_time": "2022-02-15T20:30:46.826Z"
   },
   {
    "duration": 318,
    "start_time": "2022-02-15T20:30:46.974Z"
   },
   {
    "duration": 6,
    "start_time": "2022-02-15T20:30:47.293Z"
   },
   {
    "duration": 4712,
    "start_time": "2022-02-15T20:30:47.300Z"
   },
   {
    "duration": 327,
    "start_time": "2022-02-15T20:31:49.293Z"
   },
   {
    "duration": 1019,
    "start_time": "2022-02-15T20:31:55.682Z"
   },
   {
    "duration": 176,
    "start_time": "2022-02-15T20:31:56.703Z"
   },
   {
    "duration": 152,
    "start_time": "2022-02-15T20:31:56.881Z"
   },
   {
    "duration": 96,
    "start_time": "2022-02-15T20:31:57.034Z"
   },
   {
    "duration": 22,
    "start_time": "2022-02-15T20:31:57.132Z"
   },
   {
    "duration": 37,
    "start_time": "2022-02-15T20:31:57.156Z"
   },
   {
    "duration": 75,
    "start_time": "2022-02-15T20:31:57.194Z"
   },
   {
    "duration": 61,
    "start_time": "2022-02-15T20:31:57.271Z"
   },
   {
    "duration": 40,
    "start_time": "2022-02-15T20:31:57.334Z"
   },
   {
    "duration": 19,
    "start_time": "2022-02-15T20:31:57.376Z"
   },
   {
    "duration": 90,
    "start_time": "2022-02-15T20:31:57.397Z"
   },
   {
    "duration": 4,
    "start_time": "2022-02-15T20:31:57.488Z"
   },
   {
    "duration": 75,
    "start_time": "2022-02-15T20:31:57.493Z"
   },
   {
    "duration": 74,
    "start_time": "2022-02-15T20:31:57.569Z"
   },
   {
    "duration": 29,
    "start_time": "2022-02-15T20:31:57.645Z"
   },
   {
    "duration": 39,
    "start_time": "2022-02-15T20:31:57.676Z"
   },
   {
    "duration": 45,
    "start_time": "2022-02-15T20:31:57.717Z"
   },
   {
    "duration": 22,
    "start_time": "2022-02-15T20:31:57.764Z"
   },
   {
    "duration": 74,
    "start_time": "2022-02-15T20:31:57.787Z"
   },
   {
    "duration": 40,
    "start_time": "2022-02-15T20:31:57.863Z"
   },
   {
    "duration": 43,
    "start_time": "2022-02-15T20:31:57.905Z"
   },
   {
    "duration": 22,
    "start_time": "2022-02-15T20:31:57.951Z"
   },
   {
    "duration": 24,
    "start_time": "2022-02-15T20:31:57.978Z"
   },
   {
    "duration": 5,
    "start_time": "2022-02-15T20:31:58.004Z"
   },
   {
    "duration": 171,
    "start_time": "2022-02-15T20:31:58.011Z"
   },
   {
    "duration": 167,
    "start_time": "2022-02-15T20:31:58.184Z"
   },
   {
    "duration": 23,
    "start_time": "2022-02-15T20:31:58.353Z"
   },
   {
    "duration": 18,
    "start_time": "2022-02-15T20:31:58.378Z"
   },
   {
    "duration": 60,
    "start_time": "2022-02-15T20:31:58.398Z"
   },
   {
    "duration": 12,
    "start_time": "2022-02-15T20:31:58.459Z"
   },
   {
    "duration": 25,
    "start_time": "2022-02-15T20:31:58.473Z"
   },
   {
    "duration": 34,
    "start_time": "2022-02-15T20:31:58.499Z"
   },
   {
    "duration": 27,
    "start_time": "2022-02-15T20:31:58.534Z"
   },
   {
    "duration": 20,
    "start_time": "2022-02-15T20:31:58.562Z"
   },
   {
    "duration": 21,
    "start_time": "2022-02-15T20:31:58.584Z"
   },
   {
    "duration": 27,
    "start_time": "2022-02-15T20:31:58.607Z"
   },
   {
    "duration": 181,
    "start_time": "2022-02-15T20:31:58.636Z"
   },
   {
    "duration": 40,
    "start_time": "2022-02-15T20:31:58.819Z"
   },
   {
    "duration": 22,
    "start_time": "2022-02-15T20:31:58.861Z"
   },
   {
    "duration": 3148,
    "start_time": "2022-02-15T20:31:58.885Z"
   },
   {
    "duration": 5569,
    "start_time": "2022-02-15T20:32:02.034Z"
   },
   {
    "duration": 5730,
    "start_time": "2022-02-15T20:32:07.604Z"
   },
   {
    "duration": 30,
    "start_time": "2022-02-15T20:32:13.336Z"
   },
   {
    "duration": 174,
    "start_time": "2022-02-15T20:32:13.367Z"
   },
   {
    "duration": 11,
    "start_time": "2022-02-15T20:32:13.543Z"
   },
   {
    "duration": 176,
    "start_time": "2022-02-15T20:32:13.555Z"
   },
   {
    "duration": 5,
    "start_time": "2022-02-15T20:32:13.733Z"
   },
   {
    "duration": 146,
    "start_time": "2022-02-15T20:32:13.739Z"
   },
   {
    "duration": 8,
    "start_time": "2022-02-15T20:32:13.887Z"
   },
   {
    "duration": 178,
    "start_time": "2022-02-15T20:32:13.897Z"
   },
   {
    "duration": 5,
    "start_time": "2022-02-15T20:32:14.076Z"
   },
   {
    "duration": 167,
    "start_time": "2022-02-15T20:32:14.082Z"
   },
   {
    "duration": 8,
    "start_time": "2022-02-15T20:32:14.251Z"
   },
   {
    "duration": 173,
    "start_time": "2022-02-15T20:32:14.261Z"
   },
   {
    "duration": 159,
    "start_time": "2022-02-15T20:32:14.435Z"
   },
   {
    "duration": 11,
    "start_time": "2022-02-15T20:32:14.596Z"
   },
   {
    "duration": 195,
    "start_time": "2022-02-15T20:32:14.608Z"
   },
   {
    "duration": 147,
    "start_time": "2022-02-15T20:32:14.805Z"
   },
   {
    "duration": 9,
    "start_time": "2022-02-15T20:32:14.954Z"
   },
   {
    "duration": 176,
    "start_time": "2022-02-15T20:32:14.965Z"
   },
   {
    "duration": 158,
    "start_time": "2022-02-15T20:32:15.142Z"
   },
   {
    "duration": 8,
    "start_time": "2022-02-15T20:32:15.302Z"
   },
   {
    "duration": 199,
    "start_time": "2022-02-15T20:32:15.312Z"
   },
   {
    "duration": 301,
    "start_time": "2022-02-15T20:32:15.513Z"
   },
   {
    "duration": 130,
    "start_time": "2022-02-15T20:32:15.816Z"
   },
   {
    "duration": 326,
    "start_time": "2022-02-15T20:32:15.948Z"
   },
   {
    "duration": 305,
    "start_time": "2022-02-15T20:32:16.276Z"
   },
   {
    "duration": 140,
    "start_time": "2022-02-15T20:32:16.586Z"
   },
   {
    "duration": 314,
    "start_time": "2022-02-15T20:32:16.727Z"
   },
   {
    "duration": 5,
    "start_time": "2022-02-15T20:32:17.043Z"
   },
   {
    "duration": 4601,
    "start_time": "2022-02-15T20:32:17.049Z"
   },
   {
    "duration": 362,
    "start_time": "2022-02-15T20:34:05.312Z"
   },
   {
    "duration": 1069,
    "start_time": "2022-02-15T20:34:13.814Z"
   },
   {
    "duration": 165,
    "start_time": "2022-02-15T20:34:14.884Z"
   },
   {
    "duration": 140,
    "start_time": "2022-02-15T20:34:15.054Z"
   },
   {
    "duration": 91,
    "start_time": "2022-02-15T20:34:15.196Z"
   },
   {
    "duration": 22,
    "start_time": "2022-02-15T20:34:15.289Z"
   },
   {
    "duration": 50,
    "start_time": "2022-02-15T20:34:15.312Z"
   },
   {
    "duration": 74,
    "start_time": "2022-02-15T20:34:15.365Z"
   },
   {
    "duration": 55,
    "start_time": "2022-02-15T20:34:15.442Z"
   },
   {
    "duration": 52,
    "start_time": "2022-02-15T20:34:15.499Z"
   },
   {
    "duration": 20,
    "start_time": "2022-02-15T20:34:15.552Z"
   },
   {
    "duration": 101,
    "start_time": "2022-02-15T20:34:15.573Z"
   },
   {
    "duration": 4,
    "start_time": "2022-02-15T20:34:15.676Z"
   },
   {
    "duration": 78,
    "start_time": "2022-02-15T20:34:15.681Z"
   },
   {
    "duration": 71,
    "start_time": "2022-02-15T20:34:15.761Z"
   },
   {
    "duration": 27,
    "start_time": "2022-02-15T20:34:15.833Z"
   },
   {
    "duration": 39,
    "start_time": "2022-02-15T20:34:15.862Z"
   },
   {
    "duration": 54,
    "start_time": "2022-02-15T20:34:15.903Z"
   },
   {
    "duration": 21,
    "start_time": "2022-02-15T20:34:15.958Z"
   },
   {
    "duration": 58,
    "start_time": "2022-02-15T20:34:15.981Z"
   },
   {
    "duration": 40,
    "start_time": "2022-02-15T20:34:16.040Z"
   },
   {
    "duration": 24,
    "start_time": "2022-02-15T20:34:16.081Z"
   },
   {
    "duration": 38,
    "start_time": "2022-02-15T20:34:16.109Z"
   },
   {
    "duration": 19,
    "start_time": "2022-02-15T20:34:16.149Z"
   },
   {
    "duration": 4,
    "start_time": "2022-02-15T20:34:16.170Z"
   },
   {
    "duration": 162,
    "start_time": "2022-02-15T20:34:16.175Z"
   },
   {
    "duration": 154,
    "start_time": "2022-02-15T20:34:16.338Z"
   },
   {
    "duration": 21,
    "start_time": "2022-02-15T20:34:16.493Z"
   },
   {
    "duration": 29,
    "start_time": "2022-02-15T20:34:16.515Z"
   },
   {
    "duration": 35,
    "start_time": "2022-02-15T20:34:16.546Z"
   },
   {
    "duration": 11,
    "start_time": "2022-02-15T20:34:16.582Z"
   },
   {
    "duration": 42,
    "start_time": "2022-02-15T20:34:16.594Z"
   },
   {
    "duration": 17,
    "start_time": "2022-02-15T20:34:16.638Z"
   },
   {
    "duration": 29,
    "start_time": "2022-02-15T20:34:16.656Z"
   },
   {
    "duration": 19,
    "start_time": "2022-02-15T20:34:16.686Z"
   },
   {
    "duration": 43,
    "start_time": "2022-02-15T20:34:16.706Z"
   },
   {
    "duration": 4,
    "start_time": "2022-02-15T20:34:16.751Z"
   },
   {
    "duration": 175,
    "start_time": "2022-02-15T20:34:16.757Z"
   },
   {
    "duration": 23,
    "start_time": "2022-02-15T20:34:16.933Z"
   },
   {
    "duration": 15,
    "start_time": "2022-02-15T20:34:16.958Z"
   },
   {
    "duration": 2980,
    "start_time": "2022-02-15T20:34:16.975Z"
   },
   {
    "duration": 5209,
    "start_time": "2022-02-15T20:34:19.957Z"
   },
   {
    "duration": 5704,
    "start_time": "2022-02-15T20:34:25.168Z"
   },
   {
    "duration": 34,
    "start_time": "2022-02-15T20:34:30.874Z"
   },
   {
    "duration": 184,
    "start_time": "2022-02-15T20:34:30.910Z"
   },
   {
    "duration": 12,
    "start_time": "2022-02-15T20:34:31.096Z"
   },
   {
    "duration": 184,
    "start_time": "2022-02-15T20:34:31.109Z"
   },
   {
    "duration": 5,
    "start_time": "2022-02-15T20:34:31.295Z"
   },
   {
    "duration": 149,
    "start_time": "2022-02-15T20:34:31.302Z"
   },
   {
    "duration": 9,
    "start_time": "2022-02-15T20:34:31.453Z"
   },
   {
    "duration": 182,
    "start_time": "2022-02-15T20:34:31.464Z"
   },
   {
    "duration": 6,
    "start_time": "2022-02-15T20:34:31.648Z"
   },
   {
    "duration": 175,
    "start_time": "2022-02-15T20:34:31.656Z"
   },
   {
    "duration": 11,
    "start_time": "2022-02-15T20:34:31.833Z"
   },
   {
    "duration": 186,
    "start_time": "2022-02-15T20:34:31.846Z"
   },
   {
    "duration": 165,
    "start_time": "2022-02-15T20:34:32.033Z"
   },
   {
    "duration": 12,
    "start_time": "2022-02-15T20:34:32.199Z"
   },
   {
    "duration": 186,
    "start_time": "2022-02-15T20:34:32.213Z"
   },
   {
    "duration": 156,
    "start_time": "2022-02-15T20:34:32.401Z"
   },
   {
    "duration": 10,
    "start_time": "2022-02-15T20:34:32.558Z"
   },
   {
    "duration": 184,
    "start_time": "2022-02-15T20:34:32.570Z"
   },
   {
    "duration": 160,
    "start_time": "2022-02-15T20:34:32.755Z"
   },
   {
    "duration": 14,
    "start_time": "2022-02-15T20:34:32.917Z"
   },
   {
    "duration": 187,
    "start_time": "2022-02-15T20:34:32.933Z"
   },
   {
    "duration": 306,
    "start_time": "2022-02-15T20:34:33.121Z"
   },
   {
    "duration": 127,
    "start_time": "2022-02-15T20:34:33.431Z"
   },
   {
    "duration": 336,
    "start_time": "2022-02-15T20:34:33.560Z"
   },
   {
    "duration": 311,
    "start_time": "2022-02-15T20:34:33.900Z"
   },
   {
    "duration": 142,
    "start_time": "2022-02-15T20:34:34.214Z"
   },
   {
    "duration": 302,
    "start_time": "2022-02-15T20:34:34.358Z"
   },
   {
    "duration": 4,
    "start_time": "2022-02-15T20:34:34.662Z"
   },
   {
    "duration": 4642,
    "start_time": "2022-02-15T20:34:34.668Z"
   },
   {
    "duration": 361,
    "start_time": "2022-02-15T20:34:39.312Z"
   },
   {
    "duration": -1470,
    "start_time": "2022-02-15T20:34:41.145Z"
   },
   {
    "duration": -1474,
    "start_time": "2022-02-15T20:34:41.150Z"
   },
   {
    "duration": -1478,
    "start_time": "2022-02-15T20:34:41.155Z"
   },
   {
    "duration": -1482,
    "start_time": "2022-02-15T20:34:41.160Z"
   },
   {
    "duration": 94,
    "start_time": "2022-02-15T20:36:19.661Z"
   },
   {
    "duration": 109,
    "start_time": "2022-02-15T20:36:31.868Z"
   },
   {
    "duration": 681,
    "start_time": "2022-02-15T20:36:41.988Z"
   },
   {
    "duration": 348,
    "start_time": "2022-02-15T21:37:54.008Z"
   },
   {
    "duration": 1020,
    "start_time": "2022-02-15T21:38:16.164Z"
   },
   {
    "duration": 163,
    "start_time": "2022-02-15T21:38:17.186Z"
   },
   {
    "duration": 135,
    "start_time": "2022-02-15T21:38:17.351Z"
   },
   {
    "duration": 93,
    "start_time": "2022-02-15T21:38:17.488Z"
   },
   {
    "duration": 21,
    "start_time": "2022-02-15T21:38:17.583Z"
   },
   {
    "duration": 34,
    "start_time": "2022-02-15T21:38:17.606Z"
   },
   {
    "duration": 76,
    "start_time": "2022-02-15T21:38:17.643Z"
   },
   {
    "duration": 63,
    "start_time": "2022-02-15T21:38:17.721Z"
   },
   {
    "duration": 54,
    "start_time": "2022-02-15T21:38:17.786Z"
   },
   {
    "duration": 20,
    "start_time": "2022-02-15T21:38:17.842Z"
   },
   {
    "duration": 83,
    "start_time": "2022-02-15T21:38:17.863Z"
   },
   {
    "duration": 4,
    "start_time": "2022-02-15T21:38:17.948Z"
   },
   {
    "duration": 59,
    "start_time": "2022-02-15T21:38:17.953Z"
   },
   {
    "duration": 79,
    "start_time": "2022-02-15T21:38:18.014Z"
   },
   {
    "duration": 41,
    "start_time": "2022-02-15T21:38:18.094Z"
   },
   {
    "duration": 37,
    "start_time": "2022-02-15T21:38:18.136Z"
   },
   {
    "duration": 34,
    "start_time": "2022-02-15T21:38:18.175Z"
   },
   {
    "duration": 38,
    "start_time": "2022-02-15T21:38:18.210Z"
   },
   {
    "duration": 36,
    "start_time": "2022-02-15T21:38:18.250Z"
   },
   {
    "duration": 51,
    "start_time": "2022-02-15T21:38:18.288Z"
   },
   {
    "duration": 21,
    "start_time": "2022-02-15T21:38:18.341Z"
   },
   {
    "duration": 18,
    "start_time": "2022-02-15T21:38:18.366Z"
   },
   {
    "duration": 20,
    "start_time": "2022-02-15T21:38:18.386Z"
   },
   {
    "duration": 27,
    "start_time": "2022-02-15T21:38:18.407Z"
   },
   {
    "duration": 154,
    "start_time": "2022-02-15T21:38:18.435Z"
   },
   {
    "duration": 161,
    "start_time": "2022-02-15T21:38:18.591Z"
   },
   {
    "duration": 22,
    "start_time": "2022-02-15T21:38:18.754Z"
   },
   {
    "duration": 21,
    "start_time": "2022-02-15T21:38:18.777Z"
   },
   {
    "duration": 58,
    "start_time": "2022-02-15T21:38:18.799Z"
   },
   {
    "duration": 12,
    "start_time": "2022-02-15T21:38:18.858Z"
   },
   {
    "duration": 25,
    "start_time": "2022-02-15T21:38:18.871Z"
   },
   {
    "duration": 38,
    "start_time": "2022-02-15T21:38:18.897Z"
   },
   {
    "duration": 25,
    "start_time": "2022-02-15T21:38:18.937Z"
   },
   {
    "duration": 18,
    "start_time": "2022-02-15T21:38:18.964Z"
   },
   {
    "duration": 19,
    "start_time": "2022-02-15T21:38:18.984Z"
   },
   {
    "duration": 5,
    "start_time": "2022-02-15T21:38:19.004Z"
   },
   {
    "duration": 203,
    "start_time": "2022-02-15T21:38:19.010Z"
   },
   {
    "duration": 28,
    "start_time": "2022-02-15T21:38:19.215Z"
   },
   {
    "duration": 16,
    "start_time": "2022-02-15T21:38:19.245Z"
   },
   {
    "duration": 3140,
    "start_time": "2022-02-15T21:38:19.263Z"
   },
   {
    "duration": 5257,
    "start_time": "2022-02-15T21:38:22.404Z"
   },
   {
    "duration": 5615,
    "start_time": "2022-02-15T21:38:27.662Z"
   },
   {
    "duration": 35,
    "start_time": "2022-02-15T21:38:33.278Z"
   },
   {
    "duration": 172,
    "start_time": "2022-02-15T21:38:33.314Z"
   },
   {
    "duration": 10,
    "start_time": "2022-02-15T21:38:33.488Z"
   },
   {
    "duration": 177,
    "start_time": "2022-02-15T21:38:33.500Z"
   },
   {
    "duration": 5,
    "start_time": "2022-02-15T21:38:33.679Z"
   },
   {
    "duration": 154,
    "start_time": "2022-02-15T21:38:33.685Z"
   },
   {
    "duration": 9,
    "start_time": "2022-02-15T21:38:33.841Z"
   },
   {
    "duration": 181,
    "start_time": "2022-02-15T21:38:33.851Z"
   },
   {
    "duration": 6,
    "start_time": "2022-02-15T21:38:34.034Z"
   },
   {
    "duration": 162,
    "start_time": "2022-02-15T21:38:34.041Z"
   },
   {
    "duration": 8,
    "start_time": "2022-02-15T21:38:34.205Z"
   },
   {
    "duration": 175,
    "start_time": "2022-02-15T21:38:34.215Z"
   },
   {
    "duration": 162,
    "start_time": "2022-02-15T21:38:34.391Z"
   },
   {
    "duration": 11,
    "start_time": "2022-02-15T21:38:34.554Z"
   },
   {
    "duration": 184,
    "start_time": "2022-02-15T21:38:34.567Z"
   },
   {
    "duration": 154,
    "start_time": "2022-02-15T21:38:34.752Z"
   },
   {
    "duration": 9,
    "start_time": "2022-02-15T21:38:34.908Z"
   },
   {
    "duration": 173,
    "start_time": "2022-02-15T21:38:34.918Z"
   },
   {
    "duration": 150,
    "start_time": "2022-02-15T21:38:35.093Z"
   },
   {
    "duration": 9,
    "start_time": "2022-02-15T21:38:35.244Z"
   },
   {
    "duration": 184,
    "start_time": "2022-02-15T21:38:35.255Z"
   },
   {
    "duration": 307,
    "start_time": "2022-02-15T21:38:35.440Z"
   },
   {
    "duration": 124,
    "start_time": "2022-02-15T21:38:35.749Z"
   },
   {
    "duration": 325,
    "start_time": "2022-02-15T21:38:35.875Z"
   },
   {
    "duration": 318,
    "start_time": "2022-02-15T21:38:36.204Z"
   },
   {
    "duration": 144,
    "start_time": "2022-02-15T21:38:36.524Z"
   },
   {
    "duration": 319,
    "start_time": "2022-02-15T21:38:36.670Z"
   },
   {
    "duration": 6,
    "start_time": "2022-02-15T21:38:36.991Z"
   },
   {
    "duration": 5162,
    "start_time": "2022-02-15T21:38:36.999Z"
   },
   {
    "duration": 3,
    "start_time": "2022-02-15T21:38:42.163Z"
   },
   {
    "duration": 354,
    "start_time": "2022-02-15T21:38:42.167Z"
   },
   {
    "duration": -206,
    "start_time": "2022-02-15T21:38:42.728Z"
   },
   {
    "duration": -225,
    "start_time": "2022-02-15T21:38:42.748Z"
   },
   {
    "duration": -242,
    "start_time": "2022-02-15T21:38:42.766Z"
   },
   {
    "duration": 882,
    "start_time": "2022-02-15T21:41:20.184Z"
   },
   {
    "duration": 412,
    "start_time": "2022-02-15T21:43:54.411Z"
   },
   {
    "duration": 1041,
    "start_time": "2022-02-15T21:44:02.562Z"
   },
   {
    "duration": 170,
    "start_time": "2022-02-15T21:44:03.605Z"
   },
   {
    "duration": 136,
    "start_time": "2022-02-15T21:44:03.777Z"
   },
   {
    "duration": 98,
    "start_time": "2022-02-15T21:44:03.915Z"
   },
   {
    "duration": 23,
    "start_time": "2022-02-15T21:44:04.015Z"
   },
   {
    "duration": 35,
    "start_time": "2022-02-15T21:44:04.040Z"
   },
   {
    "duration": 78,
    "start_time": "2022-02-15T21:44:04.076Z"
   },
   {
    "duration": 55,
    "start_time": "2022-02-15T21:44:04.158Z"
   },
   {
    "duration": 42,
    "start_time": "2022-02-15T21:44:04.232Z"
   },
   {
    "duration": 21,
    "start_time": "2022-02-15T21:44:04.276Z"
   },
   {
    "duration": 92,
    "start_time": "2022-02-15T21:44:04.299Z"
   },
   {
    "duration": 4,
    "start_time": "2022-02-15T21:44:04.393Z"
   },
   {
    "duration": 80,
    "start_time": "2022-02-15T21:44:04.399Z"
   },
   {
    "duration": 73,
    "start_time": "2022-02-15T21:44:04.482Z"
   },
   {
    "duration": 31,
    "start_time": "2022-02-15T21:44:04.556Z"
   },
   {
    "duration": 55,
    "start_time": "2022-02-15T21:44:04.589Z"
   },
   {
    "duration": 32,
    "start_time": "2022-02-15T21:44:04.645Z"
   },
   {
    "duration": 21,
    "start_time": "2022-02-15T21:44:04.679Z"
   },
   {
    "duration": 63,
    "start_time": "2022-02-15T21:44:04.701Z"
   },
   {
    "duration": 41,
    "start_time": "2022-02-15T21:44:04.766Z"
   },
   {
    "duration": 33,
    "start_time": "2022-02-15T21:44:04.808Z"
   },
   {
    "duration": 19,
    "start_time": "2022-02-15T21:44:04.843Z"
   },
   {
    "duration": 21,
    "start_time": "2022-02-15T21:44:04.866Z"
   },
   {
    "duration": 4,
    "start_time": "2022-02-15T21:44:04.889Z"
   },
   {
    "duration": 176,
    "start_time": "2022-02-15T21:44:04.895Z"
   },
   {
    "duration": 155,
    "start_time": "2022-02-15T21:44:05.073Z"
   },
   {
    "duration": 22,
    "start_time": "2022-02-15T21:44:05.232Z"
   },
   {
    "duration": 18,
    "start_time": "2022-02-15T21:44:05.256Z"
   },
   {
    "duration": 37,
    "start_time": "2022-02-15T21:44:05.276Z"
   },
   {
    "duration": 12,
    "start_time": "2022-02-15T21:44:05.332Z"
   },
   {
    "duration": 28,
    "start_time": "2022-02-15T21:44:05.345Z"
   },
   {
    "duration": 18,
    "start_time": "2022-02-15T21:44:05.374Z"
   },
   {
    "duration": 46,
    "start_time": "2022-02-15T21:44:05.394Z"
   },
   {
    "duration": 18,
    "start_time": "2022-02-15T21:44:05.442Z"
   },
   {
    "duration": 19,
    "start_time": "2022-02-15T21:44:05.463Z"
   },
   {
    "duration": 4,
    "start_time": "2022-02-15T21:44:05.483Z"
   },
   {
    "duration": 186,
    "start_time": "2022-02-15T21:44:05.489Z"
   },
   {
    "duration": 22,
    "start_time": "2022-02-15T21:44:05.677Z"
   },
   {
    "duration": 32,
    "start_time": "2022-02-15T21:44:05.700Z"
   },
   {
    "duration": 3019,
    "start_time": "2022-02-15T21:44:05.733Z"
   },
   {
    "duration": 5505,
    "start_time": "2022-02-15T21:44:08.754Z"
   },
   {
    "duration": 5742,
    "start_time": "2022-02-15T21:44:14.260Z"
   },
   {
    "duration": 41,
    "start_time": "2022-02-15T21:44:20.004Z"
   },
   {
    "duration": 166,
    "start_time": "2022-02-15T21:44:20.046Z"
   },
   {
    "duration": 11,
    "start_time": "2022-02-15T21:44:20.213Z"
   },
   {
    "duration": 167,
    "start_time": "2022-02-15T21:44:20.232Z"
   },
   {
    "duration": 6,
    "start_time": "2022-02-15T21:44:20.401Z"
   },
   {
    "duration": 157,
    "start_time": "2022-02-15T21:44:20.409Z"
   },
   {
    "duration": 9,
    "start_time": "2022-02-15T21:44:20.568Z"
   },
   {
    "duration": 181,
    "start_time": "2022-02-15T21:44:20.578Z"
   },
   {
    "duration": 5,
    "start_time": "2022-02-15T21:44:20.761Z"
   },
   {
    "duration": 164,
    "start_time": "2022-02-15T21:44:20.767Z"
   },
   {
    "duration": 9,
    "start_time": "2022-02-15T21:44:20.933Z"
   },
   {
    "duration": 175,
    "start_time": "2022-02-15T21:44:20.944Z"
   },
   {
    "duration": 158,
    "start_time": "2022-02-15T21:44:21.120Z"
   },
   {
    "duration": 11,
    "start_time": "2022-02-15T21:44:21.279Z"
   },
   {
    "duration": 191,
    "start_time": "2022-02-15T21:44:21.291Z"
   },
   {
    "duration": 149,
    "start_time": "2022-02-15T21:44:21.484Z"
   },
   {
    "duration": 9,
    "start_time": "2022-02-15T21:44:21.635Z"
   },
   {
    "duration": 182,
    "start_time": "2022-02-15T21:44:21.646Z"
   },
   {
    "duration": 157,
    "start_time": "2022-02-15T21:44:21.830Z"
   },
   {
    "duration": 10,
    "start_time": "2022-02-15T21:44:21.988Z"
   },
   {
    "duration": 191,
    "start_time": "2022-02-15T21:44:21.999Z"
   },
   {
    "duration": 304,
    "start_time": "2022-02-15T21:44:22.191Z"
   },
   {
    "duration": 127,
    "start_time": "2022-02-15T21:44:22.497Z"
   },
   {
    "duration": 317,
    "start_time": "2022-02-15T21:44:22.632Z"
   },
   {
    "duration": 293,
    "start_time": "2022-02-15T21:44:22.950Z"
   },
   {
    "duration": 185,
    "start_time": "2022-02-15T21:44:23.248Z"
   },
   {
    "duration": 320,
    "start_time": "2022-02-15T21:44:23.436Z"
   },
   {
    "duration": 5,
    "start_time": "2022-02-15T21:44:23.758Z"
   },
   {
    "duration": 4820,
    "start_time": "2022-02-15T21:44:23.764Z"
   },
   {
    "duration": 361,
    "start_time": "2022-02-15T21:44:28.586Z"
   },
   {
    "duration": -188,
    "start_time": "2022-02-15T21:44:29.137Z"
   },
   {
    "duration": -200,
    "start_time": "2022-02-15T21:44:29.150Z"
   },
   {
    "duration": -209,
    "start_time": "2022-02-15T21:44:29.160Z"
   },
   {
    "duration": -214,
    "start_time": "2022-02-15T21:44:29.167Z"
   },
   {
    "duration": 271,
    "start_time": "2022-02-15T21:45:06.658Z"
   },
   {
    "duration": 1007,
    "start_time": "2022-02-15T21:46:23.082Z"
   },
   {
    "duration": 171,
    "start_time": "2022-02-15T21:46:24.090Z"
   },
   {
    "duration": 140,
    "start_time": "2022-02-15T21:46:24.263Z"
   },
   {
    "duration": 94,
    "start_time": "2022-02-15T21:46:24.405Z"
   },
   {
    "duration": 22,
    "start_time": "2022-02-15T21:46:24.500Z"
   },
   {
    "duration": 36,
    "start_time": "2022-02-15T21:46:24.524Z"
   },
   {
    "duration": 73,
    "start_time": "2022-02-15T21:46:24.562Z"
   },
   {
    "duration": 57,
    "start_time": "2022-02-15T21:46:24.637Z"
   },
   {
    "duration": 59,
    "start_time": "2022-02-15T21:46:24.696Z"
   },
   {
    "duration": 20,
    "start_time": "2022-02-15T21:46:24.756Z"
   },
   {
    "duration": 88,
    "start_time": "2022-02-15T21:46:24.778Z"
   },
   {
    "duration": 3,
    "start_time": "2022-02-15T21:46:24.868Z"
   },
   {
    "duration": 67,
    "start_time": "2022-02-15T21:46:24.872Z"
   },
   {
    "duration": 65,
    "start_time": "2022-02-15T21:46:24.941Z"
   },
   {
    "duration": 36,
    "start_time": "2022-02-15T21:46:25.008Z"
   },
   {
    "duration": 37,
    "start_time": "2022-02-15T21:46:25.046Z"
   },
   {
    "duration": 48,
    "start_time": "2022-02-15T21:46:25.084Z"
   },
   {
    "duration": 21,
    "start_time": "2022-02-15T21:46:25.133Z"
   },
   {
    "duration": 37,
    "start_time": "2022-02-15T21:46:25.155Z"
   },
   {
    "duration": 56,
    "start_time": "2022-02-15T21:46:25.193Z"
   },
   {
    "duration": 22,
    "start_time": "2022-02-15T21:46:25.250Z"
   },
   {
    "duration": 18,
    "start_time": "2022-02-15T21:46:25.274Z"
   },
   {
    "duration": 43,
    "start_time": "2022-02-15T21:46:25.296Z"
   },
   {
    "duration": 5,
    "start_time": "2022-02-15T21:46:25.341Z"
   },
   {
    "duration": 173,
    "start_time": "2022-02-15T21:46:25.348Z"
   },
   {
    "duration": 166,
    "start_time": "2022-02-15T21:46:25.523Z"
   },
   {
    "duration": 22,
    "start_time": "2022-02-15T21:46:25.691Z"
   },
   {
    "duration": 32,
    "start_time": "2022-02-15T21:46:25.715Z"
   },
   {
    "duration": 37,
    "start_time": "2022-02-15T21:46:25.749Z"
   },
   {
    "duration": 12,
    "start_time": "2022-02-15T21:46:25.787Z"
   },
   {
    "duration": 41,
    "start_time": "2022-02-15T21:46:25.800Z"
   },
   {
    "duration": 17,
    "start_time": "2022-02-15T21:46:25.843Z"
   },
   {
    "duration": 26,
    "start_time": "2022-02-15T21:46:25.861Z"
   },
   {
    "duration": 45,
    "start_time": "2022-02-15T21:46:25.888Z"
   },
   {
    "duration": 21,
    "start_time": "2022-02-15T21:46:25.934Z"
   },
   {
    "duration": 4,
    "start_time": "2022-02-15T21:46:25.956Z"
   },
   {
    "duration": 172,
    "start_time": "2022-02-15T21:46:25.962Z"
   },
   {
    "duration": 21,
    "start_time": "2022-02-15T21:46:26.136Z"
   },
   {
    "duration": 15,
    "start_time": "2022-02-15T21:46:26.158Z"
   },
   {
    "duration": 3063,
    "start_time": "2022-02-15T21:46:26.174Z"
   },
   {
    "duration": 5431,
    "start_time": "2022-02-15T21:46:29.238Z"
   },
   {
    "duration": 5671,
    "start_time": "2022-02-15T21:46:34.671Z"
   },
   {
    "duration": 33,
    "start_time": "2022-02-15T21:46:40.344Z"
   },
   {
    "duration": 167,
    "start_time": "2022-02-15T21:46:40.378Z"
   },
   {
    "duration": 10,
    "start_time": "2022-02-15T21:46:40.547Z"
   },
   {
    "duration": 174,
    "start_time": "2022-02-15T21:46:40.558Z"
   },
   {
    "duration": 6,
    "start_time": "2022-02-15T21:46:40.733Z"
   },
   {
    "duration": 150,
    "start_time": "2022-02-15T21:46:40.741Z"
   },
   {
    "duration": 10,
    "start_time": "2022-02-15T21:46:40.893Z"
   },
   {
    "duration": 182,
    "start_time": "2022-02-15T21:46:40.905Z"
   },
   {
    "duration": 6,
    "start_time": "2022-02-15T21:46:41.089Z"
   },
   {
    "duration": 172,
    "start_time": "2022-02-15T21:46:41.096Z"
   },
   {
    "duration": 10,
    "start_time": "2022-02-15T21:46:41.269Z"
   },
   {
    "duration": 174,
    "start_time": "2022-02-15T21:46:41.280Z"
   },
   {
    "duration": 159,
    "start_time": "2022-02-15T21:46:41.455Z"
   },
   {
    "duration": 20,
    "start_time": "2022-02-15T21:46:41.616Z"
   },
   {
    "duration": 179,
    "start_time": "2022-02-15T21:46:41.638Z"
   },
   {
    "duration": 154,
    "start_time": "2022-02-15T21:46:41.819Z"
   },
   {
    "duration": 10,
    "start_time": "2022-02-15T21:46:41.975Z"
   },
   {
    "duration": 181,
    "start_time": "2022-02-15T21:46:41.986Z"
   },
   {
    "duration": 159,
    "start_time": "2022-02-15T21:46:42.168Z"
   },
   {
    "duration": 9,
    "start_time": "2022-02-15T21:46:42.329Z"
   },
   {
    "duration": 189,
    "start_time": "2022-02-15T21:46:42.340Z"
   },
   {
    "duration": 291,
    "start_time": "2022-02-15T21:46:42.532Z"
   },
   {
    "duration": 129,
    "start_time": "2022-02-15T21:46:42.825Z"
   },
   {
    "duration": 322,
    "start_time": "2022-02-15T21:46:42.956Z"
   },
   {
    "duration": 300,
    "start_time": "2022-02-15T21:46:43.280Z"
   },
   {
    "duration": 140,
    "start_time": "2022-02-15T21:46:43.585Z"
   },
   {
    "duration": 309,
    "start_time": "2022-02-15T21:46:43.727Z"
   },
   {
    "duration": 7,
    "start_time": "2022-02-15T21:46:44.037Z"
   },
   {
    "duration": 1044,
    "start_time": "2022-02-15T21:47:47.156Z"
   },
   {
    "duration": 162,
    "start_time": "2022-02-15T21:47:48.202Z"
   },
   {
    "duration": 131,
    "start_time": "2022-02-15T21:47:48.366Z"
   },
   {
    "duration": 95,
    "start_time": "2022-02-15T21:47:48.499Z"
   },
   {
    "duration": 22,
    "start_time": "2022-02-15T21:47:48.596Z"
   },
   {
    "duration": 34,
    "start_time": "2022-02-15T21:47:48.620Z"
   },
   {
    "duration": 82,
    "start_time": "2022-02-15T21:47:48.656Z"
   },
   {
    "duration": 54,
    "start_time": "2022-02-15T21:47:48.742Z"
   },
   {
    "duration": 61,
    "start_time": "2022-02-15T21:47:48.798Z"
   },
   {
    "duration": 21,
    "start_time": "2022-02-15T21:47:48.861Z"
   },
   {
    "duration": 84,
    "start_time": "2022-02-15T21:47:48.883Z"
   },
   {
    "duration": 3,
    "start_time": "2022-02-15T21:47:48.969Z"
   },
   {
    "duration": 74,
    "start_time": "2022-02-15T21:47:48.974Z"
   },
   {
    "duration": 68,
    "start_time": "2022-02-15T21:47:49.050Z"
   },
   {
    "duration": 31,
    "start_time": "2022-02-15T21:47:49.120Z"
   },
   {
    "duration": 38,
    "start_time": "2022-02-15T21:47:49.152Z"
   },
   {
    "duration": 51,
    "start_time": "2022-02-15T21:47:49.192Z"
   },
   {
    "duration": 19,
    "start_time": "2022-02-15T21:47:49.245Z"
   },
   {
    "duration": 38,
    "start_time": "2022-02-15T21:47:49.265Z"
   },
   {
    "duration": 60,
    "start_time": "2022-02-15T21:47:49.305Z"
   },
   {
    "duration": 23,
    "start_time": "2022-02-15T21:47:49.366Z"
   },
   {
    "duration": 18,
    "start_time": "2022-02-15T21:47:49.391Z"
   },
   {
    "duration": 35,
    "start_time": "2022-02-15T21:47:49.413Z"
   },
   {
    "duration": 4,
    "start_time": "2022-02-15T21:47:49.451Z"
   },
   {
    "duration": 166,
    "start_time": "2022-02-15T21:47:49.457Z"
   },
   {
    "duration": 159,
    "start_time": "2022-02-15T21:47:49.625Z"
   },
   {
    "duration": 23,
    "start_time": "2022-02-15T21:47:49.786Z"
   },
   {
    "duration": 32,
    "start_time": "2022-02-15T21:47:49.810Z"
   },
   {
    "duration": 34,
    "start_time": "2022-02-15T21:47:49.844Z"
   },
   {
    "duration": 12,
    "start_time": "2022-02-15T21:47:49.880Z"
   },
   {
    "duration": 41,
    "start_time": "2022-02-15T21:47:49.894Z"
   },
   {
    "duration": 17,
    "start_time": "2022-02-15T21:47:49.936Z"
   },
   {
    "duration": 26,
    "start_time": "2022-02-15T21:47:49.955Z"
   },
   {
    "duration": 19,
    "start_time": "2022-02-15T21:47:49.983Z"
   },
   {
    "duration": 46,
    "start_time": "2022-02-15T21:47:50.003Z"
   },
   {
    "duration": 5,
    "start_time": "2022-02-15T21:47:50.050Z"
   },
   {
    "duration": 168,
    "start_time": "2022-02-15T21:47:50.056Z"
   },
   {
    "duration": 26,
    "start_time": "2022-02-15T21:47:50.226Z"
   },
   {
    "duration": 16,
    "start_time": "2022-02-15T21:47:50.254Z"
   },
   {
    "duration": 3335,
    "start_time": "2022-02-15T21:47:50.272Z"
   },
   {
    "duration": 5773,
    "start_time": "2022-02-15T21:47:53.608Z"
   },
   {
    "duration": 5776,
    "start_time": "2022-02-15T21:47:59.383Z"
   },
   {
    "duration": 32,
    "start_time": "2022-02-15T21:48:05.161Z"
   },
   {
    "duration": 176,
    "start_time": "2022-02-15T21:48:05.194Z"
   },
   {
    "duration": 10,
    "start_time": "2022-02-15T21:48:05.372Z"
   },
   {
    "duration": 172,
    "start_time": "2022-02-15T21:48:05.384Z"
   },
   {
    "duration": 5,
    "start_time": "2022-02-15T21:48:05.558Z"
   },
   {
    "duration": 161,
    "start_time": "2022-02-15T21:48:05.564Z"
   },
   {
    "duration": 12,
    "start_time": "2022-02-15T21:48:05.726Z"
   },
   {
    "duration": 184,
    "start_time": "2022-02-15T21:48:05.739Z"
   },
   {
    "duration": 10,
    "start_time": "2022-02-15T21:48:05.925Z"
   },
   {
    "duration": 162,
    "start_time": "2022-02-15T21:48:05.936Z"
   },
   {
    "duration": 9,
    "start_time": "2022-02-15T21:48:06.099Z"
   },
   {
    "duration": 176,
    "start_time": "2022-02-15T21:48:06.109Z"
   },
   {
    "duration": 160,
    "start_time": "2022-02-15T21:48:06.286Z"
   },
   {
    "duration": 13,
    "start_time": "2022-02-15T21:48:06.448Z"
   },
   {
    "duration": 182,
    "start_time": "2022-02-15T21:48:06.462Z"
   },
   {
    "duration": 150,
    "start_time": "2022-02-15T21:48:06.646Z"
   },
   {
    "duration": 9,
    "start_time": "2022-02-15T21:48:06.797Z"
   },
   {
    "duration": 173,
    "start_time": "2022-02-15T21:48:06.807Z"
   },
   {
    "duration": 152,
    "start_time": "2022-02-15T21:48:06.981Z"
   },
   {
    "duration": 8,
    "start_time": "2022-02-15T21:48:07.135Z"
   },
   {
    "duration": 180,
    "start_time": "2022-02-15T21:48:07.145Z"
   },
   {
    "duration": 288,
    "start_time": "2022-02-15T21:48:07.331Z"
   },
   {
    "duration": 123,
    "start_time": "2022-02-15T21:48:07.621Z"
   },
   {
    "duration": 315,
    "start_time": "2022-02-15T21:48:07.746Z"
   },
   {
    "duration": 308,
    "start_time": "2022-02-15T21:48:08.062Z"
   },
   {
    "duration": 143,
    "start_time": "2022-02-15T21:48:08.374Z"
   },
   {
    "duration": 306,
    "start_time": "2022-02-15T21:48:08.519Z"
   },
   {
    "duration": 6,
    "start_time": "2022-02-15T21:48:08.826Z"
   },
   {
    "duration": 4650,
    "start_time": "2022-02-15T21:48:08.834Z"
   },
   {
    "duration": 430,
    "start_time": "2022-02-15T21:48:13.485Z"
   },
   {
    "duration": -257,
    "start_time": "2022-02-15T21:48:14.174Z"
   },
   {
    "duration": -262,
    "start_time": "2022-02-15T21:48:14.180Z"
   },
   {
    "duration": -266,
    "start_time": "2022-02-15T21:48:14.185Z"
   },
   {
    "duration": 998,
    "start_time": "2022-02-15T21:49:10.258Z"
   },
   {
    "duration": 160,
    "start_time": "2022-02-15T21:49:11.258Z"
   },
   {
    "duration": 134,
    "start_time": "2022-02-15T21:49:11.420Z"
   },
   {
    "duration": 92,
    "start_time": "2022-02-15T21:49:11.555Z"
   },
   {
    "duration": 21,
    "start_time": "2022-02-15T21:49:11.649Z"
   },
   {
    "duration": 43,
    "start_time": "2022-02-15T21:49:11.672Z"
   },
   {
    "duration": 71,
    "start_time": "2022-02-15T21:49:11.717Z"
   },
   {
    "duration": 57,
    "start_time": "2022-02-15T21:49:11.790Z"
   },
   {
    "duration": 38,
    "start_time": "2022-02-15T21:49:11.849Z"
   },
   {
    "duration": 19,
    "start_time": "2022-02-15T21:49:11.889Z"
   },
   {
    "duration": 69,
    "start_time": "2022-02-15T21:49:11.931Z"
   },
   {
    "duration": 3,
    "start_time": "2022-02-15T21:49:12.002Z"
   },
   {
    "duration": 75,
    "start_time": "2022-02-15T21:49:12.007Z"
   },
   {
    "duration": 78,
    "start_time": "2022-02-15T21:49:12.084Z"
   },
   {
    "duration": 31,
    "start_time": "2022-02-15T21:49:12.163Z"
   },
   {
    "duration": 57,
    "start_time": "2022-02-15T21:49:12.196Z"
   },
   {
    "duration": 34,
    "start_time": "2022-02-15T21:49:12.255Z"
   },
   {
    "duration": 20,
    "start_time": "2022-02-15T21:49:12.291Z"
   },
   {
    "duration": 59,
    "start_time": "2022-02-15T21:49:12.312Z"
   },
   {
    "duration": 41,
    "start_time": "2022-02-15T21:49:12.373Z"
   },
   {
    "duration": 33,
    "start_time": "2022-02-15T21:49:12.416Z"
   },
   {
    "duration": 18,
    "start_time": "2022-02-15T21:49:12.450Z"
   },
   {
    "duration": 19,
    "start_time": "2022-02-15T21:49:12.472Z"
   },
   {
    "duration": 4,
    "start_time": "2022-02-15T21:49:12.494Z"
   },
   {
    "duration": 168,
    "start_time": "2022-02-15T21:49:12.499Z"
   },
   {
    "duration": 156,
    "start_time": "2022-02-15T21:49:12.668Z"
   },
   {
    "duration": 22,
    "start_time": "2022-02-15T21:49:12.826Z"
   },
   {
    "duration": 20,
    "start_time": "2022-02-15T21:49:12.850Z"
   },
   {
    "duration": 34,
    "start_time": "2022-02-15T21:49:12.871Z"
   },
   {
    "duration": 32,
    "start_time": "2022-02-15T21:49:12.907Z"
   },
   {
    "duration": 25,
    "start_time": "2022-02-15T21:49:12.940Z"
   },
   {
    "duration": 17,
    "start_time": "2022-02-15T21:49:12.967Z"
   },
   {
    "duration": 25,
    "start_time": "2022-02-15T21:49:12.986Z"
   },
   {
    "duration": 36,
    "start_time": "2022-02-15T21:49:13.012Z"
   },
   {
    "duration": 19,
    "start_time": "2022-02-15T21:49:13.049Z"
   },
   {
    "duration": 4,
    "start_time": "2022-02-15T21:49:13.069Z"
   },
   {
    "duration": 175,
    "start_time": "2022-02-15T21:49:13.074Z"
   },
   {
    "duration": 21,
    "start_time": "2022-02-15T21:49:13.251Z"
   },
   {
    "duration": 15,
    "start_time": "2022-02-15T21:49:13.274Z"
   },
   {
    "duration": 3346,
    "start_time": "2022-02-15T21:49:13.291Z"
   },
   {
    "duration": 6245,
    "start_time": "2022-02-15T21:49:16.638Z"
   },
   {
    "duration": 5630,
    "start_time": "2022-02-15T21:49:22.885Z"
   },
   {
    "duration": 39,
    "start_time": "2022-02-15T21:49:28.516Z"
   },
   {
    "duration": 179,
    "start_time": "2022-02-15T21:49:28.556Z"
   },
   {
    "duration": 11,
    "start_time": "2022-02-15T21:49:28.736Z"
   },
   {
    "duration": 173,
    "start_time": "2022-02-15T21:49:28.748Z"
   },
   {
    "duration": 11,
    "start_time": "2022-02-15T21:49:28.923Z"
   },
   {
    "duration": 148,
    "start_time": "2022-02-15T21:49:28.936Z"
   },
   {
    "duration": 10,
    "start_time": "2022-02-15T21:49:29.086Z"
   },
   {
    "duration": 188,
    "start_time": "2022-02-15T21:49:29.098Z"
   },
   {
    "duration": 6,
    "start_time": "2022-02-15T21:49:29.288Z"
   },
   {
    "duration": 166,
    "start_time": "2022-02-15T21:49:29.295Z"
   },
   {
    "duration": 8,
    "start_time": "2022-02-15T21:49:29.463Z"
   },
   {
    "duration": 173,
    "start_time": "2022-02-15T21:49:29.473Z"
   },
   {
    "duration": 167,
    "start_time": "2022-02-15T21:49:29.648Z"
   },
   {
    "duration": 17,
    "start_time": "2022-02-15T21:49:29.816Z"
   },
   {
    "duration": 180,
    "start_time": "2022-02-15T21:49:29.835Z"
   },
   {
    "duration": 152,
    "start_time": "2022-02-15T21:49:30.016Z"
   },
   {
    "duration": 10,
    "start_time": "2022-02-15T21:49:30.170Z"
   },
   {
    "duration": 184,
    "start_time": "2022-02-15T21:49:30.182Z"
   },
   {
    "duration": 157,
    "start_time": "2022-02-15T21:49:30.368Z"
   },
   {
    "duration": 12,
    "start_time": "2022-02-15T21:49:30.527Z"
   },
   {
    "duration": 195,
    "start_time": "2022-02-15T21:49:30.541Z"
   },
   {
    "duration": 316,
    "start_time": "2022-02-15T21:49:30.738Z"
   },
   {
    "duration": 132,
    "start_time": "2022-02-15T21:49:31.056Z"
   },
   {
    "duration": 320,
    "start_time": "2022-02-15T21:49:31.190Z"
   },
   {
    "duration": 297,
    "start_time": "2022-02-15T21:49:31.512Z"
   },
   {
    "duration": 141,
    "start_time": "2022-02-15T21:49:31.814Z"
   },
   {
    "duration": 313,
    "start_time": "2022-02-15T21:49:31.957Z"
   },
   {
    "duration": 5,
    "start_time": "2022-02-15T21:49:32.272Z"
   },
   {
    "duration": 4729,
    "start_time": "2022-02-15T21:49:32.278Z"
   },
   {
    "duration": 25,
    "start_time": "2022-02-15T21:49:37.008Z"
   },
   {
    "duration": 2,
    "start_time": "2022-02-15T21:49:37.034Z"
   },
   {
    "duration": 398,
    "start_time": "2022-02-15T21:49:37.038Z"
   },
   {
    "duration": -273,
    "start_time": "2022-02-15T21:49:37.711Z"
   },
   {
    "duration": -279,
    "start_time": "2022-02-15T21:49:37.718Z"
   },
   {
    "duration": 1041,
    "start_time": "2022-02-15T21:50:18.562Z"
   },
   {
    "duration": 173,
    "start_time": "2022-02-15T21:50:19.605Z"
   },
   {
    "duration": 139,
    "start_time": "2022-02-15T21:50:19.781Z"
   },
   {
    "duration": 110,
    "start_time": "2022-02-15T21:50:19.922Z"
   },
   {
    "duration": 23,
    "start_time": "2022-02-15T21:50:20.034Z"
   },
   {
    "duration": 34,
    "start_time": "2022-02-15T21:50:20.059Z"
   },
   {
    "duration": 73,
    "start_time": "2022-02-15T21:50:20.094Z"
   },
   {
    "duration": 52,
    "start_time": "2022-02-15T21:50:20.169Z"
   },
   {
    "duration": 47,
    "start_time": "2022-02-15T21:50:20.223Z"
   },
   {
    "duration": 19,
    "start_time": "2022-02-15T21:50:20.272Z"
   },
   {
    "duration": 91,
    "start_time": "2022-02-15T21:50:20.293Z"
   },
   {
    "duration": 3,
    "start_time": "2022-02-15T21:50:20.386Z"
   },
   {
    "duration": 71,
    "start_time": "2022-02-15T21:50:20.390Z"
   },
   {
    "duration": 75,
    "start_time": "2022-02-15T21:50:20.463Z"
   },
   {
    "duration": 29,
    "start_time": "2022-02-15T21:50:20.540Z"
   },
   {
    "duration": 39,
    "start_time": "2022-02-15T21:50:20.571Z"
   },
   {
    "duration": 53,
    "start_time": "2022-02-15T21:50:20.611Z"
   },
   {
    "duration": 21,
    "start_time": "2022-02-15T21:50:20.665Z"
   },
   {
    "duration": 51,
    "start_time": "2022-02-15T21:50:20.687Z"
   },
   {
    "duration": 42,
    "start_time": "2022-02-15T21:50:20.739Z"
   },
   {
    "duration": 23,
    "start_time": "2022-02-15T21:50:20.782Z"
   },
   {
    "duration": 35,
    "start_time": "2022-02-15T21:50:20.806Z"
   },
   {
    "duration": 20,
    "start_time": "2022-02-15T21:50:20.845Z"
   },
   {
    "duration": 5,
    "start_time": "2022-02-15T21:50:20.867Z"
   },
   {
    "duration": 168,
    "start_time": "2022-02-15T21:50:20.874Z"
   },
   {
    "duration": 158,
    "start_time": "2022-02-15T21:50:21.044Z"
   },
   {
    "duration": 30,
    "start_time": "2022-02-15T21:50:21.204Z"
   },
   {
    "duration": 21,
    "start_time": "2022-02-15T21:50:21.235Z"
   },
   {
    "duration": 34,
    "start_time": "2022-02-15T21:50:21.258Z"
   },
   {
    "duration": 12,
    "start_time": "2022-02-15T21:50:21.293Z"
   },
   {
    "duration": 46,
    "start_time": "2022-02-15T21:50:21.306Z"
   },
   {
    "duration": 16,
    "start_time": "2022-02-15T21:50:21.354Z"
   },
   {
    "duration": 25,
    "start_time": "2022-02-15T21:50:21.372Z"
   },
   {
    "duration": 39,
    "start_time": "2022-02-15T21:50:21.398Z"
   },
   {
    "duration": 19,
    "start_time": "2022-02-15T21:50:21.438Z"
   },
   {
    "duration": 4,
    "start_time": "2022-02-15T21:50:21.459Z"
   },
   {
    "duration": 168,
    "start_time": "2022-02-15T21:50:21.465Z"
   },
   {
    "duration": 22,
    "start_time": "2022-02-15T21:50:21.635Z"
   },
   {
    "duration": 16,
    "start_time": "2022-02-15T21:50:21.658Z"
   },
   {
    "duration": 3316,
    "start_time": "2022-02-15T21:50:21.675Z"
   },
   {
    "duration": 5396,
    "start_time": "2022-02-15T21:50:24.992Z"
   },
   {
    "duration": 5768,
    "start_time": "2022-02-15T21:50:30.390Z"
   },
   {
    "duration": 34,
    "start_time": "2022-02-15T21:50:36.159Z"
   },
   {
    "duration": 274,
    "start_time": "2022-02-15T21:50:36.194Z"
   },
   {
    "duration": 11,
    "start_time": "2022-02-15T21:50:36.469Z"
   },
   {
    "duration": 179,
    "start_time": "2022-02-15T21:50:36.481Z"
   },
   {
    "duration": 6,
    "start_time": "2022-02-15T21:50:36.662Z"
   },
   {
    "duration": 153,
    "start_time": "2022-02-15T21:50:36.670Z"
   },
   {
    "duration": 14,
    "start_time": "2022-02-15T21:50:36.824Z"
   },
   {
    "duration": 188,
    "start_time": "2022-02-15T21:50:36.840Z"
   },
   {
    "duration": 5,
    "start_time": "2022-02-15T21:50:37.031Z"
   },
   {
    "duration": 158,
    "start_time": "2022-02-15T21:50:37.038Z"
   },
   {
    "duration": 9,
    "start_time": "2022-02-15T21:50:37.198Z"
   },
   {
    "duration": 188,
    "start_time": "2022-02-15T21:50:37.209Z"
   },
   {
    "duration": 175,
    "start_time": "2022-02-15T21:50:37.398Z"
   },
   {
    "duration": 13,
    "start_time": "2022-02-15T21:50:37.575Z"
   },
   {
    "duration": 197,
    "start_time": "2022-02-15T21:50:37.589Z"
   },
   {
    "duration": 156,
    "start_time": "2022-02-15T21:50:37.788Z"
   },
   {
    "duration": 10,
    "start_time": "2022-02-15T21:50:37.946Z"
   },
   {
    "duration": 281,
    "start_time": "2022-02-15T21:50:37.957Z"
   },
   {
    "duration": 170,
    "start_time": "2022-02-15T21:50:38.240Z"
   },
   {
    "duration": 20,
    "start_time": "2022-02-15T21:50:38.412Z"
   },
   {
    "duration": 221,
    "start_time": "2022-02-15T21:50:38.433Z"
   },
   {
    "duration": 312,
    "start_time": "2022-02-15T21:50:38.657Z"
   },
   {
    "duration": 122,
    "start_time": "2022-02-15T21:50:38.970Z"
   },
   {
    "duration": 323,
    "start_time": "2022-02-15T21:50:39.094Z"
   },
   {
    "duration": 306,
    "start_time": "2022-02-15T21:50:39.418Z"
   },
   {
    "duration": 146,
    "start_time": "2022-02-15T21:50:39.729Z"
   },
   {
    "duration": 312,
    "start_time": "2022-02-15T21:50:39.877Z"
   },
   {
    "duration": 6,
    "start_time": "2022-02-15T21:50:40.191Z"
   },
   {
    "duration": 4758,
    "start_time": "2022-02-15T21:50:40.199Z"
   },
   {
    "duration": 20,
    "start_time": "2022-02-15T21:50:44.959Z"
   },
   {
    "duration": 1101,
    "start_time": "2022-02-15T21:54:57.096Z"
   },
   {
    "duration": 165,
    "start_time": "2022-02-15T21:54:58.199Z"
   },
   {
    "duration": 132,
    "start_time": "2022-02-15T21:54:58.366Z"
   },
   {
    "duration": 95,
    "start_time": "2022-02-15T21:54:58.500Z"
   },
   {
    "duration": 22,
    "start_time": "2022-02-15T21:54:58.596Z"
   },
   {
    "duration": 34,
    "start_time": "2022-02-15T21:54:58.620Z"
   },
   {
    "duration": 76,
    "start_time": "2022-02-15T21:54:58.656Z"
   },
   {
    "duration": 54,
    "start_time": "2022-02-15T21:54:58.734Z"
   },
   {
    "duration": 52,
    "start_time": "2022-02-15T21:54:58.790Z"
   },
   {
    "duration": 20,
    "start_time": "2022-02-15T21:54:58.844Z"
   },
   {
    "duration": 89,
    "start_time": "2022-02-15T21:54:58.866Z"
   },
   {
    "duration": 4,
    "start_time": "2022-02-15T21:54:58.956Z"
   },
   {
    "duration": 74,
    "start_time": "2022-02-15T21:54:58.961Z"
   },
   {
    "duration": 70,
    "start_time": "2022-02-15T21:54:59.037Z"
   },
   {
    "duration": 38,
    "start_time": "2022-02-15T21:54:59.109Z"
   },
   {
    "duration": 38,
    "start_time": "2022-02-15T21:54:59.149Z"
   },
   {
    "duration": 51,
    "start_time": "2022-02-15T21:54:59.189Z"
   },
   {
    "duration": 20,
    "start_time": "2022-02-15T21:54:59.241Z"
   },
   {
    "duration": 39,
    "start_time": "2022-02-15T21:54:59.263Z"
   },
   {
    "duration": 58,
    "start_time": "2022-02-15T21:54:59.304Z"
   },
   {
    "duration": 24,
    "start_time": "2022-02-15T21:54:59.364Z"
   },
   {
    "duration": 19,
    "start_time": "2022-02-15T21:54:59.390Z"
   },
   {
    "duration": 38,
    "start_time": "2022-02-15T21:54:59.414Z"
   },
   {
    "duration": 5,
    "start_time": "2022-02-15T21:54:59.455Z"
   },
   {
    "duration": 171,
    "start_time": "2022-02-15T21:54:59.461Z"
   },
   {
    "duration": 162,
    "start_time": "2022-02-15T21:54:59.633Z"
   },
   {
    "duration": 23,
    "start_time": "2022-02-15T21:54:59.797Z"
   },
   {
    "duration": 20,
    "start_time": "2022-02-15T21:54:59.832Z"
   },
   {
    "duration": 35,
    "start_time": "2022-02-15T21:54:59.854Z"
   },
   {
    "duration": 13,
    "start_time": "2022-02-15T21:54:59.891Z"
   },
   {
    "duration": 51,
    "start_time": "2022-02-15T21:54:59.905Z"
   },
   {
    "duration": 19,
    "start_time": "2022-02-15T21:54:59.958Z"
   },
   {
    "duration": 30,
    "start_time": "2022-02-15T21:54:59.979Z"
   },
   {
    "duration": 40,
    "start_time": "2022-02-15T21:55:00.011Z"
   },
   {
    "duration": 20,
    "start_time": "2022-02-15T21:55:00.052Z"
   },
   {
    "duration": 4,
    "start_time": "2022-02-15T21:55:00.074Z"
   },
   {
    "duration": 186,
    "start_time": "2022-02-15T21:55:00.079Z"
   },
   {
    "duration": 23,
    "start_time": "2022-02-15T21:55:00.267Z"
   },
   {
    "duration": 17,
    "start_time": "2022-02-15T21:55:00.292Z"
   },
   {
    "duration": 3066,
    "start_time": "2022-02-15T21:55:00.332Z"
   },
   {
    "duration": 5803,
    "start_time": "2022-02-15T21:55:03.400Z"
   },
   {
    "duration": 6030,
    "start_time": "2022-02-15T21:55:09.204Z"
   },
   {
    "duration": 31,
    "start_time": "2022-02-15T21:55:15.236Z"
   },
   {
    "duration": 171,
    "start_time": "2022-02-15T21:55:15.269Z"
   },
   {
    "duration": 11,
    "start_time": "2022-02-15T21:55:15.442Z"
   },
   {
    "duration": 169,
    "start_time": "2022-02-15T21:55:15.454Z"
   },
   {
    "duration": 9,
    "start_time": "2022-02-15T21:55:15.625Z"
   },
   {
    "duration": 145,
    "start_time": "2022-02-15T21:55:15.635Z"
   },
   {
    "duration": 8,
    "start_time": "2022-02-15T21:55:15.782Z"
   },
   {
    "duration": 178,
    "start_time": "2022-02-15T21:55:15.791Z"
   },
   {
    "duration": 6,
    "start_time": "2022-02-15T21:55:15.970Z"
   },
   {
    "duration": 177,
    "start_time": "2022-02-15T21:55:15.977Z"
   },
   {
    "duration": 9,
    "start_time": "2022-02-15T21:55:16.156Z"
   },
   {
    "duration": 184,
    "start_time": "2022-02-15T21:55:16.166Z"
   },
   {
    "duration": 167,
    "start_time": "2022-02-15T21:55:16.352Z"
   },
   {
    "duration": 15,
    "start_time": "2022-02-15T21:55:16.521Z"
   },
   {
    "duration": 186,
    "start_time": "2022-02-15T21:55:16.537Z"
   },
   {
    "duration": 158,
    "start_time": "2022-02-15T21:55:16.725Z"
   },
   {
    "duration": 10,
    "start_time": "2022-02-15T21:55:16.884Z"
   },
   {
    "duration": 180,
    "start_time": "2022-02-15T21:55:16.896Z"
   },
   {
    "duration": 162,
    "start_time": "2022-02-15T21:55:17.078Z"
   },
   {
    "duration": 9,
    "start_time": "2022-02-15T21:55:17.241Z"
   },
   {
    "duration": 192,
    "start_time": "2022-02-15T21:55:17.252Z"
   },
   {
    "duration": 312,
    "start_time": "2022-02-15T21:55:17.445Z"
   },
   {
    "duration": 135,
    "start_time": "2022-02-15T21:55:17.758Z"
   },
   {
    "duration": 338,
    "start_time": "2022-02-15T21:55:17.895Z"
   },
   {
    "duration": 302,
    "start_time": "2022-02-15T21:55:18.235Z"
   },
   {
    "duration": 143,
    "start_time": "2022-02-15T21:55:18.542Z"
   },
   {
    "duration": 324,
    "start_time": "2022-02-15T21:55:18.687Z"
   },
   {
    "duration": 6,
    "start_time": "2022-02-15T21:55:19.013Z"
   },
   {
    "duration": 4800,
    "start_time": "2022-02-15T21:55:19.031Z"
   },
   {
    "duration": 20,
    "start_time": "2022-02-15T21:55:23.833Z"
   },
   {
    "duration": 1121,
    "start_time": "2022-02-16T05:49:21.887Z"
   },
   {
    "duration": 201,
    "start_time": "2022-02-16T05:49:25.119Z"
   },
   {
    "duration": 250,
    "start_time": "2022-02-16T05:49:25.322Z"
   },
   {
    "duration": 109,
    "start_time": "2022-02-16T05:49:25.574Z"
   },
   {
    "duration": 21,
    "start_time": "2022-02-16T05:49:25.685Z"
   },
   {
    "duration": 32,
    "start_time": "2022-02-16T05:49:25.708Z"
   },
   {
    "duration": 116,
    "start_time": "2022-02-16T05:49:26.799Z"
   },
   {
    "duration": 67,
    "start_time": "2022-02-16T05:49:26.917Z"
   },
   {
    "duration": 69,
    "start_time": "2022-02-16T05:49:26.987Z"
   },
   {
    "duration": 49,
    "start_time": "2022-02-16T05:49:27.058Z"
   },
   {
    "duration": 78,
    "start_time": "2022-02-16T05:49:27.109Z"
   },
   {
    "duration": 18,
    "start_time": "2022-02-16T05:49:27.189Z"
   },
   {
    "duration": 67,
    "start_time": "2022-02-16T05:49:27.210Z"
   },
   {
    "duration": 70,
    "start_time": "2022-02-16T05:49:27.361Z"
   },
   {
    "duration": 36,
    "start_time": "2022-02-16T05:49:27.531Z"
   },
   {
    "duration": 45,
    "start_time": "2022-02-16T05:49:27.717Z"
   },
   {
    "duration": 37,
    "start_time": "2022-02-16T05:49:27.884Z"
   },
   {
    "duration": 31,
    "start_time": "2022-02-16T05:49:28.041Z"
   },
   {
    "duration": 48,
    "start_time": "2022-02-16T05:49:28.235Z"
   },
   {
    "duration": 45,
    "start_time": "2022-02-16T05:49:28.397Z"
   },
   {
    "duration": 29,
    "start_time": "2022-02-16T05:49:28.562Z"
   },
   {
    "duration": 25,
    "start_time": "2022-02-16T05:49:28.729Z"
   },
   {
    "duration": 27,
    "start_time": "2022-02-16T05:49:28.898Z"
   },
   {
    "duration": 6,
    "start_time": "2022-02-16T05:49:29.065Z"
   },
   {
    "duration": 163,
    "start_time": "2022-02-16T05:49:29.243Z"
   },
   {
    "duration": 180,
    "start_time": "2022-02-16T05:49:29.408Z"
   },
   {
    "duration": 27,
    "start_time": "2022-02-16T05:49:30.130Z"
   },
   {
    "duration": 23,
    "start_time": "2022-02-16T05:49:30.824Z"
   },
   {
    "duration": 47,
    "start_time": "2022-02-16T05:49:31.002Z"
   },
   {
    "duration": 15,
    "start_time": "2022-02-16T05:49:31.169Z"
   },
   {
    "duration": 33,
    "start_time": "2022-02-16T05:49:31.346Z"
   },
   {
    "duration": 23,
    "start_time": "2022-02-16T05:49:31.537Z"
   },
   {
    "duration": 34,
    "start_time": "2022-02-16T05:49:31.714Z"
   },
   {
    "duration": 36,
    "start_time": "2022-02-16T05:49:31.898Z"
   },
   {
    "duration": 40,
    "start_time": "2022-02-16T05:49:32.066Z"
   },
   {
    "duration": 8,
    "start_time": "2022-02-16T05:49:32.281Z"
   },
   {
    "duration": 209,
    "start_time": "2022-02-16T05:49:32.465Z"
   },
   {
    "duration": 40,
    "start_time": "2022-02-16T05:49:32.677Z"
   },
   {
    "duration": 271,
    "start_time": "2022-02-18T16:45:06.488Z"
   },
   {
    "duration": 1222,
    "start_time": "2022-02-18T16:45:14.399Z"
   },
   {
    "duration": 201,
    "start_time": "2022-02-18T16:45:15.623Z"
   },
   {
    "duration": 161,
    "start_time": "2022-02-18T16:45:15.826Z"
   },
   {
    "duration": 86,
    "start_time": "2022-02-18T16:45:15.990Z"
   },
   {
    "duration": 131,
    "start_time": "2022-02-18T16:45:16.078Z"
   },
   {
    "duration": 21,
    "start_time": "2022-02-18T16:45:16.211Z"
   },
   {
    "duration": 29,
    "start_time": "2022-02-18T16:45:16.234Z"
   },
   {
    "duration": 141,
    "start_time": "2022-02-18T16:45:16.266Z"
   },
   {
    "duration": 67,
    "start_time": "2022-02-18T16:45:16.410Z"
   },
   {
    "duration": 63,
    "start_time": "2022-02-18T16:45:16.479Z"
   },
   {
    "duration": 25,
    "start_time": "2022-02-18T16:45:16.544Z"
   },
   {
    "duration": 89,
    "start_time": "2022-02-18T16:45:16.571Z"
   },
   {
    "duration": 4,
    "start_time": "2022-02-18T16:45:16.662Z"
   },
   {
    "duration": 79,
    "start_time": "2022-02-18T16:45:16.668Z"
   },
   {
    "duration": 77,
    "start_time": "2022-02-18T16:45:16.749Z"
   },
   {
    "duration": 435,
    "start_time": "2022-02-18T16:45:16.828Z"
   },
   {
    "duration": -706,
    "start_time": "2022-02-18T16:45:17.974Z"
   },
   {
    "duration": -711,
    "start_time": "2022-02-18T16:45:17.980Z"
   },
   {
    "duration": -716,
    "start_time": "2022-02-18T16:45:17.986Z"
   },
   {
    "duration": -720,
    "start_time": "2022-02-18T16:45:17.991Z"
   },
   {
    "duration": -725,
    "start_time": "2022-02-18T16:45:17.997Z"
   },
   {
    "duration": -728,
    "start_time": "2022-02-18T16:45:18.002Z"
   },
   {
    "duration": -734,
    "start_time": "2022-02-18T16:45:18.009Z"
   },
   {
    "duration": -737,
    "start_time": "2022-02-18T16:45:18.014Z"
   },
   {
    "duration": -741,
    "start_time": "2022-02-18T16:45:18.019Z"
   },
   {
    "duration": -744,
    "start_time": "2022-02-18T16:45:18.023Z"
   },
   {
    "duration": -750,
    "start_time": "2022-02-18T16:45:18.030Z"
   },
   {
    "duration": -756,
    "start_time": "2022-02-18T16:45:18.037Z"
   },
   {
    "duration": -761,
    "start_time": "2022-02-18T16:45:18.043Z"
   },
   {
    "duration": -796,
    "start_time": "2022-02-18T16:45:18.080Z"
   },
   {
    "duration": -801,
    "start_time": "2022-02-18T16:45:18.085Z"
   },
   {
    "duration": -804,
    "start_time": "2022-02-18T16:45:18.090Z"
   },
   {
    "duration": -809,
    "start_time": "2022-02-18T16:45:18.096Z"
   },
   {
    "duration": -815,
    "start_time": "2022-02-18T16:45:18.103Z"
   },
   {
    "duration": -824,
    "start_time": "2022-02-18T16:45:18.113Z"
   },
   {
    "duration": -828,
    "start_time": "2022-02-18T16:45:18.118Z"
   },
   {
    "duration": -831,
    "start_time": "2022-02-18T16:45:18.123Z"
   },
   {
    "duration": -834,
    "start_time": "2022-02-18T16:45:18.127Z"
   },
   {
    "duration": -838,
    "start_time": "2022-02-18T16:45:18.132Z"
   },
   {
    "duration": -842,
    "start_time": "2022-02-18T16:45:18.137Z"
   },
   {
    "duration": -846,
    "start_time": "2022-02-18T16:45:18.142Z"
   },
   {
    "duration": -854,
    "start_time": "2022-02-18T16:45:18.151Z"
   },
   {
    "duration": -858,
    "start_time": "2022-02-18T16:45:18.156Z"
   },
   {
    "duration": -860,
    "start_time": "2022-02-18T16:45:18.161Z"
   },
   {
    "duration": -864,
    "start_time": "2022-02-18T16:45:18.167Z"
   },
   {
    "duration": -867,
    "start_time": "2022-02-18T16:45:18.171Z"
   },
   {
    "duration": -871,
    "start_time": "2022-02-18T16:45:18.176Z"
   },
   {
    "duration": -910,
    "start_time": "2022-02-18T16:45:18.215Z"
   },
   {
    "duration": -916,
    "start_time": "2022-02-18T16:45:18.222Z"
   },
   {
    "duration": -919,
    "start_time": "2022-02-18T16:45:18.226Z"
   },
   {
    "duration": -924,
    "start_time": "2022-02-18T16:45:18.232Z"
   },
   {
    "duration": -928,
    "start_time": "2022-02-18T16:45:18.237Z"
   },
   {
    "duration": -932,
    "start_time": "2022-02-18T16:45:18.242Z"
   },
   {
    "duration": -935,
    "start_time": "2022-02-18T16:45:18.246Z"
   },
   {
    "duration": -939,
    "start_time": "2022-02-18T16:45:18.251Z"
   },
   {
    "duration": -943,
    "start_time": "2022-02-18T16:45:18.256Z"
   },
   {
    "duration": -948,
    "start_time": "2022-02-18T16:45:18.261Z"
   },
   {
    "duration": -952,
    "start_time": "2022-02-18T16:45:18.266Z"
   },
   {
    "duration": -955,
    "start_time": "2022-02-18T16:45:18.271Z"
   },
   {
    "duration": -958,
    "start_time": "2022-02-18T16:45:18.275Z"
   },
   {
    "duration": -962,
    "start_time": "2022-02-18T16:45:18.280Z"
   },
   {
    "duration": -965,
    "start_time": "2022-02-18T16:45:18.285Z"
   },
   {
    "duration": -969,
    "start_time": "2022-02-18T16:45:18.290Z"
   },
   {
    "duration": -972,
    "start_time": "2022-02-18T16:45:18.294Z"
   },
   {
    "duration": -976,
    "start_time": "2022-02-18T16:45:18.299Z"
   },
   {
    "duration": -979,
    "start_time": "2022-02-18T16:45:18.304Z"
   },
   {
    "duration": -983,
    "start_time": "2022-02-18T16:45:18.309Z"
   },
   {
    "duration": -986,
    "start_time": "2022-02-18T16:45:18.313Z"
   },
   {
    "duration": -1001,
    "start_time": "2022-02-18T16:45:18.329Z"
   },
   {
    "duration": -1004,
    "start_time": "2022-02-18T16:45:18.334Z"
   },
   {
    "duration": -1008,
    "start_time": "2022-02-18T16:45:18.339Z"
   },
   {
    "duration": -1012,
    "start_time": "2022-02-18T16:45:18.344Z"
   },
   {
    "duration": -1016,
    "start_time": "2022-02-18T16:45:18.349Z"
   },
   {
    "duration": -1020,
    "start_time": "2022-02-18T16:45:18.354Z"
   },
   {
    "duration": -1024,
    "start_time": "2022-02-18T16:45:18.359Z"
   },
   {
    "duration": -1028,
    "start_time": "2022-02-18T16:45:18.364Z"
   },
   {
    "duration": -1032,
    "start_time": "2022-02-18T16:45:18.369Z"
   },
   {
    "duration": 83,
    "start_time": "2022-02-18T16:47:03.174Z"
   },
   {
    "duration": 43,
    "start_time": "2022-02-18T16:47:36.115Z"
   },
   {
    "duration": 7,
    "start_time": "2022-02-18T16:47:59.380Z"
   },
   {
    "duration": 9,
    "start_time": "2022-02-18T16:48:21.032Z"
   },
   {
    "duration": 245,
    "start_time": "2022-02-18T16:59:21.565Z"
   },
   {
    "duration": 77,
    "start_time": "2022-02-18T16:59:45.697Z"
   },
   {
    "duration": 29,
    "start_time": "2022-02-18T17:02:21.285Z"
   },
   {
    "duration": 15,
    "start_time": "2022-02-18T17:02:52.641Z"
   },
   {
    "duration": 13,
    "start_time": "2022-02-18T17:03:01.176Z"
   },
   {
    "duration": 251,
    "start_time": "2022-02-18T17:03:04.200Z"
   },
   {
    "duration": 5,
    "start_time": "2022-02-18T17:08:21.897Z"
   },
   {
    "duration": 214,
    "start_time": "2022-02-18T17:08:26.392Z"
   },
   {
    "duration": 1177,
    "start_time": "2022-02-18T17:08:40.927Z"
   },
   {
    "duration": 195,
    "start_time": "2022-02-18T17:08:42.107Z"
   },
   {
    "duration": 109,
    "start_time": "2022-02-18T17:08:42.307Z"
   },
   {
    "duration": 157,
    "start_time": "2022-02-18T17:08:42.419Z"
   },
   {
    "duration": 71,
    "start_time": "2022-02-18T17:08:42.578Z"
   },
   {
    "duration": 117,
    "start_time": "2022-02-18T17:08:42.651Z"
   },
   {
    "duration": 68,
    "start_time": "2022-02-18T17:08:42.770Z"
   },
   {
    "duration": 23,
    "start_time": "2022-02-18T17:08:42.840Z"
   },
   {
    "duration": 7,
    "start_time": "2022-02-18T17:08:42.866Z"
   },
   {
    "duration": 41,
    "start_time": "2022-02-18T17:08:42.875Z"
   },
   {
    "duration": 8,
    "start_time": "2022-02-18T17:08:42.917Z"
   },
   {
    "duration": 105,
    "start_time": "2022-02-18T17:08:42.928Z"
   },
   {
    "duration": 85,
    "start_time": "2022-02-18T17:08:43.035Z"
   },
   {
    "duration": 50,
    "start_time": "2022-02-18T17:08:43.122Z"
   },
   {
    "duration": 47,
    "start_time": "2022-02-18T17:08:43.174Z"
   },
   {
    "duration": 112,
    "start_time": "2022-02-18T17:08:43.223Z"
   },
   {
    "duration": 31,
    "start_time": "2022-02-18T17:08:43.337Z"
   },
   {
    "duration": 10,
    "start_time": "2022-02-18T17:08:43.370Z"
   },
   {
    "duration": 27,
    "start_time": "2022-02-18T17:08:43.382Z"
   },
   {
    "duration": 11,
    "start_time": "2022-02-18T17:08:43.411Z"
   },
   {
    "duration": 307,
    "start_time": "2022-02-18T17:08:43.424Z"
   },
   {
    "duration": -210,
    "start_time": "2022-02-18T17:08:43.946Z"
   },
   {
    "duration": -213,
    "start_time": "2022-02-18T17:08:43.951Z"
   },
   {
    "duration": -217,
    "start_time": "2022-02-18T17:08:43.957Z"
   },
   {
    "duration": -221,
    "start_time": "2022-02-18T17:08:43.962Z"
   },
   {
    "duration": -224,
    "start_time": "2022-02-18T17:08:43.967Z"
   },
   {
    "duration": -227,
    "start_time": "2022-02-18T17:08:43.972Z"
   },
   {
    "duration": -231,
    "start_time": "2022-02-18T17:08:43.977Z"
   },
   {
    "duration": -234,
    "start_time": "2022-02-18T17:08:43.982Z"
   },
   {
    "duration": -239,
    "start_time": "2022-02-18T17:08:43.989Z"
   },
   {
    "duration": -243,
    "start_time": "2022-02-18T17:08:43.994Z"
   },
   {
    "duration": -248,
    "start_time": "2022-02-18T17:08:44.000Z"
   },
   {
    "duration": -251,
    "start_time": "2022-02-18T17:08:44.005Z"
   },
   {
    "duration": -256,
    "start_time": "2022-02-18T17:08:44.011Z"
   },
   {
    "duration": -260,
    "start_time": "2022-02-18T17:08:44.016Z"
   },
   {
    "duration": -266,
    "start_time": "2022-02-18T17:08:44.023Z"
   },
   {
    "duration": -269,
    "start_time": "2022-02-18T17:08:44.028Z"
   },
   {
    "duration": -274,
    "start_time": "2022-02-18T17:08:44.034Z"
   },
   {
    "duration": -292,
    "start_time": "2022-02-18T17:08:44.053Z"
   },
   {
    "duration": -298,
    "start_time": "2022-02-18T17:08:44.060Z"
   },
   {
    "duration": -301,
    "start_time": "2022-02-18T17:08:44.064Z"
   },
   {
    "duration": -306,
    "start_time": "2022-02-18T17:08:44.070Z"
   },
   {
    "duration": -314,
    "start_time": "2022-02-18T17:08:44.079Z"
   },
   {
    "duration": -322,
    "start_time": "2022-02-18T17:08:44.088Z"
   },
   {
    "duration": -324,
    "start_time": "2022-02-18T17:08:44.092Z"
   },
   {
    "duration": -329,
    "start_time": "2022-02-18T17:08:44.098Z"
   },
   {
    "duration": -332,
    "start_time": "2022-02-18T17:08:44.102Z"
   },
   {
    "duration": -337,
    "start_time": "2022-02-18T17:08:44.108Z"
   },
   {
    "duration": -340,
    "start_time": "2022-02-18T17:08:44.112Z"
   },
   {
    "duration": -344,
    "start_time": "2022-02-18T17:08:44.118Z"
   },
   {
    "duration": -316,
    "start_time": "2022-02-18T17:08:44.123Z"
   },
   {
    "duration": -320,
    "start_time": "2022-02-18T17:08:44.128Z"
   },
   {
    "duration": -327,
    "start_time": "2022-02-18T17:08:44.137Z"
   },
   {
    "duration": -332,
    "start_time": "2022-02-18T17:08:44.143Z"
   },
   {
    "duration": -336,
    "start_time": "2022-02-18T17:08:44.148Z"
   },
   {
    "duration": -348,
    "start_time": "2022-02-18T17:08:44.161Z"
   },
   {
    "duration": -351,
    "start_time": "2022-02-18T17:08:44.165Z"
   },
   {
    "duration": -356,
    "start_time": "2022-02-18T17:08:44.171Z"
   },
   {
    "duration": -360,
    "start_time": "2022-02-18T17:08:44.176Z"
   },
   {
    "duration": -364,
    "start_time": "2022-02-18T17:08:44.182Z"
   },
   {
    "duration": -368,
    "start_time": "2022-02-18T17:08:44.187Z"
   },
   {
    "duration": -372,
    "start_time": "2022-02-18T17:08:44.192Z"
   },
   {
    "duration": -376,
    "start_time": "2022-02-18T17:08:44.197Z"
   },
   {
    "duration": -380,
    "start_time": "2022-02-18T17:08:44.202Z"
   },
   {
    "duration": -384,
    "start_time": "2022-02-18T17:08:44.207Z"
   },
   {
    "duration": -389,
    "start_time": "2022-02-18T17:08:44.213Z"
   },
   {
    "duration": -393,
    "start_time": "2022-02-18T17:08:44.218Z"
   },
   {
    "duration": -398,
    "start_time": "2022-02-18T17:08:44.224Z"
   },
   {
    "duration": -400,
    "start_time": "2022-02-18T17:08:44.228Z"
   },
   {
    "duration": -405,
    "start_time": "2022-02-18T17:08:44.234Z"
   },
   {
    "duration": -408,
    "start_time": "2022-02-18T17:08:44.239Z"
   },
   {
    "duration": -412,
    "start_time": "2022-02-18T17:08:44.245Z"
   },
   {
    "duration": -417,
    "start_time": "2022-02-18T17:08:44.251Z"
   },
   {
    "duration": -422,
    "start_time": "2022-02-18T17:08:44.257Z"
   },
   {
    "duration": -436,
    "start_time": "2022-02-18T17:08:44.272Z"
   },
   {
    "duration": -440,
    "start_time": "2022-02-18T17:08:44.277Z"
   },
   {
    "duration": -444,
    "start_time": "2022-02-18T17:08:44.282Z"
   },
   {
    "duration": -449,
    "start_time": "2022-02-18T17:08:44.288Z"
   },
   {
    "duration": -453,
    "start_time": "2022-02-18T17:08:44.293Z"
   },
   {
    "duration": -457,
    "start_time": "2022-02-18T17:08:44.298Z"
   },
   {
    "duration": -461,
    "start_time": "2022-02-18T17:08:44.303Z"
   },
   {
    "duration": -466,
    "start_time": "2022-02-18T17:08:44.309Z"
   },
   {
    "duration": -470,
    "start_time": "2022-02-18T17:08:44.314Z"
   },
   {
    "duration": -413,
    "start_time": "2022-02-18T17:08:44.319Z"
   },
   {
    "duration": 4,
    "start_time": "2022-02-18T17:09:47.254Z"
   },
   {
    "duration": 10,
    "start_time": "2022-02-18T17:09:59.723Z"
   },
   {
    "duration": 5,
    "start_time": "2022-02-18T17:10:02.139Z"
   },
   {
    "duration": 219,
    "start_time": "2022-02-18T17:10:03.981Z"
   },
   {
    "duration": 215,
    "start_time": "2022-02-18T17:10:20.589Z"
   },
   {
    "duration": 4,
    "start_time": "2022-02-18T17:11:06.088Z"
   },
   {
    "duration": 10,
    "start_time": "2022-02-18T17:11:08.040Z"
   },
   {
    "duration": 1455,
    "start_time": "2022-02-18T17:11:15.803Z"
   },
   {
    "duration": 269,
    "start_time": "2022-02-18T17:11:17.260Z"
   },
   {
    "duration": 154,
    "start_time": "2022-02-18T17:11:17.531Z"
   },
   {
    "duration": 266,
    "start_time": "2022-02-18T17:11:17.687Z"
   },
   {
    "duration": 77,
    "start_time": "2022-02-18T17:11:17.956Z"
   },
   {
    "duration": 118,
    "start_time": "2022-02-18T17:11:18.035Z"
   },
   {
    "duration": 58,
    "start_time": "2022-02-18T17:11:18.155Z"
   },
   {
    "duration": 20,
    "start_time": "2022-02-18T17:11:18.216Z"
   },
   {
    "duration": 8,
    "start_time": "2022-02-18T17:11:18.239Z"
   },
   {
    "duration": 32,
    "start_time": "2022-02-18T17:11:18.249Z"
   },
   {
    "duration": 7,
    "start_time": "2022-02-18T17:11:18.283Z"
   },
   {
    "duration": 81,
    "start_time": "2022-02-18T17:11:18.307Z"
   },
   {
    "duration": 78,
    "start_time": "2022-02-18T17:11:18.390Z"
   },
   {
    "duration": 71,
    "start_time": "2022-02-18T17:11:18.470Z"
   },
   {
    "duration": 31,
    "start_time": "2022-02-18T17:11:18.544Z"
   },
   {
    "duration": 140,
    "start_time": "2022-02-18T17:11:18.578Z"
   },
   {
    "duration": 28,
    "start_time": "2022-02-18T17:11:18.721Z"
   },
   {
    "duration": 4,
    "start_time": "2022-02-18T17:11:18.752Z"
   },
   {
    "duration": 15,
    "start_time": "2022-02-18T17:11:18.757Z"
   },
   {
    "duration": 34,
    "start_time": "2022-02-18T17:11:18.774Z"
   },
   {
    "duration": 311,
    "start_time": "2022-02-18T17:11:18.810Z"
   },
   {
    "duration": -257,
    "start_time": "2022-02-18T17:11:19.383Z"
   },
   {
    "duration": -261,
    "start_time": "2022-02-18T17:11:19.388Z"
   },
   {
    "duration": -266,
    "start_time": "2022-02-18T17:11:19.394Z"
   },
   {
    "duration": -270,
    "start_time": "2022-02-18T17:11:19.399Z"
   },
   {
    "duration": -274,
    "start_time": "2022-02-18T17:11:19.405Z"
   },
   {
    "duration": -278,
    "start_time": "2022-02-18T17:11:19.410Z"
   },
   {
    "duration": -284,
    "start_time": "2022-02-18T17:11:19.416Z"
   },
   {
    "duration": -287,
    "start_time": "2022-02-18T17:11:19.421Z"
   },
   {
    "duration": -292,
    "start_time": "2022-02-18T17:11:19.427Z"
   },
   {
    "duration": -297,
    "start_time": "2022-02-18T17:11:19.433Z"
   },
   {
    "duration": -301,
    "start_time": "2022-02-18T17:11:19.438Z"
   },
   {
    "duration": -305,
    "start_time": "2022-02-18T17:11:19.443Z"
   },
   {
    "duration": -311,
    "start_time": "2022-02-18T17:11:19.450Z"
   },
   {
    "duration": -314,
    "start_time": "2022-02-18T17:11:19.454Z"
   },
   {
    "duration": -318,
    "start_time": "2022-02-18T17:11:19.459Z"
   },
   {
    "duration": -322,
    "start_time": "2022-02-18T17:11:19.464Z"
   },
   {
    "duration": -326,
    "start_time": "2022-02-18T17:11:19.469Z"
   },
   {
    "duration": -342,
    "start_time": "2022-02-18T17:11:19.486Z"
   },
   {
    "duration": -346,
    "start_time": "2022-02-18T17:11:19.491Z"
   },
   {
    "duration": -350,
    "start_time": "2022-02-18T17:11:19.496Z"
   },
   {
    "duration": -355,
    "start_time": "2022-02-18T17:11:19.502Z"
   },
   {
    "duration": -358,
    "start_time": "2022-02-18T17:11:19.507Z"
   },
   {
    "duration": -362,
    "start_time": "2022-02-18T17:11:19.512Z"
   },
   {
    "duration": -366,
    "start_time": "2022-02-18T17:11:19.517Z"
   },
   {
    "duration": -370,
    "start_time": "2022-02-18T17:11:19.522Z"
   },
   {
    "duration": -375,
    "start_time": "2022-02-18T17:11:19.528Z"
   },
   {
    "duration": -379,
    "start_time": "2022-02-18T17:11:19.534Z"
   },
   {
    "duration": -382,
    "start_time": "2022-02-18T17:11:19.538Z"
   },
   {
    "duration": -386,
    "start_time": "2022-02-18T17:11:19.543Z"
   },
   {
    "duration": -390,
    "start_time": "2022-02-18T17:11:19.548Z"
   },
   {
    "duration": -394,
    "start_time": "2022-02-18T17:11:19.553Z"
   },
   {
    "duration": -397,
    "start_time": "2022-02-18T17:11:19.558Z"
   },
   {
    "duration": -401,
    "start_time": "2022-02-18T17:11:19.563Z"
   },
   {
    "duration": -361,
    "start_time": "2022-02-18T17:11:19.568Z"
   },
   {
    "duration": -364,
    "start_time": "2022-02-18T17:11:19.573Z"
   },
   {
    "duration": -367,
    "start_time": "2022-02-18T17:11:19.577Z"
   },
   {
    "duration": -371,
    "start_time": "2022-02-18T17:11:19.582Z"
   },
   {
    "duration": -386,
    "start_time": "2022-02-18T17:11:19.598Z"
   },
   {
    "duration": -390,
    "start_time": "2022-02-18T17:11:19.603Z"
   },
   {
    "duration": -395,
    "start_time": "2022-02-18T17:11:19.608Z"
   },
   {
    "duration": -399,
    "start_time": "2022-02-18T17:11:19.613Z"
   },
   {
    "duration": -403,
    "start_time": "2022-02-18T17:11:19.618Z"
   },
   {
    "duration": -408,
    "start_time": "2022-02-18T17:11:19.623Z"
   },
   {
    "duration": -412,
    "start_time": "2022-02-18T17:11:19.628Z"
   },
   {
    "duration": -416,
    "start_time": "2022-02-18T17:11:19.633Z"
   },
   {
    "duration": -420,
    "start_time": "2022-02-18T17:11:19.638Z"
   },
   {
    "duration": -425,
    "start_time": "2022-02-18T17:11:19.643Z"
   },
   {
    "duration": -429,
    "start_time": "2022-02-18T17:11:19.648Z"
   },
   {
    "duration": -433,
    "start_time": "2022-02-18T17:11:19.653Z"
   },
   {
    "duration": -438,
    "start_time": "2022-02-18T17:11:19.658Z"
   },
   {
    "duration": -443,
    "start_time": "2022-02-18T17:11:19.664Z"
   },
   {
    "duration": -447,
    "start_time": "2022-02-18T17:11:19.669Z"
   },
   {
    "duration": -453,
    "start_time": "2022-02-18T17:11:19.675Z"
   },
   {
    "duration": -456,
    "start_time": "2022-02-18T17:11:19.679Z"
   },
   {
    "duration": -461,
    "start_time": "2022-02-18T17:11:19.685Z"
   },
   {
    "duration": -465,
    "start_time": "2022-02-18T17:11:19.690Z"
   },
   {
    "duration": -470,
    "start_time": "2022-02-18T17:11:19.695Z"
   },
   {
    "duration": -484,
    "start_time": "2022-02-18T17:11:19.710Z"
   },
   {
    "duration": -489,
    "start_time": "2022-02-18T17:11:19.716Z"
   },
   {
    "duration": -492,
    "start_time": "2022-02-18T17:11:19.720Z"
   },
   {
    "duration": -496,
    "start_time": "2022-02-18T17:11:19.725Z"
   },
   {
    "duration": -496,
    "start_time": "2022-02-18T17:11:19.730Z"
   },
   {
    "duration": -499,
    "start_time": "2022-02-18T17:11:19.735Z"
   },
   {
    "duration": 20,
    "start_time": "2022-02-18T17:12:18.814Z"
   },
   {
    "duration": 11,
    "start_time": "2022-02-18T17:14:10.783Z"
   },
   {
    "duration": 22,
    "start_time": "2022-02-18T17:14:38.515Z"
   },
   {
    "duration": 22,
    "start_time": "2022-02-18T17:15:30.483Z"
   },
   {
    "duration": 12,
    "start_time": "2022-02-18T17:15:52.095Z"
   },
   {
    "duration": 229,
    "start_time": "2022-02-18T17:20:38.399Z"
   },
   {
    "duration": 8,
    "start_time": "2022-02-18T17:21:18.592Z"
   },
   {
    "duration": 258,
    "start_time": "2022-02-18T17:21:38.728Z"
   },
   {
    "duration": 222,
    "start_time": "2022-02-18T17:21:56.421Z"
   },
   {
    "duration": 361,
    "start_time": "2022-02-18T17:23:16.246Z"
   },
   {
    "duration": 213,
    "start_time": "2022-02-18T17:23:26.785Z"
   },
   {
    "duration": 238,
    "start_time": "2022-02-18T17:29:14.880Z"
   },
   {
    "duration": 1153,
    "start_time": "2022-02-18T17:29:21.858Z"
   },
   {
    "duration": 193,
    "start_time": "2022-02-18T17:29:23.014Z"
   },
   {
    "duration": 103,
    "start_time": "2022-02-18T17:29:23.210Z"
   },
   {
    "duration": 151,
    "start_time": "2022-02-18T17:29:23.315Z"
   },
   {
    "duration": 75,
    "start_time": "2022-02-18T17:29:23.468Z"
   },
   {
    "duration": 111,
    "start_time": "2022-02-18T17:29:23.545Z"
   },
   {
    "duration": 60,
    "start_time": "2022-02-18T17:29:23.658Z"
   },
   {
    "duration": 21,
    "start_time": "2022-02-18T17:29:23.720Z"
   },
   {
    "duration": 6,
    "start_time": "2022-02-18T17:29:23.744Z"
   },
   {
    "duration": 32,
    "start_time": "2022-02-18T17:29:23.752Z"
   },
   {
    "duration": 24,
    "start_time": "2022-02-18T17:29:23.786Z"
   },
   {
    "duration": 98,
    "start_time": "2022-02-18T17:29:23.812Z"
   },
   {
    "duration": 72,
    "start_time": "2022-02-18T17:29:23.912Z"
   },
   {
    "duration": 71,
    "start_time": "2022-02-18T17:29:23.986Z"
   },
   {
    "duration": 23,
    "start_time": "2022-02-18T17:29:24.059Z"
   },
   {
    "duration": 111,
    "start_time": "2022-02-18T17:29:24.083Z"
   },
   {
    "duration": 31,
    "start_time": "2022-02-18T17:29:24.207Z"
   },
   {
    "duration": 4,
    "start_time": "2022-02-18T17:29:24.240Z"
   },
   {
    "duration": 17,
    "start_time": "2022-02-18T17:29:24.246Z"
   },
   {
    "duration": 8,
    "start_time": "2022-02-18T17:29:24.265Z"
   },
   {
    "duration": 48,
    "start_time": "2022-02-18T17:29:24.275Z"
   },
   {
    "duration": 10,
    "start_time": "2022-02-18T17:29:24.325Z"
   },
   {
    "duration": 7,
    "start_time": "2022-02-18T17:29:24.341Z"
   },
   {
    "duration": 370,
    "start_time": "2022-02-18T17:29:24.352Z"
   },
   {
    "duration": -101,
    "start_time": "2022-02-18T17:29:24.826Z"
   },
   {
    "duration": -104,
    "start_time": "2022-02-18T17:29:24.830Z"
   },
   {
    "duration": -108,
    "start_time": "2022-02-18T17:29:24.835Z"
   },
   {
    "duration": -111,
    "start_time": "2022-02-18T17:29:24.840Z"
   },
   {
    "duration": -116,
    "start_time": "2022-02-18T17:29:24.846Z"
   },
   {
    "duration": -118,
    "start_time": "2022-02-18T17:29:24.850Z"
   },
   {
    "duration": -122,
    "start_time": "2022-02-18T17:29:24.855Z"
   },
   {
    "duration": -135,
    "start_time": "2022-02-18T17:29:24.869Z"
   },
   {
    "duration": -140,
    "start_time": "2022-02-18T17:29:24.876Z"
   },
   {
    "duration": -144,
    "start_time": "2022-02-18T17:29:24.881Z"
   },
   {
    "duration": -148,
    "start_time": "2022-02-18T17:29:24.887Z"
   },
   {
    "duration": -153,
    "start_time": "2022-02-18T17:29:24.893Z"
   },
   {
    "duration": -157,
    "start_time": "2022-02-18T17:29:24.898Z"
   },
   {
    "duration": -161,
    "start_time": "2022-02-18T17:29:24.903Z"
   },
   {
    "duration": -166,
    "start_time": "2022-02-18T17:29:24.909Z"
   },
   {
    "duration": -170,
    "start_time": "2022-02-18T17:29:24.914Z"
   },
   {
    "duration": -174,
    "start_time": "2022-02-18T17:29:24.919Z"
   },
   {
    "duration": -177,
    "start_time": "2022-02-18T17:29:24.924Z"
   },
   {
    "duration": -182,
    "start_time": "2022-02-18T17:29:24.929Z"
   },
   {
    "duration": -186,
    "start_time": "2022-02-18T17:29:24.934Z"
   },
   {
    "duration": -190,
    "start_time": "2022-02-18T17:29:24.939Z"
   },
   {
    "duration": -193,
    "start_time": "2022-02-18T17:29:24.943Z"
   },
   {
    "duration": -196,
    "start_time": "2022-02-18T17:29:24.948Z"
   },
   {
    "duration": -201,
    "start_time": "2022-02-18T17:29:24.954Z"
   },
   {
    "duration": -207,
    "start_time": "2022-02-18T17:29:24.961Z"
   },
   {
    "duration": -212,
    "start_time": "2022-02-18T17:29:24.967Z"
   },
   {
    "duration": -226,
    "start_time": "2022-02-18T17:29:24.982Z"
   },
   {
    "duration": -228,
    "start_time": "2022-02-18T17:29:24.986Z"
   },
   {
    "duration": -232,
    "start_time": "2022-02-18T17:29:24.991Z"
   },
   {
    "duration": -236,
    "start_time": "2022-02-18T17:29:24.996Z"
   },
   {
    "duration": -241,
    "start_time": "2022-02-18T17:29:25.002Z"
   },
   {
    "duration": -244,
    "start_time": "2022-02-18T17:29:25.006Z"
   },
   {
    "duration": -248,
    "start_time": "2022-02-18T17:29:25.012Z"
   },
   {
    "duration": -251,
    "start_time": "2022-02-18T17:29:25.016Z"
   },
   {
    "duration": -255,
    "start_time": "2022-02-18T17:29:25.021Z"
   },
   {
    "duration": -218,
    "start_time": "2022-02-18T17:29:25.026Z"
   },
   {
    "duration": -220,
    "start_time": "2022-02-18T17:29:25.031Z"
   },
   {
    "duration": -224,
    "start_time": "2022-02-18T17:29:25.037Z"
   },
   {
    "duration": -227,
    "start_time": "2022-02-18T17:29:25.042Z"
   },
   {
    "duration": -230,
    "start_time": "2022-02-18T17:29:25.046Z"
   },
   {
    "duration": -233,
    "start_time": "2022-02-18T17:29:25.051Z"
   },
   {
    "duration": -235,
    "start_time": "2022-02-18T17:29:25.055Z"
   },
   {
    "duration": -240,
    "start_time": "2022-02-18T17:29:25.061Z"
   },
   {
    "duration": -243,
    "start_time": "2022-02-18T17:29:25.066Z"
   },
   {
    "duration": -247,
    "start_time": "2022-02-18T17:29:25.071Z"
   },
   {
    "duration": -249,
    "start_time": "2022-02-18T17:29:25.075Z"
   },
   {
    "duration": -263,
    "start_time": "2022-02-18T17:29:25.090Z"
   },
   {
    "duration": -266,
    "start_time": "2022-02-18T17:29:25.095Z"
   },
   {
    "duration": -268,
    "start_time": "2022-02-18T17:29:25.099Z"
   },
   {
    "duration": 5,
    "start_time": "2022-02-18T17:31:48.203Z"
   },
   {
    "duration": 6,
    "start_time": "2022-02-18T17:31:58.551Z"
   },
   {
    "duration": 72,
    "start_time": "2022-02-18T17:41:30.272Z"
   },
   {
    "duration": 69,
    "start_time": "2022-02-18T17:42:53.722Z"
   },
   {
    "duration": 8,
    "start_time": "2022-02-18T17:44:46.973Z"
   },
   {
    "duration": 70,
    "start_time": "2022-02-18T17:45:18.775Z"
   },
   {
    "duration": 5569,
    "start_time": "2022-02-18T17:45:27.392Z"
   },
   {
    "duration": 7,
    "start_time": "2022-02-18T17:46:37.114Z"
   },
   {
    "duration": 5536,
    "start_time": "2022-02-18T17:46:41.565Z"
   },
   {
    "duration": 1137,
    "start_time": "2022-02-18T17:46:56.664Z"
   },
   {
    "duration": 207,
    "start_time": "2022-02-18T17:46:57.803Z"
   },
   {
    "duration": 116,
    "start_time": "2022-02-18T17:46:58.013Z"
   },
   {
    "duration": 161,
    "start_time": "2022-02-18T17:46:58.132Z"
   },
   {
    "duration": 71,
    "start_time": "2022-02-18T17:46:58.295Z"
   },
   {
    "duration": 114,
    "start_time": "2022-02-18T17:46:58.368Z"
   },
   {
    "duration": 54,
    "start_time": "2022-02-18T17:46:58.484Z"
   },
   {
    "duration": 22,
    "start_time": "2022-02-18T17:46:58.541Z"
   },
   {
    "duration": 17,
    "start_time": "2022-02-18T17:46:58.565Z"
   },
   {
    "duration": 45,
    "start_time": "2022-02-18T17:46:58.584Z"
   },
   {
    "duration": 7,
    "start_time": "2022-02-18T17:46:58.631Z"
   },
   {
    "duration": 94,
    "start_time": "2022-02-18T17:46:58.640Z"
   },
   {
    "duration": 82,
    "start_time": "2022-02-18T17:46:58.736Z"
   },
   {
    "duration": 51,
    "start_time": "2022-02-18T17:46:58.820Z"
   },
   {
    "duration": 45,
    "start_time": "2022-02-18T17:46:58.873Z"
   },
   {
    "duration": 108,
    "start_time": "2022-02-18T17:46:58.920Z"
   },
   {
    "duration": 29,
    "start_time": "2022-02-18T17:46:59.029Z"
   },
   {
    "duration": 4,
    "start_time": "2022-02-18T17:46:59.060Z"
   },
   {
    "duration": 17,
    "start_time": "2022-02-18T17:46:59.066Z"
   },
   {
    "duration": 27,
    "start_time": "2022-02-18T17:46:59.085Z"
   },
   {
    "duration": 19,
    "start_time": "2022-02-18T17:46:59.113Z"
   },
   {
    "duration": 9,
    "start_time": "2022-02-18T17:46:59.135Z"
   },
   {
    "duration": 6,
    "start_time": "2022-02-18T17:46:59.148Z"
   },
   {
    "duration": 8,
    "start_time": "2022-02-18T17:46:59.158Z"
   },
   {
    "duration": 42,
    "start_time": "2022-02-18T17:46:59.168Z"
   },
   {
    "duration": 6017,
    "start_time": "2022-02-18T17:46:59.212Z"
   },
   {
    "duration": -153,
    "start_time": "2022-02-18T17:47:05.385Z"
   },
   {
    "duration": -180,
    "start_time": "2022-02-18T17:47:05.414Z"
   },
   {
    "duration": -203,
    "start_time": "2022-02-18T17:47:05.438Z"
   },
   {
    "duration": -218,
    "start_time": "2022-02-18T17:47:05.455Z"
   },
   {
    "duration": -226,
    "start_time": "2022-02-18T17:47:05.463Z"
   },
   {
    "duration": -248,
    "start_time": "2022-02-18T17:47:05.487Z"
   },
   {
    "duration": -252,
    "start_time": "2022-02-18T17:47:05.494Z"
   },
   {
    "duration": -265,
    "start_time": "2022-02-18T17:47:05.508Z"
   },
   {
    "duration": -283,
    "start_time": "2022-02-18T17:47:05.527Z"
   },
   {
    "duration": -297,
    "start_time": "2022-02-18T17:47:05.542Z"
   },
   {
    "duration": -310,
    "start_time": "2022-02-18T17:47:05.556Z"
   },
   {
    "duration": -322,
    "start_time": "2022-02-18T17:47:05.570Z"
   },
   {
    "duration": -327,
    "start_time": "2022-02-18T17:47:05.576Z"
   },
   {
    "duration": -338,
    "start_time": "2022-02-18T17:47:05.588Z"
   },
   {
    "duration": -344,
    "start_time": "2022-02-18T17:47:05.595Z"
   },
   {
    "duration": -354,
    "start_time": "2022-02-18T17:47:05.606Z"
   },
   {
    "duration": -364,
    "start_time": "2022-02-18T17:47:05.617Z"
   },
   {
    "duration": -369,
    "start_time": "2022-02-18T17:47:05.624Z"
   },
   {
    "duration": -378,
    "start_time": "2022-02-18T17:47:05.634Z"
   },
   {
    "duration": -383,
    "start_time": "2022-02-18T17:47:05.640Z"
   },
   {
    "duration": -391,
    "start_time": "2022-02-18T17:47:05.651Z"
   },
   {
    "duration": -396,
    "start_time": "2022-02-18T17:47:05.657Z"
   },
   {
    "duration": -405,
    "start_time": "2022-02-18T17:47:05.667Z"
   },
   {
    "duration": -409,
    "start_time": "2022-02-18T17:47:05.672Z"
   },
   {
    "duration": -420,
    "start_time": "2022-02-18T17:47:05.684Z"
   },
   {
    "duration": -425,
    "start_time": "2022-02-18T17:47:05.690Z"
   },
   {
    "duration": -435,
    "start_time": "2022-02-18T17:47:05.701Z"
   },
   {
    "duration": -441,
    "start_time": "2022-02-18T17:47:05.708Z"
   },
   {
    "duration": -450,
    "start_time": "2022-02-18T17:47:05.718Z"
   },
   {
    "duration": -417,
    "start_time": "2022-02-18T17:47:05.724Z"
   },
   {
    "duration": -426,
    "start_time": "2022-02-18T17:47:05.734Z"
   },
   {
    "duration": -430,
    "start_time": "2022-02-18T17:47:05.739Z"
   },
   {
    "duration": -441,
    "start_time": "2022-02-18T17:47:05.751Z"
   },
   {
    "duration": -450,
    "start_time": "2022-02-18T17:47:05.761Z"
   },
   {
    "duration": -454,
    "start_time": "2022-02-18T17:47:05.766Z"
   },
   {
    "duration": -457,
    "start_time": "2022-02-18T17:47:05.771Z"
   },
   {
    "duration": -462,
    "start_time": "2022-02-18T17:47:05.777Z"
   },
   {
    "duration": -466,
    "start_time": "2022-02-18T17:47:05.782Z"
   },
   {
    "duration": -471,
    "start_time": "2022-02-18T17:47:05.788Z"
   },
   {
    "duration": -475,
    "start_time": "2022-02-18T17:47:05.794Z"
   },
   {
    "duration": -479,
    "start_time": "2022-02-18T17:47:05.799Z"
   },
   {
    "duration": -484,
    "start_time": "2022-02-18T17:47:05.805Z"
   },
   {
    "duration": -488,
    "start_time": "2022-02-18T17:47:05.810Z"
   },
   {
    "duration": -493,
    "start_time": "2022-02-18T17:47:05.816Z"
   },
   {
    "duration": -498,
    "start_time": "2022-02-18T17:47:05.822Z"
   },
   {
    "duration": -503,
    "start_time": "2022-02-18T17:47:05.829Z"
   },
   {
    "duration": -507,
    "start_time": "2022-02-18T17:47:05.834Z"
   },
   {
    "duration": -513,
    "start_time": "2022-02-18T17:47:05.841Z"
   },
   {
    "duration": -518,
    "start_time": "2022-02-18T17:47:05.847Z"
   },
   {
    "duration": 18,
    "start_time": "2022-02-18T17:49:25.846Z"
   },
   {
    "duration": 7,
    "start_time": "2022-02-18T17:50:25.367Z"
   },
   {
    "duration": 19,
    "start_time": "2022-02-18T17:50:29.944Z"
   },
   {
    "duration": 1288,
    "start_time": "2022-02-18T17:52:41.331Z"
   },
   {
    "duration": 204,
    "start_time": "2022-02-18T17:52:42.622Z"
   },
   {
    "duration": 120,
    "start_time": "2022-02-18T17:52:42.828Z"
   },
   {
    "duration": 171,
    "start_time": "2022-02-18T17:52:42.951Z"
   },
   {
    "duration": 67,
    "start_time": "2022-02-18T17:52:43.124Z"
   },
   {
    "duration": 120,
    "start_time": "2022-02-18T17:52:43.206Z"
   },
   {
    "duration": 49,
    "start_time": "2022-02-18T17:52:43.328Z"
   },
   {
    "duration": 38,
    "start_time": "2022-02-18T17:52:43.380Z"
   },
   {
    "duration": 10,
    "start_time": "2022-02-18T17:52:43.421Z"
   },
   {
    "duration": 34,
    "start_time": "2022-02-18T17:52:43.433Z"
   },
   {
    "duration": 7,
    "start_time": "2022-02-18T17:52:43.469Z"
   },
   {
    "duration": 110,
    "start_time": "2022-02-18T17:52:43.478Z"
   },
   {
    "duration": 79,
    "start_time": "2022-02-18T17:52:43.590Z"
   },
   {
    "duration": 72,
    "start_time": "2022-02-18T17:52:43.671Z"
   },
   {
    "duration": 26,
    "start_time": "2022-02-18T17:52:43.745Z"
   },
   {
    "duration": 114,
    "start_time": "2022-02-18T17:52:43.773Z"
   },
   {
    "duration": 44,
    "start_time": "2022-02-18T17:52:43.889Z"
   },
   {
    "duration": 4,
    "start_time": "2022-02-18T17:52:43.936Z"
   },
   {
    "duration": 19,
    "start_time": "2022-02-18T17:52:43.942Z"
   },
   {
    "duration": 10,
    "start_time": "2022-02-18T17:52:43.963Z"
   },
   {
    "duration": 38,
    "start_time": "2022-02-18T17:52:43.976Z"
   },
   {
    "duration": 11,
    "start_time": "2022-02-18T17:52:44.016Z"
   },
   {
    "duration": 6,
    "start_time": "2022-02-18T17:52:44.032Z"
   },
   {
    "duration": 7,
    "start_time": "2022-02-18T17:52:44.042Z"
   },
   {
    "duration": 10,
    "start_time": "2022-02-18T17:52:44.051Z"
   },
   {
    "duration": 57,
    "start_time": "2022-02-18T17:52:44.064Z"
   },
   {
    "duration": 22,
    "start_time": "2022-02-18T17:52:44.124Z"
   },
   {
    "duration": 23,
    "start_time": "2022-02-18T17:52:44.148Z"
   },
   {
    "duration": 5682,
    "start_time": "2022-02-18T17:52:44.173Z"
   },
   {
    "duration": -65,
    "start_time": "2022-02-18T17:52:49.923Z"
   },
   {
    "duration": -70,
    "start_time": "2022-02-18T17:52:49.930Z"
   },
   {
    "duration": -76,
    "start_time": "2022-02-18T17:52:49.937Z"
   },
   {
    "duration": -80,
    "start_time": "2022-02-18T17:52:49.943Z"
   },
   {
    "duration": -85,
    "start_time": "2022-02-18T17:52:49.949Z"
   },
   {
    "duration": -90,
    "start_time": "2022-02-18T17:52:49.955Z"
   },
   {
    "duration": -94,
    "start_time": "2022-02-18T17:52:49.961Z"
   },
   {
    "duration": -99,
    "start_time": "2022-02-18T17:52:49.967Z"
   },
   {
    "duration": -116,
    "start_time": "2022-02-18T17:52:49.984Z"
   },
   {
    "duration": -121,
    "start_time": "2022-02-18T17:52:49.990Z"
   },
   {
    "duration": -125,
    "start_time": "2022-02-18T17:52:49.995Z"
   },
   {
    "duration": -131,
    "start_time": "2022-02-18T17:52:50.002Z"
   },
   {
    "duration": -135,
    "start_time": "2022-02-18T17:52:50.007Z"
   },
   {
    "duration": -140,
    "start_time": "2022-02-18T17:52:50.013Z"
   },
   {
    "duration": -145,
    "start_time": "2022-02-18T17:52:50.019Z"
   },
   {
    "duration": -150,
    "start_time": "2022-02-18T17:52:50.025Z"
   },
   {
    "duration": -155,
    "start_time": "2022-02-18T17:52:50.031Z"
   },
   {
    "duration": -161,
    "start_time": "2022-02-18T17:52:50.038Z"
   },
   {
    "duration": -167,
    "start_time": "2022-02-18T17:52:50.045Z"
   },
   {
    "duration": -171,
    "start_time": "2022-02-18T17:52:50.051Z"
   },
   {
    "duration": -175,
    "start_time": "2022-02-18T17:52:50.057Z"
   },
   {
    "duration": -180,
    "start_time": "2022-02-18T17:52:50.063Z"
   },
   {
    "duration": -185,
    "start_time": "2022-02-18T17:52:50.069Z"
   },
   {
    "duration": -190,
    "start_time": "2022-02-18T17:52:50.075Z"
   },
   {
    "duration": -204,
    "start_time": "2022-02-18T17:52:50.090Z"
   },
   {
    "duration": -211,
    "start_time": "2022-02-18T17:52:50.099Z"
   },
   {
    "duration": -215,
    "start_time": "2022-02-18T17:52:50.104Z"
   },
   {
    "duration": -220,
    "start_time": "2022-02-18T17:52:50.110Z"
   },
   {
    "duration": -223,
    "start_time": "2022-02-18T17:52:50.115Z"
   },
   {
    "duration": -227,
    "start_time": "2022-02-18T17:52:50.121Z"
   },
   {
    "duration": -231,
    "start_time": "2022-02-18T17:52:50.126Z"
   },
   {
    "duration": -235,
    "start_time": "2022-02-18T17:52:50.131Z"
   },
   {
    "duration": -239,
    "start_time": "2022-02-18T17:52:50.136Z"
   },
   {
    "duration": -244,
    "start_time": "2022-02-18T17:52:50.142Z"
   },
   {
    "duration": -239,
    "start_time": "2022-02-18T17:52:50.147Z"
   },
   {
    "duration": -244,
    "start_time": "2022-02-18T17:52:50.153Z"
   },
   {
    "duration": -248,
    "start_time": "2022-02-18T17:52:50.158Z"
   },
   {
    "duration": -251,
    "start_time": "2022-02-18T17:52:50.163Z"
   },
   {
    "duration": -255,
    "start_time": "2022-02-18T17:52:50.168Z"
   },
   {
    "duration": -259,
    "start_time": "2022-02-18T17:52:50.173Z"
   },
   {
    "duration": -263,
    "start_time": "2022-02-18T17:52:50.178Z"
   },
   {
    "duration": -268,
    "start_time": "2022-02-18T17:52:50.184Z"
   },
   {
    "duration": -273,
    "start_time": "2022-02-18T17:52:50.190Z"
   },
   {
    "duration": -286,
    "start_time": "2022-02-18T17:52:50.206Z"
   },
   {
    "duration": -290,
    "start_time": "2022-02-18T17:52:50.211Z"
   },
   {
    "duration": -295,
    "start_time": "2022-02-18T17:52:50.218Z"
   },
   {
    "duration": -298,
    "start_time": "2022-02-18T17:52:50.223Z"
   },
   {
    "duration": -303,
    "start_time": "2022-02-18T17:52:50.229Z"
   },
   {
    "duration": -306,
    "start_time": "2022-02-18T17:52:50.234Z"
   },
   {
    "duration": 31,
    "start_time": "2022-02-18T17:58:49.664Z"
   },
   {
    "duration": 32,
    "start_time": "2022-02-18T18:01:19.369Z"
   },
   {
    "duration": 31,
    "start_time": "2022-02-18T18:01:33.013Z"
   },
   {
    "duration": 1203,
    "start_time": "2022-02-18T18:01:47.612Z"
   },
   {
    "duration": 201,
    "start_time": "2022-02-18T18:01:48.818Z"
   },
   {
    "duration": 114,
    "start_time": "2022-02-18T18:01:49.022Z"
   },
   {
    "duration": 171,
    "start_time": "2022-02-18T18:01:49.139Z"
   },
   {
    "duration": 66,
    "start_time": "2022-02-18T18:01:49.312Z"
   },
   {
    "duration": 136,
    "start_time": "2022-02-18T18:01:49.380Z"
   },
   {
    "duration": 48,
    "start_time": "2022-02-18T18:01:49.518Z"
   },
   {
    "duration": 39,
    "start_time": "2022-02-18T18:01:49.570Z"
   },
   {
    "duration": 7,
    "start_time": "2022-02-18T18:01:49.612Z"
   },
   {
    "duration": 44,
    "start_time": "2022-02-18T18:01:49.622Z"
   },
   {
    "duration": 8,
    "start_time": "2022-02-18T18:01:49.668Z"
   },
   {
    "duration": 110,
    "start_time": "2022-02-18T18:01:49.679Z"
   },
   {
    "duration": 68,
    "start_time": "2022-02-18T18:01:49.808Z"
   },
   {
    "duration": 76,
    "start_time": "2022-02-18T18:01:49.878Z"
   },
   {
    "duration": 53,
    "start_time": "2022-02-18T18:01:49.956Z"
   },
   {
    "duration": 152,
    "start_time": "2022-02-18T18:01:50.012Z"
   },
   {
    "duration": 30,
    "start_time": "2022-02-18T18:01:50.167Z"
   },
   {
    "duration": 10,
    "start_time": "2022-02-18T18:01:50.199Z"
   },
   {
    "duration": 18,
    "start_time": "2022-02-18T18:01:50.212Z"
   },
   {
    "duration": 11,
    "start_time": "2022-02-18T18:01:50.232Z"
   },
   {
    "duration": 18,
    "start_time": "2022-02-18T18:01:50.246Z"
   },
   {
    "duration": 13,
    "start_time": "2022-02-18T18:01:50.266Z"
   },
   {
    "duration": 6,
    "start_time": "2022-02-18T18:01:50.308Z"
   },
   {
    "duration": 15,
    "start_time": "2022-02-18T18:01:50.317Z"
   },
   {
    "duration": 25,
    "start_time": "2022-02-18T18:01:50.334Z"
   },
   {
    "duration": 26,
    "start_time": "2022-02-18T18:01:50.361Z"
   },
   {
    "duration": 5821,
    "start_time": "2022-02-18T18:01:50.408Z"
   },
   {
    "duration": -101,
    "start_time": "2022-02-18T18:01:56.333Z"
   },
   {
    "duration": -106,
    "start_time": "2022-02-18T18:01:56.339Z"
   },
   {
    "duration": -113,
    "start_time": "2022-02-18T18:01:56.347Z"
   },
   {
    "duration": -118,
    "start_time": "2022-02-18T18:01:56.353Z"
   },
   {
    "duration": -122,
    "start_time": "2022-02-18T18:01:56.358Z"
   },
   {
    "duration": -126,
    "start_time": "2022-02-18T18:01:56.363Z"
   },
   {
    "duration": -134,
    "start_time": "2022-02-18T18:01:56.372Z"
   },
   {
    "duration": -138,
    "start_time": "2022-02-18T18:01:56.377Z"
   },
   {
    "duration": -143,
    "start_time": "2022-02-18T18:01:56.383Z"
   },
   {
    "duration": -148,
    "start_time": "2022-02-18T18:01:56.389Z"
   },
   {
    "duration": -152,
    "start_time": "2022-02-18T18:01:56.394Z"
   },
   {
    "duration": -155,
    "start_time": "2022-02-18T18:01:56.399Z"
   },
   {
    "duration": -159,
    "start_time": "2022-02-18T18:01:56.404Z"
   },
   {
    "duration": -162,
    "start_time": "2022-02-18T18:01:56.408Z"
   },
   {
    "duration": -167,
    "start_time": "2022-02-18T18:01:56.414Z"
   },
   {
    "duration": -171,
    "start_time": "2022-02-18T18:01:56.419Z"
   },
   {
    "duration": -185,
    "start_time": "2022-02-18T18:01:56.434Z"
   },
   {
    "duration": -189,
    "start_time": "2022-02-18T18:01:56.439Z"
   },
   {
    "duration": -192,
    "start_time": "2022-02-18T18:01:56.444Z"
   },
   {
    "duration": -196,
    "start_time": "2022-02-18T18:01:56.449Z"
   },
   {
    "duration": -201,
    "start_time": "2022-02-18T18:01:56.455Z"
   },
   {
    "duration": -206,
    "start_time": "2022-02-18T18:01:56.461Z"
   },
   {
    "duration": -211,
    "start_time": "2022-02-18T18:01:56.467Z"
   },
   {
    "duration": -215,
    "start_time": "2022-02-18T18:01:56.472Z"
   },
   {
    "duration": -219,
    "start_time": "2022-02-18T18:01:56.477Z"
   },
   {
    "duration": -223,
    "start_time": "2022-02-18T18:01:56.482Z"
   },
   {
    "duration": -226,
    "start_time": "2022-02-18T18:01:56.487Z"
   },
   {
    "duration": -231,
    "start_time": "2022-02-18T18:01:56.493Z"
   },
   {
    "duration": -235,
    "start_time": "2022-02-18T18:01:56.498Z"
   },
   {
    "duration": -237,
    "start_time": "2022-02-18T18:01:56.502Z"
   },
   {
    "duration": -243,
    "start_time": "2022-02-18T18:01:56.509Z"
   },
   {
    "duration": -247,
    "start_time": "2022-02-18T18:01:56.514Z"
   },
   {
    "duration": -251,
    "start_time": "2022-02-18T18:01:56.519Z"
   },
   {
    "duration": -254,
    "start_time": "2022-02-18T18:01:56.523Z"
   },
   {
    "duration": -259,
    "start_time": "2022-02-18T18:01:56.529Z"
   },
   {
    "duration": -273,
    "start_time": "2022-02-18T18:01:56.544Z"
   },
   {
    "duration": -279,
    "start_time": "2022-02-18T18:01:56.550Z"
   },
   {
    "duration": -284,
    "start_time": "2022-02-18T18:01:56.556Z"
   },
   {
    "duration": -288,
    "start_time": "2022-02-18T18:01:56.561Z"
   },
   {
    "duration": -293,
    "start_time": "2022-02-18T18:01:56.566Z"
   },
   {
    "duration": -298,
    "start_time": "2022-02-18T18:01:56.572Z"
   },
   {
    "duration": -268,
    "start_time": "2022-02-18T18:01:56.576Z"
   },
   {
    "duration": -272,
    "start_time": "2022-02-18T18:01:56.581Z"
   },
   {
    "duration": -276,
    "start_time": "2022-02-18T18:01:56.586Z"
   },
   {
    "duration": -278,
    "start_time": "2022-02-18T18:01:56.590Z"
   },
   {
    "duration": -282,
    "start_time": "2022-02-18T18:01:56.595Z"
   },
   {
    "duration": -286,
    "start_time": "2022-02-18T18:01:56.600Z"
   },
   {
    "duration": -289,
    "start_time": "2022-02-18T18:01:56.604Z"
   },
   {
    "duration": -293,
    "start_time": "2022-02-18T18:01:56.609Z"
   },
   {
    "duration": 23,
    "start_time": "2022-02-18T18:04:06.586Z"
   },
   {
    "duration": 23,
    "start_time": "2022-02-18T18:04:16.497Z"
   },
   {
    "duration": 5,
    "start_time": "2022-02-18T18:09:31.168Z"
   },
   {
    "duration": 25,
    "start_time": "2022-02-18T18:09:35.063Z"
   },
   {
    "duration": 28,
    "start_time": "2022-02-18T18:09:54.272Z"
   },
   {
    "duration": 1122,
    "start_time": "2022-02-18T18:11:02.826Z"
   },
   {
    "duration": 202,
    "start_time": "2022-02-18T18:11:03.950Z"
   },
   {
    "duration": 111,
    "start_time": "2022-02-18T18:11:04.154Z"
   },
   {
    "duration": 169,
    "start_time": "2022-02-18T18:11:04.268Z"
   },
   {
    "duration": 73,
    "start_time": "2022-02-18T18:11:04.440Z"
   },
   {
    "duration": 111,
    "start_time": "2022-02-18T18:11:04.515Z"
   },
   {
    "duration": 46,
    "start_time": "2022-02-18T18:11:04.627Z"
   },
   {
    "duration": 35,
    "start_time": "2022-02-18T18:11:04.675Z"
   },
   {
    "duration": 6,
    "start_time": "2022-02-18T18:11:04.712Z"
   },
   {
    "duration": 31,
    "start_time": "2022-02-18T18:11:04.720Z"
   },
   {
    "duration": 7,
    "start_time": "2022-02-18T18:11:04.753Z"
   },
   {
    "duration": 102,
    "start_time": "2022-02-18T18:11:04.762Z"
   },
   {
    "duration": 78,
    "start_time": "2022-02-18T18:11:04.866Z"
   },
   {
    "duration": 62,
    "start_time": "2022-02-18T18:11:04.946Z"
   },
   {
    "duration": 24,
    "start_time": "2022-02-18T18:11:05.010Z"
   },
   {
    "duration": 114,
    "start_time": "2022-02-18T18:11:05.036Z"
   },
   {
    "duration": 30,
    "start_time": "2022-02-18T18:11:05.152Z"
   },
   {
    "duration": 5,
    "start_time": "2022-02-18T18:11:05.184Z"
   },
   {
    "duration": 26,
    "start_time": "2022-02-18T18:11:05.192Z"
   },
   {
    "duration": 8,
    "start_time": "2022-02-18T18:11:05.221Z"
   },
   {
    "duration": 32,
    "start_time": "2022-02-18T18:11:05.231Z"
   },
   {
    "duration": 15,
    "start_time": "2022-02-18T18:11:05.265Z"
   },
   {
    "duration": 27,
    "start_time": "2022-02-18T18:11:05.285Z"
   },
   {
    "duration": 10,
    "start_time": "2022-02-18T18:11:05.315Z"
   },
   {
    "duration": 23,
    "start_time": "2022-02-18T18:11:05.327Z"
   },
   {
    "duration": 22,
    "start_time": "2022-02-18T18:11:05.352Z"
   },
   {
    "duration": 47,
    "start_time": "2022-02-18T18:11:05.376Z"
   },
   {
    "duration": 6500,
    "start_time": "2022-02-18T18:11:05.425Z"
   },
   {
    "duration": -63,
    "start_time": "2022-02-18T18:11:11.991Z"
   },
   {
    "duration": -68,
    "start_time": "2022-02-18T18:11:11.997Z"
   },
   {
    "duration": -74,
    "start_time": "2022-02-18T18:11:12.004Z"
   },
   {
    "duration": -78,
    "start_time": "2022-02-18T18:11:12.009Z"
   },
   {
    "duration": -83,
    "start_time": "2022-02-18T18:11:12.015Z"
   },
   {
    "duration": -87,
    "start_time": "2022-02-18T18:11:12.020Z"
   },
   {
    "duration": -92,
    "start_time": "2022-02-18T18:11:12.026Z"
   },
   {
    "duration": -96,
    "start_time": "2022-02-18T18:11:12.031Z"
   },
   {
    "duration": -101,
    "start_time": "2022-02-18T18:11:12.037Z"
   },
   {
    "duration": -104,
    "start_time": "2022-02-18T18:11:12.042Z"
   },
   {
    "duration": -110,
    "start_time": "2022-02-18T18:11:12.049Z"
   },
   {
    "duration": -114,
    "start_time": "2022-02-18T18:11:12.054Z"
   },
   {
    "duration": -118,
    "start_time": "2022-02-18T18:11:12.059Z"
   },
   {
    "duration": -121,
    "start_time": "2022-02-18T18:11:12.064Z"
   },
   {
    "duration": -138,
    "start_time": "2022-02-18T18:11:12.082Z"
   },
   {
    "duration": -142,
    "start_time": "2022-02-18T18:11:12.087Z"
   },
   {
    "duration": -147,
    "start_time": "2022-02-18T18:11:12.093Z"
   },
   {
    "duration": -150,
    "start_time": "2022-02-18T18:11:12.097Z"
   },
   {
    "duration": -155,
    "start_time": "2022-02-18T18:11:12.103Z"
   },
   {
    "duration": -159,
    "start_time": "2022-02-18T18:11:12.108Z"
   },
   {
    "duration": -164,
    "start_time": "2022-02-18T18:11:12.114Z"
   },
   {
    "duration": -169,
    "start_time": "2022-02-18T18:11:12.120Z"
   },
   {
    "duration": -173,
    "start_time": "2022-02-18T18:11:12.125Z"
   },
   {
    "duration": -177,
    "start_time": "2022-02-18T18:11:12.130Z"
   },
   {
    "duration": -181,
    "start_time": "2022-02-18T18:11:12.135Z"
   },
   {
    "duration": -184,
    "start_time": "2022-02-18T18:11:12.140Z"
   },
   {
    "duration": -188,
    "start_time": "2022-02-18T18:11:12.145Z"
   },
   {
    "duration": -192,
    "start_time": "2022-02-18T18:11:12.150Z"
   },
   {
    "duration": -196,
    "start_time": "2022-02-18T18:11:12.155Z"
   },
   {
    "duration": -200,
    "start_time": "2022-02-18T18:11:12.160Z"
   },
   {
    "duration": -204,
    "start_time": "2022-02-18T18:11:12.165Z"
   },
   {
    "duration": -207,
    "start_time": "2022-02-18T18:11:12.170Z"
   },
   {
    "duration": -212,
    "start_time": "2022-02-18T18:11:12.176Z"
   },
   {
    "duration": -226,
    "start_time": "2022-02-18T18:11:12.191Z"
   },
   {
    "duration": -189,
    "start_time": "2022-02-18T18:11:12.196Z"
   },
   {
    "duration": -192,
    "start_time": "2022-02-18T18:11:12.201Z"
   },
   {
    "duration": -197,
    "start_time": "2022-02-18T18:11:12.207Z"
   },
   {
    "duration": -202,
    "start_time": "2022-02-18T18:11:12.213Z"
   },
   {
    "duration": -207,
    "start_time": "2022-02-18T18:11:12.219Z"
   },
   {
    "duration": -211,
    "start_time": "2022-02-18T18:11:12.224Z"
   },
   {
    "duration": -216,
    "start_time": "2022-02-18T18:11:12.230Z"
   },
   {
    "duration": -220,
    "start_time": "2022-02-18T18:11:12.235Z"
   },
   {
    "duration": -224,
    "start_time": "2022-02-18T18:11:12.240Z"
   },
   {
    "duration": -227,
    "start_time": "2022-02-18T18:11:12.245Z"
   },
   {
    "duration": -232,
    "start_time": "2022-02-18T18:11:12.251Z"
   },
   {
    "duration": -236,
    "start_time": "2022-02-18T18:11:12.256Z"
   },
   {
    "duration": -239,
    "start_time": "2022-02-18T18:11:12.261Z"
   },
   {
    "duration": -243,
    "start_time": "2022-02-18T18:11:12.266Z"
   },
   {
    "duration": -247,
    "start_time": "2022-02-18T18:11:12.271Z"
   },
   {
    "duration": 22,
    "start_time": "2022-02-18T18:11:44.274Z"
   },
   {
    "duration": 69,
    "start_time": "2022-02-18T18:14:28.445Z"
   },
   {
    "duration": 59,
    "start_time": "2022-02-18T18:18:37.143Z"
   },
   {
    "duration": 281,
    "start_time": "2022-02-18T18:19:00.202Z"
   },
   {
    "duration": 69,
    "start_time": "2022-02-18T18:19:09.234Z"
   },
   {
    "duration": 59,
    "start_time": "2022-02-18T18:19:21.335Z"
   },
   {
    "duration": 33,
    "start_time": "2022-02-18T18:19:51.673Z"
   },
   {
    "duration": 897,
    "start_time": "2022-02-18T18:20:20.118Z"
   },
   {
    "duration": 36,
    "start_time": "2022-02-18T18:20:33.005Z"
   },
   {
    "duration": 59,
    "start_time": "2022-02-18T18:21:19.779Z"
   },
   {
    "duration": 62,
    "start_time": "2022-02-18T18:21:27.825Z"
   },
   {
    "duration": 59,
    "start_time": "2022-02-18T18:21:37.067Z"
   },
   {
    "duration": 39,
    "start_time": "2022-02-18T18:22:08.323Z"
   },
   {
    "duration": 28,
    "start_time": "2022-02-18T18:22:17.070Z"
   },
   {
    "duration": 33,
    "start_time": "2022-02-18T18:23:06.446Z"
   },
   {
    "duration": 1120,
    "start_time": "2022-02-18T18:23:19.110Z"
   },
   {
    "duration": 190,
    "start_time": "2022-02-18T18:23:20.232Z"
   },
   {
    "duration": 110,
    "start_time": "2022-02-18T18:23:20.425Z"
   },
   {
    "duration": 162,
    "start_time": "2022-02-18T18:23:20.537Z"
   },
   {
    "duration": 71,
    "start_time": "2022-02-18T18:23:20.701Z"
   },
   {
    "duration": 118,
    "start_time": "2022-02-18T18:23:20.774Z"
   },
   {
    "duration": 63,
    "start_time": "2022-02-18T18:23:20.894Z"
   },
   {
    "duration": 22,
    "start_time": "2022-02-18T18:23:20.961Z"
   },
   {
    "duration": 28,
    "start_time": "2022-02-18T18:23:20.986Z"
   },
   {
    "duration": 31,
    "start_time": "2022-02-18T18:23:21.016Z"
   },
   {
    "duration": 9,
    "start_time": "2022-02-18T18:23:21.049Z"
   },
   {
    "duration": 128,
    "start_time": "2022-02-18T18:23:21.060Z"
   },
   {
    "duration": 102,
    "start_time": "2022-02-18T18:23:21.191Z"
   },
   {
    "duration": 57,
    "start_time": "2022-02-18T18:23:21.295Z"
   },
   {
    "duration": 23,
    "start_time": "2022-02-18T18:23:21.354Z"
   },
   {
    "duration": 89,
    "start_time": "2022-02-18T18:23:21.379Z"
   },
   {
    "duration": 52,
    "start_time": "2022-02-18T18:23:21.470Z"
   },
   {
    "duration": 29,
    "start_time": "2022-02-18T18:23:21.524Z"
   },
   {
    "duration": 20,
    "start_time": "2022-02-18T18:23:21.555Z"
   },
   {
    "duration": 5,
    "start_time": "2022-02-18T18:23:21.577Z"
   },
   {
    "duration": 10,
    "start_time": "2022-02-18T18:23:21.607Z"
   },
   {
    "duration": 11,
    "start_time": "2022-02-18T18:23:21.620Z"
   },
   {
    "duration": 19,
    "start_time": "2022-02-18T18:23:21.636Z"
   },
   {
    "duration": 18,
    "start_time": "2022-02-18T18:23:21.658Z"
   },
   {
    "duration": 33,
    "start_time": "2022-02-18T18:23:21.679Z"
   },
   {
    "duration": 17,
    "start_time": "2022-02-18T18:23:21.714Z"
   },
   {
    "duration": 28,
    "start_time": "2022-02-18T18:23:21.733Z"
   },
   {
    "duration": 196,
    "start_time": "2022-02-18T18:23:21.763Z"
   },
   {
    "duration": -356,
    "start_time": "2022-02-18T18:23:22.318Z"
   },
   {
    "duration": -361,
    "start_time": "2022-02-18T18:23:22.324Z"
   },
   {
    "duration": -364,
    "start_time": "2022-02-18T18:23:22.329Z"
   },
   {
    "duration": -368,
    "start_time": "2022-02-18T18:23:22.334Z"
   },
   {
    "duration": -371,
    "start_time": "2022-02-18T18:23:22.338Z"
   },
   {
    "duration": -375,
    "start_time": "2022-02-18T18:23:22.343Z"
   },
   {
    "duration": -378,
    "start_time": "2022-02-18T18:23:22.348Z"
   },
   {
    "duration": -382,
    "start_time": "2022-02-18T18:23:22.353Z"
   },
   {
    "duration": -386,
    "start_time": "2022-02-18T18:23:22.358Z"
   },
   {
    "duration": -390,
    "start_time": "2022-02-18T18:23:22.363Z"
   },
   {
    "duration": -394,
    "start_time": "2022-02-18T18:23:22.368Z"
   },
   {
    "duration": -397,
    "start_time": "2022-02-18T18:23:22.373Z"
   },
   {
    "duration": -410,
    "start_time": "2022-02-18T18:23:22.388Z"
   },
   {
    "duration": -414,
    "start_time": "2022-02-18T18:23:22.394Z"
   },
   {
    "duration": -417,
    "start_time": "2022-02-18T18:23:22.398Z"
   },
   {
    "duration": -421,
    "start_time": "2022-02-18T18:23:22.404Z"
   },
   {
    "duration": -425,
    "start_time": "2022-02-18T18:23:22.409Z"
   },
   {
    "duration": -428,
    "start_time": "2022-02-18T18:23:22.414Z"
   },
   {
    "duration": -432,
    "start_time": "2022-02-18T18:23:22.419Z"
   },
   {
    "duration": -435,
    "start_time": "2022-02-18T18:23:22.424Z"
   },
   {
    "duration": -437,
    "start_time": "2022-02-18T18:23:22.428Z"
   },
   {
    "duration": -441,
    "start_time": "2022-02-18T18:23:22.433Z"
   },
   {
    "duration": -445,
    "start_time": "2022-02-18T18:23:22.438Z"
   },
   {
    "duration": -450,
    "start_time": "2022-02-18T18:23:22.444Z"
   },
   {
    "duration": -453,
    "start_time": "2022-02-18T18:23:22.448Z"
   },
   {
    "duration": -457,
    "start_time": "2022-02-18T18:23:22.453Z"
   },
   {
    "duration": -462,
    "start_time": "2022-02-18T18:23:22.458Z"
   },
   {
    "duration": -467,
    "start_time": "2022-02-18T18:23:22.464Z"
   },
   {
    "duration": -471,
    "start_time": "2022-02-18T18:23:22.469Z"
   },
   {
    "duration": -475,
    "start_time": "2022-02-18T18:23:22.474Z"
   },
   {
    "duration": -479,
    "start_time": "2022-02-18T18:23:22.479Z"
   },
   {
    "duration": -483,
    "start_time": "2022-02-18T18:23:22.484Z"
   },
   {
    "duration": -497,
    "start_time": "2022-02-18T18:23:22.500Z"
   },
   {
    "duration": -502,
    "start_time": "2022-02-18T18:23:22.505Z"
   },
   {
    "duration": -507,
    "start_time": "2022-02-18T18:23:22.511Z"
   },
   {
    "duration": -511,
    "start_time": "2022-02-18T18:23:22.516Z"
   },
   {
    "duration": -515,
    "start_time": "2022-02-18T18:23:22.521Z"
   },
   {
    "duration": -519,
    "start_time": "2022-02-18T18:23:22.526Z"
   },
   {
    "duration": -523,
    "start_time": "2022-02-18T18:23:22.530Z"
   },
   {
    "duration": -527,
    "start_time": "2022-02-18T18:23:22.535Z"
   },
   {
    "duration": -530,
    "start_time": "2022-02-18T18:23:22.539Z"
   },
   {
    "duration": -534,
    "start_time": "2022-02-18T18:23:22.544Z"
   },
   {
    "duration": -538,
    "start_time": "2022-02-18T18:23:22.549Z"
   },
   {
    "duration": -543,
    "start_time": "2022-02-18T18:23:22.554Z"
   },
   {
    "duration": -546,
    "start_time": "2022-02-18T18:23:22.558Z"
   },
   {
    "duration": -551,
    "start_time": "2022-02-18T18:23:22.564Z"
   },
   {
    "duration": -555,
    "start_time": "2022-02-18T18:23:22.569Z"
   },
   {
    "duration": -559,
    "start_time": "2022-02-18T18:23:22.574Z"
   },
   {
    "duration": -563,
    "start_time": "2022-02-18T18:23:22.579Z"
   },
   {
    "duration": -567,
    "start_time": "2022-02-18T18:23:22.584Z"
   },
   {
    "duration": -571,
    "start_time": "2022-02-18T18:23:22.589Z"
   },
   {
    "duration": 18,
    "start_time": "2022-02-18T18:24:19.087Z"
   },
   {
    "duration": 28,
    "start_time": "2022-02-18T18:24:51.086Z"
   },
   {
    "duration": 22,
    "start_time": "2022-02-18T18:26:36.854Z"
   },
   {
    "duration": 26,
    "start_time": "2022-02-18T18:30:54.059Z"
   },
   {
    "duration": 1191,
    "start_time": "2022-02-18T18:30:59.875Z"
   },
   {
    "duration": 238,
    "start_time": "2022-02-18T18:31:01.069Z"
   },
   {
    "duration": 120,
    "start_time": "2022-02-18T18:31:01.310Z"
   },
   {
    "duration": 162,
    "start_time": "2022-02-18T18:31:01.432Z"
   },
   {
    "duration": 73,
    "start_time": "2022-02-18T18:31:01.596Z"
   },
   {
    "duration": 137,
    "start_time": "2022-02-18T18:31:01.671Z"
   },
   {
    "duration": 52,
    "start_time": "2022-02-18T18:31:01.811Z"
   },
   {
    "duration": 35,
    "start_time": "2022-02-18T18:31:01.868Z"
   },
   {
    "duration": 26,
    "start_time": "2022-02-18T18:31:01.906Z"
   },
   {
    "duration": 53,
    "start_time": "2022-02-18T18:31:01.934Z"
   },
   {
    "duration": 16,
    "start_time": "2022-02-18T18:31:01.989Z"
   },
   {
    "duration": 116,
    "start_time": "2022-02-18T18:31:02.007Z"
   },
   {
    "duration": 82,
    "start_time": "2022-02-18T18:31:02.126Z"
   },
   {
    "duration": 54,
    "start_time": "2022-02-18T18:31:02.210Z"
   },
   {
    "duration": 48,
    "start_time": "2022-02-18T18:31:02.268Z"
   },
   {
    "duration": 59,
    "start_time": "2022-02-18T18:31:02.318Z"
   },
   {
    "duration": 52,
    "start_time": "2022-02-18T18:31:02.379Z"
   },
   {
    "duration": 27,
    "start_time": "2022-02-18T18:31:02.434Z"
   },
   {
    "duration": 36,
    "start_time": "2022-02-18T18:31:02.463Z"
   },
   {
    "duration": 11,
    "start_time": "2022-02-18T18:31:02.502Z"
   },
   {
    "duration": 28,
    "start_time": "2022-02-18T18:31:02.516Z"
   },
   {
    "duration": 25,
    "start_time": "2022-02-18T18:31:02.547Z"
   },
   {
    "duration": 38,
    "start_time": "2022-02-18T18:31:02.578Z"
   },
   {
    "duration": 54,
    "start_time": "2022-02-18T18:31:02.618Z"
   },
   {
    "duration": 11,
    "start_time": "2022-02-18T18:31:02.674Z"
   },
   {
    "duration": 12,
    "start_time": "2022-02-18T18:31:02.688Z"
   },
   {
    "duration": 27,
    "start_time": "2022-02-18T18:31:02.702Z"
   },
   {
    "duration": 46,
    "start_time": "2022-02-18T18:31:02.732Z"
   },
   {
    "duration": 51,
    "start_time": "2022-02-18T18:31:02.780Z"
   },
   {
    "duration": 8,
    "start_time": "2022-02-18T18:31:02.833Z"
   },
   {
    "duration": 360,
    "start_time": "2022-02-18T18:31:02.843Z"
   },
   {
    "duration": -27,
    "start_time": "2022-02-18T18:31:03.232Z"
   },
   {
    "duration": -31,
    "start_time": "2022-02-18T18:31:03.237Z"
   },
   {
    "duration": -35,
    "start_time": "2022-02-18T18:31:03.242Z"
   },
   {
    "duration": -38,
    "start_time": "2022-02-18T18:31:03.246Z"
   },
   {
    "duration": -42,
    "start_time": "2022-02-18T18:31:03.250Z"
   },
   {
    "duration": -47,
    "start_time": "2022-02-18T18:31:03.256Z"
   },
   {
    "duration": -49,
    "start_time": "2022-02-18T18:31:03.260Z"
   },
   {
    "duration": -53,
    "start_time": "2022-02-18T18:31:03.265Z"
   },
   {
    "duration": -56,
    "start_time": "2022-02-18T18:31:03.269Z"
   },
   {
    "duration": -60,
    "start_time": "2022-02-18T18:31:03.274Z"
   },
   {
    "duration": -63,
    "start_time": "2022-02-18T18:31:03.278Z"
   },
   {
    "duration": -67,
    "start_time": "2022-02-18T18:31:03.283Z"
   },
   {
    "duration": -71,
    "start_time": "2022-02-18T18:31:03.288Z"
   },
   {
    "duration": -74,
    "start_time": "2022-02-18T18:31:03.293Z"
   },
   {
    "duration": -78,
    "start_time": "2022-02-18T18:31:03.298Z"
   },
   {
    "duration": -82,
    "start_time": "2022-02-18T18:31:03.303Z"
   },
   {
    "duration": -86,
    "start_time": "2022-02-18T18:31:03.308Z"
   },
   {
    "duration": -90,
    "start_time": "2022-02-18T18:31:03.313Z"
   },
   {
    "duration": -92,
    "start_time": "2022-02-18T18:31:03.317Z"
   },
   {
    "duration": -97,
    "start_time": "2022-02-18T18:31:03.323Z"
   },
   {
    "duration": -110,
    "start_time": "2022-02-18T18:31:03.339Z"
   },
   {
    "duration": -113,
    "start_time": "2022-02-18T18:31:03.344Z"
   },
   {
    "duration": -116,
    "start_time": "2022-02-18T18:31:03.348Z"
   },
   {
    "duration": -120,
    "start_time": "2022-02-18T18:31:03.354Z"
   },
   {
    "duration": -122,
    "start_time": "2022-02-18T18:31:03.358Z"
   },
   {
    "duration": -126,
    "start_time": "2022-02-18T18:31:03.363Z"
   },
   {
    "duration": -128,
    "start_time": "2022-02-18T18:31:03.367Z"
   },
   {
    "duration": -132,
    "start_time": "2022-02-18T18:31:03.372Z"
   },
   {
    "duration": -134,
    "start_time": "2022-02-18T18:31:03.376Z"
   },
   {
    "duration": -138,
    "start_time": "2022-02-18T18:31:03.381Z"
   },
   {
    "duration": -141,
    "start_time": "2022-02-18T18:31:03.386Z"
   },
   {
    "duration": -144,
    "start_time": "2022-02-18T18:31:03.390Z"
   },
   {
    "duration": -148,
    "start_time": "2022-02-18T18:31:03.396Z"
   },
   {
    "duration": -154,
    "start_time": "2022-02-18T18:31:03.403Z"
   },
   {
    "duration": 26,
    "start_time": "2022-02-18T18:35:00.463Z"
   },
   {
    "duration": 27,
    "start_time": "2022-02-18T18:43:10.164Z"
   },
   {
    "duration": 1569,
    "start_time": "2022-02-18T18:43:16.347Z"
   },
   {
    "duration": 388,
    "start_time": "2022-02-18T18:43:17.920Z"
   },
   {
    "duration": 130,
    "start_time": "2022-02-18T18:43:18.483Z"
   },
   {
    "duration": 173,
    "start_time": "2022-02-18T18:43:18.615Z"
   },
   {
    "duration": 81,
    "start_time": "2022-02-18T18:43:18.790Z"
   },
   {
    "duration": 110,
    "start_time": "2022-02-18T18:43:18.873Z"
   },
   {
    "duration": 60,
    "start_time": "2022-02-18T18:43:18.985Z"
   },
   {
    "duration": 21,
    "start_time": "2022-02-18T18:43:19.047Z"
   },
   {
    "duration": 7,
    "start_time": "2022-02-18T18:43:19.070Z"
   },
   {
    "duration": 51,
    "start_time": "2022-02-18T18:43:19.080Z"
   },
   {
    "duration": 10,
    "start_time": "2022-02-18T18:43:19.134Z"
   },
   {
    "duration": 110,
    "start_time": "2022-02-18T18:43:19.146Z"
   },
   {
    "duration": 107,
    "start_time": "2022-02-18T18:43:19.259Z"
   },
   {
    "duration": 88,
    "start_time": "2022-02-18T18:43:19.369Z"
   },
   {
    "duration": 54,
    "start_time": "2022-02-18T18:43:19.459Z"
   },
   {
    "duration": 75,
    "start_time": "2022-02-18T18:43:19.515Z"
   },
   {
    "duration": 57,
    "start_time": "2022-02-18T18:43:19.593Z"
   },
   {
    "duration": 25,
    "start_time": "2022-02-18T18:43:19.652Z"
   },
   {
    "duration": 41,
    "start_time": "2022-02-18T18:43:19.680Z"
   },
   {
    "duration": 4,
    "start_time": "2022-02-18T18:43:19.723Z"
   },
   {
    "duration": 20,
    "start_time": "2022-02-18T18:43:19.729Z"
   },
   {
    "duration": 19,
    "start_time": "2022-02-18T18:43:19.751Z"
   },
   {
    "duration": 27,
    "start_time": "2022-02-18T18:43:19.773Z"
   },
   {
    "duration": 20,
    "start_time": "2022-02-18T18:43:19.802Z"
   },
   {
    "duration": 13,
    "start_time": "2022-02-18T18:43:19.828Z"
   },
   {
    "duration": 20,
    "start_time": "2022-02-18T18:43:19.844Z"
   },
   {
    "duration": 36,
    "start_time": "2022-02-18T18:43:19.866Z"
   },
   {
    "duration": 51,
    "start_time": "2022-02-18T18:43:19.904Z"
   },
   {
    "duration": 29,
    "start_time": "2022-02-18T18:43:19.958Z"
   },
   {
    "duration": 84,
    "start_time": "2022-02-18T18:43:19.990Z"
   },
   {
    "duration": -78,
    "start_time": "2022-02-18T18:43:20.155Z"
   },
   {
    "duration": -82,
    "start_time": "2022-02-18T18:43:20.160Z"
   },
   {
    "duration": -85,
    "start_time": "2022-02-18T18:43:20.165Z"
   },
   {
    "duration": -89,
    "start_time": "2022-02-18T18:43:20.170Z"
   },
   {
    "duration": -92,
    "start_time": "2022-02-18T18:43:20.175Z"
   },
   {
    "duration": -150,
    "start_time": "2022-02-18T18:43:20.234Z"
   },
   {
    "duration": -155,
    "start_time": "2022-02-18T18:43:20.240Z"
   },
   {
    "duration": -159,
    "start_time": "2022-02-18T18:43:20.245Z"
   },
   {
    "duration": -161,
    "start_time": "2022-02-18T18:43:20.249Z"
   },
   {
    "duration": -165,
    "start_time": "2022-02-18T18:43:20.254Z"
   },
   {
    "duration": -168,
    "start_time": "2022-02-18T18:43:20.259Z"
   },
   {
    "duration": -171,
    "start_time": "2022-02-18T18:43:20.263Z"
   },
   {
    "duration": -175,
    "start_time": "2022-02-18T18:43:20.268Z"
   },
   {
    "duration": -179,
    "start_time": "2022-02-18T18:43:20.273Z"
   },
   {
    "duration": -182,
    "start_time": "2022-02-18T18:43:20.278Z"
   },
   {
    "duration": -185,
    "start_time": "2022-02-18T18:43:20.282Z"
   },
   {
    "duration": -189,
    "start_time": "2022-02-18T18:43:20.287Z"
   },
   {
    "duration": -193,
    "start_time": "2022-02-18T18:43:20.292Z"
   },
   {
    "duration": -195,
    "start_time": "2022-02-18T18:43:20.296Z"
   },
   {
    "duration": -199,
    "start_time": "2022-02-18T18:43:20.301Z"
   },
   {
    "duration": -202,
    "start_time": "2022-02-18T18:43:20.305Z"
   },
   {
    "duration": -207,
    "start_time": "2022-02-18T18:43:20.311Z"
   },
   {
    "duration": -209,
    "start_time": "2022-02-18T18:43:20.315Z"
   },
   {
    "duration": -213,
    "start_time": "2022-02-18T18:43:20.320Z"
   },
   {
    "duration": -216,
    "start_time": "2022-02-18T18:43:20.324Z"
   },
   {
    "duration": -220,
    "start_time": "2022-02-18T18:43:20.329Z"
   },
   {
    "duration": -232,
    "start_time": "2022-02-18T18:43:20.342Z"
   },
   {
    "duration": -235,
    "start_time": "2022-02-18T18:43:20.347Z"
   },
   {
    "duration": -238,
    "start_time": "2022-02-18T18:43:20.351Z"
   },
   {
    "duration": -243,
    "start_time": "2022-02-18T18:43:20.357Z"
   },
   {
    "duration": -245,
    "start_time": "2022-02-18T18:43:20.361Z"
   },
   {
    "duration": -249,
    "start_time": "2022-02-18T18:43:20.366Z"
   },
   {
    "duration": -251,
    "start_time": "2022-02-18T18:43:20.370Z"
   },
   {
    "duration": -255,
    "start_time": "2022-02-18T18:43:20.375Z"
   },
   {
    "duration": -259,
    "start_time": "2022-02-18T18:43:20.380Z"
   },
   {
    "duration": 18,
    "start_time": "2022-02-18T18:45:32.347Z"
   },
   {
    "duration": 91,
    "start_time": "2022-02-18T18:46:19.140Z"
   },
   {
    "duration": 1202,
    "start_time": "2022-02-18T18:46:36.176Z"
   },
   {
    "duration": 203,
    "start_time": "2022-02-18T18:46:37.381Z"
   },
   {
    "duration": 124,
    "start_time": "2022-02-18T18:46:37.587Z"
   },
   {
    "duration": 169,
    "start_time": "2022-02-18T18:46:37.714Z"
   },
   {
    "duration": 77,
    "start_time": "2022-02-18T18:46:37.885Z"
   },
   {
    "duration": 127,
    "start_time": "2022-02-18T18:46:37.965Z"
   },
   {
    "duration": 52,
    "start_time": "2022-02-18T18:46:38.094Z"
   },
   {
    "duration": 22,
    "start_time": "2022-02-18T18:46:38.148Z"
   },
   {
    "duration": 7,
    "start_time": "2022-02-18T18:46:38.172Z"
   },
   {
    "duration": 54,
    "start_time": "2022-02-18T18:46:38.181Z"
   },
   {
    "duration": 7,
    "start_time": "2022-02-18T18:46:38.236Z"
   },
   {
    "duration": 95,
    "start_time": "2022-02-18T18:46:38.244Z"
   },
   {
    "duration": 81,
    "start_time": "2022-02-18T18:46:38.341Z"
   },
   {
    "duration": 50,
    "start_time": "2022-02-18T18:46:38.425Z"
   },
   {
    "duration": 45,
    "start_time": "2022-02-18T18:46:38.476Z"
   },
   {
    "duration": 60,
    "start_time": "2022-02-18T18:46:38.522Z"
   },
   {
    "duration": 53,
    "start_time": "2022-02-18T18:46:38.584Z"
   },
   {
    "duration": 25,
    "start_time": "2022-02-18T18:46:38.639Z"
   },
   {
    "duration": 20,
    "start_time": "2022-02-18T18:46:38.666Z"
   },
   {
    "duration": 22,
    "start_time": "2022-02-18T18:46:38.688Z"
   },
   {
    "duration": 17,
    "start_time": "2022-02-18T18:46:38.712Z"
   },
   {
    "duration": 8,
    "start_time": "2022-02-18T18:46:38.732Z"
   },
   {
    "duration": 18,
    "start_time": "2022-02-18T18:46:38.745Z"
   },
   {
    "duration": 14,
    "start_time": "2022-02-18T18:46:38.766Z"
   },
   {
    "duration": 8,
    "start_time": "2022-02-18T18:46:38.807Z"
   },
   {
    "duration": 18,
    "start_time": "2022-02-18T18:46:38.817Z"
   },
   {
    "duration": 29,
    "start_time": "2022-02-18T18:46:38.838Z"
   },
   {
    "duration": 33,
    "start_time": "2022-02-18T18:46:38.869Z"
   },
   {
    "duration": 23,
    "start_time": "2022-02-18T18:46:38.907Z"
   },
   {
    "duration": 21,
    "start_time": "2022-02-18T18:46:38.933Z"
   },
   {
    "duration": 348,
    "start_time": "2022-02-18T18:46:38.956Z"
   },
   {
    "duration": 10,
    "start_time": "2022-02-18T18:46:39.296Z"
   },
   {
    "duration": 5,
    "start_time": "2022-02-18T18:46:39.302Z"
   },
   {
    "duration": 0,
    "start_time": "2022-02-18T18:46:39.308Z"
   },
   {
    "duration": -14,
    "start_time": "2022-02-18T18:46:39.323Z"
   },
   {
    "duration": -16,
    "start_time": "2022-02-18T18:46:39.327Z"
   },
   {
    "duration": -20,
    "start_time": "2022-02-18T18:46:39.332Z"
   },
   {
    "duration": -24,
    "start_time": "2022-02-18T18:46:39.337Z"
   },
   {
    "duration": -28,
    "start_time": "2022-02-18T18:46:39.342Z"
   },
   {
    "duration": -32,
    "start_time": "2022-02-18T18:46:39.347Z"
   },
   {
    "duration": -36,
    "start_time": "2022-02-18T18:46:39.352Z"
   },
   {
    "duration": -40,
    "start_time": "2022-02-18T18:46:39.357Z"
   },
   {
    "duration": -44,
    "start_time": "2022-02-18T18:46:39.362Z"
   },
   {
    "duration": -48,
    "start_time": "2022-02-18T18:46:39.367Z"
   },
   {
    "duration": -52,
    "start_time": "2022-02-18T18:46:39.373Z"
   },
   {
    "duration": -56,
    "start_time": "2022-02-18T18:46:39.378Z"
   },
   {
    "duration": -61,
    "start_time": "2022-02-18T18:46:39.384Z"
   },
   {
    "duration": -65,
    "start_time": "2022-02-18T18:46:39.389Z"
   },
   {
    "duration": -69,
    "start_time": "2022-02-18T18:46:39.395Z"
   },
   {
    "duration": -73,
    "start_time": "2022-02-18T18:46:39.400Z"
   },
   {
    "duration": -76,
    "start_time": "2022-02-18T18:46:39.404Z"
   },
   {
    "duration": -80,
    "start_time": "2022-02-18T18:46:39.409Z"
   },
   {
    "duration": -84,
    "start_time": "2022-02-18T18:46:39.414Z"
   },
   {
    "duration": -87,
    "start_time": "2022-02-18T18:46:39.418Z"
   },
   {
    "duration": -101,
    "start_time": "2022-02-18T18:46:39.434Z"
   },
   {
    "duration": -105,
    "start_time": "2022-02-18T18:46:39.439Z"
   },
   {
    "duration": -109,
    "start_time": "2022-02-18T18:46:39.444Z"
   },
   {
    "duration": -112,
    "start_time": "2022-02-18T18:46:39.448Z"
   },
   {
    "duration": -115,
    "start_time": "2022-02-18T18:46:39.453Z"
   },
   {
    "duration": -119,
    "start_time": "2022-02-18T18:46:39.458Z"
   },
   {
    "duration": -122,
    "start_time": "2022-02-18T18:46:39.463Z"
   },
   {
    "duration": -125,
    "start_time": "2022-02-18T18:46:39.467Z"
   },
   {
    "duration": -131,
    "start_time": "2022-02-18T18:46:39.474Z"
   },
   {
    "duration": -137,
    "start_time": "2022-02-18T18:46:39.481Z"
   },
   {
    "duration": 3,
    "start_time": "2022-02-18T18:48:35.442Z"
   },
   {
    "duration": 2,
    "start_time": "2022-02-18T18:49:07.655Z"
   },
   {
    "duration": 31,
    "start_time": "2022-02-18T18:49:20.416Z"
   },
   {
    "duration": 24,
    "start_time": "2022-02-18T18:51:17.521Z"
   },
   {
    "duration": 13,
    "start_time": "2022-02-18T18:53:51.162Z"
   },
   {
    "duration": 4,
    "start_time": "2022-02-18T18:54:56.051Z"
   },
   {
    "duration": 2879,
    "start_time": "2022-02-18T18:55:38.807Z"
   },
   {
    "duration": 1180,
    "start_time": "2022-02-18T18:56:08.326Z"
   },
   {
    "duration": 208,
    "start_time": "2022-02-18T18:56:09.509Z"
   },
   {
    "duration": 120,
    "start_time": "2022-02-18T18:56:09.719Z"
   },
   {
    "duration": 183,
    "start_time": "2022-02-18T18:56:09.842Z"
   },
   {
    "duration": 69,
    "start_time": "2022-02-18T18:56:10.027Z"
   },
   {
    "duration": 115,
    "start_time": "2022-02-18T18:56:10.108Z"
   },
   {
    "duration": 48,
    "start_time": "2022-02-18T18:56:10.226Z"
   },
   {
    "duration": 38,
    "start_time": "2022-02-18T18:56:10.277Z"
   },
   {
    "duration": 6,
    "start_time": "2022-02-18T18:56:10.318Z"
   },
   {
    "duration": 33,
    "start_time": "2022-02-18T18:56:10.326Z"
   },
   {
    "duration": 8,
    "start_time": "2022-02-18T18:56:10.361Z"
   },
   {
    "duration": 115,
    "start_time": "2022-02-18T18:56:10.371Z"
   },
   {
    "duration": 78,
    "start_time": "2022-02-18T18:56:10.487Z"
   },
   {
    "duration": 72,
    "start_time": "2022-02-18T18:56:10.567Z"
   },
   {
    "duration": 25,
    "start_time": "2022-02-18T18:56:10.641Z"
   },
   {
    "duration": 80,
    "start_time": "2022-02-18T18:56:10.668Z"
   },
   {
    "duration": 31,
    "start_time": "2022-02-18T18:56:10.750Z"
   },
   {
    "duration": 43,
    "start_time": "2022-02-18T18:56:10.783Z"
   },
   {
    "duration": 19,
    "start_time": "2022-02-18T18:56:10.828Z"
   },
   {
    "duration": 4,
    "start_time": "2022-02-18T18:56:10.850Z"
   },
   {
    "duration": 14,
    "start_time": "2022-02-18T18:56:10.856Z"
   },
   {
    "duration": 35,
    "start_time": "2022-02-18T18:56:10.872Z"
   },
   {
    "duration": 19,
    "start_time": "2022-02-18T18:56:10.912Z"
   },
   {
    "duration": 13,
    "start_time": "2022-02-18T18:56:10.934Z"
   },
   {
    "duration": 7,
    "start_time": "2022-02-18T18:56:10.949Z"
   },
   {
    "duration": 3279,
    "start_time": "2022-02-18T18:56:10.958Z"
   },
   {
    "duration": -14,
    "start_time": "2022-02-18T18:56:14.254Z"
   },
   {
    "duration": -19,
    "start_time": "2022-02-18T18:56:14.260Z"
   },
   {
    "duration": -24,
    "start_time": "2022-02-18T18:56:14.267Z"
   },
   {
    "duration": -28,
    "start_time": "2022-02-18T18:56:14.273Z"
   },
   {
    "duration": -30,
    "start_time": "2022-02-18T18:56:14.277Z"
   },
   {
    "duration": -34,
    "start_time": "2022-02-18T18:56:14.282Z"
   },
   {
    "duration": -37,
    "start_time": "2022-02-18T18:56:14.287Z"
   },
   {
    "duration": -40,
    "start_time": "2022-02-18T18:56:14.292Z"
   },
   {
    "duration": -43,
    "start_time": "2022-02-18T18:56:14.297Z"
   },
   {
    "duration": -48,
    "start_time": "2022-02-18T18:56:14.303Z"
   },
   {
    "duration": -51,
    "start_time": "2022-02-18T18:56:14.308Z"
   },
   {
    "duration": -55,
    "start_time": "2022-02-18T18:56:14.313Z"
   },
   {
    "duration": -69,
    "start_time": "2022-02-18T18:56:14.329Z"
   },
   {
    "duration": -73,
    "start_time": "2022-02-18T18:56:14.335Z"
   },
   {
    "duration": -75,
    "start_time": "2022-02-18T18:56:14.339Z"
   },
   {
    "duration": -79,
    "start_time": "2022-02-18T18:56:14.344Z"
   },
   {
    "duration": -83,
    "start_time": "2022-02-18T18:56:14.349Z"
   },
   {
    "duration": -87,
    "start_time": "2022-02-18T18:56:14.354Z"
   },
   {
    "duration": -90,
    "start_time": "2022-02-18T18:56:14.359Z"
   },
   {
    "duration": -94,
    "start_time": "2022-02-18T18:56:14.364Z"
   },
   {
    "duration": -97,
    "start_time": "2022-02-18T18:56:14.368Z"
   },
   {
    "duration": -100,
    "start_time": "2022-02-18T18:56:14.373Z"
   },
   {
    "duration": -104,
    "start_time": "2022-02-18T18:56:14.378Z"
   },
   {
    "duration": -108,
    "start_time": "2022-02-18T18:56:14.384Z"
   },
   {
    "duration": -111,
    "start_time": "2022-02-18T18:56:14.389Z"
   },
   {
    "duration": -114,
    "start_time": "2022-02-18T18:56:14.394Z"
   },
   {
    "duration": -91,
    "start_time": "2022-02-18T18:56:14.398Z"
   },
   {
    "duration": -94,
    "start_time": "2022-02-18T18:56:14.403Z"
   },
   {
    "duration": -98,
    "start_time": "2022-02-18T18:56:14.408Z"
   },
   {
    "duration": -102,
    "start_time": "2022-02-18T18:56:14.413Z"
   },
   {
    "duration": -104,
    "start_time": "2022-02-18T18:56:14.417Z"
   },
   {
    "duration": -109,
    "start_time": "2022-02-18T18:56:14.422Z"
   },
   {
    "duration": -124,
    "start_time": "2022-02-18T18:56:14.438Z"
   },
   {
    "duration": -128,
    "start_time": "2022-02-18T18:56:14.443Z"
   },
   {
    "duration": -131,
    "start_time": "2022-02-18T18:56:14.447Z"
   },
   {
    "duration": -135,
    "start_time": "2022-02-18T18:56:14.452Z"
   },
   {
    "duration": -138,
    "start_time": "2022-02-18T18:56:14.456Z"
   },
   {
    "duration": -141,
    "start_time": "2022-02-18T18:56:14.461Z"
   },
   {
    "duration": -145,
    "start_time": "2022-02-18T18:56:14.466Z"
   },
   {
    "duration": -150,
    "start_time": "2022-02-18T18:56:14.472Z"
   },
   {
    "duration": -152,
    "start_time": "2022-02-18T18:56:14.476Z"
   },
   {
    "duration": 4268,
    "start_time": "2022-02-18T18:56:49.500Z"
   },
   {
    "duration": 3145,
    "start_time": "2022-02-18T18:56:59.979Z"
   },
   {
    "duration": 2897,
    "start_time": "2022-02-18T18:58:05.569Z"
   },
   {
    "duration": 1203,
    "start_time": "2022-02-18T18:58:36.311Z"
   },
   {
    "duration": 211,
    "start_time": "2022-02-18T18:58:37.516Z"
   },
   {
    "duration": 118,
    "start_time": "2022-02-18T18:58:37.730Z"
   },
   {
    "duration": 175,
    "start_time": "2022-02-18T18:58:37.850Z"
   },
   {
    "duration": 81,
    "start_time": "2022-02-18T18:58:38.027Z"
   },
   {
    "duration": 121,
    "start_time": "2022-02-18T18:58:38.111Z"
   },
   {
    "duration": 48,
    "start_time": "2022-02-18T18:58:38.234Z"
   },
   {
    "duration": 33,
    "start_time": "2022-02-18T18:58:38.286Z"
   },
   {
    "duration": 31,
    "start_time": "2022-02-18T18:58:38.322Z"
   },
   {
    "duration": 46,
    "start_time": "2022-02-18T18:58:38.355Z"
   },
   {
    "duration": 13,
    "start_time": "2022-02-18T18:58:38.403Z"
   },
   {
    "duration": 93,
    "start_time": "2022-02-18T18:58:38.418Z"
   },
   {
    "duration": 68,
    "start_time": "2022-02-18T18:58:38.513Z"
   },
   {
    "duration": 71,
    "start_time": "2022-02-18T18:58:38.582Z"
   },
   {
    "duration": 24,
    "start_time": "2022-02-18T18:58:38.654Z"
   },
   {
    "duration": 71,
    "start_time": "2022-02-18T18:58:38.680Z"
   },
   {
    "duration": 33,
    "start_time": "2022-02-18T18:58:38.753Z"
   },
   {
    "duration": 42,
    "start_time": "2022-02-18T18:58:38.788Z"
   },
   {
    "duration": 19,
    "start_time": "2022-02-18T18:58:38.832Z"
   },
   {
    "duration": 9,
    "start_time": "2022-02-18T18:58:38.853Z"
   },
   {
    "duration": 28,
    "start_time": "2022-02-18T18:58:38.864Z"
   },
   {
    "duration": 23,
    "start_time": "2022-02-18T18:58:38.894Z"
   },
   {
    "duration": 27,
    "start_time": "2022-02-18T18:58:38.922Z"
   },
   {
    "duration": 29,
    "start_time": "2022-02-18T18:58:38.952Z"
   },
   {
    "duration": 25,
    "start_time": "2022-02-18T18:58:38.983Z"
   },
   {
    "duration": 15,
    "start_time": "2022-02-18T18:58:39.010Z"
   },
   {
    "duration": 26,
    "start_time": "2022-02-18T18:58:39.027Z"
   },
   {
    "duration": 30,
    "start_time": "2022-02-18T18:58:39.055Z"
   },
   {
    "duration": 35,
    "start_time": "2022-02-18T18:58:39.087Z"
   },
   {
    "duration": 2,
    "start_time": "2022-02-18T18:58:39.125Z"
   },
   {
    "duration": 20,
    "start_time": "2022-02-18T18:58:39.129Z"
   },
   {
    "duration": 21,
    "start_time": "2022-02-18T18:58:39.151Z"
   },
   {
    "duration": 50,
    "start_time": "2022-02-18T18:58:39.174Z"
   },
   {
    "duration": 478,
    "start_time": "2022-02-18T18:58:39.226Z"
   },
   {
    "duration": -73,
    "start_time": "2022-02-18T18:58:39.780Z"
   },
   {
    "duration": -78,
    "start_time": "2022-02-18T18:58:39.786Z"
   },
   {
    "duration": -82,
    "start_time": "2022-02-18T18:58:39.791Z"
   },
   {
    "duration": -86,
    "start_time": "2022-02-18T18:58:39.797Z"
   },
   {
    "duration": -90,
    "start_time": "2022-02-18T18:58:39.802Z"
   },
   {
    "duration": -94,
    "start_time": "2022-02-18T18:58:39.807Z"
   },
   {
    "duration": -148,
    "start_time": "2022-02-18T18:58:39.862Z"
   },
   {
    "duration": -153,
    "start_time": "2022-02-18T18:58:39.868Z"
   },
   {
    "duration": -156,
    "start_time": "2022-02-18T18:58:39.873Z"
   },
   {
    "duration": -160,
    "start_time": "2022-02-18T18:58:39.878Z"
   },
   {
    "duration": -163,
    "start_time": "2022-02-18T18:58:39.883Z"
   },
   {
    "duration": -167,
    "start_time": "2022-02-18T18:58:39.888Z"
   },
   {
    "duration": -171,
    "start_time": "2022-02-18T18:58:39.894Z"
   },
   {
    "duration": -175,
    "start_time": "2022-02-18T18:58:39.899Z"
   },
   {
    "duration": -178,
    "start_time": "2022-02-18T18:58:39.903Z"
   },
   {
    "duration": -182,
    "start_time": "2022-02-18T18:58:39.908Z"
   },
   {
    "duration": -184,
    "start_time": "2022-02-18T18:58:39.912Z"
   },
   {
    "duration": -188,
    "start_time": "2022-02-18T18:58:39.917Z"
   },
   {
    "duration": -192,
    "start_time": "2022-02-18T18:58:39.922Z"
   },
   {
    "duration": -196,
    "start_time": "2022-02-18T18:58:39.927Z"
   },
   {
    "duration": -199,
    "start_time": "2022-02-18T18:58:39.932Z"
   },
   {
    "duration": -203,
    "start_time": "2022-02-18T18:58:39.937Z"
   },
   {
    "duration": -206,
    "start_time": "2022-02-18T18:58:39.941Z"
   },
   {
    "duration": -209,
    "start_time": "2022-02-18T18:58:39.946Z"
   },
   {
    "duration": -213,
    "start_time": "2022-02-18T18:58:39.951Z"
   },
   {
    "duration": -217,
    "start_time": "2022-02-18T18:58:39.956Z"
   },
   {
    "duration": -231,
    "start_time": "2022-02-18T18:58:39.971Z"
   },
   {
    "duration": -235,
    "start_time": "2022-02-18T18:58:39.977Z"
   },
   {
    "duration": -239,
    "start_time": "2022-02-18T18:58:39.982Z"
   },
   {
    "duration": -243,
    "start_time": "2022-02-18T18:58:39.987Z"
   },
   {
    "duration": -247,
    "start_time": "2022-02-18T18:58:39.992Z"
   },
   {
    "duration": -250,
    "start_time": "2022-02-18T18:58:39.997Z"
   },
   {
    "duration": -254,
    "start_time": "2022-02-18T18:58:40.002Z"
   },
   {
    "duration": 5,
    "start_time": "2022-02-18T19:00:17.285Z"
   },
   {
    "duration": 10,
    "start_time": "2022-02-18T19:00:22.174Z"
   },
   {
    "duration": 1219,
    "start_time": "2022-02-18T19:00:29.910Z"
   },
   {
    "duration": 234,
    "start_time": "2022-02-18T19:00:31.131Z"
   },
   {
    "duration": 140,
    "start_time": "2022-02-18T19:00:31.368Z"
   },
   {
    "duration": 179,
    "start_time": "2022-02-18T19:00:31.511Z"
   },
   {
    "duration": 83,
    "start_time": "2022-02-18T19:00:31.693Z"
   },
   {
    "duration": 130,
    "start_time": "2022-02-18T19:00:31.778Z"
   },
   {
    "duration": 53,
    "start_time": "2022-02-18T19:00:31.910Z"
   },
   {
    "duration": 21,
    "start_time": "2022-02-18T19:00:31.967Z"
   },
   {
    "duration": 7,
    "start_time": "2022-02-18T19:00:32.008Z"
   },
   {
    "duration": 37,
    "start_time": "2022-02-18T19:00:32.017Z"
   },
   {
    "duration": 8,
    "start_time": "2022-02-18T19:00:32.057Z"
   },
   {
    "duration": 112,
    "start_time": "2022-02-18T19:00:32.067Z"
   },
   {
    "duration": 83,
    "start_time": "2022-02-18T19:00:32.181Z"
   },
   {
    "duration": 65,
    "start_time": "2022-02-18T19:00:32.266Z"
   },
   {
    "duration": 27,
    "start_time": "2022-02-18T19:00:32.333Z"
   },
   {
    "duration": 80,
    "start_time": "2022-02-18T19:00:32.362Z"
   },
   {
    "duration": 34,
    "start_time": "2022-02-18T19:00:32.444Z"
   },
   {
    "duration": 44,
    "start_time": "2022-02-18T19:00:32.480Z"
   },
   {
    "duration": 20,
    "start_time": "2022-02-18T19:00:32.526Z"
   },
   {
    "duration": 5,
    "start_time": "2022-02-18T19:00:32.548Z"
   },
   {
    "duration": 15,
    "start_time": "2022-02-18T19:00:32.555Z"
   },
   {
    "duration": 10,
    "start_time": "2022-02-18T19:00:32.573Z"
   },
   {
    "duration": 37,
    "start_time": "2022-02-18T19:00:32.587Z"
   },
   {
    "duration": 10,
    "start_time": "2022-02-18T19:00:32.627Z"
   },
   {
    "duration": 6,
    "start_time": "2022-02-18T19:00:32.639Z"
   },
   {
    "duration": 26,
    "start_time": "2022-02-18T19:00:32.647Z"
   },
   {
    "duration": 3,
    "start_time": "2022-02-18T19:00:32.676Z"
   },
   {
    "duration": 55,
    "start_time": "2022-02-18T19:00:32.682Z"
   },
   {
    "duration": 2,
    "start_time": "2022-02-18T19:00:32.739Z"
   },
   {
    "duration": 184,
    "start_time": "2022-02-18T19:00:32.743Z"
   },
   {
    "duration": 23,
    "start_time": "2022-02-18T19:00:32.929Z"
   },
   {
    "duration": 25,
    "start_time": "2022-02-18T19:00:32.954Z"
   },
   {
    "duration": 359,
    "start_time": "2022-02-18T19:00:32.981Z"
   },
   {
    "duration": -77,
    "start_time": "2022-02-18T19:00:33.419Z"
   },
   {
    "duration": -81,
    "start_time": "2022-02-18T19:00:33.424Z"
   },
   {
    "duration": -85,
    "start_time": "2022-02-18T19:00:33.429Z"
   },
   {
    "duration": -89,
    "start_time": "2022-02-18T19:00:33.434Z"
   },
   {
    "duration": -92,
    "start_time": "2022-02-18T19:00:33.438Z"
   },
   {
    "duration": -95,
    "start_time": "2022-02-18T19:00:33.443Z"
   },
   {
    "duration": -99,
    "start_time": "2022-02-18T19:00:33.448Z"
   },
   {
    "duration": -104,
    "start_time": "2022-02-18T19:00:33.454Z"
   },
   {
    "duration": -106,
    "start_time": "2022-02-18T19:00:33.458Z"
   },
   {
    "duration": -110,
    "start_time": "2022-02-18T19:00:33.463Z"
   },
   {
    "duration": -114,
    "start_time": "2022-02-18T19:00:33.468Z"
   },
   {
    "duration": -118,
    "start_time": "2022-02-18T19:00:33.473Z"
   },
   {
    "duration": -121,
    "start_time": "2022-02-18T19:00:33.477Z"
   },
   {
    "duration": -125,
    "start_time": "2022-02-18T19:00:33.482Z"
   },
   {
    "duration": -129,
    "start_time": "2022-02-18T19:00:33.487Z"
   },
   {
    "duration": -132,
    "start_time": "2022-02-18T19:00:33.491Z"
   },
   {
    "duration": -136,
    "start_time": "2022-02-18T19:00:33.496Z"
   },
   {
    "duration": -179,
    "start_time": "2022-02-18T19:00:33.540Z"
   },
   {
    "duration": -184,
    "start_time": "2022-02-18T19:00:33.546Z"
   },
   {
    "duration": -188,
    "start_time": "2022-02-18T19:00:33.551Z"
   },
   {
    "duration": -193,
    "start_time": "2022-02-18T19:00:33.557Z"
   },
   {
    "duration": -196,
    "start_time": "2022-02-18T19:00:33.562Z"
   },
   {
    "duration": -200,
    "start_time": "2022-02-18T19:00:33.567Z"
   },
   {
    "duration": -203,
    "start_time": "2022-02-18T19:00:33.571Z"
   },
   {
    "duration": -207,
    "start_time": "2022-02-18T19:00:33.576Z"
   },
   {
    "duration": -174,
    "start_time": "2022-02-18T19:00:33.580Z"
   },
   {
    "duration": -177,
    "start_time": "2022-02-18T19:00:33.585Z"
   },
   {
    "duration": -182,
    "start_time": "2022-02-18T19:00:33.591Z"
   },
   {
    "duration": -186,
    "start_time": "2022-02-18T19:00:33.596Z"
   },
   {
    "duration": -190,
    "start_time": "2022-02-18T19:00:33.601Z"
   },
   {
    "duration": -193,
    "start_time": "2022-02-18T19:00:33.606Z"
   },
   {
    "duration": -197,
    "start_time": "2022-02-18T19:00:33.611Z"
   },
   {
    "duration": -199,
    "start_time": "2022-02-18T19:00:33.615Z"
   },
   {
    "duration": 11,
    "start_time": "2022-02-18T19:05:46.201Z"
   },
   {
    "duration": 1135,
    "start_time": "2022-02-18T19:05:53.344Z"
   },
   {
    "duration": 198,
    "start_time": "2022-02-18T19:05:54.482Z"
   },
   {
    "duration": 117,
    "start_time": "2022-02-18T19:05:54.683Z"
   },
   {
    "duration": 165,
    "start_time": "2022-02-18T19:05:54.807Z"
   },
   {
    "duration": 86,
    "start_time": "2022-02-18T19:05:54.975Z"
   },
   {
    "duration": 127,
    "start_time": "2022-02-18T19:05:55.063Z"
   },
   {
    "duration": 58,
    "start_time": "2022-02-18T19:05:55.192Z"
   },
   {
    "duration": 22,
    "start_time": "2022-02-18T19:05:55.253Z"
   },
   {
    "duration": 7,
    "start_time": "2022-02-18T19:05:55.278Z"
   },
   {
    "duration": 30,
    "start_time": "2022-02-18T19:05:55.308Z"
   },
   {
    "duration": 7,
    "start_time": "2022-02-18T19:05:55.340Z"
   },
   {
    "duration": 101,
    "start_time": "2022-02-18T19:05:55.349Z"
   },
   {
    "duration": 77,
    "start_time": "2022-02-18T19:05:55.452Z"
   },
   {
    "duration": 51,
    "start_time": "2022-02-18T19:05:55.531Z"
   },
   {
    "duration": 47,
    "start_time": "2022-02-18T19:05:55.584Z"
   },
   {
    "duration": 53,
    "start_time": "2022-02-18T19:05:55.633Z"
   },
   {
    "duration": 32,
    "start_time": "2022-02-18T19:05:55.707Z"
   },
   {
    "duration": 26,
    "start_time": "2022-02-18T19:05:55.741Z"
   },
   {
    "duration": 39,
    "start_time": "2022-02-18T19:05:55.769Z"
   },
   {
    "duration": 4,
    "start_time": "2022-02-18T19:05:55.811Z"
   },
   {
    "duration": 16,
    "start_time": "2022-02-18T19:05:55.817Z"
   },
   {
    "duration": 8,
    "start_time": "2022-02-18T19:05:55.836Z"
   },
   {
    "duration": 18,
    "start_time": "2022-02-18T19:05:55.848Z"
   },
   {
    "duration": 9,
    "start_time": "2022-02-18T19:05:55.869Z"
   },
   {
    "duration": 6,
    "start_time": "2022-02-18T19:05:55.908Z"
   },
   {
    "duration": 21,
    "start_time": "2022-02-18T19:05:55.916Z"
   },
   {
    "duration": 12,
    "start_time": "2022-02-18T19:05:55.940Z"
   },
   {
    "duration": 13,
    "start_time": "2022-02-18T19:05:55.954Z"
   },
   {
    "duration": 39,
    "start_time": "2022-02-18T19:05:55.969Z"
   },
   {
    "duration": 3,
    "start_time": "2022-02-18T19:05:56.011Z"
   },
   {
    "duration": 23,
    "start_time": "2022-02-18T19:05:56.016Z"
   },
   {
    "duration": 24,
    "start_time": "2022-02-18T19:05:56.041Z"
   },
   {
    "duration": 49,
    "start_time": "2022-02-18T19:05:56.067Z"
   },
   {
    "duration": 411,
    "start_time": "2022-02-18T19:05:56.118Z"
   },
   {
    "duration": -111,
    "start_time": "2022-02-18T19:05:56.643Z"
   },
   {
    "duration": -114,
    "start_time": "2022-02-18T19:05:56.648Z"
   },
   {
    "duration": -117,
    "start_time": "2022-02-18T19:05:56.652Z"
   },
   {
    "duration": -120,
    "start_time": "2022-02-18T19:05:56.657Z"
   },
   {
    "duration": -123,
    "start_time": "2022-02-18T19:05:56.662Z"
   },
   {
    "duration": -127,
    "start_time": "2022-02-18T19:05:56.667Z"
   },
   {
    "duration": -129,
    "start_time": "2022-02-18T19:05:56.671Z"
   },
   {
    "duration": -134,
    "start_time": "2022-02-18T19:05:56.678Z"
   },
   {
    "duration": -138,
    "start_time": "2022-02-18T19:05:56.683Z"
   },
   {
    "duration": -142,
    "start_time": "2022-02-18T19:05:56.689Z"
   },
   {
    "duration": -145,
    "start_time": "2022-02-18T19:05:56.694Z"
   },
   {
    "duration": -149,
    "start_time": "2022-02-18T19:05:56.699Z"
   },
   {
    "duration": -194,
    "start_time": "2022-02-18T19:05:56.745Z"
   },
   {
    "duration": -199,
    "start_time": "2022-02-18T19:05:56.751Z"
   },
   {
    "duration": -202,
    "start_time": "2022-02-18T19:05:56.755Z"
   },
   {
    "duration": -207,
    "start_time": "2022-02-18T19:05:56.761Z"
   },
   {
    "duration": -212,
    "start_time": "2022-02-18T19:05:56.766Z"
   },
   {
    "duration": -215,
    "start_time": "2022-02-18T19:05:56.770Z"
   },
   {
    "duration": -219,
    "start_time": "2022-02-18T19:05:56.775Z"
   },
   {
    "duration": -222,
    "start_time": "2022-02-18T19:05:56.780Z"
   },
   {
    "duration": -226,
    "start_time": "2022-02-18T19:05:56.785Z"
   },
   {
    "duration": -230,
    "start_time": "2022-02-18T19:05:56.790Z"
   },
   {
    "duration": -233,
    "start_time": "2022-02-18T19:05:56.794Z"
   },
   {
    "duration": -237,
    "start_time": "2022-02-18T19:05:56.799Z"
   },
   {
    "duration": -198,
    "start_time": "2022-02-18T19:05:56.805Z"
   },
   {
    "duration": -201,
    "start_time": "2022-02-18T19:05:56.810Z"
   },
   {
    "duration": -205,
    "start_time": "2022-02-18T19:05:56.815Z"
   },
   {
    "duration": -209,
    "start_time": "2022-02-18T19:05:56.820Z"
   },
   {
    "duration": -213,
    "start_time": "2022-02-18T19:05:56.825Z"
   },
   {
    "duration": -217,
    "start_time": "2022-02-18T19:05:56.830Z"
   },
   {
    "duration": -220,
    "start_time": "2022-02-18T19:05:56.834Z"
   },
   {
    "duration": -224,
    "start_time": "2022-02-18T19:05:56.840Z"
   },
   {
    "duration": -239,
    "start_time": "2022-02-18T19:05:56.856Z"
   },
   {
    "duration": 1355,
    "start_time": "2022-02-18T19:06:38.640Z"
   },
   {
    "duration": 236,
    "start_time": "2022-02-18T19:06:39.997Z"
   },
   {
    "duration": 138,
    "start_time": "2022-02-18T19:06:40.236Z"
   },
   {
    "duration": 196,
    "start_time": "2022-02-18T19:06:40.377Z"
   },
   {
    "duration": 97,
    "start_time": "2022-02-18T19:06:40.576Z"
   },
   {
    "duration": 132,
    "start_time": "2022-02-18T19:06:40.675Z"
   },
   {
    "duration": 51,
    "start_time": "2022-02-18T19:06:40.810Z"
   },
   {
    "duration": 22,
    "start_time": "2022-02-18T19:06:40.864Z"
   },
   {
    "duration": 20,
    "start_time": "2022-02-18T19:06:40.889Z"
   },
   {
    "duration": 40,
    "start_time": "2022-02-18T19:06:40.911Z"
   },
   {
    "duration": 7,
    "start_time": "2022-02-18T19:06:40.953Z"
   },
   {
    "duration": 111,
    "start_time": "2022-02-18T19:06:40.962Z"
   },
   {
    "duration": 84,
    "start_time": "2022-02-18T19:06:41.076Z"
   },
   {
    "duration": 70,
    "start_time": "2022-02-18T19:06:41.163Z"
   },
   {
    "duration": 29,
    "start_time": "2022-02-18T19:06:41.235Z"
   },
   {
    "duration": 90,
    "start_time": "2022-02-18T19:06:41.266Z"
   },
   {
    "duration": 48,
    "start_time": "2022-02-18T19:06:41.359Z"
   },
   {
    "duration": 31,
    "start_time": "2022-02-18T19:06:41.409Z"
   },
   {
    "duration": 22,
    "start_time": "2022-02-18T19:06:41.442Z"
   },
   {
    "duration": 5,
    "start_time": "2022-02-18T19:06:41.467Z"
   },
   {
    "duration": 38,
    "start_time": "2022-02-18T19:06:41.475Z"
   },
   {
    "duration": 9,
    "start_time": "2022-02-18T19:06:41.516Z"
   },
   {
    "duration": 21,
    "start_time": "2022-02-18T19:06:41.531Z"
   },
   {
    "duration": 15,
    "start_time": "2022-02-18T19:06:41.554Z"
   },
   {
    "duration": 4,
    "start_time": "2022-02-18T19:06:41.571Z"
   },
   {
    "duration": 42,
    "start_time": "2022-02-18T19:06:41.577Z"
   },
   {
    "duration": 8,
    "start_time": "2022-02-18T19:06:41.621Z"
   },
   {
    "duration": 43,
    "start_time": "2022-02-18T19:06:41.631Z"
   },
   {
    "duration": 2,
    "start_time": "2022-02-18T19:06:41.676Z"
   },
   {
    "duration": 228,
    "start_time": "2022-02-18T19:06:41.680Z"
   },
   {
    "duration": 26,
    "start_time": "2022-02-18T19:06:41.910Z"
   },
   {
    "duration": 28,
    "start_time": "2022-02-18T19:06:41.937Z"
   },
   {
    "duration": 644,
    "start_time": "2022-02-18T19:06:41.968Z"
   },
   {
    "duration": -87,
    "start_time": "2022-02-18T19:06:42.701Z"
   },
   {
    "duration": -92,
    "start_time": "2022-02-18T19:06:42.707Z"
   },
   {
    "duration": -94,
    "start_time": "2022-02-18T19:06:42.711Z"
   },
   {
    "duration": -98,
    "start_time": "2022-02-18T19:06:42.716Z"
   },
   {
    "duration": -102,
    "start_time": "2022-02-18T19:06:42.721Z"
   },
   {
    "duration": -107,
    "start_time": "2022-02-18T19:06:42.727Z"
   },
   {
    "duration": -110,
    "start_time": "2022-02-18T19:06:42.731Z"
   },
   {
    "duration": -123,
    "start_time": "2022-02-18T19:06:42.745Z"
   },
   {
    "duration": -127,
    "start_time": "2022-02-18T19:06:42.750Z"
   },
   {
    "duration": -131,
    "start_time": "2022-02-18T19:06:42.755Z"
   },
   {
    "duration": -135,
    "start_time": "2022-02-18T19:06:42.760Z"
   },
   {
    "duration": -139,
    "start_time": "2022-02-18T19:06:42.765Z"
   },
   {
    "duration": -143,
    "start_time": "2022-02-18T19:06:42.770Z"
   },
   {
    "duration": -146,
    "start_time": "2022-02-18T19:06:42.774Z"
   },
   {
    "duration": -150,
    "start_time": "2022-02-18T19:06:42.779Z"
   },
   {
    "duration": -154,
    "start_time": "2022-02-18T19:06:42.784Z"
   },
   {
    "duration": -156,
    "start_time": "2022-02-18T19:06:42.788Z"
   },
   {
    "duration": -161,
    "start_time": "2022-02-18T19:06:42.793Z"
   },
   {
    "duration": -164,
    "start_time": "2022-02-18T19:06:42.798Z"
   },
   {
    "duration": -168,
    "start_time": "2022-02-18T19:06:42.803Z"
   },
   {
    "duration": -171,
    "start_time": "2022-02-18T19:06:42.807Z"
   },
   {
    "duration": -175,
    "start_time": "2022-02-18T19:06:42.812Z"
   },
   {
    "duration": -179,
    "start_time": "2022-02-18T19:06:42.817Z"
   },
   {
    "duration": -193,
    "start_time": "2022-02-18T19:06:42.833Z"
   },
   {
    "duration": -196,
    "start_time": "2022-02-18T19:06:42.837Z"
   },
   {
    "duration": -200,
    "start_time": "2022-02-18T19:06:42.842Z"
   },
   {
    "duration": -204,
    "start_time": "2022-02-18T19:06:42.847Z"
   },
   {
    "duration": -207,
    "start_time": "2022-02-18T19:06:42.851Z"
   },
   {
    "duration": -211,
    "start_time": "2022-02-18T19:06:42.856Z"
   },
   {
    "duration": -216,
    "start_time": "2022-02-18T19:06:42.862Z"
   },
   {
    "duration": -219,
    "start_time": "2022-02-18T19:06:42.866Z"
   },
   {
    "duration": -223,
    "start_time": "2022-02-18T19:06:42.871Z"
   },
   {
    "duration": -226,
    "start_time": "2022-02-18T19:06:42.876Z"
   },
   {
    "duration": 5,
    "start_time": "2022-02-18T19:08:34.100Z"
   },
   {
    "duration": 10,
    "start_time": "2022-02-18T19:09:08.626Z"
   },
   {
    "duration": 9,
    "start_time": "2022-02-18T19:09:29.734Z"
   },
   {
    "duration": 7,
    "start_time": "2022-02-18T19:10:08.931Z"
   },
   {
    "duration": 24,
    "start_time": "2022-02-18T19:11:46.970Z"
   },
   {
    "duration": 32,
    "start_time": "2022-02-18T19:11:58.280Z"
   },
   {
    "duration": 19,
    "start_time": "2022-02-18T19:12:07.852Z"
   },
   {
    "duration": 29,
    "start_time": "2022-02-18T19:12:13.723Z"
   },
   {
    "duration": 560,
    "start_time": "2022-02-18T19:12:28.596Z"
   },
   {
    "duration": 39,
    "start_time": "2022-02-18T19:12:42.281Z"
   },
   {
    "duration": 424,
    "start_time": "2022-02-18T19:14:32.916Z"
   },
   {
    "duration": 39,
    "start_time": "2022-02-18T19:14:41.136Z"
   },
   {
    "duration": 267,
    "start_time": "2022-02-18T19:15:27.068Z"
   },
   {
    "duration": 27,
    "start_time": "2022-02-18T19:15:51.559Z"
   },
   {
    "duration": 72,
    "start_time": "2022-02-18T19:16:04.253Z"
   },
   {
    "duration": 142,
    "start_time": "2022-02-18T19:16:51.336Z"
   },
   {
    "duration": 229,
    "start_time": "2022-02-18T19:17:06.261Z"
   },
   {
    "duration": 534,
    "start_time": "2022-02-18T19:17:34.449Z"
   },
   {
    "duration": 93,
    "start_time": "2022-02-18T19:22:07.627Z"
   },
   {
    "duration": 1238,
    "start_time": "2022-02-18T19:22:45.091Z"
   },
   {
    "duration": 200,
    "start_time": "2022-02-18T19:22:46.331Z"
   },
   {
    "duration": 117,
    "start_time": "2022-02-18T19:22:46.533Z"
   },
   {
    "duration": 175,
    "start_time": "2022-02-18T19:22:46.652Z"
   },
   {
    "duration": 81,
    "start_time": "2022-02-18T19:22:46.829Z"
   },
   {
    "duration": 121,
    "start_time": "2022-02-18T19:22:46.912Z"
   },
   {
    "duration": 48,
    "start_time": "2022-02-18T19:22:47.036Z"
   },
   {
    "duration": 33,
    "start_time": "2022-02-18T19:22:47.087Z"
   },
   {
    "duration": 9,
    "start_time": "2022-02-18T19:22:47.123Z"
   },
   {
    "duration": 53,
    "start_time": "2022-02-18T19:22:47.133Z"
   },
   {
    "duration": 8,
    "start_time": "2022-02-18T19:22:47.188Z"
   },
   {
    "duration": 104,
    "start_time": "2022-02-18T19:22:47.198Z"
   },
   {
    "duration": 68,
    "start_time": "2022-02-18T19:22:47.304Z"
   },
   {
    "duration": 66,
    "start_time": "2022-02-18T19:22:47.374Z"
   },
   {
    "duration": 24,
    "start_time": "2022-02-18T19:22:47.442Z"
   },
   {
    "duration": 77,
    "start_time": "2022-02-18T19:22:47.468Z"
   },
   {
    "duration": 33,
    "start_time": "2022-02-18T19:22:47.547Z"
   },
   {
    "duration": 36,
    "start_time": "2022-02-18T19:22:47.582Z"
   },
   {
    "duration": 25,
    "start_time": "2022-02-18T19:22:47.620Z"
   },
   {
    "duration": 3,
    "start_time": "2022-02-18T19:22:47.647Z"
   },
   {
    "duration": 155,
    "start_time": "2022-02-18T19:22:47.652Z"
   },
   {
    "duration": 964,
    "start_time": "2022-02-18T19:22:47.809Z"
   },
   {
    "duration": 560,
    "start_time": "2022-02-18T19:22:48.777Z"
   },
   {
    "duration": 22,
    "start_time": "2022-02-18T19:22:49.340Z"
   },
   {
    "duration": 620,
    "start_time": "2022-02-18T19:22:49.364Z"
   },
   {
    "duration": 21,
    "start_time": "2022-02-18T19:22:49.986Z"
   },
   {
    "duration": 332,
    "start_time": "2022-02-18T19:22:50.009Z"
   },
   {
    "duration": 3,
    "start_time": "2022-02-18T19:22:50.343Z"
   },
   {
    "duration": 69,
    "start_time": "2022-02-18T19:22:50.348Z"
   },
   {
    "duration": 388,
    "start_time": "2022-02-18T19:22:50.419Z"
   },
   {
    "duration": 3,
    "start_time": "2022-02-18T19:22:50.809Z"
   },
   {
    "duration": 48449,
    "start_time": "2022-02-18T19:22:50.814Z"
   },
   {
    "duration": 23,
    "start_time": "2022-02-18T19:23:39.266Z"
   },
   {
    "duration": 391,
    "start_time": "2022-02-18T19:23:39.291Z"
   },
   {
    "duration": 36,
    "start_time": "2022-02-18T19:23:39.684Z"
   },
   {
    "duration": 58,
    "start_time": "2022-02-18T19:23:39.722Z"
   },
   {
    "duration": 344,
    "start_time": "2022-02-18T19:23:39.782Z"
   },
   {
    "duration": -16,
    "start_time": "2022-02-18T19:23:40.144Z"
   },
   {
    "duration": -22,
    "start_time": "2022-02-18T19:23:40.152Z"
   },
   {
    "duration": -29,
    "start_time": "2022-02-18T19:23:40.160Z"
   },
   {
    "duration": -35,
    "start_time": "2022-02-18T19:23:40.167Z"
   },
   {
    "duration": -43,
    "start_time": "2022-02-18T19:23:40.176Z"
   },
   {
    "duration": -47,
    "start_time": "2022-02-18T19:23:40.182Z"
   },
   {
    "duration": -52,
    "start_time": "2022-02-18T19:23:40.188Z"
   },
   {
    "duration": -56,
    "start_time": "2022-02-18T19:23:40.193Z"
   },
   {
    "duration": -61,
    "start_time": "2022-02-18T19:23:40.199Z"
   },
   {
    "duration": -68,
    "start_time": "2022-02-18T19:23:40.207Z"
   },
   {
    "duration": -72,
    "start_time": "2022-02-18T19:23:40.212Z"
   },
   {
    "duration": -77,
    "start_time": "2022-02-18T19:23:40.218Z"
   },
   {
    "duration": -82,
    "start_time": "2022-02-18T19:23:40.224Z"
   },
   {
    "duration": -87,
    "start_time": "2022-02-18T19:23:40.230Z"
   },
   {
    "duration": -107,
    "start_time": "2022-02-18T19:23:40.251Z"
   },
   {
    "duration": -112,
    "start_time": "2022-02-18T19:23:40.257Z"
   },
   {
    "duration": -117,
    "start_time": "2022-02-18T19:23:40.264Z"
   },
   {
    "duration": -122,
    "start_time": "2022-02-18T19:23:40.270Z"
   },
   {
    "duration": -128,
    "start_time": "2022-02-18T19:23:40.277Z"
   },
   {
    "duration": -132,
    "start_time": "2022-02-18T19:23:40.282Z"
   },
   {
    "duration": -136,
    "start_time": "2022-02-18T19:23:40.288Z"
   },
   {
    "duration": -139,
    "start_time": "2022-02-18T19:23:40.293Z"
   },
   {
    "duration": -143,
    "start_time": "2022-02-18T19:23:40.298Z"
   },
   {
    "duration": -147,
    "start_time": "2022-02-18T19:23:40.303Z"
   },
   {
    "duration": -151,
    "start_time": "2022-02-18T19:23:40.308Z"
   },
   {
    "duration": -155,
    "start_time": "2022-02-18T19:23:40.313Z"
   },
   {
    "duration": -159,
    "start_time": "2022-02-18T19:23:40.318Z"
   },
   {
    "duration": -162,
    "start_time": "2022-02-18T19:23:40.322Z"
   },
   {
    "duration": -166,
    "start_time": "2022-02-18T19:23:40.327Z"
   },
   {
    "duration": -170,
    "start_time": "2022-02-18T19:23:40.332Z"
   },
   {
    "duration": -173,
    "start_time": "2022-02-18T19:23:40.337Z"
   },
   {
    "duration": -176,
    "start_time": "2022-02-18T19:23:40.341Z"
   },
   {
    "duration": 47,
    "start_time": "2022-02-18T19:23:50.633Z"
   },
   {
    "duration": 74,
    "start_time": "2022-02-18T19:24:28.692Z"
   },
   {
    "duration": 843,
    "start_time": "2022-02-18T19:24:36.594Z"
   },
   {
    "duration": 1259,
    "start_time": "2022-02-18T19:25:55.371Z"
   },
   {
    "duration": 223,
    "start_time": "2022-02-18T19:25:56.632Z"
   },
   {
    "duration": 119,
    "start_time": "2022-02-18T19:25:56.857Z"
   },
   {
    "duration": 165,
    "start_time": "2022-02-18T19:25:56.978Z"
   },
   {
    "duration": 80,
    "start_time": "2022-02-18T19:25:57.146Z"
   },
   {
    "duration": 116,
    "start_time": "2022-02-18T19:25:57.228Z"
   },
   {
    "duration": 62,
    "start_time": "2022-02-18T19:25:57.346Z"
   },
   {
    "duration": 23,
    "start_time": "2022-02-18T19:25:57.411Z"
   },
   {
    "duration": 7,
    "start_time": "2022-02-18T19:25:57.437Z"
   },
   {
    "duration": 34,
    "start_time": "2022-02-18T19:25:57.446Z"
   },
   {
    "duration": 7,
    "start_time": "2022-02-18T19:25:57.482Z"
   },
   {
    "duration": 83,
    "start_time": "2022-02-18T19:25:57.508Z"
   },
   {
    "duration": 80,
    "start_time": "2022-02-18T19:25:57.592Z"
   },
   {
    "duration": 67,
    "start_time": "2022-02-18T19:25:57.674Z"
   },
   {
    "duration": 24,
    "start_time": "2022-02-18T19:25:57.743Z"
   },
   {
    "duration": 85,
    "start_time": "2022-02-18T19:25:57.769Z"
   },
   {
    "duration": 31,
    "start_time": "2022-02-18T19:25:57.856Z"
   },
   {
    "duration": 42,
    "start_time": "2022-02-18T19:25:57.889Z"
   },
   {
    "duration": 27,
    "start_time": "2022-02-18T19:25:57.933Z"
   },
   {
    "duration": 4,
    "start_time": "2022-02-18T19:25:57.962Z"
   },
   {
    "duration": 386,
    "start_time": "2022-02-18T19:25:57.967Z"
   },
   {
    "duration": -73,
    "start_time": "2022-02-18T19:25:58.430Z"
   },
   {
    "duration": -78,
    "start_time": "2022-02-18T19:25:58.437Z"
   },
   {
    "duration": -108,
    "start_time": "2022-02-18T19:25:58.468Z"
   },
   {
    "duration": -112,
    "start_time": "2022-02-18T19:25:58.474Z"
   },
   {
    "duration": -123,
    "start_time": "2022-02-18T19:25:58.486Z"
   },
   {
    "duration": -133,
    "start_time": "2022-02-18T19:25:58.497Z"
   },
   {
    "duration": -138,
    "start_time": "2022-02-18T19:25:58.503Z"
   },
   {
    "duration": -147,
    "start_time": "2022-02-18T19:25:58.513Z"
   },
   {
    "duration": -153,
    "start_time": "2022-02-18T19:25:58.520Z"
   },
   {
    "duration": -162,
    "start_time": "2022-02-18T19:25:58.530Z"
   },
   {
    "duration": -165,
    "start_time": "2022-02-18T19:25:58.534Z"
   },
   {
    "duration": -170,
    "start_time": "2022-02-18T19:25:58.541Z"
   },
   {
    "duration": -179,
    "start_time": "2022-02-18T19:25:58.551Z"
   },
   {
    "duration": -184,
    "start_time": "2022-02-18T19:25:58.557Z"
   },
   {
    "duration": -193,
    "start_time": "2022-02-18T19:25:58.567Z"
   },
   {
    "duration": -198,
    "start_time": "2022-02-18T19:25:58.573Z"
   },
   {
    "duration": -207,
    "start_time": "2022-02-18T19:25:58.583Z"
   },
   {
    "duration": -213,
    "start_time": "2022-02-18T19:25:58.589Z"
   },
   {
    "duration": -222,
    "start_time": "2022-02-18T19:25:58.600Z"
   },
   {
    "duration": -227,
    "start_time": "2022-02-18T19:25:58.606Z"
   },
   {
    "duration": -236,
    "start_time": "2022-02-18T19:25:58.615Z"
   },
   {
    "duration": -241,
    "start_time": "2022-02-18T19:25:58.621Z"
   },
   {
    "duration": -251,
    "start_time": "2022-02-18T19:25:58.632Z"
   },
   {
    "duration": -255,
    "start_time": "2022-02-18T19:25:58.637Z"
   },
   {
    "duration": -261,
    "start_time": "2022-02-18T19:25:58.644Z"
   },
   {
    "duration": -271,
    "start_time": "2022-02-18T19:25:58.655Z"
   },
   {
    "duration": -281,
    "start_time": "2022-02-18T19:25:58.666Z"
   },
   {
    "duration": -287,
    "start_time": "2022-02-18T19:25:58.674Z"
   },
   {
    "duration": -297,
    "start_time": "2022-02-18T19:25:58.685Z"
   },
   {
    "duration": -302,
    "start_time": "2022-02-18T19:25:58.691Z"
   },
   {
    "duration": -310,
    "start_time": "2022-02-18T19:25:58.700Z"
   },
   {
    "duration": -315,
    "start_time": "2022-02-18T19:25:58.706Z"
   },
   {
    "duration": -324,
    "start_time": "2022-02-18T19:25:58.716Z"
   },
   {
    "duration": -329,
    "start_time": "2022-02-18T19:25:58.722Z"
   },
   {
    "duration": -338,
    "start_time": "2022-02-18T19:25:58.732Z"
   },
   {
    "duration": -343,
    "start_time": "2022-02-18T19:25:58.738Z"
   },
   {
    "duration": -352,
    "start_time": "2022-02-18T19:25:58.748Z"
   },
   {
    "duration": -355,
    "start_time": "2022-02-18T19:25:58.752Z"
   },
   {
    "duration": -365,
    "start_time": "2022-02-18T19:25:58.763Z"
   },
   {
    "duration": -361,
    "start_time": "2022-02-18T19:25:58.768Z"
   },
   {
    "duration": -371,
    "start_time": "2022-02-18T19:25:58.779Z"
   },
   {
    "duration": -373,
    "start_time": "2022-02-18T19:25:58.783Z"
   },
   {
    "duration": -378,
    "start_time": "2022-02-18T19:25:58.789Z"
   },
   {
    "duration": -387,
    "start_time": "2022-02-18T19:25:58.799Z"
   },
   {
    "duration": -392,
    "start_time": "2022-02-18T19:25:58.806Z"
   },
   {
    "duration": -395,
    "start_time": "2022-02-18T19:25:58.810Z"
   },
   {
    "duration": -399,
    "start_time": "2022-02-18T19:25:58.815Z"
   },
   {
    "duration": -402,
    "start_time": "2022-02-18T19:25:58.820Z"
   },
   {
    "duration": 145,
    "start_time": "2022-02-18T19:26:40.018Z"
   },
   {
    "duration": 921,
    "start_time": "2022-02-18T19:26:55.641Z"
   },
   {
    "duration": 316,
    "start_time": "2022-02-18T19:27:10.386Z"
   },
   {
    "duration": 338,
    "start_time": "2022-02-18T19:28:25.544Z"
   },
   {
    "duration": 831,
    "start_time": "2022-02-18T19:28:28.581Z"
   },
   {
    "duration": 533,
    "start_time": "2022-02-18T19:29:06.826Z"
   },
   {
    "duration": 345,
    "start_time": "2022-02-18T19:29:09.485Z"
   },
   {
    "duration": 1198,
    "start_time": "2022-02-18T19:29:35.767Z"
   },
   {
    "duration": 199,
    "start_time": "2022-02-18T19:29:36.967Z"
   },
   {
    "duration": 124,
    "start_time": "2022-02-18T19:29:37.168Z"
   },
   {
    "duration": 175,
    "start_time": "2022-02-18T19:29:37.294Z"
   },
   {
    "duration": 82,
    "start_time": "2022-02-18T19:29:37.471Z"
   },
   {
    "duration": 118,
    "start_time": "2022-02-18T19:29:37.555Z"
   },
   {
    "duration": 63,
    "start_time": "2022-02-18T19:29:37.675Z"
   },
   {
    "duration": 23,
    "start_time": "2022-02-18T19:29:37.741Z"
   },
   {
    "duration": 7,
    "start_time": "2022-02-18T19:29:37.767Z"
   },
   {
    "duration": 40,
    "start_time": "2022-02-18T19:29:37.776Z"
   },
   {
    "duration": 9,
    "start_time": "2022-02-18T19:29:37.818Z"
   },
   {
    "duration": 101,
    "start_time": "2022-02-18T19:29:37.829Z"
   },
   {
    "duration": 84,
    "start_time": "2022-02-18T19:29:37.932Z"
   },
   {
    "duration": 50,
    "start_time": "2022-02-18T19:29:38.019Z"
   },
   {
    "duration": 44,
    "start_time": "2022-02-18T19:29:38.072Z"
   },
   {
    "duration": 53,
    "start_time": "2022-02-18T19:29:38.119Z"
   },
   {
    "duration": 51,
    "start_time": "2022-02-18T19:29:38.174Z"
   },
   {
    "duration": 25,
    "start_time": "2022-02-18T19:29:38.227Z"
   },
   {
    "duration": 26,
    "start_time": "2022-02-18T19:29:38.254Z"
   },
   {
    "duration": 27,
    "start_time": "2022-02-18T19:29:38.283Z"
   },
   {
    "duration": 140,
    "start_time": "2022-02-18T19:29:38.312Z"
   },
   {
    "duration": 954,
    "start_time": "2022-02-18T19:29:38.455Z"
   },
   {
    "duration": 330,
    "start_time": "2022-02-18T19:29:39.415Z"
   },
   {
    "duration": 847,
    "start_time": "2022-02-18T19:29:39.750Z"
   },
   {
    "duration": 642,
    "start_time": "2022-02-18T19:29:40.599Z"
   },
   {
    "duration": 352,
    "start_time": "2022-02-18T19:29:41.243Z"
   },
   {
    "duration": 11,
    "start_time": "2022-02-18T19:29:41.597Z"
   },
   {
    "duration": 5876,
    "start_time": "2022-02-18T19:29:41.611Z"
   },
   {
    "duration": 20,
    "start_time": "2022-02-18T19:29:47.469Z"
   },
   {
    "duration": 15,
    "start_time": "2022-02-18T19:29:47.476Z"
   },
   {
    "duration": 10,
    "start_time": "2022-02-18T19:29:47.482Z"
   },
   {
    "duration": 5,
    "start_time": "2022-02-18T19:29:47.488Z"
   },
   {
    "duration": 1,
    "start_time": "2022-02-18T19:29:47.494Z"
   },
   {
    "duration": -4,
    "start_time": "2022-02-18T19:29:47.500Z"
   },
   {
    "duration": -8,
    "start_time": "2022-02-18T19:29:47.505Z"
   },
   {
    "duration": -12,
    "start_time": "2022-02-18T19:29:47.510Z"
   },
   {
    "duration": -16,
    "start_time": "2022-02-18T19:29:47.515Z"
   },
   {
    "duration": -19,
    "start_time": "2022-02-18T19:29:47.520Z"
   },
   {
    "duration": -22,
    "start_time": "2022-02-18T19:29:47.524Z"
   },
   {
    "duration": -27,
    "start_time": "2022-02-18T19:29:47.530Z"
   },
   {
    "duration": -42,
    "start_time": "2022-02-18T19:29:47.546Z"
   },
   {
    "duration": -48,
    "start_time": "2022-02-18T19:29:47.553Z"
   },
   {
    "duration": -52,
    "start_time": "2022-02-18T19:29:47.558Z"
   },
   {
    "duration": -56,
    "start_time": "2022-02-18T19:29:47.563Z"
   },
   {
    "duration": -59,
    "start_time": "2022-02-18T19:29:47.567Z"
   },
   {
    "duration": -63,
    "start_time": "2022-02-18T19:29:47.572Z"
   },
   {
    "duration": -67,
    "start_time": "2022-02-18T19:29:47.578Z"
   },
   {
    "duration": -71,
    "start_time": "2022-02-18T19:29:47.583Z"
   },
   {
    "duration": -74,
    "start_time": "2022-02-18T19:29:47.587Z"
   },
   {
    "duration": -78,
    "start_time": "2022-02-18T19:29:47.592Z"
   },
   {
    "duration": -81,
    "start_time": "2022-02-18T19:29:47.597Z"
   },
   {
    "duration": -85,
    "start_time": "2022-02-18T19:29:47.602Z"
   },
   {
    "duration": -88,
    "start_time": "2022-02-18T19:29:47.606Z"
   },
   {
    "duration": -93,
    "start_time": "2022-02-18T19:29:47.612Z"
   },
   {
    "duration": -96,
    "start_time": "2022-02-18T19:29:47.616Z"
   },
   {
    "duration": -100,
    "start_time": "2022-02-18T19:29:47.621Z"
   },
   {
    "duration": -104,
    "start_time": "2022-02-18T19:29:47.626Z"
   },
   {
    "duration": -108,
    "start_time": "2022-02-18T19:29:47.631Z"
   },
   {
    "duration": -111,
    "start_time": "2022-02-18T19:29:47.635Z"
   },
   {
    "duration": -115,
    "start_time": "2022-02-18T19:29:47.640Z"
   },
   {
    "duration": -129,
    "start_time": "2022-02-18T19:29:47.655Z"
   },
   {
    "duration": -134,
    "start_time": "2022-02-18T19:29:47.661Z"
   },
   {
    "duration": -138,
    "start_time": "2022-02-18T19:29:47.666Z"
   },
   {
    "duration": -142,
    "start_time": "2022-02-18T19:29:47.671Z"
   },
   {
    "duration": -146,
    "start_time": "2022-02-18T19:29:47.676Z"
   },
   {
    "duration": -151,
    "start_time": "2022-02-18T19:29:47.682Z"
   },
   {
    "duration": -154,
    "start_time": "2022-02-18T19:29:47.686Z"
   },
   {
    "duration": -158,
    "start_time": "2022-02-18T19:29:47.691Z"
   },
   {
    "duration": 1210,
    "start_time": "2022-02-18T19:31:38.719Z"
   },
   {
    "duration": 216,
    "start_time": "2022-02-18T19:31:39.932Z"
   },
   {
    "duration": 124,
    "start_time": "2022-02-18T19:31:40.151Z"
   },
   {
    "duration": 177,
    "start_time": "2022-02-18T19:31:40.278Z"
   },
   {
    "duration": 86,
    "start_time": "2022-02-18T19:31:40.458Z"
   },
   {
    "duration": 128,
    "start_time": "2022-02-18T19:31:40.546Z"
   },
   {
    "duration": 65,
    "start_time": "2022-02-18T19:31:40.677Z"
   },
   {
    "duration": 22,
    "start_time": "2022-02-18T19:31:40.746Z"
   },
   {
    "duration": 6,
    "start_time": "2022-02-18T19:31:40.771Z"
   },
   {
    "duration": 45,
    "start_time": "2022-02-18T19:31:40.779Z"
   },
   {
    "duration": 8,
    "start_time": "2022-02-18T19:31:40.826Z"
   },
   {
    "duration": 110,
    "start_time": "2022-02-18T19:31:40.836Z"
   },
   {
    "duration": 80,
    "start_time": "2022-02-18T19:31:40.948Z"
   },
   {
    "duration": 51,
    "start_time": "2022-02-18T19:31:41.030Z"
   },
   {
    "duration": 43,
    "start_time": "2022-02-18T19:31:41.084Z"
   },
   {
    "duration": 54,
    "start_time": "2022-02-18T19:31:41.129Z"
   },
   {
    "duration": 52,
    "start_time": "2022-02-18T19:31:41.185Z"
   },
   {
    "duration": 25,
    "start_time": "2022-02-18T19:31:41.239Z"
   },
   {
    "duration": 49,
    "start_time": "2022-02-18T19:31:41.267Z"
   },
   {
    "duration": 4,
    "start_time": "2022-02-18T19:31:41.318Z"
   },
   {
    "duration": 153,
    "start_time": "2022-02-18T19:31:41.324Z"
   },
   {
    "duration": 892,
    "start_time": "2022-02-18T19:31:41.478Z"
   },
   {
    "duration": 319,
    "start_time": "2022-02-18T19:31:42.375Z"
   },
   {
    "duration": 885,
    "start_time": "2022-02-18T19:31:42.708Z"
   },
   {
    "duration": 473,
    "start_time": "2022-02-18T19:31:43.595Z"
   },
   {
    "duration": 331,
    "start_time": "2022-02-18T19:31:44.070Z"
   },
   {
    "duration": 3,
    "start_time": "2022-02-18T19:31:44.407Z"
   },
   {
    "duration": 5624,
    "start_time": "2022-02-18T19:31:44.412Z"
   },
   {
    "duration": 30,
    "start_time": "2022-02-18T19:31:50.008Z"
   },
   {
    "duration": 26,
    "start_time": "2022-02-18T19:31:50.014Z"
   },
   {
    "duration": 19,
    "start_time": "2022-02-18T19:31:50.022Z"
   },
   {
    "duration": 16,
    "start_time": "2022-02-18T19:31:50.026Z"
   },
   {
    "duration": 11,
    "start_time": "2022-02-18T19:31:50.032Z"
   },
   {
    "duration": 7,
    "start_time": "2022-02-18T19:31:50.037Z"
   },
   {
    "duration": 2,
    "start_time": "2022-02-18T19:31:50.043Z"
   },
   {
    "duration": -13,
    "start_time": "2022-02-18T19:31:50.059Z"
   },
   {
    "duration": -18,
    "start_time": "2022-02-18T19:31:50.065Z"
   },
   {
    "duration": -25,
    "start_time": "2022-02-18T19:31:50.073Z"
   },
   {
    "duration": -29,
    "start_time": "2022-02-18T19:31:50.079Z"
   },
   {
    "duration": -33,
    "start_time": "2022-02-18T19:31:50.084Z"
   },
   {
    "duration": -38,
    "start_time": "2022-02-18T19:31:50.090Z"
   },
   {
    "duration": -43,
    "start_time": "2022-02-18T19:31:50.096Z"
   },
   {
    "duration": -47,
    "start_time": "2022-02-18T19:31:50.101Z"
   },
   {
    "duration": -51,
    "start_time": "2022-02-18T19:31:50.106Z"
   },
   {
    "duration": -55,
    "start_time": "2022-02-18T19:31:50.112Z"
   },
   {
    "duration": -62,
    "start_time": "2022-02-18T19:31:50.120Z"
   },
   {
    "duration": -66,
    "start_time": "2022-02-18T19:31:50.125Z"
   },
   {
    "duration": -70,
    "start_time": "2022-02-18T19:31:50.130Z"
   },
   {
    "duration": -75,
    "start_time": "2022-02-18T19:31:50.136Z"
   },
   {
    "duration": -80,
    "start_time": "2022-02-18T19:31:50.141Z"
   },
   {
    "duration": -84,
    "start_time": "2022-02-18T19:31:50.146Z"
   },
   {
    "duration": -88,
    "start_time": "2022-02-18T19:31:50.151Z"
   },
   {
    "duration": -100,
    "start_time": "2022-02-18T19:31:50.164Z"
   },
   {
    "duration": -105,
    "start_time": "2022-02-18T19:31:50.170Z"
   },
   {
    "duration": -109,
    "start_time": "2022-02-18T19:31:50.175Z"
   },
   {
    "duration": -113,
    "start_time": "2022-02-18T19:31:50.180Z"
   },
   {
    "duration": -117,
    "start_time": "2022-02-18T19:31:50.185Z"
   },
   {
    "duration": -121,
    "start_time": "2022-02-18T19:31:50.190Z"
   },
   {
    "duration": -125,
    "start_time": "2022-02-18T19:31:50.195Z"
   },
   {
    "duration": -128,
    "start_time": "2022-02-18T19:31:50.199Z"
   },
   {
    "duration": -134,
    "start_time": "2022-02-18T19:31:50.205Z"
   },
   {
    "duration": -137,
    "start_time": "2022-02-18T19:31:50.209Z"
   },
   {
    "duration": -144,
    "start_time": "2022-02-18T19:31:50.217Z"
   },
   {
    "duration": -148,
    "start_time": "2022-02-18T19:31:50.222Z"
   },
   {
    "duration": -153,
    "start_time": "2022-02-18T19:31:50.228Z"
   },
   {
    "duration": -156,
    "start_time": "2022-02-18T19:31:50.232Z"
   },
   {
    "duration": -161,
    "start_time": "2022-02-18T19:31:50.238Z"
   },
   {
    "duration": -165,
    "start_time": "2022-02-18T19:31:50.243Z"
   },
   {
    "duration": 1258,
    "start_time": "2022-02-18T19:33:11.783Z"
   },
   {
    "duration": 227,
    "start_time": "2022-02-18T19:33:54.522Z"
   },
   {
    "duration": 2031,
    "start_time": "2022-02-18T19:34:25.832Z"
   },
   {
    "duration": 3223,
    "start_time": "2022-02-18T19:35:00.360Z"
   },
   {
    "duration": 14,
    "start_time": "2022-02-18T19:35:03.571Z"
   },
   {
    "duration": 1219,
    "start_time": "2022-02-18T19:35:09.999Z"
   },
   {
    "duration": 204,
    "start_time": "2022-02-18T19:35:11.221Z"
   },
   {
    "duration": 115,
    "start_time": "2022-02-18T19:35:11.427Z"
   },
   {
    "duration": 165,
    "start_time": "2022-02-18T19:35:11.544Z"
   },
   {
    "duration": 65,
    "start_time": "2022-02-18T19:35:11.711Z"
   },
   {
    "duration": 134,
    "start_time": "2022-02-18T19:35:11.778Z"
   },
   {
    "duration": 51,
    "start_time": "2022-02-18T19:35:11.913Z"
   },
   {
    "duration": 22,
    "start_time": "2022-02-18T19:35:11.967Z"
   },
   {
    "duration": 8,
    "start_time": "2022-02-18T19:35:12.009Z"
   },
   {
    "duration": 30,
    "start_time": "2022-02-18T19:35:12.019Z"
   },
   {
    "duration": 9,
    "start_time": "2022-02-18T19:35:12.052Z"
   },
   {
    "duration": 115,
    "start_time": "2022-02-18T19:35:12.063Z"
   },
   {
    "duration": 76,
    "start_time": "2022-02-18T19:35:12.180Z"
   },
   {
    "duration": 64,
    "start_time": "2022-02-18T19:35:12.258Z"
   },
   {
    "duration": 25,
    "start_time": "2022-02-18T19:35:12.324Z"
   },
   {
    "duration": 81,
    "start_time": "2022-02-18T19:35:12.351Z"
   },
   {
    "duration": 35,
    "start_time": "2022-02-18T19:35:12.434Z"
   },
   {
    "duration": 42,
    "start_time": "2022-02-18T19:35:12.472Z"
   },
   {
    "duration": 27,
    "start_time": "2022-02-18T19:35:12.516Z"
   },
   {
    "duration": 4,
    "start_time": "2022-02-18T19:35:12.545Z"
   },
   {
    "duration": 29,
    "start_time": "2022-02-18T19:35:12.551Z"
   },
   {
    "duration": 49,
    "start_time": "2022-02-18T19:35:12.582Z"
   },
   {
    "duration": 9,
    "start_time": "2022-02-18T19:35:12.635Z"
   },
   {
    "duration": 14,
    "start_time": "2022-02-18T19:35:12.648Z"
   },
   {
    "duration": 5,
    "start_time": "2022-02-18T19:35:12.664Z"
   },
   {
    "duration": 38,
    "start_time": "2022-02-18T19:35:12.671Z"
   },
   {
    "duration": 3,
    "start_time": "2022-02-18T19:35:12.711Z"
   },
   {
    "duration": 33,
    "start_time": "2022-02-18T19:35:12.715Z"
   },
   {
    "duration": 10,
    "start_time": "2022-02-18T19:35:12.750Z"
   },
   {
    "duration": 2,
    "start_time": "2022-02-18T19:35:12.762Z"
   },
   {
    "duration": 188,
    "start_time": "2022-02-18T19:35:12.767Z"
   },
   {
    "duration": 19,
    "start_time": "2022-02-18T19:35:12.957Z"
   },
   {
    "duration": 30,
    "start_time": "2022-02-18T19:35:12.978Z"
   },
   {
    "duration": 21,
    "start_time": "2022-02-18T19:35:13.010Z"
   },
   {
    "duration": 8,
    "start_time": "2022-02-18T19:35:13.033Z"
   },
   {
    "duration": 312,
    "start_time": "2022-02-18T19:35:13.042Z"
   },
   {
    "duration": -6,
    "start_time": "2022-02-18T19:35:13.362Z"
   },
   {
    "duration": -10,
    "start_time": "2022-02-18T19:35:13.367Z"
   },
   {
    "duration": -14,
    "start_time": "2022-02-18T19:35:13.373Z"
   },
   {
    "duration": -17,
    "start_time": "2022-02-18T19:35:13.378Z"
   },
   {
    "duration": -21,
    "start_time": "2022-02-18T19:35:13.383Z"
   },
   {
    "duration": -23,
    "start_time": "2022-02-18T19:35:13.387Z"
   },
   {
    "duration": -27,
    "start_time": "2022-02-18T19:35:13.392Z"
   },
   {
    "duration": -30,
    "start_time": "2022-02-18T19:35:13.397Z"
   },
   {
    "duration": -33,
    "start_time": "2022-02-18T19:35:13.402Z"
   },
   {
    "duration": -37,
    "start_time": "2022-02-18T19:35:13.407Z"
   },
   {
    "duration": -40,
    "start_time": "2022-02-18T19:35:13.412Z"
   },
   {
    "duration": -44,
    "start_time": "2022-02-18T19:35:13.417Z"
   },
   {
    "duration": -48,
    "start_time": "2022-02-18T19:35:13.422Z"
   },
   {
    "duration": -50,
    "start_time": "2022-02-18T19:35:13.426Z"
   },
   {
    "duration": -54,
    "start_time": "2022-02-18T19:35:13.431Z"
   },
   {
    "duration": -57,
    "start_time": "2022-02-18T19:35:13.436Z"
   },
   {
    "duration": -61,
    "start_time": "2022-02-18T19:35:13.441Z"
   },
   {
    "duration": -64,
    "start_time": "2022-02-18T19:35:13.446Z"
   },
   {
    "duration": -68,
    "start_time": "2022-02-18T19:35:13.451Z"
   },
   {
    "duration": -80,
    "start_time": "2022-02-18T19:35:13.465Z"
   },
   {
    "duration": -88,
    "start_time": "2022-02-18T19:35:13.474Z"
   },
   {
    "duration": -91,
    "start_time": "2022-02-18T19:35:13.478Z"
   },
   {
    "duration": -95,
    "start_time": "2022-02-18T19:35:13.483Z"
   },
   {
    "duration": -98,
    "start_time": "2022-02-18T19:35:13.488Z"
   },
   {
    "duration": -101,
    "start_time": "2022-02-18T19:35:13.493Z"
   },
   {
    "duration": -105,
    "start_time": "2022-02-18T19:35:13.498Z"
   },
   {
    "duration": -108,
    "start_time": "2022-02-18T19:35:13.502Z"
   },
   {
    "duration": -112,
    "start_time": "2022-02-18T19:35:13.507Z"
   },
   {
    "duration": -116,
    "start_time": "2022-02-18T19:35:13.512Z"
   },
   {
    "duration": -109,
    "start_time": "2022-02-18T19:35:13.516Z"
   },
   {
    "duration": -112,
    "start_time": "2022-02-18T19:35:13.521Z"
   },
   {
    "duration": -117,
    "start_time": "2022-02-18T19:35:13.527Z"
   },
   {
    "duration": 192,
    "start_time": "2022-02-18T19:36:53.996Z"
   },
   {
    "duration": 7,
    "start_time": "2022-02-18T19:37:36.802Z"
   },
   {
    "duration": 220,
    "start_time": "2022-02-18T19:38:21.853Z"
   },
   {
    "duration": 5,
    "start_time": "2022-02-18T19:38:46.018Z"
   },
   {
    "duration": 232,
    "start_time": "2022-02-18T19:39:17.191Z"
   },
   {
    "duration": 214,
    "start_time": "2022-02-18T19:39:25.775Z"
   },
   {
    "duration": 8,
    "start_time": "2022-02-18T19:40:09.118Z"
   },
   {
    "duration": 196,
    "start_time": "2022-02-18T19:40:28.839Z"
   },
   {
    "duration": 6,
    "start_time": "2022-02-18T19:41:01.500Z"
   },
   {
    "duration": 216,
    "start_time": "2022-02-18T19:44:49.355Z"
   },
   {
    "duration": 185,
    "start_time": "2022-02-18T19:45:51.156Z"
   },
   {
    "duration": 6,
    "start_time": "2022-02-18T19:46:23.965Z"
   },
   {
    "duration": 270,
    "start_time": "2022-02-18T19:46:54.847Z"
   },
   {
    "duration": 202,
    "start_time": "2022-02-18T19:51:30.780Z"
   },
   {
    "duration": 188,
    "start_time": "2022-02-18T19:53:06.799Z"
   },
   {
    "duration": 9,
    "start_time": "2022-02-18T19:54:09.378Z"
   },
   {
    "duration": 197,
    "start_time": "2022-02-18T19:54:48.096Z"
   },
   {
    "duration": 246,
    "start_time": "2022-02-18T19:55:29.753Z"
   },
   {
    "duration": 7,
    "start_time": "2022-02-18T19:55:59.023Z"
   },
   {
    "duration": 204,
    "start_time": "2022-02-18T19:56:27.458Z"
   },
   {
    "duration": 201,
    "start_time": "2022-02-18T19:57:32.310Z"
   },
   {
    "duration": 7,
    "start_time": "2022-02-18T19:58:00.990Z"
   },
   {
    "duration": 350,
    "start_time": "2022-02-18T19:58:58.701Z"
   },
   {
    "duration": 1198,
    "start_time": "2022-02-18T20:06:01.725Z"
   },
   {
    "duration": 206,
    "start_time": "2022-02-18T20:06:02.926Z"
   },
   {
    "duration": 131,
    "start_time": "2022-02-18T20:06:03.135Z"
   },
   {
    "duration": 169,
    "start_time": "2022-02-18T20:06:03.268Z"
   },
   {
    "duration": 81,
    "start_time": "2022-02-18T20:06:03.439Z"
   },
   {
    "duration": 116,
    "start_time": "2022-02-18T20:06:03.523Z"
   },
   {
    "duration": 50,
    "start_time": "2022-02-18T20:06:03.641Z"
   },
   {
    "duration": 22,
    "start_time": "2022-02-18T20:06:03.709Z"
   },
   {
    "duration": 17,
    "start_time": "2022-02-18T20:06:03.733Z"
   },
   {
    "duration": 44,
    "start_time": "2022-02-18T20:06:03.752Z"
   },
   {
    "duration": 14,
    "start_time": "2022-02-18T20:06:03.798Z"
   },
   {
    "duration": 93,
    "start_time": "2022-02-18T20:06:03.814Z"
   },
   {
    "duration": 70,
    "start_time": "2022-02-18T20:06:03.909Z"
   },
   {
    "duration": 69,
    "start_time": "2022-02-18T20:06:03.981Z"
   },
   {
    "duration": 25,
    "start_time": "2022-02-18T20:06:04.052Z"
   },
   {
    "duration": 78,
    "start_time": "2022-02-18T20:06:04.080Z"
   },
   {
    "duration": 33,
    "start_time": "2022-02-18T20:06:04.160Z"
   },
   {
    "duration": 27,
    "start_time": "2022-02-18T20:06:04.209Z"
   },
   {
    "duration": 29,
    "start_time": "2022-02-18T20:06:04.238Z"
   },
   {
    "duration": 4,
    "start_time": "2022-02-18T20:06:04.269Z"
   },
   {
    "duration": 57,
    "start_time": "2022-02-18T20:06:04.275Z"
   },
   {
    "duration": 29,
    "start_time": "2022-02-18T20:06:04.334Z"
   },
   {
    "duration": 10,
    "start_time": "2022-02-18T20:06:04.368Z"
   },
   {
    "duration": 37,
    "start_time": "2022-02-18T20:06:04.382Z"
   },
   {
    "duration": 6,
    "start_time": "2022-02-18T20:06:04.422Z"
   },
   {
    "duration": 14,
    "start_time": "2022-02-18T20:06:04.430Z"
   },
   {
    "duration": 6,
    "start_time": "2022-02-18T20:06:04.446Z"
   },
   {
    "duration": 59,
    "start_time": "2022-02-18T20:06:04.454Z"
   },
   {
    "duration": 11,
    "start_time": "2022-02-18T20:06:04.515Z"
   },
   {
    "duration": 3,
    "start_time": "2022-02-18T20:06:04.528Z"
   },
   {
    "duration": 186,
    "start_time": "2022-02-18T20:06:04.532Z"
   },
   {
    "duration": 22,
    "start_time": "2022-02-18T20:06:04.720Z"
   },
   {
    "duration": 9,
    "start_time": "2022-02-18T20:06:04.744Z"
   },
   {
    "duration": 22,
    "start_time": "2022-02-18T20:06:04.755Z"
   },
   {
    "duration": 32,
    "start_time": "2022-02-18T20:06:04.779Z"
   },
   {
    "duration": 197,
    "start_time": "2022-02-18T20:06:04.813Z"
   },
   {
    "duration": 7,
    "start_time": "2022-02-18T20:06:05.013Z"
   },
   {
    "duration": 235,
    "start_time": "2022-02-18T20:06:05.022Z"
   },
   {
    "duration": 4,
    "start_time": "2022-02-18T20:06:05.259Z"
   },
   {
    "duration": 212,
    "start_time": "2022-02-18T20:06:05.265Z"
   },
   {
    "duration": 6,
    "start_time": "2022-02-18T20:06:05.480Z"
   },
   {
    "duration": 222,
    "start_time": "2022-02-18T20:06:05.488Z"
   },
   {
    "duration": 4,
    "start_time": "2022-02-18T20:06:05.712Z"
   },
   {
    "duration": 197,
    "start_time": "2022-02-18T20:06:05.718Z"
   },
   {
    "duration": 7,
    "start_time": "2022-02-18T20:06:05.917Z"
   },
   {
    "duration": 237,
    "start_time": "2022-02-18T20:06:05.927Z"
   },
   {
    "duration": 202,
    "start_time": "2022-02-18T20:06:06.167Z"
   },
   {
    "duration": 9,
    "start_time": "2022-02-18T20:06:06.372Z"
   },
   {
    "duration": 232,
    "start_time": "2022-02-18T20:06:06.383Z"
   },
   {
    "duration": 271,
    "start_time": "2022-02-18T20:06:06.617Z"
   },
   {
    "duration": 7,
    "start_time": "2022-02-18T20:06:06.890Z"
   },
   {
    "duration": 220,
    "start_time": "2022-02-18T20:06:06.908Z"
   },
   {
    "duration": 199,
    "start_time": "2022-02-18T20:06:07.130Z"
   },
   {
    "duration": 8,
    "start_time": "2022-02-18T20:06:07.331Z"
   },
   {
    "duration": 230,
    "start_time": "2022-02-18T20:06:07.342Z"
   },
   {
    "duration": 333,
    "start_time": "2022-02-18T20:06:07.574Z"
   },
   {
    "duration": 72,
    "start_time": "2022-02-18T20:06:07.837Z"
   },
   {
    "duration": 61,
    "start_time": "2022-02-18T20:06:07.849Z"
   },
   {
    "duration": 53,
    "start_time": "2022-02-18T20:06:07.859Z"
   },
   {
    "duration": 44,
    "start_time": "2022-02-18T20:06:07.869Z"
   },
   {
    "duration": 39,
    "start_time": "2022-02-18T20:06:07.875Z"
   },
   {
    "duration": 35,
    "start_time": "2022-02-18T20:06:07.880Z"
   },
   {
    "duration": 31,
    "start_time": "2022-02-18T20:06:07.886Z"
   },
   {
    "duration": 28,
    "start_time": "2022-02-18T20:06:07.890Z"
   },
   {
    "duration": 24,
    "start_time": "2022-02-18T20:06:07.895Z"
   },
   {
    "duration": 15,
    "start_time": "2022-02-18T20:06:07.905Z"
   },
   {
    "duration": 12,
    "start_time": "2022-02-18T20:06:07.910Z"
   },
   {
    "duration": 8,
    "start_time": "2022-02-18T20:06:07.915Z"
   },
   {
    "duration": 3,
    "start_time": "2022-02-18T20:11:37.336Z"
   },
   {
    "duration": 172,
    "start_time": "2022-02-18T20:13:45.879Z"
   },
   {
    "duration": 8,
    "start_time": "2022-02-18T20:14:07.103Z"
   },
   {
    "duration": 214,
    "start_time": "2022-02-18T20:14:12.862Z"
   },
   {
    "duration": 9,
    "start_time": "2022-02-18T20:14:56.857Z"
   },
   {
    "duration": 7,
    "start_time": "2022-02-18T20:17:23.833Z"
   },
   {
    "duration": 8,
    "start_time": "2022-02-18T20:18:14.201Z"
   },
   {
    "duration": 512,
    "start_time": "2022-02-18T20:20:10.413Z"
   },
   {
    "duration": 10,
    "start_time": "2022-02-18T20:21:17.813Z"
   },
   {
    "duration": 9,
    "start_time": "2022-02-18T20:21:34.490Z"
   },
   {
    "duration": 285,
    "start_time": "2022-02-18T20:21:42.164Z"
   },
   {
    "duration": 6,
    "start_time": "2022-02-18T20:22:07.430Z"
   },
   {
    "duration": 5,
    "start_time": "2022-02-18T20:22:46.994Z"
   },
   {
    "duration": 228,
    "start_time": "2022-02-18T20:23:24.897Z"
   },
   {
    "duration": 172,
    "start_time": "2022-02-18T20:25:44.231Z"
   },
   {
    "duration": 1165,
    "start_time": "2022-02-18T20:25:49.821Z"
   },
   {
    "duration": 210,
    "start_time": "2022-02-18T20:25:50.988Z"
   },
   {
    "duration": 119,
    "start_time": "2022-02-18T20:25:51.207Z"
   },
   {
    "duration": 170,
    "start_time": "2022-02-18T20:25:51.328Z"
   },
   {
    "duration": 66,
    "start_time": "2022-02-18T20:25:51.507Z"
   },
   {
    "duration": 123,
    "start_time": "2022-02-18T20:25:51.575Z"
   },
   {
    "duration": 53,
    "start_time": "2022-02-18T20:25:51.699Z"
   },
   {
    "duration": 20,
    "start_time": "2022-02-18T20:25:51.755Z"
   },
   {
    "duration": 7,
    "start_time": "2022-02-18T20:25:51.778Z"
   },
   {
    "duration": 30,
    "start_time": "2022-02-18T20:25:51.807Z"
   },
   {
    "duration": 8,
    "start_time": "2022-02-18T20:25:51.839Z"
   },
   {
    "duration": 103,
    "start_time": "2022-02-18T20:25:51.848Z"
   },
   {
    "duration": 80,
    "start_time": "2022-02-18T20:25:51.953Z"
   },
   {
    "duration": 51,
    "start_time": "2022-02-18T20:25:52.035Z"
   },
   {
    "duration": 23,
    "start_time": "2022-02-18T20:25:52.108Z"
   },
   {
    "duration": 74,
    "start_time": "2022-02-18T20:25:52.133Z"
   },
   {
    "duration": 32,
    "start_time": "2022-02-18T20:25:52.210Z"
   },
   {
    "duration": 26,
    "start_time": "2022-02-18T20:25:52.243Z"
   },
   {
    "duration": 49,
    "start_time": "2022-02-18T20:25:52.271Z"
   },
   {
    "duration": 4,
    "start_time": "2022-02-18T20:25:52.322Z"
   },
   {
    "duration": 30,
    "start_time": "2022-02-18T20:25:52.328Z"
   },
   {
    "duration": 26,
    "start_time": "2022-02-18T20:25:52.360Z"
   },
   {
    "duration": 10,
    "start_time": "2022-02-18T20:25:52.409Z"
   },
   {
    "duration": 12,
    "start_time": "2022-02-18T20:25:52.422Z"
   },
   {
    "duration": 6,
    "start_time": "2022-02-18T20:25:52.436Z"
   },
   {
    "duration": 13,
    "start_time": "2022-02-18T20:25:52.444Z"
   },
   {
    "duration": 3,
    "start_time": "2022-02-18T20:25:52.459Z"
   },
   {
    "duration": 71,
    "start_time": "2022-02-18T20:25:52.464Z"
   },
   {
    "duration": 11,
    "start_time": "2022-02-18T20:25:52.537Z"
   },
   {
    "duration": 5,
    "start_time": "2022-02-18T20:25:52.550Z"
   },
   {
    "duration": 284,
    "start_time": "2022-02-18T20:25:52.557Z"
   },
   {
    "duration": 23,
    "start_time": "2022-02-18T20:25:52.843Z"
   },
   {
    "duration": 12,
    "start_time": "2022-02-18T20:25:52.868Z"
   },
   {
    "duration": 26,
    "start_time": "2022-02-18T20:25:52.882Z"
   },
   {
    "duration": 12,
    "start_time": "2022-02-18T20:25:52.910Z"
   },
   {
    "duration": 190,
    "start_time": "2022-02-18T20:25:52.924Z"
   },
   {
    "duration": 9,
    "start_time": "2022-02-18T20:25:53.116Z"
   },
   {
    "duration": 7,
    "start_time": "2022-02-18T20:25:53.127Z"
   },
   {
    "duration": 226,
    "start_time": "2022-02-18T20:25:53.136Z"
   },
   {
    "duration": 194,
    "start_time": "2022-02-18T20:25:53.364Z"
   },
   {
    "duration": 7,
    "start_time": "2022-02-18T20:25:53.560Z"
   },
   {
    "duration": 218,
    "start_time": "2022-02-18T20:25:53.569Z"
   },
   {
    "duration": 5,
    "start_time": "2022-02-18T20:25:53.789Z"
   },
   {
    "duration": 196,
    "start_time": "2022-02-18T20:25:53.808Z"
   },
   {
    "duration": 6,
    "start_time": "2022-02-18T20:25:54.007Z"
   },
   {
    "duration": 219,
    "start_time": "2022-02-18T20:25:54.015Z"
   },
   {
    "duration": 200,
    "start_time": "2022-02-18T20:25:54.237Z"
   },
   {
    "duration": 9,
    "start_time": "2022-02-18T20:25:54.439Z"
   },
   {
    "duration": 209,
    "start_time": "2022-02-18T20:25:54.450Z"
   },
   {
    "duration": 269,
    "start_time": "2022-02-18T20:25:54.661Z"
   },
   {
    "duration": 7,
    "start_time": "2022-02-18T20:25:54.932Z"
   },
   {
    "duration": 228,
    "start_time": "2022-02-18T20:25:54.941Z"
   },
   {
    "duration": 209,
    "start_time": "2022-02-18T20:25:55.171Z"
   },
   {
    "duration": 7,
    "start_time": "2022-02-18T20:25:55.382Z"
   },
   {
    "duration": 238,
    "start_time": "2022-02-18T20:25:55.391Z"
   },
   {
    "duration": 344,
    "start_time": "2022-02-18T20:25:55.631Z"
   },
   {
    "duration": 69,
    "start_time": "2022-02-18T20:25:55.909Z"
   },
   {
    "duration": 67,
    "start_time": "2022-02-18T20:25:55.913Z"
   },
   {
    "duration": 62,
    "start_time": "2022-02-18T20:25:55.919Z"
   },
   {
    "duration": 59,
    "start_time": "2022-02-18T20:25:55.924Z"
   },
   {
    "duration": 55,
    "start_time": "2022-02-18T20:25:55.929Z"
   },
   {
    "duration": 53,
    "start_time": "2022-02-18T20:25:55.933Z"
   },
   {
    "duration": 50,
    "start_time": "2022-02-18T20:25:55.938Z"
   },
   {
    "duration": 46,
    "start_time": "2022-02-18T20:25:55.943Z"
   },
   {
    "duration": 42,
    "start_time": "2022-02-18T20:25:55.949Z"
   },
   {
    "duration": 39,
    "start_time": "2022-02-18T20:25:55.953Z"
   },
   {
    "duration": 35,
    "start_time": "2022-02-18T20:25:55.959Z"
   },
   {
    "duration": 33,
    "start_time": "2022-02-18T20:25:55.963Z"
   },
   {
    "duration": 10,
    "start_time": "2022-02-18T20:29:23.534Z"
   },
   {
    "duration": 5,
    "start_time": "2022-02-18T20:29:48.118Z"
   },
   {
    "duration": 84,
    "start_time": "2022-02-18T20:30:12.299Z"
   },
   {
    "duration": 225,
    "start_time": "2022-02-18T20:30:19.873Z"
   },
   {
    "duration": 9,
    "start_time": "2022-02-18T20:34:05.799Z"
   },
   {
    "duration": 12,
    "start_time": "2022-02-18T20:38:49.065Z"
   },
   {
    "duration": 3,
    "start_time": "2022-02-18T20:40:40.816Z"
   },
   {
    "duration": 6,
    "start_time": "2022-02-18T20:41:25.550Z"
   },
   {
    "duration": 5,
    "start_time": "2022-02-18T20:41:43.796Z"
   },
   {
    "duration": 1223,
    "start_time": "2022-02-18T20:41:52.260Z"
   },
   {
    "duration": 213,
    "start_time": "2022-02-18T20:41:53.485Z"
   },
   {
    "duration": 122,
    "start_time": "2022-02-18T20:41:53.701Z"
   },
   {
    "duration": 164,
    "start_time": "2022-02-18T20:41:53.825Z"
   },
   {
    "duration": 81,
    "start_time": "2022-02-18T20:41:53.992Z"
   },
   {
    "duration": 132,
    "start_time": "2022-02-18T20:41:54.075Z"
   },
   {
    "duration": 47,
    "start_time": "2022-02-18T20:41:54.210Z"
   },
   {
    "duration": 22,
    "start_time": "2022-02-18T20:41:54.260Z"
   },
   {
    "duration": 25,
    "start_time": "2022-02-18T20:41:54.284Z"
   },
   {
    "duration": 35,
    "start_time": "2022-02-18T20:41:54.311Z"
   },
   {
    "duration": 7,
    "start_time": "2022-02-18T20:41:54.348Z"
   },
   {
    "duration": 97,
    "start_time": "2022-02-18T20:41:54.357Z"
   },
   {
    "duration": 163,
    "start_time": "2022-02-18T20:41:54.456Z"
   },
   {
    "duration": 86,
    "start_time": "2022-02-18T20:41:54.621Z"
   },
   {
    "duration": 25,
    "start_time": "2022-02-18T20:41:54.710Z"
   },
   {
    "duration": 90,
    "start_time": "2022-02-18T20:41:54.737Z"
   },
   {
    "duration": 43,
    "start_time": "2022-02-18T20:41:54.829Z"
   },
   {
    "duration": 33,
    "start_time": "2022-02-18T20:41:54.874Z"
   },
   {
    "duration": 29,
    "start_time": "2022-02-18T20:41:54.909Z"
   },
   {
    "duration": 5,
    "start_time": "2022-02-18T20:41:54.940Z"
   },
   {
    "duration": 36,
    "start_time": "2022-02-18T20:41:54.947Z"
   },
   {
    "duration": 43,
    "start_time": "2022-02-18T20:41:54.986Z"
   },
   {
    "duration": 14,
    "start_time": "2022-02-18T20:41:55.036Z"
   },
   {
    "duration": 17,
    "start_time": "2022-02-18T20:41:55.055Z"
   },
   {
    "duration": 30,
    "start_time": "2022-02-18T20:41:55.074Z"
   },
   {
    "duration": 30,
    "start_time": "2022-02-18T20:41:55.106Z"
   },
   {
    "duration": 11,
    "start_time": "2022-02-18T20:41:55.139Z"
   },
   {
    "duration": 59,
    "start_time": "2022-02-18T20:41:55.152Z"
   },
   {
    "duration": 10,
    "start_time": "2022-02-18T20:41:55.213Z"
   },
   {
    "duration": 25,
    "start_time": "2022-02-18T20:41:55.225Z"
   },
   {
    "duration": 179,
    "start_time": "2022-02-18T20:41:55.252Z"
   },
   {
    "duration": 6,
    "start_time": "2022-02-18T20:41:55.433Z"
   },
   {
    "duration": 32,
    "start_time": "2022-02-18T20:41:55.441Z"
   },
   {
    "duration": 27,
    "start_time": "2022-02-18T20:41:55.475Z"
   },
   {
    "duration": 17,
    "start_time": "2022-02-18T20:41:55.504Z"
   },
   {
    "duration": 22,
    "start_time": "2022-02-18T20:41:55.524Z"
   },
   {
    "duration": 478,
    "start_time": "2022-02-18T20:41:55.548Z"
   },
   {
    "duration": 9,
    "start_time": "2022-02-18T20:41:56.029Z"
   },
   {
    "duration": 11,
    "start_time": "2022-02-18T20:41:56.041Z"
   },
   {
    "duration": 461,
    "start_time": "2022-02-18T20:41:56.055Z"
   },
   {
    "duration": 12,
    "start_time": "2022-02-18T20:41:56.519Z"
   },
   {
    "duration": 28,
    "start_time": "2022-02-18T20:41:56.533Z"
   },
   {
    "duration": 230,
    "start_time": "2022-02-18T20:41:56.563Z"
   },
   {
    "duration": 296,
    "start_time": "2022-02-18T20:41:56.795Z"
   },
   {
    "duration": 21,
    "start_time": "2022-02-18T20:41:57.093Z"
   },
   {
    "duration": 311,
    "start_time": "2022-02-18T20:41:57.116Z"
   },
   {
    "duration": 7,
    "start_time": "2022-02-18T20:41:57.430Z"
   },
   {
    "duration": 193,
    "start_time": "2022-02-18T20:41:57.439Z"
   },
   {
    "duration": 11,
    "start_time": "2022-02-18T20:41:57.635Z"
   },
   {
    "duration": 219,
    "start_time": "2022-02-18T20:41:57.647Z"
   },
   {
    "duration": 209,
    "start_time": "2022-02-18T20:41:57.868Z"
   },
   {
    "duration": 11,
    "start_time": "2022-02-18T20:41:58.080Z"
   },
   {
    "duration": 314,
    "start_time": "2022-02-18T20:41:58.093Z"
   },
   {
    "duration": 205,
    "start_time": "2022-02-18T20:41:58.410Z"
   },
   {
    "duration": 8,
    "start_time": "2022-02-18T20:41:58.617Z"
   },
   {
    "duration": 250,
    "start_time": "2022-02-18T20:41:58.627Z"
   },
   {
    "duration": 282,
    "start_time": "2022-02-18T20:41:58.879Z"
   },
   {
    "duration": 8,
    "start_time": "2022-02-18T20:41:59.163Z"
   },
   {
    "duration": 243,
    "start_time": "2022-02-18T20:41:59.173Z"
   },
   {
    "duration": 385,
    "start_time": "2022-02-18T20:41:59.418Z"
   },
   {
    "duration": 83,
    "start_time": "2022-02-18T20:41:59.723Z"
   },
   {
    "duration": 78,
    "start_time": "2022-02-18T20:41:59.729Z"
   },
   {
    "duration": 75,
    "start_time": "2022-02-18T20:41:59.734Z"
   },
   {
    "duration": 72,
    "start_time": "2022-02-18T20:41:59.739Z"
   },
   {
    "duration": 68,
    "start_time": "2022-02-18T20:41:59.744Z"
   },
   {
    "duration": 64,
    "start_time": "2022-02-18T20:41:59.749Z"
   },
   {
    "duration": 61,
    "start_time": "2022-02-18T20:41:59.754Z"
   },
   {
    "duration": 58,
    "start_time": "2022-02-18T20:41:59.758Z"
   },
   {
    "duration": 54,
    "start_time": "2022-02-18T20:41:59.763Z"
   },
   {
    "duration": 50,
    "start_time": "2022-02-18T20:41:59.768Z"
   },
   {
    "duration": 46,
    "start_time": "2022-02-18T20:41:59.773Z"
   },
   {
    "duration": 42,
    "start_time": "2022-02-18T20:41:59.778Z"
   },
   {
    "duration": 205,
    "start_time": "2022-02-18T20:43:03.578Z"
   },
   {
    "duration": 227,
    "start_time": "2022-02-18T20:46:59.126Z"
   },
   {
    "duration": 332,
    "start_time": "2022-02-18T20:47:09.085Z"
   },
   {
    "duration": 9,
    "start_time": "2022-02-18T20:47:36.170Z"
   },
   {
    "duration": 9,
    "start_time": "2022-02-18T20:48:13.507Z"
   },
   {
    "duration": 200,
    "start_time": "2022-02-18T20:48:41.475Z"
   },
   {
    "duration": 223,
    "start_time": "2022-02-18T20:48:54.908Z"
   },
   {
    "duration": 224,
    "start_time": "2022-02-18T20:49:23.805Z"
   },
   {
    "duration": 12,
    "start_time": "2022-02-18T20:53:36.048Z"
   },
   {
    "duration": 10,
    "start_time": "2022-02-18T20:55:36.184Z"
   },
   {
    "duration": 205,
    "start_time": "2022-02-18T20:55:49.656Z"
   },
   {
    "duration": 1270,
    "start_time": "2022-02-18T21:01:23.501Z"
   },
   {
    "duration": 246,
    "start_time": "2022-02-18T21:01:24.774Z"
   },
   {
    "duration": 132,
    "start_time": "2022-02-18T21:01:25.023Z"
   },
   {
    "duration": 169,
    "start_time": "2022-02-18T21:01:25.158Z"
   },
   {
    "duration": 78,
    "start_time": "2022-02-18T21:01:25.329Z"
   },
   {
    "duration": 138,
    "start_time": "2022-02-18T21:01:25.410Z"
   },
   {
    "duration": 70,
    "start_time": "2022-02-18T21:01:25.550Z"
   },
   {
    "duration": 21,
    "start_time": "2022-02-18T21:01:25.624Z"
   },
   {
    "duration": 19,
    "start_time": "2022-02-18T21:01:25.648Z"
   },
   {
    "duration": 42,
    "start_time": "2022-02-18T21:01:25.669Z"
   },
   {
    "duration": 10,
    "start_time": "2022-02-18T21:01:25.713Z"
   },
   {
    "duration": 118,
    "start_time": "2022-02-18T21:01:25.725Z"
   },
   {
    "duration": 83,
    "start_time": "2022-02-18T21:01:25.846Z"
   },
   {
    "duration": 75,
    "start_time": "2022-02-18T21:01:25.932Z"
   },
   {
    "duration": 36,
    "start_time": "2022-02-18T21:01:26.010Z"
   },
   {
    "duration": 81,
    "start_time": "2022-02-18T21:01:26.048Z"
   },
   {
    "duration": 33,
    "start_time": "2022-02-18T21:01:26.131Z"
   },
   {
    "duration": 44,
    "start_time": "2022-02-18T21:01:26.166Z"
   },
   {
    "duration": 29,
    "start_time": "2022-02-18T21:01:26.212Z"
   },
   {
    "duration": 4,
    "start_time": "2022-02-18T21:01:26.244Z"
   },
   {
    "duration": 41,
    "start_time": "2022-02-18T21:01:26.251Z"
   },
   {
    "duration": 30,
    "start_time": "2022-02-18T21:01:26.307Z"
   },
   {
    "duration": 10,
    "start_time": "2022-02-18T21:01:26.343Z"
   },
   {
    "duration": 14,
    "start_time": "2022-02-18T21:01:26.356Z"
   },
   {
    "duration": 35,
    "start_time": "2022-02-18T21:01:26.372Z"
   },
   {
    "duration": 15,
    "start_time": "2022-02-18T21:01:26.410Z"
   },
   {
    "duration": 5,
    "start_time": "2022-02-18T21:01:26.427Z"
   },
   {
    "duration": 35,
    "start_time": "2022-02-18T21:01:26.434Z"
   },
   {
    "duration": 12,
    "start_time": "2022-02-18T21:01:26.471Z"
   },
   {
    "duration": 22,
    "start_time": "2022-02-18T21:01:26.486Z"
   },
   {
    "duration": 164,
    "start_time": "2022-02-18T21:01:26.511Z"
   },
   {
    "duration": 5,
    "start_time": "2022-02-18T21:01:26.677Z"
   },
   {
    "duration": 34,
    "start_time": "2022-02-18T21:01:26.684Z"
   },
   {
    "duration": 11,
    "start_time": "2022-02-18T21:01:26.720Z"
   },
   {
    "duration": 3,
    "start_time": "2022-02-18T21:01:26.733Z"
   },
   {
    "duration": 10,
    "start_time": "2022-02-18T21:01:26.738Z"
   },
   {
    "duration": 197,
    "start_time": "2022-02-18T21:01:26.750Z"
   },
   {
    "duration": 11,
    "start_time": "2022-02-18T21:01:26.949Z"
   },
   {
    "duration": 9,
    "start_time": "2022-02-18T21:01:26.961Z"
   },
   {
    "duration": 228,
    "start_time": "2022-02-18T21:01:26.972Z"
   },
   {
    "duration": 17,
    "start_time": "2022-02-18T21:01:27.202Z"
   },
   {
    "duration": 4,
    "start_time": "2022-02-18T21:01:27.221Z"
   },
   {
    "duration": 230,
    "start_time": "2022-02-18T21:01:27.227Z"
   },
   {
    "duration": 191,
    "start_time": "2022-02-18T21:01:27.460Z"
   },
   {
    "duration": 9,
    "start_time": "2022-02-18T21:01:27.653Z"
   },
   {
    "duration": 204,
    "start_time": "2022-02-18T21:01:27.665Z"
   },
   {
    "duration": 5,
    "start_time": "2022-02-18T21:01:27.871Z"
   },
   {
    "duration": 186,
    "start_time": "2022-02-18T21:01:27.877Z"
   },
   {
    "duration": 9,
    "start_time": "2022-02-18T21:01:28.065Z"
   },
   {
    "duration": 201,
    "start_time": "2022-02-18T21:01:28.076Z"
   },
   {
    "duration": 192,
    "start_time": "2022-02-18T21:01:28.278Z"
   },
   {
    "duration": 9,
    "start_time": "2022-02-18T21:01:28.472Z"
   },
   {
    "duration": 26,
    "start_time": "2022-02-18T21:01:28.483Z"
   },
   {
    "duration": 272,
    "start_time": "2022-02-18T21:01:28.511Z"
   },
   {
    "duration": 213,
    "start_time": "2022-02-18T21:01:28.785Z"
   },
   {
    "duration": 194,
    "start_time": "2022-02-18T21:01:29.008Z"
   },
   {
    "duration": 9,
    "start_time": "2022-02-18T21:01:29.208Z"
   },
   {
    "duration": 214,
    "start_time": "2022-02-18T21:01:29.220Z"
   },
   {
    "duration": 201,
    "start_time": "2022-02-18T21:01:29.437Z"
   },
   {
    "duration": 9,
    "start_time": "2022-02-18T21:01:29.640Z"
   },
   {
    "duration": 210,
    "start_time": "2022-02-18T21:01:29.651Z"
   },
   {
    "duration": 315,
    "start_time": "2022-02-18T21:01:29.863Z"
   },
   {
    "duration": 132,
    "start_time": "2022-02-18T21:01:30.048Z"
   },
   {
    "duration": 127,
    "start_time": "2022-02-18T21:01:30.054Z"
   },
   {
    "duration": 123,
    "start_time": "2022-02-18T21:01:30.059Z"
   },
   {
    "duration": 119,
    "start_time": "2022-02-18T21:01:30.064Z"
   },
   {
    "duration": 115,
    "start_time": "2022-02-18T21:01:30.069Z"
   },
   {
    "duration": 112,
    "start_time": "2022-02-18T21:01:30.073Z"
   },
   {
    "duration": 24,
    "start_time": "2022-02-18T21:03:09.465Z"
   },
   {
    "duration": 6,
    "start_time": "2022-02-18T21:03:16.815Z"
   },
   {
    "duration": 28,
    "start_time": "2022-02-18T21:04:49.166Z"
   },
   {
    "duration": 9,
    "start_time": "2022-02-18T21:05:55.980Z"
   },
   {
    "duration": 6,
    "start_time": "2022-02-18T21:06:43.549Z"
   },
   {
    "duration": 126,
    "start_time": "2022-02-18T21:10:14.546Z"
   },
   {
    "duration": 179,
    "start_time": "2022-02-18T21:11:17.311Z"
   },
   {
    "duration": 78,
    "start_time": "2022-02-18T21:11:24.417Z"
   },
   {
    "duration": 77,
    "start_time": "2022-02-18T21:11:30.724Z"
   },
   {
    "duration": 94,
    "start_time": "2022-02-18T21:11:40.191Z"
   },
   {
    "duration": 1248,
    "start_time": "2022-02-18T21:13:20.368Z"
   },
   {
    "duration": 221,
    "start_time": "2022-02-18T21:13:21.619Z"
   },
   {
    "duration": 127,
    "start_time": "2022-02-18T21:13:21.843Z"
   },
   {
    "duration": 172,
    "start_time": "2022-02-18T21:13:21.973Z"
   },
   {
    "duration": 77,
    "start_time": "2022-02-18T21:13:22.148Z"
   },
   {
    "duration": 115,
    "start_time": "2022-02-18T21:13:22.227Z"
   },
   {
    "duration": 47,
    "start_time": "2022-02-18T21:13:22.343Z"
   },
   {
    "duration": 34,
    "start_time": "2022-02-18T21:13:22.393Z"
   },
   {
    "duration": 17,
    "start_time": "2022-02-18T21:13:22.429Z"
   },
   {
    "duration": 49,
    "start_time": "2022-02-18T21:13:22.448Z"
   },
   {
    "duration": 8,
    "start_time": "2022-02-18T21:13:22.500Z"
   },
   {
    "duration": 100,
    "start_time": "2022-02-18T21:13:22.511Z"
   },
   {
    "duration": 68,
    "start_time": "2022-02-18T21:13:22.613Z"
   },
   {
    "duration": 75,
    "start_time": "2022-02-18T21:13:22.683Z"
   },
   {
    "duration": 26,
    "start_time": "2022-02-18T21:13:22.760Z"
   },
   {
    "duration": 62,
    "start_time": "2022-02-18T21:13:22.808Z"
   },
   {
    "duration": 51,
    "start_time": "2022-02-18T21:13:22.872Z"
   },
   {
    "duration": 27,
    "start_time": "2022-02-18T21:13:22.926Z"
   },
   {
    "duration": 27,
    "start_time": "2022-02-18T21:13:22.955Z"
   },
   {
    "duration": 26,
    "start_time": "2022-02-18T21:13:22.984Z"
   },
   {
    "duration": 39,
    "start_time": "2022-02-18T21:13:23.012Z"
   },
   {
    "duration": 28,
    "start_time": "2022-02-18T21:13:23.053Z"
   },
   {
    "duration": 30,
    "start_time": "2022-02-18T21:13:23.085Z"
   },
   {
    "duration": 12,
    "start_time": "2022-02-18T21:13:23.118Z"
   },
   {
    "duration": 6,
    "start_time": "2022-02-18T21:13:23.133Z"
   },
   {
    "duration": 12,
    "start_time": "2022-02-18T21:13:23.141Z"
   },
   {
    "duration": 2,
    "start_time": "2022-02-18T21:13:23.156Z"
   },
   {
    "duration": 65,
    "start_time": "2022-02-18T21:13:23.160Z"
   },
   {
    "duration": 11,
    "start_time": "2022-02-18T21:13:23.227Z"
   },
   {
    "duration": 3,
    "start_time": "2022-02-18T21:13:23.241Z"
   },
   {
    "duration": 181,
    "start_time": "2022-02-18T21:13:23.246Z"
   },
   {
    "duration": 6,
    "start_time": "2022-02-18T21:13:23.429Z"
   },
   {
    "duration": 25,
    "start_time": "2022-02-18T21:13:23.437Z"
   },
   {
    "duration": 10,
    "start_time": "2022-02-18T21:13:23.464Z"
   },
   {
    "duration": 11,
    "start_time": "2022-02-18T21:13:23.476Z"
   },
   {
    "duration": 7,
    "start_time": "2022-02-18T21:13:23.508Z"
   },
   {
    "duration": 199,
    "start_time": "2022-02-18T21:13:23.517Z"
   },
   {
    "duration": 8,
    "start_time": "2022-02-18T21:13:23.718Z"
   },
   {
    "duration": 7,
    "start_time": "2022-02-18T21:13:23.728Z"
   },
   {
    "duration": 321,
    "start_time": "2022-02-18T21:13:23.737Z"
   },
   {
    "duration": 9,
    "start_time": "2022-02-18T21:13:24.060Z"
   },
   {
    "duration": 11,
    "start_time": "2022-02-18T21:13:24.071Z"
   },
   {
    "duration": 244,
    "start_time": "2022-02-18T21:13:24.084Z"
   },
   {
    "duration": 186,
    "start_time": "2022-02-18T21:13:24.330Z"
   },
   {
    "duration": 9,
    "start_time": "2022-02-18T21:13:24.518Z"
   },
   {
    "duration": 210,
    "start_time": "2022-02-18T21:13:24.529Z"
   },
   {
    "duration": 5,
    "start_time": "2022-02-18T21:13:24.741Z"
   },
   {
    "duration": 189,
    "start_time": "2022-02-18T21:13:24.748Z"
   },
   {
    "duration": 8,
    "start_time": "2022-02-18T21:13:24.939Z"
   },
   {
    "duration": 244,
    "start_time": "2022-02-18T21:13:24.949Z"
   },
   {
    "duration": 199,
    "start_time": "2022-02-18T21:13:25.195Z"
   },
   {
    "duration": 15,
    "start_time": "2022-02-18T21:13:25.396Z"
   },
   {
    "duration": 8,
    "start_time": "2022-02-18T21:13:25.412Z"
   },
   {
    "duration": 291,
    "start_time": "2022-02-18T21:13:25.422Z"
   },
   {
    "duration": 218,
    "start_time": "2022-02-18T21:13:25.715Z"
   },
   {
    "duration": 306,
    "start_time": "2022-02-18T21:13:25.936Z"
   },
   {
    "duration": 10,
    "start_time": "2022-02-18T21:13:26.244Z"
   },
   {
    "duration": 217,
    "start_time": "2022-02-18T21:13:26.256Z"
   },
   {
    "duration": 203,
    "start_time": "2022-02-18T21:13:26.475Z"
   },
   {
    "duration": 9,
    "start_time": "2022-02-18T21:13:26.680Z"
   },
   {
    "duration": 212,
    "start_time": "2022-02-18T21:13:26.690Z"
   },
   {
    "duration": 27,
    "start_time": "2022-02-18T21:13:26.908Z"
   },
   {
    "duration": 6,
    "start_time": "2022-02-18T21:13:26.937Z"
   },
   {
    "duration": 11,
    "start_time": "2022-02-18T21:13:26.945Z"
   },
   {
    "duration": 9,
    "start_time": "2022-02-18T21:13:26.958Z"
   },
   {
    "duration": 118,
    "start_time": "2022-02-19T05:31:59.679Z"
   },
   {
    "duration": 1031,
    "start_time": "2022-02-19T19:36:22.271Z"
   },
   {
    "duration": 162,
    "start_time": "2022-02-19T19:36:23.304Z"
   },
   {
    "duration": 96,
    "start_time": "2022-02-19T19:36:23.469Z"
   },
   {
    "duration": 143,
    "start_time": "2022-02-19T19:36:23.567Z"
   },
   {
    "duration": 63,
    "start_time": "2022-02-19T19:36:23.712Z"
   },
   {
    "duration": 94,
    "start_time": "2022-02-19T19:36:23.777Z"
   },
   {
    "duration": 35,
    "start_time": "2022-02-19T19:36:23.873Z"
   },
   {
    "duration": 28,
    "start_time": "2022-02-19T19:36:23.910Z"
   },
   {
    "duration": 5,
    "start_time": "2022-02-19T19:36:23.940Z"
   },
   {
    "duration": 43,
    "start_time": "2022-02-19T19:36:23.947Z"
   },
   {
    "duration": 6,
    "start_time": "2022-02-19T19:36:23.992Z"
   },
   {
    "duration": 77,
    "start_time": "2022-02-19T19:36:23.999Z"
   },
   {
    "duration": 70,
    "start_time": "2022-02-19T19:36:24.078Z"
   },
   {
    "duration": 41,
    "start_time": "2022-02-19T19:36:24.149Z"
   },
   {
    "duration": 44,
    "start_time": "2022-02-19T19:36:24.191Z"
   },
   {
    "duration": 41,
    "start_time": "2022-02-19T19:36:24.237Z"
   },
   {
    "duration": 25,
    "start_time": "2022-02-19T19:36:24.280Z"
   },
   {
    "duration": 37,
    "start_time": "2022-02-19T19:36:24.306Z"
   },
   {
    "duration": 30,
    "start_time": "2022-02-19T19:36:24.344Z"
   },
   {
    "duration": 4,
    "start_time": "2022-02-19T19:36:24.376Z"
   },
   {
    "duration": 21,
    "start_time": "2022-02-19T19:36:24.381Z"
   },
   {
    "duration": 44,
    "start_time": "2022-02-19T19:36:24.403Z"
   },
   {
    "duration": 8,
    "start_time": "2022-02-19T19:36:24.450Z"
   },
   {
    "duration": 10,
    "start_time": "2022-02-19T19:36:24.461Z"
   },
   {
    "duration": 5,
    "start_time": "2022-02-19T19:36:24.472Z"
   },
   {
    "duration": 10,
    "start_time": "2022-02-19T19:36:24.479Z"
   },
   {
    "duration": 3,
    "start_time": "2022-02-19T19:36:24.490Z"
   },
   {
    "duration": 62,
    "start_time": "2022-02-19T19:36:24.494Z"
   },
   {
    "duration": 7,
    "start_time": "2022-02-19T19:36:24.557Z"
   },
   {
    "duration": 2,
    "start_time": "2022-02-19T19:36:24.566Z"
   },
   {
    "duration": 6,
    "start_time": "2022-02-19T19:36:24.569Z"
   },
   {
    "duration": 177,
    "start_time": "2022-02-19T19:36:24.577Z"
   },
   {
    "duration": 18,
    "start_time": "2022-02-19T19:36:24.756Z"
   },
   {
    "duration": 9,
    "start_time": "2022-02-19T19:36:24.776Z"
   },
   {
    "duration": 3,
    "start_time": "2022-02-19T19:36:24.786Z"
   },
   {
    "duration": 7,
    "start_time": "2022-02-19T19:36:24.790Z"
   },
   {
    "duration": 179,
    "start_time": "2022-02-19T19:36:24.798Z"
   },
   {
    "duration": 7,
    "start_time": "2022-02-19T19:36:24.979Z"
   },
   {
    "duration": 4,
    "start_time": "2022-02-19T19:36:24.989Z"
   },
   {
    "duration": 191,
    "start_time": "2022-02-19T19:36:24.995Z"
   },
   {
    "duration": 8,
    "start_time": "2022-02-19T19:36:25.187Z"
   },
   {
    "duration": 5,
    "start_time": "2022-02-19T19:36:25.197Z"
   },
   {
    "duration": 290,
    "start_time": "2022-02-19T19:36:25.204Z"
   },
   {
    "duration": 160,
    "start_time": "2022-02-19T19:36:25.496Z"
   },
   {
    "duration": 7,
    "start_time": "2022-02-19T19:36:25.658Z"
   },
   {
    "duration": 178,
    "start_time": "2022-02-19T19:36:25.667Z"
   },
   {
    "duration": 4,
    "start_time": "2022-02-19T19:36:25.846Z"
   },
   {
    "duration": 165,
    "start_time": "2022-02-19T19:36:25.852Z"
   },
   {
    "duration": 17,
    "start_time": "2022-02-19T19:36:26.019Z"
   },
   {
    "duration": 168,
    "start_time": "2022-02-19T19:36:26.038Z"
   },
   {
    "duration": 166,
    "start_time": "2022-02-19T19:36:26.208Z"
   },
   {
    "duration": 7,
    "start_time": "2022-02-19T19:36:26.376Z"
   },
   {
    "duration": 10,
    "start_time": "2022-02-19T19:36:26.385Z"
   },
   {
    "duration": 298,
    "start_time": "2022-02-19T19:36:26.397Z"
   },
   {
    "duration": 176,
    "start_time": "2022-02-19T19:36:26.697Z"
   },
   {
    "duration": 161,
    "start_time": "2022-02-19T19:36:26.875Z"
   },
   {
    "duration": 7,
    "start_time": "2022-02-19T19:36:27.037Z"
   },
   {
    "duration": 171,
    "start_time": "2022-02-19T19:36:27.046Z"
   },
   {
    "duration": 178,
    "start_time": "2022-02-19T19:36:27.219Z"
   },
   {
    "duration": 9,
    "start_time": "2022-02-19T19:36:27.398Z"
   },
   {
    "duration": 194,
    "start_time": "2022-02-19T19:36:27.408Z"
   },
   {
    "duration": 37,
    "start_time": "2022-02-19T19:36:27.604Z"
   },
   {
    "duration": 5,
    "start_time": "2022-02-19T19:36:27.642Z"
   },
   {
    "duration": 8,
    "start_time": "2022-02-19T19:36:27.648Z"
   },
   {
    "duration": 5,
    "start_time": "2022-02-19T19:36:27.658Z"
   },
   {
    "duration": 18,
    "start_time": "2022-02-19T19:37:42.338Z"
   },
   {
    "duration": 115,
    "start_time": "2022-02-19T19:41:54.257Z"
   },
   {
    "duration": 1020,
    "start_time": "2022-02-19T19:42:02.382Z"
   },
   {
    "duration": 184,
    "start_time": "2022-02-19T19:42:03.404Z"
   },
   {
    "duration": 146,
    "start_time": "2022-02-19T19:42:03.591Z"
   },
   {
    "duration": 215,
    "start_time": "2022-02-19T19:42:03.740Z"
   },
   {
    "duration": 86,
    "start_time": "2022-02-19T19:42:03.957Z"
   },
   {
    "duration": 98,
    "start_time": "2022-02-19T19:42:04.045Z"
   },
   {
    "duration": 35,
    "start_time": "2022-02-19T19:42:04.145Z"
   },
   {
    "duration": 26,
    "start_time": "2022-02-19T19:42:04.183Z"
   },
   {
    "duration": 20,
    "start_time": "2022-02-19T19:42:04.211Z"
   },
   {
    "duration": 45,
    "start_time": "2022-02-19T19:42:04.233Z"
   },
   {
    "duration": 8,
    "start_time": "2022-02-19T19:42:04.280Z"
   },
   {
    "duration": 91,
    "start_time": "2022-02-19T19:42:04.290Z"
   },
   {
    "duration": 64,
    "start_time": "2022-02-19T19:42:04.383Z"
   },
   {
    "duration": 49,
    "start_time": "2022-02-19T19:42:04.448Z"
   },
   {
    "duration": 34,
    "start_time": "2022-02-19T19:42:04.498Z"
   },
   {
    "duration": 45,
    "start_time": "2022-02-19T19:42:04.534Z"
   },
   {
    "duration": 26,
    "start_time": "2022-02-19T19:42:04.580Z"
   },
   {
    "duration": 41,
    "start_time": "2022-02-19T19:42:04.607Z"
   },
   {
    "duration": 22,
    "start_time": "2022-02-19T19:42:04.650Z"
   },
   {
    "duration": 4,
    "start_time": "2022-02-19T19:42:04.674Z"
   },
   {
    "duration": 38,
    "start_time": "2022-02-19T19:42:04.680Z"
   },
   {
    "duration": 31,
    "start_time": "2022-02-19T19:42:04.720Z"
   },
   {
    "duration": 8,
    "start_time": "2022-02-19T19:42:04.756Z"
   },
   {
    "duration": 19,
    "start_time": "2022-02-19T19:42:04.766Z"
   },
   {
    "duration": 11,
    "start_time": "2022-02-19T19:42:04.787Z"
   },
   {
    "duration": 14,
    "start_time": "2022-02-19T19:42:04.799Z"
   },
   {
    "duration": 4,
    "start_time": "2022-02-19T19:42:04.815Z"
   },
   {
    "duration": 43,
    "start_time": "2022-02-19T19:42:04.832Z"
   },
   {
    "duration": 10,
    "start_time": "2022-02-19T19:42:04.877Z"
   },
   {
    "duration": 25,
    "start_time": "2022-02-19T19:42:04.889Z"
   },
   {
    "duration": 18,
    "start_time": "2022-02-19T19:42:04.916Z"
   },
   {
    "duration": 120,
    "start_time": "2022-02-19T19:42:04.935Z"
   },
   {
    "duration": 18,
    "start_time": "2022-02-19T19:42:05.056Z"
   },
   {
    "duration": 26,
    "start_time": "2022-02-19T19:42:05.076Z"
   },
   {
    "duration": 16,
    "start_time": "2022-02-19T19:42:05.104Z"
   },
   {
    "duration": 31,
    "start_time": "2022-02-19T19:42:05.122Z"
   },
   {
    "duration": 159,
    "start_time": "2022-02-19T19:42:05.155Z"
   },
   {
    "duration": 9,
    "start_time": "2022-02-19T19:42:05.316Z"
   },
   {
    "duration": 4,
    "start_time": "2022-02-19T19:42:05.332Z"
   },
   {
    "duration": 242,
    "start_time": "2022-02-19T19:42:05.337Z"
   },
   {
    "duration": 9,
    "start_time": "2022-02-19T19:42:05.581Z"
   },
   {
    "duration": 9,
    "start_time": "2022-02-19T19:42:05.592Z"
   },
   {
    "duration": 201,
    "start_time": "2022-02-19T19:42:05.602Z"
   },
   {
    "duration": 173,
    "start_time": "2022-02-19T19:42:05.805Z"
   },
   {
    "duration": 7,
    "start_time": "2022-02-19T19:42:05.980Z"
   },
   {
    "duration": 180,
    "start_time": "2022-02-19T19:42:05.988Z"
   },
   {
    "duration": 4,
    "start_time": "2022-02-19T19:42:06.170Z"
   },
   {
    "duration": 169,
    "start_time": "2022-02-19T19:42:06.176Z"
   },
   {
    "duration": 7,
    "start_time": "2022-02-19T19:42:06.347Z"
   },
   {
    "duration": 193,
    "start_time": "2022-02-19T19:42:06.356Z"
   },
   {
    "duration": 160,
    "start_time": "2022-02-19T19:42:06.551Z"
   },
   {
    "duration": 7,
    "start_time": "2022-02-19T19:42:06.713Z"
   },
   {
    "duration": 13,
    "start_time": "2022-02-19T19:42:06.731Z"
   },
   {
    "duration": 233,
    "start_time": "2022-02-19T19:42:06.745Z"
   },
   {
    "duration": 193,
    "start_time": "2022-02-19T19:42:06.980Z"
   },
   {
    "duration": 163,
    "start_time": "2022-02-19T19:42:07.174Z"
   },
   {
    "duration": 8,
    "start_time": "2022-02-19T19:42:07.338Z"
   },
   {
    "duration": 192,
    "start_time": "2022-02-19T19:42:07.348Z"
   },
   {
    "duration": 197,
    "start_time": "2022-02-19T19:42:07.541Z"
   },
   {
    "duration": 7,
    "start_time": "2022-02-19T19:42:07.740Z"
   },
   {
    "duration": 183,
    "start_time": "2022-02-19T19:42:07.748Z"
   },
   {
    "duration": 27,
    "start_time": "2022-02-19T19:42:07.933Z"
   },
   {
    "duration": 5,
    "start_time": "2022-02-19T19:42:07.962Z"
   },
   {
    "duration": 14,
    "start_time": "2022-02-19T19:42:07.969Z"
   },
   {
    "duration": 12,
    "start_time": "2022-02-19T19:42:07.985Z"
   },
   {
    "duration": 1055,
    "start_time": "2022-02-20T07:43:43.861Z"
   },
   {
    "duration": 161,
    "start_time": "2022-02-20T07:43:44.918Z"
   },
   {
    "duration": 82,
    "start_time": "2022-02-20T07:43:45.081Z"
   },
   {
    "duration": 159,
    "start_time": "2022-02-20T07:43:45.165Z"
   },
   {
    "duration": 53,
    "start_time": "2022-02-20T07:43:45.326Z"
   },
   {
    "duration": 94,
    "start_time": "2022-02-20T07:43:45.381Z"
   },
   {
    "duration": 35,
    "start_time": "2022-02-20T07:43:45.477Z"
   },
   {
    "duration": 23,
    "start_time": "2022-02-20T07:43:45.514Z"
   },
   {
    "duration": 5,
    "start_time": "2022-02-20T07:43:45.545Z"
   },
   {
    "duration": 37,
    "start_time": "2022-02-20T07:43:45.551Z"
   },
   {
    "duration": 6,
    "start_time": "2022-02-20T07:43:45.590Z"
   },
   {
    "duration": 67,
    "start_time": "2022-02-20T07:43:45.597Z"
   },
   {
    "duration": 54,
    "start_time": "2022-02-20T07:43:45.666Z"
   },
   {
    "duration": 57,
    "start_time": "2022-02-20T07:43:45.722Z"
   },
   {
    "duration": 18,
    "start_time": "2022-02-20T07:43:45.780Z"
   },
   {
    "duration": 60,
    "start_time": "2022-02-20T07:43:45.799Z"
   },
   {
    "duration": 24,
    "start_time": "2022-02-20T07:43:45.860Z"
   },
   {
    "duration": 20,
    "start_time": "2022-02-20T07:43:45.885Z"
   },
   {
    "duration": 20,
    "start_time": "2022-02-20T07:43:45.907Z"
   },
   {
    "duration": 19,
    "start_time": "2022-02-20T07:43:45.928Z"
   },
   {
    "duration": 20,
    "start_time": "2022-02-20T07:43:45.948Z"
   },
   {
    "duration": 21,
    "start_time": "2022-02-20T07:43:45.970Z"
   },
   {
    "duration": 7,
    "start_time": "2022-02-20T07:43:45.994Z"
   },
   {
    "duration": 9,
    "start_time": "2022-02-20T07:43:46.003Z"
   },
   {
    "duration": 5,
    "start_time": "2022-02-20T07:43:46.013Z"
   },
   {
    "duration": 9,
    "start_time": "2022-02-20T07:43:46.046Z"
   },
   {
    "duration": 2,
    "start_time": "2022-02-20T07:43:46.057Z"
   },
   {
    "duration": 24,
    "start_time": "2022-02-20T07:43:46.061Z"
   },
   {
    "duration": 9,
    "start_time": "2022-02-20T07:43:46.086Z"
   },
   {
    "duration": 16,
    "start_time": "2022-02-20T07:43:46.097Z"
   },
   {
    "duration": 3,
    "start_time": "2022-02-20T07:43:46.115Z"
   },
   {
    "duration": 152,
    "start_time": "2022-02-20T07:43:46.119Z"
   },
   {
    "duration": 16,
    "start_time": "2022-02-20T07:43:46.273Z"
   },
   {
    "duration": 9,
    "start_time": "2022-02-20T07:43:46.290Z"
   },
   {
    "duration": 2,
    "start_time": "2022-02-20T07:43:46.300Z"
   },
   {
    "duration": 7,
    "start_time": "2022-02-20T07:43:46.304Z"
   },
   {
    "duration": 160,
    "start_time": "2022-02-20T07:43:46.312Z"
   },
   {
    "duration": 8,
    "start_time": "2022-02-20T07:43:46.474Z"
   },
   {
    "duration": 4,
    "start_time": "2022-02-20T07:43:46.484Z"
   },
   {
    "duration": 177,
    "start_time": "2022-02-20T07:43:46.489Z"
   },
   {
    "duration": 7,
    "start_time": "2022-02-20T07:43:46.668Z"
   },
   {
    "duration": 5,
    "start_time": "2022-02-20T07:43:46.677Z"
   },
   {
    "duration": 182,
    "start_time": "2022-02-20T07:43:46.684Z"
   },
   {
    "duration": 161,
    "start_time": "2022-02-20T07:43:46.868Z"
   },
   {
    "duration": 8,
    "start_time": "2022-02-20T07:43:47.030Z"
   },
   {
    "duration": 159,
    "start_time": "2022-02-20T07:43:47.046Z"
   },
   {
    "duration": 3,
    "start_time": "2022-02-20T07:43:47.207Z"
   },
   {
    "duration": 150,
    "start_time": "2022-02-20T07:43:47.211Z"
   },
   {
    "duration": 6,
    "start_time": "2022-02-20T07:43:47.363Z"
   },
   {
    "duration": 169,
    "start_time": "2022-02-20T07:43:47.371Z"
   },
   {
    "duration": 141,
    "start_time": "2022-02-20T07:43:47.545Z"
   },
   {
    "duration": 7,
    "start_time": "2022-02-20T07:43:47.687Z"
   },
   {
    "duration": 8,
    "start_time": "2022-02-20T07:43:47.695Z"
   },
   {
    "duration": 235,
    "start_time": "2022-02-20T07:43:47.704Z"
   },
   {
    "duration": 175,
    "start_time": "2022-02-20T07:43:47.941Z"
   },
   {
    "duration": 159,
    "start_time": "2022-02-20T07:43:48.117Z"
   },
   {
    "duration": 7,
    "start_time": "2022-02-20T07:43:48.278Z"
   },
   {
    "duration": 168,
    "start_time": "2022-02-20T07:43:48.287Z"
   },
   {
    "duration": 152,
    "start_time": "2022-02-20T07:43:48.456Z"
   },
   {
    "duration": 8,
    "start_time": "2022-02-20T07:43:48.610Z"
   },
   {
    "duration": 171,
    "start_time": "2022-02-20T07:43:48.619Z"
   },
   {
    "duration": 22,
    "start_time": "2022-02-20T07:43:48.791Z"
   },
   {
    "duration": 5,
    "start_time": "2022-02-20T07:43:48.814Z"
   },
   {
    "duration": 29,
    "start_time": "2022-02-20T07:43:48.820Z"
   },
   {
    "duration": 5,
    "start_time": "2022-02-20T07:43:48.851Z"
   },
   {
    "duration": 104,
    "start_time": "2022-02-20T12:29:55.106Z"
   }
  ],
  "kernelspec": {
   "display_name": "Python 3 (ipykernel)",
   "language": "python",
   "name": "python3"
  },
  "language_info": {
   "codemirror_mode": {
    "name": "ipython",
    "version": 3
   },
   "file_extension": ".py",
   "mimetype": "text/x-python",
   "name": "python",
   "nbconvert_exporter": "python",
   "pygments_lexer": "ipython3",
   "version": "3.9.7"
  },
  "toc": {
   "base_numbering": 1,
   "nav_menu": {},
   "number_sections": true,
   "sideBar": true,
   "skip_h1_title": true,
   "title_cell": "Table of Contents",
   "title_sidebar": "Contents",
   "toc_cell": false,
   "toc_position": {},
   "toc_section_display": true,
   "toc_window_display": false
  }
 },
 "nbformat": 4,
 "nbformat_minor": 2
}
