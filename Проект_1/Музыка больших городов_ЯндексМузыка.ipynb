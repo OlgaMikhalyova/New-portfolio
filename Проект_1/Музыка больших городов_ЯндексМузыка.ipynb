{
 "cells": [
  {
   "cell_type": "markdown",
   "metadata": {
    "id": "E0vqbgi9ay0H"
   },
   "source": [
    "# Сравнение использования приложения Яндекс.Музыка в разных городах"
   ]
  },
  {
   "cell_type": "markdown",
   "metadata": {},
   "source": [
    "<h1>Содержание<span class=\"tocSkip\"></span></h1>\n",
    "</a></span><li><span><a  href=\"#Изучение данных из файла\" data-toc-modified-id=\"Изучение данных из файла\"><span class=\"toc-item-num\">1&nbsp;&nbsp;</span>Изучение данных из файла</a></span><li><span><a href=\"#Предобработка-данных\" data-toc-modified-id=\"Предобработка-данных-2\"><span class=\"toc-item-num\">2&nbsp;&nbsp;</span>Предобработка данных</a></span></li><li><span><a href=\"#Исследовательский анализ данных\" data-toc-modified-id=\"Исследовательский анализ данных\"><span class=\"toc-item-num\">3&nbsp;&nbsp;</span>Исследовательский анализ данных</a></span></li><li><span><a href=\"#Выводы\" data-toc-modified-id=\"Выводы\"><span class=\"toc-item-num\">4&nbsp;&nbsp;</span>Выводы</a></span>"
   ]
  },
  {
   "cell_type": "markdown",
   "metadata": {
    "id": "VUC88oWjTJw2"
   },
   "source": [
    "Из предотсавленного файла данных необходимо сделать выводы и сравнить поведение пользователей в Москве и Петербурге.\n",
    "Необходимо проверьте три гипотезы:\n",
    "1. Зависит ли активность пользователей в Москве и Петербурге от дня недели.\n",
    "2. В понедельник утром в Москве преобладают одни жанры, а в Петербурге — другие. Аналогичная ситуация складывается вечером пятницы в разных городах преобладают разные жанры. \n",
    "3. Отличаются ли жанровые предпочтения пользователей в Москве и Петербурге."
   ]
  },
  {
   "cell_type": "markdown",
   "metadata": {
    "id": "Ml1hmfXC_Zcs"
   },
   "source": [
    "## Изучение данных из файла"
   ]
  },
  {
   "cell_type": "code",
   "execution_count": 1,
   "metadata": {
    "id": "AXN7PHPN_Zcs"
   },
   "outputs": [],
   "source": [
    "# импорт библиотек\n",
    "\n",
    "import pandas as pd"
   ]
  },
  {
   "cell_type": "code",
   "execution_count": 2,
   "metadata": {
    "id": "fFVu7vqh_Zct"
   },
   "outputs": [],
   "source": [
    "# прочитан файл и сохранен в переменной df\n",
    "\n",
    "df = pd.read_csv('/datasets/yandex_music_project.csv')"
   ]
  },
  {
   "cell_type": "code",
   "execution_count": 3,
   "metadata": {
    "id": "oWTVX3gW_Zct"
   },
   "outputs": [
    {
     "data": {
      "text/html": [
       "<div>\n",
       "<style scoped>\n",
       "    .dataframe tbody tr th:only-of-type {\n",
       "        vertical-align: middle;\n",
       "    }\n",
       "\n",
       "    .dataframe tbody tr th {\n",
       "        vertical-align: top;\n",
       "    }\n",
       "\n",
       "    .dataframe thead th {\n",
       "        text-align: right;\n",
       "    }\n",
       "</style>\n",
       "<table border=\"1\" class=\"dataframe\">\n",
       "  <thead>\n",
       "    <tr style=\"text-align: right;\">\n",
       "      <th></th>\n",
       "      <th>userID</th>\n",
       "      <th>Track</th>\n",
       "      <th>artist</th>\n",
       "      <th>genre</th>\n",
       "      <th>City</th>\n",
       "      <th>time</th>\n",
       "      <th>Day</th>\n",
       "    </tr>\n",
       "  </thead>\n",
       "  <tbody>\n",
       "    <tr>\n",
       "      <th>0</th>\n",
       "      <td>FFB692EC</td>\n",
       "      <td>Kamigata To Boots</td>\n",
       "      <td>The Mass Missile</td>\n",
       "      <td>rock</td>\n",
       "      <td>Saint-Petersburg</td>\n",
       "      <td>20:28:33</td>\n",
       "      <td>Wednesday</td>\n",
       "    </tr>\n",
       "    <tr>\n",
       "      <th>1</th>\n",
       "      <td>55204538</td>\n",
       "      <td>Delayed Because of Accident</td>\n",
       "      <td>Andreas Rönnberg</td>\n",
       "      <td>rock</td>\n",
       "      <td>Moscow</td>\n",
       "      <td>14:07:09</td>\n",
       "      <td>Friday</td>\n",
       "    </tr>\n",
       "    <tr>\n",
       "      <th>2</th>\n",
       "      <td>20EC38</td>\n",
       "      <td>Funiculì funiculà</td>\n",
       "      <td>Mario Lanza</td>\n",
       "      <td>pop</td>\n",
       "      <td>Saint-Petersburg</td>\n",
       "      <td>20:58:07</td>\n",
       "      <td>Wednesday</td>\n",
       "    </tr>\n",
       "    <tr>\n",
       "      <th>3</th>\n",
       "      <td>A3DD03C9</td>\n",
       "      <td>Dragons in the Sunset</td>\n",
       "      <td>Fire + Ice</td>\n",
       "      <td>folk</td>\n",
       "      <td>Saint-Petersburg</td>\n",
       "      <td>08:37:09</td>\n",
       "      <td>Monday</td>\n",
       "    </tr>\n",
       "    <tr>\n",
       "      <th>4</th>\n",
       "      <td>E2DC1FAE</td>\n",
       "      <td>Soul People</td>\n",
       "      <td>Space Echo</td>\n",
       "      <td>dance</td>\n",
       "      <td>Moscow</td>\n",
       "      <td>08:34:34</td>\n",
       "      <td>Monday</td>\n",
       "    </tr>\n",
       "  </tbody>\n",
       "</table>\n",
       "</div>"
      ],
      "text/plain": [
       "     userID                        Track            artist  genre  \\\n",
       "0  FFB692EC            Kamigata To Boots  The Mass Missile   rock   \n",
       "1  55204538  Delayed Because of Accident  Andreas Rönnberg   rock   \n",
       "2    20EC38            Funiculì funiculà       Mario Lanza    pop   \n",
       "3  A3DD03C9        Dragons in the Sunset        Fire + Ice   folk   \n",
       "4  E2DC1FAE                  Soul People        Space Echo  dance   \n",
       "\n",
       "             City        time        Day  \n",
       "0  Saint-Petersburg  20:28:33  Wednesday  \n",
       "1            Moscow  14:07:09     Friday  \n",
       "2  Saint-Petersburg  20:58:07  Wednesday  \n",
       "3  Saint-Petersburg  08:37:09     Monday  \n",
       "4            Moscow  08:34:34     Monday  "
      ]
     },
     "metadata": {},
     "output_type": "display_data"
    }
   ],
   "source": [
    "# выведены на экран первые 5 строк датафрейма\n",
    "\n",
    "display(df.head())"
   ]
  },
  {
   "cell_type": "code",
   "execution_count": 4,
   "metadata": {
    "id": "DSf2kIb-_Zct"
   },
   "outputs": [
    {
     "name": "stdout",
     "output_type": "stream",
     "text": [
      "<class 'pandas.core.frame.DataFrame'>\n",
      "RangeIndex: 65079 entries, 0 to 65078\n",
      "Data columns (total 7 columns):\n",
      " #   Column    Non-Null Count  Dtype \n",
      "---  ------    --------------  ----- \n",
      " 0     userID  65079 non-null  object\n",
      " 1   Track     63848 non-null  object\n",
      " 2   artist    57876 non-null  object\n",
      " 3   genre     63881 non-null  object\n",
      " 4     City    65079 non-null  object\n",
      " 5   time      65079 non-null  object\n",
      " 6   Day       65079 non-null  object\n",
      "dtypes: object(7)\n",
      "memory usage: 3.5+ MB\n"
     ]
    }
   ],
   "source": [
    "# получена общая информация о датафрейме \n",
    "df.info()"
   ]
  },
  {
   "cell_type": "markdown",
   "metadata": {
    "id": "TaQ2Iwbr_Zct"
   },
   "source": [
    "Из полученных данных видно, что в таблице 7 столбцов. Тип данных во всех столбцах — `object`.\n",
    "\n",
    "Согласно документации к данным:\n",
    "* `userID` — идентификатор пользователя;\n",
    "* `Track` — название трека;  \n",
    "* `artist` — имя исполнителя;\n",
    "* `genre` — название жанра;\n",
    "* `City` — город пользователя;\n",
    "* `time` — время начала прослушивания;\n",
    "* `Day` — день недели.\n",
    "\n",
    "Также видно, что в названиях столбцов есть нарушения стиля, необходимо привести все значения в нижнему регистру, в наименованиях есть пробелы. Количество значений в столбцах различается. Значит, в данных есть пропущенные значения.\n"
   ]
  },
  {
   "cell_type": "markdown",
   "metadata": {
    "id": "MCB6-dXG_Zct"
   },
   "source": [
    "**Выводы**\n",
    "\n",
    "Представленный датафрейм даёт информацию как о самом треке (название, исполнитель, жанр), так и о пользоватете (город и какую музыку он слушает). Из полученных данных видно, что в названиях столбцов есть нарушения стиля, необходимо привести все значения к нижнему регистру, в наименованиях есть пробелы. Для дальнейшей работы необходимо провести предобработку данных - переименовать все столбцы по правилам хорошего стиля, проверить таблицу на пропуски и дубликаты."
   ]
  },
  {
   "cell_type": "markdown",
   "metadata": {
    "id": "SjYF6Ub9_Zct"
   },
   "source": [
    "## Предобработка данных"
   ]
  },
  {
   "cell_type": "markdown",
   "metadata": {
    "id": "dIaKXr29_Zct"
   },
   "source": [
    "### Стиль заголовков"
   ]
  },
  {
   "cell_type": "code",
   "execution_count": 5,
   "metadata": {
    "id": "oKOTdF_Q_Zct"
   },
   "outputs": [
    {
     "name": "stdout",
     "output_type": "stream",
     "text": [
      "Index(['  userID', 'Track', 'artist', 'genre', '  City  ', 'time', 'Day'], dtype='object')\n"
     ]
    }
   ],
   "source": [
    "# выведем на экран информацию о наименовании столбцов\n",
    "\n",
    "print(df.columns)"
   ]
  },
  {
   "cell_type": "code",
   "execution_count": 6,
   "metadata": {
    "id": "ISlFqs5y_Zct"
   },
   "outputs": [],
   "source": [
    "# переименуем столбцы по правилам хорошего стиля\n",
    "\n",
    "df = df.rename(columns={'  userID': 'user_id', 'Track': 'track','  City  ': 'city', 'Day': 'day'})"
   ]
  },
  {
   "cell_type": "code",
   "execution_count": 7,
   "metadata": {
    "id": "d4NOAmTW_Zct"
   },
   "outputs": [
    {
     "name": "stdout",
     "output_type": "stream",
     "text": [
      "Index(['user_id', 'track', 'artist', 'genre', 'city', 'time', 'day'], dtype='object')\n"
     ]
    }
   ],
   "source": [
    "# проверяем полученный результат\n",
    "\n",
    "print(df.columns)"
   ]
  },
  {
   "cell_type": "markdown",
   "metadata": {
    "id": "5ISfbcfY_Zct"
   },
   "source": [
    "### Пропуски значений"
   ]
  },
  {
   "cell_type": "code",
   "execution_count": 8,
   "metadata": {
    "id": "RskX29qr_Zct"
   },
   "outputs": [
    {
     "data": {
      "text/plain": [
       "user_id       0\n",
       "track      1231\n",
       "artist     7203\n",
       "genre      1198\n",
       "city          0\n",
       "time          0\n",
       "day           0\n",
       "dtype: int64"
      ]
     },
     "metadata": {},
     "output_type": "display_data"
    }
   ],
   "source": [
    "# проверяем пропуски в датафрейме \n",
    "\n",
    "display(df.isna().sum())"
   ]
  },
  {
   "cell_type": "markdown",
   "metadata": {
    "id": "qubhgnlO_Zct"
   },
   "source": [
    "Из полученных данных видно, что пропуски встречаются в столбцах track, artist и genre. Все пропущенные значения заменим на 'unknown'. Столбцы track и artist не потребуются для дальнейших расчетов, поэтому замена в этих столбцах точно не повлияет на дальнейшие расчеты. Столбец genre будет использван для дальнейших расчетов, но кол-во пропусков составляет 1,9%, значение крайне мало, поэтому не должно повлиять на качество итоговых результатов."
   ]
  },
  {
   "cell_type": "code",
   "execution_count": 9,
   "metadata": {
    "id": "KplB5qWs_Zct"
   },
   "outputs": [],
   "source": [
    "# заменим пропущенные значения в столбцах track, artist и genre на строку 'unknown'\n",
    "\n",
    "columns_to_replace = ['track', 'artist', 'genre']\n",
    "for columns in columns_to_replace:\n",
    "    df[columns] = df[columns].fillna('unknown')"
   ]
  },
  {
   "cell_type": "code",
   "execution_count": 10,
   "metadata": {
    "id": "Tq4nYRX4_Zct"
   },
   "outputs": [
    {
     "name": "stdout",
     "output_type": "stream",
     "text": [
      "user_id    0\n",
      "track      0\n",
      "artist     0\n",
      "genre      0\n",
      "city       0\n",
      "time       0\n",
      "day        0\n",
      "dtype: int64\n"
     ]
    }
   ],
   "source": [
    "# проверяем полученный результат\n",
    "\n",
    "print(df.isna().sum())"
   ]
  },
  {
   "cell_type": "markdown",
   "metadata": {
    "id": "BWKRtBJ3_Zct"
   },
   "source": [
    "### Дубликаты"
   ]
  },
  {
   "cell_type": "code",
   "execution_count": 11,
   "metadata": {
    "id": "36eES_S0_Zct"
   },
   "outputs": [
    {
     "name": "stdout",
     "output_type": "stream",
     "text": [
      "3826\n"
     ]
    }
   ],
   "source": [
    "# проверяем явные дубликаты\n",
    "\n",
    "print(df.duplicated().sum())"
   ]
  },
  {
   "cell_type": "code",
   "execution_count": 12,
   "metadata": {
    "id": "exFHq6tt_Zct"
   },
   "outputs": [],
   "source": [
    "# удаляем явные дубликаты\n",
    "\n",
    "df = df.drop_duplicates().reset_index(drop=True)"
   ]
  },
  {
   "cell_type": "code",
   "execution_count": 13,
   "metadata": {
    "id": "-8PuNWQ0_Zct"
   },
   "outputs": [
    {
     "name": "stdout",
     "output_type": "stream",
     "text": [
      "0\n"
     ]
    }
   ],
   "source": [
    "# проверяем итоговый результат\n",
    "\n",
    "print(df.duplicated().sum())"
   ]
  },
  {
   "cell_type": "markdown",
   "metadata": {
    "id": "QlFBsxAr_Zct"
   },
   "source": [
    "Также необходимо проверить неявные дубликаты в столбце genre.Так как название одного и того же жанра может быть записано по-разному."
   ]
  },
  {
   "cell_type": "code",
   "execution_count": 14,
   "metadata": {
    "id": "JIUcqzZN_Zct"
   },
   "outputs": [
    {
     "name": "stdout",
     "output_type": "stream",
     "text": [
      "['acid', 'acoustic', 'action', 'adult', 'africa', 'afrikaans', 'alternative', 'alternativepunk', 'ambient', 'americana', 'animated', 'anime', 'arabesk', 'arabic', 'arena', 'argentinetango', 'art', 'audiobook', 'author', 'avantgarde', 'axé', 'baile', 'balkan', 'beats', 'bigroom', 'black', 'bluegrass', 'blues', 'bollywood', 'bossa', 'brazilian', 'breakbeat', 'breaks', 'broadway', 'cantautori', 'cantopop', 'canzone', 'caribbean', 'caucasian', 'celtic', 'chamber', 'chanson', 'children', 'chill', 'chinese', 'choral', 'christian', 'christmas', 'classical', 'classicmetal', 'club', 'colombian', 'comedy', 'conjazz', 'contemporary', 'country', 'cuban', 'dance', 'dancehall', 'dancepop', 'dark', 'death', 'deep', 'deutschrock', 'deutschspr', 'dirty', 'disco', 'dnb', 'documentary', 'downbeat', 'downtempo', 'drum', 'dub', 'dubstep', 'eastern', 'easy', 'electronic', 'electropop', 'emo', 'entehno', 'epicmetal', 'estrada', 'ethnic', 'eurofolk', 'european', 'experimental', 'extrememetal', 'fado', 'fairytail', 'film', 'fitness', 'flamenco', 'folk', 'folklore', 'folkmetal', 'folkrock', 'folktronica', 'forró', 'frankreich', 'französisch', 'french', 'funk', 'future', 'gangsta', 'garage', 'german', 'ghazal', 'gitarre', 'glitch', 'gospel', 'gothic', 'grime', 'grunge', 'gypsy', 'handsup', \"hard'n'heavy\", 'hardcore', 'hardstyle', 'hardtechno', 'hip', 'hip-hop', 'hiphop', 'historisch', 'holiday', 'hop', 'horror', 'house', 'hymn', 'idm', 'independent', 'indian', 'indie', 'indipop', 'industrial', 'inspirational', 'instrumental', 'international', 'irish', 'jam', 'japanese', 'jazz', 'jewish', 'jpop', 'jungle', 'k-pop', 'karadeniz', 'karaoke', 'kayokyoku', 'korean', 'laiko', 'latin', 'latino', 'leftfield', 'local', 'lounge', 'loungeelectronic', 'lovers', 'malaysian', 'mandopop', 'marschmusik', 'meditative', 'mediterranean', 'melodic', 'metal', 'metalcore', 'mexican', 'middle', 'minimal', 'miscellaneous', 'modern', 'mood', 'mpb', 'muslim', 'native', 'neoklassik', 'neue', 'new', 'newage', 'newwave', 'nu', 'nujazz', 'numetal', 'oceania', 'old', 'opera', 'orchestral', 'other', 'piano', 'podcasts', 'pop', 'popdance', 'popelectronic', 'popeurodance', 'poprussian', 'post', 'posthardcore', 'postrock', 'power', 'progmetal', 'progressive', 'psychedelic', 'punjabi', 'punk', 'quebecois', 'ragga', 'ram', 'rancheras', 'rap', 'rave', 'reggae', 'reggaeton', 'regional', 'relax', 'religious', 'retro', 'rhythm', 'rnb', 'rnr', 'rock', 'rockabilly', 'rockalternative', 'rockindie', 'rockother', 'romance', 'roots', 'ruspop', 'rusrap', 'rusrock', 'russian', 'salsa', 'samba', 'scenic', 'schlager', 'self', 'sertanejo', 'shanson', 'shoegazing', 'showtunes', 'singer', 'ska', 'skarock', 'slow', 'smooth', 'soft', 'soul', 'soulful', 'sound', 'soundtrack', 'southern', 'specialty', 'speech', 'spiritual', 'sport', 'stonerrock', 'surf', 'swing', 'synthpop', 'synthrock', 'sängerportrait', 'tango', 'tanzorchester', 'taraftar', 'tatar', 'tech', 'techno', 'teen', 'thrash', 'top', 'traditional', 'tradjazz', 'trance', 'tribal', 'trip', 'triphop', 'tropical', 'türk', 'türkçe', 'ukrrock', 'unknown', 'urban', 'uzbek', 'variété', 'vi', 'videogame', 'vocal', 'western', 'world', 'worldbeat', 'ïîï', 'электроника']\n"
     ]
    }
   ],
   "source": [
    "# выводим на экран наименования всех жанров\n",
    "\n",
    "print(sorted(df['genre'].unique()))"
   ]
  },
  {
   "cell_type": "markdown",
   "metadata": {
    "id": "qej-Qmuo_Zct"
   },
   "source": [
    "Из полученныз данных выявлены неявные дубликаты hip,hop,hip-hop.\n",
    "Заменим все наименования на единое hiphop"
   ]
  },
  {
   "cell_type": "code",
   "execution_count": 15,
   "metadata": {
    "id": "ErNDkmns_Zct"
   },
   "outputs": [],
   "source": [
    "# написана функция для замены наименований жанров\n",
    "\n",
    "def replace_wrong_genres(wrong_genres, correct_genre):\n",
    "    for wrong_genre in wrong_genres:\n",
    "        df['genre'] = df['genre'].replace(wrong_genres, correct_genre)"
   ]
  },
  {
   "cell_type": "code",
   "execution_count": 16,
   "metadata": {
    "id": "YN5i2hpmSo09"
   },
   "outputs": [],
   "source": [
    "duplicates = ['hip', 'hop', 'hip-hop']\n",
    "name = 'hiphop'\n",
    "replace_wrong_genres(duplicates, name)"
   ]
  },
  {
   "cell_type": "code",
   "execution_count": 17,
   "metadata": {
    "id": "wvixALnFG15m"
   },
   "outputs": [
    {
     "name": "stdout",
     "output_type": "stream",
     "text": [
      "['acid', 'acoustic', 'action', 'adult', 'africa', 'afrikaans', 'alternative', 'alternativepunk', 'ambient', 'americana', 'animated', 'anime', 'arabesk', 'arabic', 'arena', 'argentinetango', 'art', 'audiobook', 'author', 'avantgarde', 'axé', 'baile', 'balkan', 'beats', 'bigroom', 'black', 'bluegrass', 'blues', 'bollywood', 'bossa', 'brazilian', 'breakbeat', 'breaks', 'broadway', 'cantautori', 'cantopop', 'canzone', 'caribbean', 'caucasian', 'celtic', 'chamber', 'chanson', 'children', 'chill', 'chinese', 'choral', 'christian', 'christmas', 'classical', 'classicmetal', 'club', 'colombian', 'comedy', 'conjazz', 'contemporary', 'country', 'cuban', 'dance', 'dancehall', 'dancepop', 'dark', 'death', 'deep', 'deutschrock', 'deutschspr', 'dirty', 'disco', 'dnb', 'documentary', 'downbeat', 'downtempo', 'drum', 'dub', 'dubstep', 'eastern', 'easy', 'electronic', 'electropop', 'emo', 'entehno', 'epicmetal', 'estrada', 'ethnic', 'eurofolk', 'european', 'experimental', 'extrememetal', 'fado', 'fairytail', 'film', 'fitness', 'flamenco', 'folk', 'folklore', 'folkmetal', 'folkrock', 'folktronica', 'forró', 'frankreich', 'französisch', 'french', 'funk', 'future', 'gangsta', 'garage', 'german', 'ghazal', 'gitarre', 'glitch', 'gospel', 'gothic', 'grime', 'grunge', 'gypsy', 'handsup', \"hard'n'heavy\", 'hardcore', 'hardstyle', 'hardtechno', 'hiphop', 'historisch', 'holiday', 'horror', 'house', 'hymn', 'idm', 'independent', 'indian', 'indie', 'indipop', 'industrial', 'inspirational', 'instrumental', 'international', 'irish', 'jam', 'japanese', 'jazz', 'jewish', 'jpop', 'jungle', 'k-pop', 'karadeniz', 'karaoke', 'kayokyoku', 'korean', 'laiko', 'latin', 'latino', 'leftfield', 'local', 'lounge', 'loungeelectronic', 'lovers', 'malaysian', 'mandopop', 'marschmusik', 'meditative', 'mediterranean', 'melodic', 'metal', 'metalcore', 'mexican', 'middle', 'minimal', 'miscellaneous', 'modern', 'mood', 'mpb', 'muslim', 'native', 'neoklassik', 'neue', 'new', 'newage', 'newwave', 'nu', 'nujazz', 'numetal', 'oceania', 'old', 'opera', 'orchestral', 'other', 'piano', 'podcasts', 'pop', 'popdance', 'popelectronic', 'popeurodance', 'poprussian', 'post', 'posthardcore', 'postrock', 'power', 'progmetal', 'progressive', 'psychedelic', 'punjabi', 'punk', 'quebecois', 'ragga', 'ram', 'rancheras', 'rap', 'rave', 'reggae', 'reggaeton', 'regional', 'relax', 'religious', 'retro', 'rhythm', 'rnb', 'rnr', 'rock', 'rockabilly', 'rockalternative', 'rockindie', 'rockother', 'romance', 'roots', 'ruspop', 'rusrap', 'rusrock', 'russian', 'salsa', 'samba', 'scenic', 'schlager', 'self', 'sertanejo', 'shanson', 'shoegazing', 'showtunes', 'singer', 'ska', 'skarock', 'slow', 'smooth', 'soft', 'soul', 'soulful', 'sound', 'soundtrack', 'southern', 'specialty', 'speech', 'spiritual', 'sport', 'stonerrock', 'surf', 'swing', 'synthpop', 'synthrock', 'sängerportrait', 'tango', 'tanzorchester', 'taraftar', 'tatar', 'tech', 'techno', 'teen', 'thrash', 'top', 'traditional', 'tradjazz', 'trance', 'tribal', 'trip', 'triphop', 'tropical', 'türk', 'türkçe', 'ukrrock', 'unknown', 'urban', 'uzbek', 'variété', 'vi', 'videogame', 'vocal', 'western', 'world', 'worldbeat', 'ïîï', 'электроника']\n"
     ]
    }
   ],
   "source": [
    "# проверяем полученные данные\n",
    "\n",
    "print(sorted(df['genre'].unique()))"
   ]
  },
  {
   "cell_type": "markdown",
   "metadata": {
    "id": "jz6a9-7HQUDd"
   },
   "source": [
    "Предобработка данных проведена, можно переходить к исследовательскому анализу."
   ]
  },
  {
   "cell_type": "markdown",
   "metadata": {
    "id": "WttZHXH0SqKk"
   },
   "source": [
    "## Исследовательский анализ данных"
   ]
  },
  {
   "cell_type": "markdown",
   "metadata": {
    "id": "Im936VVi_Zcu"
   },
   "source": [
    "### Сравнение поведения пользователей двух столиц"
   ]
  },
  {
   "cell_type": "markdown",
   "metadata": {
    "id": "nwt_MuaL_Zcu"
   },
   "source": [
    "Сравним пользовательскую активность в разных городах в разные дни недели."
   ]
  },
  {
   "cell_type": "code",
   "execution_count": 18,
   "metadata": {
    "id": "0_Qs96oh_Zcu"
   },
   "outputs": [
    {
     "name": "stdout",
     "output_type": "stream",
     "text": [
      "city\n",
      "Moscow              42741\n",
      "Saint-Petersburg    18512\n",
      "Name: genre, dtype: int64\n"
     ]
    }
   ],
   "source": [
    "# оценим активность пользователей в каждом городе\n",
    "\n",
    "activity_number = df.groupby('city')['genre'].count()\n",
    "print(activity_number)"
   ]
  },
  {
   "cell_type": "markdown",
   "metadata": {
    "id": "dzli3w8o_Zcu"
   },
   "source": [
    "В Москве прослушиваний больше, чем в Петербурге, полученное значение вполне логично, так как население Москвы больше, чем Петербурга."
   ]
  },
  {
   "cell_type": "code",
   "execution_count": 19,
   "metadata": {
    "id": "uZMKjiJz_Zcu"
   },
   "outputs": [
    {
     "name": "stdout",
     "output_type": "stream",
     "text": [
      "day\n",
      "Friday       21840\n",
      "Monday       21354\n",
      "Wednesday    18059\n",
      "Name: genre, dtype: int64\n"
     ]
    }
   ],
   "source": [
    "# Также посчитаем прослушивания в понедельник, среду и пятницу. \n",
    "\n",
    "week_activity = df.groupby('day')['genre'].count()\n",
    "print(week_activity)"
   ]
  },
  {
   "cell_type": "markdown",
   "metadata": {
    "id": "cC2tNrlL_Zcu"
   },
   "source": [
    "Из полученных данных видно, что минимальная активность пользователей наблюдается по средам, максимальная - по пятницам. Но это общая картина, возможно, мы получим другие данные, разделив их по городам."
   ]
  },
  {
   "cell_type": "code",
   "execution_count": 20,
   "metadata": {
    "id": "Nz3GdQB1_Zcu"
   },
   "outputs": [
    {
     "name": "stdout",
     "output_type": "stream",
     "text": [
      "15740\n"
     ]
    }
   ],
   "source": [
    "# функция для прослушивания для заданного дня и города\n",
    "\n",
    "def number_tracks(day, city):\n",
    "    track_list = df[df['day'] == day]\n",
    "    track_list = track_list[track_list['city'] == city]\n",
    "    track_list_count = track_list['user_id'].count()\n",
    "    return track_list_count\n",
    "print(number_tracks('Monday', 'Moscow'))"
   ]
  },
  {
   "cell_type": "markdown",
   "metadata": {
    "id": "ytf7xFrFJQ2r"
   },
   "source": [
    "Вызовем эту функцию шесть раз, меняя значение параметров — так, чтобы получить данные для каждого города в каждый из трёх дней."
   ]
  },
  {
   "cell_type": "code",
   "execution_count": 21,
   "metadata": {
    "id": "rJcRATNQ_Zcu"
   },
   "outputs": [
    {
     "data": {
      "text/plain": [
       "15740"
      ]
     },
     "execution_count": 21,
     "metadata": {},
     "output_type": "execute_result"
    }
   ],
   "source": [
    "number_tracks('Monday','Moscow')"
   ]
  },
  {
   "cell_type": "code",
   "execution_count": 22,
   "metadata": {
    "id": "hq_ncZ5T_Zcu"
   },
   "outputs": [
    {
     "data": {
      "text/plain": [
       "5614"
      ]
     },
     "execution_count": 22,
     "metadata": {},
     "output_type": "execute_result"
    }
   ],
   "source": [
    "number_tracks('Monday','Saint-Petersburg')"
   ]
  },
  {
   "cell_type": "code",
   "execution_count": 23,
   "metadata": {
    "id": "_NTy2VPU_Zcu"
   },
   "outputs": [
    {
     "data": {
      "text/plain": [
       "11056"
      ]
     },
     "execution_count": 23,
     "metadata": {},
     "output_type": "execute_result"
    }
   ],
   "source": [
    "number_tracks('Wednesday','Moscow')"
   ]
  },
  {
   "cell_type": "code",
   "execution_count": 24,
   "metadata": {
    "id": "j2y3TAwo_Zcu"
   },
   "outputs": [
    {
     "data": {
      "text/plain": [
       "7003"
      ]
     },
     "execution_count": 24,
     "metadata": {},
     "output_type": "execute_result"
    }
   ],
   "source": [
    "number_tracks('Wednesday','Saint-Petersburg')"
   ]
  },
  {
   "cell_type": "code",
   "execution_count": 25,
   "metadata": {
    "id": "vYDw5u_K_Zcu"
   },
   "outputs": [
    {
     "data": {
      "text/plain": [
       "15945"
      ]
     },
     "execution_count": 25,
     "metadata": {},
     "output_type": "execute_result"
    }
   ],
   "source": [
    "number_tracks('Friday','Moscow')"
   ]
  },
  {
   "cell_type": "code",
   "execution_count": 26,
   "metadata": {
    "id": "8_yzFtW3_Zcu"
   },
   "outputs": [
    {
     "data": {
      "text/plain": [
       "5895"
      ]
     },
     "execution_count": 26,
     "metadata": {},
     "output_type": "execute_result"
    }
   ],
   "source": [
    "number_tracks('Friday','Saint-Petersburg')"
   ]
  },
  {
   "cell_type": "code",
   "execution_count": 27,
   "metadata": {
    "id": "APAcLpOr_Zcu"
   },
   "outputs": [
    {
     "data": {
      "text/html": [
       "<div>\n",
       "<style scoped>\n",
       "    .dataframe tbody tr th:only-of-type {\n",
       "        vertical-align: middle;\n",
       "    }\n",
       "\n",
       "    .dataframe tbody tr th {\n",
       "        vertical-align: top;\n",
       "    }\n",
       "\n",
       "    .dataframe thead th {\n",
       "        text-align: right;\n",
       "    }\n",
       "</style>\n",
       "<table border=\"1\" class=\"dataframe\">\n",
       "  <thead>\n",
       "    <tr style=\"text-align: right;\">\n",
       "      <th></th>\n",
       "      <th>city</th>\n",
       "      <th>monday</th>\n",
       "      <th>wednesday</th>\n",
       "      <th>friday</th>\n",
       "    </tr>\n",
       "  </thead>\n",
       "  <tbody>\n",
       "    <tr>\n",
       "      <th>0</th>\n",
       "      <td>Moscow</td>\n",
       "      <td>15740</td>\n",
       "      <td>11056</td>\n",
       "      <td>15945</td>\n",
       "    </tr>\n",
       "    <tr>\n",
       "      <th>1</th>\n",
       "      <td>Saint-Petersburg</td>\n",
       "      <td>5614</td>\n",
       "      <td>7003</td>\n",
       "      <td>5895</td>\n",
       "    </tr>\n",
       "  </tbody>\n",
       "</table>\n",
       "</div>"
      ],
      "text/plain": [
       "               city  monday  wednesday  friday\n",
       "0            Moscow   15740      11056   15945\n",
       "1  Saint-Petersburg    5614       7003    5895"
      ]
     },
     "metadata": {},
     "output_type": "display_data"
    }
   ],
   "source": [
    "# обобщим данные и получим таблицу\n",
    "\n",
    "data = [['Moscow', 15740, 11056, 15945],\n",
    "        ['Saint-Petersburg', 5614, 7003, 5895]]\n",
    "columns = ['city', 'monday', 'wednesday', 'friday']\n",
    "general_table = pd.DataFrame(data = data, columns = columns)\n",
    "display(general_table)"
   ]
  },
  {
   "cell_type": "markdown",
   "metadata": {
    "id": "-EgPIHYu_Zcu"
   },
   "source": [
    "Из таблицы видно, что макисмальное количетсво прослушиваний в Москве наблюдается в понедельник и пятницу - в среду наблюдается спад. В Петербурге обратная картина  - пик прослушиваний наблюдается по средам. То есть гипотеза подтверждается, в разные дни недели в разных городах количество прослушиваний отличается."
   ]
  },
  {
   "cell_type": "markdown",
   "metadata": {
    "id": "atZAxtq4_Zcu"
   },
   "source": [
    "### Музыка в начале и в конце недели"
   ]
  },
  {
   "cell_type": "markdown",
   "metadata": {
    "id": "eXrQqXFH_Zcu"
   },
   "source": [
    "Проверим вторую гипотезу о том, что утром в понедельник в Москве преобладают одни жанры, а в Петербурге — другие (аналогичная ситуация по пятницам)."
   ]
  },
  {
   "cell_type": "code",
   "execution_count": 28,
   "metadata": {
    "id": "qeaFfM_P_Zcu"
   },
   "outputs": [
    {
     "data": {
      "text/html": [
       "<div>\n",
       "<style scoped>\n",
       "    .dataframe tbody tr th:only-of-type {\n",
       "        vertical-align: middle;\n",
       "    }\n",
       "\n",
       "    .dataframe tbody tr th {\n",
       "        vertical-align: top;\n",
       "    }\n",
       "\n",
       "    .dataframe thead th {\n",
       "        text-align: right;\n",
       "    }\n",
       "</style>\n",
       "<table border=\"1\" class=\"dataframe\">\n",
       "  <thead>\n",
       "    <tr style=\"text-align: right;\">\n",
       "      <th></th>\n",
       "      <th>user_id</th>\n",
       "      <th>track</th>\n",
       "      <th>artist</th>\n",
       "      <th>genre</th>\n",
       "      <th>city</th>\n",
       "      <th>time</th>\n",
       "      <th>day</th>\n",
       "    </tr>\n",
       "  </thead>\n",
       "  <tbody>\n",
       "    <tr>\n",
       "      <th>1</th>\n",
       "      <td>55204538</td>\n",
       "      <td>Delayed Because of Accident</td>\n",
       "      <td>Andreas Rönnberg</td>\n",
       "      <td>rock</td>\n",
       "      <td>Moscow</td>\n",
       "      <td>14:07:09</td>\n",
       "      <td>Friday</td>\n",
       "    </tr>\n",
       "    <tr>\n",
       "      <th>4</th>\n",
       "      <td>E2DC1FAE</td>\n",
       "      <td>Soul People</td>\n",
       "      <td>Space Echo</td>\n",
       "      <td>dance</td>\n",
       "      <td>Moscow</td>\n",
       "      <td>08:34:34</td>\n",
       "      <td>Monday</td>\n",
       "    </tr>\n",
       "    <tr>\n",
       "      <th>6</th>\n",
       "      <td>4CB90AA5</td>\n",
       "      <td>True</td>\n",
       "      <td>Roman Messer</td>\n",
       "      <td>dance</td>\n",
       "      <td>Moscow</td>\n",
       "      <td>13:00:07</td>\n",
       "      <td>Wednesday</td>\n",
       "    </tr>\n",
       "    <tr>\n",
       "      <th>7</th>\n",
       "      <td>F03E1C1F</td>\n",
       "      <td>Feeling This Way</td>\n",
       "      <td>Polina Griffith</td>\n",
       "      <td>dance</td>\n",
       "      <td>Moscow</td>\n",
       "      <td>20:47:49</td>\n",
       "      <td>Wednesday</td>\n",
       "    </tr>\n",
       "    <tr>\n",
       "      <th>8</th>\n",
       "      <td>8FA1D3BE</td>\n",
       "      <td>И вновь продолжается бой</td>\n",
       "      <td>unknown</td>\n",
       "      <td>ruspop</td>\n",
       "      <td>Moscow</td>\n",
       "      <td>09:17:40</td>\n",
       "      <td>Friday</td>\n",
       "    </tr>\n",
       "    <tr>\n",
       "      <th>...</th>\n",
       "      <td>...</td>\n",
       "      <td>...</td>\n",
       "      <td>...</td>\n",
       "      <td>...</td>\n",
       "      <td>...</td>\n",
       "      <td>...</td>\n",
       "      <td>...</td>\n",
       "    </tr>\n",
       "    <tr>\n",
       "      <th>61247</th>\n",
       "      <td>83A474E7</td>\n",
       "      <td>I Worship Only What You Bleed</td>\n",
       "      <td>The Black Dahlia Murder</td>\n",
       "      <td>extrememetal</td>\n",
       "      <td>Moscow</td>\n",
       "      <td>21:07:12</td>\n",
       "      <td>Monday</td>\n",
       "    </tr>\n",
       "    <tr>\n",
       "      <th>61248</th>\n",
       "      <td>729CBB09</td>\n",
       "      <td>My Name</td>\n",
       "      <td>McLean</td>\n",
       "      <td>rnb</td>\n",
       "      <td>Moscow</td>\n",
       "      <td>13:32:28</td>\n",
       "      <td>Wednesday</td>\n",
       "    </tr>\n",
       "    <tr>\n",
       "      <th>61250</th>\n",
       "      <td>C5E3A0D5</td>\n",
       "      <td>Jalopiina</td>\n",
       "      <td>unknown</td>\n",
       "      <td>industrial</td>\n",
       "      <td>Moscow</td>\n",
       "      <td>20:09:26</td>\n",
       "      <td>Friday</td>\n",
       "    </tr>\n",
       "    <tr>\n",
       "      <th>61251</th>\n",
       "      <td>321D0506</td>\n",
       "      <td>Freight Train</td>\n",
       "      <td>Chas McDevitt</td>\n",
       "      <td>rock</td>\n",
       "      <td>Moscow</td>\n",
       "      <td>21:43:59</td>\n",
       "      <td>Friday</td>\n",
       "    </tr>\n",
       "    <tr>\n",
       "      <th>61252</th>\n",
       "      <td>3A64EF84</td>\n",
       "      <td>Tell Me Sweet Little Lies</td>\n",
       "      <td>Monica Lopez</td>\n",
       "      <td>country</td>\n",
       "      <td>Moscow</td>\n",
       "      <td>21:59:46</td>\n",
       "      <td>Friday</td>\n",
       "    </tr>\n",
       "  </tbody>\n",
       "</table>\n",
       "<p>42741 rows × 7 columns</p>\n",
       "</div>"
      ],
      "text/plain": [
       "        user_id                          track                   artist  \\\n",
       "1      55204538    Delayed Because of Accident         Andreas Rönnberg   \n",
       "4      E2DC1FAE                    Soul People               Space Echo   \n",
       "6      4CB90AA5                           True             Roman Messer   \n",
       "7      F03E1C1F               Feeling This Way          Polina Griffith   \n",
       "8      8FA1D3BE       И вновь продолжается бой                  unknown   \n",
       "...         ...                            ...                      ...   \n",
       "61247  83A474E7  I Worship Only What You Bleed  The Black Dahlia Murder   \n",
       "61248  729CBB09                        My Name                   McLean   \n",
       "61250  C5E3A0D5                      Jalopiina                  unknown   \n",
       "61251  321D0506                  Freight Train            Chas McDevitt   \n",
       "61252  3A64EF84      Tell Me Sweet Little Lies             Monica Lopez   \n",
       "\n",
       "              genre    city      time        day  \n",
       "1              rock  Moscow  14:07:09     Friday  \n",
       "4             dance  Moscow  08:34:34     Monday  \n",
       "6             dance  Moscow  13:00:07  Wednesday  \n",
       "7             dance  Moscow  20:47:49  Wednesday  \n",
       "8            ruspop  Moscow  09:17:40     Friday  \n",
       "...             ...     ...       ...        ...  \n",
       "61247  extrememetal  Moscow  21:07:12     Monday  \n",
       "61248           rnb  Moscow  13:32:28  Wednesday  \n",
       "61250    industrial  Moscow  20:09:26     Friday  \n",
       "61251          rock  Moscow  21:43:59     Friday  \n",
       "61252       country  Moscow  21:59:46     Friday  \n",
       "\n",
       "[42741 rows x 7 columns]"
      ]
     },
     "metadata": {},
     "output_type": "display_data"
    }
   ],
   "source": [
    "moscow_general = df[df['city'] == 'Moscow']# получение таблицы moscow_general из тех строк таблицы df, \n",
    "display(moscow_general)# для которых значение в столбце 'city' равно 'Moscow'\n"
   ]
  },
  {
   "cell_type": "code",
   "execution_count": 29,
   "metadata": {
    "id": "ORaVRKto_Zcu"
   },
   "outputs": [
    {
     "data": {
      "text/html": [
       "<div>\n",
       "<style scoped>\n",
       "    .dataframe tbody tr th:only-of-type {\n",
       "        vertical-align: middle;\n",
       "    }\n",
       "\n",
       "    .dataframe tbody tr th {\n",
       "        vertical-align: top;\n",
       "    }\n",
       "\n",
       "    .dataframe thead th {\n",
       "        text-align: right;\n",
       "    }\n",
       "</style>\n",
       "<table border=\"1\" class=\"dataframe\">\n",
       "  <thead>\n",
       "    <tr style=\"text-align: right;\">\n",
       "      <th></th>\n",
       "      <th>user_id</th>\n",
       "      <th>track</th>\n",
       "      <th>artist</th>\n",
       "      <th>genre</th>\n",
       "      <th>city</th>\n",
       "      <th>time</th>\n",
       "      <th>day</th>\n",
       "    </tr>\n",
       "  </thead>\n",
       "  <tbody>\n",
       "    <tr>\n",
       "      <th>0</th>\n",
       "      <td>FFB692EC</td>\n",
       "      <td>Kamigata To Boots</td>\n",
       "      <td>The Mass Missile</td>\n",
       "      <td>rock</td>\n",
       "      <td>Saint-Petersburg</td>\n",
       "      <td>20:28:33</td>\n",
       "      <td>Wednesday</td>\n",
       "    </tr>\n",
       "    <tr>\n",
       "      <th>2</th>\n",
       "      <td>20EC38</td>\n",
       "      <td>Funiculì funiculà</td>\n",
       "      <td>Mario Lanza</td>\n",
       "      <td>pop</td>\n",
       "      <td>Saint-Petersburg</td>\n",
       "      <td>20:58:07</td>\n",
       "      <td>Wednesday</td>\n",
       "    </tr>\n",
       "    <tr>\n",
       "      <th>3</th>\n",
       "      <td>A3DD03C9</td>\n",
       "      <td>Dragons in the Sunset</td>\n",
       "      <td>Fire + Ice</td>\n",
       "      <td>folk</td>\n",
       "      <td>Saint-Petersburg</td>\n",
       "      <td>08:37:09</td>\n",
       "      <td>Monday</td>\n",
       "    </tr>\n",
       "    <tr>\n",
       "      <th>5</th>\n",
       "      <td>842029A1</td>\n",
       "      <td>Преданная</td>\n",
       "      <td>IMPERVTOR</td>\n",
       "      <td>rusrap</td>\n",
       "      <td>Saint-Petersburg</td>\n",
       "      <td>13:09:41</td>\n",
       "      <td>Friday</td>\n",
       "    </tr>\n",
       "    <tr>\n",
       "      <th>9</th>\n",
       "      <td>E772D5C0</td>\n",
       "      <td>Pessimist</td>\n",
       "      <td>unknown</td>\n",
       "      <td>dance</td>\n",
       "      <td>Saint-Petersburg</td>\n",
       "      <td>21:20:49</td>\n",
       "      <td>Wednesday</td>\n",
       "    </tr>\n",
       "    <tr>\n",
       "      <th>...</th>\n",
       "      <td>...</td>\n",
       "      <td>...</td>\n",
       "      <td>...</td>\n",
       "      <td>...</td>\n",
       "      <td>...</td>\n",
       "      <td>...</td>\n",
       "      <td>...</td>\n",
       "    </tr>\n",
       "    <tr>\n",
       "      <th>61239</th>\n",
       "      <td>D94F810B</td>\n",
       "      <td>Theme from the Walking Dead</td>\n",
       "      <td>Proyecto Halloween</td>\n",
       "      <td>film</td>\n",
       "      <td>Saint-Petersburg</td>\n",
       "      <td>21:14:40</td>\n",
       "      <td>Monday</td>\n",
       "    </tr>\n",
       "    <tr>\n",
       "      <th>61240</th>\n",
       "      <td>BC8EC5CF</td>\n",
       "      <td>Red Lips: Gta (Rover Rework)</td>\n",
       "      <td>Rover</td>\n",
       "      <td>electronic</td>\n",
       "      <td>Saint-Petersburg</td>\n",
       "      <td>21:06:50</td>\n",
       "      <td>Monday</td>\n",
       "    </tr>\n",
       "    <tr>\n",
       "      <th>61241</th>\n",
       "      <td>29E04611</td>\n",
       "      <td>Bre Petrunko</td>\n",
       "      <td>Perunika Trio</td>\n",
       "      <td>world</td>\n",
       "      <td>Saint-Petersburg</td>\n",
       "      <td>13:56:00</td>\n",
       "      <td>Monday</td>\n",
       "    </tr>\n",
       "    <tr>\n",
       "      <th>61242</th>\n",
       "      <td>1B91C621</td>\n",
       "      <td>(Hello) Cloud Mountain</td>\n",
       "      <td>sleepmakeswaves</td>\n",
       "      <td>postrock</td>\n",
       "      <td>Saint-Petersburg</td>\n",
       "      <td>09:22:13</td>\n",
       "      <td>Monday</td>\n",
       "    </tr>\n",
       "    <tr>\n",
       "      <th>61249</th>\n",
       "      <td>D08D4A55</td>\n",
       "      <td>Maybe One Day (feat. Black Spade)</td>\n",
       "      <td>Blu &amp; Exile</td>\n",
       "      <td>hiphop</td>\n",
       "      <td>Saint-Petersburg</td>\n",
       "      <td>10:00:00</td>\n",
       "      <td>Monday</td>\n",
       "    </tr>\n",
       "  </tbody>\n",
       "</table>\n",
       "<p>18512 rows × 7 columns</p>\n",
       "</div>"
      ],
      "text/plain": [
       "        user_id                              track              artist  \\\n",
       "0      FFB692EC                  Kamigata To Boots    The Mass Missile   \n",
       "2        20EC38                  Funiculì funiculà         Mario Lanza   \n",
       "3      A3DD03C9              Dragons in the Sunset          Fire + Ice   \n",
       "5      842029A1                          Преданная           IMPERVTOR   \n",
       "9      E772D5C0                          Pessimist             unknown   \n",
       "...         ...                                ...                 ...   \n",
       "61239  D94F810B        Theme from the Walking Dead  Proyecto Halloween   \n",
       "61240  BC8EC5CF       Red Lips: Gta (Rover Rework)               Rover   \n",
       "61241  29E04611                       Bre Petrunko       Perunika Trio   \n",
       "61242  1B91C621             (Hello) Cloud Mountain     sleepmakeswaves   \n",
       "61249  D08D4A55  Maybe One Day (feat. Black Spade)         Blu & Exile   \n",
       "\n",
       "            genre              city      time        day  \n",
       "0            rock  Saint-Petersburg  20:28:33  Wednesday  \n",
       "2             pop  Saint-Petersburg  20:58:07  Wednesday  \n",
       "3            folk  Saint-Petersburg  08:37:09     Monday  \n",
       "5          rusrap  Saint-Petersburg  13:09:41     Friday  \n",
       "9           dance  Saint-Petersburg  21:20:49  Wednesday  \n",
       "...           ...               ...       ...        ...  \n",
       "61239        film  Saint-Petersburg  21:14:40     Monday  \n",
       "61240  electronic  Saint-Petersburg  21:06:50     Monday  \n",
       "61241       world  Saint-Petersburg  13:56:00     Monday  \n",
       "61242    postrock  Saint-Petersburg  09:22:13     Monday  \n",
       "61249      hiphop  Saint-Petersburg  10:00:00     Monday  \n",
       "\n",
       "[18512 rows x 7 columns]"
      ]
     },
     "metadata": {},
     "output_type": "display_data"
    }
   ],
   "source": [
    "spb_general = df[df['city'] == 'Saint-Petersburg']\n",
    "display(spb_general)# получение таблицы spb_general из тех строк таблицы df,\n",
    "# для которых значение в столбце 'city' равно 'Saint-Petersburg'\n"
   ]
  },
  {
   "cell_type": "markdown",
   "metadata": {
    "id": "MEJV-CX2_Zcu"
   },
   "source": [
    "Напишем функцию genre_weekday(). Функция должна вернуть информацию о топ-10 жанров тех треков, которые прослушивали в указанный день, в промежутке между двумя отметками времени."
   ]
  },
  {
   "cell_type": "code",
   "execution_count": 30,
   "metadata": {
    "id": "laJT9BYl_Zcu"
   },
   "outputs": [],
   "source": [
    "def genre_weekday(table, day, time1, time2):\n",
    "    genre_df = table[table['day'] == day]\n",
    "    genre_df = genre_df[genre_df['time'] > time1]\n",
    "    genre_df = genre_df[genre_df['time'] < time2]\n",
    "    genre_df_count = genre_df.groupby('genre')['track'].count()\n",
    "    genre_df_sorted = genre_df_count.sort_values(ascending=False)\n",
    "    genre_df_sorted = genre_df_sorted.head(10)\n",
    "    return genre_df_sorted"
   ]
  },
  {
   "cell_type": "markdown",
   "metadata": {
    "id": "la2s2_PF_Zcu"
   },
   "source": [
    "Сравним результаты функции `genre_weekday()` для Москвы и Санкт-Петербурга в понедельник утром (с 7:00 до 11:00) и в пятницу вечером (с 17:00 до 23:00):"
   ]
  },
  {
   "cell_type": "code",
   "execution_count": 31,
   "metadata": {
    "id": "yz7itPUQ_Zcu"
   },
   "outputs": [
    {
     "name": "stdout",
     "output_type": "stream",
     "text": [
      "genre\n",
      "pop            781\n",
      "dance          549\n",
      "electronic     480\n",
      "rock           474\n",
      "hiphop         286\n",
      "ruspop         186\n",
      "world          181\n",
      "rusrap         175\n",
      "alternative    164\n",
      "unknown        161\n",
      "Name: track, dtype: int64\n"
     ]
    }
   ],
   "source": [
    "print(genre_weekday(moscow_general,'Monday', '07:00', '11:00'))"
   ]
  },
  {
   "cell_type": "code",
   "execution_count": 32,
   "metadata": {
    "id": "kwUcHPdy_Zcu"
   },
   "outputs": [
    {
     "name": "stdout",
     "output_type": "stream",
     "text": [
      "genre\n",
      "pop            218\n",
      "dance          182\n",
      "rock           162\n",
      "electronic     147\n",
      "hiphop          80\n",
      "ruspop          64\n",
      "alternative     58\n",
      "rusrap          55\n",
      "jazz            44\n",
      "classical       40\n",
      "Name: track, dtype: int64\n"
     ]
    }
   ],
   "source": [
    "print(genre_weekday(spb_general,'Monday', '07:00', '11:00'))"
   ]
  },
  {
   "cell_type": "code",
   "execution_count": 33,
   "metadata": {
    "id": "EzXVRE1o_Zcu"
   },
   "outputs": [
    {
     "name": "stdout",
     "output_type": "stream",
     "text": [
      "genre\n",
      "pop            713\n",
      "rock           517\n",
      "dance          495\n",
      "electronic     482\n",
      "hiphop         273\n",
      "world          208\n",
      "ruspop         170\n",
      "alternative    163\n",
      "classical      163\n",
      "rusrap         142\n",
      "Name: track, dtype: int64\n"
     ]
    }
   ],
   "source": [
    "print(genre_weekday(moscow_general,'Friday', '17:00', '23:00'))"
   ]
  },
  {
   "cell_type": "code",
   "execution_count": 34,
   "metadata": {
    "id": "JZaEKu5v_Zcu"
   },
   "outputs": [
    {
     "name": "stdout",
     "output_type": "stream",
     "text": [
      "genre\n",
      "pop            256\n",
      "electronic     216\n",
      "rock           216\n",
      "dance          210\n",
      "hiphop          97\n",
      "alternative     63\n",
      "jazz            61\n",
      "classical       60\n",
      "rusrap          59\n",
      "world           54\n",
      "Name: track, dtype: int64\n"
     ]
    }
   ],
   "source": [
    "print(genre_weekday(spb_general,'Friday', '17:00', '23:00'))"
   ]
  },
  {
   "cell_type": "markdown",
   "metadata": {
    "id": "wrCe4MNX_Zcu"
   },
   "source": [
    "При сравнении полученных данных видно, что музыкальные предпочтения в Москве и Петербурге практически не отличаются.Единственное отличие — в московский рейтинг вошёл жанр “world”, а в петербургский — джаз и классика. Для Москва значение unknown попало в топ-10, то есть эти значения всё-таки играют сущетсвунную роль и влияют на расчеты (при презентации данных следует обратить внимание на этот момент и сделать акцент на корректности предоставленных данных).Для понедельника и пятница топ-10 жанров несущетсвенно отличается. То есть разница между Москвой и Петербургом не слишком выражена. В Москве чаще слушают русскую популярную музыку, в Петербурге — джаз."
   ]
  },
  {
   "cell_type": "markdown",
   "metadata": {
    "id": "JolODAqr_Zcu"
   },
   "source": [
    "### Жанровые предпочтения в Москве и Петербурге\n",
    "\n",
    "Проверим Гипотезу, что у Петербурге чаще слушают рэп, а в Москве — город преобладает поп-музыка."
   ]
  },
  {
   "cell_type": "code",
   "execution_count": 35,
   "metadata": {
    "id": "r19lIPke_Zcu"
   },
   "outputs": [
    {
     "data": {
      "text/plain": [
       "genre\n",
       "pop            5892\n",
       "dance          4435\n",
       "rock           3965\n",
       "electronic     3786\n",
       "hiphop         2096\n",
       "classical      1616\n",
       "world          1432\n",
       "alternative    1379\n",
       "ruspop         1372\n",
       "rusrap         1161\n",
       "Name: track, dtype: int64"
      ]
     },
     "metadata": {},
     "output_type": "display_data"
    }
   ],
   "source": [
    "# cгруппируем таблицу `moscow_general` по жанру и посчитайте прослушивания треков каждого жанра\n",
    "all_moscow = moscow_general.groupby('genre')['track'].count()\n",
    "moscow_genres = all_moscow.sort_values(ascending=False)\n",
    "display(moscow_genres.head(10))"
   ]
  },
  {
   "cell_type": "code",
   "execution_count": 36,
   "metadata": {
    "id": "gluLIpE7_Zcv"
   },
   "outputs": [
    {
     "data": {
      "text/plain": [
       "genre\n",
       "pop            2431\n",
       "dance          1932\n",
       "rock           1879\n",
       "electronic     1736\n",
       "hiphop          960\n",
       "alternative     649\n",
       "classical       646\n",
       "rusrap          564\n",
       "ruspop          538\n",
       "world           515\n",
       "Name: track, dtype: int64"
      ]
     },
     "metadata": {},
     "output_type": "display_data"
    }
   ],
   "source": [
    "# Сгруппируем таблицу spb_general по жанру\n",
    "\n",
    "all_spb = spb_general.groupby('genre')['track'].count()\n",
    "spb_general = all_spb.sort_values(ascending=False)\n",
    "display(spb_general.head(10))"
   ]
  },
  {
   "cell_type": "markdown",
   "metadata": {
    "id": "RY51YJYu_Zcv"
   },
   "source": [
    "**Выводы**"
   ]
  },
  {
   "cell_type": "markdown",
   "metadata": {
    "id": "nVhnJEm__Zcv"
   },
   "source": [
    "Поп-музыка — самый популярный жанр в Москве,при этом рэп одинаково популярен в Москве и Петербурге."
   ]
  },
  {
   "cell_type": "markdown",
   "metadata": {
    "id": "ykKQ0N65_Zcv"
   },
   "source": [
    "## Выводы"
   ]
  },
  {
   "cell_type": "markdown",
   "metadata": {
    "id": "tjUwbHb3_Zcv"
   },
   "source": [
    "В результате исследовательского анализа было проведено сравнение использования приложения Яндекс.Музыка в разных городах. Представленный датафрейм даёт информацию как о самом треке (название, исполнитель, жанр), так и о пользоватете (город и какую музыку он слушает). Была проведена предобработка данных, переименованы столбцы (написано \"змеиным регистром\" и проведены к нижнему регистру без пробелов), данные проверены на наличие пропусков и дубликатов. Выявлено 1198 пропусков в столбце genre, в результате работы обнаружено, что они влияют на дальнейшие выводы, поэтому требуется выяснять, почему эти данные не указаны в датафрейме.\n",
    "Проверено три гипотезы:\n",
    "\n",
    "1. Зависит ли активность пользователей в Москве и Петербурге от дня недели\n",
    "\n",
    "Макисмальное количетсво прослушиваний в Москве наблюдается в понедельник и пятницу - в среду наблюдается спад. В Петербурге обратная картина  - пик прослушиваний наблюдается по средам. То есть гипотеза подтверждается, в разные дни недели в разных городах количество прослушиваний отличается.\n",
    "\n",
    "2. В понедельник утром в Москве преобладают одни жанры, а в Петербурге — другие. Аналогичная ситуация складывается вечером пятницы в разных городах преобладают разные жанры. \n",
    "\n",
    "Музыкальные предпочтения в Москве и Петербурге практически не отличаются.Единственное отличие — в московский рейтинг вошёл жанр “world”, а в петербургский — джаз и классика. Для Москва значение unknown попало в топ-10, то есть эти значения всё-таки играют сущетсвунную роль и влияют на расчеты.Для понедельника и пятница топ-10 жанров несущетсвенно отличается. То есть разница между Москвой и Петербургом не слишком выражена. В Москве чаще слушают русскую популярную музыку, в Петербурге — джаз. Гипотеза не подтвердилась.\n",
    "\n",
    "3. Отличаются ли жанровые предпочтения пользователей в Москве и Петербурге.\n",
    "\n",
    "Поп-музыка — самый популярный жанр в Москве,при этом рэп одинаково популярен в Москве и Петербурге.Гипотеза подтвердилась частично."
   ]
  }
 ],
 "metadata": {
  "ExecuteTimeLog": [
   {
    "duration": 808,
    "start_time": "2021-12-22T10:54:42.883Z"
   },
   {
    "duration": 385,
    "start_time": "2021-12-22T10:56:30.662Z"
   },
   {
    "duration": 195,
    "start_time": "2021-12-22T10:57:10.984Z"
   },
   {
    "duration": 203,
    "start_time": "2021-12-22T10:57:21.138Z"
   },
   {
    "duration": 10,
    "start_time": "2021-12-22T10:58:16.598Z"
   },
   {
    "duration": 4,
    "start_time": "2021-12-22T10:59:16.076Z"
   },
   {
    "duration": 5,
    "start_time": "2021-12-22T11:05:31.149Z"
   },
   {
    "duration": 28,
    "start_time": "2021-12-22T11:08:40.018Z"
   },
   {
    "duration": 5,
    "start_time": "2021-12-22T11:08:55.218Z"
   },
   {
    "duration": 29,
    "start_time": "2021-12-22T11:10:44.377Z"
   },
   {
    "duration": 8104,
    "start_time": "2021-12-22T11:41:29.967Z"
   },
   {
    "duration": 7335,
    "start_time": "2021-12-22T11:42:08.269Z"
   },
   {
    "duration": 7392,
    "start_time": "2021-12-22T11:42:28.036Z"
   },
   {
    "duration": 25,
    "start_time": "2021-12-22T11:43:12.396Z"
   },
   {
    "duration": 32,
    "start_time": "2021-12-22T11:43:32.039Z"
   },
   {
    "duration": 29,
    "start_time": "2021-12-22T11:45:32.426Z"
   },
   {
    "duration": 81,
    "start_time": "2021-12-22T11:47:22.992Z"
   },
   {
    "duration": 115,
    "start_time": "2021-12-22T11:49:21.228Z"
   },
   {
    "duration": 76,
    "start_time": "2021-12-22T11:49:26.059Z"
   },
   {
    "duration": 8,
    "start_time": "2021-12-22T11:52:52.570Z"
   },
   {
    "duration": 109,
    "start_time": "2021-12-22T11:56:34.821Z"
   },
   {
    "duration": 8,
    "start_time": "2021-12-22T11:56:56.977Z"
   },
   {
    "duration": 4,
    "start_time": "2021-12-22T12:16:27.989Z"
   },
   {
    "duration": 27,
    "start_time": "2021-12-22T12:21:17.224Z"
   },
   {
    "duration": 30,
    "start_time": "2021-12-22T12:21:38.598Z"
   },
   {
    "duration": 27,
    "start_time": "2021-12-22T12:22:25.607Z"
   },
   {
    "duration": 8,
    "start_time": "2021-12-22T12:22:30.491Z"
   },
   {
    "duration": 293,
    "start_time": "2021-12-22T13:41:39.269Z"
   },
   {
    "duration": 46,
    "start_time": "2021-12-22T13:47:11.384Z"
   },
   {
    "duration": 14,
    "start_time": "2021-12-22T13:48:20.403Z"
   },
   {
    "duration": 24,
    "start_time": "2021-12-22T13:49:19.685Z"
   },
   {
    "duration": 28,
    "start_time": "2021-12-22T13:49:53.061Z"
   },
   {
    "duration": 95,
    "start_time": "2021-12-22T13:53:33.055Z"
   },
   {
    "duration": 14,
    "start_time": "2021-12-22T13:53:40.736Z"
   },
   {
    "duration": 6,
    "start_time": "2021-12-22T20:06:39.197Z"
   },
   {
    "duration": 291,
    "start_time": "2021-12-22T20:07:17.288Z"
   },
   {
    "duration": 3,
    "start_time": "2021-12-22T20:08:16.034Z"
   },
   {
    "duration": 289,
    "start_time": "2021-12-22T20:08:19.325Z"
   },
   {
    "duration": 3,
    "start_time": "2021-12-22T20:12:38.527Z"
   },
   {
    "duration": 265,
    "start_time": "2021-12-22T20:12:42.029Z"
   },
   {
    "duration": 244,
    "start_time": "2021-12-22T20:13:56.646Z"
   },
   {
    "duration": 4,
    "start_time": "2021-12-22T20:22:08.783Z"
   },
   {
    "duration": 214,
    "start_time": "2021-12-22T20:25:25.921Z"
   },
   {
    "duration": 233,
    "start_time": "2021-12-22T20:27:34.162Z"
   },
   {
    "duration": 195,
    "start_time": "2021-12-22T20:29:46.419Z"
   },
   {
    "duration": 243,
    "start_time": "2021-12-22T20:34:44.628Z"
   },
   {
    "duration": 208,
    "start_time": "2021-12-22T20:37:10.821Z"
   },
   {
    "duration": 4,
    "start_time": "2021-12-22T20:44:42.183Z"
   },
   {
    "duration": 246,
    "start_time": "2021-12-22T20:45:34.332Z"
   },
   {
    "duration": 164,
    "start_time": "2021-12-22T20:50:32.463Z"
   },
   {
    "duration": 222,
    "start_time": "2021-12-22T20:50:44.586Z"
   },
   {
    "duration": 219,
    "start_time": "2021-12-22T20:51:45.641Z"
   },
   {
    "duration": 124,
    "start_time": "2021-12-22T20:55:57.477Z"
   },
   {
    "duration": 4,
    "start_time": "2021-12-22T20:56:09.668Z"
   },
   {
    "duration": 141,
    "start_time": "2021-12-22T20:56:15.296Z"
   },
   {
    "duration": 140,
    "start_time": "2021-12-22T21:00:11.635Z"
   },
   {
    "duration": 121,
    "start_time": "2021-12-22T21:03:03.369Z"
   },
   {
    "duration": 202,
    "start_time": "2021-12-22T21:04:52.173Z"
   },
   {
    "duration": 128,
    "start_time": "2021-12-22T21:05:00.376Z"
   },
   {
    "duration": 732,
    "start_time": "2021-12-22T21:05:38.891Z"
   },
   {
    "duration": 235,
    "start_time": "2021-12-22T21:17:51.127Z"
   },
   {
    "duration": 227,
    "start_time": "2021-12-22T21:18:52.667Z"
   },
   {
    "duration": 429,
    "start_time": "2021-12-23T05:17:17.760Z"
   },
   {
    "duration": 770,
    "start_time": "2021-12-23T05:25:57.678Z"
   },
   {
    "duration": 173,
    "start_time": "2021-12-23T05:25:58.451Z"
   },
   {
    "duration": 115,
    "start_time": "2021-12-23T05:25:58.627Z"
   },
   {
    "duration": 156,
    "start_time": "2021-12-23T05:25:58.745Z"
   },
   {
    "duration": 234,
    "start_time": "2021-12-23T05:25:58.903Z"
   },
   {
    "duration": 509,
    "start_time": "2021-12-23T05:25:59.139Z"
   },
   {
    "duration": 930,
    "start_time": "2021-12-23T05:25:59.651Z"
   },
   {
    "duration": 351,
    "start_time": "2021-12-23T05:26:00.585Z"
   },
   {
    "duration": 307,
    "start_time": "2021-12-23T05:26:00.939Z"
   },
   {
    "duration": 231,
    "start_time": "2021-12-23T05:26:01.248Z"
   },
   {
    "duration": 643,
    "start_time": "2021-12-23T05:26:01.481Z"
   },
   {
    "duration": 258,
    "start_time": "2021-12-23T05:26:02.127Z"
   },
   {
    "duration": 217,
    "start_time": "2021-12-23T05:26:02.388Z"
   },
   {
    "duration": 198,
    "start_time": "2021-12-23T05:26:02.607Z"
   },
   {
    "duration": 221,
    "start_time": "2021-12-23T05:26:02.808Z"
   },
   {
    "duration": 363,
    "start_time": "2021-12-23T05:26:03.032Z"
   },
   {
    "duration": 351,
    "start_time": "2021-12-23T05:26:03.397Z"
   },
   {
    "duration": 559,
    "start_time": "2021-12-23T05:26:03.751Z"
   },
   {
    "duration": 513,
    "start_time": "2021-12-23T05:26:04.312Z"
   },
   {
    "duration": 184,
    "start_time": "2021-12-23T05:26:04.828Z"
   },
   {
    "duration": 487,
    "start_time": "2021-12-23T05:26:05.015Z"
   },
   {
    "duration": 487,
    "start_time": "2021-12-23T05:26:05.505Z"
   },
   {
    "duration": 377,
    "start_time": "2021-12-23T05:26:05.996Z"
   },
   {
    "duration": 284,
    "start_time": "2021-12-23T05:26:06.376Z"
   },
   {
    "duration": 265,
    "start_time": "2021-12-23T05:26:06.663Z"
   },
   {
    "duration": 257,
    "start_time": "2021-12-23T05:26:06.930Z"
   },
   {
    "duration": 246,
    "start_time": "2021-12-23T05:26:07.190Z"
   },
   {
    "duration": 338,
    "start_time": "2021-12-23T05:26:07.438Z"
   },
   {
    "duration": 308,
    "start_time": "2021-12-23T05:26:07.778Z"
   },
   {
    "duration": 372,
    "start_time": "2021-12-23T05:26:08.088Z"
   },
   {
    "duration": 809,
    "start_time": "2021-12-23T05:26:08.462Z"
   },
   {
    "duration": 299,
    "start_time": "2021-12-23T05:26:09.274Z"
   },
   {
    "duration": 273,
    "start_time": "2021-12-23T05:26:09.576Z"
   },
   {
    "duration": 258,
    "start_time": "2021-12-23T05:26:09.851Z"
   },
   {
    "duration": 300,
    "start_time": "2021-12-23T05:26:10.112Z"
   },
   {
    "duration": 240,
    "start_time": "2021-12-23T05:26:10.415Z"
   },
   {
    "duration": 329,
    "start_time": "2021-12-23T05:26:10.658Z"
   },
   {
    "duration": 585,
    "start_time": "2021-12-23T05:26:10.989Z"
   },
   {
    "duration": 20,
    "start_time": "2021-12-23T05:27:34.630Z"
   },
   {
    "duration": 19,
    "start_time": "2021-12-23T05:31:37.030Z"
   },
   {
    "duration": 448,
    "start_time": "2021-12-23T05:32:13.031Z"
   },
   {
    "duration": 20,
    "start_time": "2021-12-23T05:32:23.271Z"
   },
   {
    "duration": 17,
    "start_time": "2021-12-23T05:32:44.541Z"
   },
   {
    "duration": 24,
    "start_time": "2021-12-23T05:33:19.692Z"
   },
   {
    "duration": 20,
    "start_time": "2021-12-23T05:33:30.198Z"
   },
   {
    "duration": 305,
    "start_time": "2021-12-23T05:40:15.509Z"
   },
   {
    "duration": 320,
    "start_time": "2021-12-23T05:42:55.145Z"
   },
   {
    "duration": 314,
    "start_time": "2021-12-23T05:44:51.200Z"
   },
   {
    "duration": 12,
    "start_time": "2021-12-23T05:49:24.077Z"
   },
   {
    "duration": 548,
    "start_time": "2021-12-23T08:52:49.307Z"
   },
   {
    "duration": 133,
    "start_time": "2021-12-23T08:52:49.856Z"
   },
   {
    "duration": 17,
    "start_time": "2021-12-23T08:52:49.991Z"
   },
   {
    "duration": 11,
    "start_time": "2021-12-23T08:52:50.010Z"
   },
   {
    "duration": 6,
    "start_time": "2021-12-23T08:52:50.023Z"
   },
   {
    "duration": 26,
    "start_time": "2021-12-23T08:52:50.030Z"
   },
   {
    "duration": 4,
    "start_time": "2021-12-23T08:52:50.057Z"
   },
   {
    "duration": 45,
    "start_time": "2021-12-23T08:52:50.063Z"
   },
   {
    "duration": 18,
    "start_time": "2021-12-23T08:52:50.110Z"
   },
   {
    "duration": 22,
    "start_time": "2021-12-23T08:52:50.129Z"
   },
   {
    "duration": 81,
    "start_time": "2021-12-23T08:52:50.152Z"
   },
   {
    "duration": 66,
    "start_time": "2021-12-23T08:52:50.236Z"
   },
   {
    "duration": 49,
    "start_time": "2021-12-23T08:52:50.304Z"
   },
   {
    "duration": 6,
    "start_time": "2021-12-23T08:52:50.355Z"
   },
   {
    "duration": 15,
    "start_time": "2021-12-23T08:52:50.362Z"
   },
   {
    "duration": 24,
    "start_time": "2021-12-23T08:52:50.379Z"
   },
   {
    "duration": 5,
    "start_time": "2021-12-23T08:52:50.405Z"
   },
   {
    "duration": 16,
    "start_time": "2021-12-23T08:52:50.412Z"
   },
   {
    "duration": 17,
    "start_time": "2021-12-23T08:52:50.430Z"
   },
   {
    "duration": 24,
    "start_time": "2021-12-23T08:52:50.449Z"
   },
   {
    "duration": 29,
    "start_time": "2021-12-23T08:52:50.474Z"
   },
   {
    "duration": 13,
    "start_time": "2021-12-23T08:52:50.504Z"
   },
   {
    "duration": 13,
    "start_time": "2021-12-23T08:52:50.520Z"
   },
   {
    "duration": 14,
    "start_time": "2021-12-23T08:52:50.534Z"
   },
   {
    "duration": 27,
    "start_time": "2021-12-23T08:52:50.549Z"
   },
   {
    "duration": 14,
    "start_time": "2021-12-23T08:52:50.592Z"
   },
   {
    "duration": 14,
    "start_time": "2021-12-23T08:52:50.607Z"
   },
   {
    "duration": 5,
    "start_time": "2021-12-23T08:52:50.622Z"
   },
   {
    "duration": 8,
    "start_time": "2021-12-23T08:52:50.628Z"
   },
   {
    "duration": 18,
    "start_time": "2021-12-23T08:52:50.637Z"
   },
   {
    "duration": 21,
    "start_time": "2021-12-23T08:52:50.656Z"
   },
   {
    "duration": 24,
    "start_time": "2021-12-23T08:52:50.679Z"
   },
   {
    "duration": 27,
    "start_time": "2021-12-23T08:52:50.705Z"
   },
   {
    "duration": 8,
    "start_time": "2021-12-23T08:52:50.733Z"
   },
   {
    "duration": 21,
    "start_time": "2021-12-23T08:52:50.742Z"
   },
   {
    "duration": 10,
    "start_time": "2021-12-23T08:52:50.764Z"
   },
   {
    "duration": 14,
    "start_time": "2021-12-23T08:52:50.775Z"
   },
   {
    "duration": 14,
    "start_time": "2021-12-23T08:52:50.790Z"
   },
   {
    "duration": 20,
    "start_time": "2021-12-23T08:55:15.350Z"
   },
   {
    "duration": 18,
    "start_time": "2021-12-23T08:56:04.297Z"
   },
   {
    "duration": 51,
    "start_time": "2021-12-23T09:10:10.082Z"
   },
   {
    "duration": 49,
    "start_time": "2021-12-23T09:18:12.757Z"
   },
   {
    "duration": 4,
    "start_time": "2021-12-23T09:25:00.852Z"
   },
   {
    "duration": 18,
    "start_time": "2021-12-23T09:26:44.671Z"
   },
   {
    "duration": 49,
    "start_time": "2021-12-23T09:29:14.557Z"
   },
   {
    "duration": 17,
    "start_time": "2021-12-23T09:30:14.431Z"
   },
   {
    "duration": 17,
    "start_time": "2021-12-23T09:30:21.309Z"
   },
   {
    "duration": 12,
    "start_time": "2021-12-23T09:30:43.319Z"
   },
   {
    "duration": 9,
    "start_time": "2021-12-23T10:23:00.454Z"
   },
   {
    "duration": 5,
    "start_time": "2021-12-23T10:23:39.183Z"
   },
   {
    "duration": 8,
    "start_time": "2021-12-23T10:24:53.193Z"
   },
   {
    "duration": 5,
    "start_time": "2021-12-23T10:24:57.940Z"
   },
   {
    "duration": 541,
    "start_time": "2021-12-23T18:42:23.552Z"
   },
   {
    "duration": 133,
    "start_time": "2021-12-23T18:42:24.095Z"
   },
   {
    "duration": 16,
    "start_time": "2021-12-23T18:42:24.230Z"
   },
   {
    "duration": 4,
    "start_time": "2021-12-23T18:42:24.247Z"
   },
   {
    "duration": 6,
    "start_time": "2021-12-23T18:42:24.252Z"
   },
   {
    "duration": 22,
    "start_time": "2021-12-23T18:42:24.259Z"
   },
   {
    "duration": 6,
    "start_time": "2021-12-23T18:42:24.282Z"
   },
   {
    "duration": 47,
    "start_time": "2021-12-23T18:42:24.289Z"
   },
   {
    "duration": 18,
    "start_time": "2021-12-23T18:42:24.340Z"
   },
   {
    "duration": 19,
    "start_time": "2021-12-23T18:42:24.360Z"
   },
   {
    "duration": 68,
    "start_time": "2021-12-23T18:42:24.381Z"
   },
   {
    "duration": 61,
    "start_time": "2021-12-23T18:42:24.450Z"
   },
   {
    "duration": 54,
    "start_time": "2021-12-23T18:42:24.513Z"
   },
   {
    "duration": 5,
    "start_time": "2021-12-23T18:42:24.569Z"
   },
   {
    "duration": 7,
    "start_time": "2021-12-23T18:42:24.575Z"
   },
   {
    "duration": 16,
    "start_time": "2021-12-23T18:42:24.583Z"
   },
   {
    "duration": 5,
    "start_time": "2021-12-23T18:42:24.600Z"
   },
   {
    "duration": 27,
    "start_time": "2021-12-23T18:42:24.607Z"
   },
   {
    "duration": 8,
    "start_time": "2021-12-23T18:42:24.636Z"
   },
   {
    "duration": 15,
    "start_time": "2021-12-23T18:42:24.646Z"
   },
   {
    "duration": 14,
    "start_time": "2021-12-23T18:42:24.662Z"
   },
   {
    "duration": 12,
    "start_time": "2021-12-23T18:42:24.677Z"
   },
   {
    "duration": 45,
    "start_time": "2021-12-23T18:42:24.691Z"
   },
   {
    "duration": 11,
    "start_time": "2021-12-23T18:42:24.738Z"
   },
   {
    "duration": 13,
    "start_time": "2021-12-23T18:42:24.751Z"
   },
   {
    "duration": 13,
    "start_time": "2021-12-23T18:42:24.766Z"
   },
   {
    "duration": 8,
    "start_time": "2021-12-23T18:42:24.782Z"
   },
   {
    "duration": 52,
    "start_time": "2021-12-23T18:42:24.792Z"
   },
   {
    "duration": 16,
    "start_time": "2021-12-23T18:42:24.846Z"
   },
   {
    "duration": 3,
    "start_time": "2021-12-23T18:42:24.863Z"
   },
   {
    "duration": 25,
    "start_time": "2021-12-23T18:42:24.868Z"
   },
   {
    "duration": 10,
    "start_time": "2021-12-23T18:42:24.895Z"
   },
   {
    "duration": 33,
    "start_time": "2021-12-23T18:42:24.906Z"
   },
   {
    "duration": 10,
    "start_time": "2021-12-23T18:42:24.941Z"
   },
   {
    "duration": 8,
    "start_time": "2021-12-23T18:42:24.953Z"
   },
   {
    "duration": 4,
    "start_time": "2021-12-23T18:42:24.962Z"
   },
   {
    "duration": 9,
    "start_time": "2021-12-23T18:42:24.968Z"
   },
   {
    "duration": 4,
    "start_time": "2021-12-23T18:42:24.979Z"
   },
   {
    "duration": 448,
    "start_time": "2022-05-17T11:32:16.793Z"
   },
   {
    "duration": 65,
    "start_time": "2022-05-17T11:33:30.915Z"
   },
   {
    "duration": 405,
    "start_time": "2022-05-17T11:33:37.711Z"
   },
   {
    "duration": 168,
    "start_time": "2022-05-17T11:33:38.118Z"
   },
   {
    "duration": 18,
    "start_time": "2022-05-17T11:33:38.288Z"
   },
   {
    "duration": 4,
    "start_time": "2022-05-17T11:33:38.308Z"
   },
   {
    "duration": 6,
    "start_time": "2022-05-17T11:33:38.313Z"
   },
   {
    "duration": 18,
    "start_time": "2022-05-17T11:33:38.321Z"
   },
   {
    "duration": 7,
    "start_time": "2022-05-17T11:33:38.341Z"
   },
   {
    "duration": 50,
    "start_time": "2022-05-17T11:33:38.350Z"
   },
   {
    "duration": 19,
    "start_time": "2022-05-17T11:33:38.402Z"
   },
   {
    "duration": 24,
    "start_time": "2022-05-17T11:33:38.425Z"
   },
   {
    "duration": 89,
    "start_time": "2022-05-17T11:33:38.451Z"
   },
   {
    "duration": 95,
    "start_time": "2022-05-17T11:33:38.542Z"
   },
   {
    "duration": 67,
    "start_time": "2022-05-17T11:33:38.639Z"
   },
   {
    "duration": 7,
    "start_time": "2022-05-17T11:33:38.708Z"
   },
   {
    "duration": 8,
    "start_time": "2022-05-17T11:33:38.717Z"
   },
   {
    "duration": 31,
    "start_time": "2022-05-17T11:33:38.727Z"
   },
   {
    "duration": 7,
    "start_time": "2022-05-17T11:33:38.760Z"
   },
   {
    "duration": 37,
    "start_time": "2022-05-17T11:33:38.768Z"
   },
   {
    "duration": 12,
    "start_time": "2022-05-17T11:33:38.807Z"
   },
   {
    "duration": 19,
    "start_time": "2022-05-17T11:33:38.820Z"
   },
   {
    "duration": 17,
    "start_time": "2022-05-17T11:33:38.841Z"
   },
   {
    "duration": 44,
    "start_time": "2022-05-17T11:33:38.860Z"
   },
   {
    "duration": 15,
    "start_time": "2022-05-17T11:33:38.906Z"
   },
   {
    "duration": 15,
    "start_time": "2022-05-17T11:33:38.923Z"
   },
   {
    "duration": 17,
    "start_time": "2022-05-17T11:33:38.940Z"
   },
   {
    "duration": 48,
    "start_time": "2022-05-17T11:33:38.959Z"
   },
   {
    "duration": 9,
    "start_time": "2022-05-17T11:33:39.009Z"
   },
   {
    "duration": 22,
    "start_time": "2022-05-17T11:33:39.021Z"
   },
   {
    "duration": 19,
    "start_time": "2022-05-17T11:33:39.045Z"
   },
   {
    "duration": 33,
    "start_time": "2022-05-17T11:33:39.066Z"
   },
   {
    "duration": 23,
    "start_time": "2022-05-17T11:33:39.101Z"
   },
   {
    "duration": 12,
    "start_time": "2022-05-17T11:33:39.126Z"
   },
   {
    "duration": 16,
    "start_time": "2022-05-17T11:33:39.140Z"
   },
   {
    "duration": 39,
    "start_time": "2022-05-17T11:33:39.158Z"
   },
   {
    "duration": 11,
    "start_time": "2022-05-17T11:33:39.199Z"
   },
   {
    "duration": 5,
    "start_time": "2022-05-17T11:33:39.211Z"
   },
   {
    "duration": 10,
    "start_time": "2022-05-17T11:33:39.218Z"
   },
   {
    "duration": 5,
    "start_time": "2022-05-17T11:33:39.230Z"
   },
   {
    "duration": 28,
    "start_time": "2022-05-17T11:34:41.780Z"
   },
   {
    "duration": 18,
    "start_time": "2022-05-17T12:26:02.665Z"
   },
   {
    "duration": 24,
    "start_time": "2022-05-17T12:26:23.028Z"
   },
   {
    "duration": 69,
    "start_time": "2022-05-17T12:27:04.435Z"
   },
   {
    "duration": 7,
    "start_time": "2022-05-17T12:29:07.805Z"
   },
   {
    "duration": 11,
    "start_time": "2022-05-17T12:35:44.382Z"
   },
   {
    "duration": 12,
    "start_time": "2022-05-17T13:41:30.703Z"
   },
   {
    "duration": 70,
    "start_time": "2022-05-17T13:42:16.648Z"
   },
   {
    "duration": 443,
    "start_time": "2022-05-17T13:42:37.889Z"
   },
   {
    "duration": 159,
    "start_time": "2022-05-17T13:42:38.334Z"
   },
   {
    "duration": 17,
    "start_time": "2022-05-17T13:42:38.496Z"
   },
   {
    "duration": 30,
    "start_time": "2022-05-17T13:42:38.515Z"
   },
   {
    "duration": 3,
    "start_time": "2022-05-17T13:42:38.547Z"
   },
   {
    "duration": 14,
    "start_time": "2022-05-17T13:42:38.552Z"
   },
   {
    "duration": 5,
    "start_time": "2022-05-17T13:42:38.596Z"
   },
   {
    "duration": 31,
    "start_time": "2022-05-17T13:42:38.603Z"
   },
   {
    "duration": 19,
    "start_time": "2022-05-17T13:42:38.636Z"
   },
   {
    "duration": 42,
    "start_time": "2022-05-17T13:42:38.658Z"
   },
   {
    "duration": 67,
    "start_time": "2022-05-17T13:42:38.702Z"
   },
   {
    "duration": 97,
    "start_time": "2022-05-17T13:42:38.771Z"
   },
   {
    "duration": 67,
    "start_time": "2022-05-17T13:42:38.870Z"
   },
   {
    "duration": 8,
    "start_time": "2022-05-17T13:42:38.938Z"
   },
   {
    "duration": 3,
    "start_time": "2022-05-17T13:42:38.948Z"
   },
   {
    "duration": 48,
    "start_time": "2022-05-17T13:42:38.953Z"
   },
   {
    "duration": 7,
    "start_time": "2022-05-17T13:42:39.003Z"
   },
   {
    "duration": 12,
    "start_time": "2022-05-17T13:42:39.011Z"
   },
   {
    "duration": 12,
    "start_time": "2022-05-17T13:42:39.025Z"
   },
   {
    "duration": 18,
    "start_time": "2022-05-17T13:42:39.039Z"
   },
   {
    "duration": 48,
    "start_time": "2022-05-17T13:42:39.059Z"
   },
   {
    "duration": 20,
    "start_time": "2022-05-17T13:42:39.109Z"
   },
   {
    "duration": 16,
    "start_time": "2022-05-17T13:42:39.131Z"
   },
   {
    "duration": 14,
    "start_time": "2022-05-17T13:42:39.149Z"
   },
   {
    "duration": 43,
    "start_time": "2022-05-17T13:42:39.165Z"
   },
   {
    "duration": 16,
    "start_time": "2022-05-17T13:42:39.210Z"
   },
   {
    "duration": 9,
    "start_time": "2022-05-17T13:42:39.227Z"
   },
   {
    "duration": 21,
    "start_time": "2022-05-17T13:42:39.240Z"
   },
   {
    "duration": 48,
    "start_time": "2022-05-17T13:42:39.263Z"
   },
   {
    "duration": 4,
    "start_time": "2022-05-17T13:42:39.312Z"
   },
   {
    "duration": 20,
    "start_time": "2022-05-17T13:42:39.318Z"
   },
   {
    "duration": 12,
    "start_time": "2022-05-17T13:42:39.340Z"
   },
   {
    "duration": 45,
    "start_time": "2022-05-17T13:42:39.354Z"
   },
   {
    "duration": 12,
    "start_time": "2022-05-17T13:42:39.401Z"
   },
   {
    "duration": 16,
    "start_time": "2022-05-17T13:42:39.415Z"
   },
   {
    "duration": 10,
    "start_time": "2022-05-17T13:42:39.433Z"
   },
   {
    "duration": 430,
    "start_time": "2022-05-17T13:53:13.804Z"
   },
   {
    "duration": 170,
    "start_time": "2022-05-17T13:53:14.236Z"
   },
   {
    "duration": 17,
    "start_time": "2022-05-17T13:53:14.408Z"
   },
   {
    "duration": 32,
    "start_time": "2022-05-17T13:53:14.426Z"
   },
   {
    "duration": 4,
    "start_time": "2022-05-17T13:53:14.460Z"
   },
   {
    "duration": 39,
    "start_time": "2022-05-17T13:53:14.466Z"
   },
   {
    "duration": 6,
    "start_time": "2022-05-17T13:53:14.507Z"
   },
   {
    "duration": 29,
    "start_time": "2022-05-17T13:53:14.515Z"
   },
   {
    "duration": 20,
    "start_time": "2022-05-17T13:53:14.545Z"
   },
   {
    "duration": 47,
    "start_time": "2022-05-17T13:53:14.567Z"
   },
   {
    "duration": 85,
    "start_time": "2022-05-17T13:53:14.616Z"
   },
   {
    "duration": 94,
    "start_time": "2022-05-17T13:53:14.703Z"
   },
   {
    "duration": 63,
    "start_time": "2022-05-17T13:53:14.799Z"
   },
   {
    "duration": 8,
    "start_time": "2022-05-17T13:53:14.866Z"
   },
   {
    "duration": 4,
    "start_time": "2022-05-17T13:53:14.897Z"
   },
   {
    "duration": 27,
    "start_time": "2022-05-17T13:53:14.903Z"
   },
   {
    "duration": 7,
    "start_time": "2022-05-17T13:53:14.932Z"
   },
   {
    "duration": 12,
    "start_time": "2022-05-17T13:53:14.940Z"
   },
   {
    "duration": 44,
    "start_time": "2022-05-17T13:53:14.954Z"
   },
   {
    "duration": 18,
    "start_time": "2022-05-17T13:53:15.000Z"
   },
   {
    "duration": 18,
    "start_time": "2022-05-17T13:53:15.020Z"
   },
   {
    "duration": 16,
    "start_time": "2022-05-17T13:53:15.040Z"
   },
   {
    "duration": 47,
    "start_time": "2022-05-17T13:53:15.057Z"
   },
   {
    "duration": 15,
    "start_time": "2022-05-17T13:53:15.106Z"
   },
   {
    "duration": 19,
    "start_time": "2022-05-17T13:53:15.123Z"
   },
   {
    "duration": 19,
    "start_time": "2022-05-17T13:53:15.143Z"
   },
   {
    "duration": 40,
    "start_time": "2022-05-17T13:53:15.164Z"
   },
   {
    "duration": 23,
    "start_time": "2022-05-17T13:53:15.207Z"
   },
   {
    "duration": 20,
    "start_time": "2022-05-17T13:53:15.232Z"
   },
   {
    "duration": 3,
    "start_time": "2022-05-17T13:53:15.254Z"
   },
   {
    "duration": 52,
    "start_time": "2022-05-17T13:53:15.259Z"
   },
   {
    "duration": 13,
    "start_time": "2022-05-17T13:53:15.313Z"
   },
   {
    "duration": 17,
    "start_time": "2022-05-17T13:53:15.327Z"
   },
   {
    "duration": 12,
    "start_time": "2022-05-17T13:53:15.345Z"
   },
   {
    "duration": 45,
    "start_time": "2022-05-17T13:53:15.359Z"
   },
   {
    "duration": 11,
    "start_time": "2022-05-17T13:53:15.406Z"
   }
  ],
  "colab": {
   "collapsed_sections": [
    "E0vqbgi9ay0H",
    "VUC88oWjTJw2"
   ],
   "name": "yandex_music_project_2021.2.ipynb",
   "provenance": []
  },
  "kernelspec": {
   "display_name": "Python 3 (ipykernel)",
   "language": "python",
   "name": "python3"
  },
  "language_info": {
   "codemirror_mode": {
    "name": "ipython",
    "version": 3
   },
   "file_extension": ".py",
   "mimetype": "text/x-python",
   "name": "python",
   "nbconvert_exporter": "python",
   "pygments_lexer": "ipython3",
   "version": "3.9.5"
  },
  "toc": {
   "base_numbering": 1,
   "nav_menu": {},
   "number_sections": true,
   "sideBar": true,
   "skip_h1_title": true,
   "title_cell": "Table of Contents",
   "title_sidebar": "Contents",
   "toc_cell": false,
   "toc_position": {},
   "toc_section_display": true,
   "toc_window_display": true
  }
 },
 "nbformat": 4,
 "nbformat_minor": 1
}
