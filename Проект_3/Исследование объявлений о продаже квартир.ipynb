{
 "cells": [
  {
   "cell_type": "markdown",
   "metadata": {
    "toc": true
   },
   "source": [
    "<h1>Содержание<span class=\"tocSkip\"></span></h1>\n",
    "<div class=\"toc\"><ul class=\"toc-item\"><li><span><a href=\"#Изучение-данных-из-файла\" data-toc-modified-id=\"Изучение-данных-из-файла-1\"><span class=\"toc-item-num\">1&nbsp;&nbsp;</span>Изучение данных из файла</a></span></li><li><span><a href=\"#Предобработка-данных\" data-toc-modified-id=\"Предобработка-данных-2\"><span class=\"toc-item-num\">2&nbsp;&nbsp;</span>Предобработка данных</a></span></li><li><span><a href=\"#Расчёты-и-добавление-результатов-в-таблицу\" data-toc-modified-id=\"Расчёты-и-добавление-результатов-в-таблицу-3\"><span class=\"toc-item-num\">3&nbsp;&nbsp;</span>Расчёты и добавление результатов в таблицу</a></span></li><li><span><a href=\"#Исследовательский-анализ-данных\" data-toc-modified-id=\"Исследовательский-анализ-данных-4\"><span class=\"toc-item-num\">4&nbsp;&nbsp;</span>Исследовательский анализ данных</a></span></li><li><span><a href=\"#Общий-вывод\" data-toc-modified-id=\"Общий-вывод-5\"><span class=\"toc-item-num\">5&nbsp;&nbsp;</span>Общий вывод</a></span></li></ul></div>"
   ]
  },
  {
   "cell_type": "markdown",
   "metadata": {},
   "source": [
    "# Исследование объявлений о продаже квартир"
   ]
  },
  {
   "cell_type": "markdown",
   "metadata": {},
   "source": [
    "Для исследовательского анализа предоставлены данные сервиса Яндекс.Недвижимость. Это архив объявлений, который хранит информацию о продаже квартир в Санкт-Петербурге и населенных пунктах, находящихся рядом. В предоставленном файле есть информация о самой квартире (площадь, высота потолков, количество балконов и т.д.), а также картографические данные, такие ка красстояние до центра, аэропорта, ближайшего парка и водоёма. Основная задача исследования определять рыночную стоимость объектов недвижимости и установить параметры, которые влияют на неё. Необходимо изучить следующие параметры: площадь, цена, число комнат, высота потолков. Изучить время продажи квартиры. Определить, какие факторы больше всего влияют на стоимость квартиры. Ответить на вопросы - зависит ли цена от площади, числа комнат, удалённости от центра. В будущем данное исследование поможет построить автоматизированную систему для отслеживания аномалий."
   ]
  },
  {
   "cell_type": "markdown",
   "metadata": {},
   "source": [
    "## Изучение данных из файла"
   ]
  },
  {
   "cell_type": "code",
   "execution_count": 1,
   "metadata": {},
   "outputs": [],
   "source": [
    "import pandas as pd # вызвала библиотеку pandas\n",
    "import matplotlib.pyplot as plt"
   ]
  },
  {
   "cell_type": "code",
   "execution_count": 2,
   "metadata": {},
   "outputs": [
    {
     "data": {
      "text/html": [
       "<div>\n",
       "<style scoped>\n",
       "    .dataframe tbody tr th:only-of-type {\n",
       "        vertical-align: middle;\n",
       "    }\n",
       "\n",
       "    .dataframe tbody tr th {\n",
       "        vertical-align: top;\n",
       "    }\n",
       "\n",
       "    .dataframe thead th {\n",
       "        text-align: right;\n",
       "    }\n",
       "</style>\n",
       "<table border=\"1\" class=\"dataframe\">\n",
       "  <thead>\n",
       "    <tr style=\"text-align: right;\">\n",
       "      <th></th>\n",
       "      <th>total_images</th>\n",
       "      <th>last_price</th>\n",
       "      <th>total_area</th>\n",
       "      <th>first_day_exposition</th>\n",
       "      <th>rooms</th>\n",
       "      <th>ceiling_height</th>\n",
       "      <th>floors_total</th>\n",
       "      <th>living_area</th>\n",
       "      <th>floor</th>\n",
       "      <th>is_apartment</th>\n",
       "      <th>...</th>\n",
       "      <th>kitchen_area</th>\n",
       "      <th>balcony</th>\n",
       "      <th>locality_name</th>\n",
       "      <th>airports_nearest</th>\n",
       "      <th>cityCenters_nearest</th>\n",
       "      <th>parks_around3000</th>\n",
       "      <th>parks_nearest</th>\n",
       "      <th>ponds_around3000</th>\n",
       "      <th>ponds_nearest</th>\n",
       "      <th>days_exposition</th>\n",
       "    </tr>\n",
       "  </thead>\n",
       "  <tbody>\n",
       "    <tr>\n",
       "      <th>0</th>\n",
       "      <td>20</td>\n",
       "      <td>13000000.0</td>\n",
       "      <td>108.0</td>\n",
       "      <td>2019-03-07T00:00:00</td>\n",
       "      <td>3</td>\n",
       "      <td>2.70</td>\n",
       "      <td>16.0</td>\n",
       "      <td>51.0</td>\n",
       "      <td>8</td>\n",
       "      <td>NaN</td>\n",
       "      <td>...</td>\n",
       "      <td>25.0</td>\n",
       "      <td>NaN</td>\n",
       "      <td>Санкт-Петербург</td>\n",
       "      <td>18863.0</td>\n",
       "      <td>16028.0</td>\n",
       "      <td>1.0</td>\n",
       "      <td>482.0</td>\n",
       "      <td>2.0</td>\n",
       "      <td>755.0</td>\n",
       "      <td>NaN</td>\n",
       "    </tr>\n",
       "    <tr>\n",
       "      <th>1</th>\n",
       "      <td>7</td>\n",
       "      <td>3350000.0</td>\n",
       "      <td>40.4</td>\n",
       "      <td>2018-12-04T00:00:00</td>\n",
       "      <td>1</td>\n",
       "      <td>NaN</td>\n",
       "      <td>11.0</td>\n",
       "      <td>18.6</td>\n",
       "      <td>1</td>\n",
       "      <td>NaN</td>\n",
       "      <td>...</td>\n",
       "      <td>11.0</td>\n",
       "      <td>2.0</td>\n",
       "      <td>посёлок Шушары</td>\n",
       "      <td>12817.0</td>\n",
       "      <td>18603.0</td>\n",
       "      <td>0.0</td>\n",
       "      <td>NaN</td>\n",
       "      <td>0.0</td>\n",
       "      <td>NaN</td>\n",
       "      <td>81.0</td>\n",
       "    </tr>\n",
       "    <tr>\n",
       "      <th>2</th>\n",
       "      <td>10</td>\n",
       "      <td>5196000.0</td>\n",
       "      <td>56.0</td>\n",
       "      <td>2015-08-20T00:00:00</td>\n",
       "      <td>2</td>\n",
       "      <td>NaN</td>\n",
       "      <td>5.0</td>\n",
       "      <td>34.3</td>\n",
       "      <td>4</td>\n",
       "      <td>NaN</td>\n",
       "      <td>...</td>\n",
       "      <td>8.3</td>\n",
       "      <td>0.0</td>\n",
       "      <td>Санкт-Петербург</td>\n",
       "      <td>21741.0</td>\n",
       "      <td>13933.0</td>\n",
       "      <td>1.0</td>\n",
       "      <td>90.0</td>\n",
       "      <td>2.0</td>\n",
       "      <td>574.0</td>\n",
       "      <td>558.0</td>\n",
       "    </tr>\n",
       "    <tr>\n",
       "      <th>3</th>\n",
       "      <td>0</td>\n",
       "      <td>64900000.0</td>\n",
       "      <td>159.0</td>\n",
       "      <td>2015-07-24T00:00:00</td>\n",
       "      <td>3</td>\n",
       "      <td>NaN</td>\n",
       "      <td>14.0</td>\n",
       "      <td>NaN</td>\n",
       "      <td>9</td>\n",
       "      <td>NaN</td>\n",
       "      <td>...</td>\n",
       "      <td>NaN</td>\n",
       "      <td>0.0</td>\n",
       "      <td>Санкт-Петербург</td>\n",
       "      <td>28098.0</td>\n",
       "      <td>6800.0</td>\n",
       "      <td>2.0</td>\n",
       "      <td>84.0</td>\n",
       "      <td>3.0</td>\n",
       "      <td>234.0</td>\n",
       "      <td>424.0</td>\n",
       "    </tr>\n",
       "    <tr>\n",
       "      <th>4</th>\n",
       "      <td>2</td>\n",
       "      <td>10000000.0</td>\n",
       "      <td>100.0</td>\n",
       "      <td>2018-06-19T00:00:00</td>\n",
       "      <td>2</td>\n",
       "      <td>3.03</td>\n",
       "      <td>14.0</td>\n",
       "      <td>32.0</td>\n",
       "      <td>13</td>\n",
       "      <td>NaN</td>\n",
       "      <td>...</td>\n",
       "      <td>41.0</td>\n",
       "      <td>NaN</td>\n",
       "      <td>Санкт-Петербург</td>\n",
       "      <td>31856.0</td>\n",
       "      <td>8098.0</td>\n",
       "      <td>2.0</td>\n",
       "      <td>112.0</td>\n",
       "      <td>1.0</td>\n",
       "      <td>48.0</td>\n",
       "      <td>121.0</td>\n",
       "    </tr>\n",
       "  </tbody>\n",
       "</table>\n",
       "<p>5 rows × 22 columns</p>\n",
       "</div>"
      ],
      "text/plain": [
       "   total_images  last_price  total_area first_day_exposition  rooms  \\\n",
       "0            20  13000000.0       108.0  2019-03-07T00:00:00      3   \n",
       "1             7   3350000.0        40.4  2018-12-04T00:00:00      1   \n",
       "2            10   5196000.0        56.0  2015-08-20T00:00:00      2   \n",
       "3             0  64900000.0       159.0  2015-07-24T00:00:00      3   \n",
       "4             2  10000000.0       100.0  2018-06-19T00:00:00      2   \n",
       "\n",
       "   ceiling_height  floors_total  living_area  floor is_apartment  ...  \\\n",
       "0            2.70          16.0         51.0      8          NaN  ...   \n",
       "1             NaN          11.0         18.6      1          NaN  ...   \n",
       "2             NaN           5.0         34.3      4          NaN  ...   \n",
       "3             NaN          14.0          NaN      9          NaN  ...   \n",
       "4            3.03          14.0         32.0     13          NaN  ...   \n",
       "\n",
       "   kitchen_area  balcony    locality_name  airports_nearest  \\\n",
       "0          25.0      NaN  Санкт-Петербург           18863.0   \n",
       "1          11.0      2.0   посёлок Шушары           12817.0   \n",
       "2           8.3      0.0  Санкт-Петербург           21741.0   \n",
       "3           NaN      0.0  Санкт-Петербург           28098.0   \n",
       "4          41.0      NaN  Санкт-Петербург           31856.0   \n",
       "\n",
       "  cityCenters_nearest  parks_around3000  parks_nearest  ponds_around3000  \\\n",
       "0             16028.0               1.0          482.0               2.0   \n",
       "1             18603.0               0.0            NaN               0.0   \n",
       "2             13933.0               1.0           90.0               2.0   \n",
       "3              6800.0               2.0           84.0               3.0   \n",
       "4              8098.0               2.0          112.0               1.0   \n",
       "\n",
       "   ponds_nearest  days_exposition  \n",
       "0          755.0              NaN  \n",
       "1            NaN             81.0  \n",
       "2          574.0            558.0  \n",
       "3          234.0            424.0  \n",
       "4           48.0            121.0  \n",
       "\n",
       "[5 rows x 22 columns]"
      ]
     },
     "metadata": {},
     "output_type": "display_data"
    },
    {
     "name": "stdout",
     "output_type": "stream",
     "text": [
      "<class 'pandas.core.frame.DataFrame'>\n",
      "RangeIndex: 23699 entries, 0 to 23698\n",
      "Data columns (total 22 columns):\n",
      " #   Column                Non-Null Count  Dtype  \n",
      "---  ------                --------------  -----  \n",
      " 0   total_images          23699 non-null  int64  \n",
      " 1   last_price            23699 non-null  float64\n",
      " 2   total_area            23699 non-null  float64\n",
      " 3   first_day_exposition  23699 non-null  object \n",
      " 4   rooms                 23699 non-null  int64  \n",
      " 5   ceiling_height        14504 non-null  float64\n",
      " 6   floors_total          23613 non-null  float64\n",
      " 7   living_area           21796 non-null  float64\n",
      " 8   floor                 23699 non-null  int64  \n",
      " 9   is_apartment          2775 non-null   object \n",
      " 10  studio                23699 non-null  bool   \n",
      " 11  open_plan             23699 non-null  bool   \n",
      " 12  kitchen_area          21421 non-null  float64\n",
      " 13  balcony               12180 non-null  float64\n",
      " 14  locality_name         23650 non-null  object \n",
      " 15  airports_nearest      18157 non-null  float64\n",
      " 16  cityCenters_nearest   18180 non-null  float64\n",
      " 17  parks_around3000      18181 non-null  float64\n",
      " 18  parks_nearest         8079 non-null   float64\n",
      " 19  ponds_around3000      18181 non-null  float64\n",
      " 20  ponds_nearest         9110 non-null   float64\n",
      " 21  days_exposition       20518 non-null  float64\n",
      "dtypes: bool(2), float64(14), int64(3), object(3)\n",
      "memory usage: 3.7+ MB\n"
     ]
    }
   ],
   "source": [
    "table = pd.read_csv('/datasets/real_estate_data.csv', sep='\\t')  # прочитала файл real_estate_data.csv из папки /datasets и сохранила его в переменной table\n",
    "display(table.head()) # вывела на экран первые пятнадцать строк таблицы\n",
    "table.info() # получила общую информацию о таблице"
   ]
  },
  {
   "cell_type": "markdown",
   "metadata": {},
   "source": [
    "Выводы\n",
    "\n",
    "В таблице двенадцать столбцов. Встречаются несколько типов данных в столбцах — object, float, int, bool.\n",
    "\n",
    "Согласно документации к данным:\n",
    "\n",
    "airports_nearest — расстояние до ближайшего аэропорта в метрах (м) (18157 строк заполнено)\n",
    "balcony — число балконов (12180 строк заполнено)\n",
    "ceiling_height — высота потолков (м) (14504 строк заполнено) \n",
    "cityCenters_nearest — расстояние до центра города (м) (18180 строк заполнено)\n",
    "days_exposition — сколько дней было размещено объявление (от публикации до снятия) (20518 строк заполнено)\n",
    "first_day_exposition — дата публикации (23699 строк заполнено)\n",
    "floor — этаж (23699 строк заполнено)\n",
    "floors_total — всего этажей в доме (23613 строк заполнено)\n",
    "is_apartment — апартаменты (булев тип) (2775 строк заполнено)\n",
    "kitchen_area — площадь кухни в квадратных метрах (м²) (21421 строк заполнено)\n",
    "last_price — цена на момент снятия с публикации (23699 строк заполнено)\n",
    "living_area — жилая площадь в квадратных метрах (м²) (21796 строк заполнено)\n",
    "locality_name — название населённого пункта (23650 строк заполнено)\n",
    "open_plan — свободная планировка (булев тип) (23699 строк заполнено)\n",
    "parks_around3000 — число парков в радиусе 3 км (18181 строк заполнено)\n",
    "parks_nearest — расстояние до ближайшего парка (м) (8079 строк заполнено)\n",
    "ponds_around3000 — число водоёмов в радиусе 3 км (18181 строк заполнено)\n",
    "ponds_nearest — расстояние до ближайшего водоёма (м) (9110 строк заполнено)\n",
    "rooms — число комнат (23699 строк заполнено)\n",
    "studio — квартира-студия (булев тип) (23699 строк заполнено)\n",
    "total_area — площадь квартиры в квадратных метрах (м²) (23699 строк заполнено)\n",
    "total_images — число фотографий квартиры в объявлении (23699 строк заполено)\n",
    "\n",
    "В таблице 23699 из выведеннных данных видно, что в таблице встречаются пропуски. Пропуски есть в следующих столбцах:\n",
    "\n",
    "airports_nearest — расстояние до ближайшего аэропорта в метрах (м)\n",
    "balcony — число балконов \n",
    "ceiling_height — высота потолков (м) - заменяем на среднее\n",
    "cityCenters_nearest — расстояние до центра города (м) \n",
    "days_exposition — сколько дней было размещено объявление (от публикации до снятия)\n",
    "floors_total — всего этажей в доме \n",
    "is_apartment — апартаменты (булев тип)\n",
    "kitchen_area — площадь кухни в квадратных метрах (м²) (21421 строк заполнено)\n",
    "living_area — жилая площадь в квадратных метрах (м²) (21796 строк заполнено)\n",
    "locality_name — название населённого пункта\n",
    "parks_around3000 — число парков в радиусе 3 км (18181 строк заполнено)\n",
    "parks_nearest — расстояние до ближайшего парка (м) (8079 строк заполнено)\n",
    "ponds_around3000 — число водоёмов в радиусе 3 км (18181 строк заполнено) \n",
    "\n",
    "Требуется предобработка и замена формата представленных данных для дальнейшей работы.\n"
   ]
  },
  {
   "cell_type": "markdown",
   "metadata": {},
   "source": [
    "## Предобработка данных"
   ]
  },
  {
   "cell_type": "code",
   "execution_count": 3,
   "metadata": {},
   "outputs": [
    {
     "data": {
      "text/plain": [
       "count    14504.000000\n",
       "mean         2.771499\n",
       "std          1.261056\n",
       "min          1.000000\n",
       "25%          2.520000\n",
       "50%          2.650000\n",
       "75%          2.800000\n",
       "max        100.000000\n",
       "Name: ceiling_height, dtype: float64"
      ]
     },
     "execution_count": 3,
     "metadata": {},
     "output_type": "execute_result"
    }
   ],
   "source": [
    "table['ceiling_height'].describe() #получена информация о столбце ceiling_height"
   ]
  },
  {
   "cell_type": "code",
   "execution_count": 4,
   "metadata": {},
   "outputs": [],
   "source": [
    "ceiling_height_median = table['ceiling_height'].median() # рассчитала медиану в столбце ceiling_height_median\n",
    "table['ceiling_height'] = table['ceiling_height'].fillna(value = ceiling_height_median)  # обработка столбца ceiling_height, заменила пропущенные значения на медианое значение"
   ]
  },
  {
   "cell_type": "code",
   "execution_count": 5,
   "metadata": {},
   "outputs": [
    {
     "data": {
      "text/plain": [
       "count    21421.000000\n",
       "mean        10.569807\n",
       "std          5.905438\n",
       "min          1.300000\n",
       "25%          7.000000\n",
       "50%          9.100000\n",
       "75%         12.000000\n",
       "max        112.000000\n",
       "Name: kitchen_area, dtype: float64"
      ]
     },
     "execution_count": 5,
     "metadata": {},
     "output_type": "execute_result"
    }
   ],
   "source": [
    "table['kitchen_area'].describe() #получена информация о столбце kitchen_area"
   ]
  },
  {
   "cell_type": "code",
   "execution_count": 6,
   "metadata": {},
   "outputs": [],
   "source": [
    " kitchen_area_median = table['kitchen_area'].median() # рассчитала медиану в столбце kitchen_area_median\n",
    "table['kitchen_area'] = table['kitchen_area'].fillna(value = kitchen_area_median).astype(int)  # обработка столбца kitchen_area, заменила пропущенные значения на медианое значение"
   ]
  },
  {
   "cell_type": "code",
   "execution_count": 7,
   "metadata": {},
   "outputs": [
    {
     "data": {
      "text/plain": [
       "count    21796.000000\n",
       "mean        34.457852\n",
       "std         22.030445\n",
       "min          2.000000\n",
       "25%         18.600000\n",
       "50%         30.000000\n",
       "75%         42.300000\n",
       "max        409.700000\n",
       "Name: living_area, dtype: float64"
      ]
     },
     "execution_count": 7,
     "metadata": {},
     "output_type": "execute_result"
    }
   ],
   "source": [
    "table['living_area'].describe() #получена информация о столбце living_area"
   ]
  },
  {
   "cell_type": "code",
   "execution_count": 8,
   "metadata": {},
   "outputs": [
    {
     "name": "stdout",
     "output_type": "stream",
     "text": [
      "Количество пропусков: 1903\n",
      "Процент пропусков: 0.08029874678256467\n"
     ]
    }
   ],
   "source": [
    "numbers = 23699 - 21796 # расчитано колличество пропусков в столбце living_area\n",
    "print('Количество пропусков:', numbers)\n",
    "percent = numbers/23699 # расчитан процент, который составляет количество пропусков от общего значения\n",
    "print('Процент пропусков:', percent)"
   ]
  },
  {
   "cell_type": "code",
   "execution_count": 9,
   "metadata": {},
   "outputs": [
    {
     "name": "stdout",
     "output_type": "stream",
     "text": [
      "total_images 0.0\n",
      "last_price 0.0\n",
      "total_area 0.0\n",
      "first_day_exposition 0.0\n",
      "rooms 0.0\n",
      "ceiling_height 0.0\n",
      "floors_total 0.0036288450989493226\n",
      "living_area 0.08029874678256467\n",
      "floor 0.0\n",
      "is_apartment 0.8829064517490189\n",
      "studio 0.0\n",
      "open_plan 0.0\n",
      "kitchen_area 0.0\n",
      "balcony 0.4860542638929913\n",
      "locality_name 0.002067597788936242\n",
      "airports_nearest 0.23384952951601334\n",
      "cityCenters_nearest 0.23287902443141062\n",
      "parks_around3000 0.232836828558167\n",
      "parks_nearest 0.6590995400649816\n",
      "ponds_around3000 0.232836828558167\n",
      "ponds_nearest 0.6155955947508334\n",
      "days_exposition 0.13422507278788134\n"
     ]
    }
   ],
   "source": [
    "#код ревьюера\n",
    "\n",
    "for column in table.columns:\n",
    "    print(column,table[column].isna().mean())"
   ]
  },
  {
   "cell_type": "code",
   "execution_count": 10,
   "metadata": {},
   "outputs": [],
   "source": [
    "living_area_median = table['living_area'].median() # рассчитала медиану в столбце living_area\n",
    "table['living_area'] = table['living_area'].fillna(value = living_area_median).astype(int)  # обработка столбца living_area, заменила пропущенные значения на медианое значение"
   ]
  },
  {
   "cell_type": "code",
   "execution_count": 11,
   "metadata": {},
   "outputs": [],
   "source": [
    "table['parks_around3000'] = table['parks_around3000'].fillna(0).astype(int)# обработка столбца parks_around3000, заменила пропущенные значения на 0 и изменила формат данных\n",
    "table['balcony'] = table['balcony'].fillna(0) # обработка столбца balcony, заменила пропущенные значения на 0 и изменила формат данных\n",
    "table['ponds_around3000'] = table['ponds_around3000'].fillna(0).astype(int)# обработка столбца ponds_around3000, заменила пропущенные значения на 0 и изменила формат данных"
   ]
  },
  {
   "cell_type": "code",
   "execution_count": 12,
   "metadata": {},
   "outputs": [
    {
     "data": {
      "text/plain": [
       "count    20518.000000\n",
       "mean       180.888634\n",
       "std        219.727988\n",
       "min          1.000000\n",
       "25%         45.000000\n",
       "50%         95.000000\n",
       "75%        232.000000\n",
       "max       1580.000000\n",
       "Name: days_exposition, dtype: float64"
      ]
     },
     "execution_count": 12,
     "metadata": {},
     "output_type": "execute_result"
    }
   ],
   "source": [
    "table['days_exposition'].describe() #получена информация о столбце days_exposition"
   ]
  },
  {
   "cell_type": "code",
   "execution_count": 13,
   "metadata": {},
   "outputs": [],
   "source": [
    "table['first_day_exposition'] = pd.to_datetime(table['first_day_exposition'], format='%Y-%m-%d %H:%M') #формат даты приведен к единоой форме –"
   ]
  },
  {
   "cell_type": "code",
   "execution_count": 14,
   "metadata": {},
   "outputs": [],
   "source": [
    "table = table.rename(columns={'cityCenters_nearest': 'citycenters_nearest'}) #переименован столбец citycenters_nearest, наименование приведено к нижнему регистру"
   ]
  },
  {
   "cell_type": "code",
   "execution_count": 15,
   "metadata": {},
   "outputs": [
    {
     "name": "stdout",
     "output_type": "stream",
     "text": [
      "Санкт-Петербург            15721\n",
      "посёлок Мурино               522\n",
      "посёлок Шушары               440\n",
      "Всеволожск                   398\n",
      "Пушкин                       369\n",
      "                           ...  \n",
      "деревня Новолисино             1\n",
      "деревня Большое Рейзино        1\n",
      "поселок Сумино                 1\n",
      "посёлок Коробицыно             1\n",
      "посёлок Высокоключевой         1\n",
      "Name: locality_name, Length: 364, dtype: int64\n"
     ]
    }
   ],
   "source": [
    "print(table['locality_name'].value_counts()) #выведеены уникальные значения в столбце locality_name для анализа\n",
    "\n",
    "columns_to_replace = ['locality_name'] # пропуски заменены на значения unknown\n",
    "for columns in columns_to_replace:\n",
    "    table[columns] = table[columns].fillna('unknown')\n",
    "\n",
    "def replace_wrong_genres(wrong_genres, correct_genre): #заменены значения посёлок на поселок\n",
    "    for wrong_genre in wrong_genres:\n",
    "        table['locality_name'] = table['locality_name'].replace(wrong_genres, correct_genre)\n",
    "        \n",
    "duplicates = ['посёлок']\n",
    "name = 'поселок'\n",
    "replace_wrong_genres(duplicates, name)\n"
   ]
  },
  {
   "cell_type": "code",
   "execution_count": 16,
   "metadata": {},
   "outputs": [],
   "source": [
    "table['is_apartment'].fillna(False, inplace=True)\n",
    "table.dropna(subset=['floors_total'], inplace=True)\n",
    "table['floors_total'] = table['floors_total'].astype(int)"
   ]
  },
  {
   "cell_type": "code",
   "execution_count": 17,
   "metadata": {},
   "outputs": [
    {
     "data": {
      "text/plain": [
       "total_images                0\n",
       "last_price                  0\n",
       "total_area                  0\n",
       "first_day_exposition        0\n",
       "rooms                       0\n",
       "ceiling_height              0\n",
       "floors_total                0\n",
       "living_area                 0\n",
       "floor                       0\n",
       "is_apartment                0\n",
       "studio                      0\n",
       "open_plan                   0\n",
       "kitchen_area                0\n",
       "balcony                     0\n",
       "locality_name               0\n",
       "airports_nearest         5532\n",
       "citycenters_nearest      5509\n",
       "parks_around3000            0\n",
       "parks_nearest           15568\n",
       "ponds_around3000            0\n",
       "ponds_nearest           14552\n",
       "days_exposition          3172\n",
       "dtype: int64"
      ]
     },
     "metadata": {},
     "output_type": "display_data"
    }
   ],
   "source": [
    "display(table.isna().sum()) # еще раз проверяем наличие пропусков"
   ]
  },
  {
   "cell_type": "code",
   "execution_count": 18,
   "metadata": {},
   "outputs": [
    {
     "name": "stdout",
     "output_type": "stream",
     "text": [
      "<class 'pandas.core.frame.DataFrame'>\n",
      "Int64Index: 23613 entries, 0 to 23698\n",
      "Data columns (total 22 columns):\n",
      " #   Column                Non-Null Count  Dtype         \n",
      "---  ------                --------------  -----         \n",
      " 0   total_images          23613 non-null  int64         \n",
      " 1   last_price            23613 non-null  float64       \n",
      " 2   total_area            23613 non-null  float64       \n",
      " 3   first_day_exposition  23613 non-null  datetime64[ns]\n",
      " 4   rooms                 23613 non-null  int64         \n",
      " 5   ceiling_height        23613 non-null  float64       \n",
      " 6   floors_total          23613 non-null  int64         \n",
      " 7   living_area           23613 non-null  int64         \n",
      " 8   floor                 23613 non-null  int64         \n",
      " 9   is_apartment          23613 non-null  bool          \n",
      " 10  studio                23613 non-null  bool          \n",
      " 11  open_plan             23613 non-null  bool          \n",
      " 12  kitchen_area          23613 non-null  int64         \n",
      " 13  balcony               23613 non-null  float64       \n",
      " 14  locality_name         23613 non-null  object        \n",
      " 15  airports_nearest      18081 non-null  float64       \n",
      " 16  citycenters_nearest   18104 non-null  float64       \n",
      " 17  parks_around3000      23613 non-null  int64         \n",
      " 18  parks_nearest         8045 non-null   float64       \n",
      " 19  ponds_around3000      23613 non-null  int64         \n",
      " 20  ponds_nearest         9061 non-null   float64       \n",
      " 21  days_exposition       20441 non-null  float64       \n",
      "dtypes: bool(3), datetime64[ns](1), float64(9), int64(8), object(1)\n",
      "memory usage: 3.7+ MB\n"
     ]
    }
   ],
   "source": [
    "table.info() # итогово проверяем информацию по таблице с предобработанными данными"
   ]
  },
  {
   "cell_type": "markdown",
   "metadata": {},
   "source": [
    "\n"
   ]
  },
  {
   "cell_type": "markdown",
   "metadata": {},
   "source": [
    "\n",
    "\n",
    "1) Получена информация о столбце ceiling_height - - стандартное отклонение в нём состалет 1.03, то есть при строительстве - высота потолка - это стандартное значение, поэтому можем заменить пропуски медианным значением. В столбце kitchen_area стандартное отклонение выше и составляем 5.9, но также предположим, что это стандартное значение и заменим пропуски медианным значением. В столбце living_area стандартное отклонение составляем 22, то есть говорить о том, что это стандартное значение нельзя, но количество пропусков составляет 8%, и для того чтобы не удалять и не терять данные, заменим пропуски медианным значением.\n",
    "2) В столбце balcony информация по количеству балконов в квартире. Логично предположить, если этот столбец не заполнен, в квартире нет балконов, поэтому заменяем пропуски на 0. Также заменяем формат строк с float на int - количество балконов - это целочисленные значения. Заменила на 0 пропущенные значения в столбцах parks_around3000, ponds_around3000,ponds_nearest, parks_nearest - предположив, что если эти значения не заполнены, парков и прудов поблизости нет.\n",
    "3) В столбце table days_exposition невозможно заменить все пропущенные значения на среднее, предположительно, если данные не заполнены, значит квартира еще не продана. Осталяем данные так, как есть, изменив только формат даты.\n",
    "4) Информация в столбце floors_total  не понадобиться для дальнейшей работы, поэтому удаляем эти знчения (так как их не так много, потеряем не много информации). Пропущенные знаения в столбце is_apartment заменим на False.\n",
    "5) Так как значения в столбце locality_name нам неизвестны, заменили на значение unknown.\n",
    "6) В столбцах parks_nearest, airports_nearest, ponds_nearest и cityCenters_nearest данные невозможно заменить, удалить также нет возможности, так как тогда мы потеярем большой объем даннных, поэтому оставляем пропуски так, как есть."
   ]
  },
  {
   "cell_type": "markdown",
   "metadata": {},
   "source": [
    "## Расчёты и добавление результатов в таблицу"
   ]
  },
  {
   "cell_type": "code",
   "execution_count": 19,
   "metadata": {},
   "outputs": [
    {
     "data": {
      "text/html": [
       "<div>\n",
       "<style scoped>\n",
       "    .dataframe tbody tr th:only-of-type {\n",
       "        vertical-align: middle;\n",
       "    }\n",
       "\n",
       "    .dataframe tbody tr th {\n",
       "        vertical-align: top;\n",
       "    }\n",
       "\n",
       "    .dataframe thead th {\n",
       "        text-align: right;\n",
       "    }\n",
       "</style>\n",
       "<table border=\"1\" class=\"dataframe\">\n",
       "  <thead>\n",
       "    <tr style=\"text-align: right;\">\n",
       "      <th></th>\n",
       "      <th>total_images</th>\n",
       "      <th>last_price</th>\n",
       "      <th>total_area</th>\n",
       "      <th>first_day_exposition</th>\n",
       "      <th>rooms</th>\n",
       "      <th>ceiling_height</th>\n",
       "      <th>floors_total</th>\n",
       "      <th>living_area</th>\n",
       "      <th>floor</th>\n",
       "      <th>is_apartment</th>\n",
       "      <th>...</th>\n",
       "      <th>ponds_around3000</th>\n",
       "      <th>ponds_nearest</th>\n",
       "      <th>days_exposition</th>\n",
       "      <th>weekday</th>\n",
       "      <th>month</th>\n",
       "      <th>year</th>\n",
       "      <th>price_for_metr</th>\n",
       "      <th>correlation_area</th>\n",
       "      <th>correlation_area_kitchen</th>\n",
       "      <th>floor_def</th>\n",
       "    </tr>\n",
       "  </thead>\n",
       "  <tbody>\n",
       "    <tr>\n",
       "      <th>0</th>\n",
       "      <td>20</td>\n",
       "      <td>13000000.0</td>\n",
       "      <td>108.0</td>\n",
       "      <td>2019-03-07</td>\n",
       "      <td>3</td>\n",
       "      <td>2.70</td>\n",
       "      <td>16</td>\n",
       "      <td>51</td>\n",
       "      <td>8</td>\n",
       "      <td>False</td>\n",
       "      <td>...</td>\n",
       "      <td>2</td>\n",
       "      <td>755.0</td>\n",
       "      <td>NaN</td>\n",
       "      <td>3</td>\n",
       "      <td>3</td>\n",
       "      <td>2019</td>\n",
       "      <td>120370</td>\n",
       "      <td>0.472222</td>\n",
       "      <td>0.231481</td>\n",
       "      <td>другой</td>\n",
       "    </tr>\n",
       "    <tr>\n",
       "      <th>1</th>\n",
       "      <td>7</td>\n",
       "      <td>3350000.0</td>\n",
       "      <td>40.4</td>\n",
       "      <td>2018-12-04</td>\n",
       "      <td>1</td>\n",
       "      <td>2.65</td>\n",
       "      <td>11</td>\n",
       "      <td>18</td>\n",
       "      <td>1</td>\n",
       "      <td>False</td>\n",
       "      <td>...</td>\n",
       "      <td>0</td>\n",
       "      <td>NaN</td>\n",
       "      <td>81.0</td>\n",
       "      <td>1</td>\n",
       "      <td>12</td>\n",
       "      <td>2018</td>\n",
       "      <td>82920</td>\n",
       "      <td>0.445545</td>\n",
       "      <td>0.272277</td>\n",
       "      <td>первый</td>\n",
       "    </tr>\n",
       "    <tr>\n",
       "      <th>2</th>\n",
       "      <td>10</td>\n",
       "      <td>5196000.0</td>\n",
       "      <td>56.0</td>\n",
       "      <td>2015-08-20</td>\n",
       "      <td>2</td>\n",
       "      <td>2.65</td>\n",
       "      <td>5</td>\n",
       "      <td>34</td>\n",
       "      <td>4</td>\n",
       "      <td>False</td>\n",
       "      <td>...</td>\n",
       "      <td>2</td>\n",
       "      <td>574.0</td>\n",
       "      <td>558.0</td>\n",
       "      <td>3</td>\n",
       "      <td>8</td>\n",
       "      <td>2015</td>\n",
       "      <td>92785</td>\n",
       "      <td>0.607143</td>\n",
       "      <td>0.142857</td>\n",
       "      <td>другой</td>\n",
       "    </tr>\n",
       "    <tr>\n",
       "      <th>3</th>\n",
       "      <td>0</td>\n",
       "      <td>64900000.0</td>\n",
       "      <td>159.0</td>\n",
       "      <td>2015-07-24</td>\n",
       "      <td>3</td>\n",
       "      <td>2.65</td>\n",
       "      <td>14</td>\n",
       "      <td>30</td>\n",
       "      <td>9</td>\n",
       "      <td>False</td>\n",
       "      <td>...</td>\n",
       "      <td>3</td>\n",
       "      <td>234.0</td>\n",
       "      <td>424.0</td>\n",
       "      <td>4</td>\n",
       "      <td>7</td>\n",
       "      <td>2015</td>\n",
       "      <td>408176</td>\n",
       "      <td>0.188679</td>\n",
       "      <td>0.056604</td>\n",
       "      <td>другой</td>\n",
       "    </tr>\n",
       "    <tr>\n",
       "      <th>4</th>\n",
       "      <td>2</td>\n",
       "      <td>10000000.0</td>\n",
       "      <td>100.0</td>\n",
       "      <td>2018-06-19</td>\n",
       "      <td>2</td>\n",
       "      <td>3.03</td>\n",
       "      <td>14</td>\n",
       "      <td>32</td>\n",
       "      <td>13</td>\n",
       "      <td>False</td>\n",
       "      <td>...</td>\n",
       "      <td>1</td>\n",
       "      <td>48.0</td>\n",
       "      <td>121.0</td>\n",
       "      <td>1</td>\n",
       "      <td>6</td>\n",
       "      <td>2018</td>\n",
       "      <td>100000</td>\n",
       "      <td>0.320000</td>\n",
       "      <td>0.410000</td>\n",
       "      <td>другой</td>\n",
       "    </tr>\n",
       "  </tbody>\n",
       "</table>\n",
       "<p>5 rows × 29 columns</p>\n",
       "</div>"
      ],
      "text/plain": [
       "   total_images  last_price  total_area first_day_exposition  rooms  \\\n",
       "0            20  13000000.0       108.0           2019-03-07      3   \n",
       "1             7   3350000.0        40.4           2018-12-04      1   \n",
       "2            10   5196000.0        56.0           2015-08-20      2   \n",
       "3             0  64900000.0       159.0           2015-07-24      3   \n",
       "4             2  10000000.0       100.0           2018-06-19      2   \n",
       "\n",
       "   ceiling_height  floors_total  living_area  floor  is_apartment  ...  \\\n",
       "0            2.70            16           51      8         False  ...   \n",
       "1            2.65            11           18      1         False  ...   \n",
       "2            2.65             5           34      4         False  ...   \n",
       "3            2.65            14           30      9         False  ...   \n",
       "4            3.03            14           32     13         False  ...   \n",
       "\n",
       "   ponds_around3000  ponds_nearest  days_exposition  weekday month  year  \\\n",
       "0                 2          755.0              NaN        3     3  2019   \n",
       "1                 0            NaN             81.0        1    12  2018   \n",
       "2                 2          574.0            558.0        3     8  2015   \n",
       "3                 3          234.0            424.0        4     7  2015   \n",
       "4                 1           48.0            121.0        1     6  2018   \n",
       "\n",
       "   price_for_metr  correlation_area  correlation_area_kitchen  floor_def  \n",
       "0          120370          0.472222                  0.231481     другой  \n",
       "1           82920          0.445545                  0.272277     первый  \n",
       "2           92785          0.607143                  0.142857     другой  \n",
       "3          408176          0.188679                  0.056604     другой  \n",
       "4          100000          0.320000                  0.410000     другой  \n",
       "\n",
       "[5 rows x 29 columns]"
      ]
     },
     "metadata": {},
     "output_type": "display_data"
    }
   ],
   "source": [
    "# создаем новые столбцы в тааблице - день недели, месяц и год публикации\n",
    "table['weekday'] = table['first_day_exposition'].dt.weekday\n",
    "table['month'] = table['first_day_exposition'].dt.month\n",
    "table['year'] = table['first_day_exposition'].dt.year\n",
    "\n",
    "#рассчитываем цену за квадратный метр\n",
    "\n",
    "table['price_for_metr'] = (table['last_price']/table['total_area']).astype(int)\n",
    "\n",
    "# посчитано и добавлено в таблицу: соотношение жилой и общей площади, а также отношение площади кухни к общей\n",
    "\n",
    "table['correlation_area'] = table['living_area']/table['total_area'] #соотношение жилой и общей площади\n",
    "table['correlation_area_kitchen'] = table['kitchen_area']/table['total_area'] # отношение площади кухни к общей\n",
    "\n",
    "#посчитано и добавлено в таблицу: этаж квартиры; варианты — первый, последний, другой\n",
    "\n",
    "def floor_def(row): # создана функция для категоризации данных в столбце 'floor'\n",
    "    if row['floor'] == 1:\n",
    "        return \"первый\"\n",
    "    elif row['floor'] == row['floors_total'] != 1:\n",
    "        return \"последний\"\n",
    "    return \"другой\"\n",
    " \n",
    "table['floor_def'] = table.apply(floor_def, axis = 1)\n",
    "\n",
    "display(table.head()) #выведена информация с новыми полученными данными"
   ]
  },
  {
   "cell_type": "markdown",
   "metadata": {},
   "source": [
    "\n",
    "- посчитано и добавлено в таблицу: цена квадратного метра\n",
    "- посчитано и добавлено в таблицу: день недели, месяц и год публикации объявления\n",
    "- посчитано и добавлено в таблицу: этаж квартиры; варианты — первый, последний, другой\n",
    "- посчитано и добавлено в таблицу: соотношение жилой и общей площади, а также отношение площади кухни к общей"
   ]
  },
  {
   "cell_type": "markdown",
   "metadata": {},
   "source": [
    "## Исследовательский анализ данных"
   ]
  },
  {
   "cell_type": "code",
   "execution_count": 20,
   "metadata": {},
   "outputs": [
    {
     "name": "stdout",
     "output_type": "stream",
     "text": [
      "Минимальное значение: 12.0\n",
      "Максимальное значение: 900.0\n"
     ]
    },
    {
     "data": {
      "text/plain": [
       "<AxesSubplot:>"
      ]
     },
     "execution_count": 20,
     "metadata": {},
     "output_type": "execute_result"
    },
    {
     "data": {
      "image/png": "[encoded data removed]",
      "text/plain": [
       "<Figure size 432x288 with 1 Axes>"
      ]
     },
     "metadata": {
      "needs_background": "light"
     },
     "output_type": "display_data"
    }
   ],
   "source": [
    "# изучен параметр: площадь квартир\n",
    "\n",
    "import matplotlib.pyplot as plt\n",
    "print('Минимальное значение:', table['total_area'].min())\n",
    "print('Максимальное значение:', table['total_area'].max())\n",
    "table['total_area'].hist(bins=50, range = (12, 500)) #построена гистограмма столбца 'total_area'"
   ]
  },
  {
   "cell_type": "code",
   "execution_count": 21,
   "metadata": {},
   "outputs": [
    {
     "data": {
      "text/plain": [
       "(-50.0, 200.0)"
      ]
     },
     "execution_count": 21,
     "metadata": {},
     "output_type": "execute_result"
    },
    {
     "data": {
      "image/png": "[encoded data removed]",
      "text/plain": [
       "<Figure size 432x288 with 1 Axes>"
      ]
     },
     "metadata": {
      "needs_background": "light"
     },
     "output_type": "display_data"
    }
   ],
   "source": [
    "table.boxplot('total_area') # построена диаграмма размаха столбца 'total_area'\n",
    "plt.ylim(-50, 200)"
   ]
  },
  {
   "cell_type": "code",
   "execution_count": 22,
   "metadata": {},
   "outputs": [],
   "source": [
    "table = table.query('total_area>=12 and total_area<=110') # местодом query исключены \"выбросы\""
   ]
  },
  {
   "cell_type": "code",
   "execution_count": 23,
   "metadata": {},
   "outputs": [
    {
     "data": {
      "text/plain": [
       "<AxesSubplot:>"
      ]
     },
     "execution_count": 23,
     "metadata": {},
     "output_type": "execute_result"
    },
    {
     "data": {
      "image/png": "[encoded data removed]",
      "text/plain": [
       "<Figure size 432x288 with 1 Axes>"
      ]
     },
     "metadata": {
      "needs_background": "light"
     },
     "output_type": "display_data"
    }
   ],
   "source": [
    "table['total_area'].hist(bins=50, range = (12, 120)) # снова построена гистограмма столбца 'total_area' с обработанными значениями"
   ]
  },
  {
   "cell_type": "markdown",
   "metadata": {},
   "source": [
    "\n",
    "\n",
    "Гистограмма распределения площади квартир носит ожидаемый характер, большая часть квартир имеет площадь от 30-60 кв.м. Наибольший пик наблюдается у квартир с площадью 45 кв.м. Диаграма размаха показывает, что нормальные значения распредеоены в диапозое от 12 до 110 кв.м., за этим значением наблюдаются выбросы. Методом query отброшены все лишние значения, взят диапозон значений от 12 до 110."
   ]
  },
  {
   "cell_type": "code",
   "execution_count": 24,
   "metadata": {},
   "outputs": [
    {
     "name": "stdout",
     "output_type": "stream",
     "text": [
      "Минимальное значение: 12190.0\n",
      "Максимальное значение: 53000000.0\n"
     ]
    },
    {
     "data": {
      "text/plain": [
       "<AxesSubplot:>"
      ]
     },
     "execution_count": 24,
     "metadata": {},
     "output_type": "execute_result"
    },
    {
     "data": {
      "image/png": "[encoded data removed]",
      "text/plain": [
       "<Figure size 432x288 with 1 Axes>"
      ]
     },
     "metadata": {
      "needs_background": "light"
     },
     "output_type": "display_data"
    }
   ],
   "source": [
    "# изучен параметр: цена квартир\n",
    "\n",
    "print('Минимальное значение:', table['last_price'].min())\n",
    "print('Максимальное значение:', table['last_price'].max())\n",
    "table['last_price'].hist(bins=50, range = (12000, 53000000)) # постороена гистограмма столбца last_price"
   ]
  },
  {
   "cell_type": "code",
   "execution_count": 25,
   "metadata": {},
   "outputs": [
    {
     "data": {
      "text/plain": [
       "(-500000.0, 15000000.0)"
      ]
     },
     "execution_count": 25,
     "metadata": {},
     "output_type": "execute_result"
    },
    {
     "data": {
      "image/png": "[encoded data removed]",
      "text/plain": [
       "<Figure size 432x288 with 1 Axes>"
      ]
     },
     "metadata": {
      "needs_background": "light"
     },
     "output_type": "display_data"
    }
   ],
   "source": [
    "table.boxplot('last_price') # постороена диаграмма размаха столбца last_price\n",
    "plt.ylim(-500000, 15000000)"
   ]
  },
  {
   "cell_type": "code",
   "execution_count": 26,
   "metadata": {},
   "outputs": [],
   "source": [
    "table = table.query('last_price <= 11000000')"
   ]
  },
  {
   "cell_type": "code",
   "execution_count": 27,
   "metadata": {},
   "outputs": [
    {
     "data": {
      "text/plain": [
       "<AxesSubplot:>"
      ]
     },
     "execution_count": 27,
     "metadata": {},
     "output_type": "execute_result"
    },
    {
     "data": {
      "image/png": "[encoded data removed]",
      "text/plain": [
       "<Figure size 432x288 with 1 Axes>"
      ]
     },
     "metadata": {
      "needs_background": "light"
     },
     "output_type": "display_data"
    }
   ],
   "source": [
    "table['last_price'].hist(bins=50, range = (0, 11000000)) # постороена гистограмма столбца last_price"
   ]
  },
  {
   "cell_type": "markdown",
   "metadata": {},
   "source": [
    "\n",
    "Гистограмма распределения цены квартир носит ожидаемый характер - пик наблюдается при значении цены на квартиру 3,8 млн. Спад значений наюлбдется при цене на квартиру 6 млн.Методом query отброшены все лишние значения, взят диапозон значений до 11 млн построена новая гистограмма для более наглядного представления."
   ]
  },
  {
   "cell_type": "code",
   "execution_count": 28,
   "metadata": {},
   "outputs": [
    {
     "name": "stdout",
     "output_type": "stream",
     "text": [
      "Минимальное значение: 0\n",
      "Максимальное значение: 6\n"
     ]
    },
    {
     "data": {
      "text/plain": [
       "<AxesSubplot:>"
      ]
     },
     "execution_count": 28,
     "metadata": {},
     "output_type": "execute_result"
    },
    {
     "data": {
      "image/png": "[encoded data removed]",
      "text/plain": [
       "<Figure size 432x288 with 1 Axes>"
      ]
     },
     "metadata": {
      "needs_background": "light"
     },
     "output_type": "display_data"
    }
   ],
   "source": [
    "# изучен параметр: количество комнат\n",
    "\n",
    "print('Минимальное значение:', table['rooms'].min())\n",
    "print('Максимальное значение:', table['rooms'].max())\n",
    "table['rooms'].hist(bins=10, range = (0, 6)) # постороена гистограмма столбца rooms"
   ]
  },
  {
   "cell_type": "code",
   "execution_count": 29,
   "metadata": {},
   "outputs": [
    {
     "data": {
      "text/plain": [
       "(-1.0, 7.0)"
      ]
     },
     "execution_count": 29,
     "metadata": {},
     "output_type": "execute_result"
    },
    {
     "data": {
      "image/png": "[encoded data removed]",
      "text/plain": [
       "<Figure size 432x288 with 1 Axes>"
      ]
     },
     "metadata": {
      "needs_background": "light"
     },
     "output_type": "display_data"
    }
   ],
   "source": [
    "table.boxplot('rooms') # постороена диаграмма размаха столбца rooms\n",
    "plt.ylim(-1, 7)"
   ]
  },
  {
   "cell_type": "markdown",
   "metadata": {},
   "source": [
    "\n",
    "\n",
    "Из гистрограммы видно, что в квартирах чаще всего от одной до трех комнат - это наиболее часто встречающиеся значения. По диаграмме размаха видно, что значения лежат в пределах от 0 до 6, распределение нормальное, выбросов нет. При количеств комнат 0 - это студии, 6 комнат в квартире также возможны."
   ]
  },
  {
   "cell_type": "code",
   "execution_count": 30,
   "metadata": {},
   "outputs": [
    {
     "name": "stdout",
     "output_type": "stream",
     "text": [
      "Минимальное значение: 1.0\n",
      "Максимальное значение: 32.0\n"
     ]
    },
    {
     "data": {
      "text/plain": [
       "<AxesSubplot:>"
      ]
     },
     "execution_count": 30,
     "metadata": {},
     "output_type": "execute_result"
    },
    {
     "data": {
      "image/png": "[encoded data removed]",
      "text/plain": [
       "<Figure size 432x288 with 1 Axes>"
      ]
     },
     "metadata": {
      "needs_background": "light"
     },
     "output_type": "display_data"
    }
   ],
   "source": [
    "# изучен параметр: высота потолков\n",
    "\n",
    "print('Минимальное значение:', table['ceiling_height'].min())\n",
    "print('Максимальное значение:', table['ceiling_height'].max())\n",
    "table['ceiling_height'].hist(bins=11, range = (0, 4)) # постороена гистограмма столбца ceiling_height"
   ]
  },
  {
   "cell_type": "code",
   "execution_count": 31,
   "metadata": {},
   "outputs": [
    {
     "data": {
      "text/plain": [
       "(0.0, 4.0)"
      ]
     },
     "execution_count": 31,
     "metadata": {},
     "output_type": "execute_result"
    },
    {
     "data": {
      "image/png": "[encoded data removed]",
      "text/plain": [
       "<Figure size 432x288 with 1 Axes>"
      ]
     },
     "metadata": {
      "needs_background": "light"
     },
     "output_type": "display_data"
    }
   ],
   "source": [
    "table.boxplot('ceiling_height') # постороена диаграмма размаха столбца ceiling_height\n",
    "plt.ylim(0, 4)"
   ]
  },
  {
   "cell_type": "code",
   "execution_count": 32,
   "metadata": {},
   "outputs": [],
   "source": [
    "table = table.query('ceiling_height <= 4.5')"
   ]
  },
  {
   "cell_type": "code",
   "execution_count": 33,
   "metadata": {},
   "outputs": [
    {
     "data": {
      "text/plain": [
       "<AxesSubplot:>"
      ]
     },
     "execution_count": 33,
     "metadata": {},
     "output_type": "execute_result"
    },
    {
     "data": {
      "image/png": "[encoded data removed]",
      "text/plain": [
       "<Figure size 432x288 with 1 Axes>"
      ]
     },
     "metadata": {
      "needs_background": "light"
     },
     "output_type": "display_data"
    }
   ],
   "source": [
    "table['ceiling_height'].hist(bins=10, range = (0, 3)) # постороена гистограмма столбца ceiling_height"
   ]
  },
  {
   "cell_type": "markdown",
   "metadata": {},
   "source": [
    "\n",
    "\n",
    "Из гистрограммы видно, что в квартирах чаще всего  высота потолков от 2.5 местров до 3-х метров. Диаграмма размаха показывает, что нормальные значения лежат в пределах от 1 до 3-х метров, методом query удалены выбросы."
   ]
  },
  {
   "cell_type": "code",
   "execution_count": 34,
   "metadata": {},
   "outputs": [
    {
     "name": "stdout",
     "output_type": "stream",
     "text": [
      "Минимальное значение: 1.0\n",
      "Максимальное значение: 1580.0\n",
      "Среднее значение: 171.0076541612764\n",
      "Медианное значение: 91.0\n"
     ]
    },
    {
     "data": {
      "text/plain": [
       "<AxesSubplot:>"
      ]
     },
     "execution_count": 34,
     "metadata": {},
     "output_type": "execute_result"
    },
    {
     "data": {
      "image/png": "[encoded data removed]",
      "text/plain": [
       "<Figure size 432x288 with 1 Axes>"
      ]
     },
     "metadata": {
      "needs_background": "light"
     },
     "output_type": "display_data"
    }
   ],
   "source": [
    "# изучен параметр: время продажи квартир\n",
    "\n",
    "print('Минимальное значение:', table['days_exposition'].min())\n",
    "print('Максимальное значение:', table['days_exposition'].max())\n",
    "print('Среднее значение:', table['days_exposition'].mean())\n",
    "print('Медианное значение:', table['days_exposition'].median())\n",
    "table['days_exposition'].hist(bins=50, range = (10, 600)) #построена гистограмма столбца 'days_exposition'"
   ]
  },
  {
   "cell_type": "code",
   "execution_count": 35,
   "metadata": {},
   "outputs": [
    {
     "data": {
      "text/plain": [
       "(-50.0, 600.0)"
      ]
     },
     "execution_count": 35,
     "metadata": {},
     "output_type": "execute_result"
    },
    {
     "data": {
      "image/png": "[encoded data removed]",
      "text/plain": [
       "<Figure size 432x288 with 1 Axes>"
      ]
     },
     "metadata": {
      "needs_background": "light"
     },
     "output_type": "display_data"
    }
   ],
   "source": [
    "table.boxplot('days_exposition') # постороена диаграмма размаха столбца days_exposition\n",
    "plt.ylim(-50, 600)"
   ]
  },
  {
   "cell_type": "code",
   "execution_count": 36,
   "metadata": {},
   "outputs": [
    {
     "data": {
      "text/plain": [
       "count    18552.000000\n",
       "mean       171.007654\n",
       "std        208.367404\n",
       "min          1.000000\n",
       "25%         43.000000\n",
       "50%         91.000000\n",
       "75%        217.000000\n",
       "max       1580.000000\n",
       "Name: days_exposition, dtype: float64"
      ]
     },
     "execution_count": 36,
     "metadata": {},
     "output_type": "execute_result"
    }
   ],
   "source": [
    "table['days_exposition'].describe()"
   ]
  },
  {
   "cell_type": "markdown",
   "metadata": {},
   "source": [
    "Гистоограмма носит ожидаемый характер - видно, что в нуле нет значений, и пики наблюдаются со значения 20, наибольший пик видно при значении 48. Можно предположить, что сделка прошла быстро, если значение меньшь 48, и кватира продавалась долго, если значение превышает 187 дней."
   ]
  },
  {
   "cell_type": "markdown",
   "metadata": {},
   "source": [
    "Изучим, какие факторы больше всего влияют на стоимость квартиры. зависит ли цена от квадратного метра, числа комнат, этажа (первого или последнего), удалённости от центра."
   ]
  },
  {
   "cell_type": "code",
   "execution_count": 37,
   "metadata": {},
   "outputs": [
    {
     "data": {
      "text/plain": [
       "<AxesSubplot:xlabel='price_for_metr', ylabel='last_price'>"
      ]
     },
     "execution_count": 37,
     "metadata": {},
     "output_type": "execute_result"
    },
    {
     "data": {
      "image/png": "[encoded data removed]",
      "text/plain": [
       "<Figure size 432x288 with 1 Axes>"
      ]
     },
     "metadata": {
      "needs_background": "light"
     },
     "output_type": "display_data"
    }
   ],
   "source": [
    "table.plot(x='price_for_metr', y='last_price', kind='scatter', grid=True) #изучена зависимость стоимости квартиры от стоимости заквадратный метр"
   ]
  },
  {
   "cell_type": "markdown",
   "metadata": {},
   "source": [
    "Построена диаграмма рассения - изучена зависимость стоиомости картиры от квадратного метра, получены логичные результаты - с ростом цены за квадратны метр наблюдается прямая зависилмть роста за всю площадь квартиры. Вывод ниже подтвержден расчетом коэффициента корреляции Пирсона - он положительный, то есть с ростом первой величины растёт вторая."
   ]
  },
  {
   "cell_type": "code",
   "execution_count": 38,
   "metadata": {},
   "outputs": [
    {
     "name": "stdout",
     "output_type": "stream",
     "text": [
      "0.6274550382019539\n"
     ]
    }
   ],
   "source": [
    "print(table['price_for_metr'].corr(table['last_price']))"
   ]
  },
  {
   "cell_type": "code",
   "execution_count": 39,
   "metadata": {},
   "outputs": [
    {
     "data": {
      "text/plain": [
       "<AxesSubplot:xlabel='rooms', ylabel='last_price'>"
      ]
     },
     "execution_count": 39,
     "metadata": {},
     "output_type": "execute_result"
    },
    {
     "data": {
      "image/png": "[encoded data removed]",
      "text/plain": [
       "<Figure size 432x288 with 1 Axes>"
      ]
     },
     "metadata": {
      "needs_background": "light"
     },
     "output_type": "display_data"
    }
   ],
   "source": [
    "table.plot(x='rooms', y='last_price', kind='scatter', grid=True)  #изучена зависимость стоимости квартиры от количества комнат"
   ]
  },
  {
   "cell_type": "code",
   "execution_count": 40,
   "metadata": {},
   "outputs": [
    {
     "name": "stdout",
     "output_type": "stream",
     "text": [
      "0.42574795291450257\n"
     ]
    }
   ],
   "source": [
    "print(table['rooms'].corr(table['last_price']))"
   ]
  },
  {
   "cell_type": "markdown",
   "metadata": {},
   "source": [
    "Аналогично построена диаграмма рассения - изучена зависимость стоиомости картиры от количества комнат. Также наблюдается линейная зависимость, чем больше комнат, тем выше цена. Также расчитан коэффициент корреляции Пирсона - он снова положительный, линейная зависимость подтверждена."
   ]
  },
  {
   "cell_type": "code",
   "execution_count": 41,
   "metadata": {},
   "outputs": [
    {
     "data": {
      "text/plain": [
       "<AxesSubplot:xlabel='last_price', ylabel='citycenters_nearest'>"
      ]
     },
     "execution_count": 41,
     "metadata": {},
     "output_type": "execute_result"
    },
    {
     "data": {
      "image/png": "[encoded data removed]",
      "text/plain": [
       "<Figure size 576x432 with 2 Axes>"
      ]
     },
     "metadata": {
      "needs_background": "light"
     },
     "output_type": "display_data"
    }
   ],
   "source": [
    "table.plot(x='last_price', y='citycenters_nearest', kind='hexbin', gridsize=20, figsize=(8, 6), sharex=False, grid=True) #изучена зависимость стоимости квартиры от расстояния до центра"
   ]
  },
  {
   "cell_type": "code",
   "execution_count": 42,
   "metadata": {},
   "outputs": [
    {
     "data": {
      "text/plain": [
       "<AxesSubplot:xlabel='last_price', ylabel='citycenters_nearest'>"
      ]
     },
     "execution_count": 42,
     "metadata": {},
     "output_type": "execute_result"
    },
    {
     "data": {
      "image/png": "[encoded data removed]",
      "text/plain": [
       "<Figure size 432x288 with 1 Axes>"
      ]
     },
     "metadata": {
      "needs_background": "light"
     },
     "output_type": "display_data"
    }
   ],
   "source": [
    "table.plot(x='last_price', y='citycenters_nearest', kind='scatter', grid=True)"
   ]
  },
  {
   "cell_type": "code",
   "execution_count": 43,
   "metadata": {},
   "outputs": [
    {
     "name": "stdout",
     "output_type": "stream",
     "text": [
      "-0.3402668726289891\n"
     ]
    }
   ],
   "source": [
    "print(table['citycenters_nearest'].corr(table['last_price']))"
   ]
  },
  {
   "cell_type": "markdown",
   "metadata": {},
   "source": [
    "Из графиков видно, что зависимость между расстоянием до центра и стоимостью квартир есть, вывод подтвержден расчетом коэффициента корреляции Пирсона, знаечние отрицательное, это означает, что рост одной величины связан с уменьшением другой. То есть чем дальше квартира от центра, тем выше цена."
   ]
  },
  {
   "cell_type": "code",
   "execution_count": 44,
   "metadata": {},
   "outputs": [
    {
     "data": {
      "text/plain": [
       "<AxesSubplot:xlabel='floor_def'>"
      ]
     },
     "execution_count": 44,
     "metadata": {},
     "output_type": "execute_result"
    },
    {
     "data": {
      "image/png": "[encoded data removed]",
      "text/plain": [
       "<Figure size 432x288 with 1 Axes>"
      ]
     },
     "metadata": {
      "needs_background": "light"
     },
     "output_type": "display_data"
    }
   ],
   "source": [
    "table.groupby('floor_def')['last_price'].mean().plot.bar()"
   ]
  },
  {
   "cell_type": "markdown",
   "metadata": {},
   "source": [
    "Из полученного графика также видно, что зависимости между ценой квартиры и этажом есть, самые дешевые квартиры находятся на первом этаже, квартиры на последних этажах стоят дороже, чем на первом, но всё-таки дешевле, чем на всех остальных. Соответсвенно самые дорогие квартиры, находящиеся выше первого, но ниже последнего этажей."
   ]
  },
  {
   "cell_type": "code",
   "execution_count": 45,
   "metadata": {},
   "outputs": [
    {
     "data": {
      "text/plain": [
       "<AxesSubplot:xlabel='last_price', ylabel='weekday'>"
      ]
     },
     "execution_count": 45,
     "metadata": {},
     "output_type": "execute_result"
    },
    {
     "data": {
      "image/png": "[encoded data removed]",
      "text/plain": [
       "<Figure size 432x288 with 1 Axes>"
      ]
     },
     "metadata": {
      "needs_background": "light"
     },
     "output_type": "display_data"
    }
   ],
   "source": [
    "#изучена зависимость стоимости квартиры от даты размещения\n",
    "\n",
    "table.plot(x='last_price', y='weekday', kind='scatter', grid=True)"
   ]
  },
  {
   "cell_type": "code",
   "execution_count": 46,
   "metadata": {},
   "outputs": [
    {
     "name": "stdout",
     "output_type": "stream",
     "text": [
      "-0.01027153068348217\n"
     ]
    }
   ],
   "source": [
    "print(table['weekday'].corr(table['last_price']))"
   ]
  },
  {
   "cell_type": "code",
   "execution_count": 47,
   "metadata": {},
   "outputs": [
    {
     "data": {
      "text/plain": [
       "<AxesSubplot:xlabel='last_price', ylabel='month'>"
      ]
     },
     "execution_count": 47,
     "metadata": {},
     "output_type": "execute_result"
    },
    {
     "data": {
      "image/png": "[encoded data removed]",
      "text/plain": [
       "<Figure size 432x288 with 1 Axes>"
      ]
     },
     "metadata": {
      "needs_background": "light"
     },
     "output_type": "display_data"
    }
   ],
   "source": [
    "table.plot(x='last_price', y='month', kind='scatter', grid=True)"
   ]
  },
  {
   "cell_type": "code",
   "execution_count": 48,
   "metadata": {},
   "outputs": [
    {
     "name": "stdout",
     "output_type": "stream",
     "text": [
      "0.002282259043165671\n"
     ]
    }
   ],
   "source": [
    "print(table['month'].corr(table['last_price']))"
   ]
  },
  {
   "cell_type": "code",
   "execution_count": 49,
   "metadata": {},
   "outputs": [
    {
     "data": {
      "text/plain": [
       "<AxesSubplot:xlabel='last_price', ylabel='year'>"
      ]
     },
     "execution_count": 49,
     "metadata": {},
     "output_type": "execute_result"
    },
    {
     "data": {
      "image/png": "[encoded data removed]",
      "text/plain": [
       "<Figure size 432x288 with 1 Axes>"
      ]
     },
     "metadata": {
      "needs_background": "light"
     },
     "output_type": "display_data"
    }
   ],
   "source": [
    "table.plot(x='last_price', y='year', kind='scatter', grid=True)"
   ]
  },
  {
   "cell_type": "code",
   "execution_count": 50,
   "metadata": {},
   "outputs": [
    {
     "name": "stdout",
     "output_type": "stream",
     "text": [
      "0.011983859527870969\n"
     ]
    }
   ],
   "source": [
    "print(table['year'].corr(table['last_price']))"
   ]
  },
  {
   "cell_type": "markdown",
   "metadata": {},
   "source": [
    "Зависимости между ценой и датой размещения объявления нет - коэффициенты корреляции Пирсона либо отрицательные, либо близки к 0. Но для дополнительной проверки данных построим Матрицу диаграмм рассеяния"
   ]
  },
  {
   "cell_type": "code",
   "execution_count": 51,
   "metadata": {},
   "outputs": [
    {
     "data": {
      "text/html": [
       "<div>\n",
       "<style scoped>\n",
       "    .dataframe tbody tr th:only-of-type {\n",
       "        vertical-align: middle;\n",
       "    }\n",
       "\n",
       "    .dataframe tbody tr th {\n",
       "        vertical-align: top;\n",
       "    }\n",
       "\n",
       "    .dataframe thead th {\n",
       "        text-align: right;\n",
       "    }\n",
       "</style>\n",
       "<table border=\"1\" class=\"dataframe\">\n",
       "  <thead>\n",
       "    <tr style=\"text-align: right;\">\n",
       "      <th></th>\n",
       "      <th>month</th>\n",
       "      <th>weekday</th>\n",
       "      <th>year</th>\n",
       "    </tr>\n",
       "  </thead>\n",
       "  <tbody>\n",
       "    <tr>\n",
       "      <th>month</th>\n",
       "      <td>1.000000</td>\n",
       "      <td>0.063012</td>\n",
       "      <td>-0.235761</td>\n",
       "    </tr>\n",
       "    <tr>\n",
       "      <th>weekday</th>\n",
       "      <td>0.063012</td>\n",
       "      <td>1.000000</td>\n",
       "      <td>-0.025125</td>\n",
       "    </tr>\n",
       "    <tr>\n",
       "      <th>year</th>\n",
       "      <td>-0.235761</td>\n",
       "      <td>-0.025125</td>\n",
       "      <td>1.000000</td>\n",
       "    </tr>\n",
       "  </tbody>\n",
       "</table>\n",
       "</div>"
      ],
      "text/plain": [
       "            month   weekday      year\n",
       "month    1.000000  0.063012 -0.235761\n",
       "weekday  0.063012  1.000000 -0.025125\n",
       "year    -0.235761 -0.025125  1.000000"
      ]
     },
     "execution_count": 51,
     "metadata": {},
     "output_type": "execute_result"
    }
   ],
   "source": [
    "common_date = table.pivot_table(index = 'last_price', values=['weekday', 'month', 'year'], aggfunc='mean')\n",
    "common_date.corr()"
   ]
  },
  {
   "cell_type": "code",
   "execution_count": 52,
   "metadata": {},
   "outputs": [
    {
     "data": {
      "text/plain": [
       "array([[<AxesSubplot:xlabel='month', ylabel='month'>,\n",
       "        <AxesSubplot:xlabel='weekday', ylabel='month'>,\n",
       "        <AxesSubplot:xlabel='year', ylabel='month'>],\n",
       "       [<AxesSubplot:xlabel='month', ylabel='weekday'>,\n",
       "        <AxesSubplot:xlabel='weekday', ylabel='weekday'>,\n",
       "        <AxesSubplot:xlabel='year', ylabel='weekday'>],\n",
       "       [<AxesSubplot:xlabel='month', ylabel='year'>,\n",
       "        <AxesSubplot:xlabel='weekday', ylabel='year'>,\n",
       "        <AxesSubplot:xlabel='year', ylabel='year'>]], dtype=object)"
      ]
     },
     "execution_count": 52,
     "metadata": {},
     "output_type": "execute_result"
    },
    {
     "data": {
      "image/png": "[encoded data removed]",
      "text/plain": [
       "<Figure size 648x648 with 9 Axes>"
      ]
     },
     "metadata": {
      "needs_background": "light"
     },
     "output_type": "display_data"
    }
   ],
   "source": [
    "pd.plotting.scatter_matrix(common_date, figsize=(9, 9))"
   ]
  },
  {
   "cell_type": "markdown",
   "metadata": {},
   "source": [
    "Из полученных данных видно:\n",
    "- самая высокая цена на квартиры была в июне\n",
    "- яркой зависимости и роста цена с каждым годом не видно, но можно обратить внимание, что самые высокие цены были в 2017 году\n",
    "- по дням недели - самые высокие цены были по четвергам, на выходных наблюдается снижение цен"
   ]
  },
  {
   "cell_type": "code",
   "execution_count": 53,
   "metadata": {},
   "outputs": [
    {
     "data": {
      "image/png": "[encoded data removed]",
      "text/plain": [
       "<Figure size 432x288 with 1 Axes>"
      ]
     },
     "metadata": {
      "needs_background": "light"
     },
     "output_type": "display_data"
    }
   ],
   "source": [
    "# код ревьюера\n",
    "\n",
    "table.groupby('month')['last_price'].mean().plot.bar();"
   ]
  },
  {
   "cell_type": "code",
   "execution_count": 54,
   "metadata": {},
   "outputs": [
    {
     "name": "stdout",
     "output_type": "stream",
     "text": [
      "Санкт-Петербург      13302\n",
      "посёлок Мурино         518\n",
      "посёлок Шушары         434\n",
      "Всеволожск             394\n",
      "Колпино                335\n",
      "Пушкин                 335\n",
      "посёлок Парголово      326\n",
      "Гатчина                302\n",
      "деревня Кудрово        298\n",
      "Выборг                 227\n",
      "Name: locality_name, dtype: int64\n"
     ]
    }
   ],
   "source": [
    "group_local = table['locality_name'].value_counts() # выделены 10 населённых пунктов с наибольшим числом объявлений\n",
    "print(group_local.head(10))"
   ]
  },
  {
   "cell_type": "code",
   "execution_count": 55,
   "metadata": {},
   "outputs": [
    {
     "name": "stdout",
     "output_type": "stream",
     "text": [
      "Средняя цена за метр в Санкт-Петербурге 105322\n",
      "Средняя цена за метр в посёлке Мурино 85645\n",
      "Средняя цена за метр в посёлке Шушары 78585\n",
      "Средняя цена за метр во Всеволжске 67221\n",
      "Средняя цена за метр в Колпино 75221\n",
      "Средняя цена за метр в Пушкине 100309\n",
      "Средняя цена за метр в поселке Парголово 90331\n",
      "Средняя цена за метр в Гатчине 68674\n",
      "Средняя цена за метр в деревне Кудрово 92409\n",
      "Средняя цена за метр в Выборге 58192\n"
     ]
    }
   ],
   "source": [
    "location_new_spb = table.query('locality_name == \"Санкт-Петербург\"')\n",
    "spb_price = location_new_spb['price_for_metr'].mean().astype(int)\n",
    "\n",
    "location_new_murino = table.query('locality_name == \"посёлок Мурино\"')\n",
    "murino_price = location_new_murino['price_for_metr'].mean().astype(int)\n",
    "\n",
    "location_new_sushary = table.query('locality_name == \"посёлок Шушары\"')\n",
    "sushary_price = location_new_sushary['price_for_metr'].mean().astype(int)\n",
    "\n",
    "location_new_vsev = table.query('locality_name == \"Всеволожск\"')\n",
    "vsev_price = location_new_vsev['price_for_metr'].mean().astype(int)\n",
    "\n",
    "location_new_kolp = table.query('locality_name == \"Колпино\"')\n",
    "kolp_price = location_new_kolp['price_for_metr'].mean().astype(int)\n",
    "\n",
    "location_new_pyshk = table.query('locality_name == \"Пушкин\"')\n",
    "pyshk_price = location_new_pyshk['price_for_metr'].mean().astype(int)\n",
    "\n",
    "location_new_pargol = table.query('locality_name == \"посёлок Парголово\"')\n",
    "pargol_price = location_new_pargol['price_for_metr'].mean().astype(int)\n",
    "\n",
    "location_new_gatch = table.query('locality_name == \"Гатчина\"')\n",
    "gatch_price = location_new_gatch['price_for_metr'].mean().astype(int)\n",
    "\n",
    "location_new_kudrovo = table.query('locality_name == \"деревня Кудрово\"')\n",
    "kudrovo_price = location_new_kudrovo['price_for_metr'].mean().astype(int)\n",
    "\n",
    "location_new_vyborg = table.query('locality_name == \"Выборг\"')\n",
    "vyborg_price = location_new_vyborg['price_for_metr'].mean().astype(int)\n",
    "\n",
    "\n",
    "print('Средняя цена за метр в Санкт-Петербурге', spb_price)\n",
    "print('Средняя цена за метр в посёлке Мурино', murino_price)\n",
    "print('Средняя цена за метр в посёлке Шушары', sushary_price)\n",
    "print('Средняя цена за метр во Всеволжске', vsev_price)\n",
    "print('Средняя цена за метр в Колпино', kolp_price)\n",
    "print('Средняя цена за метр в Пушкине', pyshk_price)\n",
    "print('Средняя цена за метр в поселке Парголово', pargol_price)\n",
    "print('Средняя цена за метр в Гатчине', gatch_price)\n",
    "print('Средняя цена за метр в деревне Кудрово', kudrovo_price)\n",
    "print('Средняя цена за метр в Выборге', vyborg_price)"
   ]
  },
  {
   "cell_type": "code",
   "execution_count": 56,
   "metadata": {},
   "outputs": [
    {
     "data": {
      "text/html": [
       "<div>\n",
       "<style scoped>\n",
       "    .dataframe tbody tr th:only-of-type {\n",
       "        vertical-align: middle;\n",
       "    }\n",
       "\n",
       "    .dataframe tbody tr th {\n",
       "        vertical-align: top;\n",
       "    }\n",
       "\n",
       "    .dataframe thead th {\n",
       "        text-align: right;\n",
       "    }\n",
       "</style>\n",
       "<table border=\"1\" class=\"dataframe\">\n",
       "  <thead>\n",
       "    <tr style=\"text-align: right;\">\n",
       "      <th></th>\n",
       "      <th>price_for_metr</th>\n",
       "    </tr>\n",
       "    <tr>\n",
       "      <th>locality_name</th>\n",
       "      <th></th>\n",
       "    </tr>\n",
       "  </thead>\n",
       "  <tbody>\n",
       "    <tr>\n",
       "      <th>посёлок Лисий Нос</th>\n",
       "      <td>121615.500000</td>\n",
       "    </tr>\n",
       "    <tr>\n",
       "      <th>Санкт-Петербург</th>\n",
       "      <td>105322.534581</td>\n",
       "    </tr>\n",
       "    <tr>\n",
       "      <th>Зеленогорск</th>\n",
       "      <td>102890.190476</td>\n",
       "    </tr>\n",
       "    <tr>\n",
       "      <th>Сестрорецк</th>\n",
       "      <td>100696.024845</td>\n",
       "    </tr>\n",
       "    <tr>\n",
       "      <th>Пушкин</th>\n",
       "      <td>100309.764179</td>\n",
       "    </tr>\n",
       "    <tr>\n",
       "      <th>Кудрово</th>\n",
       "      <td>99779.594118</td>\n",
       "    </tr>\n",
       "    <tr>\n",
       "      <th>деревня Мистолово</th>\n",
       "      <td>98549.545455</td>\n",
       "    </tr>\n",
       "    <tr>\n",
       "      <th>посёлок Левашово</th>\n",
       "      <td>96997.000000</td>\n",
       "    </tr>\n",
       "    <tr>\n",
       "      <th>Мурино</th>\n",
       "      <td>92722.264706</td>\n",
       "    </tr>\n",
       "    <tr>\n",
       "      <th>деревня Кудрово</th>\n",
       "      <td>92409.265101</td>\n",
       "    </tr>\n",
       "  </tbody>\n",
       "</table>\n",
       "</div>"
      ],
      "text/plain": [
       "                   price_for_metr\n",
       "locality_name                    \n",
       "посёлок Лисий Нос   121615.500000\n",
       "Санкт-Петербург     105322.534581\n",
       "Зеленогорск         102890.190476\n",
       "Сестрорецк          100696.024845\n",
       "Пушкин              100309.764179\n",
       "Кудрово              99779.594118\n",
       "деревня Мистолово    98549.545455\n",
       "посёлок Левашово     96997.000000\n",
       "Мурино               92722.264706\n",
       "деревня Кудрово      92409.265101"
      ]
     },
     "metadata": {},
     "output_type": "display_data"
    }
   ],
   "source": [
    "location_pivot = table.pivot_table(index='locality_name', values='price_for_metr').sort_values('price_for_metr', ascending=False)\n",
    "display(location_pivot.head(10))"
   ]
  },
  {
   "cell_type": "code",
   "execution_count": 57,
   "metadata": {},
   "outputs": [
    {
     "data": {
      "text/html": [
       "<div>\n",
       "<style scoped>\n",
       "    .dataframe tbody tr th:only-of-type {\n",
       "        vertical-align: middle;\n",
       "    }\n",
       "\n",
       "    .dataframe tbody tr th {\n",
       "        vertical-align: top;\n",
       "    }\n",
       "\n",
       "    .dataframe thead th {\n",
       "        text-align: right;\n",
       "    }\n",
       "</style>\n",
       "<table border=\"1\" class=\"dataframe\">\n",
       "  <thead>\n",
       "    <tr style=\"text-align: right;\">\n",
       "      <th></th>\n",
       "      <th>price_for_metr</th>\n",
       "    </tr>\n",
       "    <tr>\n",
       "      <th>locality_name</th>\n",
       "      <th></th>\n",
       "    </tr>\n",
       "  </thead>\n",
       "  <tbody>\n",
       "    <tr>\n",
       "      <th>Всеволожск</th>\n",
       "      <td>67221.964467</td>\n",
       "    </tr>\n",
       "    <tr>\n",
       "      <th>Выборг</th>\n",
       "      <td>58192.268722</td>\n",
       "    </tr>\n",
       "    <tr>\n",
       "      <th>Гатчина</th>\n",
       "      <td>68674.996689</td>\n",
       "    </tr>\n",
       "    <tr>\n",
       "      <th>Колпино</th>\n",
       "      <td>75221.444776</td>\n",
       "    </tr>\n",
       "    <tr>\n",
       "      <th>Пушкин</th>\n",
       "      <td>100309.764179</td>\n",
       "    </tr>\n",
       "    <tr>\n",
       "      <th>Санкт-Петербург</th>\n",
       "      <td>105322.534581</td>\n",
       "    </tr>\n",
       "    <tr>\n",
       "      <th>деревня Кудрово</th>\n",
       "      <td>92409.265101</td>\n",
       "    </tr>\n",
       "    <tr>\n",
       "      <th>посёлок Мурино</th>\n",
       "      <td>85645.445946</td>\n",
       "    </tr>\n",
       "    <tr>\n",
       "      <th>посёлок Парголово</th>\n",
       "      <td>90331.840491</td>\n",
       "    </tr>\n",
       "    <tr>\n",
       "      <th>посёлок Шушары</th>\n",
       "      <td>78585.820276</td>\n",
       "    </tr>\n",
       "  </tbody>\n",
       "</table>\n",
       "</div>"
      ],
      "text/plain": [
       "                   price_for_metr\n",
       "locality_name                    \n",
       "Всеволожск           67221.964467\n",
       "Выборг               58192.268722\n",
       "Гатчина              68674.996689\n",
       "Колпино              75221.444776\n",
       "Пушкин              100309.764179\n",
       "Санкт-Петербург     105322.534581\n",
       "деревня Кудрово      92409.265101\n",
       "посёлок Мурино       85645.445946\n",
       "посёлок Парголово    90331.840491\n",
       "посёлок Шушары       78585.820276"
      ]
     },
     "execution_count": 57,
     "metadata": {},
     "output_type": "execute_result"
    }
   ],
   "source": [
    "# код ревьюера\n",
    "\n",
    "top_data = table['locality_name'].value_counts().sort_values(ascending=False).head(10)\n",
    "table.query('locality_name in @top_data.index').pivot_table(index='locality_name', values='price_for_metr', aggfunc='mean')"
   ]
  },
  {
   "cell_type": "code",
   "execution_count": 58,
   "metadata": {},
   "outputs": [
    {
     "data": {
      "text/html": [
       "<div>\n",
       "<style scoped>\n",
       "    .dataframe tbody tr th:only-of-type {\n",
       "        vertical-align: middle;\n",
       "    }\n",
       "\n",
       "    .dataframe tbody tr th {\n",
       "        vertical-align: top;\n",
       "    }\n",
       "\n",
       "    .dataframe thead th {\n",
       "        text-align: right;\n",
       "    }\n",
       "</style>\n",
       "<table border=\"1\" class=\"dataframe\">\n",
       "  <thead>\n",
       "    <tr style=\"text-align: right;\">\n",
       "      <th></th>\n",
       "      <th>price_for_metr</th>\n",
       "    </tr>\n",
       "    <tr>\n",
       "      <th>locality_name</th>\n",
       "      <th></th>\n",
       "    </tr>\n",
       "  </thead>\n",
       "  <tbody>\n",
       "    <tr>\n",
       "      <th>деревня Ям-Тесово</th>\n",
       "      <td>13711.0</td>\n",
       "    </tr>\n",
       "    <tr>\n",
       "      <th>деревня Сижно</th>\n",
       "      <td>13709.0</td>\n",
       "    </tr>\n",
       "    <tr>\n",
       "      <th>деревня Бор</th>\n",
       "      <td>13157.0</td>\n",
       "    </tr>\n",
       "    <tr>\n",
       "      <th>поселок Тёсово-4</th>\n",
       "      <td>12931.0</td>\n",
       "    </tr>\n",
       "    <tr>\n",
       "      <th>деревня Малая Романовка</th>\n",
       "      <td>12724.0</td>\n",
       "    </tr>\n",
       "    <tr>\n",
       "      <th>поселок Совхозный</th>\n",
       "      <td>12628.5</td>\n",
       "    </tr>\n",
       "    <tr>\n",
       "      <th>деревня Выскатка</th>\n",
       "      <td>12335.0</td>\n",
       "    </tr>\n",
       "    <tr>\n",
       "      <th>деревня Вахнова Кара</th>\n",
       "      <td>11688.0</td>\n",
       "    </tr>\n",
       "    <tr>\n",
       "      <th>посёлок станции Свирь</th>\n",
       "      <td>11481.0</td>\n",
       "    </tr>\n",
       "    <tr>\n",
       "      <th>деревня Старополье</th>\n",
       "      <td>11206.0</td>\n",
       "    </tr>\n",
       "  </tbody>\n",
       "</table>\n",
       "</div>"
      ],
      "text/plain": [
       "                         price_for_metr\n",
       "locality_name                          \n",
       "деревня Ям-Тесово               13711.0\n",
       "деревня Сижно                   13709.0\n",
       "деревня Бор                     13157.0\n",
       "поселок Тёсово-4                12931.0\n",
       "деревня Малая Романовка         12724.0\n",
       "поселок Совхозный               12628.5\n",
       "деревня Выскатка                12335.0\n",
       "деревня Вахнова Кара            11688.0\n",
       "посёлок станции Свирь           11481.0\n",
       "деревня Старополье              11206.0"
      ]
     },
     "metadata": {},
     "output_type": "display_data"
    }
   ],
   "source": [
    "display(location_pivot.tail(10))# выведена инфомрация о 10-ти населенных пунктах с наименьшей ценой за квадратный метр"
   ]
  },
  {
   "cell_type": "markdown",
   "metadata": {},
   "source": [
    "Из полученных данны видно, что самая дорогостоящая недвижимость находится в посёлке Лисий Нос, самые дешевые квартиры можно приобрести в деревне Старополье\t"
   ]
  },
  {
   "cell_type": "code",
   "execution_count": 59,
   "metadata": {},
   "outputs": [],
   "source": [
    "table['citycenters_nearest_km'] = (table['citycenters_nearest']/1000).round() # добавлен столбец - расстояние до центра в километрах"
   ]
  },
  {
   "cell_type": "code",
   "execution_count": 60,
   "metadata": {},
   "outputs": [
    {
     "data": {
      "text/plain": [
       "array([[<AxesSubplot:title={'center':'citycenters_nearest_km'}>]],\n",
       "      dtype=object)"
      ]
     },
     "execution_count": 60,
     "metadata": {},
     "output_type": "execute_result"
    },
    {
     "data": {
      "image/png": "[encoded data removed]",
      "text/plain": [
       "<Figure size 432x288 with 1 Axes>"
      ]
     },
     "metadata": {
      "needs_background": "light"
     },
     "output_type": "display_data"
    }
   ],
   "source": [
    "table.pivot_table(index='price_for_metr', values='citycenters_nearest_km').hist(bins=30) # построен график сводной талицы - зависимость цены за квадратный метр от удаленности от центра\n"
   ]
  },
  {
   "cell_type": "markdown",
   "metadata": {},
   "source": [
    "Из графика видно, что самы высокий пик в нуле - логичные данные, так как это и есть сам центр, цены за квадратный метр в этом райне будут самыми высокими. Спад на цену за квадратный метр наблюдается от значения 17 км от центра, то есть это расстояние будет считаться центральным районом."
   ]
  },
  {
   "cell_type": "code",
   "execution_count": 61,
   "metadata": {},
   "outputs": [
    {
     "data": {
      "text/plain": [
       "<AxesSubplot:xlabel='citycenters_nearest_km'>"
      ]
     },
     "execution_count": 61,
     "metadata": {},
     "output_type": "execute_result"
    },
    {
     "data": {
      "image/png": "[encoded data removed]",
      "text/plain": [
       "<Figure size 432x288 with 1 Axes>"
      ]
     },
     "metadata": {
      "needs_background": "light"
     },
     "output_type": "display_data"
    }
   ],
   "source": [
    "table[table['locality_name'] == 'Санкт-Петербург'].groupby('citycenters_nearest_km')['last_price'].mean().plot()"
   ]
  },
  {
   "cell_type": "markdown",
   "metadata": {},
   "source": [
    "Также построен линейный грфаик зависиомсти цены квартиры от удаленности от центра. Выше был сделан вывод о том, что чем дальше квартира от центра, тем ниже её цена. Резкий спад цены наблюдается в точке 4 км (но от неё до расстояния в 5 км еще наблюдается рост), после значения в 5 км цены на квартиры намного ниже. Поэтому предположительно граница центра Санкт-петербурга проходит в 4-5 км от самого центра."
   ]
  },
  {
   "cell_type": "code",
   "execution_count": 62,
   "metadata": {},
   "outputs": [
    {
     "data": {
      "text/plain": [
       "<AxesSubplot:xlabel='rooms', ylabel='last_price'>"
      ]
     },
     "execution_count": 62,
     "metadata": {},
     "output_type": "execute_result"
    },
    {
     "data": {
      "image/png": "[encoded data removed]",
      "text/plain": [
       "<Figure size 432x288 with 1 Axes>"
      ]
     },
     "metadata": {
      "needs_background": "light"
     },
     "output_type": "display_data"
    }
   ],
   "source": [
    "table_citycenters = table.query('citycenters_nearest_km <= 17') # местодом query взят диапозон квартир, находящихся в центральном районе\n",
    "table_citycenters.plot(x='rooms', y='last_price', kind='scatter', grid=True)"
   ]
  },
  {
   "cell_type": "code",
   "execution_count": 63,
   "metadata": {},
   "outputs": [
    {
     "data": {
      "text/plain": [
       "<AxesSubplot:xlabel='floor', ylabel='last_price'>"
      ]
     },
     "execution_count": 63,
     "metadata": {},
     "output_type": "execute_result"
    },
    {
     "data": {
      "image/png": "[encoded data removed]",
      "text/plain": [
       "<Figure size 432x288 with 1 Axes>"
      ]
     },
     "metadata": {
      "needs_background": "light"
     },
     "output_type": "display_data"
    }
   ],
   "source": [
    "table_citycenters.plot(x='floor', y='last_price', kind='scatter', grid=True)"
   ]
  },
  {
   "cell_type": "code",
   "execution_count": 64,
   "metadata": {},
   "outputs": [
    {
     "data": {
      "text/html": [
       "<div>\n",
       "<style scoped>\n",
       "    .dataframe tbody tr th:only-of-type {\n",
       "        vertical-align: middle;\n",
       "    }\n",
       "\n",
       "    .dataframe tbody tr th {\n",
       "        vertical-align: top;\n",
       "    }\n",
       "\n",
       "    .dataframe thead th {\n",
       "        text-align: right;\n",
       "    }\n",
       "</style>\n",
       "<table border=\"1\" class=\"dataframe\">\n",
       "  <thead>\n",
       "    <tr style=\"text-align: right;\">\n",
       "      <th></th>\n",
       "      <th>month</th>\n",
       "      <th>weekday</th>\n",
       "      <th>year</th>\n",
       "    </tr>\n",
       "  </thead>\n",
       "  <tbody>\n",
       "    <tr>\n",
       "      <th>month</th>\n",
       "      <td>1.000000</td>\n",
       "      <td>0.063012</td>\n",
       "      <td>-0.235761</td>\n",
       "    </tr>\n",
       "    <tr>\n",
       "      <th>weekday</th>\n",
       "      <td>0.063012</td>\n",
       "      <td>1.000000</td>\n",
       "      <td>-0.025125</td>\n",
       "    </tr>\n",
       "    <tr>\n",
       "      <th>year</th>\n",
       "      <td>-0.235761</td>\n",
       "      <td>-0.025125</td>\n",
       "      <td>1.000000</td>\n",
       "    </tr>\n",
       "  </tbody>\n",
       "</table>\n",
       "</div>"
      ],
      "text/plain": [
       "            month   weekday      year\n",
       "month    1.000000  0.063012 -0.235761\n",
       "weekday  0.063012  1.000000 -0.025125\n",
       "year    -0.235761 -0.025125  1.000000"
      ]
     },
     "execution_count": 64,
     "metadata": {},
     "output_type": "execute_result"
    }
   ],
   "source": [
    "common_date_a = table_citycenters.pivot_table(index = 'last_price', values=['weekday', 'month', 'year'], aggfunc='mean')\n",
    "common_date.corr()"
   ]
  },
  {
   "cell_type": "code",
   "execution_count": 65,
   "metadata": {},
   "outputs": [
    {
     "data": {
      "text/plain": [
       "array([[<AxesSubplot:xlabel='month', ylabel='month'>,\n",
       "        <AxesSubplot:xlabel='weekday', ylabel='month'>,\n",
       "        <AxesSubplot:xlabel='year', ylabel='month'>],\n",
       "       [<AxesSubplot:xlabel='month', ylabel='weekday'>,\n",
       "        <AxesSubplot:xlabel='weekday', ylabel='weekday'>,\n",
       "        <AxesSubplot:xlabel='year', ylabel='weekday'>],\n",
       "       [<AxesSubplot:xlabel='month', ylabel='year'>,\n",
       "        <AxesSubplot:xlabel='weekday', ylabel='year'>,\n",
       "        <AxesSubplot:xlabel='year', ylabel='year'>]], dtype=object)"
      ]
     },
     "execution_count": 65,
     "metadata": {},
     "output_type": "execute_result"
    },
    {
     "data": {
      "image/png": "[encoded data removed]",
      "text/plain": [
       "<Figure size 648x648 with 9 Axes>"
      ]
     },
     "metadata": {
      "needs_background": "light"
     },
     "output_type": "display_data"
    }
   ],
   "source": [
    "pd.plotting.scatter_matrix(common_date_a, figsize=(9, 9))"
   ]
  },
  {
   "cell_type": "code",
   "execution_count": 66,
   "metadata": {},
   "outputs": [
    {
     "data": {
      "text/plain": [
       "<AxesSubplot:xlabel='last_price', ylabel='citycenters_nearest'>"
      ]
     },
     "execution_count": 66,
     "metadata": {},
     "output_type": "execute_result"
    },
    {
     "data": {
      "image/png": "[encoded data removed]",
      "text/plain": [
       "<Figure size 432x288 with 1 Axes>"
      ]
     },
     "metadata": {
      "needs_background": "light"
     },
     "output_type": "display_data"
    }
   ],
   "source": [
    "table_citycenters.plot(x='last_price', y='citycenters_nearest', kind='scatter', grid=True)"
   ]
  },
  {
   "cell_type": "code",
   "execution_count": 67,
   "metadata": {},
   "outputs": [
    {
     "name": "stdout",
     "output_type": "stream",
     "text": [
      "-0.3402668726289891\n"
     ]
    }
   ],
   "source": [
    "print(table['citycenters_nearest'].corr(table['last_price']))"
   ]
  },
  {
   "cell_type": "markdown",
   "metadata": {},
   "source": [
    "Из анализа данных сегмента квартир, находящихся в центре видно, что завимлсти аналогичны общей таблицы. На цену за квартиру влияет удаленность от центра, зависиомсть от даты размещения аналогична всей таблице. Также наблюдается линейная зависимость, чем больше комнат, тем выше цена."
   ]
  },
  {
   "cell_type": "code",
   "execution_count": 68,
   "metadata": {},
   "outputs": [
    {
     "data": {
      "text/plain": [
       "<AxesSubplot:>"
      ]
     },
     "execution_count": 68,
     "metadata": {},
     "output_type": "execute_result"
    },
    {
     "data": {
      "image/png": "[encoded data removed]",
      "text/plain": [
       "<Figure size 432x288 with 1 Axes>"
      ]
     },
     "metadata": {
      "needs_background": "light"
     },
     "output_type": "display_data"
    }
   ],
   "source": [
    "table_citycenters['total_area'].hist(bins=50, range = (12, 500)) # построена гистограмма площади квартир в центральном районе"
   ]
  },
  {
   "cell_type": "markdown",
   "metadata": {},
   "source": [
    "Построена гистрограама плоащи квартир в центральном райне, данные не отличаются от ранее полученных для общей таблице, также виден ярко вырыженыный пик в области квартир с площадью от 30-60 кв.м."
   ]
  },
  {
   "cell_type": "code",
   "execution_count": 69,
   "metadata": {},
   "outputs": [
    {
     "data": {
      "text/plain": [
       "<AxesSubplot:>"
      ]
     },
     "execution_count": 69,
     "metadata": {},
     "output_type": "execute_result"
    },
    {
     "data": {
      "image/png": "[encoded data removed]",
      "text/plain": [
       "<Figure size 432x288 with 1 Axes>"
      ]
     },
     "metadata": {
      "needs_background": "light"
     },
     "output_type": "display_data"
    }
   ],
   "source": [
    "table_citycenters['last_price'].hist(bins=20, range = (12000, 53000000)) #  построена гистограмма цены за картиру в центральном районе"
   ]
  },
  {
   "cell_type": "markdown",
   "metadata": {},
   "source": [
    "Гистограмма цен за квартиру так же мало отличется от иформации, которую получили для общей таблице. Наибольший пик наблюдается при цене за квартиру 5 млн."
   ]
  },
  {
   "cell_type": "code",
   "execution_count": 70,
   "metadata": {},
   "outputs": [
    {
     "data": {
      "text/plain": [
       "<AxesSubplot:xlabel='rooms', ylabel='last_price'>"
      ]
     },
     "execution_count": 70,
     "metadata": {},
     "output_type": "execute_result"
    },
    {
     "data": {
      "image/png": "[encoded data removed]",
      "text/plain": [
       "<Figure size 432x288 with 1 Axes>"
      ]
     },
     "metadata": {
      "needs_background": "light"
     },
     "output_type": "display_data"
    }
   ],
   "source": [
    "table_citycenters.plot(x='rooms', y='last_price', kind='scatter', grid=True) # построена гистограмма количества комнат в центральном районе"
   ]
  },
  {
   "cell_type": "markdown",
   "metadata": {},
   "source": [
    "Снова не выявлено ярких особенностей, в основм в квартирах от 1-ой до 4-х комнат."
   ]
  },
  {
   "cell_type": "code",
   "execution_count": 71,
   "metadata": {},
   "outputs": [
    {
     "data": {
      "text/plain": [
       "<AxesSubplot:>"
      ]
     },
     "execution_count": 71,
     "metadata": {},
     "output_type": "execute_result"
    },
    {
     "data": {
      "image/png": "[encoded data removed]",
      "text/plain": [
       "<Figure size 432x288 with 1 Axes>"
      ]
     },
     "metadata": {
      "needs_background": "light"
     },
     "output_type": "display_data"
    }
   ],
   "source": [
    "table_citycenters['ceiling_height'].hist(bins=11, range = (0, 4))"
   ]
  },
  {
   "cell_type": "markdown",
   "metadata": {},
   "source": [
    "Из гистрограммы видно, что в квартирах чаще всего высота потолков 1.9-2.1 метров, как и в данных из общей таблицы. Также наблюдается небольшой пик - встречаются квартиры с высотой потолков 3 метра."
   ]
  },
  {
   "cell_type": "markdown",
   "metadata": {},
   "source": [
    "## Общий вывод"
   ]
  },
  {
   "cell_type": "markdown",
   "metadata": {},
   "source": [
    "В результате работы были проанализированы данные сервиса Яндекс.Недвижимость — архив объявлений о продаже квартир в Санкт-Петербурге и соседних населённых пунктах за несколько лет. Проведена предобработка данных, обработаны пропущенные и выбивающиеся значения. Значения в столбцах ceiling_height, kitchen_area, living_are заменены медианными значениями (предположительно - высота потолков, площадь кухни и площадь квартиры - чаще всего это стандартные значения при строительстве домов). Значения в столбцах parks_around3000, balcony, ponds_around3000 заменены на 0 (предположили, что если эти значения не заполнены, то в квартире нет балконов, а рядом с домом нет парков и прудов). В столбцах parks_nearest, airports_nearest, ponds_nearest и cityCenters_nearest данные невозможно заменить, удалить также нет возможности, так как тогда мы потеярем большой объем даннных, поэтому пропуски оставлены без изменений. Пропуски удалены лишь в столбце floors_total, так как эти данные не повлияют на дальнейший расчет, процент удаленных данных составил 0.4% от общего массива данных.\n",
    "\n",
    "Проанализирвоан как общий массив данных, так и выделен сегмент квартир, находящихся в центральном районе. Выявлена прямая зависимость роста цены за кввартиру при росте цены за квадраный метр. Количество компант в квартирах чаще всего от 1-3, встречаются квартиры-студии, высота потолков чаще всего составляет от 2.5 до 3-х метров метров. Также наблюдается линейная зависимость, чем больше комнат, тем выше цена. Ярко выражена зависимость между расстоянием до центра и стоимостью квартир, цена дальше квартира от центра, тем ниже цена на неё. Выявлено, что самая дорогая недвижимость в находится в посёлке Лисий Нос (расчитана средняя цена за квадратный местр), самые дешевые квартиры можно приобрести в деревне Старополье."
   ]
  }
 ],
 "metadata": {
  "ExecuteTimeLog": [
   {
    "duration": 928,
    "start_time": "2022-01-22T15:43:57.219Z"
   },
   {
    "duration": 86,
    "start_time": "2022-01-22T15:47:19.079Z"
   },
   {
    "duration": 458,
    "start_time": "2022-01-22T15:48:06.777Z"
   },
   {
    "duration": 78,
    "start_time": "2022-01-22T15:48:23.093Z"
   },
   {
    "duration": 115,
    "start_time": "2022-01-22T15:50:45.735Z"
   },
   {
    "duration": 84,
    "start_time": "2022-01-22T15:51:00.540Z"
   },
   {
    "duration": 818,
    "start_time": "2022-01-22T15:52:30.710Z"
   },
   {
    "duration": 111,
    "start_time": "2022-01-22T15:52:55.973Z"
   },
   {
    "duration": 113,
    "start_time": "2022-01-22T15:54:06.853Z"
   },
   {
    "duration": 102,
    "start_time": "2022-01-22T15:54:13.293Z"
   },
   {
    "duration": 85,
    "start_time": "2022-01-22T15:54:26.778Z"
   },
   {
    "duration": 89,
    "start_time": "2022-01-22T15:55:12.261Z"
   },
   {
    "duration": 108,
    "start_time": "2022-01-22T15:56:43.452Z"
   },
   {
    "duration": 86,
    "start_time": "2022-01-22T15:56:50.543Z"
   },
   {
    "duration": 87,
    "start_time": "2022-01-22T15:58:08.592Z"
   },
   {
    "duration": 96,
    "start_time": "2022-01-22T15:58:18.381Z"
   },
   {
    "duration": 111,
    "start_time": "2022-01-22T15:58:34.670Z"
   },
   {
    "duration": 86,
    "start_time": "2022-01-22T15:58:45.270Z"
   },
   {
    "duration": 148,
    "start_time": "2022-01-22T16:02:43.837Z"
   },
   {
    "duration": 376,
    "start_time": "2022-01-22T20:03:04.625Z"
   },
   {
    "duration": 889,
    "start_time": "2022-01-22T20:03:22.883Z"
   },
   {
    "duration": 6,
    "start_time": "2022-01-22T20:03:23.775Z"
   },
   {
    "duration": 9,
    "start_time": "2022-01-22T20:11:44.929Z"
   },
   {
    "duration": 409,
    "start_time": "2022-01-22T20:16:23.233Z"
   },
   {
    "duration": 358,
    "start_time": "2022-01-22T20:16:40.391Z"
   },
   {
    "duration": 10,
    "start_time": "2022-01-22T20:17:44.179Z"
   },
   {
    "duration": 13,
    "start_time": "2022-01-22T20:22:44.314Z"
   },
   {
    "duration": 15,
    "start_time": "2022-01-22T20:22:49.308Z"
   },
   {
    "duration": 12,
    "start_time": "2022-01-22T20:23:26.335Z"
   },
   {
    "duration": 11,
    "start_time": "2022-01-22T20:24:14.996Z"
   },
   {
    "duration": 13,
    "start_time": "2022-01-22T20:24:35.975Z"
   },
   {
    "duration": 6,
    "start_time": "2022-01-22T20:24:42.629Z"
   },
   {
    "duration": 6,
    "start_time": "2022-01-22T20:28:09.783Z"
   },
   {
    "duration": 9,
    "start_time": "2022-01-22T20:29:44.854Z"
   },
   {
    "duration": 306,
    "start_time": "2022-01-22T20:38:22.582Z"
   },
   {
    "duration": 309,
    "start_time": "2022-01-22T20:38:33.841Z"
   },
   {
    "duration": 15,
    "start_time": "2022-01-22T20:40:32.218Z"
   },
   {
    "duration": 349,
    "start_time": "2022-01-22T20:40:51.937Z"
   },
   {
    "duration": 339,
    "start_time": "2022-01-22T20:41:07.769Z"
   },
   {
    "duration": 338,
    "start_time": "2022-01-22T20:41:23.545Z"
   },
   {
    "duration": 672,
    "start_time": "2022-01-23T15:30:12.655Z"
   },
   {
    "duration": 6,
    "start_time": "2022-01-23T15:30:13.329Z"
   },
   {
    "duration": 9,
    "start_time": "2022-01-23T15:30:13.337Z"
   },
   {
    "duration": 10,
    "start_time": "2022-01-23T15:30:13.348Z"
   },
   {
    "duration": 339,
    "start_time": "2022-01-23T15:31:16.402Z"
   },
   {
    "duration": 284,
    "start_time": "2022-01-23T15:31:22.418Z"
   },
   {
    "duration": 715,
    "start_time": "2022-01-23T15:35:17.298Z"
   },
   {
    "duration": 1694,
    "start_time": "2022-01-23T15:35:30.226Z"
   },
   {
    "duration": 464,
    "start_time": "2022-01-23T15:35:53.431Z"
   },
   {
    "duration": 623,
    "start_time": "2022-01-23T15:36:38.770Z"
   },
   {
    "duration": 6,
    "start_time": "2022-01-23T15:36:39.397Z"
   },
   {
    "duration": 25,
    "start_time": "2022-01-23T15:36:39.405Z"
   },
   {
    "duration": 7,
    "start_time": "2022-01-23T15:36:39.431Z"
   },
   {
    "duration": 6,
    "start_time": "2022-01-23T15:36:51.255Z"
   },
   {
    "duration": 485,
    "start_time": "2022-01-23T15:36:55.965Z"
   },
   {
    "duration": 13,
    "start_time": "2022-01-23T15:42:18.691Z"
   },
   {
    "duration": 15,
    "start_time": "2022-01-23T15:42:34.270Z"
   },
   {
    "duration": 15,
    "start_time": "2022-01-23T15:43:42.383Z"
   },
   {
    "duration": 7737,
    "start_time": "2022-01-23T15:45:16.307Z"
   },
   {
    "duration": 7563,
    "start_time": "2022-01-23T15:46:09.830Z"
   },
   {
    "duration": 606,
    "start_time": "2022-01-23T15:46:25.387Z"
   },
   {
    "duration": 6,
    "start_time": "2022-01-23T15:46:25.995Z"
   },
   {
    "duration": 8,
    "start_time": "2022-01-23T15:46:26.003Z"
   },
   {
    "duration": 30,
    "start_time": "2022-01-23T15:46:26.012Z"
   },
   {
    "duration": 8258,
    "start_time": "2022-01-23T15:46:26.044Z"
   },
   {
    "duration": 671,
    "start_time": "2022-01-23T15:48:48.100Z"
   },
   {
    "duration": 8,
    "start_time": "2022-01-23T15:48:48.773Z"
   },
   {
    "duration": 10,
    "start_time": "2022-01-23T15:48:48.784Z"
   },
   {
    "duration": 39,
    "start_time": "2022-01-23T15:48:48.796Z"
   },
   {
    "duration": 7482,
    "start_time": "2022-01-23T15:48:48.836Z"
   },
   {
    "duration": 7787,
    "start_time": "2022-01-23T15:49:34.175Z"
   },
   {
    "duration": 8106,
    "start_time": "2022-01-23T15:50:54.977Z"
   },
   {
    "duration": 7157,
    "start_time": "2022-01-23T15:51:45.767Z"
   },
   {
    "duration": 7821,
    "start_time": "2022-01-23T15:55:42.283Z"
   },
   {
    "duration": 21,
    "start_time": "2022-01-23T15:56:02.599Z"
   },
   {
    "duration": 7351,
    "start_time": "2022-01-23T15:56:56.265Z"
   },
   {
    "duration": 7539,
    "start_time": "2022-01-23T15:57:57.578Z"
   },
   {
    "duration": 6,
    "start_time": "2022-01-23T15:59:42.862Z"
   },
   {
    "duration": 16,
    "start_time": "2022-01-23T15:59:54.879Z"
   },
   {
    "duration": 7381,
    "start_time": "2022-01-23T16:01:36.637Z"
   },
   {
    "duration": 1019,
    "start_time": "2022-01-23T16:02:57.197Z"
   },
   {
    "duration": 11,
    "start_time": "2022-01-23T16:02:58.218Z"
   },
   {
    "duration": 7,
    "start_time": "2022-01-23T16:02:58.231Z"
   },
   {
    "duration": 17,
    "start_time": "2022-01-23T16:02:58.240Z"
   },
   {
    "duration": 21,
    "start_time": "2022-01-23T16:05:27.772Z"
   },
   {
    "duration": 7160,
    "start_time": "2022-01-23T16:08:05.428Z"
   },
   {
    "duration": 8946,
    "start_time": "2022-01-23T16:09:21.403Z"
   },
   {
    "duration": 9892,
    "start_time": "2022-01-23T16:10:37.599Z"
   },
   {
    "duration": 99,
    "start_time": "2022-01-23T16:11:22.676Z"
   },
   {
    "duration": 8214,
    "start_time": "2022-01-23T16:11:29.793Z"
   },
   {
    "duration": 7721,
    "start_time": "2022-01-23T16:12:22.306Z"
   },
   {
    "duration": 5,
    "start_time": "2022-01-23T16:13:27.417Z"
   },
   {
    "duration": 665,
    "start_time": "2022-01-23T16:13:37.629Z"
   },
   {
    "duration": 6,
    "start_time": "2022-01-23T16:13:38.296Z"
   },
   {
    "duration": 15,
    "start_time": "2022-01-23T16:13:38.304Z"
   },
   {
    "duration": 9,
    "start_time": "2022-01-23T16:13:38.321Z"
   },
   {
    "duration": 22,
    "start_time": "2022-01-23T16:14:21.040Z"
   },
   {
    "duration": 8049,
    "start_time": "2022-01-23T16:19:51.864Z"
   },
   {
    "duration": 704,
    "start_time": "2022-01-23T16:24:24.723Z"
   },
   {
    "duration": 15,
    "start_time": "2022-01-23T16:25:52.382Z"
   },
   {
    "duration": 9,
    "start_time": "2022-01-23T16:26:19.900Z"
   },
   {
    "duration": 8,
    "start_time": "2022-01-23T16:26:21.491Z"
   },
   {
    "duration": 8,
    "start_time": "2022-01-23T16:26:23.205Z"
   },
   {
    "duration": 4,
    "start_time": "2022-01-23T16:28:08.696Z"
   },
   {
    "duration": 3,
    "start_time": "2022-01-23T16:28:49.138Z"
   },
   {
    "duration": 4,
    "start_time": "2022-01-23T16:28:57.077Z"
   },
   {
    "duration": 6,
    "start_time": "2022-01-23T16:30:50.066Z"
   },
   {
    "duration": 5,
    "start_time": "2022-01-23T16:31:52.415Z"
   },
   {
    "duration": 5,
    "start_time": "2022-01-23T16:34:42.043Z"
   },
   {
    "duration": 12,
    "start_time": "2022-01-23T16:35:00.029Z"
   },
   {
    "duration": 8,
    "start_time": "2022-01-23T16:35:51.388Z"
   },
   {
    "duration": 813,
    "start_time": "2022-01-23T16:36:09.157Z"
   },
   {
    "duration": 20,
    "start_time": "2022-01-23T16:36:09.973Z"
   },
   {
    "duration": 6,
    "start_time": "2022-01-23T16:36:09.996Z"
   },
   {
    "duration": 10,
    "start_time": "2022-01-23T16:36:10.004Z"
   },
   {
    "duration": 7,
    "start_time": "2022-01-23T16:36:10.027Z"
   },
   {
    "duration": 19,
    "start_time": "2022-01-23T16:36:10.035Z"
   },
   {
    "duration": 3,
    "start_time": "2022-01-23T16:36:10.056Z"
   },
   {
    "duration": 5,
    "start_time": "2022-01-23T16:36:10.062Z"
   },
   {
    "duration": 13,
    "start_time": "2022-01-23T16:36:10.069Z"
   },
   {
    "duration": 6,
    "start_time": "2022-01-23T16:58:41.488Z"
   },
   {
    "duration": 6,
    "start_time": "2022-01-23T17:02:40.660Z"
   },
   {
    "duration": 7317,
    "start_time": "2022-01-23T17:04:37.430Z"
   },
   {
    "duration": 8090,
    "start_time": "2022-01-23T17:09:41.754Z"
   },
   {
    "duration": 15894,
    "start_time": "2022-01-23T17:10:19.006Z"
   },
   {
    "duration": 8239,
    "start_time": "2022-01-23T17:11:21.704Z"
   },
   {
    "duration": 7430,
    "start_time": "2022-01-23T17:11:44.451Z"
   },
   {
    "duration": 6,
    "start_time": "2022-01-23T17:12:00.363Z"
   },
   {
    "duration": 6,
    "start_time": "2022-01-23T17:12:32.519Z"
   },
   {
    "duration": 6,
    "start_time": "2022-01-23T17:12:59.338Z"
   },
   {
    "duration": 9,
    "start_time": "2022-01-23T17:13:17.304Z"
   },
   {
    "duration": 7475,
    "start_time": "2022-01-23T17:27:51.520Z"
   },
   {
    "duration": 8,
    "start_time": "2022-01-23T17:28:03.064Z"
   },
   {
    "duration": 7484,
    "start_time": "2022-01-23T17:29:42.684Z"
   },
   {
    "duration": 7,
    "start_time": "2022-01-23T17:30:03.051Z"
   },
   {
    "duration": 7,
    "start_time": "2022-01-23T17:32:13.307Z"
   },
   {
    "duration": 7,
    "start_time": "2022-01-23T17:32:48.800Z"
   },
   {
    "duration": 4,
    "start_time": "2022-01-23T17:32:50.812Z"
   },
   {
    "duration": 19,
    "start_time": "2022-01-23T17:37:57.472Z"
   },
   {
    "duration": 284,
    "start_time": "2022-01-23T17:40:42.158Z"
   },
   {
    "duration": 275,
    "start_time": "2022-01-23T17:40:52.784Z"
   },
   {
    "duration": 366,
    "start_time": "2022-01-23T17:43:22.061Z"
   },
   {
    "duration": 273,
    "start_time": "2022-01-23T17:43:35.098Z"
   },
   {
    "duration": 283,
    "start_time": "2022-01-23T17:45:18.600Z"
   },
   {
    "duration": 132,
    "start_time": "2022-01-23T17:45:31.639Z"
   },
   {
    "duration": 851,
    "start_time": "2022-01-23T17:45:50.538Z"
   },
   {
    "duration": 275,
    "start_time": "2022-01-23T17:48:54.255Z"
   },
   {
    "duration": 310,
    "start_time": "2022-01-23T17:50:21.495Z"
   },
   {
    "duration": 374,
    "start_time": "2022-01-23T17:50:34.748Z"
   },
   {
    "duration": 285,
    "start_time": "2022-01-23T17:50:56.869Z"
   },
   {
    "duration": 355,
    "start_time": "2022-01-23T17:52:26.702Z"
   },
   {
    "duration": 388,
    "start_time": "2022-01-23T17:55:43.185Z"
   },
   {
    "duration": 333,
    "start_time": "2022-01-23T17:55:49.729Z"
   },
   {
    "duration": 299,
    "start_time": "2022-01-23T17:57:56.969Z"
   },
   {
    "duration": 392,
    "start_time": "2022-01-23T17:58:08.845Z"
   },
   {
    "duration": 335,
    "start_time": "2022-01-23T17:58:19.002Z"
   },
   {
    "duration": 393,
    "start_time": "2022-01-23T17:58:48.012Z"
   },
   {
    "duration": 341,
    "start_time": "2022-01-23T17:58:57.327Z"
   },
   {
    "duration": 681,
    "start_time": "2022-01-23T17:59:07.175Z"
   },
   {
    "duration": 8,
    "start_time": "2022-01-23T17:59:07.858Z"
   },
   {
    "duration": 5,
    "start_time": "2022-01-23T17:59:07.867Z"
   },
   {
    "duration": 7,
    "start_time": "2022-01-23T17:59:07.874Z"
   },
   {
    "duration": 6,
    "start_time": "2022-01-23T17:59:07.882Z"
   },
   {
    "duration": 7,
    "start_time": "2022-01-23T17:59:07.889Z"
   },
   {
    "duration": 3,
    "start_time": "2022-01-23T17:59:07.897Z"
   },
   {
    "duration": 28,
    "start_time": "2022-01-23T17:59:07.902Z"
   },
   {
    "duration": 11,
    "start_time": "2022-01-23T17:59:07.932Z"
   },
   {
    "duration": 7,
    "start_time": "2022-01-23T17:59:07.945Z"
   },
   {
    "duration": 3,
    "start_time": "2022-01-23T17:59:07.953Z"
   },
   {
    "duration": 12,
    "start_time": "2022-01-23T17:59:07.957Z"
   },
   {
    "duration": 331,
    "start_time": "2022-01-23T17:59:07.971Z"
   },
   {
    "duration": 305,
    "start_time": "2022-01-23T17:59:16.020Z"
   },
   {
    "duration": 666,
    "start_time": "2022-01-23T17:59:24.776Z"
   },
   {
    "duration": 9,
    "start_time": "2022-01-23T17:59:25.445Z"
   },
   {
    "duration": 6,
    "start_time": "2022-01-23T17:59:25.456Z"
   },
   {
    "duration": 8,
    "start_time": "2022-01-23T17:59:25.464Z"
   },
   {
    "duration": 6,
    "start_time": "2022-01-23T17:59:25.474Z"
   },
   {
    "duration": 8,
    "start_time": "2022-01-23T17:59:25.482Z"
   },
   {
    "duration": 37,
    "start_time": "2022-01-23T17:59:25.492Z"
   },
   {
    "duration": 13,
    "start_time": "2022-01-23T17:59:25.532Z"
   },
   {
    "duration": 11,
    "start_time": "2022-01-23T17:59:25.546Z"
   },
   {
    "duration": 9,
    "start_time": "2022-01-23T17:59:25.559Z"
   },
   {
    "duration": 5,
    "start_time": "2022-01-23T17:59:25.569Z"
   },
   {
    "duration": 12,
    "start_time": "2022-01-23T17:59:25.576Z"
   },
   {
    "duration": 328,
    "start_time": "2022-01-23T17:59:25.589Z"
   },
   {
    "duration": 322,
    "start_time": "2022-01-23T17:59:48.878Z"
   },
   {
    "duration": 420,
    "start_time": "2022-01-23T17:59:58.826Z"
   },
   {
    "duration": 658,
    "start_time": "2022-01-23T18:00:05.268Z"
   },
   {
    "duration": 8,
    "start_time": "2022-01-23T18:00:05.928Z"
   },
   {
    "duration": 6,
    "start_time": "2022-01-23T18:00:05.938Z"
   },
   {
    "duration": 9,
    "start_time": "2022-01-23T18:00:05.946Z"
   },
   {
    "duration": 6,
    "start_time": "2022-01-23T18:00:05.957Z"
   },
   {
    "duration": 8,
    "start_time": "2022-01-23T18:00:05.964Z"
   },
   {
    "duration": 3,
    "start_time": "2022-01-23T18:00:05.974Z"
   },
   {
    "duration": 9,
    "start_time": "2022-01-23T18:00:05.979Z"
   },
   {
    "duration": 42,
    "start_time": "2022-01-23T18:00:05.990Z"
   },
   {
    "duration": 7,
    "start_time": "2022-01-23T18:00:06.034Z"
   },
   {
    "duration": 4,
    "start_time": "2022-01-23T18:00:06.042Z"
   },
   {
    "duration": 19,
    "start_time": "2022-01-23T18:00:06.048Z"
   },
   {
    "duration": 340,
    "start_time": "2022-01-23T18:00:06.068Z"
   },
   {
    "duration": 19,
    "start_time": "2022-01-23T18:00:56.135Z"
   },
   {
    "duration": 365,
    "start_time": "2022-01-23T18:03:35.283Z"
   },
   {
    "duration": 326,
    "start_time": "2022-01-23T18:03:48.771Z"
   },
   {
    "duration": 21,
    "start_time": "2022-01-23T18:04:20.965Z"
   },
   {
    "duration": 7430,
    "start_time": "2022-01-23T18:04:34.333Z"
   },
   {
    "duration": 20,
    "start_time": "2022-01-23T18:04:59.393Z"
   },
   {
    "duration": 302,
    "start_time": "2022-01-23T18:07:23.838Z"
   },
   {
    "duration": 365,
    "start_time": "2022-01-23T18:07:39.467Z"
   },
   {
    "duration": 8,
    "start_time": "2022-01-23T18:10:14.722Z"
   },
   {
    "duration": 376,
    "start_time": "2022-01-23T18:13:41.840Z"
   },
   {
    "duration": 12,
    "start_time": "2022-01-23T18:13:49.264Z"
   },
   {
    "duration": 20,
    "start_time": "2022-01-23T18:13:57.131Z"
   },
   {
    "duration": 12,
    "start_time": "2022-01-23T18:15:01.014Z"
   },
   {
    "duration": 15,
    "start_time": "2022-01-23T18:15:04.440Z"
   },
   {
    "duration": 7213,
    "start_time": "2022-01-23T18:15:43.023Z"
   },
   {
    "duration": 653,
    "start_time": "2022-01-23T18:15:56.772Z"
   },
   {
    "duration": 8,
    "start_time": "2022-01-23T18:15:57.426Z"
   },
   {
    "duration": 4,
    "start_time": "2022-01-23T18:15:57.436Z"
   },
   {
    "duration": 8,
    "start_time": "2022-01-23T18:15:57.442Z"
   },
   {
    "duration": 5,
    "start_time": "2022-01-23T18:15:57.451Z"
   },
   {
    "duration": 7,
    "start_time": "2022-01-23T18:15:57.458Z"
   },
   {
    "duration": 3,
    "start_time": "2022-01-23T18:15:57.466Z"
   },
   {
    "duration": 5,
    "start_time": "2022-01-23T18:15:57.471Z"
   },
   {
    "duration": 9,
    "start_time": "2022-01-23T18:15:57.478Z"
   },
   {
    "duration": 40,
    "start_time": "2022-01-23T18:15:57.489Z"
   },
   {
    "duration": 3,
    "start_time": "2022-01-23T18:15:57.531Z"
   },
   {
    "duration": 18,
    "start_time": "2022-01-23T18:15:57.535Z"
   },
   {
    "duration": 8182,
    "start_time": "2022-01-23T18:15:57.555Z"
   },
   {
    "duration": 11,
    "start_time": "2022-01-23T18:16:37.705Z"
   },
   {
    "duration": 4,
    "start_time": "2022-01-23T18:16:41.745Z"
   },
   {
    "duration": 688,
    "start_time": "2022-01-23T18:16:47.296Z"
   },
   {
    "duration": 7,
    "start_time": "2022-01-23T18:16:47.986Z"
   },
   {
    "duration": 5,
    "start_time": "2022-01-23T18:16:47.995Z"
   },
   {
    "duration": 8,
    "start_time": "2022-01-23T18:16:48.001Z"
   },
   {
    "duration": 6,
    "start_time": "2022-01-23T18:16:48.027Z"
   },
   {
    "duration": 8,
    "start_time": "2022-01-23T18:16:48.034Z"
   },
   {
    "duration": 4,
    "start_time": "2022-01-23T18:16:48.044Z"
   },
   {
    "duration": 6,
    "start_time": "2022-01-23T18:16:48.050Z"
   },
   {
    "duration": 11,
    "start_time": "2022-01-23T18:16:48.058Z"
   },
   {
    "duration": 9,
    "start_time": "2022-01-23T18:16:48.070Z"
   },
   {
    "duration": 4,
    "start_time": "2022-01-23T18:16:48.080Z"
   },
   {
    "duration": 56,
    "start_time": "2022-01-23T18:16:48.086Z"
   },
   {
    "duration": 7,
    "start_time": "2022-01-23T18:16:48.144Z"
   },
   {
    "duration": 10919,
    "start_time": "2022-01-23T18:17:00.814Z"
   },
   {
    "duration": 630,
    "start_time": "2022-01-23T18:18:17.589Z"
   },
   {
    "duration": 7,
    "start_time": "2022-01-23T18:18:18.221Z"
   },
   {
    "duration": 5,
    "start_time": "2022-01-23T18:18:18.230Z"
   },
   {
    "duration": 7,
    "start_time": "2022-01-23T18:18:18.237Z"
   },
   {
    "duration": 6,
    "start_time": "2022-01-23T18:18:18.245Z"
   },
   {
    "duration": 7,
    "start_time": "2022-01-23T18:18:18.253Z"
   },
   {
    "duration": 3,
    "start_time": "2022-01-23T18:18:18.262Z"
   },
   {
    "duration": 5,
    "start_time": "2022-01-23T18:18:18.268Z"
   },
   {
    "duration": 11,
    "start_time": "2022-01-23T18:18:18.275Z"
   },
   {
    "duration": 46,
    "start_time": "2022-01-23T18:18:18.288Z"
   },
   {
    "duration": 4,
    "start_time": "2022-01-23T18:18:18.335Z"
   },
   {
    "duration": 16,
    "start_time": "2022-01-23T18:18:18.340Z"
   },
   {
    "duration": 7,
    "start_time": "2022-01-23T18:18:18.358Z"
   },
   {
    "duration": 8215,
    "start_time": "2022-01-23T18:18:36.806Z"
   },
   {
    "duration": 96,
    "start_time": "2022-01-23T18:20:35.921Z"
   },
   {
    "duration": 6919,
    "start_time": "2022-01-23T18:20:40.384Z"
   },
   {
    "duration": 7663,
    "start_time": "2022-01-23T18:21:02.534Z"
   },
   {
    "duration": 7238,
    "start_time": "2022-01-23T18:21:13.085Z"
   },
   {
    "duration": 7364,
    "start_time": "2022-01-23T18:21:29.711Z"
   },
   {
    "duration": 4,
    "start_time": "2022-01-23T18:24:13.688Z"
   },
   {
    "duration": 8102,
    "start_time": "2022-01-23T18:25:13.372Z"
   },
   {
    "duration": 6,
    "start_time": "2022-01-23T18:28:18.642Z"
   },
   {
    "duration": 7,
    "start_time": "2022-01-23T18:29:20.138Z"
   },
   {
    "duration": 636,
    "start_time": "2022-01-23T18:32:09.760Z"
   },
   {
    "duration": 9,
    "start_time": "2022-01-23T18:32:10.398Z"
   },
   {
    "duration": 22,
    "start_time": "2022-01-23T18:32:10.410Z"
   },
   {
    "duration": 16,
    "start_time": "2022-01-23T18:32:10.434Z"
   },
   {
    "duration": 9,
    "start_time": "2022-01-23T18:32:10.452Z"
   },
   {
    "duration": 18,
    "start_time": "2022-01-23T18:32:10.463Z"
   },
   {
    "duration": 13,
    "start_time": "2022-01-23T18:32:10.483Z"
   },
   {
    "duration": 17,
    "start_time": "2022-01-23T18:32:10.499Z"
   },
   {
    "duration": 26,
    "start_time": "2022-01-23T18:32:10.517Z"
   },
   {
    "duration": 9,
    "start_time": "2022-01-23T18:32:10.544Z"
   },
   {
    "duration": 4,
    "start_time": "2022-01-23T18:32:10.555Z"
   },
   {
    "duration": 17,
    "start_time": "2022-01-23T18:32:10.561Z"
   },
   {
    "duration": 8,
    "start_time": "2022-01-23T18:32:10.580Z"
   },
   {
    "duration": 39,
    "start_time": "2022-01-23T18:32:10.590Z"
   },
   {
    "duration": 7,
    "start_time": "2022-01-23T18:32:10.631Z"
   },
   {
    "duration": 90,
    "start_time": "2022-01-23T18:33:15.029Z"
   },
   {
    "duration": 8,
    "start_time": "2022-01-23T18:33:20.710Z"
   },
   {
    "duration": 6,
    "start_time": "2022-01-23T18:33:23.177Z"
   },
   {
    "duration": 8,
    "start_time": "2022-01-23T18:33:26.209Z"
   },
   {
    "duration": 9,
    "start_time": "2022-01-23T18:33:31.708Z"
   },
   {
    "duration": 4,
    "start_time": "2022-01-23T18:33:34.184Z"
   },
   {
    "duration": 6,
    "start_time": "2022-01-23T18:33:36.598Z"
   },
   {
    "duration": 12,
    "start_time": "2022-01-23T18:33:38.212Z"
   },
   {
    "duration": 9,
    "start_time": "2022-01-23T18:33:40.180Z"
   },
   {
    "duration": 4,
    "start_time": "2022-01-23T18:33:41.922Z"
   },
   {
    "duration": 17,
    "start_time": "2022-01-23T18:33:43.512Z"
   },
   {
    "duration": 7,
    "start_time": "2022-01-23T18:33:45.911Z"
   },
   {
    "duration": 6,
    "start_time": "2022-01-23T18:33:47.895Z"
   },
   {
    "duration": 7,
    "start_time": "2022-01-23T18:33:51.201Z"
   },
   {
    "duration": 9,
    "start_time": "2022-01-23T18:34:03.679Z"
   },
   {
    "duration": 689,
    "start_time": "2022-01-23T18:36:39.550Z"
   },
   {
    "duration": 8,
    "start_time": "2022-01-23T18:36:40.241Z"
   },
   {
    "duration": 5,
    "start_time": "2022-01-23T18:36:40.251Z"
   },
   {
    "duration": 8,
    "start_time": "2022-01-23T18:36:40.257Z"
   },
   {
    "duration": 5,
    "start_time": "2022-01-23T18:36:40.267Z"
   },
   {
    "duration": 8,
    "start_time": "2022-01-23T18:36:40.274Z"
   },
   {
    "duration": 3,
    "start_time": "2022-01-23T18:36:40.283Z"
   },
   {
    "duration": 38,
    "start_time": "2022-01-23T18:36:40.289Z"
   },
   {
    "duration": 10,
    "start_time": "2022-01-23T18:36:40.329Z"
   },
   {
    "duration": 9,
    "start_time": "2022-01-23T18:36:40.340Z"
   },
   {
    "duration": 3,
    "start_time": "2022-01-23T18:36:40.351Z"
   },
   {
    "duration": 25,
    "start_time": "2022-01-23T18:36:40.355Z"
   },
   {
    "duration": 7,
    "start_time": "2022-01-23T18:36:40.382Z"
   },
   {
    "duration": 7,
    "start_time": "2022-01-23T18:36:40.391Z"
   },
   {
    "duration": 37,
    "start_time": "2022-01-23T18:36:40.399Z"
   },
   {
    "duration": 711,
    "start_time": "2022-01-23T18:41:36.561Z"
   },
   {
    "duration": 8,
    "start_time": "2022-01-23T18:41:37.274Z"
   },
   {
    "duration": 8,
    "start_time": "2022-01-23T18:41:37.284Z"
   },
   {
    "duration": 8,
    "start_time": "2022-01-23T18:41:37.294Z"
   },
   {
    "duration": 28,
    "start_time": "2022-01-23T18:41:37.303Z"
   },
   {
    "duration": 8,
    "start_time": "2022-01-23T18:41:37.333Z"
   },
   {
    "duration": 4,
    "start_time": "2022-01-23T18:41:37.343Z"
   },
   {
    "duration": 7,
    "start_time": "2022-01-23T18:41:37.349Z"
   },
   {
    "duration": 12,
    "start_time": "2022-01-23T18:41:37.358Z"
   },
   {
    "duration": 7,
    "start_time": "2022-01-23T18:41:37.372Z"
   },
   {
    "duration": 4,
    "start_time": "2022-01-23T18:41:37.381Z"
   },
   {
    "duration": 50,
    "start_time": "2022-01-23T18:41:37.386Z"
   },
   {
    "duration": 9,
    "start_time": "2022-01-23T18:41:37.438Z"
   },
   {
    "duration": 6,
    "start_time": "2022-01-23T18:41:37.448Z"
   },
   {
    "duration": 8,
    "start_time": "2022-01-23T18:41:37.456Z"
   },
   {
    "duration": 712,
    "start_time": "2022-01-23T18:47:54.767Z"
   },
   {
    "duration": 9,
    "start_time": "2022-01-23T18:48:30.798Z"
   },
   {
    "duration": 7,
    "start_time": "2022-01-23T18:48:51.192Z"
   },
   {
    "duration": 9,
    "start_time": "2022-01-23T18:48:58.479Z"
   },
   {
    "duration": 6,
    "start_time": "2022-01-23T18:49:09.416Z"
   },
   {
    "duration": 8,
    "start_time": "2022-01-23T18:49:16.874Z"
   },
   {
    "duration": 4,
    "start_time": "2022-01-23T18:49:27.435Z"
   },
   {
    "duration": 6,
    "start_time": "2022-01-23T18:49:35.997Z"
   },
   {
    "duration": 11,
    "start_time": "2022-01-23T18:49:49.049Z"
   },
   {
    "duration": 14,
    "start_time": "2022-01-23T18:50:09.193Z"
   },
   {
    "duration": 672,
    "start_time": "2022-01-23T18:50:45.390Z"
   },
   {
    "duration": 9,
    "start_time": "2022-01-23T18:50:51.981Z"
   },
   {
    "duration": 5,
    "start_time": "2022-01-23T18:51:06.087Z"
   },
   {
    "duration": 12,
    "start_time": "2022-01-23T18:51:29.584Z"
   },
   {
    "duration": 9,
    "start_time": "2022-01-23T18:51:40.748Z"
   },
   {
    "duration": 6,
    "start_time": "2022-01-23T18:53:08.328Z"
   },
   {
    "duration": 289,
    "start_time": "2022-01-23T18:54:57.960Z"
   },
   {
    "duration": 9,
    "start_time": "2022-01-23T18:55:14.776Z"
   },
   {
    "duration": 11,
    "start_time": "2022-01-23T18:57:53.787Z"
   },
   {
    "duration": 14,
    "start_time": "2022-01-23T18:58:02.432Z"
   },
   {
    "duration": 16,
    "start_time": "2022-01-23T18:59:13.454Z"
   },
   {
    "duration": 10,
    "start_time": "2022-01-23T19:00:39.211Z"
   },
   {
    "duration": 8,
    "start_time": "2022-01-23T19:01:14.714Z"
   },
   {
    "duration": 275,
    "start_time": "2022-01-23T19:02:34.745Z"
   },
   {
    "duration": 8,
    "start_time": "2022-01-23T19:03:02.692Z"
   },
   {
    "duration": 7221,
    "start_time": "2022-01-23T19:03:04.963Z"
   },
   {
    "duration": -131,
    "start_time": "2022-01-23T19:03:12.316Z"
   },
   {
    "duration": 684,
    "start_time": "2022-01-23T19:03:25.688Z"
   },
   {
    "duration": 10,
    "start_time": "2022-01-23T19:03:26.373Z"
   },
   {
    "duration": 4,
    "start_time": "2022-01-23T19:03:26.385Z"
   },
   {
    "duration": 8,
    "start_time": "2022-01-23T19:03:26.391Z"
   },
   {
    "duration": 5,
    "start_time": "2022-01-23T19:03:26.401Z"
   },
   {
    "duration": 7,
    "start_time": "2022-01-23T19:03:26.427Z"
   },
   {
    "duration": 3,
    "start_time": "2022-01-23T19:03:26.436Z"
   },
   {
    "duration": 12,
    "start_time": "2022-01-23T19:03:26.441Z"
   },
   {
    "duration": 11,
    "start_time": "2022-01-23T19:03:26.455Z"
   },
   {
    "duration": 7,
    "start_time": "2022-01-23T19:03:26.467Z"
   },
   {
    "duration": 5,
    "start_time": "2022-01-23T19:03:26.476Z"
   },
   {
    "duration": 9,
    "start_time": "2022-01-23T19:03:26.482Z"
   },
   {
    "duration": 35,
    "start_time": "2022-01-23T19:03:26.492Z"
   },
   {
    "duration": 10,
    "start_time": "2022-01-23T19:03:26.529Z"
   },
   {
    "duration": 12,
    "start_time": "2022-01-23T19:03:26.541Z"
   },
   {
    "duration": 7829,
    "start_time": "2022-01-23T19:03:26.555Z"
   },
   {
    "duration": -140,
    "start_time": "2022-01-23T19:03:34.526Z"
   },
   {
    "duration": 16,
    "start_time": "2022-01-23T19:04:12.590Z"
   },
   {
    "duration": 8,
    "start_time": "2022-01-23T19:04:16.332Z"
   },
   {
    "duration": 89,
    "start_time": "2022-01-23T19:05:27.299Z"
   },
   {
    "duration": 670,
    "start_time": "2022-01-23T19:05:38.729Z"
   },
   {
    "duration": 8,
    "start_time": "2022-01-23T19:05:39.401Z"
   },
   {
    "duration": 18,
    "start_time": "2022-01-23T19:05:39.411Z"
   },
   {
    "duration": 7,
    "start_time": "2022-01-23T19:05:39.431Z"
   },
   {
    "duration": 6,
    "start_time": "2022-01-23T19:05:39.440Z"
   },
   {
    "duration": 7,
    "start_time": "2022-01-23T19:05:39.447Z"
   },
   {
    "duration": 3,
    "start_time": "2022-01-23T19:05:39.455Z"
   },
   {
    "duration": 5,
    "start_time": "2022-01-23T19:05:39.460Z"
   },
   {
    "duration": 12,
    "start_time": "2022-01-23T19:05:39.467Z"
   },
   {
    "duration": 9,
    "start_time": "2022-01-23T19:05:39.480Z"
   },
   {
    "duration": 5,
    "start_time": "2022-01-23T19:05:39.527Z"
   },
   {
    "duration": 9,
    "start_time": "2022-01-23T19:05:39.533Z"
   },
   {
    "duration": 21,
    "start_time": "2022-01-23T19:05:39.543Z"
   },
   {
    "duration": 18,
    "start_time": "2022-01-23T19:05:39.565Z"
   },
   {
    "duration": 9,
    "start_time": "2022-01-23T19:05:39.585Z"
   },
   {
    "duration": 10,
    "start_time": "2022-01-23T19:05:39.596Z"
   },
   {
    "duration": 629,
    "start_time": "2022-01-23T19:06:23.268Z"
   },
   {
    "duration": 8,
    "start_time": "2022-01-23T19:06:23.899Z"
   },
   {
    "duration": 20,
    "start_time": "2022-01-23T19:06:23.911Z"
   },
   {
    "duration": 7,
    "start_time": "2022-01-23T19:06:23.933Z"
   },
   {
    "duration": 6,
    "start_time": "2022-01-23T19:06:23.941Z"
   },
   {
    "duration": 6,
    "start_time": "2022-01-23T19:06:23.949Z"
   },
   {
    "duration": 3,
    "start_time": "2022-01-23T19:06:23.957Z"
   },
   {
    "duration": 7,
    "start_time": "2022-01-23T19:06:23.962Z"
   },
   {
    "duration": 9,
    "start_time": "2022-01-23T19:06:23.971Z"
   },
   {
    "duration": 6,
    "start_time": "2022-01-23T19:06:23.982Z"
   },
   {
    "duration": 39,
    "start_time": "2022-01-23T19:06:23.990Z"
   },
   {
    "duration": 8,
    "start_time": "2022-01-23T19:06:24.031Z"
   },
   {
    "duration": 15,
    "start_time": "2022-01-23T19:06:24.040Z"
   },
   {
    "duration": 14,
    "start_time": "2022-01-23T19:06:24.057Z"
   },
   {
    "duration": 10,
    "start_time": "2022-01-23T19:06:24.072Z"
   },
   {
    "duration": 8,
    "start_time": "2022-01-23T19:07:41.263Z"
   },
   {
    "duration": 7,
    "start_time": "2022-01-23T19:07:45.145Z"
   },
   {
    "duration": 7,
    "start_time": "2022-01-23T19:09:55.213Z"
   },
   {
    "duration": 227,
    "start_time": "2022-01-23T19:10:31.095Z"
   },
   {
    "duration": 6,
    "start_time": "2022-01-23T19:10:46.611Z"
   },
   {
    "duration": 7,
    "start_time": "2022-01-23T19:10:48.660Z"
   },
   {
    "duration": 8,
    "start_time": "2022-01-23T19:10:53.732Z"
   },
   {
    "duration": 679,
    "start_time": "2022-01-23T19:12:14.847Z"
   },
   {
    "duration": 9,
    "start_time": "2022-01-23T19:12:15.529Z"
   },
   {
    "duration": 6,
    "start_time": "2022-01-23T19:12:15.540Z"
   },
   {
    "duration": 9,
    "start_time": "2022-01-23T19:12:15.548Z"
   },
   {
    "duration": 6,
    "start_time": "2022-01-23T19:12:15.559Z"
   },
   {
    "duration": 8,
    "start_time": "2022-01-23T19:12:15.567Z"
   },
   {
    "duration": 4,
    "start_time": "2022-01-23T19:12:15.577Z"
   },
   {
    "duration": 43,
    "start_time": "2022-01-23T19:12:15.584Z"
   },
   {
    "duration": 12,
    "start_time": "2022-01-23T19:12:15.629Z"
   },
   {
    "duration": 8,
    "start_time": "2022-01-23T19:12:15.642Z"
   },
   {
    "duration": 4,
    "start_time": "2022-01-23T19:12:15.652Z"
   },
   {
    "duration": 9,
    "start_time": "2022-01-23T19:12:15.658Z"
   },
   {
    "duration": 9,
    "start_time": "2022-01-23T19:12:15.668Z"
   },
   {
    "duration": 10,
    "start_time": "2022-01-23T19:12:15.678Z"
   },
   {
    "duration": 38,
    "start_time": "2022-01-23T19:12:15.690Z"
   },
   {
    "duration": 10,
    "start_time": "2022-01-23T19:12:15.729Z"
   },
   {
    "duration": 5,
    "start_time": "2022-01-23T19:14:28.805Z"
   },
   {
    "duration": 9,
    "start_time": "2022-01-23T19:14:31.197Z"
   },
   {
    "duration": 690,
    "start_time": "2022-01-23T19:14:42.818Z"
   },
   {
    "duration": 8,
    "start_time": "2022-01-23T19:14:43.509Z"
   },
   {
    "duration": 12,
    "start_time": "2022-01-23T19:14:43.519Z"
   },
   {
    "duration": 8,
    "start_time": "2022-01-23T19:14:43.533Z"
   },
   {
    "duration": 7,
    "start_time": "2022-01-23T19:14:43.543Z"
   },
   {
    "duration": 9,
    "start_time": "2022-01-23T19:14:43.552Z"
   },
   {
    "duration": 3,
    "start_time": "2022-01-23T19:14:43.562Z"
   },
   {
    "duration": 9,
    "start_time": "2022-01-23T19:14:43.568Z"
   },
   {
    "duration": 11,
    "start_time": "2022-01-23T19:14:43.579Z"
   },
   {
    "duration": 41,
    "start_time": "2022-01-23T19:14:43.591Z"
   },
   {
    "duration": 4,
    "start_time": "2022-01-23T19:14:43.633Z"
   },
   {
    "duration": 9,
    "start_time": "2022-01-23T19:14:43.639Z"
   },
   {
    "duration": 9,
    "start_time": "2022-01-23T19:14:43.650Z"
   },
   {
    "duration": 11,
    "start_time": "2022-01-23T19:14:43.661Z"
   },
   {
    "duration": 8,
    "start_time": "2022-01-23T19:14:43.673Z"
   },
   {
    "duration": 8,
    "start_time": "2022-01-23T19:14:43.683Z"
   },
   {
    "duration": 37,
    "start_time": "2022-01-23T19:14:43.693Z"
   },
   {
    "duration": 10,
    "start_time": "2022-01-23T19:16:28.028Z"
   },
   {
    "duration": 8,
    "start_time": "2022-01-23T19:16:29.998Z"
   },
   {
    "duration": 8,
    "start_time": "2022-01-23T19:16:32.272Z"
   },
   {
    "duration": 937,
    "start_time": "2022-01-24T16:57:27.640Z"
   },
   {
    "duration": 12,
    "start_time": "2022-01-24T16:57:28.580Z"
   },
   {
    "duration": 7,
    "start_time": "2022-01-24T16:57:28.594Z"
   },
   {
    "duration": 12,
    "start_time": "2022-01-24T16:57:28.604Z"
   },
   {
    "duration": 41,
    "start_time": "2022-01-24T16:57:28.618Z"
   },
   {
    "duration": 14,
    "start_time": "2022-01-24T16:57:28.662Z"
   },
   {
    "duration": 6,
    "start_time": "2022-01-24T16:57:28.678Z"
   },
   {
    "duration": 9,
    "start_time": "2022-01-24T16:57:28.689Z"
   },
   {
    "duration": 63,
    "start_time": "2022-01-24T16:57:28.700Z"
   },
   {
    "duration": 11,
    "start_time": "2022-01-24T16:57:28.765Z"
   },
   {
    "duration": 5,
    "start_time": "2022-01-24T16:57:28.778Z"
   },
   {
    "duration": 11,
    "start_time": "2022-01-24T16:57:28.785Z"
   },
   {
    "duration": 16,
    "start_time": "2022-01-24T16:57:28.798Z"
   },
   {
    "duration": 56,
    "start_time": "2022-01-24T16:57:28.817Z"
   },
   {
    "duration": 20,
    "start_time": "2022-01-24T16:57:28.876Z"
   },
   {
    "duration": 12,
    "start_time": "2022-01-24T16:57:28.899Z"
   },
   {
    "duration": 49,
    "start_time": "2022-01-24T16:57:28.914Z"
   },
   {
    "duration": 992,
    "start_time": "2022-01-24T17:34:16.074Z"
   },
   {
    "duration": 12,
    "start_time": "2022-01-24T17:34:17.069Z"
   },
   {
    "duration": 7,
    "start_time": "2022-01-24T17:34:17.083Z"
   },
   {
    "duration": 11,
    "start_time": "2022-01-24T17:34:17.093Z"
   },
   {
    "duration": 7,
    "start_time": "2022-01-24T17:34:17.106Z"
   },
   {
    "duration": 53,
    "start_time": "2022-01-24T17:34:17.116Z"
   },
   {
    "duration": 6,
    "start_time": "2022-01-24T17:34:17.171Z"
   },
   {
    "duration": 8,
    "start_time": "2022-01-24T17:34:17.180Z"
   },
   {
    "duration": 20,
    "start_time": "2022-01-24T17:34:17.191Z"
   },
   {
    "duration": 52,
    "start_time": "2022-01-24T17:34:17.213Z"
   },
   {
    "duration": 5,
    "start_time": "2022-01-24T17:34:17.268Z"
   },
   {
    "duration": 13,
    "start_time": "2022-01-24T17:34:17.275Z"
   },
   {
    "duration": 11,
    "start_time": "2022-01-24T17:34:17.291Z"
   },
   {
    "duration": 15,
    "start_time": "2022-01-24T17:34:17.305Z"
   },
   {
    "duration": 49,
    "start_time": "2022-01-24T17:34:17.323Z"
   },
   {
    "duration": 10,
    "start_time": "2022-01-24T17:34:17.374Z"
   },
   {
    "duration": 15,
    "start_time": "2022-01-24T17:34:17.386Z"
   },
   {
    "duration": 57,
    "start_time": "2022-01-24T17:34:17.404Z"
   },
   {
    "duration": 427,
    "start_time": "2022-01-24T17:52:59.591Z"
   },
   {
    "duration": 1423,
    "start_time": "2022-01-24T17:53:20.383Z"
   },
   {
    "duration": 975,
    "start_time": "2022-01-24T17:54:48.968Z"
   },
   {
    "duration": 703,
    "start_time": "2022-01-24T17:55:29.492Z"
   },
   {
    "duration": 1444,
    "start_time": "2022-01-24T18:03:35.246Z"
   },
   {
    "duration": 33,
    "start_time": "2022-01-24T18:04:04.004Z"
   },
   {
    "duration": 2704,
    "start_time": "2022-01-24T18:11:00.573Z"
   },
   {
    "duration": 3495,
    "start_time": "2022-01-24T18:11:22.490Z"
   },
   {
    "duration": 39,
    "start_time": "2022-01-24T18:12:08.646Z"
   },
   {
    "duration": 110,
    "start_time": "2022-01-24T18:14:18.051Z"
   },
   {
    "duration": 145,
    "start_time": "2022-01-24T18:15:58.244Z"
   },
   {
    "duration": 111,
    "start_time": "2022-01-24T18:16:21.891Z"
   },
   {
    "duration": 1190,
    "start_time": "2022-01-24T18:16:35.341Z"
   },
   {
    "duration": 1511,
    "start_time": "2022-01-24T18:16:49.597Z"
   },
   {
    "duration": 16,
    "start_time": "2022-01-24T18:23:05.476Z"
   },
   {
    "duration": 17,
    "start_time": "2022-01-24T18:23:07.616Z"
   },
   {
    "duration": 18,
    "start_time": "2022-01-24T18:23:11.072Z"
   },
   {
    "duration": 1645,
    "start_time": "2022-01-24T18:23:40.725Z"
   },
   {
    "duration": 1518,
    "start_time": "2022-01-24T18:25:00.676Z"
   },
   {
    "duration": 1351,
    "start_time": "2022-01-24T18:26:16.210Z"
   },
   {
    "duration": 1219,
    "start_time": "2022-01-24T18:26:41.309Z"
   },
   {
    "duration": 1074,
    "start_time": "2022-01-24T18:27:47.542Z"
   },
   {
    "duration": 106,
    "start_time": "2022-01-24T18:59:01.887Z"
   },
   {
    "duration": 701,
    "start_time": "2022-01-24T18:59:15.887Z"
   },
   {
    "duration": 619,
    "start_time": "2022-01-24T19:01:05.799Z"
   },
   {
    "duration": 587,
    "start_time": "2022-01-24T19:01:23.693Z"
   },
   {
    "duration": 516,
    "start_time": "2022-01-24T19:01:32.845Z"
   },
   {
    "duration": 534,
    "start_time": "2022-01-24T19:04:25.128Z"
   },
   {
    "duration": 307,
    "start_time": "2022-01-24T19:04:38.498Z"
   },
   {
    "duration": 505,
    "start_time": "2022-01-24T19:04:47.330Z"
   },
   {
    "duration": 402,
    "start_time": "2022-01-24T19:06:10.041Z"
   },
   {
    "duration": 359,
    "start_time": "2022-01-24T19:06:23.949Z"
   },
   {
    "duration": 471,
    "start_time": "2022-01-24T19:08:54.524Z"
   },
   {
    "duration": 397,
    "start_time": "2022-01-24T19:10:21.156Z"
   },
   {
    "duration": 664,
    "start_time": "2022-01-24T19:16:22.959Z"
   },
   {
    "duration": 352,
    "start_time": "2022-01-24T19:16:50.309Z"
   },
   {
    "duration": 364,
    "start_time": "2022-01-24T19:17:11.892Z"
   },
   {
    "duration": 362,
    "start_time": "2022-01-24T19:17:21.695Z"
   },
   {
    "duration": 381,
    "start_time": "2022-01-24T19:20:15.978Z"
   },
   {
    "duration": 690,
    "start_time": "2022-01-24T19:20:58.360Z"
   },
   {
    "duration": 514,
    "start_time": "2022-01-24T19:21:08.062Z"
   },
   {
    "duration": 308,
    "start_time": "2022-01-24T19:22:33.964Z"
   },
   {
    "duration": 227,
    "start_time": "2022-01-24T19:22:47.022Z"
   },
   {
    "duration": 873,
    "start_time": "2022-01-25T17:10:08.317Z"
   },
   {
    "duration": 8,
    "start_time": "2022-01-25T17:10:09.192Z"
   },
   {
    "duration": 28,
    "start_time": "2022-01-25T17:10:09.203Z"
   },
   {
    "duration": 9,
    "start_time": "2022-01-25T17:10:09.233Z"
   },
   {
    "duration": 16,
    "start_time": "2022-01-25T17:10:09.244Z"
   },
   {
    "duration": 7,
    "start_time": "2022-01-25T17:10:09.262Z"
   },
   {
    "duration": 3,
    "start_time": "2022-01-25T17:10:09.271Z"
   },
   {
    "duration": 7,
    "start_time": "2022-01-25T17:10:09.276Z"
   },
   {
    "duration": 30,
    "start_time": "2022-01-25T17:10:09.284Z"
   },
   {
    "duration": 7,
    "start_time": "2022-01-25T17:10:09.316Z"
   },
   {
    "duration": 8,
    "start_time": "2022-01-25T17:10:09.327Z"
   },
   {
    "duration": 22,
    "start_time": "2022-01-25T17:10:09.338Z"
   },
   {
    "duration": 9,
    "start_time": "2022-01-25T17:10:09.362Z"
   },
   {
    "duration": 10,
    "start_time": "2022-01-25T17:10:09.373Z"
   },
   {
    "duration": 11,
    "start_time": "2022-01-25T17:10:09.384Z"
   },
   {
    "duration": 9,
    "start_time": "2022-01-25T17:10:09.396Z"
   },
   {
    "duration": 26,
    "start_time": "2022-01-25T17:10:09.406Z"
   },
   {
    "duration": 587,
    "start_time": "2022-01-25T17:10:09.434Z"
   },
   {
    "duration": 330,
    "start_time": "2022-01-25T17:10:10.022Z"
   },
   {
    "duration": 148,
    "start_time": "2022-01-25T17:10:10.354Z"
   },
   {
    "duration": 118,
    "start_time": "2022-01-25T17:11:35.332Z"
   },
   {
    "duration": 94,
    "start_time": "2022-01-25T17:12:04.796Z"
   },
   {
    "duration": 127,
    "start_time": "2022-01-25T17:12:16.728Z"
   },
   {
    "duration": 134,
    "start_time": "2022-01-25T17:13:02.664Z"
   },
   {
    "duration": 118,
    "start_time": "2022-01-25T17:13:40.842Z"
   },
   {
    "duration": 129,
    "start_time": "2022-01-25T17:15:15.386Z"
   },
   {
    "duration": 118,
    "start_time": "2022-01-25T17:15:48.616Z"
   },
   {
    "duration": 221,
    "start_time": "2022-01-25T17:16:53.789Z"
   },
   {
    "duration": 217,
    "start_time": "2022-01-25T17:17:21.847Z"
   },
   {
    "duration": 305,
    "start_time": "2022-01-25T17:17:38.270Z"
   },
   {
    "duration": 211,
    "start_time": "2022-01-25T17:25:02.960Z"
   },
   {
    "duration": 10,
    "start_time": "2022-01-25T17:27:05.635Z"
   },
   {
    "duration": 12,
    "start_time": "2022-01-25T17:33:21.669Z"
   },
   {
    "duration": 221,
    "start_time": "2022-01-25T17:40:41.909Z"
   },
   {
    "duration": 643,
    "start_time": "2022-01-25T17:40:52.472Z"
   },
   {
    "duration": 10,
    "start_time": "2022-01-25T17:40:53.117Z"
   },
   {
    "duration": 5,
    "start_time": "2022-01-25T17:40:53.128Z"
   },
   {
    "duration": 7,
    "start_time": "2022-01-25T17:40:53.135Z"
   },
   {
    "duration": 5,
    "start_time": "2022-01-25T17:40:53.143Z"
   },
   {
    "duration": 7,
    "start_time": "2022-01-25T17:40:53.150Z"
   },
   {
    "duration": 3,
    "start_time": "2022-01-25T17:40:53.159Z"
   },
   {
    "duration": 6,
    "start_time": "2022-01-25T17:40:53.164Z"
   },
   {
    "duration": 63,
    "start_time": "2022-01-25T17:40:53.172Z"
   },
   {
    "duration": 8,
    "start_time": "2022-01-25T17:40:53.237Z"
   },
   {
    "duration": 15,
    "start_time": "2022-01-25T17:40:53.246Z"
   },
   {
    "duration": 10,
    "start_time": "2022-01-25T17:40:53.263Z"
   },
   {
    "duration": 13,
    "start_time": "2022-01-25T17:40:53.275Z"
   },
   {
    "duration": 10,
    "start_time": "2022-01-25T17:40:53.289Z"
   },
   {
    "duration": 32,
    "start_time": "2022-01-25T17:40:53.301Z"
   },
   {
    "duration": 10,
    "start_time": "2022-01-25T17:40:53.334Z"
   },
   {
    "duration": 7,
    "start_time": "2022-01-25T17:40:53.345Z"
   },
   {
    "duration": 601,
    "start_time": "2022-01-25T17:40:53.354Z"
   },
   {
    "duration": 316,
    "start_time": "2022-01-25T17:40:53.956Z"
   },
   {
    "duration": 129,
    "start_time": "2022-01-25T17:40:54.274Z"
   },
   {
    "duration": 10,
    "start_time": "2022-01-25T17:40:54.404Z"
   },
   {
    "duration": 238,
    "start_time": "2022-01-25T17:40:54.415Z"
   },
   {
    "duration": 203,
    "start_time": "2022-01-25T17:45:39.756Z"
   },
   {
    "duration": 218,
    "start_time": "2022-01-25T17:45:58.074Z"
   },
   {
    "duration": 115,
    "start_time": "2022-01-25T17:46:56.619Z"
   },
   {
    "duration": 127,
    "start_time": "2022-01-25T17:49:52.931Z"
   },
   {
    "duration": 7,
    "start_time": "2022-01-25T17:55:01.041Z"
   },
   {
    "duration": 264,
    "start_time": "2022-01-25T17:55:19.132Z"
   },
   {
    "duration": 148,
    "start_time": "2022-01-25T17:56:48.878Z"
   },
   {
    "duration": 88,
    "start_time": "2022-01-25T17:56:57.451Z"
   },
   {
    "duration": 7,
    "start_time": "2022-01-25T17:59:19.218Z"
   },
   {
    "duration": 168,
    "start_time": "2022-01-25T17:59:23.146Z"
   },
   {
    "duration": 217,
    "start_time": "2022-01-25T17:59:29.595Z"
   },
   {
    "duration": 164,
    "start_time": "2022-01-25T18:00:01.831Z"
   },
   {
    "duration": 272,
    "start_time": "2022-01-25T18:00:56.701Z"
   },
   {
    "duration": 277,
    "start_time": "2022-01-25T18:01:41.323Z"
   },
   {
    "duration": 209,
    "start_time": "2022-01-25T18:02:23.298Z"
   },
   {
    "duration": 206,
    "start_time": "2022-01-25T18:03:04.814Z"
   },
   {
    "duration": 202,
    "start_time": "2022-01-25T18:03:09.272Z"
   },
   {
    "duration": 149,
    "start_time": "2022-01-25T18:03:18.243Z"
   },
   {
    "duration": 153,
    "start_time": "2022-01-25T18:03:52.963Z"
   },
   {
    "duration": 270,
    "start_time": "2022-01-25T18:05:44.779Z"
   },
   {
    "duration": 557,
    "start_time": "2022-01-25T18:05:52.886Z"
   },
   {
    "duration": 211,
    "start_time": "2022-01-25T18:07:20.950Z"
   },
   {
    "duration": 134,
    "start_time": "2022-01-25T18:08:08.690Z"
   },
   {
    "duration": 220,
    "start_time": "2022-01-25T18:08:13.455Z"
   },
   {
    "duration": 205,
    "start_time": "2022-01-25T18:08:30.648Z"
   },
   {
    "duration": 719,
    "start_time": "2022-01-25T18:09:29.705Z"
   },
   {
    "duration": 7,
    "start_time": "2022-01-25T18:09:30.427Z"
   },
   {
    "duration": 22,
    "start_time": "2022-01-25T18:09:30.436Z"
   },
   {
    "duration": 21,
    "start_time": "2022-01-25T18:09:30.460Z"
   },
   {
    "duration": 6,
    "start_time": "2022-01-25T18:09:30.483Z"
   },
   {
    "duration": 8,
    "start_time": "2022-01-25T18:09:30.490Z"
   },
   {
    "duration": 5,
    "start_time": "2022-01-25T18:09:30.499Z"
   },
   {
    "duration": 6,
    "start_time": "2022-01-25T18:09:30.506Z"
   },
   {
    "duration": 10,
    "start_time": "2022-01-25T18:09:30.514Z"
   },
   {
    "duration": 9,
    "start_time": "2022-01-25T18:09:30.526Z"
   },
   {
    "duration": 4,
    "start_time": "2022-01-25T18:09:30.536Z"
   },
   {
    "duration": 14,
    "start_time": "2022-01-25T18:09:30.541Z"
   },
   {
    "duration": 16,
    "start_time": "2022-01-25T18:09:30.556Z"
   },
   {
    "duration": 14,
    "start_time": "2022-01-25T18:09:30.573Z"
   },
   {
    "duration": 10,
    "start_time": "2022-01-25T18:09:30.588Z"
   },
   {
    "duration": 11,
    "start_time": "2022-01-25T18:09:30.599Z"
   },
   {
    "duration": 8,
    "start_time": "2022-01-25T18:09:30.611Z"
   },
   {
    "duration": 571,
    "start_time": "2022-01-25T18:09:30.620Z"
   },
   {
    "duration": 360,
    "start_time": "2022-01-25T18:09:31.193Z"
   },
   {
    "duration": 211,
    "start_time": "2022-01-25T18:09:31.555Z"
   },
   {
    "duration": 11,
    "start_time": "2022-01-25T18:09:31.767Z"
   },
   {
    "duration": 231,
    "start_time": "2022-01-25T18:09:31.780Z"
   },
   {
    "duration": 225,
    "start_time": "2022-01-25T18:09:32.014Z"
   },
   {
    "duration": 135,
    "start_time": "2022-01-25T18:09:32.240Z"
   },
   {
    "duration": 9,
    "start_time": "2022-01-25T18:09:32.377Z"
   },
   {
    "duration": 227,
    "start_time": "2022-01-25T18:09:32.388Z"
   },
   {
    "duration": 150,
    "start_time": "2022-01-25T18:16:07.455Z"
   },
   {
    "duration": 162,
    "start_time": "2022-01-25T18:16:21.278Z"
   },
   {
    "duration": 132,
    "start_time": "2022-01-25T18:17:21.130Z"
   },
   {
    "duration": 239,
    "start_time": "2022-01-25T18:17:27.870Z"
   },
   {
    "duration": 119,
    "start_time": "2022-01-25T18:17:34.251Z"
   },
   {
    "duration": 127,
    "start_time": "2022-01-25T18:17:39.415Z"
   },
   {
    "duration": 121,
    "start_time": "2022-01-25T18:17:43.570Z"
   },
   {
    "duration": 163,
    "start_time": "2022-01-25T18:21:45.702Z"
   },
   {
    "duration": 174,
    "start_time": "2022-01-25T18:21:52.416Z"
   },
   {
    "duration": 234,
    "start_time": "2022-01-25T18:22:00.429Z"
   },
   {
    "duration": 182,
    "start_time": "2022-01-25T18:22:04.604Z"
   },
   {
    "duration": 172,
    "start_time": "2022-01-25T18:22:10.325Z"
   },
   {
    "duration": 167,
    "start_time": "2022-01-25T18:22:17.621Z"
   },
   {
    "duration": 160,
    "start_time": "2022-01-25T18:22:26.137Z"
   },
   {
    "duration": 233,
    "start_time": "2022-01-25T18:22:35.754Z"
   },
   {
    "duration": 116,
    "start_time": "2022-01-25T18:23:33.577Z"
   },
   {
    "duration": 121,
    "start_time": "2022-01-25T18:24:26.533Z"
   },
   {
    "duration": 122,
    "start_time": "2022-01-25T18:24:33.860Z"
   },
   {
    "duration": 119,
    "start_time": "2022-01-25T18:24:38.764Z"
   },
   {
    "duration": 127,
    "start_time": "2022-01-25T18:25:40.311Z"
   },
   {
    "duration": 126,
    "start_time": "2022-01-25T18:25:50.720Z"
   },
   {
    "duration": 158,
    "start_time": "2022-01-25T18:29:48.391Z"
   },
   {
    "duration": 275,
    "start_time": "2022-01-25T18:37:58.592Z"
   },
   {
    "duration": 229,
    "start_time": "2022-01-25T18:38:30.212Z"
   },
   {
    "duration": 216,
    "start_time": "2022-01-25T18:40:27.090Z"
   },
   {
    "duration": 297,
    "start_time": "2022-01-25T18:41:14.416Z"
   },
   {
    "duration": 221,
    "start_time": "2022-01-25T18:41:25.779Z"
   },
   {
    "duration": 121,
    "start_time": "2022-01-25T18:41:56.336Z"
   },
   {
    "duration": 114,
    "start_time": "2022-01-25T18:42:00.604Z"
   },
   {
    "duration": 114,
    "start_time": "2022-01-25T18:42:06.508Z"
   },
   {
    "duration": 113,
    "start_time": "2022-01-25T18:42:11.385Z"
   },
   {
    "duration": 114,
    "start_time": "2022-01-25T18:42:23.661Z"
   },
   {
    "duration": 160,
    "start_time": "2022-01-25T18:42:29.148Z"
   },
   {
    "duration": 125,
    "start_time": "2022-01-25T18:43:01.277Z"
   },
   {
    "duration": 113,
    "start_time": "2022-01-25T18:43:23.482Z"
   },
   {
    "duration": 114,
    "start_time": "2022-01-25T18:43:34.144Z"
   },
   {
    "duration": 116,
    "start_time": "2022-01-25T18:44:06.240Z"
   },
   {
    "duration": 9,
    "start_time": "2022-01-25T18:46:00.747Z"
   },
   {
    "duration": 222,
    "start_time": "2022-01-25T18:47:05.034Z"
   },
   {
    "duration": 687,
    "start_time": "2022-01-25T18:47:20.594Z"
   },
   {
    "duration": 7,
    "start_time": "2022-01-25T18:47:21.283Z"
   },
   {
    "duration": 4,
    "start_time": "2022-01-25T18:47:21.292Z"
   },
   {
    "duration": 7,
    "start_time": "2022-01-25T18:47:21.298Z"
   },
   {
    "duration": 6,
    "start_time": "2022-01-25T18:47:21.327Z"
   },
   {
    "duration": 12,
    "start_time": "2022-01-25T18:47:21.334Z"
   },
   {
    "duration": 4,
    "start_time": "2022-01-25T18:47:21.347Z"
   },
   {
    "duration": 6,
    "start_time": "2022-01-25T18:47:21.353Z"
   },
   {
    "duration": 11,
    "start_time": "2022-01-25T18:47:21.361Z"
   },
   {
    "duration": 7,
    "start_time": "2022-01-25T18:47:21.374Z"
   },
   {
    "duration": 4,
    "start_time": "2022-01-25T18:47:21.383Z"
   },
   {
    "duration": 8,
    "start_time": "2022-01-25T18:47:21.427Z"
   },
   {
    "duration": 14,
    "start_time": "2022-01-25T18:47:21.436Z"
   },
   {
    "duration": 10,
    "start_time": "2022-01-25T18:47:21.452Z"
   },
   {
    "duration": 11,
    "start_time": "2022-01-25T18:47:21.464Z"
   },
   {
    "duration": 9,
    "start_time": "2022-01-25T18:47:21.476Z"
   },
   {
    "duration": 40,
    "start_time": "2022-01-25T18:47:21.487Z"
   },
   {
    "duration": 548,
    "start_time": "2022-01-25T18:47:21.529Z"
   },
   {
    "duration": 310,
    "start_time": "2022-01-25T18:47:22.078Z"
   },
   {
    "duration": 125,
    "start_time": "2022-01-25T18:47:22.389Z"
   },
   {
    "duration": 16,
    "start_time": "2022-01-25T18:47:22.515Z"
   },
   {
    "duration": 222,
    "start_time": "2022-01-25T18:47:22.532Z"
   },
   {
    "duration": 216,
    "start_time": "2022-01-25T18:47:22.756Z"
   },
   {
    "duration": 139,
    "start_time": "2022-01-25T18:47:22.974Z"
   },
   {
    "duration": 16,
    "start_time": "2022-01-25T18:47:23.114Z"
   },
   {
    "duration": 222,
    "start_time": "2022-01-25T18:47:23.132Z"
   },
   {
    "duration": 175,
    "start_time": "2022-01-25T18:47:23.355Z"
   },
   {
    "duration": 126,
    "start_time": "2022-01-25T18:47:23.532Z"
   },
   {
    "duration": 182,
    "start_time": "2022-01-25T18:47:23.659Z"
   },
   {
    "duration": 186,
    "start_time": "2022-01-25T18:47:23.843Z"
   },
   {
    "duration": 9,
    "start_time": "2022-01-25T18:47:24.030Z"
   },
   {
    "duration": 177,
    "start_time": "2022-01-25T18:47:24.040Z"
   },
   {
    "duration": 241,
    "start_time": "2022-01-25T18:47:24.218Z"
   },
   {
    "duration": 129,
    "start_time": "2022-01-25T18:47:24.460Z"
   },
   {
    "duration": 7,
    "start_time": "2022-01-25T18:47:24.591Z"
   },
   {
    "duration": 230,
    "start_time": "2022-01-25T18:47:24.599Z"
   },
   {
    "duration": 208,
    "start_time": "2022-01-25T18:47:34.156Z"
   },
   {
    "duration": 629,
    "start_time": "2022-01-26T17:56:47.692Z"
   },
   {
    "duration": 8,
    "start_time": "2022-01-26T17:56:48.322Z"
   },
   {
    "duration": 5,
    "start_time": "2022-01-26T17:56:48.332Z"
   },
   {
    "duration": 7,
    "start_time": "2022-01-26T17:56:48.339Z"
   },
   {
    "duration": 26,
    "start_time": "2022-01-26T17:56:48.347Z"
   },
   {
    "duration": 7,
    "start_time": "2022-01-26T17:56:48.374Z"
   },
   {
    "duration": 4,
    "start_time": "2022-01-26T17:56:48.382Z"
   },
   {
    "duration": 5,
    "start_time": "2022-01-26T17:56:48.388Z"
   },
   {
    "duration": 9,
    "start_time": "2022-01-26T17:56:48.395Z"
   },
   {
    "duration": 6,
    "start_time": "2022-01-26T17:56:48.406Z"
   },
   {
    "duration": 8,
    "start_time": "2022-01-26T17:56:48.414Z"
   },
   {
    "duration": 12,
    "start_time": "2022-01-26T17:56:48.423Z"
   },
   {
    "duration": 42,
    "start_time": "2022-01-26T17:56:48.436Z"
   },
   {
    "duration": 10,
    "start_time": "2022-01-26T17:56:48.479Z"
   },
   {
    "duration": 10,
    "start_time": "2022-01-26T17:56:48.490Z"
   },
   {
    "duration": 66,
    "start_time": "2022-01-26T17:56:48.501Z"
   },
   {
    "duration": 8,
    "start_time": "2022-01-26T17:56:48.568Z"
   },
   {
    "duration": 572,
    "start_time": "2022-01-26T17:56:48.577Z"
   },
   {
    "duration": 343,
    "start_time": "2022-01-26T17:56:49.151Z"
   },
   {
    "duration": 133,
    "start_time": "2022-01-26T17:56:49.495Z"
   },
   {
    "duration": 11,
    "start_time": "2022-01-26T17:56:49.630Z"
   },
   {
    "duration": 238,
    "start_time": "2022-01-26T17:56:49.642Z"
   },
   {
    "duration": 228,
    "start_time": "2022-01-26T17:56:49.883Z"
   },
   {
    "duration": 143,
    "start_time": "2022-01-26T17:56:50.113Z"
   },
   {
    "duration": 14,
    "start_time": "2022-01-26T17:56:50.258Z"
   },
   {
    "duration": 246,
    "start_time": "2022-01-26T17:56:50.274Z"
   },
   {
    "duration": 191,
    "start_time": "2022-01-26T17:56:50.522Z"
   },
   {
    "duration": 143,
    "start_time": "2022-01-26T17:56:50.714Z"
   },
   {
    "duration": 221,
    "start_time": "2022-01-26T17:56:50.859Z"
   },
   {
    "duration": 206,
    "start_time": "2022-01-26T17:56:51.082Z"
   },
   {
    "duration": 10,
    "start_time": "2022-01-26T17:56:51.290Z"
   },
   {
    "duration": 191,
    "start_time": "2022-01-26T17:56:51.302Z"
   },
   {
    "duration": 248,
    "start_time": "2022-01-26T17:56:51.495Z"
   },
   {
    "duration": 139,
    "start_time": "2022-01-26T17:56:51.745Z"
   },
   {
    "duration": 10,
    "start_time": "2022-01-26T17:56:51.886Z"
   },
   {
    "duration": 238,
    "start_time": "2022-01-26T17:56:51.897Z"
   },
   {
    "duration": 8,
    "start_time": "2022-01-26T17:58:10.664Z"
   },
   {
    "duration": 640,
    "start_time": "2022-01-26T18:01:57.633Z"
   },
   {
    "duration": 8,
    "start_time": "2022-01-26T18:01:58.275Z"
   },
   {
    "duration": 5,
    "start_time": "2022-01-26T18:01:58.285Z"
   },
   {
    "duration": 8,
    "start_time": "2022-01-26T18:01:58.292Z"
   },
   {
    "duration": 6,
    "start_time": "2022-01-26T18:01:58.302Z"
   },
   {
    "duration": 8,
    "start_time": "2022-01-26T18:01:58.309Z"
   },
   {
    "duration": 3,
    "start_time": "2022-01-26T18:01:58.319Z"
   },
   {
    "duration": 51,
    "start_time": "2022-01-26T18:01:58.324Z"
   },
   {
    "duration": 11,
    "start_time": "2022-01-26T18:01:58.377Z"
   },
   {
    "duration": 7,
    "start_time": "2022-01-26T18:01:58.389Z"
   },
   {
    "duration": 5,
    "start_time": "2022-01-26T18:01:58.397Z"
   },
   {
    "duration": 12,
    "start_time": "2022-01-26T18:01:58.403Z"
   },
   {
    "duration": 17,
    "start_time": "2022-01-26T18:01:58.417Z"
   },
   {
    "duration": 11,
    "start_time": "2022-01-26T18:01:58.435Z"
   },
   {
    "duration": 10,
    "start_time": "2022-01-26T18:01:58.472Z"
   },
   {
    "duration": 10,
    "start_time": "2022-01-26T18:01:58.484Z"
   },
   {
    "duration": 8,
    "start_time": "2022-01-26T18:01:58.495Z"
   },
   {
    "duration": 585,
    "start_time": "2022-01-26T18:01:58.505Z"
   },
   {
    "duration": 331,
    "start_time": "2022-01-26T18:01:59.091Z"
   },
   {
    "duration": 132,
    "start_time": "2022-01-26T18:01:59.424Z"
   },
   {
    "duration": 16,
    "start_time": "2022-01-26T18:01:59.558Z"
   },
   {
    "duration": 231,
    "start_time": "2022-01-26T18:01:59.576Z"
   },
   {
    "duration": 228,
    "start_time": "2022-01-26T18:01:59.811Z"
   },
   {
    "duration": 152,
    "start_time": "2022-01-26T18:02:00.041Z"
   },
   {
    "duration": 12,
    "start_time": "2022-01-26T18:02:00.195Z"
   },
   {
    "duration": 248,
    "start_time": "2022-01-26T18:02:00.208Z"
   },
   {
    "duration": 200,
    "start_time": "2022-01-26T18:02:00.457Z"
   },
   {
    "duration": 145,
    "start_time": "2022-01-26T18:02:00.659Z"
   },
   {
    "duration": 222,
    "start_time": "2022-01-26T18:02:00.806Z"
   },
   {
    "duration": 212,
    "start_time": "2022-01-26T18:02:01.030Z"
   },
   {
    "duration": 10,
    "start_time": "2022-01-26T18:02:01.244Z"
   },
   {
    "duration": 196,
    "start_time": "2022-01-26T18:02:01.255Z"
   },
   {
    "duration": 256,
    "start_time": "2022-01-26T18:02:01.452Z"
   },
   {
    "duration": 149,
    "start_time": "2022-01-26T18:02:01.710Z"
   },
   {
    "duration": 14,
    "start_time": "2022-01-26T18:02:01.861Z"
   },
   {
    "duration": 247,
    "start_time": "2022-01-26T18:02:01.877Z"
   },
   {
    "duration": 9,
    "start_time": "2022-01-26T18:02:02.126Z"
   },
   {
    "duration": 674,
    "start_time": "2022-01-26T18:03:28.118Z"
   },
   {
    "duration": 8,
    "start_time": "2022-01-26T18:03:28.794Z"
   },
   {
    "duration": 6,
    "start_time": "2022-01-26T18:03:28.807Z"
   },
   {
    "duration": 20,
    "start_time": "2022-01-26T18:03:28.814Z"
   },
   {
    "duration": 7,
    "start_time": "2022-01-26T18:03:28.835Z"
   },
   {
    "duration": 34,
    "start_time": "2022-01-26T18:03:28.843Z"
   },
   {
    "duration": 4,
    "start_time": "2022-01-26T18:03:28.879Z"
   },
   {
    "duration": 6,
    "start_time": "2022-01-26T18:03:28.885Z"
   },
   {
    "duration": 10,
    "start_time": "2022-01-26T18:03:28.892Z"
   },
   {
    "duration": 8,
    "start_time": "2022-01-26T18:03:28.904Z"
   },
   {
    "duration": 5,
    "start_time": "2022-01-26T18:03:28.913Z"
   },
   {
    "duration": 11,
    "start_time": "2022-01-26T18:03:28.919Z"
   },
   {
    "duration": 12,
    "start_time": "2022-01-26T18:03:28.971Z"
   },
   {
    "duration": 11,
    "start_time": "2022-01-26T18:03:28.984Z"
   },
   {
    "duration": 13,
    "start_time": "2022-01-26T18:03:28.996Z"
   },
   {
    "duration": 10,
    "start_time": "2022-01-26T18:03:29.010Z"
   },
   {
    "duration": 8,
    "start_time": "2022-01-26T18:03:29.022Z"
   },
   {
    "duration": 602,
    "start_time": "2022-01-26T18:03:29.031Z"
   },
   {
    "duration": 363,
    "start_time": "2022-01-26T18:03:29.635Z"
   },
   {
    "duration": 150,
    "start_time": "2022-01-26T18:03:30.001Z"
   },
   {
    "duration": 21,
    "start_time": "2022-01-26T18:03:30.153Z"
   },
   {
    "duration": 272,
    "start_time": "2022-01-26T18:03:30.178Z"
   },
   {
    "duration": 239,
    "start_time": "2022-01-26T18:03:30.452Z"
   },
   {
    "duration": 161,
    "start_time": "2022-01-26T18:03:30.693Z"
   },
   {
    "duration": 20,
    "start_time": "2022-01-26T18:03:30.857Z"
   },
   {
    "duration": 257,
    "start_time": "2022-01-26T18:03:30.880Z"
   },
   {
    "duration": 235,
    "start_time": "2022-01-26T18:03:31.138Z"
   },
   {
    "duration": 136,
    "start_time": "2022-01-26T18:03:31.375Z"
   },
   {
    "duration": 247,
    "start_time": "2022-01-26T18:03:31.513Z"
   },
   {
    "duration": 172,
    "start_time": "2022-01-26T18:03:31.762Z"
   },
   {
    "duration": 9,
    "start_time": "2022-01-26T18:03:31.936Z"
   },
   {
    "duration": 275,
    "start_time": "2022-01-26T18:03:31.947Z"
   },
   {
    "duration": 262,
    "start_time": "2022-01-26T18:03:32.224Z"
   },
   {
    "duration": 159,
    "start_time": "2022-01-26T18:03:32.488Z"
   },
   {
    "duration": 8,
    "start_time": "2022-01-26T18:03:32.648Z"
   },
   {
    "duration": 246,
    "start_time": "2022-01-26T18:03:32.657Z"
   },
   {
    "duration": 7,
    "start_time": "2022-01-26T18:03:32.905Z"
   },
   {
    "duration": 442,
    "start_time": "2022-01-26T18:13:10.835Z"
   },
   {
    "duration": 393,
    "start_time": "2022-01-26T18:13:40.612Z"
   },
   {
    "duration": 638,
    "start_time": "2022-01-26T18:17:20.446Z"
   },
   {
    "duration": 5,
    "start_time": "2022-01-26T18:17:33.543Z"
   },
   {
    "duration": 390,
    "start_time": "2022-01-26T18:19:57.161Z"
   },
   {
    "duration": 5,
    "start_time": "2022-01-26T18:20:56.712Z"
   },
   {
    "duration": 7162,
    "start_time": "2022-01-26T18:24:11.463Z"
   },
   {
    "duration": 449,
    "start_time": "2022-01-26T18:25:15.632Z"
   },
   {
    "duration": 282,
    "start_time": "2022-01-26T18:26:07.462Z"
   },
   {
    "duration": 5,
    "start_time": "2022-01-26T18:26:32.329Z"
   },
   {
    "duration": 284,
    "start_time": "2022-01-26T18:26:48.744Z"
   },
   {
    "duration": 510,
    "start_time": "2022-01-26T18:27:14.608Z"
   },
   {
    "duration": 5,
    "start_time": "2022-01-26T18:27:23.260Z"
   },
   {
    "duration": 452,
    "start_time": "2022-01-26T18:28:00.222Z"
   },
   {
    "duration": 283,
    "start_time": "2022-01-26T18:44:25.715Z"
   },
   {
    "duration": 8,
    "start_time": "2022-01-26T18:44:51.498Z"
   },
   {
    "duration": 1423,
    "start_time": "2022-01-26T18:46:29.571Z"
   },
   {
    "duration": 412,
    "start_time": "2022-01-26T18:49:25.823Z"
   },
   {
    "duration": 5,
    "start_time": "2022-01-26T18:49:50.167Z"
   },
   {
    "duration": 425,
    "start_time": "2022-01-26T18:56:50.280Z"
   },
   {
    "duration": 426,
    "start_time": "2022-01-26T18:57:57.240Z"
   },
   {
    "duration": 397,
    "start_time": "2022-01-26T19:00:37.268Z"
   },
   {
    "duration": 381,
    "start_time": "2022-01-26T19:00:40.394Z"
   },
   {
    "duration": 430,
    "start_time": "2022-01-26T19:00:42.852Z"
   },
   {
    "duration": 4,
    "start_time": "2022-01-26T19:01:25.943Z"
   },
   {
    "duration": 4,
    "start_time": "2022-01-26T19:02:11.903Z"
   },
   {
    "duration": 4,
    "start_time": "2022-01-26T19:02:29.022Z"
   },
   {
    "duration": 891,
    "start_time": "2022-01-27T15:56:13.035Z"
   },
   {
    "duration": 25,
    "start_time": "2022-01-27T15:56:13.930Z"
   },
   {
    "duration": 8,
    "start_time": "2022-01-27T15:56:13.957Z"
   },
   {
    "duration": 12,
    "start_time": "2022-01-27T15:56:13.968Z"
   },
   {
    "duration": 8,
    "start_time": "2022-01-27T15:56:13.982Z"
   },
   {
    "duration": 11,
    "start_time": "2022-01-27T15:56:13.992Z"
   },
   {
    "duration": 6,
    "start_time": "2022-01-27T15:56:14.049Z"
   },
   {
    "duration": 18,
    "start_time": "2022-01-27T15:56:14.059Z"
   },
   {
    "duration": 15,
    "start_time": "2022-01-27T15:56:14.080Z"
   },
   {
    "duration": 11,
    "start_time": "2022-01-27T15:56:14.097Z"
   },
   {
    "duration": 38,
    "start_time": "2022-01-27T15:56:14.110Z"
   },
   {
    "duration": 11,
    "start_time": "2022-01-27T15:56:14.151Z"
   },
   {
    "duration": 18,
    "start_time": "2022-01-27T15:56:14.164Z"
   },
   {
    "duration": 18,
    "start_time": "2022-01-27T15:56:14.184Z"
   },
   {
    "duration": 44,
    "start_time": "2022-01-27T15:56:14.204Z"
   },
   {
    "duration": 16,
    "start_time": "2022-01-27T15:56:14.251Z"
   },
   {
    "duration": 13,
    "start_time": "2022-01-27T15:56:14.270Z"
   },
   {
    "duration": 990,
    "start_time": "2022-01-27T15:56:14.286Z"
   },
   {
    "duration": 585,
    "start_time": "2022-01-27T15:56:15.278Z"
   },
   {
    "duration": 231,
    "start_time": "2022-01-27T15:56:15.865Z"
   },
   {
    "duration": 17,
    "start_time": "2022-01-27T15:56:16.099Z"
   },
   {
    "duration": 432,
    "start_time": "2022-01-27T15:56:16.118Z"
   },
   {
    "duration": 401,
    "start_time": "2022-01-27T15:56:16.557Z"
   },
   {
    "duration": 246,
    "start_time": "2022-01-27T15:56:16.962Z"
   },
   {
    "duration": 14,
    "start_time": "2022-01-27T15:56:17.211Z"
   },
   {
    "duration": 411,
    "start_time": "2022-01-27T15:56:17.228Z"
   },
   {
    "duration": 307,
    "start_time": "2022-01-27T15:56:17.649Z"
   },
   {
    "duration": 233,
    "start_time": "2022-01-27T15:56:17.958Z"
   },
   {
    "duration": 321,
    "start_time": "2022-01-27T15:56:18.193Z"
   },
   {
    "duration": 308,
    "start_time": "2022-01-27T15:56:18.517Z"
   },
   {
    "duration": 24,
    "start_time": "2022-01-27T15:56:18.828Z"
   },
   {
    "duration": 361,
    "start_time": "2022-01-27T15:56:18.855Z"
   },
   {
    "duration": 442,
    "start_time": "2022-01-27T15:56:19.219Z"
   },
   {
    "duration": 233,
    "start_time": "2022-01-27T15:56:19.663Z"
   },
   {
    "duration": 11,
    "start_time": "2022-01-27T15:56:19.898Z"
   },
   {
    "duration": 409,
    "start_time": "2022-01-27T15:56:19.912Z"
   },
   {
    "duration": 27,
    "start_time": "2022-01-27T15:56:20.324Z"
   },
   {
    "duration": 563,
    "start_time": "2022-01-27T15:56:20.353Z"
   },
   {
    "duration": 7,
    "start_time": "2022-01-27T15:56:20.919Z"
   },
   {
    "duration": 574,
    "start_time": "2022-01-27T15:56:20.929Z"
   },
   {
    "duration": 7,
    "start_time": "2022-01-27T15:56:21.505Z"
   },
   {
    "duration": 516,
    "start_time": "2022-01-27T15:56:21.514Z"
   },
   {
    "duration": 605,
    "start_time": "2022-01-27T15:56:22.032Z"
   },
   {
    "duration": 12,
    "start_time": "2022-01-27T15:56:22.639Z"
   },
   {
    "duration": 631,
    "start_time": "2022-01-27T15:56:22.653Z"
   },
   {
    "duration": 7,
    "start_time": "2022-01-27T15:56:23.287Z"
   },
   {
    "duration": 707,
    "start_time": "2022-01-27T15:56:23.297Z"
   },
   {
    "duration": 6,
    "start_time": "2022-01-27T15:56:24.007Z"
   },
   {
    "duration": 588,
    "start_time": "2022-01-27T15:56:24.015Z"
   },
   {
    "duration": 6,
    "start_time": "2022-01-27T15:56:24.606Z"
   },
   {
    "duration": 589,
    "start_time": "2022-01-27T15:56:24.615Z"
   },
   {
    "duration": 5,
    "start_time": "2022-01-27T15:56:25.207Z"
   },
   {
    "duration": 89,
    "start_time": "2022-01-27T15:56:25.214Z"
   },
   {
    "duration": 23,
    "start_time": "2022-01-27T16:03:23.607Z"
   },
   {
    "duration": 32,
    "start_time": "2022-01-27T16:03:53.198Z"
   },
   {
    "duration": 9,
    "start_time": "2022-01-27T16:05:43.442Z"
   },
   {
    "duration": 8,
    "start_time": "2022-01-27T16:06:14.717Z"
   },
   {
    "duration": 9,
    "start_time": "2022-01-27T16:06:21.270Z"
   },
   {
    "duration": 352,
    "start_time": "2022-01-27T16:14:52.124Z"
   },
   {
    "duration": 233,
    "start_time": "2022-01-27T16:15:52.462Z"
   },
   {
    "duration": 28,
    "start_time": "2022-01-27T16:16:04.790Z"
   },
   {
    "duration": 1690,
    "start_time": "2022-01-27T16:16:38.511Z"
   },
   {
    "duration": 517,
    "start_time": "2022-01-27T16:24:42.743Z"
   },
   {
    "duration": 16,
    "start_time": "2022-01-27T16:26:06.149Z"
   },
   {
    "duration": 18,
    "start_time": "2022-01-27T16:26:26.108Z"
   },
   {
    "duration": 20,
    "start_time": "2022-01-27T16:26:52.901Z"
   },
   {
    "duration": 20,
    "start_time": "2022-01-27T16:34:52.570Z"
   },
   {
    "duration": 24,
    "start_time": "2022-01-27T16:35:43.990Z"
   },
   {
    "duration": 21,
    "start_time": "2022-01-27T16:35:48.805Z"
   },
   {
    "duration": 246,
    "start_time": "2022-01-27T16:38:56.883Z"
   },
   {
    "duration": 10,
    "start_time": "2022-01-27T16:40:12.016Z"
   },
   {
    "duration": 6098,
    "start_time": "2022-01-27T16:41:28.621Z"
   },
   {
    "duration": 928,
    "start_time": "2022-01-27T16:42:21.211Z"
   },
   {
    "duration": 14,
    "start_time": "2022-01-27T16:42:22.149Z"
   },
   {
    "duration": 9,
    "start_time": "2022-01-27T16:42:22.166Z"
   },
   {
    "duration": 12,
    "start_time": "2022-01-27T16:42:22.178Z"
   },
   {
    "duration": 10,
    "start_time": "2022-01-27T16:42:22.192Z"
   },
   {
    "duration": 53,
    "start_time": "2022-01-27T16:42:22.204Z"
   },
   {
    "duration": 6,
    "start_time": "2022-01-27T16:42:22.260Z"
   },
   {
    "duration": 13,
    "start_time": "2022-01-27T16:42:22.271Z"
   },
   {
    "duration": 21,
    "start_time": "2022-01-27T16:42:22.288Z"
   },
   {
    "duration": 46,
    "start_time": "2022-01-27T16:42:22.313Z"
   },
   {
    "duration": 7,
    "start_time": "2022-01-27T16:42:22.362Z"
   },
   {
    "duration": 41,
    "start_time": "2022-01-27T16:42:22.372Z"
   },
   {
    "duration": 43,
    "start_time": "2022-01-27T16:42:22.416Z"
   },
   {
    "duration": 19,
    "start_time": "2022-01-27T16:42:22.462Z"
   },
   {
    "duration": 23,
    "start_time": "2022-01-27T16:42:22.484Z"
   },
   {
    "duration": 41,
    "start_time": "2022-01-27T16:42:22.509Z"
   },
   {
    "duration": 13,
    "start_time": "2022-01-27T16:42:22.553Z"
   },
   {
    "duration": 1057,
    "start_time": "2022-01-27T16:42:22.568Z"
   },
   {
    "duration": 574,
    "start_time": "2022-01-27T16:42:23.627Z"
   },
   {
    "duration": 217,
    "start_time": "2022-01-27T16:42:24.203Z"
   },
   {
    "duration": 28,
    "start_time": "2022-01-27T16:42:24.424Z"
   },
   {
    "duration": 402,
    "start_time": "2022-01-27T16:42:24.454Z"
   },
   {
    "duration": 403,
    "start_time": "2022-01-27T16:42:24.862Z"
   },
   {
    "duration": 248,
    "start_time": "2022-01-27T16:42:25.270Z"
   },
   {
    "duration": 14,
    "start_time": "2022-01-27T16:42:25.521Z"
   },
   {
    "duration": 488,
    "start_time": "2022-01-27T16:42:25.549Z"
   },
   {
    "duration": 334,
    "start_time": "2022-01-27T16:42:26.040Z"
   },
   {
    "duration": 229,
    "start_time": "2022-01-27T16:42:26.376Z"
   },
   {
    "duration": 364,
    "start_time": "2022-01-27T16:42:26.608Z"
   },
   {
    "duration": 315,
    "start_time": "2022-01-27T16:42:26.974Z"
   },
   {
    "duration": 14,
    "start_time": "2022-01-27T16:42:27.291Z"
   },
   {
    "duration": 346,
    "start_time": "2022-01-27T16:42:27.308Z"
   },
   {
    "duration": 452,
    "start_time": "2022-01-27T16:42:27.657Z"
   },
   {
    "duration": 225,
    "start_time": "2022-01-27T16:42:28.112Z"
   },
   {
    "duration": 16,
    "start_time": "2022-01-27T16:42:28.340Z"
   },
   {
    "duration": 410,
    "start_time": "2022-01-27T16:42:28.359Z"
   },
   {
    "duration": 11,
    "start_time": "2022-01-27T16:42:28.771Z"
   },
   {
    "duration": 596,
    "start_time": "2022-01-27T16:42:28.784Z"
   },
   {
    "duration": 5,
    "start_time": "2022-01-27T16:42:29.383Z"
   },
   {
    "duration": 596,
    "start_time": "2022-01-27T16:42:29.391Z"
   },
   {
    "duration": 5,
    "start_time": "2022-01-27T16:42:29.990Z"
   },
   {
    "duration": 516,
    "start_time": "2022-01-27T16:42:29.997Z"
   },
   {
    "duration": 599,
    "start_time": "2022-01-27T16:42:30.515Z"
   },
   {
    "duration": 8,
    "start_time": "2022-01-27T16:42:31.117Z"
   },
   {
    "duration": 594,
    "start_time": "2022-01-27T16:42:31.128Z"
   },
   {
    "duration": 6,
    "start_time": "2022-01-27T16:42:31.725Z"
   },
   {
    "duration": 684,
    "start_time": "2022-01-27T16:42:31.749Z"
   },
   {
    "duration": 17,
    "start_time": "2022-01-27T16:42:32.435Z"
   },
   {
    "duration": 901,
    "start_time": "2022-01-27T16:42:32.454Z"
   },
   {
    "duration": 8,
    "start_time": "2022-01-27T16:42:33.358Z"
   },
   {
    "duration": 950,
    "start_time": "2022-01-27T16:42:33.369Z"
   },
   {
    "duration": 8,
    "start_time": "2022-01-27T16:42:34.323Z"
   },
   {
    "duration": 29,
    "start_time": "2022-01-27T16:42:34.350Z"
   },
   {
    "duration": 1725,
    "start_time": "2022-01-27T16:42:34.382Z"
   },
   {
    "duration": 9,
    "start_time": "2022-01-27T16:42:36.109Z"
   },
   {
    "duration": 46,
    "start_time": "2022-01-27T16:42:36.120Z"
   },
   {
    "duration": 8,
    "start_time": "2022-01-27T16:42:36.169Z"
   },
   {
    "duration": 6,
    "start_time": "2022-01-27T16:49:28.930Z"
   },
   {
    "duration": 369,
    "start_time": "2022-01-27T16:51:56.984Z"
   },
   {
    "duration": 558,
    "start_time": "2022-01-27T16:52:45.960Z"
   },
   {
    "duration": 11,
    "start_time": "2022-01-27T17:04:07.327Z"
   },
   {
    "duration": 660,
    "start_time": "2022-01-27T17:05:14.578Z"
   },
   {
    "duration": 362,
    "start_time": "2022-01-27T17:05:43.943Z"
   },
   {
    "duration": 688,
    "start_time": "2022-01-27T17:06:09.508Z"
   },
   {
    "duration": 708,
    "start_time": "2022-01-27T17:07:18.407Z"
   },
   {
    "duration": 573,
    "start_time": "2022-01-27T17:08:11.637Z"
   },
   {
    "duration": 28,
    "start_time": "2022-01-27T17:09:44.577Z"
   },
   {
    "duration": 1565,
    "start_time": "2022-01-27T17:09:54.938Z"
   },
   {
    "duration": 611,
    "start_time": "2022-01-27T17:10:58.911Z"
   },
   {
    "duration": 6,
    "start_time": "2022-01-27T17:11:56.306Z"
   },
   {
    "duration": 890,
    "start_time": "2022-01-27T17:12:20.425Z"
   },
   {
    "duration": 471,
    "start_time": "2022-01-27T17:20:07.283Z"
   },
   {
    "duration": 298,
    "start_time": "2022-01-27T17:26:23.653Z"
   },
   {
    "duration": 421,
    "start_time": "2022-01-27T17:26:31.395Z"
   },
   {
    "duration": 300,
    "start_time": "2022-01-27T17:26:43.076Z"
   },
   {
    "duration": 326,
    "start_time": "2022-01-27T17:26:47.689Z"
   },
   {
    "duration": 652,
    "start_time": "2022-01-27T17:30:36.611Z"
   },
   {
    "duration": 304,
    "start_time": "2022-01-27T17:33:56.371Z"
   },
   {
    "duration": 900,
    "start_time": "2022-01-27T17:45:35.158Z"
   },
   {
    "duration": 13,
    "start_time": "2022-01-27T17:45:36.061Z"
   },
   {
    "duration": 8,
    "start_time": "2022-01-27T17:45:36.077Z"
   },
   {
    "duration": 12,
    "start_time": "2022-01-27T17:45:36.088Z"
   },
   {
    "duration": 49,
    "start_time": "2022-01-27T17:45:36.102Z"
   },
   {
    "duration": 12,
    "start_time": "2022-01-27T17:45:36.153Z"
   },
   {
    "duration": 5,
    "start_time": "2022-01-27T17:45:36.167Z"
   },
   {
    "duration": 8,
    "start_time": "2022-01-27T17:45:36.176Z"
   },
   {
    "duration": 21,
    "start_time": "2022-01-27T17:45:36.187Z"
   },
   {
    "duration": 44,
    "start_time": "2022-01-27T17:45:36.211Z"
   },
   {
    "duration": 10,
    "start_time": "2022-01-27T17:45:36.257Z"
   },
   {
    "duration": 12,
    "start_time": "2022-01-27T17:45:36.269Z"
   },
   {
    "duration": 13,
    "start_time": "2022-01-27T17:45:36.284Z"
   },
   {
    "duration": 50,
    "start_time": "2022-01-27T17:45:36.299Z"
   },
   {
    "duration": 20,
    "start_time": "2022-01-27T17:45:36.352Z"
   },
   {
    "duration": 14,
    "start_time": "2022-01-27T17:45:36.375Z"
   },
   {
    "duration": 13,
    "start_time": "2022-01-27T17:45:36.392Z"
   },
   {
    "duration": 1047,
    "start_time": "2022-01-27T17:45:36.408Z"
   },
   {
    "duration": 546,
    "start_time": "2022-01-27T17:45:37.457Z"
   },
   {
    "duration": 219,
    "start_time": "2022-01-27T17:45:38.005Z"
   },
   {
    "duration": 30,
    "start_time": "2022-01-27T17:45:38.227Z"
   },
   {
    "duration": 404,
    "start_time": "2022-01-27T17:45:38.260Z"
   },
   {
    "duration": 516,
    "start_time": "2022-01-27T17:45:38.670Z"
   },
   {
    "duration": 242,
    "start_time": "2022-01-27T17:45:39.192Z"
   },
   {
    "duration": 22,
    "start_time": "2022-01-27T17:45:39.436Z"
   },
   {
    "duration": 416,
    "start_time": "2022-01-27T17:45:39.461Z"
   },
   {
    "duration": 330,
    "start_time": "2022-01-27T17:45:39.880Z"
   },
   {
    "duration": 238,
    "start_time": "2022-01-27T17:45:40.213Z"
   },
   {
    "duration": 329,
    "start_time": "2022-01-27T17:45:40.454Z"
   },
   {
    "duration": 316,
    "start_time": "2022-01-27T17:45:40.786Z"
   },
   {
    "duration": 12,
    "start_time": "2022-01-27T17:45:41.105Z"
   },
   {
    "duration": 321,
    "start_time": "2022-01-27T17:45:41.120Z"
   },
   {
    "duration": 416,
    "start_time": "2022-01-27T17:45:41.448Z"
   },
   {
    "duration": 237,
    "start_time": "2022-01-27T17:45:41.867Z"
   },
   {
    "duration": 13,
    "start_time": "2022-01-27T17:45:42.106Z"
   },
   {
    "duration": 431,
    "start_time": "2022-01-27T17:45:42.122Z"
   },
   {
    "duration": 13,
    "start_time": "2022-01-27T17:45:42.557Z"
   },
   {
    "duration": 618,
    "start_time": "2022-01-27T17:45:42.573Z"
   },
   {
    "duration": 7,
    "start_time": "2022-01-27T17:45:43.194Z"
   },
   {
    "duration": 609,
    "start_time": "2022-01-27T17:45:43.204Z"
   },
   {
    "duration": 6,
    "start_time": "2022-01-27T17:45:43.815Z"
   },
   {
    "duration": 516,
    "start_time": "2022-01-27T17:45:43.824Z"
   },
   {
    "duration": 615,
    "start_time": "2022-01-27T17:45:44.343Z"
   },
   {
    "duration": 7,
    "start_time": "2022-01-27T17:45:44.960Z"
   },
   {
    "duration": 633,
    "start_time": "2022-01-27T17:45:44.969Z"
   },
   {
    "duration": 6,
    "start_time": "2022-01-27T17:45:45.604Z"
   },
   {
    "duration": 713,
    "start_time": "2022-01-27T17:45:45.613Z"
   },
   {
    "duration": 6,
    "start_time": "2022-01-27T17:45:46.329Z"
   },
   {
    "duration": 894,
    "start_time": "2022-01-27T17:45:46.350Z"
   },
   {
    "duration": 7,
    "start_time": "2022-01-27T17:45:47.247Z"
   },
   {
    "duration": 673,
    "start_time": "2022-01-27T17:45:47.257Z"
   },
   {
    "duration": 17,
    "start_time": "2022-01-27T17:45:47.934Z"
   },
   {
    "duration": 33,
    "start_time": "2022-01-27T17:45:47.954Z"
   },
   {
    "duration": 1841,
    "start_time": "2022-01-27T17:45:47.990Z"
   },
   {
    "duration": 20,
    "start_time": "2022-01-27T17:45:49.833Z"
   },
   {
    "duration": 36,
    "start_time": "2022-01-27T17:45:49.855Z"
   },
   {
    "duration": 10,
    "start_time": "2022-01-27T17:45:49.893Z"
   },
   {
    "duration": 92,
    "start_time": "2022-01-27T17:45:49.906Z"
   },
   {
    "duration": -1393,
    "start_time": "2022-01-27T17:45:51.393Z"
   },
   {
    "duration": -1396,
    "start_time": "2022-01-27T17:45:51.398Z"
   },
   {
    "duration": -1398,
    "start_time": "2022-01-27T17:45:51.401Z"
   },
   {
    "duration": -1400,
    "start_time": "2022-01-27T17:45:51.405Z"
   },
   {
    "duration": -1403,
    "start_time": "2022-01-27T17:45:51.409Z"
   },
   {
    "duration": -1405,
    "start_time": "2022-01-27T17:45:51.412Z"
   },
   {
    "duration": -1407,
    "start_time": "2022-01-27T17:45:51.416Z"
   },
   {
    "duration": -1410,
    "start_time": "2022-01-27T17:45:51.420Z"
   },
   {
    "duration": -1413,
    "start_time": "2022-01-27T17:45:51.424Z"
   },
   {
    "duration": -1416,
    "start_time": "2022-01-27T17:45:51.428Z"
   },
   {
    "duration": -1436,
    "start_time": "2022-01-27T17:45:51.450Z"
   },
   {
    "duration": -1441,
    "start_time": "2022-01-27T17:45:51.456Z"
   },
   {
    "duration": 934,
    "start_time": "2022-01-27T17:46:56.116Z"
   },
   {
    "duration": 15,
    "start_time": "2022-01-27T17:46:57.054Z"
   },
   {
    "duration": 10,
    "start_time": "2022-01-27T17:46:57.073Z"
   },
   {
    "duration": 15,
    "start_time": "2022-01-27T17:46:57.087Z"
   },
   {
    "duration": 44,
    "start_time": "2022-01-27T17:46:57.105Z"
   },
   {
    "duration": 15,
    "start_time": "2022-01-27T17:46:57.152Z"
   },
   {
    "duration": 7,
    "start_time": "2022-01-27T17:46:57.170Z"
   },
   {
    "duration": 15,
    "start_time": "2022-01-27T17:46:57.184Z"
   },
   {
    "duration": 51,
    "start_time": "2022-01-27T17:46:57.203Z"
   },
   {
    "duration": 14,
    "start_time": "2022-01-27T17:46:57.257Z"
   },
   {
    "duration": 7,
    "start_time": "2022-01-27T17:46:57.274Z"
   },
   {
    "duration": 14,
    "start_time": "2022-01-27T17:46:57.284Z"
   },
   {
    "duration": 58,
    "start_time": "2022-01-27T17:46:57.301Z"
   },
   {
    "duration": 17,
    "start_time": "2022-01-27T17:46:57.362Z"
   },
   {
    "duration": 18,
    "start_time": "2022-01-27T17:46:57.382Z"
   },
   {
    "duration": 55,
    "start_time": "2022-01-27T17:46:57.403Z"
   },
   {
    "duration": 13,
    "start_time": "2022-01-27T17:46:57.460Z"
   },
   {
    "duration": 1047,
    "start_time": "2022-01-27T17:46:57.476Z"
   },
   {
    "duration": 565,
    "start_time": "2022-01-27T17:46:58.525Z"
   },
   {
    "duration": 228,
    "start_time": "2022-01-27T17:46:59.093Z"
   },
   {
    "duration": 29,
    "start_time": "2022-01-27T17:46:59.324Z"
   },
   {
    "duration": 427,
    "start_time": "2022-01-27T17:46:59.356Z"
   },
   {
    "duration": 417,
    "start_time": "2022-01-27T17:46:59.790Z"
   },
   {
    "duration": 274,
    "start_time": "2022-01-27T17:47:00.212Z"
   },
   {
    "duration": 14,
    "start_time": "2022-01-27T17:47:00.488Z"
   },
   {
    "duration": 425,
    "start_time": "2022-01-27T17:47:00.504Z"
   },
   {
    "duration": 332,
    "start_time": "2022-01-27T17:47:00.932Z"
   },
   {
    "duration": 243,
    "start_time": "2022-01-27T17:47:01.267Z"
   },
   {
    "duration": 373,
    "start_time": "2022-01-27T17:47:01.513Z"
   },
   {
    "duration": 326,
    "start_time": "2022-01-27T17:47:01.890Z"
   },
   {
    "duration": 13,
    "start_time": "2022-01-27T17:47:02.219Z"
   },
   {
    "duration": 333,
    "start_time": "2022-01-27T17:47:02.235Z"
   },
   {
    "duration": 458,
    "start_time": "2022-01-27T17:47:02.571Z"
   },
   {
    "duration": 246,
    "start_time": "2022-01-27T17:47:03.032Z"
   },
   {
    "duration": 12,
    "start_time": "2022-01-27T17:47:03.281Z"
   },
   {
    "duration": 425,
    "start_time": "2022-01-27T17:47:03.296Z"
   },
   {
    "duration": 27,
    "start_time": "2022-01-27T17:47:03.724Z"
   },
   {
    "duration": 631,
    "start_time": "2022-01-27T17:47:03.753Z"
   },
   {
    "duration": 7,
    "start_time": "2022-01-27T17:47:04.388Z"
   },
   {
    "duration": 623,
    "start_time": "2022-01-27T17:47:04.398Z"
   },
   {
    "duration": 5,
    "start_time": "2022-01-27T17:47:05.024Z"
   },
   {
    "duration": 551,
    "start_time": "2022-01-27T17:47:05.032Z"
   },
   {
    "duration": 621,
    "start_time": "2022-01-27T17:47:05.586Z"
   },
   {
    "duration": 6,
    "start_time": "2022-01-27T17:47:06.210Z"
   },
   {
    "duration": 577,
    "start_time": "2022-01-27T17:47:06.218Z"
   },
   {
    "duration": 6,
    "start_time": "2022-01-27T17:47:06.797Z"
   },
   {
    "duration": 703,
    "start_time": "2022-01-27T17:47:06.806Z"
   },
   {
    "duration": 8,
    "start_time": "2022-01-27T17:47:07.512Z"
   },
   {
    "duration": 632,
    "start_time": "2022-01-27T17:47:07.523Z"
   },
   {
    "duration": 7,
    "start_time": "2022-01-27T17:47:08.157Z"
   },
   {
    "duration": 670,
    "start_time": "2022-01-27T17:47:08.167Z"
   },
   {
    "duration": 6,
    "start_time": "2022-01-27T17:47:08.848Z"
   },
   {
    "duration": 28,
    "start_time": "2022-01-27T17:47:08.857Z"
   },
   {
    "duration": 1704,
    "start_time": "2022-01-27T17:47:08.888Z"
   },
   {
    "duration": 9,
    "start_time": "2022-01-27T17:47:10.595Z"
   },
   {
    "duration": 47,
    "start_time": "2022-01-27T17:47:10.607Z"
   },
   {
    "duration": 10,
    "start_time": "2022-01-27T17:47:10.656Z"
   },
   {
    "duration": 8,
    "start_time": "2022-01-27T17:47:10.670Z"
   },
   {
    "duration": 395,
    "start_time": "2022-01-27T17:47:10.681Z"
   },
   {
    "duration": 591,
    "start_time": "2022-01-27T17:47:11.079Z"
   },
   {
    "duration": 616,
    "start_time": "2022-01-27T17:47:11.674Z"
   },
   {
    "duration": 27,
    "start_time": "2022-01-27T17:47:12.293Z"
   },
   {
    "duration": 1689,
    "start_time": "2022-01-27T17:47:12.323Z"
   },
   {
    "duration": 594,
    "start_time": "2022-01-27T17:47:14.014Z"
   },
   {
    "duration": 6,
    "start_time": "2022-01-27T17:47:14.611Z"
   },
   {
    "duration": 518,
    "start_time": "2022-01-27T17:47:14.620Z"
   },
   {
    "duration": 335,
    "start_time": "2022-01-27T17:47:15.141Z"
   },
   {
    "duration": 578,
    "start_time": "2022-01-27T17:47:15.484Z"
   },
   {
    "duration": 328,
    "start_time": "2022-01-27T17:47:16.065Z"
   },
   {
    "duration": 722,
    "start_time": "2022-02-05T08:27:11.206Z"
   },
   {
    "duration": 130,
    "start_time": "2022-02-05T08:28:50.972Z"
   },
   {
    "duration": 10,
    "start_time": "2022-02-05T08:29:42.437Z"
   },
   {
    "duration": 6,
    "start_time": "2022-02-05T08:29:49.507Z"
   },
   {
    "duration": 9,
    "start_time": "2022-02-05T08:30:21.664Z"
   },
   {
    "duration": 7,
    "start_time": "2022-02-05T08:30:27.265Z"
   },
   {
    "duration": 9,
    "start_time": "2022-02-05T08:30:28.008Z"
   },
   {
    "duration": 4,
    "start_time": "2022-02-05T08:30:45.682Z"
   },
   {
    "duration": 18,
    "start_time": "2022-02-05T08:32:33.182Z"
   },
   {
    "duration": 6,
    "start_time": "2022-02-05T08:35:54.426Z"
   },
   {
    "duration": 13,
    "start_time": "2022-02-05T08:40:00.164Z"
   },
   {
    "duration": 9,
    "start_time": "2022-02-05T08:40:19.464Z"
   },
   {
    "duration": 5,
    "start_time": "2022-02-05T08:41:07.885Z"
   },
   {
    "duration": 11,
    "start_time": "2022-02-05T08:41:10.264Z"
   },
   {
    "duration": 11,
    "start_time": "2022-02-05T08:41:15.267Z"
   },
   {
    "duration": 89,
    "start_time": "2022-02-05T08:42:02.345Z"
   },
   {
    "duration": 12,
    "start_time": "2022-02-05T08:42:20.255Z"
   },
   {
    "duration": 11,
    "start_time": "2022-02-05T08:42:42.307Z"
   },
   {
    "duration": 10,
    "start_time": "2022-02-05T08:42:49.436Z"
   },
   {
    "duration": 10,
    "start_time": "2022-02-05T08:43:02.677Z"
   },
   {
    "duration": 22,
    "start_time": "2022-02-05T08:44:02.535Z"
   },
   {
    "duration": 573,
    "start_time": "2022-02-05T08:57:07.080Z"
   },
   {
    "duration": 361,
    "start_time": "2022-02-05T08:58:16.660Z"
   },
   {
    "duration": 144,
    "start_time": "2022-02-05T08:58:17.397Z"
   },
   {
    "duration": 12,
    "start_time": "2022-02-05T08:58:19.670Z"
   },
   {
    "duration": 262,
    "start_time": "2022-02-05T08:58:20.918Z"
   },
   {
    "duration": 261,
    "start_time": "2022-02-05T08:58:25.920Z"
   },
   {
    "duration": 147,
    "start_time": "2022-02-05T08:58:34.800Z"
   },
   {
    "duration": 10,
    "start_time": "2022-02-05T08:58:40.440Z"
   },
   {
    "duration": 260,
    "start_time": "2022-02-05T08:58:45.360Z"
   },
   {
    "duration": 201,
    "start_time": "2022-02-05T08:58:55.098Z"
   },
   {
    "duration": 141,
    "start_time": "2022-02-05T08:58:58.560Z"
   },
   {
    "duration": 207,
    "start_time": "2022-02-05T08:59:19.660Z"
   },
   {
    "duration": 205,
    "start_time": "2022-02-05T08:59:31.700Z"
   },
   {
    "duration": 9,
    "start_time": "2022-02-05T08:59:32.860Z"
   },
   {
    "duration": 204,
    "start_time": "2022-02-05T09:02:27.301Z"
   },
   {
    "duration": 144,
    "start_time": "2022-02-05T09:05:59.287Z"
   },
   {
    "duration": 9,
    "start_time": "2022-02-05T09:06:01.730Z"
   },
   {
    "duration": 271,
    "start_time": "2022-02-05T09:07:01.120Z"
   },
   {
    "duration": 8,
    "start_time": "2022-02-05T09:07:02.270Z"
   },
   {
    "duration": 459,
    "start_time": "2022-02-05T09:08:59.360Z"
   },
   {
    "duration": 5,
    "start_time": "2022-02-05T09:09:24.770Z"
   },
   {
    "duration": 452,
    "start_time": "2022-02-05T09:09:27.470Z"
   },
   {
    "duration": 5,
    "start_time": "2022-02-05T09:09:32.300Z"
   },
   {
    "duration": 332,
    "start_time": "2022-02-05T09:09:58.670Z"
   },
   {
    "duration": 478,
    "start_time": "2022-02-05T09:10:16.871Z"
   },
   {
    "duration": 5,
    "start_time": "2022-02-05T09:10:18.441Z"
   },
   {
    "duration": 417,
    "start_time": "2022-02-05T09:11:37.117Z"
   },
   {
    "duration": 4,
    "start_time": "2022-02-05T09:11:38.481Z"
   },
   {
    "duration": 189,
    "start_time": "2022-02-05T09:19:23.950Z"
   },
   {
    "duration": 184,
    "start_time": "2022-02-05T09:19:52.437Z"
   },
   {
    "duration": 8,
    "start_time": "2022-02-05T09:34:48.670Z"
   },
   {
    "duration": 15,
    "start_time": "2022-02-05T09:34:52.114Z"
   },
   {
    "duration": 88,
    "start_time": "2022-02-05T09:43:58.052Z"
   },
   {
    "duration": 5,
    "start_time": "2022-02-05T09:46:14.329Z"
   },
   {
    "duration": 303,
    "start_time": "2022-02-05T09:46:15.338Z"
   },
   {
    "duration": 300,
    "start_time": "2022-02-05T09:49:47.659Z"
   },
   {
    "duration": 915,
    "start_time": "2022-02-05T12:41:47.203Z"
   },
   {
    "duration": 13,
    "start_time": "2022-02-05T12:41:48.121Z"
   },
   {
    "duration": 6,
    "start_time": "2022-02-05T12:41:48.137Z"
   },
   {
    "duration": 11,
    "start_time": "2022-02-05T12:41:48.170Z"
   },
   {
    "duration": 6,
    "start_time": "2022-02-05T12:41:48.184Z"
   },
   {
    "duration": 11,
    "start_time": "2022-02-05T12:41:48.193Z"
   },
   {
    "duration": 6,
    "start_time": "2022-02-05T12:41:48.206Z"
   },
   {
    "duration": 69,
    "start_time": "2022-02-05T12:41:48.215Z"
   },
   {
    "duration": 7,
    "start_time": "2022-02-05T12:41:48.287Z"
   },
   {
    "duration": 15,
    "start_time": "2022-02-05T12:41:48.296Z"
   },
   {
    "duration": 10,
    "start_time": "2022-02-05T12:41:48.313Z"
   },
   {
    "duration": 46,
    "start_time": "2022-02-05T12:41:48.325Z"
   },
   {
    "duration": 12,
    "start_time": "2022-02-05T12:41:48.373Z"
   },
   {
    "duration": 14,
    "start_time": "2022-02-05T12:41:48.388Z"
   },
   {
    "duration": 15,
    "start_time": "2022-02-05T12:41:48.404Z"
   },
   {
    "duration": 17,
    "start_time": "2022-02-05T12:41:48.421Z"
   },
   {
    "duration": 14,
    "start_time": "2022-02-05T12:41:48.470Z"
   },
   {
    "duration": 13,
    "start_time": "2022-02-05T12:41:48.486Z"
   },
   {
    "duration": 1032,
    "start_time": "2022-02-05T12:41:48.501Z"
   },
   {
    "duration": 567,
    "start_time": "2022-02-05T12:41:49.535Z"
   },
   {
    "duration": 238,
    "start_time": "2022-02-05T12:41:50.104Z"
   },
   {
    "duration": 14,
    "start_time": "2022-02-05T12:41:50.345Z"
   },
   {
    "duration": 428,
    "start_time": "2022-02-05T12:41:50.377Z"
   },
   {
    "duration": 463,
    "start_time": "2022-02-05T12:41:50.809Z"
   },
   {
    "duration": 260,
    "start_time": "2022-02-05T12:41:51.275Z"
   },
   {
    "duration": 13,
    "start_time": "2022-02-05T12:41:51.538Z"
   },
   {
    "duration": 430,
    "start_time": "2022-02-05T12:41:51.553Z"
   },
   {
    "duration": 339,
    "start_time": "2022-02-05T12:41:51.986Z"
   },
   {
    "duration": 244,
    "start_time": "2022-02-05T12:41:52.327Z"
   },
   {
    "duration": 351,
    "start_time": "2022-02-05T12:41:52.574Z"
   },
   {
    "duration": 317,
    "start_time": "2022-02-05T12:41:52.928Z"
   },
   {
    "duration": 13,
    "start_time": "2022-02-05T12:41:53.248Z"
   },
   {
    "duration": 323,
    "start_time": "2022-02-05T12:41:53.269Z"
   },
   {
    "duration": 442,
    "start_time": "2022-02-05T12:41:53.594Z"
   },
   {
    "duration": 243,
    "start_time": "2022-02-05T12:41:54.038Z"
   },
   {
    "duration": 12,
    "start_time": "2022-02-05T12:41:54.283Z"
   },
   {
    "duration": 551,
    "start_time": "2022-02-05T12:41:54.298Z"
   },
   {
    "duration": 19,
    "start_time": "2022-02-05T12:41:54.851Z"
   },
   {
    "duration": 611,
    "start_time": "2022-02-05T12:41:54.873Z"
   },
   {
    "duration": 6,
    "start_time": "2022-02-05T12:41:55.486Z"
   },
   {
    "duration": 682,
    "start_time": "2022-02-05T12:41:55.494Z"
   },
   {
    "duration": 5,
    "start_time": "2022-02-05T12:41:56.178Z"
   },
   {
    "duration": 539,
    "start_time": "2022-02-05T12:41:56.186Z"
   },
   {
    "duration": 625,
    "start_time": "2022-02-05T12:41:56.727Z"
   },
   {
    "duration": 5,
    "start_time": "2022-02-05T12:41:57.355Z"
   },
   {
    "duration": 724,
    "start_time": "2022-02-05T12:41:57.362Z"
   },
   {
    "duration": 6,
    "start_time": "2022-02-05T12:41:58.088Z"
   },
   {
    "duration": 639,
    "start_time": "2022-02-05T12:41:58.096Z"
   },
   {
    "duration": 5,
    "start_time": "2022-02-05T12:41:58.738Z"
   },
   {
    "duration": 670,
    "start_time": "2022-02-05T12:41:58.745Z"
   },
   {
    "duration": 5,
    "start_time": "2022-02-05T12:41:59.417Z"
   },
   {
    "duration": 620,
    "start_time": "2022-02-05T12:41:59.424Z"
   },
   {
    "duration": 6,
    "start_time": "2022-02-05T12:42:00.046Z"
   },
   {
    "duration": 40,
    "start_time": "2022-02-05T12:42:00.054Z"
   },
   {
    "duration": 1821,
    "start_time": "2022-02-05T12:42:00.097Z"
   },
   {
    "duration": 290,
    "start_time": "2022-02-05T12:42:01.921Z"
   },
   {
    "duration": 10,
    "start_time": "2022-02-05T12:42:02.214Z"
   },
   {
    "duration": 45,
    "start_time": "2022-02-05T12:42:02.226Z"
   },
   {
    "duration": 10,
    "start_time": "2022-02-05T12:42:02.273Z"
   },
   {
    "duration": 7,
    "start_time": "2022-02-05T12:42:02.285Z"
   },
   {
    "duration": 394,
    "start_time": "2022-02-05T12:42:02.295Z"
   },
   {
    "duration": 616,
    "start_time": "2022-02-05T12:42:02.691Z"
   },
   {
    "duration": 600,
    "start_time": "2022-02-05T12:42:03.309Z"
   },
   {
    "duration": 25,
    "start_time": "2022-02-05T12:42:03.911Z"
   },
   {
    "duration": 1817,
    "start_time": "2022-02-05T12:42:03.939Z"
   },
   {
    "duration": 580,
    "start_time": "2022-02-05T12:42:05.759Z"
   },
   {
    "duration": 6,
    "start_time": "2022-02-05T12:42:06.341Z"
   },
   {
    "duration": 411,
    "start_time": "2022-02-05T12:42:06.371Z"
   },
   {
    "duration": 339,
    "start_time": "2022-02-05T12:42:06.785Z"
   },
   {
    "duration": 565,
    "start_time": "2022-02-05T12:42:07.126Z"
   },
   {
    "duration": 306,
    "start_time": "2022-02-05T12:42:07.693Z"
   },
   {
    "duration": 7970,
    "start_time": "2022-02-05T12:59:37.078Z"
   },
   {
    "duration": 985,
    "start_time": "2022-02-05T13:00:05.898Z"
   },
   {
    "duration": 14,
    "start_time": "2022-02-05T13:00:06.886Z"
   },
   {
    "duration": 7,
    "start_time": "2022-02-05T13:00:06.903Z"
   },
   {
    "duration": 12,
    "start_time": "2022-02-05T13:00:06.912Z"
   },
   {
    "duration": 48,
    "start_time": "2022-02-05T13:00:06.927Z"
   },
   {
    "duration": 13,
    "start_time": "2022-02-05T13:00:06.978Z"
   },
   {
    "duration": 7,
    "start_time": "2022-02-05T13:00:06.993Z"
   },
   {
    "duration": 78,
    "start_time": "2022-02-05T13:00:07.004Z"
   },
   {
    "duration": 10,
    "start_time": "2022-02-05T13:00:07.086Z"
   },
   {
    "duration": 475,
    "start_time": "2022-02-05T13:00:07.099Z"
   },
   {
    "duration": -72,
    "start_time": "2022-02-05T13:00:07.651Z"
   },
   {
    "duration": -77,
    "start_time": "2022-02-05T13:00:07.658Z"
   },
   {
    "duration": -82,
    "start_time": "2022-02-05T13:00:07.664Z"
   },
   {
    "duration": -87,
    "start_time": "2022-02-05T13:00:07.671Z"
   },
   {
    "duration": -101,
    "start_time": "2022-02-05T13:00:07.686Z"
   },
   {
    "duration": -105,
    "start_time": "2022-02-05T13:00:07.691Z"
   },
   {
    "duration": -108,
    "start_time": "2022-02-05T13:00:07.696Z"
   },
   {
    "duration": -112,
    "start_time": "2022-02-05T13:00:07.702Z"
   },
   {
    "duration": -116,
    "start_time": "2022-02-05T13:00:07.707Z"
   },
   {
    "duration": -120,
    "start_time": "2022-02-05T13:00:07.713Z"
   },
   {
    "duration": -124,
    "start_time": "2022-02-05T13:00:07.718Z"
   },
   {
    "duration": -129,
    "start_time": "2022-02-05T13:00:07.724Z"
   },
   {
    "duration": -131,
    "start_time": "2022-02-05T13:00:07.728Z"
   },
   {
    "duration": -136,
    "start_time": "2022-02-05T13:00:07.734Z"
   },
   {
    "duration": -139,
    "start_time": "2022-02-05T13:00:07.739Z"
   },
   {
    "duration": -143,
    "start_time": "2022-02-05T13:00:07.744Z"
   },
   {
    "duration": -145,
    "start_time": "2022-02-05T13:00:07.748Z"
   },
   {
    "duration": -148,
    "start_time": "2022-02-05T13:00:07.752Z"
   },
   {
    "duration": -152,
    "start_time": "2022-02-05T13:00:07.757Z"
   },
   {
    "duration": -155,
    "start_time": "2022-02-05T13:00:07.762Z"
   },
   {
    "duration": -157,
    "start_time": "2022-02-05T13:00:07.766Z"
   },
   {
    "duration": -163,
    "start_time": "2022-02-05T13:00:07.773Z"
   },
   {
    "duration": -167,
    "start_time": "2022-02-05T13:00:07.778Z"
   },
   {
    "duration": -182,
    "start_time": "2022-02-05T13:00:07.795Z"
   },
   {
    "duration": -186,
    "start_time": "2022-02-05T13:00:07.800Z"
   },
   {
    "duration": -190,
    "start_time": "2022-02-05T13:00:07.806Z"
   },
   {
    "duration": -141,
    "start_time": "2022-02-05T13:00:07.810Z"
   },
   {
    "duration": -145,
    "start_time": "2022-02-05T13:00:07.816Z"
   },
   {
    "duration": -148,
    "start_time": "2022-02-05T13:00:07.821Z"
   },
   {
    "duration": -152,
    "start_time": "2022-02-05T13:00:07.826Z"
   },
   {
    "duration": -155,
    "start_time": "2022-02-05T13:00:07.831Z"
   },
   {
    "duration": -159,
    "start_time": "2022-02-05T13:00:07.836Z"
   },
   {
    "duration": -163,
    "start_time": "2022-02-05T13:00:07.841Z"
   },
   {
    "duration": -166,
    "start_time": "2022-02-05T13:00:07.846Z"
   },
   {
    "duration": -169,
    "start_time": "2022-02-05T13:00:07.850Z"
   },
   {
    "duration": -173,
    "start_time": "2022-02-05T13:00:07.855Z"
   },
   {
    "duration": -178,
    "start_time": "2022-02-05T13:00:07.861Z"
   },
   {
    "duration": -183,
    "start_time": "2022-02-05T13:00:07.868Z"
   },
   {
    "duration": -249,
    "start_time": "2022-02-05T13:00:07.935Z"
   },
   {
    "duration": -269,
    "start_time": "2022-02-05T13:00:07.956Z"
   },
   {
    "duration": -287,
    "start_time": "2022-02-05T13:00:07.975Z"
   },
   {
    "duration": -319,
    "start_time": "2022-02-05T13:00:08.008Z"
   },
   {
    "duration": -322,
    "start_time": "2022-02-05T13:00:08.013Z"
   },
   {
    "duration": -334,
    "start_time": "2022-02-05T13:00:08.026Z"
   },
   {
    "duration": -338,
    "start_time": "2022-02-05T13:00:08.031Z"
   },
   {
    "duration": -342,
    "start_time": "2022-02-05T13:00:08.036Z"
   },
   {
    "duration": -344,
    "start_time": "2022-02-05T13:00:08.040Z"
   },
   {
    "duration": -347,
    "start_time": "2022-02-05T13:00:08.044Z"
   },
   {
    "duration": -351,
    "start_time": "2022-02-05T13:00:08.049Z"
   },
   {
    "duration": -355,
    "start_time": "2022-02-05T13:00:08.054Z"
   },
   {
    "duration": -359,
    "start_time": "2022-02-05T13:00:08.059Z"
   },
   {
    "duration": -361,
    "start_time": "2022-02-05T13:00:08.063Z"
   },
   {
    "duration": -365,
    "start_time": "2022-02-05T13:00:08.068Z"
   },
   {
    "duration": -368,
    "start_time": "2022-02-05T13:00:08.072Z"
   },
   {
    "duration": -370,
    "start_time": "2022-02-05T13:00:08.076Z"
   },
   {
    "duration": -374,
    "start_time": "2022-02-05T13:00:08.081Z"
   },
   {
    "duration": -377,
    "start_time": "2022-02-05T13:00:08.085Z"
   },
   {
    "duration": -325,
    "start_time": "2022-02-05T13:00:08.094Z"
   },
   {
    "duration": -327,
    "start_time": "2022-02-05T13:00:08.098Z"
   },
   {
    "duration": -334,
    "start_time": "2022-02-05T13:00:08.106Z"
   },
   {
    "duration": -337,
    "start_time": "2022-02-05T13:00:08.110Z"
   },
   {
    "duration": 932,
    "start_time": "2022-02-05T13:01:43.195Z"
   },
   {
    "duration": 12,
    "start_time": "2022-02-05T13:01:44.130Z"
   },
   {
    "duration": 24,
    "start_time": "2022-02-05T13:01:44.145Z"
   },
   {
    "duration": 12,
    "start_time": "2022-02-05T13:01:44.173Z"
   },
   {
    "duration": 7,
    "start_time": "2022-02-05T13:01:44.188Z"
   },
   {
    "duration": 11,
    "start_time": "2022-02-05T13:01:44.198Z"
   },
   {
    "duration": 5,
    "start_time": "2022-02-05T13:01:44.212Z"
   },
   {
    "duration": 73,
    "start_time": "2022-02-05T13:01:44.221Z"
   },
   {
    "duration": 8,
    "start_time": "2022-02-05T13:01:44.297Z"
   },
   {
    "duration": 9,
    "start_time": "2022-02-05T13:01:44.308Z"
   },
   {
    "duration": 14,
    "start_time": "2022-02-05T13:01:44.319Z"
   },
   {
    "duration": 40,
    "start_time": "2022-02-05T13:01:44.335Z"
   },
   {
    "duration": 16,
    "start_time": "2022-02-05T13:01:44.378Z"
   },
   {
    "duration": 15,
    "start_time": "2022-02-05T13:01:44.396Z"
   },
   {
    "duration": 55,
    "start_time": "2022-02-05T13:01:44.414Z"
   },
   {
    "duration": 23,
    "start_time": "2022-02-05T13:01:44.472Z"
   },
   {
    "duration": 16,
    "start_time": "2022-02-05T13:01:44.498Z"
   },
   {
    "duration": 19,
    "start_time": "2022-02-05T13:01:44.517Z"
   },
   {
    "duration": 1073,
    "start_time": "2022-02-05T13:01:44.539Z"
   },
   {
    "duration": 589,
    "start_time": "2022-02-05T13:01:45.615Z"
   },
   {
    "duration": 233,
    "start_time": "2022-02-05T13:01:46.206Z"
   },
   {
    "duration": 28,
    "start_time": "2022-02-05T13:01:46.441Z"
   },
   {
    "duration": 434,
    "start_time": "2022-02-05T13:01:46.477Z"
   },
   {
    "duration": 428,
    "start_time": "2022-02-05T13:01:46.917Z"
   },
   {
    "duration": 249,
    "start_time": "2022-02-05T13:01:47.348Z"
   },
   {
    "duration": 11,
    "start_time": "2022-02-05T13:01:47.600Z"
   },
   {
    "duration": 433,
    "start_time": "2022-02-05T13:01:47.614Z"
   },
   {
    "duration": 333,
    "start_time": "2022-02-05T13:01:48.050Z"
   },
   {
    "duration": 257,
    "start_time": "2022-02-05T13:01:48.385Z"
   },
   {
    "duration": 356,
    "start_time": "2022-02-05T13:01:48.645Z"
   },
   {
    "duration": 318,
    "start_time": "2022-02-05T13:01:49.004Z"
   },
   {
    "duration": 12,
    "start_time": "2022-02-05T13:01:49.325Z"
   },
   {
    "duration": 339,
    "start_time": "2022-02-05T13:01:49.339Z"
   },
   {
    "duration": 454,
    "start_time": "2022-02-05T13:01:49.680Z"
   },
   {
    "duration": 239,
    "start_time": "2022-02-05T13:01:50.137Z"
   },
   {
    "duration": 12,
    "start_time": "2022-02-05T13:01:50.378Z"
   },
   {
    "duration": 451,
    "start_time": "2022-02-05T13:01:50.393Z"
   },
   {
    "duration": 10,
    "start_time": "2022-02-05T13:01:50.846Z"
   },
   {
    "duration": 634,
    "start_time": "2022-02-05T13:01:50.870Z"
   },
   {
    "duration": 6,
    "start_time": "2022-02-05T13:01:51.507Z"
   },
   {
    "duration": 732,
    "start_time": "2022-02-05T13:01:51.516Z"
   },
   {
    "duration": 7,
    "start_time": "2022-02-05T13:01:52.250Z"
   },
   {
    "duration": 526,
    "start_time": "2022-02-05T13:01:52.270Z"
   },
   {
    "duration": 614,
    "start_time": "2022-02-05T13:01:52.798Z"
   },
   {
    "duration": 6,
    "start_time": "2022-02-05T13:01:53.415Z"
   },
   {
    "duration": 733,
    "start_time": "2022-02-05T13:01:53.423Z"
   },
   {
    "duration": 13,
    "start_time": "2022-02-05T13:01:54.159Z"
   },
   {
    "duration": 621,
    "start_time": "2022-02-05T13:01:54.175Z"
   },
   {
    "duration": 5,
    "start_time": "2022-02-05T13:01:54.798Z"
   },
   {
    "duration": 730,
    "start_time": "2022-02-05T13:01:54.806Z"
   },
   {
    "duration": 9,
    "start_time": "2022-02-05T13:01:55.538Z"
   },
   {
    "duration": 746,
    "start_time": "2022-02-05T13:01:55.550Z"
   },
   {
    "duration": 9,
    "start_time": "2022-02-05T13:01:56.299Z"
   },
   {
    "duration": 58,
    "start_time": "2022-02-05T13:01:56.311Z"
   },
   {
    "duration": 1617,
    "start_time": "2022-02-05T13:01:56.371Z"
   },
   {
    "duration": 292,
    "start_time": "2022-02-05T13:01:57.990Z"
   },
   {
    "duration": 9,
    "start_time": "2022-02-05T13:01:58.284Z"
   },
   {
    "duration": 28,
    "start_time": "2022-02-05T13:01:58.296Z"
   },
   {
    "duration": 10,
    "start_time": "2022-02-05T13:01:58.326Z"
   },
   {
    "duration": 460,
    "start_time": "2022-02-05T13:01:58.369Z"
   },
   {
    "duration": -32,
    "start_time": "2022-02-05T13:01:58.863Z"
   },
   {
    "duration": -35,
    "start_time": "2022-02-05T13:01:58.868Z"
   },
   {
    "duration": -39,
    "start_time": "2022-02-05T13:01:58.873Z"
   },
   {
    "duration": -43,
    "start_time": "2022-02-05T13:01:58.878Z"
   },
   {
    "duration": -46,
    "start_time": "2022-02-05T13:01:58.883Z"
   },
   {
    "duration": -50,
    "start_time": "2022-02-05T13:01:58.888Z"
   },
   {
    "duration": -57,
    "start_time": "2022-02-05T13:01:58.897Z"
   },
   {
    "duration": -60,
    "start_time": "2022-02-05T13:01:58.902Z"
   },
   {
    "duration": -81,
    "start_time": "2022-02-05T13:01:58.924Z"
   },
   {
    "duration": -86,
    "start_time": "2022-02-05T13:01:58.930Z"
   },
   {
    "duration": -89,
    "start_time": "2022-02-05T13:01:58.935Z"
   },
   {
    "duration": 8451,
    "start_time": "2022-02-05T13:02:34.098Z"
   },
   {
    "duration": 300,
    "start_time": "2022-02-05T13:03:07.048Z"
   },
   {
    "duration": 7,
    "start_time": "2022-02-05T13:03:30.915Z"
   },
   {
    "duration": 297,
    "start_time": "2022-02-05T13:04:29.695Z"
   },
   {
    "duration": 319,
    "start_time": "2022-02-05T13:04:54.020Z"
   },
   {
    "duration": 18,
    "start_time": "2022-02-05T13:05:10.978Z"
   },
   {
    "duration": 923,
    "start_time": "2022-02-05T13:12:50.878Z"
   },
   {
    "duration": 14,
    "start_time": "2022-02-05T13:12:51.804Z"
   },
   {
    "duration": 7,
    "start_time": "2022-02-05T13:12:51.822Z"
   },
   {
    "duration": 48,
    "start_time": "2022-02-05T13:12:51.833Z"
   },
   {
    "duration": 11,
    "start_time": "2022-02-05T13:12:51.883Z"
   },
   {
    "duration": 12,
    "start_time": "2022-02-05T13:12:51.896Z"
   },
   {
    "duration": 5,
    "start_time": "2022-02-05T13:12:51.910Z"
   },
   {
    "duration": 75,
    "start_time": "2022-02-05T13:12:51.919Z"
   },
   {
    "duration": 9,
    "start_time": "2022-02-05T13:12:51.996Z"
   },
   {
    "duration": 10,
    "start_time": "2022-02-05T13:12:52.007Z"
   },
   {
    "duration": 11,
    "start_time": "2022-02-05T13:12:52.020Z"
   },
   {
    "duration": 44,
    "start_time": "2022-02-05T13:12:52.033Z"
   },
   {
    "duration": 14,
    "start_time": "2022-02-05T13:12:52.079Z"
   },
   {
    "duration": 15,
    "start_time": "2022-02-05T13:12:52.096Z"
   },
   {
    "duration": 19,
    "start_time": "2022-02-05T13:12:52.114Z"
   },
   {
    "duration": 39,
    "start_time": "2022-02-05T13:12:52.135Z"
   },
   {
    "duration": 13,
    "start_time": "2022-02-05T13:12:52.176Z"
   },
   {
    "duration": 1056,
    "start_time": "2022-02-05T13:12:52.192Z"
   },
   {
    "duration": 585,
    "start_time": "2022-02-05T13:12:53.251Z"
   },
   {
    "duration": 237,
    "start_time": "2022-02-05T13:12:53.839Z"
   },
   {
    "duration": 13,
    "start_time": "2022-02-05T13:12:54.078Z"
   },
   {
    "duration": 443,
    "start_time": "2022-02-05T13:12:54.094Z"
   },
   {
    "duration": 426,
    "start_time": "2022-02-05T13:12:54.543Z"
   },
   {
    "duration": 248,
    "start_time": "2022-02-05T13:12:54.973Z"
   },
   {
    "duration": 11,
    "start_time": "2022-02-05T13:12:55.223Z"
   },
   {
    "duration": 440,
    "start_time": "2022-02-05T13:12:55.237Z"
   },
   {
    "duration": 335,
    "start_time": "2022-02-05T13:12:55.679Z"
   },
   {
    "duration": 243,
    "start_time": "2022-02-05T13:12:56.017Z"
   },
   {
    "duration": 347,
    "start_time": "2022-02-05T13:12:56.262Z"
   },
   {
    "duration": 314,
    "start_time": "2022-02-05T13:12:56.612Z"
   },
   {
    "duration": 12,
    "start_time": "2022-02-05T13:12:56.928Z"
   },
   {
    "duration": 345,
    "start_time": "2022-02-05T13:12:56.943Z"
   },
   {
    "duration": 440,
    "start_time": "2022-02-05T13:12:57.290Z"
   },
   {
    "duration": 241,
    "start_time": "2022-02-05T13:12:57.733Z"
   },
   {
    "duration": 12,
    "start_time": "2022-02-05T13:12:57.977Z"
   },
   {
    "duration": 434,
    "start_time": "2022-02-05T13:12:57.991Z"
   },
   {
    "duration": 10,
    "start_time": "2022-02-05T13:12:58.428Z"
   },
   {
    "duration": 610,
    "start_time": "2022-02-05T13:12:58.440Z"
   },
   {
    "duration": 6,
    "start_time": "2022-02-05T13:12:59.053Z"
   },
   {
    "duration": 638,
    "start_time": "2022-02-05T13:12:59.070Z"
   },
   {
    "duration": 6,
    "start_time": "2022-02-05T13:12:59.710Z"
   },
   {
    "duration": 549,
    "start_time": "2022-02-05T13:12:59.718Z"
   },
   {
    "duration": 589,
    "start_time": "2022-02-05T13:13:00.270Z"
   },
   {
    "duration": 11,
    "start_time": "2022-02-05T13:13:00.861Z"
   },
   {
    "duration": 653,
    "start_time": "2022-02-05T13:13:00.874Z"
   },
   {
    "duration": 6,
    "start_time": "2022-02-05T13:13:01.530Z"
   },
   {
    "duration": 594,
    "start_time": "2022-02-05T13:13:01.538Z"
   },
   {
    "duration": 6,
    "start_time": "2022-02-05T13:13:02.134Z"
   },
   {
    "duration": 691,
    "start_time": "2022-02-05T13:13:02.143Z"
   },
   {
    "duration": 7,
    "start_time": "2022-02-05T13:13:02.837Z"
   },
   {
    "duration": 679,
    "start_time": "2022-02-05T13:13:02.847Z"
   },
   {
    "duration": 6,
    "start_time": "2022-02-05T13:13:03.529Z"
   },
   {
    "duration": 47,
    "start_time": "2022-02-05T13:13:03.538Z"
   },
   {
    "duration": 1795,
    "start_time": "2022-02-05T13:13:03.588Z"
   },
   {
    "duration": 295,
    "start_time": "2022-02-05T13:13:05.386Z"
   },
   {
    "duration": 10,
    "start_time": "2022-02-05T13:13:05.684Z"
   },
   {
    "duration": 26,
    "start_time": "2022-02-05T13:13:05.697Z"
   },
   {
    "duration": 43,
    "start_time": "2022-02-05T13:13:05.726Z"
   },
   {
    "duration": 456,
    "start_time": "2022-02-05T13:13:05.773Z"
   },
   {
    "duration": -18,
    "start_time": "2022-02-05T13:13:06.251Z"
   },
   {
    "duration": -20,
    "start_time": "2022-02-05T13:13:06.255Z"
   },
   {
    "duration": -24,
    "start_time": "2022-02-05T13:13:06.261Z"
   },
   {
    "duration": -26,
    "start_time": "2022-02-05T13:13:06.265Z"
   },
   {
    "duration": -30,
    "start_time": "2022-02-05T13:13:06.270Z"
   },
   {
    "duration": -33,
    "start_time": "2022-02-05T13:13:06.275Z"
   },
   {
    "duration": -36,
    "start_time": "2022-02-05T13:13:06.279Z"
   },
   {
    "duration": -40,
    "start_time": "2022-02-05T13:13:06.284Z"
   },
   {
    "duration": -42,
    "start_time": "2022-02-05T13:13:06.288Z"
   },
   {
    "duration": -45,
    "start_time": "2022-02-05T13:13:06.293Z"
   },
   {
    "duration": -49,
    "start_time": "2022-02-05T13:13:06.298Z"
   },
   {
    "duration": 10,
    "start_time": "2022-02-05T13:14:41.301Z"
   },
   {
    "duration": 305,
    "start_time": "2022-02-05T13:31:08.932Z"
   },
   {
    "duration": 604,
    "start_time": "2022-02-05T13:31:22.322Z"
   },
   {
    "duration": 280,
    "start_time": "2022-02-05T13:34:54.504Z"
   },
   {
    "duration": 921,
    "start_time": "2022-02-05T13:38:05.792Z"
   },
   {
    "duration": 12,
    "start_time": "2022-02-05T13:38:06.715Z"
   },
   {
    "duration": 6,
    "start_time": "2022-02-05T13:38:06.730Z"
   },
   {
    "duration": 34,
    "start_time": "2022-02-05T13:38:06.738Z"
   },
   {
    "duration": 9,
    "start_time": "2022-02-05T13:38:06.774Z"
   },
   {
    "duration": 13,
    "start_time": "2022-02-05T13:38:06.785Z"
   },
   {
    "duration": 6,
    "start_time": "2022-02-05T13:38:06.802Z"
   },
   {
    "duration": 72,
    "start_time": "2022-02-05T13:38:06.812Z"
   },
   {
    "duration": 10,
    "start_time": "2022-02-05T13:38:06.887Z"
   },
   {
    "duration": 12,
    "start_time": "2022-02-05T13:38:06.899Z"
   },
   {
    "duration": 14,
    "start_time": "2022-02-05T13:38:06.913Z"
   },
   {
    "duration": 52,
    "start_time": "2022-02-05T13:38:06.930Z"
   },
   {
    "duration": 14,
    "start_time": "2022-02-05T13:38:06.985Z"
   },
   {
    "duration": 18,
    "start_time": "2022-02-05T13:38:07.002Z"
   },
   {
    "duration": 64,
    "start_time": "2022-02-05T13:38:07.023Z"
   },
   {
    "duration": 12,
    "start_time": "2022-02-05T13:38:07.090Z"
   },
   {
    "duration": 16,
    "start_time": "2022-02-05T13:38:07.104Z"
   },
   {
    "duration": 1064,
    "start_time": "2022-02-05T13:38:07.123Z"
   },
   {
    "duration": 559,
    "start_time": "2022-02-05T13:38:08.189Z"
   },
   {
    "duration": 227,
    "start_time": "2022-02-05T13:38:08.751Z"
   },
   {
    "duration": 12,
    "start_time": "2022-02-05T13:38:08.980Z"
   },
   {
    "duration": 430,
    "start_time": "2022-02-05T13:38:08.995Z"
   },
   {
    "duration": 417,
    "start_time": "2022-02-05T13:38:09.431Z"
   },
   {
    "duration": 257,
    "start_time": "2022-02-05T13:38:09.852Z"
   },
   {
    "duration": 11,
    "start_time": "2022-02-05T13:38:10.111Z"
   },
   {
    "duration": 417,
    "start_time": "2022-02-05T13:38:10.124Z"
   },
   {
    "duration": 342,
    "start_time": "2022-02-05T13:38:10.544Z"
   },
   {
    "duration": 270,
    "start_time": "2022-02-05T13:38:10.889Z"
   },
   {
    "duration": 357,
    "start_time": "2022-02-05T13:38:11.161Z"
   },
   {
    "duration": 333,
    "start_time": "2022-02-05T13:38:11.521Z"
   },
   {
    "duration": 20,
    "start_time": "2022-02-05T13:38:11.857Z"
   },
   {
    "duration": 337,
    "start_time": "2022-02-05T13:38:11.880Z"
   },
   {
    "duration": 443,
    "start_time": "2022-02-05T13:38:12.220Z"
   },
   {
    "duration": 238,
    "start_time": "2022-02-05T13:38:12.669Z"
   },
   {
    "duration": 12,
    "start_time": "2022-02-05T13:38:12.910Z"
   },
   {
    "duration": 723,
    "start_time": "2022-02-05T13:38:12.925Z"
   },
   {
    "duration": 6,
    "start_time": "2022-02-05T13:38:13.651Z"
   },
   {
    "duration": 719,
    "start_time": "2022-02-05T13:38:13.670Z"
   },
   {
    "duration": 6,
    "start_time": "2022-02-05T13:38:14.391Z"
   },
   {
    "duration": 547,
    "start_time": "2022-02-05T13:38:14.399Z"
   },
   {
    "duration": 723,
    "start_time": "2022-02-05T13:38:14.949Z"
   },
   {
    "duration": 5,
    "start_time": "2022-02-05T13:38:15.675Z"
   },
   {
    "duration": 241,
    "start_time": "2022-02-05T13:38:15.683Z"
   },
   {
    "duration": 779,
    "start_time": "2022-02-05T13:38:15.926Z"
   },
   {
    "duration": 6,
    "start_time": "2022-02-05T13:38:16.707Z"
   },
   {
    "duration": 784,
    "start_time": "2022-02-05T13:38:16.715Z"
   },
   {
    "duration": 6,
    "start_time": "2022-02-05T13:38:17.501Z"
   },
   {
    "duration": 681,
    "start_time": "2022-02-05T13:38:17.509Z"
   },
   {
    "duration": 6,
    "start_time": "2022-02-05T13:38:18.193Z"
   },
   {
    "duration": 29,
    "start_time": "2022-02-05T13:38:18.201Z"
   },
   {
    "duration": 1742,
    "start_time": "2022-02-05T13:38:18.232Z"
   },
   {
    "duration": 278,
    "start_time": "2022-02-05T13:38:19.977Z"
   },
   {
    "duration": 13,
    "start_time": "2022-02-05T13:38:20.257Z"
   },
   {
    "duration": 22,
    "start_time": "2022-02-05T13:38:20.273Z"
   },
   {
    "duration": 10,
    "start_time": "2022-02-05T13:38:20.297Z"
   },
   {
    "duration": 424,
    "start_time": "2022-02-05T13:38:20.310Z"
   },
   {
    "duration": -518,
    "start_time": "2022-02-05T13:38:21.254Z"
   },
   {
    "duration": -521,
    "start_time": "2022-02-05T13:38:21.259Z"
   },
   {
    "duration": -538,
    "start_time": "2022-02-05T13:38:21.278Z"
   },
   {
    "duration": -543,
    "start_time": "2022-02-05T13:38:21.284Z"
   },
   {
    "duration": -547,
    "start_time": "2022-02-05T13:38:21.289Z"
   },
   {
    "duration": -551,
    "start_time": "2022-02-05T13:38:21.294Z"
   },
   {
    "duration": -531,
    "start_time": "2022-02-05T13:38:21.300Z"
   },
   {
    "duration": -533,
    "start_time": "2022-02-05T13:38:21.304Z"
   },
   {
    "duration": -537,
    "start_time": "2022-02-05T13:38:21.309Z"
   },
   {
    "duration": -539,
    "start_time": "2022-02-05T13:38:21.313Z"
   },
   {
    "duration": -543,
    "start_time": "2022-02-05T13:38:21.318Z"
   },
   {
    "duration": 5,
    "start_time": "2022-02-05T13:42:04.497Z"
   },
   {
    "duration": 363,
    "start_time": "2022-02-05T13:42:12.479Z"
   },
   {
    "duration": 940,
    "start_time": "2022-02-05T13:42:21.922Z"
   },
   {
    "duration": 15,
    "start_time": "2022-02-05T13:42:22.865Z"
   },
   {
    "duration": 9,
    "start_time": "2022-02-05T13:42:22.884Z"
   },
   {
    "duration": 14,
    "start_time": "2022-02-05T13:42:22.896Z"
   },
   {
    "duration": 12,
    "start_time": "2022-02-05T13:42:22.913Z"
   },
   {
    "duration": 53,
    "start_time": "2022-02-05T13:42:22.927Z"
   },
   {
    "duration": 23,
    "start_time": "2022-02-05T13:42:22.982Z"
   },
   {
    "duration": 32,
    "start_time": "2022-02-05T13:42:23.009Z"
   },
   {
    "duration": 29,
    "start_time": "2022-02-05T13:42:23.044Z"
   },
   {
    "duration": 10,
    "start_time": "2022-02-05T13:42:23.076Z"
   },
   {
    "duration": 27,
    "start_time": "2022-02-05T13:42:23.089Z"
   },
   {
    "duration": 14,
    "start_time": "2022-02-05T13:42:23.119Z"
   },
   {
    "duration": 35,
    "start_time": "2022-02-05T13:42:23.136Z"
   },
   {
    "duration": 20,
    "start_time": "2022-02-05T13:42:23.174Z"
   },
   {
    "duration": 37,
    "start_time": "2022-02-05T13:42:23.197Z"
   },
   {
    "duration": 22,
    "start_time": "2022-02-05T13:42:23.236Z"
   },
   {
    "duration": 15,
    "start_time": "2022-02-05T13:42:23.269Z"
   },
   {
    "duration": 1059,
    "start_time": "2022-02-05T13:42:23.287Z"
   },
   {
    "duration": 590,
    "start_time": "2022-02-05T13:42:24.349Z"
   },
   {
    "duration": 229,
    "start_time": "2022-02-05T13:42:24.942Z"
   },
   {
    "duration": 12,
    "start_time": "2022-02-05T13:42:25.174Z"
   },
   {
    "duration": 440,
    "start_time": "2022-02-05T13:42:25.188Z"
   },
   {
    "duration": 412,
    "start_time": "2022-02-05T13:42:25.634Z"
   },
   {
    "duration": 250,
    "start_time": "2022-02-05T13:42:26.049Z"
   },
   {
    "duration": 11,
    "start_time": "2022-02-05T13:42:26.302Z"
   },
   {
    "duration": 428,
    "start_time": "2022-02-05T13:42:26.315Z"
   },
   {
    "duration": 345,
    "start_time": "2022-02-05T13:42:26.745Z"
   },
   {
    "duration": 253,
    "start_time": "2022-02-05T13:42:27.093Z"
   },
   {
    "duration": 367,
    "start_time": "2022-02-05T13:42:27.348Z"
   },
   {
    "duration": 318,
    "start_time": "2022-02-05T13:42:27.718Z"
   },
   {
    "duration": 11,
    "start_time": "2022-02-05T13:42:28.039Z"
   },
   {
    "duration": 438,
    "start_time": "2022-02-05T13:42:28.052Z"
   },
   {
    "duration": 442,
    "start_time": "2022-02-05T13:42:28.493Z"
   },
   {
    "duration": 241,
    "start_time": "2022-02-05T13:42:28.937Z"
   },
   {
    "duration": 12,
    "start_time": "2022-02-05T13:42:29.180Z"
   },
   {
    "duration": 795,
    "start_time": "2022-02-05T13:42:29.195Z"
   },
   {
    "duration": 6,
    "start_time": "2022-02-05T13:42:29.993Z"
   },
   {
    "duration": 700,
    "start_time": "2022-02-05T13:42:30.002Z"
   },
   {
    "duration": 5,
    "start_time": "2022-02-05T13:42:30.705Z"
   },
   {
    "duration": 544,
    "start_time": "2022-02-05T13:42:30.713Z"
   },
   {
    "duration": 699,
    "start_time": "2022-02-05T13:42:31.270Z"
   },
   {
    "duration": 7,
    "start_time": "2022-02-05T13:42:31.972Z"
   },
   {
    "duration": 249,
    "start_time": "2022-02-05T13:42:31.982Z"
   },
   {
    "duration": 700,
    "start_time": "2022-02-05T13:42:32.234Z"
   },
   {
    "duration": 6,
    "start_time": "2022-02-05T13:42:32.936Z"
   },
   {
    "duration": 782,
    "start_time": "2022-02-05T13:42:32.945Z"
   },
   {
    "duration": 6,
    "start_time": "2022-02-05T13:42:33.730Z"
   },
   {
    "duration": 714,
    "start_time": "2022-02-05T13:42:33.738Z"
   },
   {
    "duration": 6,
    "start_time": "2022-02-05T13:42:34.454Z"
   },
   {
    "duration": 28,
    "start_time": "2022-02-05T13:42:34.470Z"
   },
   {
    "duration": 1806,
    "start_time": "2022-02-05T13:42:34.501Z"
   },
   {
    "duration": 295,
    "start_time": "2022-02-05T13:42:36.310Z"
   },
   {
    "duration": 10,
    "start_time": "2022-02-05T13:42:36.607Z"
   },
   {
    "duration": 50,
    "start_time": "2022-02-05T13:42:36.619Z"
   },
   {
    "duration": 9,
    "start_time": "2022-02-05T13:42:36.672Z"
   },
   {
    "duration": 8,
    "start_time": "2022-02-05T13:42:36.684Z"
   },
   {
    "duration": 434,
    "start_time": "2022-02-05T13:42:36.694Z"
   },
   {
    "duration": 592,
    "start_time": "2022-02-05T13:42:37.130Z"
   },
   {
    "duration": 576,
    "start_time": "2022-02-05T13:42:37.725Z"
   },
   {
    "duration": 26,
    "start_time": "2022-02-05T13:42:38.304Z"
   },
   {
    "duration": 1846,
    "start_time": "2022-02-05T13:42:38.333Z"
   },
   {
    "duration": 642,
    "start_time": "2022-02-05T13:42:40.181Z"
   },
   {
    "duration": 7,
    "start_time": "2022-02-05T13:42:40.825Z"
   },
   {
    "duration": 425,
    "start_time": "2022-02-05T13:42:40.834Z"
   },
   {
    "duration": 332,
    "start_time": "2022-02-05T13:42:41.262Z"
   },
   {
    "duration": 606,
    "start_time": "2022-02-05T13:42:41.596Z"
   },
   {
    "duration": 335,
    "start_time": "2022-02-05T13:42:42.205Z"
   },
   {
    "duration": 416,
    "start_time": "2022-02-05T14:02:21.603Z"
   },
   {
    "duration": 277,
    "start_time": "2022-02-05T14:02:56.945Z"
   },
   {
    "duration": 914,
    "start_time": "2022-02-05T14:12:25.703Z"
   },
   {
    "duration": 13,
    "start_time": "2022-02-05T14:12:26.619Z"
   },
   {
    "duration": 6,
    "start_time": "2022-02-05T14:12:26.635Z"
   },
   {
    "duration": 34,
    "start_time": "2022-02-05T14:12:26.644Z"
   },
   {
    "duration": 7,
    "start_time": "2022-02-05T14:12:26.681Z"
   },
   {
    "duration": 12,
    "start_time": "2022-02-05T14:12:26.691Z"
   },
   {
    "duration": 6,
    "start_time": "2022-02-05T14:12:26.705Z"
   },
   {
    "duration": 76,
    "start_time": "2022-02-05T14:12:26.714Z"
   },
   {
    "duration": 9,
    "start_time": "2022-02-05T14:12:26.793Z"
   },
   {
    "duration": 8,
    "start_time": "2022-02-05T14:12:26.804Z"
   },
   {
    "duration": 11,
    "start_time": "2022-02-05T14:12:26.815Z"
   },
   {
    "duration": 44,
    "start_time": "2022-02-05T14:12:26.828Z"
   },
   {
    "duration": 14,
    "start_time": "2022-02-05T14:12:26.874Z"
   },
   {
    "duration": 17,
    "start_time": "2022-02-05T14:12:26.891Z"
   },
   {
    "duration": 65,
    "start_time": "2022-02-05T14:12:26.912Z"
   },
   {
    "duration": 14,
    "start_time": "2022-02-05T14:12:26.979Z"
   },
   {
    "duration": 17,
    "start_time": "2022-02-05T14:12:26.996Z"
   },
   {
    "duration": 1077,
    "start_time": "2022-02-05T14:12:27.016Z"
   },
   {
    "duration": 573,
    "start_time": "2022-02-05T14:12:28.096Z"
   },
   {
    "duration": 226,
    "start_time": "2022-02-05T14:12:28.671Z"
   },
   {
    "duration": 14,
    "start_time": "2022-02-05T14:12:28.899Z"
   },
   {
    "duration": 432,
    "start_time": "2022-02-05T14:12:28.915Z"
   },
   {
    "duration": 532,
    "start_time": "2022-02-05T14:12:29.353Z"
   },
   {
    "duration": 251,
    "start_time": "2022-02-05T14:12:29.889Z"
   },
   {
    "duration": 10,
    "start_time": "2022-02-05T14:12:30.143Z"
   },
   {
    "duration": 519,
    "start_time": "2022-02-05T14:12:30.155Z"
   },
   {
    "duration": 345,
    "start_time": "2022-02-05T14:12:30.677Z"
   },
   {
    "duration": 253,
    "start_time": "2022-02-05T14:12:31.024Z"
   },
   {
    "duration": 349,
    "start_time": "2022-02-05T14:12:31.279Z"
   },
   {
    "duration": 309,
    "start_time": "2022-02-05T14:12:31.631Z"
   },
   {
    "duration": 26,
    "start_time": "2022-02-05T14:12:31.943Z"
   },
   {
    "duration": 338,
    "start_time": "2022-02-05T14:12:31.972Z"
   },
   {
    "duration": 438,
    "start_time": "2022-02-05T14:12:32.312Z"
   },
   {
    "duration": 240,
    "start_time": "2022-02-05T14:12:32.753Z"
   },
   {
    "duration": 12,
    "start_time": "2022-02-05T14:12:32.996Z"
   },
   {
    "duration": 723,
    "start_time": "2022-02-05T14:12:33.010Z"
   },
   {
    "duration": 6,
    "start_time": "2022-02-05T14:12:33.736Z"
   },
   {
    "duration": 727,
    "start_time": "2022-02-05T14:12:33.745Z"
   },
   {
    "duration": 6,
    "start_time": "2022-02-05T14:12:34.475Z"
   },
   {
    "duration": 538,
    "start_time": "2022-02-05T14:12:34.483Z"
   },
   {
    "duration": 712,
    "start_time": "2022-02-05T14:12:35.024Z"
   },
   {
    "duration": 6,
    "start_time": "2022-02-05T14:12:35.739Z"
   },
   {
    "duration": 345,
    "start_time": "2022-02-05T14:12:35.747Z"
   },
   {
    "duration": 696,
    "start_time": "2022-02-05T14:12:36.094Z"
   },
   {
    "duration": 5,
    "start_time": "2022-02-05T14:12:36.793Z"
   },
   {
    "duration": 786,
    "start_time": "2022-02-05T14:12:36.800Z"
   },
   {
    "duration": 6,
    "start_time": "2022-02-05T14:12:37.588Z"
   },
   {
    "duration": 842,
    "start_time": "2022-02-05T14:12:37.596Z"
   },
   {
    "duration": 6,
    "start_time": "2022-02-05T14:12:38.440Z"
   },
   {
    "duration": 42,
    "start_time": "2022-02-05T14:12:38.448Z"
   },
   {
    "duration": 1866,
    "start_time": "2022-02-05T14:12:38.493Z"
   },
   {
    "duration": 285,
    "start_time": "2022-02-05T14:12:40.370Z"
   },
   {
    "duration": 15,
    "start_time": "2022-02-05T14:12:40.658Z"
   },
   {
    "duration": 26,
    "start_time": "2022-02-05T14:12:40.675Z"
   },
   {
    "duration": 9,
    "start_time": "2022-02-05T14:12:40.704Z"
   },
   {
    "duration": 6,
    "start_time": "2022-02-05T14:12:40.716Z"
   },
   {
    "duration": 463,
    "start_time": "2022-02-05T14:12:40.724Z"
   },
   {
    "duration": 292,
    "start_time": "2022-02-05T14:12:41.189Z"
   },
   {
    "duration": 597,
    "start_time": "2022-02-05T14:12:41.483Z"
   },
   {
    "duration": 605,
    "start_time": "2022-02-05T14:12:42.083Z"
   },
   {
    "duration": 27,
    "start_time": "2022-02-05T14:12:42.691Z"
   },
   {
    "duration": 1626,
    "start_time": "2022-02-05T14:12:42.720Z"
   },
   {
    "duration": 623,
    "start_time": "2022-02-05T14:12:44.348Z"
   },
   {
    "duration": 7,
    "start_time": "2022-02-05T14:12:44.973Z"
   },
   {
    "duration": 423,
    "start_time": "2022-02-05T14:12:44.982Z"
   },
   {
    "duration": 329,
    "start_time": "2022-02-05T14:12:45.407Z"
   },
   {
    "duration": 576,
    "start_time": "2022-02-05T14:12:45.738Z"
   },
   {
    "duration": 317,
    "start_time": "2022-02-05T14:12:46.321Z"
   },
   {
    "duration": 11,
    "start_time": "2022-02-05T14:20:21.994Z"
   },
   {
    "duration": 492,
    "start_time": "2022-02-05T14:21:16.308Z"
   },
   {
    "duration": 303,
    "start_time": "2022-02-05T14:21:57.840Z"
   },
   {
    "duration": 399,
    "start_time": "2022-02-05T14:23:01.689Z"
   },
   {
    "duration": 12,
    "start_time": "2022-02-05T14:23:19.917Z"
   },
   {
    "duration": 101,
    "start_time": "2022-02-05T14:24:13.256Z"
   },
   {
    "duration": 364,
    "start_time": "2022-02-05T14:24:28.356Z"
   },
   {
    "duration": 17,
    "start_time": "2022-02-05T14:26:35.648Z"
   },
   {
    "duration": 20,
    "start_time": "2022-02-05T14:26:49.690Z"
   },
   {
    "duration": 22,
    "start_time": "2022-02-05T14:27:22.674Z"
   },
   {
    "duration": 23,
    "start_time": "2022-02-05T14:28:00.257Z"
   },
   {
    "duration": 27,
    "start_time": "2022-02-05T14:28:11.658Z"
   },
   {
    "duration": 27,
    "start_time": "2022-02-05T14:28:32.970Z"
   },
   {
    "duration": 329,
    "start_time": "2022-02-05T14:34:28.371Z"
   },
   {
    "duration": 329,
    "start_time": "2022-02-05T14:34:32.826Z"
   },
   {
    "duration": 107,
    "start_time": "2022-02-05T14:34:43.978Z"
   },
   {
    "duration": 21,
    "start_time": "2022-02-05T14:42:55.953Z"
   },
   {
    "duration": 22,
    "start_time": "2022-02-05T14:43:05.857Z"
   },
   {
    "duration": 455,
    "start_time": "2022-02-05T14:44:04.834Z"
   },
   {
    "duration": 324,
    "start_time": "2022-02-05T15:13:34.986Z"
   },
   {
    "duration": 27,
    "start_time": "2022-02-05T15:13:45.462Z"
   },
   {
    "duration": 26,
    "start_time": "2022-02-05T15:14:32.898Z"
   },
   {
    "duration": 33,
    "start_time": "2022-02-05T15:15:30.700Z"
   },
   {
    "duration": 525,
    "start_time": "2022-02-05T15:16:06.116Z"
   },
   {
    "duration": 11,
    "start_time": "2022-02-05T15:16:48.737Z"
   },
   {
    "duration": 12,
    "start_time": "2022-02-05T15:18:23.257Z"
   },
   {
    "duration": 15,
    "start_time": "2022-02-05T15:18:37.987Z"
   },
   {
    "duration": 13,
    "start_time": "2022-02-05T15:19:21.849Z"
   },
   {
    "duration": 57,
    "start_time": "2022-02-05T15:27:46.260Z"
   },
   {
    "duration": 961,
    "start_time": "2022-02-05T15:29:25.674Z"
   },
   {
    "duration": 12,
    "start_time": "2022-02-05T15:29:26.638Z"
   },
   {
    "duration": 19,
    "start_time": "2022-02-05T15:29:26.653Z"
   },
   {
    "duration": 11,
    "start_time": "2022-02-05T15:29:26.675Z"
   },
   {
    "duration": 7,
    "start_time": "2022-02-05T15:29:26.687Z"
   },
   {
    "duration": 11,
    "start_time": "2022-02-05T15:29:26.697Z"
   },
   {
    "duration": 5,
    "start_time": "2022-02-05T15:29:26.711Z"
   },
   {
    "duration": 73,
    "start_time": "2022-02-05T15:29:26.720Z"
   },
   {
    "duration": 8,
    "start_time": "2022-02-05T15:29:26.797Z"
   },
   {
    "duration": 8,
    "start_time": "2022-02-05T15:29:26.807Z"
   },
   {
    "duration": 11,
    "start_time": "2022-02-05T15:29:26.818Z"
   },
   {
    "duration": 12,
    "start_time": "2022-02-05T15:29:26.870Z"
   },
   {
    "duration": 15,
    "start_time": "2022-02-05T15:29:26.884Z"
   },
   {
    "duration": 16,
    "start_time": "2022-02-05T15:29:26.901Z"
   },
   {
    "duration": 19,
    "start_time": "2022-02-05T15:29:26.919Z"
   },
   {
    "duration": 13,
    "start_time": "2022-02-05T15:29:26.970Z"
   },
   {
    "duration": 13,
    "start_time": "2022-02-05T15:29:26.985Z"
   },
   {
    "duration": 1043,
    "start_time": "2022-02-05T15:29:27.001Z"
   },
   {
    "duration": 560,
    "start_time": "2022-02-05T15:29:28.046Z"
   },
   {
    "duration": 236,
    "start_time": "2022-02-05T15:29:28.608Z"
   },
   {
    "duration": 12,
    "start_time": "2022-02-05T15:29:28.846Z"
   },
   {
    "duration": 426,
    "start_time": "2022-02-05T15:29:28.861Z"
   },
   {
    "duration": 455,
    "start_time": "2022-02-05T15:29:29.297Z"
   },
   {
    "duration": 255,
    "start_time": "2022-02-05T15:29:29.755Z"
   },
   {
    "duration": 12,
    "start_time": "2022-02-05T15:29:30.013Z"
   },
   {
    "duration": 445,
    "start_time": "2022-02-05T15:29:30.027Z"
   },
   {
    "duration": 344,
    "start_time": "2022-02-05T15:29:30.475Z"
   },
   {
    "duration": 303,
    "start_time": "2022-02-05T15:29:30.822Z"
   },
   {
    "duration": 365,
    "start_time": "2022-02-05T15:29:31.128Z"
   },
   {
    "duration": 333,
    "start_time": "2022-02-05T15:29:31.496Z"
   },
   {
    "duration": 11,
    "start_time": "2022-02-05T15:29:31.831Z"
   },
   {
    "duration": 333,
    "start_time": "2022-02-05T15:29:31.844Z"
   },
   {
    "duration": 462,
    "start_time": "2022-02-05T15:29:32.179Z"
   },
   {
    "duration": 233,
    "start_time": "2022-02-05T15:29:32.643Z"
   },
   {
    "duration": 13,
    "start_time": "2022-02-05T15:29:32.879Z"
   },
   {
    "duration": 706,
    "start_time": "2022-02-05T15:29:32.894Z"
   },
   {
    "duration": 6,
    "start_time": "2022-02-05T15:29:33.603Z"
   },
   {
    "duration": 684,
    "start_time": "2022-02-05T15:29:33.611Z"
   },
   {
    "duration": 5,
    "start_time": "2022-02-05T15:29:34.297Z"
   },
   {
    "duration": 532,
    "start_time": "2022-02-05T15:29:34.305Z"
   },
   {
    "duration": 730,
    "start_time": "2022-02-05T15:29:34.839Z"
   },
   {
    "duration": 6,
    "start_time": "2022-02-05T15:29:35.571Z"
   },
   {
    "duration": 250,
    "start_time": "2022-02-05T15:29:35.579Z"
   },
   {
    "duration": 683,
    "start_time": "2022-02-05T15:29:35.831Z"
   },
   {
    "duration": 7,
    "start_time": "2022-02-05T15:29:36.517Z"
   },
   {
    "duration": 783,
    "start_time": "2022-02-05T15:29:36.527Z"
   },
   {
    "duration": 6,
    "start_time": "2022-02-05T15:29:37.312Z"
   },
   {
    "duration": 693,
    "start_time": "2022-02-05T15:29:37.320Z"
   },
   {
    "duration": 6,
    "start_time": "2022-02-05T15:29:38.015Z"
   },
   {
    "duration": 48,
    "start_time": "2022-02-05T15:29:38.024Z"
   },
   {
    "duration": 1851,
    "start_time": "2022-02-05T15:29:38.075Z"
   },
   {
    "duration": 295,
    "start_time": "2022-02-05T15:29:39.928Z"
   },
   {
    "duration": 9,
    "start_time": "2022-02-05T15:29:40.225Z"
   },
   {
    "duration": 77,
    "start_time": "2022-02-05T15:29:40.237Z"
   },
   {
    "duration": 24,
    "start_time": "2022-02-05T15:29:40.316Z"
   },
   {
    "duration": 28,
    "start_time": "2022-02-05T15:29:40.343Z"
   },
   {
    "duration": 6,
    "start_time": "2022-02-05T15:29:40.373Z"
   },
   {
    "duration": 383,
    "start_time": "2022-02-05T15:29:40.381Z"
   },
   {
    "duration": 290,
    "start_time": "2022-02-05T15:29:40.769Z"
   },
   {
    "duration": 614,
    "start_time": "2022-02-05T15:29:41.061Z"
   },
   {
    "duration": 576,
    "start_time": "2022-02-05T15:29:41.678Z"
   },
   {
    "duration": 34,
    "start_time": "2022-02-05T15:29:42.257Z"
   },
   {
    "duration": 1657,
    "start_time": "2022-02-05T15:29:42.294Z"
   },
   {
    "duration": 616,
    "start_time": "2022-02-05T15:29:43.953Z"
   },
   {
    "duration": 7,
    "start_time": "2022-02-05T15:29:44.572Z"
   },
   {
    "duration": 424,
    "start_time": "2022-02-05T15:29:44.582Z"
   },
   {
    "duration": 339,
    "start_time": "2022-02-05T15:29:45.009Z"
   },
   {
    "duration": 560,
    "start_time": "2022-02-05T15:29:45.355Z"
   },
   {
    "duration": 315,
    "start_time": "2022-02-05T15:29:45.918Z"
   },
   {
    "duration": 1008,
    "start_time": "2022-02-05T15:46:55.748Z"
   },
   {
    "duration": 24,
    "start_time": "2022-02-05T15:46:56.759Z"
   },
   {
    "duration": 8,
    "start_time": "2022-02-05T15:46:56.787Z"
   },
   {
    "duration": 20,
    "start_time": "2022-02-05T15:46:56.798Z"
   },
   {
    "duration": 10,
    "start_time": "2022-02-05T15:46:56.820Z"
   },
   {
    "duration": 47,
    "start_time": "2022-02-05T15:46:56.832Z"
   },
   {
    "duration": 5,
    "start_time": "2022-02-05T15:46:56.881Z"
   },
   {
    "duration": 27,
    "start_time": "2022-02-05T15:46:56.890Z"
   },
   {
    "duration": 50,
    "start_time": "2022-02-05T15:46:56.921Z"
   },
   {
    "duration": 10,
    "start_time": "2022-02-05T15:46:56.973Z"
   },
   {
    "duration": 12,
    "start_time": "2022-02-05T15:46:56.985Z"
   },
   {
    "duration": 11,
    "start_time": "2022-02-05T15:46:56.999Z"
   },
   {
    "duration": 13,
    "start_time": "2022-02-05T15:46:57.013Z"
   },
   {
    "duration": 51,
    "start_time": "2022-02-05T15:46:57.028Z"
   },
   {
    "duration": 22,
    "start_time": "2022-02-05T15:46:57.081Z"
   },
   {
    "duration": 10,
    "start_time": "2022-02-05T15:46:57.105Z"
   },
   {
    "duration": 13,
    "start_time": "2022-02-05T15:46:57.117Z"
   },
   {
    "duration": 1046,
    "start_time": "2022-02-05T15:46:57.132Z"
   },
   {
    "duration": 571,
    "start_time": "2022-02-05T15:46:58.180Z"
   },
   {
    "duration": 229,
    "start_time": "2022-02-05T15:46:58.754Z"
   },
   {
    "duration": 13,
    "start_time": "2022-02-05T15:46:58.985Z"
   },
   {
    "duration": 456,
    "start_time": "2022-02-05T15:46:59.001Z"
   },
   {
    "duration": 415,
    "start_time": "2022-02-05T15:46:59.474Z"
   },
   {
    "duration": 256,
    "start_time": "2022-02-05T15:46:59.894Z"
   },
   {
    "duration": 21,
    "start_time": "2022-02-05T15:47:00.152Z"
   },
   {
    "duration": 452,
    "start_time": "2022-02-05T15:47:00.176Z"
   },
   {
    "duration": 354,
    "start_time": "2022-02-05T15:47:00.631Z"
   },
   {
    "duration": 253,
    "start_time": "2022-02-05T15:47:00.988Z"
   },
   {
    "duration": 372,
    "start_time": "2022-02-05T15:47:01.243Z"
   },
   {
    "duration": 348,
    "start_time": "2022-02-05T15:47:01.618Z"
   },
   {
    "duration": 14,
    "start_time": "2022-02-05T15:47:01.970Z"
   },
   {
    "duration": 339,
    "start_time": "2022-02-05T15:47:01.987Z"
   },
   {
    "duration": 456,
    "start_time": "2022-02-05T15:47:02.329Z"
   },
   {
    "duration": 238,
    "start_time": "2022-02-05T15:47:02.787Z"
   },
   {
    "duration": 13,
    "start_time": "2022-02-05T15:47:03.027Z"
   },
   {
    "duration": 749,
    "start_time": "2022-02-05T15:47:03.042Z"
   },
   {
    "duration": 6,
    "start_time": "2022-02-05T15:47:03.794Z"
   },
   {
    "duration": 717,
    "start_time": "2022-02-05T15:47:03.802Z"
   },
   {
    "duration": 7,
    "start_time": "2022-02-05T15:47:04.521Z"
   },
   {
    "duration": 544,
    "start_time": "2022-02-05T15:47:04.531Z"
   },
   {
    "duration": 710,
    "start_time": "2022-02-05T15:47:05.077Z"
   },
   {
    "duration": 5,
    "start_time": "2022-02-05T15:47:05.790Z"
   },
   {
    "duration": 256,
    "start_time": "2022-02-05T15:47:05.798Z"
   },
   {
    "duration": 719,
    "start_time": "2022-02-05T15:47:06.056Z"
   },
   {
    "duration": 6,
    "start_time": "2022-02-05T15:47:06.777Z"
   },
   {
    "duration": 784,
    "start_time": "2022-02-05T15:47:06.785Z"
   },
   {
    "duration": 6,
    "start_time": "2022-02-05T15:47:07.572Z"
   },
   {
    "duration": 708,
    "start_time": "2022-02-05T15:47:07.580Z"
   },
   {
    "duration": 6,
    "start_time": "2022-02-05T15:47:08.290Z"
   },
   {
    "duration": 27,
    "start_time": "2022-02-05T15:47:08.298Z"
   },
   {
    "duration": 1884,
    "start_time": "2022-02-05T15:47:08.327Z"
   },
   {
    "duration": 290,
    "start_time": "2022-02-05T15:47:10.213Z"
   },
   {
    "duration": 9,
    "start_time": "2022-02-05T15:47:10.505Z"
   },
   {
    "duration": 81,
    "start_time": "2022-02-05T15:47:10.517Z"
   },
   {
    "duration": 24,
    "start_time": "2022-02-05T15:47:10.600Z"
   },
   {
    "duration": 10,
    "start_time": "2022-02-05T15:47:10.626Z"
   },
   {
    "duration": 33,
    "start_time": "2022-02-05T15:47:10.639Z"
   },
   {
    "duration": 381,
    "start_time": "2022-02-05T15:47:10.675Z"
   },
   {
    "duration": 301,
    "start_time": "2022-02-05T15:47:11.059Z"
   },
   {
    "duration": 826,
    "start_time": "2022-02-05T15:47:11.363Z"
   },
   {
    "duration": 604,
    "start_time": "2022-02-05T15:47:12.192Z"
   },
   {
    "duration": 26,
    "start_time": "2022-02-05T15:47:12.798Z"
   },
   {
    "duration": 2098,
    "start_time": "2022-02-05T15:47:12.827Z"
   },
   {
    "duration": 628,
    "start_time": "2022-02-05T15:47:14.928Z"
   },
   {
    "duration": 14,
    "start_time": "2022-02-05T15:47:15.559Z"
   },
   {
    "duration": 417,
    "start_time": "2022-02-05T15:47:15.576Z"
   },
   {
    "duration": 381,
    "start_time": "2022-02-05T15:47:15.996Z"
   },
   {
    "duration": 633,
    "start_time": "2022-02-05T15:47:16.385Z"
   },
   {
    "duration": 323,
    "start_time": "2022-02-05T15:47:17.021Z"
   },
   {
    "duration": 9,
    "start_time": "2022-02-05T16:25:24.760Z"
   },
   {
    "duration": 6,
    "start_time": "2022-02-05T16:25:32.122Z"
   },
   {
    "duration": 388,
    "start_time": "2022-02-05T16:26:20.154Z"
   },
   {
    "duration": 34,
    "start_time": "2022-02-05T16:26:30.765Z"
   },
   {
    "duration": 297,
    "start_time": "2022-02-05T16:26:59.104Z"
   },
   {
    "duration": 20,
    "start_time": "2022-02-05T16:27:11.212Z"
   },
   {
    "duration": 308,
    "start_time": "2022-02-05T16:27:28.297Z"
   },
   {
    "duration": 27,
    "start_time": "2022-02-05T16:27:35.736Z"
   },
   {
    "duration": 6,
    "start_time": "2022-02-05T16:28:29.044Z"
   },
   {
    "duration": 9,
    "start_time": "2022-02-05T16:29:22.754Z"
   },
   {
    "duration": 9,
    "start_time": "2022-02-05T16:30:26.225Z"
   },
   {
    "duration": 5,
    "start_time": "2022-02-05T16:30:27.078Z"
   },
   {
    "duration": 21,
    "start_time": "2022-02-05T16:32:23.173Z"
   },
   {
    "duration": 18,
    "start_time": "2022-02-05T16:35:23.974Z"
   },
   {
    "duration": 20,
    "start_time": "2022-02-05T16:35:31.296Z"
   },
   {
    "duration": 750,
    "start_time": "2022-05-20T10:51:56.211Z"
   },
   {
    "duration": 747,
    "start_time": "2022-05-20T10:58:01.251Z"
   },
   {
    "duration": 146,
    "start_time": "2022-05-20T10:58:02.001Z"
   },
   {
    "duration": 10,
    "start_time": "2022-05-20T10:58:02.150Z"
   },
   {
    "duration": 8,
    "start_time": "2022-05-20T10:58:02.162Z"
   },
   {
    "duration": 25,
    "start_time": "2022-05-20T10:58:02.171Z"
   },
   {
    "duration": 13,
    "start_time": "2022-05-20T10:58:02.198Z"
   },
   {
    "duration": 32,
    "start_time": "2022-05-20T10:58:02.213Z"
   },
   {
    "duration": 13,
    "start_time": "2022-05-20T10:58:02.246Z"
   },
   {
    "duration": 32,
    "start_time": "2022-05-20T10:58:02.261Z"
   },
   {
    "duration": 7,
    "start_time": "2022-05-20T10:58:02.296Z"
   },
   {
    "duration": 14,
    "start_time": "2022-05-20T10:58:02.305Z"
   },
   {
    "duration": 20,
    "start_time": "2022-05-20T10:58:02.321Z"
   },
   {
    "duration": 10,
    "start_time": "2022-05-20T10:58:02.343Z"
   },
   {
    "duration": 17,
    "start_time": "2022-05-20T10:58:02.355Z"
   },
   {
    "duration": 35,
    "start_time": "2022-05-20T10:58:02.374Z"
   },
   {
    "duration": 28,
    "start_time": "2022-05-20T10:58:02.411Z"
   },
   {
    "duration": 16,
    "start_time": "2022-05-20T10:58:02.441Z"
   },
   {
    "duration": 17,
    "start_time": "2022-05-20T10:58:02.460Z"
   },
   {
    "duration": 395,
    "start_time": "2022-05-20T10:58:02.479Z"
   },
   {
    "duration": 203,
    "start_time": "2022-05-20T10:58:02.875Z"
   },
   {
    "duration": 141,
    "start_time": "2022-05-20T10:58:03.080Z"
   },
   {
    "duration": 11,
    "start_time": "2022-05-20T10:58:03.223Z"
   },
   {
    "duration": 216,
    "start_time": "2022-05-20T10:58:03.236Z"
   },
   {
    "duration": 203,
    "start_time": "2022-05-20T10:58:03.454Z"
   },
   {
    "duration": 210,
    "start_time": "2022-05-20T10:58:03.658Z"
   },
   {
    "duration": 9,
    "start_time": "2022-05-20T10:58:03.869Z"
   },
   {
    "duration": 215,
    "start_time": "2022-05-20T10:58:03.879Z"
   },
   {
    "duration": 171,
    "start_time": "2022-05-20T10:58:04.098Z"
   },
   {
    "duration": 139,
    "start_time": "2022-05-20T10:58:04.270Z"
   },
   {
    "duration": 178,
    "start_time": "2022-05-20T10:58:04.411Z"
   },
   {
    "duration": 135,
    "start_time": "2022-05-20T10:58:04.591Z"
   },
   {
    "duration": 10,
    "start_time": "2022-05-20T10:58:04.727Z"
   },
   {
    "duration": 175,
    "start_time": "2022-05-20T10:58:04.738Z"
   },
   {
    "duration": 216,
    "start_time": "2022-05-20T10:58:04.915Z"
   },
   {
    "duration": 126,
    "start_time": "2022-05-20T10:58:05.133Z"
   },
   {
    "duration": 10,
    "start_time": "2022-05-20T10:58:05.260Z"
   },
   {
    "duration": 224,
    "start_time": "2022-05-20T10:58:05.272Z"
   },
   {
    "duration": 4,
    "start_time": "2022-05-20T10:58:05.498Z"
   },
   {
    "duration": 301,
    "start_time": "2022-05-20T10:58:05.504Z"
   },
   {
    "duration": 5,
    "start_time": "2022-05-20T10:58:05.807Z"
   },
   {
    "duration": 314,
    "start_time": "2022-05-20T10:58:05.814Z"
   },
   {
    "duration": 240,
    "start_time": "2022-05-20T10:58:06.130Z"
   },
   {
    "duration": 5,
    "start_time": "2022-05-20T10:58:06.372Z"
   },
   {
    "duration": 123,
    "start_time": "2022-05-20T10:58:06.379Z"
   },
   {
    "duration": 204,
    "start_time": "2022-05-20T10:58:06.504Z"
   },
   {
    "duration": 5,
    "start_time": "2022-05-20T10:58:06.710Z"
   },
   {
    "duration": 204,
    "start_time": "2022-05-20T10:58:06.716Z"
   },
   {
    "duration": 5,
    "start_time": "2022-05-20T10:58:06.922Z"
   },
   {
    "duration": 216,
    "start_time": "2022-05-20T10:58:06.929Z"
   },
   {
    "duration": 5,
    "start_time": "2022-05-20T10:58:07.147Z"
   },
   {
    "duration": 22,
    "start_time": "2022-05-20T10:58:07.153Z"
   },
   {
    "duration": 740,
    "start_time": "2022-05-20T10:58:07.177Z"
   },
   {
    "duration": 257,
    "start_time": "2022-05-20T10:58:07.919Z"
   },
   {
    "duration": 7,
    "start_time": "2022-05-20T10:58:08.178Z"
   },
   {
    "duration": 50,
    "start_time": "2022-05-20T10:58:08.187Z"
   },
   {
    "duration": 19,
    "start_time": "2022-05-20T10:58:08.239Z"
   },
   {
    "duration": 57,
    "start_time": "2022-05-20T10:58:08.260Z"
   },
   {
    "duration": 8,
    "start_time": "2022-05-20T10:58:08.319Z"
   },
   {
    "duration": 9,
    "start_time": "2022-05-20T10:58:08.329Z"
   },
   {
    "duration": 201,
    "start_time": "2022-05-20T10:58:08.340Z"
   },
   {
    "duration": 162,
    "start_time": "2022-05-20T10:58:08.543Z"
   },
   {
    "duration": 218,
    "start_time": "2022-05-20T10:58:08.707Z"
   },
   {
    "duration": 235,
    "start_time": "2022-05-20T10:58:08.927Z"
   },
   {
    "duration": 36,
    "start_time": "2022-05-20T10:58:09.165Z"
   },
   {
    "duration": 673,
    "start_time": "2022-05-20T10:58:09.203Z"
   },
   {
    "duration": 226,
    "start_time": "2022-05-20T10:58:09.878Z"
   },
   {
    "duration": 5,
    "start_time": "2022-05-20T10:58:10.106Z"
   },
   {
    "duration": 207,
    "start_time": "2022-05-20T10:58:10.113Z"
   },
   {
    "duration": 172,
    "start_time": "2022-05-20T10:58:10.322Z"
   },
   {
    "duration": 331,
    "start_time": "2022-05-20T10:58:10.497Z"
   },
   {
    "duration": 157,
    "start_time": "2022-05-20T10:58:10.830Z"
   }
  ],
  "kernelspec": {
   "display_name": "Python 3 (ipykernel)",
   "language": "python",
   "name": "python3"
  },
  "language_info": {
   "codemirror_mode": {
    "name": "ipython",
    "version": 3
   },
   "file_extension": ".py",
   "mimetype": "text/x-python",
   "name": "python",
   "nbconvert_exporter": "python",
   "pygments_lexer": "ipython3",
   "version": "3.9.7"
  },
  "toc": {
   "base_numbering": 1,
   "nav_menu": {},
   "number_sections": true,
   "sideBar": true,
   "skip_h1_title": true,
   "title_cell": "Содержание",
   "title_sidebar": "Contents",
   "toc_cell": true,
   "toc_position": {
    "height": "calc(100% - 180px)",
    "left": "10px",
    "top": "150px",
    "width": "165px"
   },
   "toc_section_display": true,
   "toc_window_display": true
  }
 },
 "nbformat": 4,
 "nbformat_minor": 2
}
